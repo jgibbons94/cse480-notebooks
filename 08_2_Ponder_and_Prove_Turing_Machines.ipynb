{
  "nbformat": 4,
  "nbformat_minor": 0,
  "metadata": {
    "colab": {
      "name": "08_2_Ponder_and_Prove_Turing_Machines.ipynb",
      "provenance": [],
      "include_colab_link": true
    },
    "kernelspec": {
      "name": "python3",
      "display_name": "Python 3"
    },
    "widgets": {
      "application/vnd.jupyter.widget-state+json": {
        "e99840a5e8944a999d5dcf92b2ef16ee": {
          "model_module": "@jupyter-widgets/controls",
          "model_name": "VBoxModel",
          "state": {
            "_view_name": "VBoxView",
            "_dom_classes": [],
            "_model_name": "VBoxModel",
            "_view_module": "@jupyter-widgets/controls",
            "_model_module_version": "1.5.0",
            "_view_count": null,
            "_view_module_version": "1.5.0",
            "box_style": "",
            "layout": "IPY_MODEL_76df5166dd2d4a64b7ad277756109900",
            "_model_module": "@jupyter-widgets/controls",
            "children": [
              "IPY_MODEL_9717dbcaad764987b66bea9bf683476b",
              "IPY_MODEL_79c44f4821e84165b0704b5c12a3dc9c",
              "IPY_MODEL_64c356feebe341d4b8bb41cecd033769",
              "IPY_MODEL_788dd173ae614119bcc7e1667cd5451b",
              "IPY_MODEL_1ece2a60d3b041c391a208bba030ae3f",
              "IPY_MODEL_e5cab057a0c74b2b80794fa899a7f037"
            ]
          }
        },
        "76df5166dd2d4a64b7ad277756109900": {
          "model_module": "@jupyter-widgets/base",
          "model_name": "LayoutModel",
          "state": {
            "_view_name": "LayoutView",
            "grid_template_rows": null,
            "right": null,
            "justify_content": null,
            "_view_module": "@jupyter-widgets/base",
            "overflow": null,
            "_model_module_version": "1.2.0",
            "_view_count": null,
            "flex_flow": null,
            "width": null,
            "min_width": null,
            "border": null,
            "align_items": null,
            "bottom": null,
            "_model_module": "@jupyter-widgets/base",
            "top": null,
            "grid_column": null,
            "overflow_y": null,
            "overflow_x": null,
            "grid_auto_flow": null,
            "grid_area": null,
            "grid_template_columns": null,
            "flex": null,
            "_model_name": "LayoutModel",
            "justify_items": null,
            "grid_row": null,
            "max_height": null,
            "align_content": null,
            "visibility": null,
            "align_self": null,
            "height": null,
            "min_height": null,
            "padding": null,
            "grid_auto_rows": null,
            "grid_gap": null,
            "max_width": null,
            "order": null,
            "_view_module_version": "1.2.0",
            "grid_template_areas": null,
            "object_position": null,
            "object_fit": null,
            "grid_auto_columns": null,
            "margin": null,
            "display": null,
            "left": null
          }
        },
        "9717dbcaad764987b66bea9bf683476b": {
          "model_module": "@jupyter-widgets/controls",
          "model_name": "HBoxModel",
          "state": {
            "_view_name": "HBoxView",
            "_dom_classes": [],
            "_model_name": "HBoxModel",
            "_view_module": "@jupyter-widgets/controls",
            "_model_module_version": "1.5.0",
            "_view_count": null,
            "_view_module_version": "1.5.0",
            "box_style": "",
            "layout": "IPY_MODEL_317eede3001d472ba61431fb0142c055",
            "_model_module": "@jupyter-widgets/controls",
            "children": [
              "IPY_MODEL_9b521b2c67e64c2aa895268e2b9a303f",
              "IPY_MODEL_9772aceb5b084e9d979b4547850f720a",
              "IPY_MODEL_6b12c7ff2b904eeda85befe92ac4f4c6"
            ]
          }
        },
        "79c44f4821e84165b0704b5c12a3dc9c": {
          "model_module": "@jupyter-widgets/output",
          "model_name": "OutputModel",
          "state": {
            "_view_name": "OutputView",
            "msg_id": "",
            "_dom_classes": [],
            "_model_name": "OutputModel",
            "outputs": [],
            "_view_module": "@jupyter-widgets/output",
            "_model_module_version": "1.0.0",
            "_view_count": null,
            "_view_module_version": "1.0.0",
            "layout": "IPY_MODEL_39b75d64a3db4f57b0d7854391ac5966",
            "_model_module": "@jupyter-widgets/output"
          }
        },
        "64c356feebe341d4b8bb41cecd033769": {
          "model_module": "@jupyter-widgets/controls",
          "model_name": "HBoxModel",
          "state": {
            "_view_name": "HBoxView",
            "_dom_classes": [],
            "_model_name": "HBoxModel",
            "_view_module": "@jupyter-widgets/controls",
            "_model_module_version": "1.5.0",
            "_view_count": null,
            "_view_module_version": "1.5.0",
            "box_style": "",
            "layout": "IPY_MODEL_80c30182d79144c086d08396fa18940d",
            "_model_module": "@jupyter-widgets/controls",
            "children": [
              "IPY_MODEL_cf6928fe32514c05b20379a852822aa5"
            ]
          }
        },
        "788dd173ae614119bcc7e1667cd5451b": {
          "model_module": "@jupyter-widgets/controls",
          "model_name": "HBoxModel",
          "state": {
            "_view_name": "HBoxView",
            "_dom_classes": [],
            "_model_name": "HBoxModel",
            "_view_module": "@jupyter-widgets/controls",
            "_model_module_version": "1.5.0",
            "_view_count": null,
            "_view_module_version": "1.5.0",
            "box_style": "",
            "layout": "IPY_MODEL_730cf4df4bc7417ea744a855175262db",
            "_model_module": "@jupyter-widgets/controls",
            "children": [
              "IPY_MODEL_faff7c67dafc41e2bf3b3a5d55cb24f8"
            ]
          }
        },
        "1ece2a60d3b041c391a208bba030ae3f": {
          "model_module": "@jupyter-widgets/controls",
          "model_name": "HBoxModel",
          "state": {
            "_view_name": "HBoxView",
            "_dom_classes": [],
            "_model_name": "HBoxModel",
            "_view_module": "@jupyter-widgets/controls",
            "_model_module_version": "1.5.0",
            "_view_count": null,
            "_view_module_version": "1.5.0",
            "box_style": "",
            "layout": "IPY_MODEL_d5c21c57079e45b09003f42a375ac9c2",
            "_model_module": "@jupyter-widgets/controls",
            "children": [
              "IPY_MODEL_4c3826915be24151855202c0d9118772",
              "IPY_MODEL_1996ee74b8fe4cab8f34842b8166b153",
              "IPY_MODEL_217c58f335324dfebaa2b1259f23e287",
              "IPY_MODEL_755e471d330a4b608b354ae0cf3f930d",
              "IPY_MODEL_fe95ba0ae6654d79820b33534513edfe"
            ]
          }
        },
        "e5cab057a0c74b2b80794fa899a7f037": {
          "model_module": "@jupyter-widgets/output",
          "model_name": "OutputModel",
          "state": {
            "_view_name": "OutputView",
            "msg_id": "",
            "_dom_classes": [],
            "_model_name": "OutputModel",
            "outputs": [],
            "_view_module": "@jupyter-widgets/output",
            "_model_module_version": "1.0.0",
            "_view_count": null,
            "_view_module_version": "1.0.0",
            "layout": "IPY_MODEL_e1c7063072364ce1a9e98003abb852fb",
            "_model_module": "@jupyter-widgets/output"
          }
        },
        "317eede3001d472ba61431fb0142c055": {
          "model_module": "@jupyter-widgets/base",
          "model_name": "LayoutModel",
          "state": {
            "_view_name": "LayoutView",
            "grid_template_rows": null,
            "right": null,
            "justify_content": null,
            "_view_module": "@jupyter-widgets/base",
            "overflow": null,
            "_model_module_version": "1.2.0",
            "_view_count": null,
            "flex_flow": null,
            "width": null,
            "min_width": null,
            "border": null,
            "align_items": null,
            "bottom": null,
            "_model_module": "@jupyter-widgets/base",
            "top": null,
            "grid_column": null,
            "overflow_y": null,
            "overflow_x": null,
            "grid_auto_flow": null,
            "grid_area": null,
            "grid_template_columns": null,
            "flex": null,
            "_model_name": "LayoutModel",
            "justify_items": null,
            "grid_row": null,
            "max_height": null,
            "align_content": null,
            "visibility": null,
            "align_self": null,
            "height": null,
            "min_height": null,
            "padding": null,
            "grid_auto_rows": null,
            "grid_gap": null,
            "max_width": null,
            "order": null,
            "_view_module_version": "1.2.0",
            "grid_template_areas": null,
            "object_position": null,
            "object_fit": null,
            "grid_auto_columns": null,
            "margin": null,
            "display": null,
            "left": null
          }
        },
        "9b521b2c67e64c2aa895268e2b9a303f": {
          "model_module": "@jupyter-widgets/controls",
          "model_name": "TextModel",
          "state": {
            "_view_name": "TextView",
            "style": "IPY_MODEL_afcfaf4e46514b7aa1b944cf9ebd58db",
            "_dom_classes": [],
            "description": "Input:",
            "_model_name": "TextModel",
            "placeholder": "Sigma: {a,b}",
            "_view_module": "@jupyter-widgets/controls",
            "_model_module_version": "1.5.0",
            "value": "",
            "_view_count": null,
            "disabled": false,
            "_view_module_version": "1.5.0",
            "continuous_update": true,
            "description_tooltip": null,
            "_model_module": "@jupyter-widgets/controls",
            "layout": "IPY_MODEL_92d852d4547241269bed525f550aa0a0"
          }
        },
        "9772aceb5b084e9d979b4547850f720a": {
          "model_module": "@jupyter-widgets/controls",
          "model_name": "BoundedIntTextModel",
          "state": {
            "_view_name": "IntTextView",
            "style": "IPY_MODEL_1629f51eb76e4b7ba6365ab60fe7c005",
            "_dom_classes": [],
            "description": "Fuel:",
            "_model_name": "BoundedIntTextModel",
            "max": 1000,
            "_view_module": "@jupyter-widgets/controls",
            "_model_module_version": "1.5.0",
            "value": 10,
            "_view_count": null,
            "disabled": false,
            "_view_module_version": "1.5.0",
            "min": 0,
            "continuous_update": false,
            "step": 1,
            "description_tooltip": null,
            "_model_module": "@jupyter-widgets/controls",
            "layout": "IPY_MODEL_e0801493a1494ee59db40e967af6ca7d"
          }
        },
        "6b12c7ff2b904eeda85befe92ac4f4c6": {
          "model_module": "@jupyter-widgets/controls",
          "model_name": "ButtonModel",
          "state": {
            "_view_name": "ButtonView",
            "style": "IPY_MODEL_aee1c36c3168497bb876f5f081ed3f65",
            "_dom_classes": [],
            "description": "Animate",
            "_model_name": "ButtonModel",
            "button_style": "primary",
            "_view_module": "@jupyter-widgets/controls",
            "_model_module_version": "1.5.0",
            "tooltip": "",
            "_view_count": null,
            "disabled": false,
            "_view_module_version": "1.5.0",
            "layout": "IPY_MODEL_07e6cb83b837422aa10a46caa3c6eb76",
            "_model_module": "@jupyter-widgets/controls",
            "icon": ""
          }
        },
        "80c30182d79144c086d08396fa18940d": {
          "model_module": "@jupyter-widgets/base",
          "model_name": "LayoutModel",
          "state": {
            "_view_name": "LayoutView",
            "grid_template_rows": null,
            "right": null,
            "justify_content": null,
            "_view_module": "@jupyter-widgets/base",
            "overflow": null,
            "_model_module_version": "1.2.0",
            "_view_count": null,
            "flex_flow": null,
            "width": null,
            "min_width": null,
            "border": null,
            "align_items": null,
            "bottom": null,
            "_model_module": "@jupyter-widgets/base",
            "top": null,
            "grid_column": null,
            "overflow_y": null,
            "overflow_x": null,
            "grid_auto_flow": null,
            "grid_area": null,
            "grid_template_columns": null,
            "flex": null,
            "_model_name": "LayoutModel",
            "justify_items": null,
            "grid_row": null,
            "max_height": null,
            "align_content": null,
            "visibility": null,
            "align_self": null,
            "height": null,
            "min_height": null,
            "padding": null,
            "grid_auto_rows": null,
            "grid_gap": null,
            "max_width": null,
            "order": null,
            "_view_module_version": "1.2.0",
            "grid_template_areas": null,
            "object_position": null,
            "object_fit": null,
            "grid_auto_columns": null,
            "margin": null,
            "display": null,
            "left": null
          }
        },
        "cf6928fe32514c05b20379a852822aa5": {
          "model_module": "@jupyter-widgets/output",
          "model_name": "OutputModel",
          "state": {
            "_view_name": "OutputView",
            "msg_id": "",
            "_dom_classes": [],
            "_model_name": "OutputModel",
            "outputs": [
              {
                "output_type": "display_data",
                "metadata": {
                  "tags": []
                },
                "text/plain": "<graphviz.files.Source at 0x7efe1d0d0ad0>",
                "image/svg+xml": "<?xml version=\"1.0\" encoding=\"UTF-8\" standalone=\"no\"?>\n<!DOCTYPE svg PUBLIC \"-//W3C//DTD SVG 1.1//EN\"\n \"http://www.w3.org/Graphics/SVG/1.1/DTD/svg11.dtd\">\n<!-- Generated by graphviz version 2.40.1 (20161225.0304)\n -->\n<!-- Title: %3 Pages: 1 -->\n<svg width=\"720pt\" height=\"179pt\"\n viewBox=\"0.00 0.00 720.00 178.71\" xmlns=\"http://www.w3.org/2000/svg\" xmlns:xlink=\"http://www.w3.org/1999/xlink\">\n<g id=\"graph0\" class=\"graph\" transform=\"scale(.5557 .5557) rotate(0) translate(4 317.5963)\">\n<title>%3</title>\n<polygon fill=\"#ffffff\" stroke=\"transparent\" points=\"-4,4 -4,-317.5963 1291.6586,-317.5963 1291.6586,4 -4,4\"/>\n<!-- EMPTY -->\n<g id=\"node1\" class=\"node\">\n<title>EMPTY</title>\n</g>\n<!-- Iq0 -->\n<g id=\"node9\" class=\"node\">\n<title>Iq0</title>\n<ellipse fill=\"none\" stroke=\"#000000\" cx=\"114.3979\" cy=\"-43.7982\" rx=\"23.2963\" ry=\"23.2963\"/>\n<text text-anchor=\"middle\" x=\"114.3979\" y=\"-40.0982\" font-family=\"Times,serif\" font-size=\"14.00\" fill=\"#000000\">Iq0</text>\n</g>\n<!-- EMPTY&#45;&gt;Iq0 -->\n<g id=\"edge1\" class=\"edge\">\n<title>EMPTY&#45;&gt;Iq0</title>\n<path fill=\"none\" stroke=\"#000000\" d=\"M54.1742,-43.7982C62.5103,-43.7982 71.7873,-43.7982 80.5137,-43.7982\"/>\n<polygon fill=\"#000000\" stroke=\"#000000\" points=\"80.7846,-47.2983 90.7846,-43.7982 80.7845,-40.2983 80.7846,-47.2983\"/>\n</g>\n<!-- cut1 -->\n<g id=\"node2\" class=\"node\">\n<title>cut1</title>\n<ellipse fill=\"none\" stroke=\"#000000\" cx=\"620.9314\" cy=\"-113.7982\" rx=\"26.7961\" ry=\"26.7961\"/>\n<text text-anchor=\"middle\" x=\"620.9314\" y=\"-110.0982\" font-family=\"Times,serif\" font-size=\"14.00\" fill=\"#000000\">cut1</text>\n</g>\n<!-- qx -->\n<g id=\"node8\" class=\"node\">\n<title>qx</title>\n<ellipse fill=\"none\" stroke=\"#000000\" cx=\"753.5767\" cy=\"-169.7982\" rx=\"20.5982\" ry=\"20.5982\"/>\n<text text-anchor=\"middle\" x=\"753.5767\" y=\"-166.0982\" font-family=\"Times,serif\" font-size=\"14.00\" fill=\"#000000\">qx</text>\n</g>\n<!-- cut1&#45;&gt;qx -->\n<g id=\"edge10\" class=\"edge\">\n<title>cut1&#45;&gt;qx</title>\n<path fill=\"none\" stroke=\"#000000\" d=\"M647.4502,-116.7305C664.6389,-119.349 687.1721,-124.1603 705.579,-132.7982 714.2049,-136.846 722.7346,-142.6604 730.1565,-148.4848\"/>\n<polygon fill=\"#000000\" stroke=\"#000000\" points=\"728.3637,-151.544 738.2999,-155.2215 732.8257,-146.1504 728.3637,-151.544\"/>\n<text text-anchor=\"start\" x=\"666.579\" y=\"-151.5982\" font-family=\"Times,serif\" font-size=\"14.00\" fill=\"#000000\"> a ; .,L</text>\n<text text-anchor=\"start\" x=\"665.579\" y=\"-136.5982\" font-family=\"Times,serif\" font-size=\"14.00\" fill=\"#000000\"> b ; .,L</text>\n</g>\n<!-- F10 -->\n<g id=\"node13\" class=\"node\">\n<title>F10</title>\n<ellipse fill=\"none\" stroke=\"#000000\" cx=\"753.5767\" cy=\"-93.7982\" rx=\"25.9957\" ry=\"25.9957\"/>\n<ellipse fill=\"none\" stroke=\"#000000\" cx=\"753.5767\" cy=\"-93.7982\" rx=\"29.9954\" ry=\"29.9954\"/>\n<text text-anchor=\"middle\" x=\"753.5767\" y=\"-90.0982\" font-family=\"Times,serif\" font-size=\"14.00\" fill=\"#000000\">F10</text>\n</g>\n<!-- cut1&#45;&gt;F10 -->\n<g id=\"edge11\" class=\"edge\">\n<title>cut1&#45;&gt;F10</title>\n<path fill=\"none\" stroke=\"#000000\" d=\"M644.9339,-101.5608C651.4661,-98.7967 658.6537,-96.2515 665.579,-94.7982 681.0083,-91.5603 698.2962,-90.7701 713.4377,-90.9806\"/>\n<polygon fill=\"#000000\" stroke=\"#000000\" points=\"713.4323,-94.4817 723.5281,-91.2683 713.6319,-87.4846 713.4323,-94.4817\"/>\n<text text-anchor=\"start\" x=\"668.079\" y=\"-98.5982\" font-family=\"Times,serif\" font-size=\"14.00\" fill=\"#000000\"> . ; .,S</text>\n</g>\n<!-- cut0 -->\n<g id=\"node3\" class=\"node\">\n<title>cut0</title>\n<ellipse fill=\"none\" stroke=\"#000000\" cx=\"495.6361\" cy=\"-173.7982\" rx=\"26.7961\" ry=\"26.7961\"/>\n<text text-anchor=\"middle\" x=\"495.6361\" y=\"-170.0982\" font-family=\"Times,serif\" font-size=\"14.00\" fill=\"#000000\">cut0</text>\n</g>\n<!-- cut0&#45;&gt;cut1 -->\n<g id=\"edge9\" class=\"edge\">\n<title>cut0&#45;&gt;cut1</title>\n<path fill=\"none\" stroke=\"#000000\" d=\"M518.4985,-159.7287C525.3989,-155.6891 533.0614,-151.4049 540.2837,-147.7982 555.0841,-140.4071 571.8826,-133.153 586.3026,-127.2563\"/>\n<polygon fill=\"#000000\" stroke=\"#000000\" points=\"587.8863,-130.3916 595.8519,-123.4058 585.2685,-123.8995 587.8863,-130.3916\"/>\n<text text-anchor=\"start\" x=\"540.2837\" y=\"-151.5982\" font-family=\"Times,serif\" font-size=\"14.00\" fill=\"#000000\"> . ; .,L</text>\n</g>\n<!-- cut0&#45;&gt;qx -->\n<g id=\"edge8\" class=\"edge\">\n<title>cut0&#45;&gt;qx</title>\n<path fill=\"none\" stroke=\"#000000\" d=\"M522.7527,-173.3776C571.0555,-172.6286 671.691,-171.068 722.6232,-170.2782\"/>\n<polygon fill=\"#000000\" stroke=\"#000000\" points=\"722.756,-173.7766 732.7005,-170.1219 722.6474,-166.7775 722.756,-173.7766\"/>\n<text text-anchor=\"start\" x=\"601.9314\" y=\"-190.5982\" font-family=\"Times,serif\" font-size=\"14.00\" fill=\"#000000\"> a ; .,L</text>\n<text text-anchor=\"start\" x=\"600.9314\" y=\"-175.5982\" font-family=\"Times,serif\" font-size=\"14.00\" fill=\"#000000\"> b ; .,L</text>\n</g>\n<!-- qa -->\n<g id=\"node4\" class=\"node\">\n<title>qa</title>\n<ellipse fill=\"none\" stroke=\"#000000\" cx=\"1009.6678\" cy=\"-231.7982\" rx=\"19.4965\" ry=\"19.4965\"/>\n<text text-anchor=\"middle\" x=\"1009.6678\" y=\"-228.0982\" font-family=\"Times,serif\" font-size=\"14.00\" fill=\"#000000\">qa</text>\n</g>\n<!-- qa&#45;&gt;qa -->\n<g id=\"edge17\" class=\"edge\">\n<title>qa&#45;&gt;qa</title>\n<path fill=\"none\" stroke=\"#000000\" d=\"M998.9624,-248.3766C996.1697,-259.0369 999.7381,-269.2964 1009.6678,-269.2964 1016.3393,-269.2964 1020.1393,-264.6651 1021.0677,-258.3926\"/>\n<polygon fill=\"#000000\" stroke=\"#000000\" points=\"1024.5566,-258.1105 1020.3733,-248.3766 1017.5734,-258.5948 1024.5566,-258.1105\"/>\n<text text-anchor=\"start\" x=\"989.1678\" y=\"-273.0964\" font-family=\"Times,serif\" font-size=\"14.00\" fill=\"#000000\"> a ; a,R</text>\n</g>\n<!-- qb -->\n<g id=\"node10\" class=\"node\">\n<title>qb</title>\n<ellipse fill=\"none\" stroke=\"#000000\" cx=\"1138.2641\" cy=\"-191.7982\" rx=\"20.5982\" ry=\"20.5982\"/>\n<text text-anchor=\"middle\" x=\"1138.2641\" y=\"-188.0982\" font-family=\"Times,serif\" font-size=\"14.00\" fill=\"#000000\">qb</text>\n</g>\n<!-- qa&#45;&gt;qb -->\n<g id=\"edge18\" class=\"edge\">\n<title>qa&#45;&gt;qb</title>\n<path fill=\"none\" stroke=\"#000000\" d=\"M1025.0185,-219.3712C1032.7978,-213.7174 1042.6571,-207.4808 1052.466,-203.7982 1069.792,-197.2933 1090.2841,-194.2693 1106.8959,-192.8827\"/>\n<polygon fill=\"#000000\" stroke=\"#000000\" points=\"1107.4384,-196.3542 1117.1796,-192.1879 1106.9664,-189.3701 1107.4384,-196.3542\"/>\n<text text-anchor=\"start\" x=\"1052.466\" y=\"-207.5982\" font-family=\"Times,serif\" font-size=\"14.00\" fill=\"#000000\"> b ; a,R</text>\n</g>\n<!-- F3 -->\n<g id=\"node15\" class=\"node\">\n<title>F3</title>\n<ellipse fill=\"none\" stroke=\"#000000\" cx=\"1138.2641\" cy=\"-288.7982\" rx=\"20.6302\" ry=\"20.6302\"/>\n<ellipse fill=\"none\" stroke=\"#000000\" cx=\"1138.2641\" cy=\"-288.7982\" rx=\"24.5979\" ry=\"24.5979\"/>\n<text text-anchor=\"middle\" x=\"1138.2641\" y=\"-285.0982\" font-family=\"Times,serif\" font-size=\"14.00\" fill=\"#000000\">F3</text>\n</g>\n<!-- qa&#45;&gt;F3 -->\n<g id=\"edge19\" class=\"edge\">\n<title>qa&#45;&gt;F3</title>\n<path fill=\"none\" stroke=\"#000000\" d=\"M1027.5486,-239.7238C1047.7759,-248.6895 1081.1262,-263.4719 1105.9466,-274.4735\"/>\n<polygon fill=\"#000000\" stroke=\"#000000\" points=\"1104.7688,-277.7798 1115.3293,-278.6323 1107.6054,-271.3803 1104.7688,-277.7798\"/>\n<text text-anchor=\"start\" x=\"1055.466\" y=\"-271.5982\" font-family=\"Times,serif\" font-size=\"14.00\" fill=\"#000000\"> . ; a,S</text>\n</g>\n<!-- q1 -->\n<g id=\"node5\" class=\"node\">\n<title>q1</title>\n<ellipse fill=\"none\" stroke=\"#000000\" cx=\"242.594\" cy=\"-88.7982\" rx=\"20.5982\" ry=\"20.5982\"/>\n<text text-anchor=\"middle\" x=\"242.594\" y=\"-85.0982\" font-family=\"Times,serif\" font-size=\"14.00\" fill=\"#000000\">q1</text>\n</g>\n<!-- q1&#45;&gt;cut1 -->\n<g id=\"edge5\" class=\"edge\">\n<title>q1&#45;&gt;cut1</title>\n<path fill=\"none\" stroke=\"#000000\" d=\"M263.4701,-88.2825C284.6194,-87.7877 318.2776,-87.0759 347.3922,-86.7982 365.8786,-86.6218 370.5322,-85.7275 388.9885,-86.7982 458.4505,-90.8275 539.027,-101.59 584.5932,-108.2463\"/>\n<polygon fill=\"#000000\" stroke=\"#000000\" points=\"584.1781,-111.7229 594.5822,-109.7219 585.2011,-104.798 584.1781,-111.7229\"/>\n<text text-anchor=\"start\" x=\"410.9885\" y=\"-94.5982\" font-family=\"Times,serif\" font-size=\"14.00\" fill=\"#000000\"> . ; .,L</text>\n</g>\n<!-- q2 -->\n<g id=\"node6\" class=\"node\">\n<title>q2</title>\n<ellipse fill=\"none\" stroke=\"#000000\" cx=\"368.1903\" cy=\"-116.7982\" rx=\"20.5982\" ry=\"20.5982\"/>\n<text text-anchor=\"middle\" x=\"368.1903\" y=\"-113.0982\" font-family=\"Times,serif\" font-size=\"14.00\" fill=\"#000000\">q2</text>\n</g>\n<!-- q1&#45;&gt;q2 -->\n<g id=\"edge4\" class=\"edge\">\n<title>q1&#45;&gt;q2</title>\n<path fill=\"none\" stroke=\"#000000\" d=\"M263.0527,-93.3592C283.3063,-97.8744 314.558,-104.8416 337.7305,-110.0076\"/>\n<polygon fill=\"#000000\" stroke=\"#000000\" points=\"337.2183,-113.4792 347.7403,-112.2391 338.7415,-106.6469 337.2183,-113.4792\"/>\n<text text-anchor=\"start\" x=\"286.8922\" y=\"-125.5982\" font-family=\"Times,serif\" font-size=\"14.00\" fill=\"#000000\"> a ; a,R</text>\n<text text-anchor=\"start\" x=\"285.3922\" y=\"-110.5982\" font-family=\"Times,serif\" font-size=\"14.00\" fill=\"#000000\"> b ; b,R</text>\n</g>\n<!-- q2&#45;&gt;cut1 -->\n<g id=\"edge7\" class=\"edge\">\n<title>q2&#45;&gt;cut1</title>\n<path fill=\"none\" stroke=\"#000000\" d=\"M389.3042,-116.5475C432.237,-116.0379 530.19,-114.8752 583.9411,-114.2372\"/>\n<polygon fill=\"#000000\" stroke=\"#000000\" points=\"584.1148,-117.7355 594.0725,-114.117 584.0317,-110.736 584.1148,-117.7355\"/>\n<text text-anchor=\"start\" x=\"477.6361\" y=\"-118.5982\" font-family=\"Times,serif\" font-size=\"14.00\" fill=\"#000000\"> . ; .,L</text>\n</g>\n<!-- q2&#45;&gt;cut0 -->\n<g id=\"edge6\" class=\"edge\">\n<title>q2&#45;&gt;cut0</title>\n<path fill=\"none\" stroke=\"#000000\" d=\"M387.2702,-125.3316C406.9222,-134.121 437.9582,-148.0018 461.7889,-158.66\"/>\n<polygon fill=\"#000000\" stroke=\"#000000\" points=\"460.6223,-161.9724 471.1799,-162.8602 463.4803,-155.5823 460.6223,-161.9724\"/>\n<text text-anchor=\"start\" x=\"408.4885\" y=\"-171.5982\" font-family=\"Times,serif\" font-size=\"14.00\" fill=\"#000000\"> a ; a,R</text>\n<text text-anchor=\"start\" x=\"406.9885\" y=\"-156.5982\" font-family=\"Times,serif\" font-size=\"14.00\" fill=\"#000000\"> b ; b,R</text>\n</g>\n<!-- shift -->\n<g id=\"node7\" class=\"node\">\n<title>shift</title>\n<ellipse fill=\"none\" stroke=\"#000000\" cx=\"883.222\" cy=\"-169.7982\" rx=\"26.7961\" ry=\"26.7961\"/>\n<text text-anchor=\"middle\" x=\"883.222\" y=\"-166.0982\" font-family=\"Times,serif\" font-size=\"14.00\" fill=\"#000000\">shift</text>\n</g>\n<!-- shift&#45;&gt;qa -->\n<g id=\"edge14\" class=\"edge\">\n<title>shift&#45;&gt;qa</title>\n<path fill=\"none\" stroke=\"#000000\" d=\"M907.3031,-181.6058C928.7749,-192.134 960.1769,-207.5313 982.5306,-218.492\"/>\n<polygon fill=\"#000000\" stroke=\"#000000\" points=\"981.2789,-221.7763 991.7985,-223.0363 984.3607,-215.4912 981.2789,-221.7763\"/>\n<text text-anchor=\"start\" x=\"927.8697\" y=\"-213.5982\" font-family=\"Times,serif\" font-size=\"14.00\" fill=\"#000000\"> a ; .,R</text>\n</g>\n<!-- shift&#45;&gt;qb -->\n<g id=\"edge15\" class=\"edge\">\n<title>shift&#45;&gt;qb</title>\n<path fill=\"none\" stroke=\"#000000\" d=\"M910.034,-172.111C957.6745,-176.2204 1056.8014,-184.7712 1107.2798,-189.1254\"/>\n<polygon fill=\"#000000\" stroke=\"#000000\" points=\"1107.0131,-192.6153 1117.277,-189.9878 1107.6148,-185.6412 1107.0131,-192.6153\"/>\n<text text-anchor=\"start\" x=\"989.6678\" y=\"-185.5982\" font-family=\"Times,serif\" font-size=\"14.00\" fill=\"#000000\"> b ; .,R</text>\n</g>\n<!-- F2 -->\n<g id=\"node12\" class=\"node\">\n<title>F2</title>\n<ellipse fill=\"none\" stroke=\"#000000\" cx=\"1009.6678\" cy=\"-108.7982\" rx=\"20.6302\" ry=\"20.6302\"/>\n<ellipse fill=\"none\" stroke=\"#000000\" cx=\"1009.6678\" cy=\"-108.7982\" rx=\"24.5979\" ry=\"24.5979\"/>\n<text text-anchor=\"middle\" x=\"1009.6678\" y=\"-105.0982\" font-family=\"Times,serif\" font-size=\"14.00\" fill=\"#000000\">F2</text>\n</g>\n<!-- shift&#45;&gt;F2 -->\n<g id=\"edge16\" class=\"edge\">\n<title>shift&#45;&gt;F2</title>\n<path fill=\"none\" stroke=\"#000000\" d=\"M905.4024,-154.1255C912.4119,-149.5212 920.3055,-144.6831 927.8697,-140.7982 943.3364,-132.8543 961.2528,-125.6386 976.3683,-120.0783\"/>\n<polygon fill=\"#000000\" stroke=\"#000000\" points=\"977.6164,-123.349 985.8429,-116.6725 975.2484,-116.7616 977.6164,-123.349\"/>\n<text text-anchor=\"start\" x=\"929.8697\" y=\"-144.5982\" font-family=\"Times,serif\" font-size=\"14.00\" fill=\"#000000\"> . ; .,S</text>\n</g>\n<!-- qx&#45;&gt;shift -->\n<g id=\"edge13\" class=\"edge\">\n<title>qx&#45;&gt;shift</title>\n<path fill=\"none\" stroke=\"#000000\" d=\"M774.4065,-169.7982C793.6485,-169.7982 822.6829,-169.7982 845.9218,-169.7982\"/>\n<polygon fill=\"#000000\" stroke=\"#000000\" points=\"846.1354,-173.2983 856.1354,-169.7982 846.1354,-166.2983 846.1354,-173.2983\"/>\n<text text-anchor=\"start\" x=\"801.5744\" y=\"-173.5982\" font-family=\"Times,serif\" font-size=\"14.00\" fill=\"#000000\"> . ; .,R</text>\n</g>\n<!-- qx&#45;&gt;qx -->\n<g id=\"edge12\" class=\"edge\">\n<title>qx&#45;&gt;qx</title>\n<path fill=\"none\" stroke=\"#000000\" d=\"M742.0748,-187.3546C739.3013,-198.2385 743.1353,-208.5963 753.5767,-208.5963 760.592,-208.5963 764.6246,-203.9206 765.6745,-197.5512\"/>\n<polygon fill=\"#000000\" stroke=\"#000000\" points=\"769.1562,-197.1333 765.0786,-187.3546 762.1681,-197.5418 769.1562,-197.1333\"/>\n<text text-anchor=\"start\" x=\"733.5767\" y=\"-227.3963\" font-family=\"Times,serif\" font-size=\"14.00\" fill=\"#000000\"> a ; a,L</text>\n<text text-anchor=\"start\" x=\"732.0767\" y=\"-212.3963\" font-family=\"Times,serif\" font-size=\"14.00\" fill=\"#000000\"> b ; b,L</text>\n</g>\n<!-- Iq0&#45;&gt;q1 -->\n<g id=\"edge2\" class=\"edge\">\n<title>Iq0&#45;&gt;q1</title>\n<path fill=\"none\" stroke=\"#000000\" d=\"M136.728,-51.6366C157.8493,-59.0507 189.6877,-70.2267 212.9326,-78.3863\"/>\n<polygon fill=\"#000000\" stroke=\"#000000\" points=\"212.0301,-81.7788 222.6249,-81.7885 214.3486,-75.1739 212.0301,-81.7788\"/>\n<text text-anchor=\"start\" x=\"157.2958\" y=\"-91.5982\" font-family=\"Times,serif\" font-size=\"14.00\" fill=\"#000000\"> a ; a,R</text>\n<text text-anchor=\"start\" x=\"155.7958\" y=\"-76.5982\" font-family=\"Times,serif\" font-size=\"14.00\" fill=\"#000000\"> b ; b,R</text>\n</g>\n<!-- F0 -->\n<g id=\"node14\" class=\"node\">\n<title>F0</title>\n<ellipse fill=\"none\" stroke=\"#000000\" cx=\"242.594\" cy=\"-24.7982\" rx=\"20.6302\" ry=\"20.6302\"/>\n<ellipse fill=\"none\" stroke=\"#000000\" cx=\"242.594\" cy=\"-24.7982\" rx=\"24.5979\" ry=\"24.5979\"/>\n<text text-anchor=\"middle\" x=\"242.594\" y=\"-21.0982\" font-family=\"Times,serif\" font-size=\"14.00\" fill=\"#000000\">F0</text>\n</g>\n<!-- Iq0&#45;&gt;F0 -->\n<g id=\"edge3\" class=\"edge\">\n<title>Iq0&#45;&gt;F0</title>\n<path fill=\"none\" stroke=\"#000000\" d=\"M137.6133,-40.3574C157.1719,-37.4586 185.4467,-33.268 207.7261,-29.9659\"/>\n<polygon fill=\"#000000\" stroke=\"#000000\" points=\"208.4229,-33.401 217.8017,-28.4726 207.3966,-26.4766 208.4229,-33.401\"/>\n<text text-anchor=\"start\" x=\"160.2958\" y=\"-41.5982\" font-family=\"Times,serif\" font-size=\"14.00\" fill=\"#000000\"> . ; .,S</text>\n</g>\n<!-- qb&#45;&gt;qa -->\n<g id=\"edge20\" class=\"edge\">\n<title>qb&#45;&gt;qa</title>\n<path fill=\"none\" stroke=\"#000000\" d=\"M1121.6259,-204.5558C1114.0309,-209.766 1104.6865,-215.3634 1095.466,-218.7982 1077.6312,-225.4419 1056.5054,-228.6943 1039.6796,-230.2846\"/>\n<polygon fill=\"#000000\" stroke=\"#000000\" points=\"1039.0123,-226.8266 1029.3214,-231.1086 1039.5674,-233.8045 1039.0123,-226.8266\"/>\n<text text-anchor=\"start\" x=\"1052.466\" y=\"-231.5982\" font-family=\"Times,serif\" font-size=\"14.00\" fill=\"#000000\"> a ; b,R</text>\n</g>\n<!-- qb&#45;&gt;qb -->\n<g id=\"edge21\" class=\"edge\">\n<title>qb&#45;&gt;qb</title>\n<path fill=\"none\" stroke=\"#000000\" d=\"M1127.3657,-209.7575C1124.9438,-220.4926 1128.5766,-230.5963 1138.2641,-230.5963 1144.7729,-230.5963 1148.5485,-226.0353 1149.5909,-219.7863\"/>\n<polygon fill=\"#000000\" stroke=\"#000000\" points=\"1153.0862,-219.5989 1149.1626,-209.7575 1146.0926,-219.8977 1153.0862,-219.5989\"/>\n<text text-anchor=\"start\" x=\"1116.2641\" y=\"-234.3963\" font-family=\"Times,serif\" font-size=\"14.00\" fill=\"#000000\"> b ; b,R</text>\n</g>\n<!-- F4 -->\n<g id=\"node11\" class=\"node\">\n<title>F4</title>\n<ellipse fill=\"none\" stroke=\"#000000\" cx=\"1262.8604\" cy=\"-191.7982\" rx=\"20.6302\" ry=\"20.6302\"/>\n<ellipse fill=\"none\" stroke=\"#000000\" cx=\"1262.8604\" cy=\"-191.7982\" rx=\"24.5979\" ry=\"24.5979\"/>\n<text text-anchor=\"middle\" x=\"1262.8604\" y=\"-188.0982\" font-family=\"Times,serif\" font-size=\"14.00\" fill=\"#000000\">F4</text>\n</g>\n<!-- qb&#45;&gt;F4 -->\n<g id=\"edge22\" class=\"edge\">\n<title>qb&#45;&gt;F4</title>\n<path fill=\"none\" stroke=\"#000000\" d=\"M1159.1188,-191.7982C1177.7779,-191.7982 1205.5149,-191.7982 1227.615,-191.7982\"/>\n<polygon fill=\"#000000\" stroke=\"#000000\" points=\"1227.6325,-195.2983 1237.6324,-191.7982 1227.6324,-188.2983 1227.6325,-195.2983\"/>\n<text text-anchor=\"start\" x=\"1181.0623\" y=\"-195.5982\" font-family=\"Times,serif\" font-size=\"14.00\" fill=\"#000000\"> . ; b,S</text>\n</g>\n</g>\n</svg>\n"
              }
            ],
            "_view_module": "@jupyter-widgets/output",
            "_model_module_version": "1.0.0",
            "_view_count": null,
            "_view_module_version": "1.0.0",
            "layout": "IPY_MODEL_0f2646f5e844465f892ea32f16d9e2da",
            "_model_module": "@jupyter-widgets/output"
          }
        },
        "730cf4df4bc7417ea744a855175262db": {
          "model_module": "@jupyter-widgets/base",
          "model_name": "LayoutModel",
          "state": {
            "_view_name": "LayoutView",
            "grid_template_rows": null,
            "right": null,
            "justify_content": null,
            "_view_module": "@jupyter-widgets/base",
            "overflow": null,
            "_model_module_version": "1.2.0",
            "_view_count": null,
            "flex_flow": null,
            "width": null,
            "min_width": null,
            "border": null,
            "align_items": null,
            "bottom": null,
            "_model_module": "@jupyter-widgets/base",
            "top": null,
            "grid_column": null,
            "overflow_y": null,
            "overflow_x": null,
            "grid_auto_flow": null,
            "grid_area": null,
            "grid_template_columns": null,
            "flex": null,
            "_model_name": "LayoutModel",
            "justify_items": null,
            "grid_row": null,
            "max_height": null,
            "align_content": null,
            "visibility": null,
            "align_self": null,
            "height": null,
            "min_height": null,
            "padding": null,
            "grid_auto_rows": null,
            "grid_gap": null,
            "max_width": null,
            "order": null,
            "_view_module_version": "1.2.0",
            "grid_template_areas": null,
            "object_position": null,
            "object_fit": null,
            "grid_auto_columns": null,
            "margin": null,
            "display": null,
            "left": null
          }
        },
        "faff7c67dafc41e2bf3b3a5d55cb24f8": {
          "model_module": "@jupyter-widgets/output",
          "model_name": "OutputModel",
          "state": {
            "_view_name": "OutputView",
            "msg_id": "",
            "_dom_classes": [],
            "_model_name": "OutputModel",
            "outputs": [
              {
                "output_type": "display_data",
                "metadata": {
                  "tags": []
                },
                "text/plain": "<graphviz.files.Source at 0x7efe1d0d0710>",
                "image/svg+xml": "<?xml version=\"1.0\" encoding=\"UTF-8\" standalone=\"no\"?>\n<!DOCTYPE svg PUBLIC \"-//W3C//DTD SVG 1.1//EN\"\n \"http://www.w3.org/Graphics/SVG/1.1/DTD/svg11.dtd\">\n<!-- Generated by graphviz version 2.40.1 (20161225.0304)\n -->\n<!-- Title: %3 Pages: 1 -->\n<svg width=\"262pt\" height=\"105pt\"\n viewBox=\"0.00 0.00 262.00 105.00\" xmlns=\"http://www.w3.org/2000/svg\" xmlns:xlink=\"http://www.w3.org/1999/xlink\">\n<g id=\"graph0\" class=\"graph\" transform=\"scale(1 1) rotate(0) translate(4 101)\">\n<title>%3</title>\n<polygon fill=\"#ffffff\" stroke=\"transparent\" points=\"-4,4 -4,-101 258,-101 258,4 -4,4\"/>\n<!-- tape -->\n<g id=\"node1\" class=\"node\">\n<title>tape</title>\n<polygon fill=\"none\" stroke=\"#000000\" points=\"22,-3.5 22,-34.5 50,-34.5 50,-3.5 22,-3.5\"/>\n<text text-anchor=\"start\" x=\"34\" y=\"-15.9\" font-family=\"Times,serif\" font-size=\"12.00\" fill=\"#000000\">.</text>\n<polygon fill=\"none\" stroke=\"#000000\" points=\"50,-3.5 50,-34.5 78,-34.5 78,-3.5 50,-3.5\"/>\n<text text-anchor=\"start\" x=\"62\" y=\"-15.9\" font-family=\"Times,serif\" font-size=\"12.00\" fill=\"#000000\">.</text>\n<polygon fill=\"none\" stroke=\"#000000\" points=\"78,-3.5 78,-34.5 106,-34.5 106,-3.5 78,-3.5\"/>\n<text text-anchor=\"start\" x=\"90\" y=\"-15.9\" font-family=\"Times,serif\" font-size=\"12.00\" fill=\"#000000\">.</text>\n<polygon fill=\"none\" stroke=\"#000000\" points=\"106,-3.5 106,-34.5 134,-34.5 134,-3.5 106,-3.5\"/>\n<text text-anchor=\"start\" x=\"118\" y=\"-15.9\" font-family=\"Times,serif\" font-size=\"12.00\" fill=\"#000000\">.</text>\n<polygon fill=\"none\" stroke=\"#000000\" points=\"134,-3.5 134,-34.5 162,-34.5 162,-3.5 134,-3.5\"/>\n<text text-anchor=\"start\" x=\"146\" y=\"-15.9\" font-family=\"Times,serif\" font-size=\"12.00\" fill=\"#000000\">.</text>\n<polygon fill=\"none\" stroke=\"#000000\" points=\"162,-3.5 162,-34.5 190,-34.5 190,-3.5 162,-3.5\"/>\n<text text-anchor=\"start\" x=\"174\" y=\"-15.9\" font-family=\"Times,serif\" font-size=\"12.00\" fill=\"#000000\">.</text>\n<polygon fill=\"none\" stroke=\"#000000\" points=\"190,-3.5 190,-34.5 218,-34.5 218,-3.5 190,-3.5\"/>\n<text text-anchor=\"start\" x=\"202\" y=\"-15.9\" font-family=\"Times,serif\" font-size=\"12.00\" fill=\"#000000\">.</text>\n<polygon fill=\"none\" stroke=\"#000000\" points=\"218,-3.5 218,-34.5 246,-34.5 246,-3.5 218,-3.5\"/>\n<text text-anchor=\"start\" x=\"230\" y=\"-15.9\" font-family=\"Times,serif\" font-size=\"12.00\" fill=\"#000000\">.</text>\n</g>\n<!-- head -->\n<g id=\"node2\" class=\"node\">\n<title>head</title>\n<polygon fill=\"none\" stroke=\"#000000\" points=\"0,-64.2746 36,-47 72,-64.2746 71.9664,-92.2254 .0336,-92.2254 0,-64.2746\"/>\n<text text-anchor=\"start\" x=\"34\" y=\"-75.4\" font-family=\"Times,serif\" font-size=\"12.00\" fill=\"#000000\"> </text>\n<text text-anchor=\"start\" x=\"16\" y=\"-62.4\" font-family=\"Times,serif\" font-size=\"12.00\" fill=\"#000000\">Fuel: 10</text>\n</g>\n<!-- head&#45;&gt;tape -->\n<g id=\"edge1\" class=\"edge\">\n<title>head&#45;&gt;tape:pos</title>\n<path fill=\"none\" stroke=\"#000000\" d=\"M36,-46.9874C36,-45.5539 36,-44.1074 36,-42.6622\"/>\n<polygon fill=\"#000000\" stroke=\"#000000\" points=\"38.8001,-42.5 36,-34.5 33.2001,-42.5 38.8001,-42.5\"/>\n</g>\n</g>\n</svg>\n"
              }
            ],
            "_view_module": "@jupyter-widgets/output",
            "_model_module_version": "1.0.0",
            "_view_count": null,
            "_view_module_version": "1.0.0",
            "layout": "IPY_MODEL_aa5b2a639dc74423962bc07db62cd9a2",
            "_model_module": "@jupyter-widgets/output"
          }
        },
        "d5c21c57079e45b09003f42a375ac9c2": {
          "model_module": "@jupyter-widgets/base",
          "model_name": "LayoutModel",
          "state": {
            "_view_name": "LayoutView",
            "grid_template_rows": null,
            "right": null,
            "justify_content": null,
            "_view_module": "@jupyter-widgets/base",
            "overflow": null,
            "_model_module_version": "1.2.0",
            "_view_count": null,
            "flex_flow": null,
            "width": null,
            "min_width": null,
            "border": null,
            "align_items": null,
            "bottom": null,
            "_model_module": "@jupyter-widgets/base",
            "top": null,
            "grid_column": null,
            "overflow_y": null,
            "overflow_x": null,
            "grid_auto_flow": null,
            "grid_area": null,
            "grid_template_columns": null,
            "flex": null,
            "_model_name": "LayoutModel",
            "justify_items": null,
            "grid_row": null,
            "max_height": null,
            "align_content": null,
            "visibility": null,
            "align_self": null,
            "height": null,
            "min_height": null,
            "padding": null,
            "grid_auto_rows": null,
            "grid_gap": null,
            "max_width": null,
            "order": null,
            "_view_module_version": "1.2.0",
            "grid_template_areas": null,
            "object_position": null,
            "object_fit": null,
            "grid_auto_columns": null,
            "margin": null,
            "display": null,
            "left": null
          }
        },
        "4c3826915be24151855202c0d9118772": {
          "model_module": "@jupyter-widgets/controls",
          "model_name": "DropdownModel",
          "state": {
            "_options_labels": [],
            "_view_name": "DropdownView",
            "style": "IPY_MODEL_4c7d88f17ae1412ab8cef909f625c664",
            "_dom_classes": [],
            "description": "",
            "_model_name": "DropdownModel",
            "index": null,
            "_view_module": "@jupyter-widgets/controls",
            "_model_module_version": "1.5.0",
            "_view_count": null,
            "disabled": true,
            "_view_module_version": "1.5.0",
            "description_tooltip": null,
            "_model_module": "@jupyter-widgets/controls",
            "layout": "IPY_MODEL_d21f86cd399e4c4099bd48063319c4a6"
          }
        },
        "1996ee74b8fe4cab8f34842b8166b153": {
          "model_module": "@jupyter-widgets/controls",
          "model_name": "PlayModel",
          "state": {
            "_view_name": "PlayView",
            "style": "IPY_MODEL_5c64ace4d0544befaac8db87a9e61516",
            "interval": 950,
            "_dom_classes": [],
            "description": "Press play",
            "_model_name": "PlayModel",
            "max": 100,
            "_view_module": "@jupyter-widgets/controls",
            "_model_module_version": "1.5.0",
            "value": 0,
            "_view_count": null,
            "disabled": true,
            "_repeat": false,
            "_view_module_version": "1.5.0",
            "show_repeat": true,
            "min": 0,
            "_playing": false,
            "step": 1,
            "description_tooltip": null,
            "_model_module": "@jupyter-widgets/controls",
            "layout": "IPY_MODEL_5691eb3633aa4a46a617b6d97bfd6ad8"
          }
        },
        "217c58f335324dfebaa2b1259f23e287": {
          "model_module": "@jupyter-widgets/controls",
          "model_name": "ButtonModel",
          "state": {
            "_view_name": "ButtonView",
            "style": "IPY_MODEL_dc66be7413664c76960a2ab147206e14",
            "_dom_classes": [],
            "description": "",
            "_model_name": "ButtonModel",
            "button_style": "",
            "_view_module": "@jupyter-widgets/controls",
            "_model_module_version": "1.5.0",
            "tooltip": "",
            "_view_count": null,
            "disabled": true,
            "_view_module_version": "1.5.0",
            "layout": "IPY_MODEL_35bc8f24b851420fac7cab538e4421e6",
            "_model_module": "@jupyter-widgets/controls",
            "icon": "step-backward"
          }
        },
        "755e471d330a4b608b354ae0cf3f930d": {
          "model_module": "@jupyter-widgets/controls",
          "model_name": "ButtonModel",
          "state": {
            "_view_name": "ButtonView",
            "style": "IPY_MODEL_7820e999192d4e3ca992b779c04cc862",
            "_dom_classes": [],
            "description": "",
            "_model_name": "ButtonModel",
            "button_style": "",
            "_view_module": "@jupyter-widgets/controls",
            "_model_module_version": "1.5.0",
            "tooltip": "",
            "_view_count": null,
            "disabled": true,
            "_view_module_version": "1.5.0",
            "layout": "IPY_MODEL_23e1d50ee4f84b5fb8f888b3ee41d64b",
            "_model_module": "@jupyter-widgets/controls",
            "icon": "step-forward"
          }
        },
        "fe95ba0ae6654d79820b33534513edfe": {
          "model_module": "@jupyter-widgets/controls",
          "model_name": "IntSliderModel",
          "state": {
            "_view_name": "IntSliderView",
            "style": "IPY_MODEL_ee285122e58c4c0bba6ceec0fa7c4f79",
            "_dom_classes": [],
            "description": "Speed:",
            "step": 1,
            "_model_name": "IntSliderModel",
            "orientation": "horizontal",
            "max": 10,
            "_view_module": "@jupyter-widgets/controls",
            "_model_module_version": "1.5.0",
            "value": 1,
            "_view_count": null,
            "disabled": true,
            "_view_module_version": "1.5.0",
            "min": 1,
            "continuous_update": false,
            "readout_format": "d",
            "description_tooltip": null,
            "readout": true,
            "_model_module": "@jupyter-widgets/controls",
            "layout": "IPY_MODEL_6a254464d5e14ffdbcd0f565f8917604"
          }
        },
        "afcfaf4e46514b7aa1b944cf9ebd58db": {
          "model_module": "@jupyter-widgets/controls",
          "model_name": "DescriptionStyleModel",
          "state": {
            "_view_name": "StyleView",
            "_model_name": "DescriptionStyleModel",
            "description_width": "",
            "_view_module": "@jupyter-widgets/base",
            "_model_module_version": "1.5.0",
            "_view_count": null,
            "_view_module_version": "1.2.0",
            "_model_module": "@jupyter-widgets/controls"
          }
        },
        "92d852d4547241269bed525f550aa0a0": {
          "model_module": "@jupyter-widgets/base",
          "model_name": "LayoutModel",
          "state": {
            "_view_name": "LayoutView",
            "grid_template_rows": null,
            "right": null,
            "justify_content": null,
            "_view_module": "@jupyter-widgets/base",
            "overflow": null,
            "_model_module_version": "1.2.0",
            "_view_count": null,
            "flex_flow": null,
            "width": "500px",
            "min_width": null,
            "border": null,
            "align_items": null,
            "bottom": null,
            "_model_module": "@jupyter-widgets/base",
            "top": null,
            "grid_column": null,
            "overflow_y": null,
            "overflow_x": null,
            "grid_auto_flow": null,
            "grid_area": null,
            "grid_template_columns": null,
            "flex": null,
            "_model_name": "LayoutModel",
            "justify_items": null,
            "grid_row": null,
            "max_height": null,
            "align_content": null,
            "visibility": null,
            "align_self": null,
            "height": null,
            "min_height": null,
            "padding": null,
            "grid_auto_rows": null,
            "grid_gap": null,
            "max_width": null,
            "order": null,
            "_view_module_version": "1.2.0",
            "grid_template_areas": null,
            "object_position": null,
            "object_fit": null,
            "grid_auto_columns": null,
            "margin": null,
            "display": null,
            "left": null
          }
        },
        "1629f51eb76e4b7ba6365ab60fe7c005": {
          "model_module": "@jupyter-widgets/controls",
          "model_name": "DescriptionStyleModel",
          "state": {
            "_view_name": "StyleView",
            "_model_name": "DescriptionStyleModel",
            "description_width": "",
            "_view_module": "@jupyter-widgets/base",
            "_model_module_version": "1.5.0",
            "_view_count": null,
            "_view_module_version": "1.2.0",
            "_model_module": "@jupyter-widgets/controls"
          }
        },
        "e0801493a1494ee59db40e967af6ca7d": {
          "model_module": "@jupyter-widgets/base",
          "model_name": "LayoutModel",
          "state": {
            "_view_name": "LayoutView",
            "grid_template_rows": null,
            "right": null,
            "justify_content": null,
            "_view_module": "@jupyter-widgets/base",
            "overflow": null,
            "_model_module_version": "1.2.0",
            "_view_count": null,
            "flex_flow": null,
            "width": "160px",
            "min_width": null,
            "border": null,
            "align_items": null,
            "bottom": null,
            "_model_module": "@jupyter-widgets/base",
            "top": null,
            "grid_column": null,
            "overflow_y": null,
            "overflow_x": null,
            "grid_auto_flow": null,
            "grid_area": null,
            "grid_template_columns": null,
            "flex": null,
            "_model_name": "LayoutModel",
            "justify_items": null,
            "grid_row": null,
            "max_height": null,
            "align_content": null,
            "visibility": null,
            "align_self": null,
            "height": null,
            "min_height": null,
            "padding": null,
            "grid_auto_rows": null,
            "grid_gap": null,
            "max_width": null,
            "order": null,
            "_view_module_version": "1.2.0",
            "grid_template_areas": null,
            "object_position": null,
            "object_fit": null,
            "grid_auto_columns": null,
            "margin": null,
            "display": null,
            "left": null
          }
        },
        "aee1c36c3168497bb876f5f081ed3f65": {
          "model_module": "@jupyter-widgets/controls",
          "model_name": "ButtonStyleModel",
          "state": {
            "_view_name": "StyleView",
            "_model_name": "ButtonStyleModel",
            "_view_module": "@jupyter-widgets/base",
            "_model_module_version": "1.5.0",
            "_view_count": null,
            "button_color": null,
            "font_weight": "",
            "_view_module_version": "1.2.0",
            "_model_module": "@jupyter-widgets/controls"
          }
        },
        "07e6cb83b837422aa10a46caa3c6eb76": {
          "model_module": "@jupyter-widgets/base",
          "model_name": "LayoutModel",
          "state": {
            "_view_name": "LayoutView",
            "grid_template_rows": null,
            "right": null,
            "justify_content": null,
            "_view_module": "@jupyter-widgets/base",
            "overflow": null,
            "_model_module_version": "1.2.0",
            "_view_count": null,
            "flex_flow": null,
            "width": null,
            "min_width": null,
            "border": null,
            "align_items": null,
            "bottom": null,
            "_model_module": "@jupyter-widgets/base",
            "top": null,
            "grid_column": null,
            "overflow_y": null,
            "overflow_x": null,
            "grid_auto_flow": null,
            "grid_area": null,
            "grid_template_columns": null,
            "flex": null,
            "_model_name": "LayoutModel",
            "justify_items": null,
            "grid_row": null,
            "max_height": null,
            "align_content": null,
            "visibility": null,
            "align_self": null,
            "height": null,
            "min_height": null,
            "padding": null,
            "grid_auto_rows": null,
            "grid_gap": null,
            "max_width": null,
            "order": null,
            "_view_module_version": "1.2.0",
            "grid_template_areas": null,
            "object_position": null,
            "object_fit": null,
            "grid_auto_columns": null,
            "margin": null,
            "display": null,
            "left": null
          }
        },
        "4c7d88f17ae1412ab8cef909f625c664": {
          "model_module": "@jupyter-widgets/controls",
          "model_name": "DescriptionStyleModel",
          "state": {
            "_view_name": "StyleView",
            "_model_name": "DescriptionStyleModel",
            "description_width": "",
            "_view_module": "@jupyter-widgets/base",
            "_model_module_version": "1.5.0",
            "_view_count": null,
            "_view_module_version": "1.2.0",
            "_model_module": "@jupyter-widgets/controls"
          }
        },
        "d21f86cd399e4c4099bd48063319c4a6": {
          "model_module": "@jupyter-widgets/base",
          "model_name": "LayoutModel",
          "state": {
            "_view_name": "LayoutView",
            "grid_template_rows": null,
            "right": null,
            "justify_content": null,
            "_view_module": "@jupyter-widgets/base",
            "overflow": null,
            "_model_module_version": "1.2.0",
            "_view_count": null,
            "flex_flow": null,
            "width": "200px",
            "min_width": null,
            "border": null,
            "align_items": null,
            "bottom": null,
            "_model_module": "@jupyter-widgets/base",
            "top": null,
            "grid_column": null,
            "overflow_y": null,
            "overflow_x": null,
            "grid_auto_flow": null,
            "grid_area": null,
            "grid_template_columns": null,
            "flex": null,
            "_model_name": "LayoutModel",
            "justify_items": null,
            "grid_row": null,
            "max_height": null,
            "align_content": null,
            "visibility": null,
            "align_self": null,
            "height": null,
            "min_height": null,
            "padding": null,
            "grid_auto_rows": null,
            "grid_gap": null,
            "max_width": null,
            "order": null,
            "_view_module_version": "1.2.0",
            "grid_template_areas": null,
            "object_position": null,
            "object_fit": null,
            "grid_auto_columns": null,
            "margin": null,
            "display": null,
            "left": null
          }
        },
        "5c64ace4d0544befaac8db87a9e61516": {
          "model_module": "@jupyter-widgets/controls",
          "model_name": "DescriptionStyleModel",
          "state": {
            "_view_name": "StyleView",
            "_model_name": "DescriptionStyleModel",
            "description_width": "",
            "_view_module": "@jupyter-widgets/base",
            "_model_module_version": "1.5.0",
            "_view_count": null,
            "_view_module_version": "1.2.0",
            "_model_module": "@jupyter-widgets/controls"
          }
        },
        "5691eb3633aa4a46a617b6d97bfd6ad8": {
          "model_module": "@jupyter-widgets/base",
          "model_name": "LayoutModel",
          "state": {
            "_view_name": "LayoutView",
            "grid_template_rows": null,
            "right": null,
            "justify_content": null,
            "_view_module": "@jupyter-widgets/base",
            "overflow": null,
            "_model_module_version": "1.2.0",
            "_view_count": null,
            "flex_flow": null,
            "width": null,
            "min_width": null,
            "border": null,
            "align_items": null,
            "bottom": null,
            "_model_module": "@jupyter-widgets/base",
            "top": null,
            "grid_column": null,
            "overflow_y": null,
            "overflow_x": null,
            "grid_auto_flow": null,
            "grid_area": null,
            "grid_template_columns": null,
            "flex": null,
            "_model_name": "LayoutModel",
            "justify_items": null,
            "grid_row": null,
            "max_height": null,
            "align_content": null,
            "visibility": null,
            "align_self": null,
            "height": null,
            "min_height": null,
            "padding": null,
            "grid_auto_rows": null,
            "grid_gap": null,
            "max_width": null,
            "order": null,
            "_view_module_version": "1.2.0",
            "grid_template_areas": null,
            "object_position": null,
            "object_fit": null,
            "grid_auto_columns": null,
            "margin": null,
            "display": null,
            "left": null
          }
        },
        "dc66be7413664c76960a2ab147206e14": {
          "model_module": "@jupyter-widgets/controls",
          "model_name": "ButtonStyleModel",
          "state": {
            "_view_name": "StyleView",
            "_model_name": "ButtonStyleModel",
            "_view_module": "@jupyter-widgets/base",
            "_model_module_version": "1.5.0",
            "_view_count": null,
            "button_color": null,
            "font_weight": "",
            "_view_module_version": "1.2.0",
            "_model_module": "@jupyter-widgets/controls"
          }
        },
        "35bc8f24b851420fac7cab538e4421e6": {
          "model_module": "@jupyter-widgets/base",
          "model_name": "LayoutModel",
          "state": {
            "_view_name": "LayoutView",
            "grid_template_rows": null,
            "right": null,
            "justify_content": null,
            "_view_module": "@jupyter-widgets/base",
            "overflow": null,
            "_model_module_version": "1.2.0",
            "_view_count": null,
            "flex_flow": null,
            "width": "40px",
            "min_width": null,
            "border": null,
            "align_items": null,
            "bottom": null,
            "_model_module": "@jupyter-widgets/base",
            "top": null,
            "grid_column": null,
            "overflow_y": null,
            "overflow_x": null,
            "grid_auto_flow": null,
            "grid_area": null,
            "grid_template_columns": null,
            "flex": null,
            "_model_name": "LayoutModel",
            "justify_items": null,
            "grid_row": null,
            "max_height": null,
            "align_content": null,
            "visibility": null,
            "align_self": null,
            "height": null,
            "min_height": null,
            "padding": null,
            "grid_auto_rows": null,
            "grid_gap": null,
            "max_width": null,
            "order": null,
            "_view_module_version": "1.2.0",
            "grid_template_areas": null,
            "object_position": null,
            "object_fit": null,
            "grid_auto_columns": null,
            "margin": null,
            "display": null,
            "left": null
          }
        },
        "7820e999192d4e3ca992b779c04cc862": {
          "model_module": "@jupyter-widgets/controls",
          "model_name": "ButtonStyleModel",
          "state": {
            "_view_name": "StyleView",
            "_model_name": "ButtonStyleModel",
            "_view_module": "@jupyter-widgets/base",
            "_model_module_version": "1.5.0",
            "_view_count": null,
            "button_color": null,
            "font_weight": "",
            "_view_module_version": "1.2.0",
            "_model_module": "@jupyter-widgets/controls"
          }
        },
        "23e1d50ee4f84b5fb8f888b3ee41d64b": {
          "model_module": "@jupyter-widgets/base",
          "model_name": "LayoutModel",
          "state": {
            "_view_name": "LayoutView",
            "grid_template_rows": null,
            "right": null,
            "justify_content": null,
            "_view_module": "@jupyter-widgets/base",
            "overflow": null,
            "_model_module_version": "1.2.0",
            "_view_count": null,
            "flex_flow": null,
            "width": "40px",
            "min_width": null,
            "border": null,
            "align_items": null,
            "bottom": null,
            "_model_module": "@jupyter-widgets/base",
            "top": null,
            "grid_column": null,
            "overflow_y": null,
            "overflow_x": null,
            "grid_auto_flow": null,
            "grid_area": null,
            "grid_template_columns": null,
            "flex": null,
            "_model_name": "LayoutModel",
            "justify_items": null,
            "grid_row": null,
            "max_height": null,
            "align_content": null,
            "visibility": null,
            "align_self": null,
            "height": null,
            "min_height": null,
            "padding": null,
            "grid_auto_rows": null,
            "grid_gap": null,
            "max_width": null,
            "order": null,
            "_view_module_version": "1.2.0",
            "grid_template_areas": null,
            "object_position": null,
            "object_fit": null,
            "grid_auto_columns": null,
            "margin": null,
            "display": null,
            "left": null
          }
        },
        "ee285122e58c4c0bba6ceec0fa7c4f79": {
          "model_module": "@jupyter-widgets/controls",
          "model_name": "SliderStyleModel",
          "state": {
            "_view_name": "StyleView",
            "handle_color": null,
            "_model_name": "SliderStyleModel",
            "description_width": "",
            "_view_module": "@jupyter-widgets/base",
            "_model_module_version": "1.5.0",
            "_view_count": null,
            "_view_module_version": "1.2.0",
            "_model_module": "@jupyter-widgets/controls"
          }
        },
        "6a254464d5e14ffdbcd0f565f8917604": {
          "model_module": "@jupyter-widgets/base",
          "model_name": "LayoutModel",
          "state": {
            "_view_name": "LayoutView",
            "grid_template_rows": null,
            "right": null,
            "justify_content": null,
            "_view_module": "@jupyter-widgets/base",
            "overflow": null,
            "_model_module_version": "1.2.0",
            "_view_count": null,
            "flex_flow": null,
            "width": null,
            "min_width": null,
            "border": null,
            "align_items": null,
            "bottom": null,
            "_model_module": "@jupyter-widgets/base",
            "top": null,
            "grid_column": null,
            "overflow_y": null,
            "overflow_x": null,
            "grid_auto_flow": null,
            "grid_area": null,
            "grid_template_columns": null,
            "flex": null,
            "_model_name": "LayoutModel",
            "justify_items": null,
            "grid_row": null,
            "max_height": null,
            "align_content": null,
            "visibility": null,
            "align_self": null,
            "height": null,
            "min_height": null,
            "padding": null,
            "grid_auto_rows": null,
            "grid_gap": null,
            "max_width": null,
            "order": null,
            "_view_module_version": "1.2.0",
            "grid_template_areas": null,
            "object_position": null,
            "object_fit": null,
            "grid_auto_columns": null,
            "margin": null,
            "display": null,
            "left": null
          }
        },
        "39b75d64a3db4f57b0d7854391ac5966": {
          "model_module": "@jupyter-widgets/base",
          "model_name": "LayoutModel",
          "state": {
            "_view_name": "LayoutView",
            "grid_template_rows": null,
            "right": null,
            "justify_content": null,
            "_view_module": "@jupyter-widgets/base",
            "overflow": null,
            "_model_module_version": "1.2.0",
            "_view_count": null,
            "flex_flow": null,
            "width": null,
            "min_width": null,
            "border": null,
            "align_items": null,
            "bottom": null,
            "_model_module": "@jupyter-widgets/base",
            "top": null,
            "grid_column": null,
            "overflow_y": null,
            "overflow_x": null,
            "grid_auto_flow": null,
            "grid_area": null,
            "grid_template_columns": null,
            "flex": null,
            "_model_name": "LayoutModel",
            "justify_items": null,
            "grid_row": null,
            "max_height": null,
            "align_content": null,
            "visibility": null,
            "align_self": null,
            "height": null,
            "min_height": null,
            "padding": null,
            "grid_auto_rows": null,
            "grid_gap": null,
            "max_width": null,
            "order": null,
            "_view_module_version": "1.2.0",
            "grid_template_areas": null,
            "object_position": null,
            "object_fit": null,
            "grid_auto_columns": null,
            "margin": null,
            "display": null,
            "left": null
          }
        },
        "e1c7063072364ce1a9e98003abb852fb": {
          "model_module": "@jupyter-widgets/base",
          "model_name": "LayoutModel",
          "state": {
            "_view_name": "LayoutView",
            "grid_template_rows": null,
            "right": null,
            "justify_content": null,
            "_view_module": "@jupyter-widgets/base",
            "overflow": null,
            "_model_module_version": "1.2.0",
            "_view_count": null,
            "flex_flow": null,
            "width": null,
            "min_width": null,
            "border": null,
            "align_items": null,
            "bottom": null,
            "_model_module": "@jupyter-widgets/base",
            "top": null,
            "grid_column": null,
            "overflow_y": null,
            "overflow_x": null,
            "grid_auto_flow": null,
            "grid_area": null,
            "grid_template_columns": null,
            "flex": null,
            "_model_name": "LayoutModel",
            "justify_items": null,
            "grid_row": null,
            "max_height": null,
            "align_content": null,
            "visibility": null,
            "align_self": null,
            "height": null,
            "min_height": null,
            "padding": null,
            "grid_auto_rows": null,
            "grid_gap": null,
            "max_width": null,
            "order": null,
            "_view_module_version": "1.2.0",
            "grid_template_areas": null,
            "object_position": null,
            "object_fit": null,
            "grid_auto_columns": null,
            "margin": null,
            "display": null,
            "left": null
          }
        },
        "0f2646f5e844465f892ea32f16d9e2da": {
          "model_module": "@jupyter-widgets/base",
          "model_name": "LayoutModel",
          "state": {
            "_view_name": "LayoutView",
            "grid_template_rows": null,
            "right": null,
            "justify_content": null,
            "_view_module": "@jupyter-widgets/base",
            "overflow": null,
            "_model_module_version": "1.2.0",
            "_view_count": null,
            "flex_flow": null,
            "width": null,
            "min_width": null,
            "border": null,
            "align_items": null,
            "bottom": null,
            "_model_module": "@jupyter-widgets/base",
            "top": null,
            "grid_column": null,
            "overflow_y": null,
            "overflow_x": null,
            "grid_auto_flow": null,
            "grid_area": null,
            "grid_template_columns": null,
            "flex": null,
            "_model_name": "LayoutModel",
            "justify_items": null,
            "grid_row": null,
            "max_height": null,
            "align_content": null,
            "visibility": null,
            "align_self": null,
            "height": null,
            "min_height": null,
            "padding": null,
            "grid_auto_rows": null,
            "grid_gap": null,
            "max_width": null,
            "order": null,
            "_view_module_version": "1.2.0",
            "grid_template_areas": null,
            "object_position": null,
            "object_fit": null,
            "grid_auto_columns": null,
            "margin": null,
            "display": null,
            "left": null
          }
        },
        "aa5b2a639dc74423962bc07db62cd9a2": {
          "model_module": "@jupyter-widgets/base",
          "model_name": "LayoutModel",
          "state": {
            "_view_name": "LayoutView",
            "grid_template_rows": null,
            "right": null,
            "justify_content": null,
            "_view_module": "@jupyter-widgets/base",
            "overflow": null,
            "_model_module_version": "1.2.0",
            "_view_count": null,
            "flex_flow": null,
            "width": null,
            "min_width": null,
            "border": null,
            "align_items": null,
            "bottom": null,
            "_model_module": "@jupyter-widgets/base",
            "top": null,
            "grid_column": null,
            "overflow_y": null,
            "overflow_x": null,
            "grid_auto_flow": null,
            "grid_area": null,
            "grid_template_columns": null,
            "flex": null,
            "_model_name": "LayoutModel",
            "justify_items": null,
            "grid_row": null,
            "max_height": null,
            "align_content": null,
            "visibility": null,
            "align_self": null,
            "height": null,
            "min_height": null,
            "padding": null,
            "grid_auto_rows": null,
            "grid_gap": null,
            "max_width": null,
            "order": null,
            "_view_module_version": "1.2.0",
            "grid_template_areas": null,
            "object_position": null,
            "object_fit": null,
            "grid_auto_columns": null,
            "margin": null,
            "display": null,
            "left": null
          }
        }
      }
    }
  },
  "cells": [
    {
      "cell_type": "markdown",
      "metadata": {
        "id": "view-in-github",
        "colab_type": "text"
      },
      "source": [
        "<a href=\"https://colab.research.google.com/github/jgibbons94/cse480-notebooks/blob/master/08_2_Ponder_and_Prove_Turing_Machines.ipynb\" target=\"_parent\"><img src=\"https://colab.research.google.com/assets/colab-badge.svg\" alt=\"Open In Colab\"/></a>"
      ]
    },
    {
      "cell_type": "markdown",
      "metadata": {
        "id": "KROWXw9EqAOY"
      },
      "source": [
        "# Ponder and Prove Turing Machines\n",
        "## Due: Saturday, 27 February 2021, 11:59 pm"
      ]
    },
    {
      "cell_type": "markdown",
      "metadata": {
        "id": "uLXu2I4YqK2x"
      },
      "source": [
        "## TODO Study Examples"
      ]
    },
    {
      "cell_type": "markdown",
      "metadata": {
        "id": "m7clQtUHqQDq"
      },
      "source": [
        "In the folders\n",
        "\n",
        "[Jove/For_CS3100_Fall2020/17_DTMs_and_NDTMs](\"https://github.com/ganeshutah/Jove/blob/master/For_CS3100_Fall2020/17_DTMs_and_NDTMs/CH13-Asg8.ipynb\")\n",
        "\n",
        "and \n",
        "\n",
        "[Jove/For_CS3100_Fall2020/18_More_TM_Exs](\"https://github.com/ganeshutah/Jove/blob/master/For_CS3100_Fall2020/18_More_TM_Exs/More_TM_Exs.ipynb\")\n",
        "\n",
        "you will find many examples of Deterministic Turing Machines, and Nondeterministic Turing Machines. Study these carefully!"
      ]
    },
    {
      "cell_type": "markdown",
      "metadata": {
        "id": "ND770ZuCq5kG"
      },
      "source": [
        "## TODO Write a Summary"
      ]
    },
    {
      "cell_type": "markdown",
      "metadata": {
        "id": "MRG7nNwoq_qT"
      },
      "source": [
        "Describe what you learned about TMs of both varieties."
      ]
    },
    {
      "cell_type": "markdown",
      "metadata": {
        "id": "IZv2_MDnrkiY"
      },
      "source": [
        "## DONE Create a DTM to Delete a Character"
      ]
    },
    {
      "cell_type": "code",
      "metadata": {
        "id": "N___s6Qz5shW",
        "outputId": "8f729866-ac3a-4a61-8ee1-a98512cd8fbf",
        "colab": {
          "base_uri": "https://localhost:8080/"
        }
      },
      "source": [
        "#~~~~~~~~~~~~~~~~~~~~~~~~~~~~~~~~~~~~~~~~~~~~~~~~~~~~~~~\r\n",
        "import sys\r\n",
        "\r\n",
        "# -- Detect if in Own Install or in Colab\r\n",
        "try:\r\n",
        "    import google.colab\r\n",
        "    OWN_INSTALL = False\r\n",
        "except:\r\n",
        "    OWN_INSTALL = True\r\n",
        "    \r\n",
        "if OWN_INSTALL:\r\n",
        "    \r\n",
        "  #---- Leave these definitions ON if running on laptop\r\n",
        "  #---- Else turn OFF by putting them between ''' ... '''\r\n",
        "\r\n",
        "  sys.path[0:0] = ['../../../../..',  '../../../../../3rdparty',  \r\n",
        "                   '../../../..',  '../../../../3rdparty',  \r\n",
        "                   '../../..',     '../../../3rdparty', \r\n",
        "                   '../..',        '../../3rdparty',\r\n",
        "                   '..',           '../3rdparty' ]\r\n",
        "\r\n",
        "else: # In colab\r\n",
        "  ! if [ ! -d Jove ]; then git clone https://github.com/ganeshutah/Jove Jove; fi\r\n",
        "  sys.path.append('./Jove')\r\n",
        "  sys.path.append('./Jove/jove')\r\n",
        "\r\n",
        "# -- common imports --\r\n",
        "from jove.Def_TM     import *\r\n",
        "from jove.Def_md2mc  import *\r\n",
        "from jove.DotBashers import *\r\n",
        "from jove.JoveEditor import *\r\n",
        "from jove.AnimateTM import * #-- usage: AnimateTM(whas101DTM, FuseEdges=True)\r\n",
        "#~~~~~~~~~~~~~~~~~~~~~~~~~~~~~~~~~~~~~~~~~~~~~~~~~~~~~~~\r\n"
      ],
      "execution_count": 1,
      "outputs": [
        {
          "output_type": "stream",
          "text": [
            "Cloning into 'Jove'...\n",
            "remote: Enumerating objects: 4634, done.\u001b[K\n",
            "remote: Total 4634 (delta 0), reused 0 (delta 0), pack-reused 4634\u001b[K\n",
            "Receiving objects: 100% (4634/4634), 7.38 MiB | 5.35 MiB/s, done.\n",
            "Resolving deltas: 100% (3005/3005), done.\n",
            "You may use any of these help commands:\n",
            "help(step_tm)\n",
            "help(run_tm)\n",
            "help(explore_tm)\n",
            "\n",
            "You may use any of these help commands:\n",
            "help(md2mc)\n",
            ".. and if you want to dig more, then ..\n",
            "help(default_line_attr)\n",
            "help(length_ok_input_items)\n",
            "help(union_line_attr_list_fld)\n",
            "help(extend_rsltdict)\n",
            "help(form_delta)\n",
            "help(get_machine_components)\n",
            "\n",
            "You may use any of these help commands:\n",
            "help(ResetStNum)\n",
            "help(NxtStateStr)\n",
            "\n",
            " \"help(JoveEditor)\" gives you info on the generic animation panel that animates all machines. \n"
          ],
          "name": "stdout"
        }
      ]
    },
    {
      "cell_type": "markdown",
      "metadata": {
        "id": "8CO727aIrrEi"
      },
      "source": [
        "This task is to delete a character from the tape string. Deleting the current symbol means transforming the tape from $x\\sigma y$ to $xy$ where $\\sigma$ is any symbol, including a blank, and $y$ is a string of nonblank symbols. Assume the input alphabet is $\\{a, b\\}$.\n",
        "\n",
        "HINT: Use a couple of states (labeled $q_a$ and $q_b$, say) for your TM to remember a symbol between the time it is erased and the time it is copied in the next square to the left. (The complete DTM requires about 6 states total, with 12 transitions.)\n"
      ]
    },
    {
      "cell_type": "code",
      "metadata": {
        "id": "LTdNP9jS6GVa",
        "outputId": "bfdde835-90c7-4ed9-e013-d6f355d6ce21",
        "colab": {
          "base_uri": "https://localhost:8080/",
          "height": 469
        }
      },
      "source": [
        "wpw_tm = md2mc(\r\n",
        "'''\r\n",
        "TM \r\n",
        "!!---------------------------------------------------------------------------\r\n",
        "!! For strings length >=4, delete the fourth character, then shift first three\r\n",
        "!! characters 1 cell right\r\n",
        "!! For strings length <4, delete the last character, then shift entire remaining\r\n",
        "!! string 1 cell right.\r\n",
        "!!---------------------------------------------------------------------------\r\n",
        "\r\n",
        "!!---------------------------------------------------------------------------\r\n",
        "!! State : rd ; wr , mv -> tostates !! comment\r\n",
        "!!---------------------------------------------------------------------------\r\n",
        "!!First three states: Iq0, q1, q2 do nothing.\r\n",
        "\r\n",
        "Iq0: a; a, R -> q1\r\n",
        "Iq0: b; b, R -> q1\r\n",
        "Iq0: .; ., S -> F0\r\n",
        "\r\n",
        "q1: a; a, R -> q2\r\n",
        "q1: b; b, R -> q2\r\n",
        "q1: .; ., L -> cut1\r\n",
        "\r\n",
        "q2: a; a, R -> cut0\r\n",
        "q2: b; b, R -> cut0\r\n",
        "q2: .; ., L -> cut1\r\n",
        "\r\n",
        "!! cut: replace with a ., then seek to the beginning (seek0) \r\n",
        "!!cut0 leads to cut1 if the string is length 3\r\n",
        "cut0: a; ., L -> qx\r\n",
        "cut0: b; ., L -> qx\r\n",
        "cut0: .; ., L -> cut1\r\n",
        "\r\n",
        "!!cut1 is for all strings length 3.\r\n",
        "cut1: a; ., L-> qx\r\n",
        "cut1: b; ., L-> qx\r\n",
        "cut1: .; ., S -> F10\r\n",
        "\r\n",
        "qx: a; a, L -> qx\r\n",
        "qx: b; b, L -> qx\r\n",
        "qx: .; ., R -> shift\r\n",
        "\r\n",
        "shift: a; ., R -> qa\r\n",
        "shift: b; ., R -> qb\r\n",
        "shift: .; ., S -> F2\r\n",
        "\r\n",
        "\r\n",
        "qa: a; a, R -> qa\r\n",
        "qa: b; a, R -> qb\r\n",
        "qa: .; a, S -> F3\r\n",
        "\r\n",
        "\r\n",
        "qb: a; b, R -> qa\r\n",
        "qb: b; b, R -> qb\r\n",
        "qb: .; b, S -> F4\r\n",
        "\r\n",
        "\r\n",
        "\r\n",
        "!!---------------------------------------------------------------------------\r\n",
        "!! You may use the line below as an empty shell to populate for your purposes\r\n",
        "!! Also serves as a syntax reminder for entering DFAs.\r\n",
        "!!\r\n",
        "!! State : r1 ; w1 , m1 | r2 ; w2 , m2 -> s1 , s2   !! comment\r\n",
        "!!\r\n",
        "!! ..    : .. ; .. , .. | .. ; .. , .. -> .. , ..  !!  ..\r\n",
        "!!---------------------------------------------------------------------------\r\n",
        "!!---------------------------------------------------------------------------\r\n",
        "\r\n",
        "'''   \r\n",
        "    \r\n",
        ")\r\n",
        "\r\n",
        "dotObj_tm(wpw_tm, FuseEdges = True)\r\n"
      ],
      "execution_count": 34,
      "outputs": [
        {
          "output_type": "execute_result",
          "data": {
            "text/plain": [
              "<graphviz.dot.Digraph at 0x7efe1d1f1550>"
            ],
            "image/svg+xml": "<?xml version=\"1.0\" encoding=\"UTF-8\" standalone=\"no\"?>\n<!DOCTYPE svg PUBLIC \"-//W3C//DTD SVG 1.1//EN\"\n \"http://www.w3.org/Graphics/SVG/1.1/DTD/svg11.dtd\">\n<!-- Generated by graphviz version 2.40.1 (20161225.0304)\n -->\n<!-- Title: %3 Pages: 1 -->\n<svg width=\"1276pt\" height=\"322pt\"\n viewBox=\"0.00 0.00 1275.66 321.60\" xmlns=\"http://www.w3.org/2000/svg\" xmlns:xlink=\"http://www.w3.org/1999/xlink\">\n<g id=\"graph0\" class=\"graph\" transform=\"scale(1 1) rotate(0) translate(4 317.5963)\">\n<title>%3</title>\n<polygon fill=\"#ffffff\" stroke=\"transparent\" points=\"-4,4 -4,-317.5963 1271.6586,-317.5963 1271.6586,4 -4,4\"/>\n<!-- EMPTY -->\n<g id=\"node1\" class=\"node\">\n<title>EMPTY</title>\n</g>\n<!-- Iq0 -->\n<g id=\"node9\" class=\"node\">\n<title>Iq0</title>\n<ellipse fill=\"none\" stroke=\"#000000\" cx=\"114.3979\" cy=\"-43.7982\" rx=\"23.2963\" ry=\"23.2963\"/>\n<text text-anchor=\"middle\" x=\"114.3979\" y=\"-40.0982\" font-family=\"Times,serif\" font-size=\"14.00\" fill=\"#000000\">Iq0</text>\n</g>\n<!-- EMPTY&#45;&gt;Iq0 -->\n<g id=\"edge1\" class=\"edge\">\n<title>EMPTY&#45;&gt;Iq0</title>\n<path fill=\"none\" stroke=\"#000000\" d=\"M54.1742,-43.7982C62.5103,-43.7982 71.7873,-43.7982 80.5137,-43.7982\"/>\n<polygon fill=\"#000000\" stroke=\"#000000\" points=\"80.7846,-47.2983 90.7846,-43.7982 80.7845,-40.2983 80.7846,-47.2983\"/>\n</g>\n<!-- cut1 -->\n<g id=\"node2\" class=\"node\">\n<title>cut1</title>\n<ellipse fill=\"none\" stroke=\"#000000\" cx=\"616.9314\" cy=\"-113.7982\" rx=\"26.7961\" ry=\"26.7961\"/>\n<text text-anchor=\"middle\" x=\"616.9314\" y=\"-110.0982\" font-family=\"Times,serif\" font-size=\"14.00\" fill=\"#000000\">cut1</text>\n</g>\n<!-- qx -->\n<g id=\"node8\" class=\"node\">\n<title>qx</title>\n<ellipse fill=\"none\" stroke=\"#000000\" cx=\"749.5767\" cy=\"-169.7982\" rx=\"20.5982\" ry=\"20.5982\"/>\n<text text-anchor=\"middle\" x=\"749.5767\" y=\"-166.0982\" font-family=\"Times,serif\" font-size=\"14.00\" fill=\"#000000\">qx</text>\n</g>\n<!-- cut1&#45;&gt;qx -->\n<g id=\"edge10\" class=\"edge\">\n<title>cut1&#45;&gt;qx</title>\n<path fill=\"none\" stroke=\"#000000\" d=\"M643.4502,-116.7305C660.6389,-119.349 683.1721,-124.1603 701.579,-132.7982 710.2049,-136.846 718.7346,-142.6604 726.1565,-148.4848\"/>\n<polygon fill=\"#000000\" stroke=\"#000000\" points=\"724.3637,-151.544 734.2999,-155.2215 728.8257,-146.1504 724.3637,-151.544\"/>\n<text text-anchor=\"middle\" x=\"681.579\" y=\"-151.5982\" font-family=\"Times,serif\" font-size=\"14.00\" fill=\"#000000\">a ; .,L </text>\n<text text-anchor=\"middle\" x=\"681.579\" y=\"-136.5982\" font-family=\"Times,serif\" font-size=\"14.00\" fill=\"#000000\"> b ; .,L</text>\n</g>\n<!-- F10 -->\n<g id=\"node13\" class=\"node\">\n<title>F10</title>\n<ellipse fill=\"none\" stroke=\"#000000\" cx=\"749.5767\" cy=\"-93.7982\" rx=\"25.9957\" ry=\"25.9957\"/>\n<ellipse fill=\"none\" stroke=\"#000000\" cx=\"749.5767\" cy=\"-93.7982\" rx=\"29.9954\" ry=\"29.9954\"/>\n<text text-anchor=\"middle\" x=\"749.5767\" y=\"-90.0982\" font-family=\"Times,serif\" font-size=\"14.00\" fill=\"#000000\">F10</text>\n</g>\n<!-- cut1&#45;&gt;F10 -->\n<g id=\"edge11\" class=\"edge\">\n<title>cut1&#45;&gt;F10</title>\n<path fill=\"none\" stroke=\"#000000\" d=\"M640.9339,-101.5608C647.4661,-98.7967 654.6537,-96.2515 661.579,-94.7982 677.0083,-91.5603 694.2962,-90.7701 709.4377,-90.9806\"/>\n<polygon fill=\"#000000\" stroke=\"#000000\" points=\"709.4323,-94.4817 719.5281,-91.2683 709.6319,-87.4846 709.4323,-94.4817\"/>\n<text text-anchor=\"middle\" x=\"681.579\" y=\"-98.5982\" font-family=\"Times,serif\" font-size=\"14.00\" fill=\"#000000\">. ; .,S</text>\n</g>\n<!-- cut0 -->\n<g id=\"node3\" class=\"node\">\n<title>cut0</title>\n<ellipse fill=\"none\" stroke=\"#000000\" cx=\"495.6361\" cy=\"-173.7982\" rx=\"26.7961\" ry=\"26.7961\"/>\n<text text-anchor=\"middle\" x=\"495.6361\" y=\"-170.0982\" font-family=\"Times,serif\" font-size=\"14.00\" fill=\"#000000\">cut0</text>\n</g>\n<!-- cut0&#45;&gt;cut1 -->\n<g id=\"edge9\" class=\"edge\">\n<title>cut0&#45;&gt;cut1</title>\n<path fill=\"none\" stroke=\"#000000\" d=\"M518.5411,-159.813C525.4427,-155.7757 533.0951,-151.4717 540.2837,-147.7982 553.9484,-140.8153 569.3558,-133.8182 582.7537,-128.0026\"/>\n<polygon fill=\"#000000\" stroke=\"#000000\" points=\"584.2898,-131.1522 592.1006,-123.9938 581.5306,-124.7189 584.2898,-131.1522\"/>\n<text text-anchor=\"middle\" x=\"556.2837\" y=\"-151.5982\" font-family=\"Times,serif\" font-size=\"14.00\" fill=\"#000000\">. ; .,L</text>\n</g>\n<!-- cut0&#45;&gt;qx -->\n<g id=\"edge8\" class=\"edge\">\n<title>cut0&#45;&gt;qx</title>\n<path fill=\"none\" stroke=\"#000000\" d=\"M522.3322,-173.3776C569.6678,-172.632 668.053,-171.0823 718.4102,-170.2891\"/>\n<polygon fill=\"#000000\" stroke=\"#000000\" points=\"718.7366,-173.7845 728.6802,-170.1273 718.6263,-166.7853 718.7366,-173.7845\"/>\n<text text-anchor=\"middle\" x=\"616.9314\" y=\"-190.5982\" font-family=\"Times,serif\" font-size=\"14.00\" fill=\"#000000\">a ; .,L </text>\n<text text-anchor=\"middle\" x=\"616.9314\" y=\"-175.5982\" font-family=\"Times,serif\" font-size=\"14.00\" fill=\"#000000\"> b ; .,L</text>\n</g>\n<!-- qa -->\n<g id=\"node4\" class=\"node\">\n<title>qa</title>\n<ellipse fill=\"none\" stroke=\"#000000\" cx=\"997.6678\" cy=\"-231.7982\" rx=\"19.4965\" ry=\"19.4965\"/>\n<text text-anchor=\"middle\" x=\"997.6678\" y=\"-228.0982\" font-family=\"Times,serif\" font-size=\"14.00\" fill=\"#000000\">qa</text>\n</g>\n<!-- qa&#45;&gt;qa -->\n<g id=\"edge17\" class=\"edge\">\n<title>qa&#45;&gt;qa</title>\n<path fill=\"none\" stroke=\"#000000\" d=\"M987.3077,-248.3766C984.6051,-259.0369 988.0584,-269.2964 997.6678,-269.2964 1004.1241,-269.2964 1007.8015,-264.6651 1008.7,-258.3926\"/>\n<polygon fill=\"#000000\" stroke=\"#000000\" points=\"1012.1896,-258.1198 1008.0279,-248.3766 1005.2053,-258.5885 1012.1896,-258.1198\"/>\n<text text-anchor=\"middle\" x=\"997.6678\" y=\"-273.0964\" font-family=\"Times,serif\" font-size=\"14.00\" fill=\"#000000\">a ; a,R</text>\n</g>\n<!-- qb -->\n<g id=\"node10\" class=\"node\">\n<title>qb</title>\n<ellipse fill=\"none\" stroke=\"#000000\" cx=\"1122.2641\" cy=\"-191.7982\" rx=\"20.5982\" ry=\"20.5982\"/>\n<text text-anchor=\"middle\" x=\"1122.2641\" y=\"-188.0982\" font-family=\"Times,serif\" font-size=\"14.00\" fill=\"#000000\">qb</text>\n</g>\n<!-- qa&#45;&gt;qb -->\n<g id=\"edge18\" class=\"edge\">\n<title>qa&#45;&gt;qb</title>\n<path fill=\"none\" stroke=\"#000000\" d=\"M1013.0293,-219.3999C1020.8111,-213.7529 1030.6695,-207.5136 1040.466,-203.7982 1056.4948,-197.719 1075.3722,-194.7002 1090.9511,-193.2095\"/>\n<polygon fill=\"#000000\" stroke=\"#000000\" points=\"1091.4417,-196.6817 1101.134,-192.4028 1090.8887,-189.7036 1091.4417,-196.6817\"/>\n<text text-anchor=\"middle\" x=\"1059.966\" y=\"-207.5982\" font-family=\"Times,serif\" font-size=\"14.00\" fill=\"#000000\">b ; a,R</text>\n</g>\n<!-- F3 -->\n<g id=\"node15\" class=\"node\">\n<title>F3</title>\n<ellipse fill=\"none\" stroke=\"#000000\" cx=\"1122.2641\" cy=\"-288.7982\" rx=\"20.6302\" ry=\"20.6302\"/>\n<ellipse fill=\"none\" stroke=\"#000000\" cx=\"1122.2641\" cy=\"-288.7982\" rx=\"24.5979\" ry=\"24.5979\"/>\n<text text-anchor=\"middle\" x=\"1122.2641\" y=\"-285.0982\" font-family=\"Times,serif\" font-size=\"14.00\" fill=\"#000000\">F3</text>\n</g>\n<!-- qa&#45;&gt;F3 -->\n<g id=\"edge19\" class=\"edge\">\n<title>qa&#45;&gt;F3</title>\n<path fill=\"none\" stroke=\"#000000\" d=\"M1015.5194,-239.9649C1034.9176,-248.8391 1066.3122,-263.2014 1090.0444,-274.0583\"/>\n<polygon fill=\"#000000\" stroke=\"#000000\" points=\"1088.8162,-277.3453 1099.3659,-278.3227 1091.7284,-270.9798 1088.8162,-277.3453\"/>\n<text text-anchor=\"middle\" x=\"1059.966\" y=\"-271.5982\" font-family=\"Times,serif\" font-size=\"14.00\" fill=\"#000000\">. ; a,S</text>\n</g>\n<!-- q1 -->\n<g id=\"node5\" class=\"node\">\n<title>q1</title>\n<ellipse fill=\"none\" stroke=\"#000000\" cx=\"242.594\" cy=\"-88.7982\" rx=\"20.5982\" ry=\"20.5982\"/>\n<text text-anchor=\"middle\" x=\"242.594\" y=\"-85.0982\" font-family=\"Times,serif\" font-size=\"14.00\" fill=\"#000000\">q1</text>\n</g>\n<!-- q1&#45;&gt;cut1 -->\n<g id=\"edge5\" class=\"edge\">\n<title>q1&#45;&gt;cut1</title>\n<path fill=\"none\" stroke=\"#000000\" d=\"M263.4701,-88.2825C284.6194,-87.7877 318.2776,-87.0759 347.3922,-86.7982 365.8786,-86.6218 370.5333,-85.7089 388.9885,-86.7982 456.7527,-90.7975 535.2605,-101.4291 580.2107,-108.0959\"/>\n<polygon fill=\"#000000\" stroke=\"#000000\" points=\"579.943,-111.5949 590.3516,-109.6174 580.9817,-104.6723 579.943,-111.5949\"/>\n<text text-anchor=\"middle\" x=\"428.9885\" y=\"-94.5982\" font-family=\"Times,serif\" font-size=\"14.00\" fill=\"#000000\">. ; .,L</text>\n</g>\n<!-- q2 -->\n<g id=\"node6\" class=\"node\">\n<title>q2</title>\n<ellipse fill=\"none\" stroke=\"#000000\" cx=\"368.1903\" cy=\"-116.7982\" rx=\"20.5982\" ry=\"20.5982\"/>\n<text text-anchor=\"middle\" x=\"368.1903\" y=\"-113.0982\" font-family=\"Times,serif\" font-size=\"14.00\" fill=\"#000000\">q2</text>\n</g>\n<!-- q1&#45;&gt;q2 -->\n<g id=\"edge4\" class=\"edge\">\n<title>q1&#45;&gt;q2</title>\n<path fill=\"none\" stroke=\"#000000\" d=\"M263.0527,-93.3592C283.3063,-97.8744 314.558,-104.8416 337.7305,-110.0076\"/>\n<polygon fill=\"#000000\" stroke=\"#000000\" points=\"337.2183,-113.4792 347.7403,-112.2391 338.7415,-106.6469 337.2183,-113.4792\"/>\n<text text-anchor=\"middle\" x=\"307.3922\" y=\"-125.5982\" font-family=\"Times,serif\" font-size=\"14.00\" fill=\"#000000\">a ; a,R </text>\n<text text-anchor=\"middle\" x=\"307.3922\" y=\"-110.5982\" font-family=\"Times,serif\" font-size=\"14.00\" fill=\"#000000\"> b ; b,R</text>\n</g>\n<!-- q2&#45;&gt;cut1 -->\n<g id=\"edge7\" class=\"edge\">\n<title>q2&#45;&gt;cut1</title>\n<path fill=\"none\" stroke=\"#000000\" d=\"M389.3978,-116.5424C431.7144,-116.032 527.0977,-114.8816 579.942,-114.2443\"/>\n<polygon fill=\"#000000\" stroke=\"#000000\" points=\"580.2699,-117.7407 590.2269,-114.1202 580.1854,-110.7412 580.2699,-117.7407\"/>\n<text text-anchor=\"middle\" x=\"495.6361\" y=\"-118.5982\" font-family=\"Times,serif\" font-size=\"14.00\" fill=\"#000000\">. ; .,L</text>\n</g>\n<!-- q2&#45;&gt;cut0 -->\n<g id=\"edge6\" class=\"edge\">\n<title>q2&#45;&gt;cut0</title>\n<path fill=\"none\" stroke=\"#000000\" d=\"M387.2702,-125.3316C406.9222,-134.121 437.9582,-148.0018 461.7889,-158.66\"/>\n<polygon fill=\"#000000\" stroke=\"#000000\" points=\"460.6223,-161.9724 471.1799,-162.8602 463.4803,-155.5823 460.6223,-161.9724\"/>\n<text text-anchor=\"middle\" x=\"428.9885\" y=\"-171.5982\" font-family=\"Times,serif\" font-size=\"14.00\" fill=\"#000000\">a ; a,R </text>\n<text text-anchor=\"middle\" x=\"428.9885\" y=\"-156.5982\" font-family=\"Times,serif\" font-size=\"14.00\" fill=\"#000000\"> b ; b,R</text>\n</g>\n<!-- shift -->\n<g id=\"node7\" class=\"node\">\n<title>shift</title>\n<ellipse fill=\"none\" stroke=\"#000000\" cx=\"875.222\" cy=\"-169.7982\" rx=\"26.7961\" ry=\"26.7961\"/>\n<text text-anchor=\"middle\" x=\"875.222\" y=\"-166.0982\" font-family=\"Times,serif\" font-size=\"14.00\" fill=\"#000000\">shift</text>\n</g>\n<!-- shift&#45;&gt;qa -->\n<g id=\"edge14\" class=\"edge\">\n<title>shift&#45;&gt;qa</title>\n<path fill=\"none\" stroke=\"#000000\" d=\"M899.1215,-181.8996C919.7626,-192.3511 949.5566,-207.4372 970.974,-218.2818\"/>\n<polygon fill=\"#000000\" stroke=\"#000000\" points=\"969.6593,-221.5392 980.162,-222.9341 972.8215,-215.2942 969.6593,-221.5392\"/>\n<text text-anchor=\"middle\" x=\"937.3697\" y=\"-213.5982\" font-family=\"Times,serif\" font-size=\"14.00\" fill=\"#000000\">a ; .,R</text>\n</g>\n<!-- shift&#45;&gt;qb -->\n<g id=\"edge15\" class=\"edge\">\n<title>shift&#45;&gt;qb</title>\n<path fill=\"none\" stroke=\"#000000\" d=\"M902.1301,-172.1944C948.383,-176.3134 1042.6859,-184.7114 1091.481,-189.0568\"/>\n<polygon fill=\"#000000\" stroke=\"#000000\" points=\"1091.179,-192.5437 1101.45,-189.9446 1091.8,-185.5713 1091.179,-192.5437\"/>\n<text text-anchor=\"middle\" x=\"997.6678\" y=\"-185.5982\" font-family=\"Times,serif\" font-size=\"14.00\" fill=\"#000000\">b ; .,R</text>\n</g>\n<!-- F2 -->\n<g id=\"node12\" class=\"node\">\n<title>F2</title>\n<ellipse fill=\"none\" stroke=\"#000000\" cx=\"997.6678\" cy=\"-108.7982\" rx=\"20.6302\" ry=\"20.6302\"/>\n<ellipse fill=\"none\" stroke=\"#000000\" cx=\"997.6678\" cy=\"-108.7982\" rx=\"24.5979\" ry=\"24.5979\"/>\n<text text-anchor=\"middle\" x=\"997.6678\" y=\"-105.0982\" font-family=\"Times,serif\" font-size=\"14.00\" fill=\"#000000\">F2</text>\n</g>\n<!-- shift&#45;&gt;F2 -->\n<g id=\"edge16\" class=\"edge\">\n<title>shift&#45;&gt;F2</title>\n<path fill=\"none\" stroke=\"#000000\" d=\"M897.4442,-154.206C904.4553,-149.6049 912.3395,-144.7485 919.8697,-140.7982 934.0232,-133.3732 950.2931,-126.4485 964.2835,-120.9532\"/>\n<polygon fill=\"#000000\" stroke=\"#000000\" points=\"965.9258,-124.0718 974.005,-117.2178 963.415,-117.5375 965.9258,-124.0718\"/>\n<text text-anchor=\"middle\" x=\"937.3697\" y=\"-144.5982\" font-family=\"Times,serif\" font-size=\"14.00\" fill=\"#000000\">. ; .,S</text>\n</g>\n<!-- qx&#45;&gt;shift -->\n<g id=\"edge13\" class=\"edge\">\n<title>qx&#45;&gt;shift</title>\n<path fill=\"none\" stroke=\"#000000\" d=\"M770.6069,-169.7982C789.0613,-169.7982 816.3213,-169.7982 838.3879,-169.7982\"/>\n<polygon fill=\"#000000\" stroke=\"#000000\" points=\"838.4257,-173.2983 848.4257,-169.7982 838.4256,-166.2983 838.4257,-173.2983\"/>\n<text text-anchor=\"middle\" x=\"814.0744\" y=\"-173.5982\" font-family=\"Times,serif\" font-size=\"14.00\" fill=\"#000000\">. ; .,R</text>\n</g>\n<!-- qx&#45;&gt;qx -->\n<g id=\"edge12\" class=\"edge\">\n<title>qx&#45;&gt;qx</title>\n<path fill=\"none\" stroke=\"#000000\" d=\"M738.4234,-187.3546C735.7339,-198.2385 739.4517,-208.5963 749.5767,-208.5963 756.3794,-208.5963 760.2898,-203.9206 761.3079,-197.5512\"/>\n<polygon fill=\"#000000\" stroke=\"#000000\" points=\"764.7904,-197.1405 760.73,-187.3546 757.8016,-197.5367 764.7904,-197.1405\"/>\n<text text-anchor=\"middle\" x=\"749.5767\" y=\"-227.3963\" font-family=\"Times,serif\" font-size=\"14.00\" fill=\"#000000\">a ; a,L </text>\n<text text-anchor=\"middle\" x=\"749.5767\" y=\"-212.3963\" font-family=\"Times,serif\" font-size=\"14.00\" fill=\"#000000\"> b ; b,L</text>\n</g>\n<!-- Iq0&#45;&gt;q1 -->\n<g id=\"edge2\" class=\"edge\">\n<title>Iq0&#45;&gt;q1</title>\n<path fill=\"none\" stroke=\"#000000\" d=\"M136.728,-51.6366C157.8493,-59.0507 189.6877,-70.2267 212.9326,-78.3863\"/>\n<polygon fill=\"#000000\" stroke=\"#000000\" points=\"212.0301,-81.7788 222.6249,-81.7885 214.3486,-75.1739 212.0301,-81.7788\"/>\n<text text-anchor=\"middle\" x=\"177.7958\" y=\"-91.5982\" font-family=\"Times,serif\" font-size=\"14.00\" fill=\"#000000\">a ; a,R </text>\n<text text-anchor=\"middle\" x=\"177.7958\" y=\"-76.5982\" font-family=\"Times,serif\" font-size=\"14.00\" fill=\"#000000\"> b ; b,R</text>\n</g>\n<!-- F0 -->\n<g id=\"node14\" class=\"node\">\n<title>F0</title>\n<ellipse fill=\"none\" stroke=\"#000000\" cx=\"242.594\" cy=\"-24.7982\" rx=\"20.6302\" ry=\"20.6302\"/>\n<ellipse fill=\"none\" stroke=\"#000000\" cx=\"242.594\" cy=\"-24.7982\" rx=\"24.5979\" ry=\"24.5979\"/>\n<text text-anchor=\"middle\" x=\"242.594\" y=\"-21.0982\" font-family=\"Times,serif\" font-size=\"14.00\" fill=\"#000000\">F0</text>\n</g>\n<!-- Iq0&#45;&gt;F0 -->\n<g id=\"edge3\" class=\"edge\">\n<title>Iq0&#45;&gt;F0</title>\n<path fill=\"none\" stroke=\"#000000\" d=\"M137.6133,-40.3574C157.1719,-37.4586 185.4467,-33.268 207.7261,-29.9659\"/>\n<polygon fill=\"#000000\" stroke=\"#000000\" points=\"208.4229,-33.401 217.8017,-28.4726 207.3966,-26.4766 208.4229,-33.401\"/>\n<text text-anchor=\"middle\" x=\"177.7958\" y=\"-41.5982\" font-family=\"Times,serif\" font-size=\"14.00\" fill=\"#000000\">. ; .,S</text>\n</g>\n<!-- qb&#45;&gt;qa -->\n<g id=\"edge20\" class=\"edge\">\n<title>qb&#45;&gt;qa</title>\n<path fill=\"none\" stroke=\"#000000\" d=\"M1105.6141,-204.5242C1098.0169,-209.7285 1088.674,-215.33 1079.466,-218.7982 1062.9566,-225.0163 1043.4841,-228.2602 1027.6804,-229.9525\"/>\n<polygon fill=\"#000000\" stroke=\"#000000\" points=\"1027.0461,-226.4958 1017.4071,-230.8936 1027.6848,-233.4666 1027.0461,-226.4958\"/>\n<text text-anchor=\"middle\" x=\"1059.966\" y=\"-231.5982\" font-family=\"Times,serif\" font-size=\"14.00\" fill=\"#000000\">a ; b,R</text>\n</g>\n<!-- qb&#45;&gt;qb -->\n<g id=\"edge21\" class=\"edge\">\n<title>qb&#45;&gt;qb</title>\n<path fill=\"none\" stroke=\"#000000\" d=\"M1111.7173,-209.7575C1109.3735,-220.4926 1112.8891,-230.5963 1122.2641,-230.5963 1128.563,-230.5963 1132.2168,-226.0353 1133.2256,-219.7863\"/>\n<polygon fill=\"#000000\" stroke=\"#000000\" points=\"1136.7211,-219.6043 1132.811,-209.7575 1129.7271,-219.8935 1136.7211,-219.6043\"/>\n<text text-anchor=\"middle\" x=\"1122.2641\" y=\"-234.3963\" font-family=\"Times,serif\" font-size=\"14.00\" fill=\"#000000\">b ; b,R</text>\n</g>\n<!-- F4 -->\n<g id=\"node11\" class=\"node\">\n<title>F4</title>\n<ellipse fill=\"none\" stroke=\"#000000\" cx=\"1242.8604\" cy=\"-191.7982\" rx=\"20.6302\" ry=\"20.6302\"/>\n<ellipse fill=\"none\" stroke=\"#000000\" cx=\"1242.8604\" cy=\"-191.7982\" rx=\"24.5979\" ry=\"24.5979\"/>\n<text text-anchor=\"middle\" x=\"1242.8604\" y=\"-188.0982\" font-family=\"Times,serif\" font-size=\"14.00\" fill=\"#000000\">F4</text>\n</g>\n<!-- qb&#45;&gt;F4 -->\n<g id=\"edge22\" class=\"edge\">\n<title>qb&#45;&gt;F4</title>\n<path fill=\"none\" stroke=\"#000000\" d=\"M1143.2704,-191.7982C1161.0513,-191.7982 1186.906,-191.7982 1207.8158,-191.7982\"/>\n<polygon fill=\"#000000\" stroke=\"#000000\" points=\"1207.9277,-195.2983 1217.9277,-191.7982 1207.9276,-188.2983 1207.9277,-195.2983\"/>\n<text text-anchor=\"middle\" x=\"1182.5623\" y=\"-195.5982\" font-family=\"Times,serif\" font-size=\"14.00\" fill=\"#000000\">. ; b,S</text>\n</g>\n</g>\n</svg>\n"
          },
          "metadata": {
            "tags": []
          },
          "execution_count": 34
        }
      ]
    },
    {
      "cell_type": "code",
      "metadata": {
        "id": "LuBE68-W5y-2",
        "outputId": "74df2f4d-7245-4e53-cfce-a81b643a4e8c",
        "colab": {
          "base_uri": "https://localhost:8080/",
          "height": 485,
          "referenced_widgets": [
            "e99840a5e8944a999d5dcf92b2ef16ee",
            "76df5166dd2d4a64b7ad277756109900",
            "9717dbcaad764987b66bea9bf683476b",
            "79c44f4821e84165b0704b5c12a3dc9c",
            "64c356feebe341d4b8bb41cecd033769",
            "788dd173ae614119bcc7e1667cd5451b",
            "1ece2a60d3b041c391a208bba030ae3f",
            "e5cab057a0c74b2b80794fa899a7f037",
            "317eede3001d472ba61431fb0142c055",
            "9b521b2c67e64c2aa895268e2b9a303f",
            "9772aceb5b084e9d979b4547850f720a",
            "6b12c7ff2b904eeda85befe92ac4f4c6",
            "80c30182d79144c086d08396fa18940d",
            "cf6928fe32514c05b20379a852822aa5",
            "730cf4df4bc7417ea744a855175262db",
            "faff7c67dafc41e2bf3b3a5d55cb24f8",
            "d5c21c57079e45b09003f42a375ac9c2",
            "4c3826915be24151855202c0d9118772",
            "1996ee74b8fe4cab8f34842b8166b153",
            "217c58f335324dfebaa2b1259f23e287",
            "755e471d330a4b608b354ae0cf3f930d",
            "fe95ba0ae6654d79820b33534513edfe",
            "afcfaf4e46514b7aa1b944cf9ebd58db",
            "92d852d4547241269bed525f550aa0a0",
            "1629f51eb76e4b7ba6365ab60fe7c005",
            "e0801493a1494ee59db40e967af6ca7d",
            "aee1c36c3168497bb876f5f081ed3f65",
            "07e6cb83b837422aa10a46caa3c6eb76",
            "4c7d88f17ae1412ab8cef909f625c664",
            "d21f86cd399e4c4099bd48063319c4a6",
            "5c64ace4d0544befaac8db87a9e61516",
            "5691eb3633aa4a46a617b6d97bfd6ad8",
            "dc66be7413664c76960a2ab147206e14",
            "35bc8f24b851420fac7cab538e4421e6",
            "7820e999192d4e3ca992b779c04cc862",
            "23e1d50ee4f84b5fb8f888b3ee41d64b",
            "ee285122e58c4c0bba6ceec0fa7c4f79",
            "6a254464d5e14ffdbcd0f565f8917604",
            "39b75d64a3db4f57b0d7854391ac5966",
            "e1c7063072364ce1a9e98003abb852fb",
            "0f2646f5e844465f892ea32f16d9e2da",
            "aa5b2a639dc74423962bc07db62cd9a2"
          ]
        }
      },
      "source": [
        "# The following display(...) call is needed to see the animation buttons in Colab\r\n",
        "display(HTML('<link rel=\"stylesheet\" href=\"//stackpath.bootstrapcdn.com/font-awesome/4.7.0/css/font-awesome.min.css\"/>'))\r\n",
        "\r\n",
        "#---SET FUEL TO 100 OR SO, else there will be no animation shown---\r\n",
        "AnimateTM(wpw_tm, FuseEdges=True, show_rejected=True)"
      ],
      "execution_count": 35,
      "outputs": [
        {
          "output_type": "display_data",
          "data": {
            "text/html": [
              "<link rel=\"stylesheet\" href=\"//stackpath.bootstrapcdn.com/font-awesome/4.7.0/css/font-awesome.min.css\"/>"
            ],
            "text/plain": [
              "<IPython.core.display.HTML object>"
            ]
          },
          "metadata": {
            "tags": []
          }
        },
        {
          "output_type": "display_data",
          "data": {
            "application/vnd.jupyter.widget-view+json": {
              "model_id": "e99840a5e8944a999d5dcf92b2ef16ee",
              "version_minor": 0,
              "version_major": 2
            },
            "text/plain": [
              "VBox(children=(HBox(children=(Text(value='', description='Input:', layout=Layout(width='500px'), placeholder='…"
            ]
          },
          "metadata": {
            "tags": []
          }
        },
        {
          "output_type": "execute_result",
          "data": {
            "text/plain": [
              "<jove.AnimateTM.AnimateTM at 0x7efe1d089450>"
            ]
          },
          "metadata": {
            "tags": []
          },
          "execution_count": 35
        }
      ]
    },
    {
      "cell_type": "markdown",
      "metadata": {
        "id": "FmWSlviOsUC7"
      },
      "source": [
        "## TODO Create a DTM to Insert a Character"
      ]
    },
    {
      "cell_type": "markdown",
      "metadata": {
        "id": "jA2pQpkJsdXS"
      },
      "source": [
        "This task is the opposite of the first one, namely, to insert a character into the tape string. Inserting the symbol $\\sigma$ is done virtually the same way as deleting, except that the single pass goes from left to right, symbols are moved to the right instead of to the left, and the move that starts things off writes $\\sigma$ instead of a blank.\n"
      ]
    },
    {
      "cell_type": "markdown",
      "metadata": {
        "id": "rgOacLFksrEm"
      },
      "source": [
        "## TODO Create a DTM to Copy a String"
      ]
    },
    {
      "cell_type": "markdown",
      "metadata": {
        "id": "Iw2WYYVPsuqJ"
      },
      "source": [
        "Let $\\sqcup$ represent the blank symbol. A *Copy* DTM starts with tape $\\sqcup\\ x$ where $x$ is a string of nonblank symbols, and ends up with $\\sqcup\\ x \\sqcup x$. Again, assume the input alphabet is $\\{a, b\\}$.\n",
        "\n",
        "HINT: This DTM requires about 10 states, and not quite double that many transitions."
      ]
    },
    {
      "cell_type": "markdown",
      "metadata": {
        "id": "sTNke7j5t9D6"
      },
      "source": [
        "## DONE Refresh Your Knowledge of the 3x+1 Conjecture"
      ]
    },
    {
      "cell_type": "markdown",
      "metadata": {
        "id": "NpXXTnxMuN8t"
      },
      "source": [
        "The code on page 200 does the 3x+1 Conjecture testing recursively:"
      ]
    },
    {
      "cell_type": "code",
      "metadata": {
        "id": "8E-aZBdbuCo5",
        "colab": {
          "base_uri": "https://localhost:8080/"
        },
        "outputId": "451576a5-6a5b-4b15-80bf-4a2887364d20"
      },
      "source": [
        "def tep1(x):\n",
        "    if (x==1):\n",
        "        return 1\n",
        "    elif (x%2 == 0):\n",
        "        return tep1(x/2)\n",
        "    else:\n",
        "        return tep1(3*x+1)\n",
        "\n",
        "print(tep1(3))\n",
        "print(tep1(191))\n",
        "print(tep1(19192949297080))\n",
        "print(tep1(191929492970809272397923472398492839482))\n",
        "print(tep1(191929492970809272397923472398492839482938492))"
      ],
      "execution_count": 1,
      "outputs": [
        {
          "output_type": "stream",
          "text": [
            "1\n",
            "1\n",
            "1\n",
            "1\n",
            "1\n"
          ],
          "name": "stdout"
        }
      ]
    },
    {
      "cell_type": "markdown",
      "metadata": {
        "id": "4zkYEg08uZju"
      },
      "source": [
        "Two Python techniques --- \"memoizing\" and \"listifying\" --- make for faster code:"
      ]
    },
    {
      "cell_type": "code",
      "metadata": {
        "id": "er7VN37Au07d",
        "colab": {
          "base_uri": "https://localhost:8080/"
        },
        "outputId": "8a1a7345-2004-4b56-ca1f-aedd678cd226"
      },
      "source": [
        "def memoize(func):\n",
        "    results = {}\n",
        "    def inner(i):\n",
        "        if not i in results:\n",
        "            results[i] = func(i)\n",
        "        return results[i]\n",
        "    return inner\n",
        "\n",
        "def listify(func):\n",
        "    def inner(x):\n",
        "        return list(func(x))\n",
        "    return inner\n",
        "\n",
        "@memoize\n",
        "def tep1(x):\n",
        "    return 1 if x == 2 else tep1(x/2) if x%2 == 0 else tep1(3*x+1)\n",
        "\n",
        "@listify\n",
        "def tepmany(x):\n",
        "    for i in range(1, x+1):\n",
        "        yield tep1(i)\n",
        "\n",
        "print(max(tepmany(100000)))"
      ],
      "execution_count": 2,
      "outputs": [
        {
          "output_type": "stream",
          "text": [
            "1\n"
          ],
          "name": "stdout"
        }
      ]
    },
    {
      "cell_type": "markdown",
      "metadata": {
        "id": "0QX5geEMvvcw"
      },
      "source": [
        "# TODO Modify a NON-Trivial Turing Machine Program"
      ]
    },
    {
      "cell_type": "markdown",
      "metadata": {
        "id": "3TemaqVUv1MI"
      },
      "source": [
        "The Turing machine program on page 202 performs the continuing 3x+1 transformation on an input that is a binary number. So for example if the\n",
        "initial tape has\n",
        "\n",
        "$11$\n",
        "\n",
        "which is the binary representation of the decimal number three, the final tape\n",
        "will have\n",
        "\n",
        "$1$\n",
        "\n",
        "on it.\n",
        "\n",
        "Modify the program so that a trace of all intermediate results appears on the output tape, e.g.:\n",
        "\n",
        "$11*1010*101*10000*1000*100*10*1$\n",
        "\n",
        "which separates with a star the binary representations of the numbers in the\n",
        "continuing 3x+1 transformation from 3 to 10 to 5 to 16 to 8 to 4 to 2 to 1.\n"
      ]
    }
  ]
}