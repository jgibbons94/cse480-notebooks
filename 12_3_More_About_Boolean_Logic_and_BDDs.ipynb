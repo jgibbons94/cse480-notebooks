{
  "nbformat": 4,
  "nbformat_minor": 0,
  "metadata": {
    "colab": {
      "name": "12_3_More_About_Boolean_Logic_and_BDDs.ipynb",
      "provenance": [],
      "include_colab_link": true
    },
    "kernelspec": {
      "name": "python3",
      "display_name": "Python 3"
    },
    "language_info": {
      "name": "python"
    }
  },
  "cells": [
    {
      "cell_type": "markdown",
      "metadata": {
        "id": "view-in-github",
        "colab_type": "text"
      },
      "source": [
        "<a href=\"https://colab.research.google.com/github/jgibbons94/cse480-notebooks/blob/master/12_3_More_About_Boolean_Logic_and_BDDs.ipynb\" target=\"_parent\"><img src=\"https://colab.research.google.com/assets/colab-badge.svg\" alt=\"Open In Colab\"/></a>"
      ]
    },
    {
      "cell_type": "markdown",
      "metadata": {
        "id": "u9nSUDMdYEyz"
      },
      "source": [
        "# More About Boolean Logic and BDDs\n",
        "## Class Directed Learning\n",
        "### 24 March 2021"
      ]
    },
    {
      "cell_type": "markdown",
      "metadata": {
        "id": "mIhVw4X1a96g"
      },
      "source": [
        "## Explore Inequivalence of Combinational Circuits"
      ]
    },
    {
      "cell_type": "markdown",
      "metadata": {
        "id": "rS6r5fIubAZ7"
      },
      "source": [
        "...by way of BDDs.\n",
        "\n",
        "Construct BDDs from two combinational circuits and use their BDDs to show that the two circuits are **NOT** equivalent --- i.e., find an input that returns different outputs in the two circuits.\n",
        "\n",
        "[Here are the schematics of the two circuits](https://rickneff.github.io/img/two-inequivalent-circuits.pdf), call them A and B.\n",
        "\n",
        "Hint: Use the [PBDD tool](http://formal.cs.utah.edu:8080/pbl/BDD.php) introduced in the book."
      ]
    },
    {
      "cell_type": "markdown",
      "metadata": {
        "id": "OgjDU0c8CZo2"
      },
      "source": [
        "```\n",
        "\n",
        "Var_Order : x1 y1 x2 y2 \n",
        "\n",
        "sub1 = ((x1 & y1) | ~(x1 | y1)) & ((x2 & y2) | ~(x2 | y2)) \n",
        "sub2 = (x1 & y2 & x2 & y1) | (x2 & y2 & ~x1 & ~y1) | (x1 & y1 & ~x2 & y2) | (~x2 & ~x1 & ~y1 & y2)\n",
        "sub = sub1 & sub2\n",
        "\n",
        "sub_True = 1\n",
        "\n",
        "Main_Exp : sub_True <=> sub2\n",
        "```"
      ]
    },
    {
      "cell_type": "markdown",
      "metadata": {
        "id": "TDtaFOzgCA2d"
      },
      "source": [
        "X1 = 1\n",
        "X2 = 0\n",
        "Y1 = 1\n",
        "Y2 = 1"
      ]
    },
    {
      "cell_type": "markdown",
      "metadata": {
        "id": "8gyjjYz0bI0I"
      },
      "source": [
        "## Give a Short Answer"
      ]
    },
    {
      "cell_type": "markdown",
      "metadata": {
        "id": "2l6SAkUCbLGa"
      },
      "source": [
        "On page 277 Ganesh writes:\n",
        "> For many commonly occurring Boolean functions, the BDDs involved are polynomially sized, and for these problems, Boolean reasoning becomes polynomial-time. Heuristics help choose variable orders that often ensure polynomially sized BDDs.\n",
        "\n",
        "> [...]\n",
        "\n",
        "> From Chapter 16 we know that Boolean satisfiability is NP-Complete. Thus, there shouldn't be a way to get away with satisfiability checking with a lower cost even by using BDDs. This is indeed clinched by the result that discovering a good variable ordering for BDDs is NP-Complete.\n",
        "\n",
        "What is the difference between \"Boolean reasoning\" and \"Boolean satisfiability\"?\n",
        "\n",
        "Please explain why one is in P and the other is in NP."
      ]
    },
    {
      "cell_type": "markdown",
      "metadata": {
        "id": "n7TGABde-CeN"
      },
      "source": [
        "#### Answer\n",
        "Boolean reasoning is deciding the truth value of an equation. It is in P because it doesn't take long to check the truth value. It is in NP because it is in P. Boolean satisfiability is checking if there is a dictionary of boolean inputs that satisfy an equation. It is in NP because there are many variables to check."
      ]
    },
    {
      "cell_type": "markdown",
      "metadata": {
        "id": "P4wfQNyobYPO"
      },
      "source": [
        "## CNF and DNF"
      ]
    },
    {
      "cell_type": "markdown",
      "metadata": {
        "id": "bFHNzNFUbaK6"
      },
      "source": [
        "Argue that $e_1$ and $e_2$ are equal if and only if $e_1 \\leftrightarrow e_2$ is a tautology.\n",
        "\n",
        "Is it possible to say whether $e$ is satisfiable from the fact that $\\lnot e$ is a tautology?\n",
        "\n",
        "Now argue that **any** Boolean expression is equal to an expression in CNF and an expression in DNF."
      ]
    },
    {
      "cell_type": "markdown",
      "metadata": {
        "id": "moEGOz-n_Erg"
      },
      "source": [
        "#### Answer\n",
        "-> $e1$ and $e2$ are equal if $e1 \\leftrightarrow e2$ is a tautology because $e1 \\leftrightarrow e2$ means that when $e1$ is 0 then $e2$ is 0 and when $e1$ is 1 then $e2$ is 1. If it is a tautotology then there is not instance when that is not the case, so they are equal.\n",
        "\n",
        "-> $e1$ and $e2$ are equal only if $e1 \\leftrightarrow e2$ is a tautology because if $e1$ and $e2$ are not equal then there is an instance where $e1 \\leftrightarrow e2$ is false and therefore not a tautology.\n",
        "\n",
        "-> If $\\lnot e$ is a tautology then there is no instance where $\\lnot$ e is not true, therefore there is no instance where $e$ is true, therefore $e$ is not satisfiable.\n",
        "\n",
        "-> Since any DNF expression can be converted into a CNF expression and any CNF expression can be converted into a DNF expression and any boolean expression is equal to an expression in CNF it follows that any boolean expression is equal to an expression in CNF and an expression in CNF."
      ]
    },
    {
      "cell_type": "markdown",
      "metadata": {
        "id": "F3afoaLcbgh_"
      },
      "source": [
        "## Now Consider"
      ]
    },
    {
      "cell_type": "markdown",
      "metadata": {
        "id": "6vwkIA9bbjaO"
      },
      "source": [
        "The Cook-Levin theorem holds that when restricted to expressions in CNF, Satisfiability (SAT) is NP-Complete.\n",
        "\n",
        "However, satisfiability is decidable in polynomial time for DNFs, but their tautology check is hard (co-NP-complete)."
      ]
    },
    {
      "cell_type": "markdown",
      "metadata": {
        "id": "gaXMpgsrbnxs"
      },
      "source": [
        "### Convince yourselves of these assertions\n"
      ]
    },
    {
      "cell_type": "markdown",
      "metadata": {
        "id": "bzCmCKicbq1s"
      },
      "source": [
        "Describe polynomial-time algorithms in high-level pseudocode for determining whether a DNF is satisfiable and for determining whether a CNF is a tautology.\n"
      ]
    },
    {
      "cell_type": "markdown",
      "metadata": {
        "id": "83wj49X3DDid"
      },
      "source": [
        "```\n",
        "(defun (dnf-satisfiable? dnf)\n",
        "      (any? (map satisfiable? dnf)))\n",
        "\n",
        "(defun (cnf-tautology? cnf)\n",
        "      (all? (map satisfiable? cnf)))\n",
        "```"
      ]
    },
    {
      "cell_type": "markdown",
      "metadata": {
        "id": "a1yf9QFNbupc"
      },
      "source": [
        "## Continuing"
      ]
    },
    {
      "cell_type": "markdown",
      "metadata": {
        "id": "BT4qZNz9bwXO"
      },
      "source": [
        "Although satisfiability is easy for DNFs and the tautology check is easy for CNFs, we are not sitting pretty.\n",
        "\n",
        "Why?\n",
        "\n",
        "Because the conversion between CNFs and DNFs is hard (exponential)!\n",
        "\n",
        "For example, the following CNF over the variables $u, t, w, x, y, z$:\n",
        "\n",
        "$(u \\lor x) \\land (t \\lor y) \\land (w \\lor z)$\n",
        "\n",
        "has $3$ conjuncts. Its corresponding DNF has $2^3 = 8$ disjuncts:\n",
        "\n",
        "$(u \\land t \\land w)\\ \\lor$\n",
        "\n",
        "$(u \\land t \\land z)\\ \\lor$\n",
        "\n",
        "$(u \\land y \\land w)\\ \\lor$\n",
        "\n",
        "$(u \\land y \\land z)\\ \\lor$\n",
        "\n",
        "$(x \\land t \\land w)\\ \\lor$\n",
        "\n",
        "$(x \\land t \\land z)\\ \\lor$\n",
        "\n",
        "$(x \\land y \\land w)\\ \\lor$\n",
        "\n",
        "$(x \\land y \\land z).$\n"
      ]
    },
    {
      "cell_type": "markdown",
      "metadata": {
        "id": "eop0NCbvcBc5"
      },
      "source": [
        "## Follow the Process\n"
      ]
    },
    {
      "cell_type": "markdown",
      "metadata": {
        "id": "rDTYpGh6cDHk"
      },
      "source": [
        "Show how the CNF-to-DNF conversion works for $(u \\lor x) \\land (t \\lor y) \\land (w \\lor z)$.\n"
      ]
    },
    {
      "cell_type": "code",
      "metadata": {
        "id": "zmABNboaH627"
      },
      "source": [
        "help(print)\n",
        "for ch in \"tuwxyz\":\n",
        "  print(f\"|{ch}\", end=\"\")\n",
        "print(\"|$(u \\lor x) \\land (t \\lor y) \\land (w \\lor z)$|$\\lnot f(u,v,w,x,y,z}\")\n",
        "for ch in \"tuwxyz\":\n",
        "  print(f\"|-\", end=\"\")\n",
        "print(\"|-|\")\n",
        "\n",
        "logics = [{\"t\":t, \"u\":u,\n",
        "           \"v\":v, \"w\":w,\n",
        "           \"x\":x, \"y\":y,\n",
        "           \"z\":z, \"answer\":((u or x) and (t or y) and (w or z))}\n",
        "          for t in range(2) for u in range(2) for v in range(2) for w in range(2)\n",
        "          for x in range(2) for y in range(2) for z in range(2)]\n",
        "def dispthing(thing):\n",
        "  print(f'|{thing[\"t\"]}|{thing[\"u\"]}|{thing[\"w\"]}|{thing[\"x\"]}|{thing[\"y\"]}|{thing[\"z\"]}|{thing[\"answer\"]}|')\n",
        "\n",
        "  pass\n",
        "for thing in logics:\n",
        "  dispthing(thing)\n",
        "print(f\"There are {len(logics)} rows in this table.\")\n"
      ],
      "execution_count": null,
      "outputs": []
    },
    {
      "cell_type": "markdown",
      "metadata": {
        "id": "2dXr3e1jMelH"
      },
      "source": [
        "128? I'll use the provided tools instead.\n",
        "```\n",
        "Var_Order : t u x y w z\n",
        "sub = (u | x) & (t | y) & (w | z)\n",
        "sub_True = 1\n",
        "Main_Exp : sub <=> sub_True\n",
        "```\n",
        "```\n",
        "All satisfying assignts:\n",
        "------------------------------\n",
        "[0, 0, 1, 1, 0, 1]\n",
        "[0, 0, 1, 1, 1, 1]\n",
        "[0, 1, 1, 1, 0, 1]\n",
        "[0, 1, 1, 1, 1, 1]\n",
        "[1, 0, 1, 1, 0, 1]\n",
        "[1, 0, 1, 1, 1, 1]\n",
        "[1, 1, 1, 1, 0, 1]\n",
        "[1, 1, 1, 1, 1, 1]\n",
        "[0, 0, 1, 1, 1, 0]\n",
        "[0, 1, 0, 1, 0, 1]\n",
        "[0, 1, 0, 1, 1, 1]\n",
        "[0, 1, 1, 1, 1, 0]\n",
        "[1, 0, 1, 0, 0, 1]\n",
        "[1, 0, 1, 0, 1, 1]\n",
        "[1, 0, 1, 1, 1, 0]\n",
        "[1, 1, 0, 1, 0, 1]\n",
        "[1, 1, 1, 0, 0, 1]\n",
        "[1, 1, 0, 1, 1, 1]\n",
        "[1, 1, 1, 0, 1, 1]\n",
        "[1, 1, 1, 1, 1, 0]\n",
        "[0, 1, 0, 1, 1, 0]\n",
        "[1, 0, 1, 0, 1, 0]\n",
        "[1, 1, 0, 0, 0, 1]\n",
        "[1, 1, 0, 0, 1, 1]\n",
        "[1, 1, 0, 1, 1, 0]\n",
        "[1, 1, 1, 0, 1, 0]\n",
        "[1, 1, 0, 0, 1, 0]\n",
        "```"
      ]
    },
    {
      "cell_type": "code",
      "metadata": {
        "colab": {
          "base_uri": "https://localhost:8080/"
        },
        "id": "8XGJZPbcRORf",
        "outputId": "3f9178ca-7c4d-4cb7-9898-f2635cc20335"
      },
      "source": [
        "satisfying =[\n",
        "[0, 0, 1, 1, 0, 1],\n",
        "[0, 0, 1, 1, 1, 1],\n",
        "[0, 1, 1, 1, 0, 1],\n",
        "[0, 1, 1, 1, 1, 1],\n",
        "[1, 0, 1, 1, 0, 1],\n",
        "[1, 0, 1, 1, 1, 1],\n",
        "[1, 1, 1, 1, 0, 1],\n",
        "[1, 1, 1, 1, 1, 1],\n",
        "[0, 0, 1, 1, 1, 0],\n",
        "[0, 1, 0, 1, 0, 1],\n",
        "[0, 1, 0, 1, 1, 1],\n",
        "[0, 1, 1, 1, 1, 0],\n",
        "[1, 0, 1, 0, 0, 1],\n",
        "[1, 0, 1, 0, 1, 1],\n",
        "[1, 0, 1, 1, 1, 0],\n",
        "[1, 1, 0, 1, 0, 1],\n",
        "[1, 1, 1, 0, 0, 1],\n",
        "[1, 1, 0, 1, 1, 1],\n",
        "[1, 1, 1, 0, 1, 1],\n",
        "[1, 1, 1, 1, 1, 0],\n",
        "[0, 1, 0, 1, 1, 0],\n",
        "[1, 0, 1, 0, 1, 0],\n",
        "[1, 1, 0, 0, 0, 1],\n",
        "[1, 1, 0, 0, 1, 1],\n",
        "[1, 1, 0, 1, 1, 0],\n",
        "[1, 1, 1, 0, 1, 0],\n",
        "[1, 1, 0, 0, 1, 0],\n",
        "]\n",
        "vars = \"tuwxyz\"\n",
        "lnot = \"\\lnot\"\n",
        "land = \"\\land\"\n",
        "x = 0\n",
        "s = satisfying[0]\n",
        "#f'${lnot if not s[x] else \"\"}'\n",
        "print(\"$\" + \"\\lor\".join(['(' + \"\\land\".join([f'{lnot if not s[x] else \"\"} {vars[x]} 'for  x in range(len(vars))]) + ')'for s in satisfying  ]) + \"$\")"
      ],
      "execution_count": null,
      "outputs": [
        {
          "output_type": "stream",
          "text": [
            "$(\\lnot t \\land\\lnot u \\land w \\land x \\land\\lnot y \\land z )\\lor(\\lnot t \\land\\lnot u \\land w \\land x \\land y \\land z )\\lor(\\lnot t \\land u \\land w \\land x \\land\\lnot y \\land z )\\lor(\\lnot t \\land u \\land w \\land x \\land y \\land z )\\lor( t \\land\\lnot u \\land w \\land x \\land\\lnot y \\land z )\\lor( t \\land\\lnot u \\land w \\land x \\land y \\land z )\\lor( t \\land u \\land w \\land x \\land\\lnot y \\land z )\\lor( t \\land u \\land w \\land x \\land y \\land z )\\lor(\\lnot t \\land\\lnot u \\land w \\land x \\land y \\land\\lnot z )\\lor(\\lnot t \\land u \\land\\lnot w \\land x \\land\\lnot y \\land z )\\lor(\\lnot t \\land u \\land\\lnot w \\land x \\land y \\land z )\\lor(\\lnot t \\land u \\land w \\land x \\land y \\land\\lnot z )\\lor( t \\land\\lnot u \\land w \\land\\lnot x \\land\\lnot y \\land z )\\lor( t \\land\\lnot u \\land w \\land\\lnot x \\land y \\land z )\\lor( t \\land\\lnot u \\land w \\land x \\land y \\land\\lnot z )\\lor( t \\land u \\land\\lnot w \\land x \\land\\lnot y \\land z )\\lor( t \\land u \\land w \\land\\lnot x \\land\\lnot y \\land z )\\lor( t \\land u \\land\\lnot w \\land x \\land y \\land z )\\lor( t \\land u \\land w \\land\\lnot x \\land y \\land z )\\lor( t \\land u \\land w \\land x \\land y \\land\\lnot z )\\lor(\\lnot t \\land u \\land\\lnot w \\land x \\land y \\land\\lnot z )\\lor( t \\land\\lnot u \\land w \\land\\lnot x \\land y \\land\\lnot z )\\lor( t \\land u \\land\\lnot w \\land\\lnot x \\land\\lnot y \\land z )\\lor( t \\land u \\land\\lnot w \\land\\lnot x \\land y \\land z )\\lor( t \\land u \\land\\lnot w \\land x \\land y \\land\\lnot z )\\lor( t \\land u \\land w \\land\\lnot x \\land y \\land\\lnot z )\\lor( t \\land u \\land\\lnot w \\land\\lnot x \\land y \\land\\lnot z )$\n"
          ],
          "name": "stdout"
        }
      ]
    },
    {
      "cell_type": "markdown",
      "metadata": {
        "id": "Ot9adlgvUsM5"
      },
      "source": [
        "$(\\lnot t \\land\\lnot u \\land w \\land x \\land\\lnot y \\land z )\\lor(\\lnot t \\land\\lnot u \\land w \\land x \\land y \\land z )\\lor(\\lnot t \\land u \\land w \\land x \\land\\lnot y \\land z )\\lor(\\lnot t \\land u \\land w \\land x \\land y \\land z )\\lor( t \\land\\lnot u \\land w \\land x \\land\\lnot y \\land z )\\lor( t \\land\\lnot u \\land w \\land x \\land y \\land z )\\lor( t \\land u \\land w \\land x \\land\\lnot y \\land z )\\lor( t \\land u \\land w \\land x \\land y \\land z )\\lor(\\lnot t \\land\\lnot u \\land w \\land x \\land y \\land\\lnot z )\\lor(\\lnot t \\land u \\land\\lnot w \\land x \\land\\lnot y \\land z )\\lor(\\lnot t \\land u \\land\\lnot w \\land x \\land y \\land z )\\lor(\\lnot t \\land u \\land w \\land x \\land y \\land\\lnot z )\\lor( t \\land\\lnot u \\land w \\land\\lnot x \\land\\lnot y \\land z )\\lor( t \\land\\lnot u \\land w \\land\\lnot x \\land y \\land z )\\lor( t \\land\\lnot u \\land w \\land x \\land y \\land\\lnot z )\\lor( t \\land u \\land\\lnot w \\land x \\land\\lnot y \\land z )\\lor( t \\land u \\land w \\land\\lnot x \\land\\lnot y \\land z )\\lor( t \\land u \\land\\lnot w \\land x \\land y \\land z )\\lor( t \\land u \\land w \\land\\lnot x \\land y \\land z )\\lor( t \\land u \\land w \\land x \\land y \\land\\lnot z )\\lor(\\lnot t \\land u \\land\\lnot w \\land x \\land y \\land\\lnot z )\\lor( t \\land\\lnot u \\land w \\land\\lnot x \\land y \\land\\lnot z )\\lor( t \\land u \\land\\lnot w \\land\\lnot x \\land\\lnot y \\land z )\\lor( t \\land u \\land\\lnot w \\land\\lnot x \\land y \\land z )\\lor( t \\land u \\land\\lnot w \\land x \\land y \\land\\lnot z )\\lor( t \\land u \\land w \\land\\lnot x \\land y \\land\\lnot z )\\lor( t \\land u \\land\\lnot w \\land\\lnot x \\land y \\land\\lnot z )$\n"
      ]
    },
    {
      "cell_type": "markdown",
      "metadata": {
        "id": "e01sEgnPcHui"
      },
      "source": [
        "### Generalizing"
      ]
    },
    {
      "cell_type": "markdown",
      "metadata": {
        "id": "b19t2gE_cJwc"
      },
      "source": [
        "Formed over the $2n$ variables\n",
        "\n",
        "$x^1_0, \\cdots, x^n_0, x^1_1, \\cdots, x^n_1$\n",
        "\n",
        "the CNF\n",
        "\n",
        "$(x^1_0 \\lor x^1_1) \\land (x^2_0 \\lor x^2_1) \\land \\cdots \\land (x^n_0 \\lor x^n_1)$\n",
        "\n",
        "has $n$ conjuncts. Its corresponding DNF has $2^n$ disjuncts, one for each of the $n$-digit binary numbers 000...000 to 111...111 --- the $i^{th}$ digit representing a choice of either $x^i_0$ (for 0) or $x^i_1$ (for 1).\n",
        "\n",
        "$(x^1_0 \\land x^2_0 \\land \\cdots \\land x^{n - 1}_0 \\land x^n_0)\\ \\lor$\n",
        "\n",
        "$(x^1_0 \\land x^2_0 \\land \\cdots \\land x^{n - 1}_0 \\land x^n_1)\\ \\lor$\n",
        "\n",
        "$\\cdots$\n",
        "\n",
        "$(x^1_1 \\land x^2_1 \\land \\cdots \\land x^{n - 1}_1 \\land x^n_0)\\ \\lor$\n",
        "\n",
        "$(x^1_1 \\land x^2_1 \\land \\cdots \\land x^{n - 1}_1 \\land x^n_1)$.\n",
        "\n",
        "Whereas the original expression has size proportional to $n$ the DNF has size proportional to $n2^n$."
      ]
    },
    {
      "cell_type": "markdown",
      "metadata": {
        "id": "D4TZ6MPxcfQ9"
      },
      "source": [
        "### Explain Two Things\n"
      ]
    },
    {
      "cell_type": "markdown",
      "metadata": {
        "id": "D0DVA-aKci54"
      },
      "source": [
        "Now explain how the Cook-Levin Theorem implies that checking INequivalence between Boolean expressions is NP-Hard.\n",
        "\n",
        "Next, explain how the question of tautology and satisfiability can be decided if we are given an algorithm for checking equivalence between Boolean expressions."
      ]
    },
    {
      "cell_type": "markdown",
      "metadata": {
        "id": "wH5Z4-LvzLzy"
      },
      "source": [
        "Cook-Levin says CNF satisfiablility is NP-complete.\n",
        "\n",
        "It also says checking DNF tautology is co-NP-complete.\n",
        "\n",
        "The difference between two boolean expressions $B_1$ and $B_2$ can be translated to the negation of a DNF tautology check $(CNF(B_1) \\land CNF(B_2)) \\lor (\\lnot CNF(B_1) \\land \\lnot CNF(B_2))$\n",
        "\n",
        "Because CNF satisfiability is NP-complete and DNF tautology is co-NP-complete, and all NP-complete and co-NP-complete problems are np-hard, it follows that checking the inequivalence between boolean expressions is NP-hard."
      ]
    },
    {
      "cell_type": "markdown",
      "metadata": {
        "id": "BCMHLdPq2HG3"
      },
      "source": [
        "Suppose `b-equiv` is the function that checks the equivalence between boolean expressions.\n",
        "\n",
        "Suppose `b-expression` takes a predicate that takes an association list of variable names and their values, and converts it to a form b-equiv can handle.\n",
        "\n",
        "The following code will test if the given boolean expression is a tautology.\n",
        "```\n",
        "(define (tautology? b-exp)\n",
        "\"Return #t iff b-exp is a tautology.\"\n",
        "  (b-equiv b-exp (b-expression (lambda (assoc-list) (#t)))))\n",
        "```"
      ]
    }
  ]
}