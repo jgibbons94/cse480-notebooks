{
 "cells": [
  {
   "cell_type": "markdown",
   "metadata": {},
   "source": [
    "# First let's import, then look for the assignment below"
   ]
  },
  {
   "cell_type": "code",
   "execution_count": 1,
   "metadata": {},
   "outputs": [
    {
     "name": "stdout",
     "output_type": "stream",
     "text": [
      "You may use any of these help commands:\n",
      "help(lphi)\n",
      "help(lunit)\n",
      "help(lcat)\n",
      "help(lexp)\n",
      "help(lunion)\n",
      "help(lstar)\n",
      "help(srev)\n",
      "help(lrev)\n",
      "help(shomo)\n",
      "help(lhomo)\n",
      "help(powset)\n",
      "help(lint)\n",
      "help(lsymdiff)\n",
      "help(lminus)\n",
      "help(lissubset)\n",
      "help(lissuperset)\n",
      "help(lcomplem)\n",
      "help(product)\n",
      "help(nthnumeric)\n",
      "\n"
     ]
    }
   ],
   "source": [
    "#~~~~~~~~~~~~~~~~~~~~~~~~~~~~~~~~~~~~~~~~~~~~~~~~~~~~~~~\n",
    "import sys\n",
    "\n",
    "# -- Detect if in Own Install or in Colab\n",
    "try:\n",
    "    import google.colab\n",
    "    OWN_INSTALL = False\n",
    "except:\n",
    "    OWN_INSTALL = True\n",
    "    \n",
    "if OWN_INSTALL:\n",
    "\n",
    "  sys.path[0:0] = ['../../../../..',  '../../../../../3rdparty',  \n",
    "                   '../../../..',  '../../../../3rdparty',  \n",
    "                   '../../..',     '../../../3rdparty', \n",
    "                   '../..',        '../../3rdparty',\n",
    "                   '..',           '../3rdparty' ]\n",
    "\n",
    "else: # In colab\n",
    "  ! if [ ! -d Jove ]; then git clone https://github.com/ganeshutah/Jove Jove; fi\n",
    "  sys.path.append('./Jove')\n",
    "  sys.path.append('./Jove/jove')\n",
    "\n",
    "# -- common imports --\n",
    "from jove.LangDef   import *\n",
    "#~~~~~~~~~~~~~~~~~~~~~~~~~~~~~~~~~~~~~~~~~~~~~~~~~~~~~~~"
   ]
  },
  {
   "cell_type": "markdown",
   "metadata": {},
   "source": [
    "# Week 02 Notebook 5 on Language Basics\n",
    "\n",
    "<font size=\"4\"> \n",
    "\n",
    "This problem helps you review the basics of languages, symbols, strings, concatenation, etc. It presents the material in the form of puzzles.  \n",
    "    \n",
    "There are four tasks for you to complete.\n",
    " \n",
    "</font>"
   ]
  },
  {
   "cell_type": "markdown",
   "metadata": {},
   "source": [
    "<font size=\"4\"> \n",
    "\n",
    " \n",
    "1. If there are two languages $L_1$ and $L_2$, their concatenation has smaller size than their cartesian product if the following condition is met:\n",
    "    \n",
    "    **Their intersection is at least of size 2 and contains $\\varepsilon$**\n",
    "    \n",
    "    (The other aspects of the languages may be different.)\n",
    "    \n",
    "Your tasks are described below.\n",
    "    \n",
    "</font>"
   ]
  },
  {
   "cell_type": "markdown",
   "metadata": {},
   "source": [
    "# Space below for your arguments\n",
    "<font size=\"4\">\n",
    "Suppose the intersection is {$\\epsilon$, 0}. Then the cartesian product includes the tuples {$(\\epsilon,\\epsilon), (\\epsilon,0), (0, \\epsilon), (0, 0)$}. Since the concatination of two languages maps their cartesian product through the string concatination function, the concatinated language includes the strings {$\\epsilon\\epsilon, \\epsilon0, 0\\epsilon, 00$}.\n",
    "However, since $\\epsilon$ is the identity of string concatenation, this can be reduced to {$\\epsilon, 0, 00$}. Therefore, concatination in this case is not a one-to-one mapping, and there is at least one more tuple in the cartesian product than strings in the concatenation.\n",
    "</font>"
   ]
  },
  {
   "cell_type": "markdown",
   "metadata": {},
   "source": [
    "## Now present code that supports or refutes the claim."
   ]
  },
  {
   "cell_type": "markdown",
   "metadata": {},
   "source": [
    "# Task 1: Define two languages to print \"cat and product have the same size\" below. L1 and L2 must both contain $\\varepsilon$."
   ]
  },
  {
   "cell_type": "code",
   "execution_count": 6,
   "metadata": {},
   "outputs": [],
   "source": [
    "L1 = {'', '1'}\n",
    "L2 = {'','0'}"
   ]
  },
  {
   "cell_type": "code",
   "execution_count": 7,
   "metadata": {},
   "outputs": [
    {
     "name": "stdout",
     "output_type": "stream",
     "text": [
      "L1 and L2 are {'', '1'} {'', '0'}\n",
      "Cat of L1 and L2 is {'', '1', '10', '0'}  of size  4\n",
      "Intersection of L1 and L2 is {''}  of size  1\n",
      "Product of L1 and L2 is {('1', '0'), ('', '0'), ('1', ''), ('', '')}  of size  4\n",
      " cat and product have the same size \n"
     ]
    }
   ],
   "source": [
    "print(\"L1 and L2 are\", L1, L2)\n",
    "\n",
    "# Perform their contatenation \n",
    "\n",
    "catL1L2 = lcat(L1,L2)\n",
    "lencatL1L2 = len(catL1L2)\n",
    "\n",
    "print(\"Cat of L1 and L2 is\", catL1L2, \" of size \", lencatL1L2)\n",
    "\n",
    "# Perform their intersection\n",
    "\n",
    "intL1L2 = lint(L1,L2)\n",
    "lenintL1L2 = len(intL1L2)\n",
    "\n",
    "print(\"Intersection of L1 and L2 is\", intL1L2, \" of size \", lenintL1L2)\n",
    "\n",
    "# Make a statement of what you observe\n",
    "\n",
    "prodL1L2 = { (x,y) for x in L1 for y in L2 }\n",
    "lenprodL1L2 = len(prodL1L2)\n",
    "\n",
    "print(\"Product of L1 and L2 is\", prodL1L2, \" of size \", lenprodL1L2)\n",
    "\n",
    "if (lenprodL1L2 != lencatL1L2):\n",
    "    print(\" cat and product differ in size \")\n",
    "else:\n",
    "    print(\" cat and product have the same size \")\n",
    "    \n",
    " "
   ]
  },
  {
   "cell_type": "markdown",
   "metadata": {},
   "source": [
    "#### The statements you are requested to make corresponding to the prints can be added below\n",
    "Concatenation is size 4.\n",
    "Intersection is size 1.\n",
    "Product is size 4.\n",
    "#### Did you choose the languages such that cat and intersection resulted in the same size?\n",
    "\n",
    "Yes, the only element these languages have in common is $\\epsilon$.\n"
   ]
  },
  {
   "cell_type": "markdown",
   "metadata": {},
   "source": [
    "# Task 2: Define two languages to print \"cat and product differ in size\" below. L1 and L2 must both contain $\\varepsilon$."
   ]
  },
  {
   "cell_type": "code",
   "execution_count": 10,
   "metadata": {},
   "outputs": [],
   "source": [
    "L1 = {'','hello','world', 'bar'}\n",
    "L2 = {'', 'hello', 'foo', 'bar'}"
   ]
  },
  {
   "cell_type": "code",
   "execution_count": 12,
   "metadata": {},
   "outputs": [
    {
     "name": "stdout",
     "output_type": "stream",
     "text": [
      "L1 and L2 are {'', 'hello', 'world', 'bar'} {'', 'hello', 'bar', 'foo'}\n",
      "Cat of L1 and L2 is {'', 'bar', 'worldhello', 'hellobar', 'barbar', 'hellofoo', 'hello', 'barfoo', 'hellohello', 'world', 'worldbar', 'worldfoo', 'foo', 'barhello'}  of size  14\n",
      "Intersection of L1 and L2 is {'', 'hello', 'bar'}  of size  3\n",
      "Product of L1 and L2 is {('bar', ''), ('bar', 'foo'), ('', ''), ('world', 'bar'), ('', 'foo'), ('bar', 'hello'), ('world', 'hello'), ('bar', 'bar'), ('hello', ''), ('hello', 'foo'), ('', 'bar'), ('world', ''), ('', 'hello'), ('hello', 'hello'), ('hello', 'bar'), ('world', 'foo')}  of size  16\n",
      " cat and product differ in size \n"
     ]
    }
   ],
   "source": [
    "print(\"L1 and L2 are\", L1, L2)\n",
    "\n",
    "# Perform their contatenation \n",
    "\n",
    "catL1L2 = lcat(L1,L2)\n",
    "lencatL1L2 = len(catL1L2)\n",
    "\n",
    "print(\"Cat of L1 and L2 is\", catL1L2, \" of size \", lencatL1L2)\n",
    "\n",
    "# Perform their intersection\n",
    "\n",
    "intL1L2 = lint(L1,L2)\n",
    "lenintL1L2 = len(intL1L2)\n",
    "\n",
    "print(\"Intersection of L1 and L2 is\", intL1L2, \" of size \", lenintL1L2)\n",
    "\n",
    "# Make a statement of what you observe\n",
    "\n",
    "prodL1L2 = { (x,y) for x in L1 for y in L2 }\n",
    "lenprodL1L2 = len(prodL1L2)\n",
    "\n",
    "print(\"Product of L1 and L2 is\", prodL1L2, \" of size \", lenprodL1L2)\n",
    "\n",
    "if (lenprodL1L2 != lencatL1L2):\n",
    "    print(\" cat and product differ in size \")\n",
    "else:\n",
    "    print(\" cat and product have the same size \")\n",
    "    \n",
    " "
   ]
  },
  {
   "cell_type": "markdown",
   "metadata": {},
   "source": [
    "#### The statements you are requested to make corresponding to the prints can be added below\n",
    "The more elements the languages have in common, the greater the difference of the size of their product and their concatination.\n",
    "#### Did you choose the languages such that cat and product resulted in different sizes?\n",
    "\n",
    "Yes.\n"
   ]
  },
  {
   "cell_type": "markdown",
   "metadata": {},
   "source": [
    "# Here is a claim relating intersection to concatenation\n",
    "\n",
    "<font size=\"4\"> \n",
    "\n",
    "If there are two languages $L_1$ and $L_2$, their intersection can never be the same as their concatenation if the languages are finite.\n",
    "     \n",
    "</font>"
   ]
  },
  {
   "cell_type": "markdown",
   "metadata": {},
   "source": [
    "## Task 3: Define L1 and L2 (both finite) to make intersection = concatenation"
   ]
  },
  {
   "cell_type": "code",
   "execution_count": 17,
   "metadata": {},
   "outputs": [
    {
     "name": "stdout",
     "output_type": "stream",
     "text": [
      "intersection =  {''}\n",
      "concatenation =  {''}\n"
     ]
    }
   ],
   "source": [
    "# Define two FINITE languages\n",
    "L1 = {''}\n",
    "L2 = {''}\n",
    "\n",
    "# Perform their intersection\n",
    "\n",
    "intL1L2 = lint(L1,L2)\n",
    "\n",
    "# Perform their concatenation\n",
    "\n",
    "catL1L2 = lcat(L1,L2)\n",
    "\n",
    "# Make a statement of what you observe\n",
    "\n",
    "print(\"intersection = \", intL1L2)\n",
    "print(\"concatenation = \", catL1L2)\n",
    "\n",
    "# THEY MUST BE THE SAME"
   ]
  },
  {
   "cell_type": "markdown",
   "metadata": {},
   "source": [
    "## Task 4: Define L1 and L2 (both finite) to make intersection != concatenation"
   ]
  },
  {
   "cell_type": "code",
   "execution_count": 18,
   "metadata": {
    "collapsed": true
   },
   "outputs": [
    {
     "name": "stdout",
     "output_type": "stream",
     "text": [
      "intersection =  set()\n",
      "concatenation =  {'01'}\n"
     ]
    }
   ],
   "source": [
    "# Define two FINITE languages\n",
    "L1 = {'0'}\n",
    "L2 = {'1'}\n",
    "\n",
    "# Perform their intersection\n",
    "\n",
    "intL1L2 = lint(L1,L2)\n",
    "\n",
    "# Perform their concatenation\n",
    "\n",
    "catL1L2 = lcat(L1,L2)\n",
    "\n",
    "# Make a statement of what you observe\n",
    "\n",
    "print(\"intersection = \", intL1L2)\n",
    "print(\"concatenation = \", catL1L2)\n",
    "\n",
    "# THEY MUST BE DIFFERENT"
   ]
  },
  {
   "cell_type": "markdown",
   "metadata": {},
   "source": [
    "# END"
   ]
  }
 ],
 "metadata": {
  "kernelspec": {
   "display_name": "Python 3",
   "language": "/gnu/store/h8jw9qhyfp6fm6nb3cgh4335qhr31wfz-python-wrapper-3.8.2/bin/python",
   "name": "python3"
  },
  "language_info": {
   "codemirror_mode": {
    "name": "ipython",
    "version": 3
   },
   "file_extension": ".py",
   "mimetype": "text/x-python",
   "name": "python",
   "nbconvert_exporter": "python",
   "pygments_lexer": "ipython3",
   "version": "3.8.2"
  }
 },
 "nbformat": 4,
 "nbformat_minor": 2
}
