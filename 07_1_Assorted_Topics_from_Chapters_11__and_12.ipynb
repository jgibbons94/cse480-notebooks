{
  "nbformat": 4,
  "nbformat_minor": 0,
  "metadata": {
    "colab": {
      "name": "07_1_Assorted_Topics_from_Chapters_11 _and_12.ipynb",
      "provenance": [],
      "collapsed_sections": [],
      "include_colab_link": true
    },
    "kernelspec": {
      "name": "python3",
      "display_name": "Python 3"
    },
    "widgets": {
      "application/vnd.jupyter.widget-state+json": {
        "bee7495db123413f8617e68ae858ddf1": {
          "model_module": "@jupyter-widgets/controls",
          "model_name": "VBoxModel",
          "state": {
            "_view_name": "VBoxView",
            "_dom_classes": [],
            "_model_name": "VBoxModel",
            "_view_module": "@jupyter-widgets/controls",
            "_model_module_version": "1.5.0",
            "_view_count": null,
            "_view_module_version": "1.5.0",
            "box_style": "",
            "layout": "IPY_MODEL_6755d85a9a5c47429971013618f47444",
            "_model_module": "@jupyter-widgets/controls",
            "children": [
              "IPY_MODEL_4823b162f3cc4ae5bdf623e2efdc355a",
              "IPY_MODEL_a15742062447476a88a3723e81ad4897",
              "IPY_MODEL_f8043aae43c64681bc17d0ab34cccd05",
              "IPY_MODEL_f45f4dd7023545bf8cee8e61ac39c8fe",
              "IPY_MODEL_7ddb01d746964b8693288cefc65c126a",
              "IPY_MODEL_33d3142b40ac42e5b4871fd9d44a928d",
              "IPY_MODEL_fb8f8623d6624fe7bf11d64f57531c67"
            ]
          }
        },
        "6755d85a9a5c47429971013618f47444": {
          "model_module": "@jupyter-widgets/base",
          "model_name": "LayoutModel",
          "state": {
            "_view_name": "LayoutView",
            "grid_template_rows": null,
            "right": null,
            "justify_content": null,
            "_view_module": "@jupyter-widgets/base",
            "overflow": null,
            "_model_module_version": "1.2.0",
            "_view_count": null,
            "flex_flow": null,
            "width": null,
            "min_width": null,
            "border": null,
            "align_items": null,
            "bottom": null,
            "_model_module": "@jupyter-widgets/base",
            "top": null,
            "grid_column": null,
            "overflow_y": null,
            "overflow_x": null,
            "grid_auto_flow": null,
            "grid_area": null,
            "grid_template_columns": null,
            "flex": null,
            "_model_name": "LayoutModel",
            "justify_items": null,
            "grid_row": null,
            "max_height": null,
            "align_content": null,
            "visibility": null,
            "align_self": null,
            "height": null,
            "min_height": null,
            "padding": null,
            "grid_auto_rows": null,
            "grid_gap": null,
            "max_width": null,
            "order": null,
            "_view_module_version": "1.2.0",
            "grid_template_areas": null,
            "object_position": null,
            "object_fit": null,
            "grid_auto_columns": null,
            "margin": null,
            "display": null,
            "left": null
          }
        },
        "4823b162f3cc4ae5bdf623e2efdc355a": {
          "model_module": "@jupyter-widgets/controls",
          "model_name": "HBoxModel",
          "state": {
            "_view_name": "HBoxView",
            "_dom_classes": [],
            "_model_name": "HBoxModel",
            "_view_module": "@jupyter-widgets/controls",
            "_model_module_version": "1.5.0",
            "_view_count": null,
            "_view_module_version": "1.5.0",
            "box_style": "",
            "layout": "IPY_MODEL_bb1f252bd9e14b039a34073b1dec940a",
            "_model_module": "@jupyter-widgets/controls",
            "children": [
              "IPY_MODEL_2bd8ce9ebca84ff0b50a9edcba20f2ef",
              "IPY_MODEL_7bdc4495fee4422b91113a32e53722ee",
              "IPY_MODEL_950934b04c2342ef8d19b27884b7d69f"
            ]
          }
        },
        "a15742062447476a88a3723e81ad4897": {
          "model_module": "@jupyter-widgets/controls",
          "model_name": "HBoxModel",
          "state": {
            "_view_name": "HBoxView",
            "_dom_classes": [],
            "_model_name": "HBoxModel",
            "_view_module": "@jupyter-widgets/controls",
            "_model_module_version": "1.5.0",
            "_view_count": null,
            "_view_module_version": "1.5.0",
            "box_style": "",
            "layout": "IPY_MODEL_47c24487fe3146528f5f0071e6fec4a0",
            "_model_module": "@jupyter-widgets/controls",
            "children": [
              "IPY_MODEL_ddfb7a0c747c45a3b7fc86f22b8a1562"
            ]
          }
        },
        "f8043aae43c64681bc17d0ab34cccd05": {
          "model_module": "@jupyter-widgets/output",
          "model_name": "OutputModel",
          "state": {
            "_view_name": "OutputView",
            "msg_id": "",
            "_dom_classes": [],
            "_model_name": "OutputModel",
            "outputs": [],
            "_view_module": "@jupyter-widgets/output",
            "_model_module_version": "1.0.0",
            "_view_count": null,
            "_view_module_version": "1.0.0",
            "layout": "IPY_MODEL_5803c82cbb154e89a3cbe3fc2cbe74f5",
            "_model_module": "@jupyter-widgets/output"
          }
        },
        "f45f4dd7023545bf8cee8e61ac39c8fe": {
          "model_module": "@jupyter-widgets/controls",
          "model_name": "HBoxModel",
          "state": {
            "_view_name": "HBoxView",
            "_dom_classes": [],
            "_model_name": "HBoxModel",
            "_view_module": "@jupyter-widgets/controls",
            "_model_module_version": "1.5.0",
            "_view_count": null,
            "_view_module_version": "1.5.0",
            "box_style": "",
            "layout": "IPY_MODEL_3284e34e42d04d0facdd3fdc1b617ca8",
            "_model_module": "@jupyter-widgets/controls",
            "children": [
              "IPY_MODEL_a4252eb571fa43c38748ec0f3ff833d9",
              "IPY_MODEL_5a84362175e84dc2b1390264ff42a7c3"
            ]
          }
        },
        "7ddb01d746964b8693288cefc65c126a": {
          "model_module": "@jupyter-widgets/output",
          "model_name": "OutputModel",
          "state": {
            "_view_name": "OutputView",
            "msg_id": "",
            "_dom_classes": [],
            "_model_name": "OutputModel",
            "outputs": [
              {
                "output_type": "display_data",
                "metadata": {
                  "tags": []
                },
                "text/plain": "<graphviz.files.Source at 0x7f5360e69ac8>",
                "image/svg+xml": "<?xml version=\"1.0\" encoding=\"UTF-8\" standalone=\"no\"?>\n<!DOCTYPE svg PUBLIC \"-//W3C//DTD SVG 1.1//EN\"\n \"http://www.w3.org/Graphics/SVG/1.1/DTD/svg11.dtd\">\n<!-- Generated by graphviz version 2.40.1 (20161225.0304)\n -->\n<!-- Title: %3 Pages: 1 -->\n<svg width=\"101pt\" height=\"47pt\"\n viewBox=\"0.00 0.00 101.00 47.00\" xmlns=\"http://www.w3.org/2000/svg\" xmlns:xlink=\"http://www.w3.org/1999/xlink\">\n<g id=\"graph0\" class=\"graph\" transform=\"scale(1 1) rotate(0) translate(4 43)\">\n<title>%3</title>\n<polygon fill=\"#ffffff\" stroke=\"transparent\" points=\"-4,4 -4,-43 97,-43 97,4 -4,4\"/>\n<!-- feed -->\n<g id=\"node1\" class=\"node\">\n<title>feed</title>\n<polygon fill=\"none\" stroke=\"#000000\" points=\"8.5,-3.5 8.5,-34.5 42.5,-34.5 42.5,-3.5 8.5,-3.5\"/>\n<text text-anchor=\"start\" x=\"17.5\" y=\"-15.9\" font-family=\"Times,serif\" font-size=\"12.00\" fill=\"#000000\">()()</text>\n<polygon fill=\"none\" stroke=\"#000000\" points=\"42.5,-3.5 42.5,-34.5 67.5,-34.5 67.5,-3.5 42.5,-3.5\"/>\n<text text-anchor=\"start\" x=\"51.5\" y=\"-15.9\" font-family=\"Times,serif\" font-size=\"12.00\" fill=\"#000000\"> &#160;</text>\n<polygon fill=\"none\" stroke=\"#000000\" points=\"67.5,-3.5 67.5,-34.5 85.5,-34.5 85.5,-3.5 67.5,-3.5\"/>\n</g>\n</g>\n</svg>\n"
              }
            ],
            "_view_module": "@jupyter-widgets/output",
            "_model_module_version": "1.0.0",
            "_view_count": null,
            "_view_module_version": "1.0.0",
            "layout": "IPY_MODEL_68a2bed4a61248bfbb1a3b5b33c84254",
            "_model_module": "@jupyter-widgets/output"
          }
        },
        "33d3142b40ac42e5b4871fd9d44a928d": {
          "model_module": "@jupyter-widgets/controls",
          "model_name": "HBoxModel",
          "state": {
            "_view_name": "HBoxView",
            "_dom_classes": [],
            "_model_name": "HBoxModel",
            "_view_module": "@jupyter-widgets/controls",
            "_model_module_version": "1.5.0",
            "_view_count": null,
            "_view_module_version": "1.5.0",
            "box_style": "",
            "layout": "IPY_MODEL_4e206f3e95f74fc9bdb6245efeb70217",
            "_model_module": "@jupyter-widgets/controls",
            "children": [
              "IPY_MODEL_4607219f8bc243cd9d78059f1678a263",
              "IPY_MODEL_7456823a67a14772a8d08a30dcbc2373",
              "IPY_MODEL_29c7d5dc0dd44e859a3d3c96e6d89bfd",
              "IPY_MODEL_df22e5367014475086d79aee11ce9f3c",
              "IPY_MODEL_3570275d1854437398e558c62ed3d7ae"
            ]
          }
        },
        "fb8f8623d6624fe7bf11d64f57531c67": {
          "model_module": "@jupyter-widgets/output",
          "model_name": "OutputModel",
          "state": {
            "_view_name": "OutputView",
            "msg_id": "",
            "_dom_classes": [],
            "_model_name": "OutputModel",
            "outputs": [],
            "_view_module": "@jupyter-widgets/output",
            "_model_module_version": "1.0.0",
            "_view_count": null,
            "_view_module_version": "1.0.0",
            "layout": "IPY_MODEL_1156b9ef34dd4cefb0b2bfb90ceb9ccf",
            "_model_module": "@jupyter-widgets/output"
          }
        },
        "bb1f252bd9e14b039a34073b1dec940a": {
          "model_module": "@jupyter-widgets/base",
          "model_name": "LayoutModel",
          "state": {
            "_view_name": "LayoutView",
            "grid_template_rows": null,
            "right": null,
            "justify_content": null,
            "_view_module": "@jupyter-widgets/base",
            "overflow": null,
            "_model_module_version": "1.2.0",
            "_view_count": null,
            "flex_flow": null,
            "width": null,
            "min_width": null,
            "border": null,
            "align_items": null,
            "bottom": null,
            "_model_module": "@jupyter-widgets/base",
            "top": null,
            "grid_column": null,
            "overflow_y": null,
            "overflow_x": null,
            "grid_auto_flow": null,
            "grid_area": null,
            "grid_template_columns": null,
            "flex": null,
            "_model_name": "LayoutModel",
            "justify_items": null,
            "grid_row": null,
            "max_height": null,
            "align_content": null,
            "visibility": null,
            "align_self": null,
            "height": null,
            "min_height": null,
            "padding": null,
            "grid_auto_rows": null,
            "grid_gap": null,
            "max_width": null,
            "order": null,
            "_view_module_version": "1.2.0",
            "grid_template_areas": null,
            "object_position": null,
            "object_fit": null,
            "grid_auto_columns": null,
            "margin": null,
            "display": null,
            "left": null
          }
        },
        "2bd8ce9ebca84ff0b50a9edcba20f2ef": {
          "model_module": "@jupyter-widgets/controls",
          "model_name": "TextModel",
          "state": {
            "_view_name": "TextView",
            "style": "IPY_MODEL_bfc1a0c8f86846538387758a14c00ff7",
            "_dom_classes": [],
            "description": "Input:",
            "_model_name": "TextModel",
            "placeholder": "Sigma: {(,),b}",
            "_view_module": "@jupyter-widgets/controls",
            "_model_module_version": "1.5.0",
            "value": "()()",
            "_view_count": null,
            "disabled": true,
            "_view_module_version": "1.5.0",
            "continuous_update": true,
            "description_tooltip": null,
            "_model_module": "@jupyter-widgets/controls",
            "layout": "IPY_MODEL_e90714e6954f419f845365853cab0a3e"
          }
        },
        "7bdc4495fee4422b91113a32e53722ee": {
          "model_module": "@jupyter-widgets/controls",
          "model_name": "DropdownModel",
          "state": {
            "_options_labels": [
              "State",
              "Stack"
            ],
            "_view_name": "DropdownView",
            "style": "IPY_MODEL_d0905743a0ae42fa8b6ceb01a168e287",
            "_dom_classes": [],
            "description": "Acceptance:",
            "_model_name": "DropdownModel",
            "index": 0,
            "_view_module": "@jupyter-widgets/controls",
            "_model_module_version": "1.5.0",
            "_view_count": null,
            "disabled": true,
            "_view_module_version": "1.5.0",
            "description_tooltip": null,
            "_model_module": "@jupyter-widgets/controls",
            "layout": "IPY_MODEL_10c5a32a055f4e93a213f0e1e535fca9"
          }
        },
        "950934b04c2342ef8d19b27884b7d69f": {
          "model_module": "@jupyter-widgets/controls",
          "model_name": "ButtonModel",
          "state": {
            "_view_name": "ButtonView",
            "style": "IPY_MODEL_a467a6abd4a146ebb0ea9d7847b6c32c",
            "_dom_classes": [],
            "description": "Change Input",
            "_model_name": "ButtonModel",
            "button_style": "primary",
            "_view_module": "@jupyter-widgets/controls",
            "_model_module_version": "1.5.0",
            "tooltip": "",
            "_view_count": null,
            "disabled": false,
            "_view_module_version": "1.5.0",
            "layout": "IPY_MODEL_6ec8e1e0f72f4b5cbfdf8880e8d1bcd0",
            "_model_module": "@jupyter-widgets/controls",
            "icon": ""
          }
        },
        "47c24487fe3146528f5f0071e6fec4a0": {
          "model_module": "@jupyter-widgets/base",
          "model_name": "LayoutModel",
          "state": {
            "_view_name": "LayoutView",
            "grid_template_rows": null,
            "right": null,
            "justify_content": null,
            "_view_module": "@jupyter-widgets/base",
            "overflow": null,
            "_model_module_version": "1.2.0",
            "_view_count": null,
            "flex_flow": null,
            "width": null,
            "min_width": null,
            "border": null,
            "align_items": null,
            "bottom": null,
            "_model_module": "@jupyter-widgets/base",
            "top": null,
            "grid_column": null,
            "overflow_y": null,
            "overflow_x": null,
            "grid_auto_flow": null,
            "grid_area": null,
            "grid_template_columns": null,
            "flex": null,
            "_model_name": "LayoutModel",
            "justify_items": null,
            "grid_row": null,
            "max_height": null,
            "align_content": null,
            "visibility": null,
            "align_self": null,
            "height": null,
            "min_height": null,
            "padding": null,
            "grid_auto_rows": null,
            "grid_gap": null,
            "max_width": null,
            "order": null,
            "_view_module_version": "1.2.0",
            "grid_template_areas": null,
            "object_position": null,
            "object_fit": null,
            "grid_auto_columns": null,
            "margin": null,
            "display": null,
            "left": null
          }
        },
        "ddfb7a0c747c45a3b7fc86f22b8a1562": {
          "model_module": "@jupyter-widgets/controls",
          "model_name": "IntSliderModel",
          "state": {
            "_view_name": "IntSliderView",
            "style": "IPY_MODEL_23865747d61042419becba8bdb5088cd",
            "_dom_classes": [],
            "description": "Stack Size:",
            "step": 1,
            "_model_name": "IntSliderModel",
            "orientation": "horizontal",
            "max": 30,
            "_view_module": "@jupyter-widgets/controls",
            "_model_module_version": "1.5.0",
            "value": 6,
            "_view_count": null,
            "disabled": true,
            "_view_module_version": "1.5.0",
            "min": 2,
            "continuous_update": false,
            "readout_format": "d",
            "description_tooltip": null,
            "readout": true,
            "_model_module": "@jupyter-widgets/controls",
            "layout": "IPY_MODEL_e0e25c9e65c847cea7b8fc5a29eb5f66"
          }
        },
        "3284e34e42d04d0facdd3fdc1b617ca8": {
          "model_module": "@jupyter-widgets/base",
          "model_name": "LayoutModel",
          "state": {
            "_view_name": "LayoutView",
            "grid_template_rows": null,
            "right": null,
            "justify_content": null,
            "_view_module": "@jupyter-widgets/base",
            "overflow": null,
            "_model_module_version": "1.2.0",
            "_view_count": null,
            "flex_flow": null,
            "width": null,
            "min_width": null,
            "border": null,
            "align_items": null,
            "bottom": null,
            "_model_module": "@jupyter-widgets/base",
            "top": null,
            "grid_column": null,
            "overflow_y": null,
            "overflow_x": null,
            "grid_auto_flow": null,
            "grid_area": null,
            "grid_template_columns": null,
            "flex": null,
            "_model_name": "LayoutModel",
            "justify_items": null,
            "grid_row": null,
            "max_height": null,
            "align_content": null,
            "visibility": null,
            "align_self": null,
            "height": null,
            "min_height": null,
            "padding": null,
            "grid_auto_rows": null,
            "grid_gap": null,
            "max_width": null,
            "order": null,
            "_view_module_version": "1.2.0",
            "grid_template_areas": null,
            "object_position": null,
            "object_fit": null,
            "grid_auto_columns": null,
            "margin": null,
            "display": null,
            "left": null
          }
        },
        "a4252eb571fa43c38748ec0f3ff833d9": {
          "model_module": "@jupyter-widgets/output",
          "model_name": "OutputModel",
          "state": {
            "_view_name": "OutputView",
            "msg_id": "",
            "_dom_classes": [],
            "_model_name": "OutputModel",
            "outputs": [
              {
                "output_type": "display_data",
                "metadata": {
                  "tags": []
                },
                "text/plain": "<graphviz.files.Source at 0x7f5360e69ac8>",
                "image/svg+xml": "<?xml version=\"1.0\" encoding=\"UTF-8\" standalone=\"no\"?>\n<!DOCTYPE svg PUBLIC \"-//W3C//DTD SVG 1.1//EN\"\n \"http://www.w3.org/Graphics/SVG/1.1/DTD/svg11.dtd\">\n<!-- Generated by graphviz version 2.40.1 (20161225.0304)\n -->\n<!-- Title: %3 Pages: 1 -->\n<svg width=\"89pt\" height=\"143pt\"\n viewBox=\"0.00 0.00 89.00 143.00\" xmlns=\"http://www.w3.org/2000/svg\" xmlns:xlink=\"http://www.w3.org/1999/xlink\">\n<g id=\"graph0\" class=\"graph\" transform=\"scale(1 1) rotate(0) translate(4 139)\">\n<title>%3</title>\n<polygon fill=\"#ffffff\" stroke=\"transparent\" points=\"-4,4 -4,-139 85,-139 85,4 -4,4\"/>\n<!-- stack -->\n<g id=\"node1\" class=\"node\">\n<title>stack</title>\n<polygon fill=\"none\" stroke=\"#000000\" points=\"56,-8.5 56,-134.5 81,-134.5 81,-8.5 56,-8.5\"/>\n<text text-anchor=\"middle\" x=\"68.5\" y=\"-120.9\" font-family=\"Times,serif\" font-size=\"12.00\" fill=\"#000000\"> </text>\n<polyline fill=\"none\" stroke=\"#000000\" points=\"56,-113.5 81,-113.5 \"/>\n<text text-anchor=\"middle\" x=\"68.5\" y=\"-99.9\" font-family=\"Times,serif\" font-size=\"12.00\" fill=\"#000000\"> </text>\n<polyline fill=\"none\" stroke=\"#000000\" points=\"56,-92.5 81,-92.5 \"/>\n<text text-anchor=\"middle\" x=\"68.5\" y=\"-78.9\" font-family=\"Times,serif\" font-size=\"12.00\" fill=\"#000000\"> </text>\n<polyline fill=\"none\" stroke=\"#000000\" points=\"56,-71.5 81,-71.5 \"/>\n<text text-anchor=\"middle\" x=\"68.5\" y=\"-57.9\" font-family=\"Times,serif\" font-size=\"12.00\" fill=\"#000000\"> </text>\n<polyline fill=\"none\" stroke=\"#000000\" points=\"56,-50.5 81,-50.5 \"/>\n<text text-anchor=\"middle\" x=\"68.5\" y=\"-36.9\" font-family=\"Times,serif\" font-size=\"12.00\" fill=\"#000000\"> </text>\n<polyline fill=\"none\" stroke=\"#000000\" points=\"56,-29.5 81,-29.5 \"/>\n<text text-anchor=\"middle\" x=\"68.5\" y=\"-15.9\" font-family=\"Times,serif\" font-size=\"12.00\" fill=\"#000000\">#</text>\n</g>\n<!-- Empty -->\n<g id=\"node2\" class=\"node\">\n<title>Empty</title>\n<polygon fill=\"none\" stroke=\"#000000\" stroke-width=\"0\" points=\"0,-.5 0,-36.5 20,-36.5 20,-.5 0,-.5\"/>\n<text text-anchor=\"middle\" x=\"10\" y=\"-15.4\" font-family=\"Times,serif\" font-size=\"12.00\" fill=\"#000000\"> </text>\n</g>\n<!-- Empty&#45;&gt;stack -->\n<g id=\"edge1\" class=\"edge\">\n<title>Empty&#45;&gt;stack:top</title>\n<path fill=\"none\" stroke=\"#000000\" d=\"M20.2313,-18.5C27.077,-18.5 36.5257,-18.5 45.9332,-18.5\"/>\n<polygon fill=\"#000000\" stroke=\"#000000\" points=\"46,-22.0001 56,-18.5 46,-15.0001 46,-22.0001\"/>\n</g>\n</g>\n</svg>\n"
              }
            ],
            "_view_module": "@jupyter-widgets/output",
            "_model_module_version": "1.0.0",
            "_view_count": null,
            "_view_module_version": "1.0.0",
            "layout": "IPY_MODEL_65a9a4d603b6499a969d2a2537920c8a",
            "_model_module": "@jupyter-widgets/output"
          }
        },
        "5a84362175e84dc2b1390264ff42a7c3": {
          "model_module": "@jupyter-widgets/output",
          "model_name": "OutputModel",
          "state": {
            "_view_name": "OutputView",
            "msg_id": "",
            "_dom_classes": [],
            "_model_name": "OutputModel",
            "outputs": [
              {
                "output_type": "display_data",
                "metadata": {
                  "tags": []
                },
                "text/plain": "<graphviz.files.Source at 0x7f5360e69ac8>",
                "image/svg+xml": "<?xml version=\"1.0\" encoding=\"UTF-8\" standalone=\"no\"?>\n<!DOCTYPE svg PUBLIC \"-//W3C//DTD SVG 1.1//EN\"\n \"http://www.w3.org/Graphics/SVG/1.1/DTD/svg11.dtd\">\n<!-- Generated by graphviz version 2.40.1 (20161225.0304)\n -->\n<!-- Title: %3 Pages: 1 -->\n<svg width=\"445pt\" height=\"158pt\"\n viewBox=\"0.00 0.00 444.70 158.35\" xmlns=\"http://www.w3.org/2000/svg\" xmlns:xlink=\"http://www.w3.org/1999/xlink\">\n<g id=\"graph0\" class=\"graph\" transform=\"scale(1 1) rotate(0) translate(4 154.3466)\">\n<title>%3</title>\n<polygon fill=\"#ffffff\" stroke=\"transparent\" points=\"-4,4 -4,-154.3466 440.6967,-154.3466 440.6967,4 -4,4\"/>\n<!-- EMPTY -->\n<g id=\"node1\" class=\"node\">\n<title>EMPTY</title>\n</g>\n<!-- IF -->\n<g id=\"node3\" class=\"node\">\n<title>IF</title>\n<ellipse fill=\"none\" stroke=\"#000000\" cx=\"113.8483\" cy=\"-22.8483\" rx=\"18.724\" ry=\"18.724\"/>\n<ellipse fill=\"none\" stroke=\"#000000\" cx=\"113.8483\" cy=\"-22.8483\" rx=\"22.6977\" ry=\"22.6977\"/>\n<text text-anchor=\"middle\" x=\"113.8483\" y=\"-19.1483\" font-family=\"Times,serif\" font-size=\"14.00\" fill=\"#000000\">IF</text>\n</g>\n<!-- EMPTY&#45;&gt;IF -->\n<g id=\"edge1\" class=\"edge\">\n<title>EMPTY&#45;&gt;IF</title>\n<path fill=\"none\" stroke=\"#000000\" d=\"M54.0033,-22.8483C62.5212,-22.8483 72.0276,-22.8483 80.9112,-22.8483\"/>\n<polygon fill=\"#000000\" stroke=\"#000000\" points=\"80.9572,-26.3484 90.9572,-22.8483 80.9572,-19.3484 80.9572,-26.3484\"/>\n</g>\n<!-- W -->\n<g id=\"node2\" class=\"node\">\n<title>W</title>\n<ellipse fill=\"none\" stroke=\"#000000\" cx=\"268.6967\" cy=\"-22.8483\" rx=\"19.4965\" ry=\"19.4965\"/>\n<text text-anchor=\"middle\" x=\"268.6967\" y=\"-19.1483\" font-family=\"Times,serif\" font-size=\"14.00\" fill=\"#000000\">W</text>\n</g>\n<!-- W&#45;&gt;W -->\n<g id=\"edge3\" class=\"edge\">\n<title>W&#45;&gt;W</title>\n<path fill=\"none\" stroke=\"#000000\" d=\"M255.1615,-37.0841C249.7474,-48.5307 254.2592,-60.3466 268.6967,-60.3466 278.848,-60.3466 284.0922,-54.505 284.4293,-47.0576\"/>\n<polygon fill=\"#000000\" stroke=\"#000000\" points=\"287.8016,-46.0968 282.2318,-37.0841 280.9656,-47.603 287.8016,-46.0968\"/>\n<text text-anchor=\"start\" x=\"242.1967\" y=\"-139.1466\" font-family=\"Times,serif\" font-size=\"14.00\" fill=\"#000000\"> &#39;&#39;, S ; (S)</text>\n<text text-anchor=\"start\" x=\"248.6967\" y=\"-124.1466\" font-family=\"Times,serif\" font-size=\"14.00\" fill=\"#000000\"> &#39;&#39;, S ; &#39;&#39;</text>\n<text text-anchor=\"start\" x=\"242.1967\" y=\"-109.1466\" font-family=\"Times,serif\" font-size=\"14.00\" fill=\"#000000\"> b, b ; bb</text>\n<text text-anchor=\"start\" x=\"250.1967\" y=\"-94.1466\" font-family=\"Times,serif\" font-size=\"14.00\" fill=\"#000000\"> (, ( ; &#39;&#39;</text>\n<text text-anchor=\"start\" x=\"242.6967\" y=\"-79.1466\" font-family=\"Times,serif\" font-size=\"14.00\" fill=\"#000000\"> &#39;&#39;, S ; SS</text>\n<text text-anchor=\"start\" x=\"250.1967\" y=\"-64.1466\" font-family=\"Times,serif\" font-size=\"14.00\" fill=\"#000000\"> ), ) ; &#39;&#39;</text>\n</g>\n<!-- F -->\n<g id=\"node4\" class=\"node\">\n<title>F</title>\n<ellipse fill=\"#66cd00\" stroke=\"#000000\" cx=\"414.6967\" cy=\"-22.8483\" rx=\"18\" ry=\"18\"/>\n<ellipse fill=\"none\" stroke=\"#000000\" cx=\"414.6967\" cy=\"-22.8483\" rx=\"22\" ry=\"22\"/>\n<text text-anchor=\"middle\" x=\"414.6967\" y=\"-19.1483\" font-family=\"Times,serif\" font-size=\"14.00\" fill=\"#ffffff\">F</text>\n</g>\n<!-- W&#45;&gt;F -->\n<g id=\"edge4\" class=\"edge\">\n<title>W&#45;&gt;F</title>\n<path fill=\"none\" stroke=\"#000000\" d=\"M288.3869,-22.8483C312.4052,-22.8483 353.3526,-22.8483 382.0988,-22.8483\"/>\n<polygon fill=\"#000000\" stroke=\"#000000\" points=\"382.4579,-26.3484 392.4579,-22.8483 382.4579,-19.3484 382.4579,-26.3484\"/>\n<text text-anchor=\"start\" x=\"331.6967\" y=\"-26.6483\" font-family=\"Times,serif\" font-size=\"14.00\" fill=\"#000000\"> &#39;&#39;, # ; #</text>\n</g>\n<!-- IF&#45;&gt;W -->\n<g id=\"edge2\" class=\"edge\">\n<title>IF&#45;&gt;W</title>\n<path fill=\"none\" stroke=\"#000000\" d=\"M136.6967,-22.8483C163.8202,-22.8483 209.1252,-22.8483 238.9589,-22.8483\"/>\n<polygon fill=\"#000000\" stroke=\"#000000\" points=\"239.188,-26.3484 249.188,-22.8483 239.1879,-19.3484 239.188,-26.3484\"/>\n<text text-anchor=\"start\" x=\"154.6967\" y=\"-26.6483\" font-family=\"Times,serif\" font-size=\"14.00\" fill=\"#000000\"> &#39;&#39;, # ; S#</text>\n</g>\n</g>\n</svg>\n"
              }
            ],
            "_view_module": "@jupyter-widgets/output",
            "_model_module_version": "1.0.0",
            "_view_count": null,
            "_view_module_version": "1.0.0",
            "layout": "IPY_MODEL_bd2033c3687a4e50a15e765a5c626619",
            "_model_module": "@jupyter-widgets/output"
          }
        },
        "4e206f3e95f74fc9bdb6245efeb70217": {
          "model_module": "@jupyter-widgets/base",
          "model_name": "LayoutModel",
          "state": {
            "_view_name": "LayoutView",
            "grid_template_rows": null,
            "right": null,
            "justify_content": null,
            "_view_module": "@jupyter-widgets/base",
            "overflow": null,
            "_model_module_version": "1.2.0",
            "_view_count": null,
            "flex_flow": null,
            "width": null,
            "min_width": null,
            "border": null,
            "align_items": null,
            "bottom": null,
            "_model_module": "@jupyter-widgets/base",
            "top": null,
            "grid_column": null,
            "overflow_y": null,
            "overflow_x": null,
            "grid_auto_flow": null,
            "grid_area": null,
            "grid_template_columns": null,
            "flex": null,
            "_model_name": "LayoutModel",
            "justify_items": null,
            "grid_row": null,
            "max_height": null,
            "align_content": null,
            "visibility": null,
            "align_self": null,
            "height": null,
            "min_height": null,
            "padding": null,
            "grid_auto_rows": null,
            "grid_gap": null,
            "max_width": null,
            "order": null,
            "_view_module_version": "1.2.0",
            "grid_template_areas": null,
            "object_position": null,
            "object_fit": null,
            "grid_auto_columns": null,
            "margin": null,
            "display": null,
            "left": null
          }
        },
        "4607219f8bc243cd9d78059f1678a263": {
          "model_module": "@jupyter-widgets/controls",
          "model_name": "DropdownModel",
          "state": {
            "_options_labels": [
              "Path 1"
            ],
            "_view_name": "DropdownView",
            "style": "IPY_MODEL_9e5561c665bb4e658ff23073f8b494ca",
            "_dom_classes": [],
            "description": "Path:",
            "_model_name": "DropdownModel",
            "index": 0,
            "_view_module": "@jupyter-widgets/controls",
            "_model_module_version": "1.5.0",
            "_view_count": null,
            "disabled": false,
            "_view_module_version": "1.5.0",
            "description_tooltip": null,
            "_model_module": "@jupyter-widgets/controls",
            "layout": "IPY_MODEL_f33275e1a2fe47218ed78d8250d041bd"
          }
        },
        "7456823a67a14772a8d08a30dcbc2373": {
          "model_module": "@jupyter-widgets/controls",
          "model_name": "PlayModel",
          "state": {
            "_view_name": "PlayView",
            "style": "IPY_MODEL_eecadd63c72d447494d8655c71abac92",
            "interval": 950,
            "_dom_classes": [],
            "description": "Press play",
            "_model_name": "PlayModel",
            "max": 22,
            "_view_module": "@jupyter-widgets/controls",
            "_model_module_version": "1.5.0",
            "value": 22,
            "_view_count": null,
            "disabled": false,
            "_repeat": false,
            "_view_module_version": "1.5.0",
            "show_repeat": true,
            "min": 0,
            "_playing": false,
            "step": 1,
            "description_tooltip": null,
            "_model_module": "@jupyter-widgets/controls",
            "layout": "IPY_MODEL_a7bf025c441c471f91bc8dfc9e3775eb"
          }
        },
        "29c7d5dc0dd44e859a3d3c96e6d89bfd": {
          "model_module": "@jupyter-widgets/controls",
          "model_name": "ButtonModel",
          "state": {
            "_view_name": "ButtonView",
            "style": "IPY_MODEL_dc286a233e6a488fbb16114913536f83",
            "_dom_classes": [],
            "description": "",
            "_model_name": "ButtonModel",
            "button_style": "",
            "_view_module": "@jupyter-widgets/controls",
            "_model_module_version": "1.5.0",
            "tooltip": "",
            "_view_count": null,
            "disabled": false,
            "_view_module_version": "1.5.0",
            "layout": "IPY_MODEL_98e0fd8b282648b9981a04b4b9ed7cef",
            "_model_module": "@jupyter-widgets/controls",
            "icon": "step-backward"
          }
        },
        "df22e5367014475086d79aee11ce9f3c": {
          "model_module": "@jupyter-widgets/controls",
          "model_name": "ButtonModel",
          "state": {
            "_view_name": "ButtonView",
            "style": "IPY_MODEL_05d7936b8e404390ac4fe1b88c5911f3",
            "_dom_classes": [],
            "description": "",
            "_model_name": "ButtonModel",
            "button_style": "",
            "_view_module": "@jupyter-widgets/controls",
            "_model_module_version": "1.5.0",
            "tooltip": "",
            "_view_count": null,
            "disabled": true,
            "_view_module_version": "1.5.0",
            "layout": "IPY_MODEL_8e2f1a5ecd774b3284f939e0efb46930",
            "_model_module": "@jupyter-widgets/controls",
            "icon": "step-forward"
          }
        },
        "3570275d1854437398e558c62ed3d7ae": {
          "model_module": "@jupyter-widgets/controls",
          "model_name": "IntSliderModel",
          "state": {
            "_view_name": "IntSliderView",
            "style": "IPY_MODEL_c3cf70852b694140896ed1318c598461",
            "_dom_classes": [],
            "description": "Speed:",
            "step": 1,
            "_model_name": "IntSliderModel",
            "orientation": "horizontal",
            "max": 10,
            "_view_module": "@jupyter-widgets/controls",
            "_model_module_version": "1.5.0",
            "value": 1,
            "_view_count": null,
            "disabled": false,
            "_view_module_version": "1.5.0",
            "min": 1,
            "continuous_update": false,
            "readout_format": "d",
            "description_tooltip": null,
            "readout": true,
            "_model_module": "@jupyter-widgets/controls",
            "layout": "IPY_MODEL_0fc897bafc8f462c87d9f98708697675"
          }
        },
        "bfc1a0c8f86846538387758a14c00ff7": {
          "model_module": "@jupyter-widgets/controls",
          "model_name": "DescriptionStyleModel",
          "state": {
            "_view_name": "StyleView",
            "_model_name": "DescriptionStyleModel",
            "description_width": "",
            "_view_module": "@jupyter-widgets/base",
            "_model_module_version": "1.5.0",
            "_view_count": null,
            "_view_module_version": "1.2.0",
            "_model_module": "@jupyter-widgets/controls"
          }
        },
        "e90714e6954f419f845365853cab0a3e": {
          "model_module": "@jupyter-widgets/base",
          "model_name": "LayoutModel",
          "state": {
            "_view_name": "LayoutView",
            "grid_template_rows": null,
            "right": null,
            "justify_content": null,
            "_view_module": "@jupyter-widgets/base",
            "overflow": null,
            "_model_module_version": "1.2.0",
            "_view_count": null,
            "flex_flow": null,
            "width": "500px",
            "min_width": null,
            "border": null,
            "align_items": null,
            "bottom": null,
            "_model_module": "@jupyter-widgets/base",
            "top": null,
            "grid_column": null,
            "overflow_y": null,
            "overflow_x": null,
            "grid_auto_flow": null,
            "grid_area": null,
            "grid_template_columns": null,
            "flex": null,
            "_model_name": "LayoutModel",
            "justify_items": null,
            "grid_row": null,
            "max_height": null,
            "align_content": null,
            "visibility": null,
            "align_self": null,
            "height": null,
            "min_height": null,
            "padding": null,
            "grid_auto_rows": null,
            "grid_gap": null,
            "max_width": null,
            "order": null,
            "_view_module_version": "1.2.0",
            "grid_template_areas": null,
            "object_position": null,
            "object_fit": null,
            "grid_auto_columns": null,
            "margin": null,
            "display": null,
            "left": null
          }
        },
        "d0905743a0ae42fa8b6ceb01a168e287": {
          "model_module": "@jupyter-widgets/controls",
          "model_name": "DescriptionStyleModel",
          "state": {
            "_view_name": "StyleView",
            "_model_name": "DescriptionStyleModel",
            "description_width": "",
            "_view_module": "@jupyter-widgets/base",
            "_model_module_version": "1.5.0",
            "_view_count": null,
            "_view_module_version": "1.2.0",
            "_model_module": "@jupyter-widgets/controls"
          }
        },
        "10c5a32a055f4e93a213f0e1e535fca9": {
          "model_module": "@jupyter-widgets/base",
          "model_name": "LayoutModel",
          "state": {
            "_view_name": "LayoutView",
            "grid_template_rows": null,
            "right": null,
            "justify_content": null,
            "_view_module": "@jupyter-widgets/base",
            "overflow": null,
            "_model_module_version": "1.2.0",
            "_view_count": null,
            "flex_flow": null,
            "width": "160px",
            "min_width": null,
            "border": null,
            "align_items": null,
            "bottom": null,
            "_model_module": "@jupyter-widgets/base",
            "top": null,
            "grid_column": null,
            "overflow_y": null,
            "overflow_x": null,
            "grid_auto_flow": null,
            "grid_area": null,
            "grid_template_columns": null,
            "flex": null,
            "_model_name": "LayoutModel",
            "justify_items": null,
            "grid_row": null,
            "max_height": null,
            "align_content": null,
            "visibility": null,
            "align_self": null,
            "height": null,
            "min_height": null,
            "padding": null,
            "grid_auto_rows": null,
            "grid_gap": null,
            "max_width": null,
            "order": null,
            "_view_module_version": "1.2.0",
            "grid_template_areas": null,
            "object_position": null,
            "object_fit": null,
            "grid_auto_columns": null,
            "margin": null,
            "display": null,
            "left": null
          }
        },
        "a467a6abd4a146ebb0ea9d7847b6c32c": {
          "model_module": "@jupyter-widgets/controls",
          "model_name": "ButtonStyleModel",
          "state": {
            "_view_name": "StyleView",
            "_model_name": "ButtonStyleModel",
            "_view_module": "@jupyter-widgets/base",
            "_model_module_version": "1.5.0",
            "_view_count": null,
            "button_color": null,
            "font_weight": "",
            "_view_module_version": "1.2.0",
            "_model_module": "@jupyter-widgets/controls"
          }
        },
        "6ec8e1e0f72f4b5cbfdf8880e8d1bcd0": {
          "model_module": "@jupyter-widgets/base",
          "model_name": "LayoutModel",
          "state": {
            "_view_name": "LayoutView",
            "grid_template_rows": null,
            "right": null,
            "justify_content": null,
            "_view_module": "@jupyter-widgets/base",
            "overflow": null,
            "_model_module_version": "1.2.0",
            "_view_count": null,
            "flex_flow": null,
            "width": null,
            "min_width": null,
            "border": null,
            "align_items": null,
            "bottom": null,
            "_model_module": "@jupyter-widgets/base",
            "top": null,
            "grid_column": null,
            "overflow_y": null,
            "overflow_x": null,
            "grid_auto_flow": null,
            "grid_area": null,
            "grid_template_columns": null,
            "flex": null,
            "_model_name": "LayoutModel",
            "justify_items": null,
            "grid_row": null,
            "max_height": null,
            "align_content": null,
            "visibility": null,
            "align_self": null,
            "height": null,
            "min_height": null,
            "padding": null,
            "grid_auto_rows": null,
            "grid_gap": null,
            "max_width": null,
            "order": null,
            "_view_module_version": "1.2.0",
            "grid_template_areas": null,
            "object_position": null,
            "object_fit": null,
            "grid_auto_columns": null,
            "margin": null,
            "display": null,
            "left": null
          }
        },
        "23865747d61042419becba8bdb5088cd": {
          "model_module": "@jupyter-widgets/controls",
          "model_name": "SliderStyleModel",
          "state": {
            "_view_name": "StyleView",
            "handle_color": null,
            "_model_name": "SliderStyleModel",
            "description_width": "",
            "_view_module": "@jupyter-widgets/base",
            "_model_module_version": "1.5.0",
            "_view_count": null,
            "_view_module_version": "1.2.0",
            "_model_module": "@jupyter-widgets/controls"
          }
        },
        "e0e25c9e65c847cea7b8fc5a29eb5f66": {
          "model_module": "@jupyter-widgets/base",
          "model_name": "LayoutModel",
          "state": {
            "_view_name": "LayoutView",
            "grid_template_rows": null,
            "right": null,
            "justify_content": null,
            "_view_module": "@jupyter-widgets/base",
            "overflow": null,
            "_model_module_version": "1.2.0",
            "_view_count": null,
            "flex_flow": null,
            "width": null,
            "min_width": null,
            "border": null,
            "align_items": null,
            "bottom": null,
            "_model_module": "@jupyter-widgets/base",
            "top": null,
            "grid_column": null,
            "overflow_y": null,
            "overflow_x": null,
            "grid_auto_flow": null,
            "grid_area": null,
            "grid_template_columns": null,
            "flex": null,
            "_model_name": "LayoutModel",
            "justify_items": null,
            "grid_row": null,
            "max_height": null,
            "align_content": null,
            "visibility": null,
            "align_self": null,
            "height": null,
            "min_height": null,
            "padding": null,
            "grid_auto_rows": null,
            "grid_gap": null,
            "max_width": null,
            "order": null,
            "_view_module_version": "1.2.0",
            "grid_template_areas": null,
            "object_position": null,
            "object_fit": null,
            "grid_auto_columns": null,
            "margin": null,
            "display": null,
            "left": null
          }
        },
        "9e5561c665bb4e658ff23073f8b494ca": {
          "model_module": "@jupyter-widgets/controls",
          "model_name": "DescriptionStyleModel",
          "state": {
            "_view_name": "StyleView",
            "_model_name": "DescriptionStyleModel",
            "description_width": "",
            "_view_module": "@jupyter-widgets/base",
            "_model_module_version": "1.5.0",
            "_view_count": null,
            "_view_module_version": "1.2.0",
            "_model_module": "@jupyter-widgets/controls"
          }
        },
        "f33275e1a2fe47218ed78d8250d041bd": {
          "model_module": "@jupyter-widgets/base",
          "model_name": "LayoutModel",
          "state": {
            "_view_name": "LayoutView",
            "grid_template_rows": null,
            "right": null,
            "justify_content": null,
            "_view_module": "@jupyter-widgets/base",
            "overflow": null,
            "_model_module_version": "1.2.0",
            "_view_count": null,
            "flex_flow": null,
            "width": "200px",
            "min_width": null,
            "border": null,
            "align_items": null,
            "bottom": null,
            "_model_module": "@jupyter-widgets/base",
            "top": null,
            "grid_column": null,
            "overflow_y": null,
            "overflow_x": null,
            "grid_auto_flow": null,
            "grid_area": null,
            "grid_template_columns": null,
            "flex": null,
            "_model_name": "LayoutModel",
            "justify_items": null,
            "grid_row": null,
            "max_height": null,
            "align_content": null,
            "visibility": null,
            "align_self": null,
            "height": null,
            "min_height": null,
            "padding": null,
            "grid_auto_rows": null,
            "grid_gap": null,
            "max_width": null,
            "order": null,
            "_view_module_version": "1.2.0",
            "grid_template_areas": null,
            "object_position": null,
            "object_fit": null,
            "grid_auto_columns": null,
            "margin": null,
            "display": null,
            "left": null
          }
        },
        "eecadd63c72d447494d8655c71abac92": {
          "model_module": "@jupyter-widgets/controls",
          "model_name": "DescriptionStyleModel",
          "state": {
            "_view_name": "StyleView",
            "_model_name": "DescriptionStyleModel",
            "description_width": "",
            "_view_module": "@jupyter-widgets/base",
            "_model_module_version": "1.5.0",
            "_view_count": null,
            "_view_module_version": "1.2.0",
            "_model_module": "@jupyter-widgets/controls"
          }
        },
        "a7bf025c441c471f91bc8dfc9e3775eb": {
          "model_module": "@jupyter-widgets/base",
          "model_name": "LayoutModel",
          "state": {
            "_view_name": "LayoutView",
            "grid_template_rows": null,
            "right": null,
            "justify_content": null,
            "_view_module": "@jupyter-widgets/base",
            "overflow": null,
            "_model_module_version": "1.2.0",
            "_view_count": null,
            "flex_flow": null,
            "width": null,
            "min_width": null,
            "border": null,
            "align_items": null,
            "bottom": null,
            "_model_module": "@jupyter-widgets/base",
            "top": null,
            "grid_column": null,
            "overflow_y": null,
            "overflow_x": null,
            "grid_auto_flow": null,
            "grid_area": null,
            "grid_template_columns": null,
            "flex": null,
            "_model_name": "LayoutModel",
            "justify_items": null,
            "grid_row": null,
            "max_height": null,
            "align_content": null,
            "visibility": null,
            "align_self": null,
            "height": null,
            "min_height": null,
            "padding": null,
            "grid_auto_rows": null,
            "grid_gap": null,
            "max_width": null,
            "order": null,
            "_view_module_version": "1.2.0",
            "grid_template_areas": null,
            "object_position": null,
            "object_fit": null,
            "grid_auto_columns": null,
            "margin": null,
            "display": null,
            "left": null
          }
        },
        "dc286a233e6a488fbb16114913536f83": {
          "model_module": "@jupyter-widgets/controls",
          "model_name": "ButtonStyleModel",
          "state": {
            "_view_name": "StyleView",
            "_model_name": "ButtonStyleModel",
            "_view_module": "@jupyter-widgets/base",
            "_model_module_version": "1.5.0",
            "_view_count": null,
            "button_color": null,
            "font_weight": "",
            "_view_module_version": "1.2.0",
            "_model_module": "@jupyter-widgets/controls"
          }
        },
        "98e0fd8b282648b9981a04b4b9ed7cef": {
          "model_module": "@jupyter-widgets/base",
          "model_name": "LayoutModel",
          "state": {
            "_view_name": "LayoutView",
            "grid_template_rows": null,
            "right": null,
            "justify_content": null,
            "_view_module": "@jupyter-widgets/base",
            "overflow": null,
            "_model_module_version": "1.2.0",
            "_view_count": null,
            "flex_flow": null,
            "width": "40px",
            "min_width": null,
            "border": null,
            "align_items": null,
            "bottom": null,
            "_model_module": "@jupyter-widgets/base",
            "top": null,
            "grid_column": null,
            "overflow_y": null,
            "overflow_x": null,
            "grid_auto_flow": null,
            "grid_area": null,
            "grid_template_columns": null,
            "flex": null,
            "_model_name": "LayoutModel",
            "justify_items": null,
            "grid_row": null,
            "max_height": null,
            "align_content": null,
            "visibility": null,
            "align_self": null,
            "height": null,
            "min_height": null,
            "padding": null,
            "grid_auto_rows": null,
            "grid_gap": null,
            "max_width": null,
            "order": null,
            "_view_module_version": "1.2.0",
            "grid_template_areas": null,
            "object_position": null,
            "object_fit": null,
            "grid_auto_columns": null,
            "margin": null,
            "display": null,
            "left": null
          }
        },
        "05d7936b8e404390ac4fe1b88c5911f3": {
          "model_module": "@jupyter-widgets/controls",
          "model_name": "ButtonStyleModel",
          "state": {
            "_view_name": "StyleView",
            "_model_name": "ButtonStyleModel",
            "_view_module": "@jupyter-widgets/base",
            "_model_module_version": "1.5.0",
            "_view_count": null,
            "button_color": null,
            "font_weight": "",
            "_view_module_version": "1.2.0",
            "_model_module": "@jupyter-widgets/controls"
          }
        },
        "8e2f1a5ecd774b3284f939e0efb46930": {
          "model_module": "@jupyter-widgets/base",
          "model_name": "LayoutModel",
          "state": {
            "_view_name": "LayoutView",
            "grid_template_rows": null,
            "right": null,
            "justify_content": null,
            "_view_module": "@jupyter-widgets/base",
            "overflow": null,
            "_model_module_version": "1.2.0",
            "_view_count": null,
            "flex_flow": null,
            "width": "40px",
            "min_width": null,
            "border": null,
            "align_items": null,
            "bottom": null,
            "_model_module": "@jupyter-widgets/base",
            "top": null,
            "grid_column": null,
            "overflow_y": null,
            "overflow_x": null,
            "grid_auto_flow": null,
            "grid_area": null,
            "grid_template_columns": null,
            "flex": null,
            "_model_name": "LayoutModel",
            "justify_items": null,
            "grid_row": null,
            "max_height": null,
            "align_content": null,
            "visibility": null,
            "align_self": null,
            "height": null,
            "min_height": null,
            "padding": null,
            "grid_auto_rows": null,
            "grid_gap": null,
            "max_width": null,
            "order": null,
            "_view_module_version": "1.2.0",
            "grid_template_areas": null,
            "object_position": null,
            "object_fit": null,
            "grid_auto_columns": null,
            "margin": null,
            "display": null,
            "left": null
          }
        },
        "c3cf70852b694140896ed1318c598461": {
          "model_module": "@jupyter-widgets/controls",
          "model_name": "SliderStyleModel",
          "state": {
            "_view_name": "StyleView",
            "handle_color": null,
            "_model_name": "SliderStyleModel",
            "description_width": "",
            "_view_module": "@jupyter-widgets/base",
            "_model_module_version": "1.5.0",
            "_view_count": null,
            "_view_module_version": "1.2.0",
            "_model_module": "@jupyter-widgets/controls"
          }
        },
        "0fc897bafc8f462c87d9f98708697675": {
          "model_module": "@jupyter-widgets/base",
          "model_name": "LayoutModel",
          "state": {
            "_view_name": "LayoutView",
            "grid_template_rows": null,
            "right": null,
            "justify_content": null,
            "_view_module": "@jupyter-widgets/base",
            "overflow": null,
            "_model_module_version": "1.2.0",
            "_view_count": null,
            "flex_flow": null,
            "width": null,
            "min_width": null,
            "border": null,
            "align_items": null,
            "bottom": null,
            "_model_module": "@jupyter-widgets/base",
            "top": null,
            "grid_column": null,
            "overflow_y": null,
            "overflow_x": null,
            "grid_auto_flow": null,
            "grid_area": null,
            "grid_template_columns": null,
            "flex": null,
            "_model_name": "LayoutModel",
            "justify_items": null,
            "grid_row": null,
            "max_height": null,
            "align_content": null,
            "visibility": null,
            "align_self": null,
            "height": null,
            "min_height": null,
            "padding": null,
            "grid_auto_rows": null,
            "grid_gap": null,
            "max_width": null,
            "order": null,
            "_view_module_version": "1.2.0",
            "grid_template_areas": null,
            "object_position": null,
            "object_fit": null,
            "grid_auto_columns": null,
            "margin": null,
            "display": null,
            "left": null
          }
        },
        "5803c82cbb154e89a3cbe3fc2cbe74f5": {
          "model_module": "@jupyter-widgets/base",
          "model_name": "LayoutModel",
          "state": {
            "_view_name": "LayoutView",
            "grid_template_rows": null,
            "right": null,
            "justify_content": null,
            "_view_module": "@jupyter-widgets/base",
            "overflow": null,
            "_model_module_version": "1.2.0",
            "_view_count": null,
            "flex_flow": null,
            "width": null,
            "min_width": null,
            "border": null,
            "align_items": null,
            "bottom": null,
            "_model_module": "@jupyter-widgets/base",
            "top": null,
            "grid_column": null,
            "overflow_y": null,
            "overflow_x": null,
            "grid_auto_flow": null,
            "grid_area": null,
            "grid_template_columns": null,
            "flex": null,
            "_model_name": "LayoutModel",
            "justify_items": null,
            "grid_row": null,
            "max_height": null,
            "align_content": null,
            "visibility": null,
            "align_self": null,
            "height": null,
            "min_height": null,
            "padding": null,
            "grid_auto_rows": null,
            "grid_gap": null,
            "max_width": null,
            "order": null,
            "_view_module_version": "1.2.0",
            "grid_template_areas": null,
            "object_position": null,
            "object_fit": null,
            "grid_auto_columns": null,
            "margin": null,
            "display": null,
            "left": null
          }
        },
        "68a2bed4a61248bfbb1a3b5b33c84254": {
          "model_module": "@jupyter-widgets/base",
          "model_name": "LayoutModel",
          "state": {
            "_view_name": "LayoutView",
            "grid_template_rows": null,
            "right": null,
            "justify_content": null,
            "_view_module": "@jupyter-widgets/base",
            "overflow": null,
            "_model_module_version": "1.2.0",
            "_view_count": null,
            "flex_flow": null,
            "width": null,
            "min_width": null,
            "border": null,
            "align_items": null,
            "bottom": null,
            "_model_module": "@jupyter-widgets/base",
            "top": null,
            "grid_column": null,
            "overflow_y": null,
            "overflow_x": null,
            "grid_auto_flow": null,
            "grid_area": null,
            "grid_template_columns": null,
            "flex": null,
            "_model_name": "LayoutModel",
            "justify_items": null,
            "grid_row": null,
            "max_height": null,
            "align_content": null,
            "visibility": null,
            "align_self": null,
            "height": null,
            "min_height": null,
            "padding": null,
            "grid_auto_rows": null,
            "grid_gap": null,
            "max_width": null,
            "order": null,
            "_view_module_version": "1.2.0",
            "grid_template_areas": null,
            "object_position": null,
            "object_fit": null,
            "grid_auto_columns": null,
            "margin": null,
            "display": null,
            "left": null
          }
        },
        "1156b9ef34dd4cefb0b2bfb90ceb9ccf": {
          "model_module": "@jupyter-widgets/base",
          "model_name": "LayoutModel",
          "state": {
            "_view_name": "LayoutView",
            "grid_template_rows": null,
            "right": null,
            "justify_content": null,
            "_view_module": "@jupyter-widgets/base",
            "overflow": null,
            "_model_module_version": "1.2.0",
            "_view_count": null,
            "flex_flow": null,
            "width": null,
            "min_width": null,
            "border": null,
            "align_items": null,
            "bottom": null,
            "_model_module": "@jupyter-widgets/base",
            "top": null,
            "grid_column": null,
            "overflow_y": null,
            "overflow_x": null,
            "grid_auto_flow": null,
            "grid_area": null,
            "grid_template_columns": null,
            "flex": null,
            "_model_name": "LayoutModel",
            "justify_items": null,
            "grid_row": null,
            "max_height": null,
            "align_content": null,
            "visibility": null,
            "align_self": null,
            "height": null,
            "min_height": null,
            "padding": null,
            "grid_auto_rows": null,
            "grid_gap": null,
            "max_width": null,
            "order": null,
            "_view_module_version": "1.2.0",
            "grid_template_areas": null,
            "object_position": null,
            "object_fit": null,
            "grid_auto_columns": null,
            "margin": null,
            "display": null,
            "left": null
          }
        },
        "65a9a4d603b6499a969d2a2537920c8a": {
          "model_module": "@jupyter-widgets/base",
          "model_name": "LayoutModel",
          "state": {
            "_view_name": "LayoutView",
            "grid_template_rows": null,
            "right": null,
            "justify_content": null,
            "_view_module": "@jupyter-widgets/base",
            "overflow": null,
            "_model_module_version": "1.2.0",
            "_view_count": null,
            "flex_flow": null,
            "width": null,
            "min_width": null,
            "border": null,
            "align_items": null,
            "bottom": null,
            "_model_module": "@jupyter-widgets/base",
            "top": null,
            "grid_column": null,
            "overflow_y": null,
            "overflow_x": null,
            "grid_auto_flow": null,
            "grid_area": null,
            "grid_template_columns": null,
            "flex": null,
            "_model_name": "LayoutModel",
            "justify_items": null,
            "grid_row": null,
            "max_height": null,
            "align_content": null,
            "visibility": null,
            "align_self": null,
            "height": null,
            "min_height": null,
            "padding": null,
            "grid_auto_rows": null,
            "grid_gap": null,
            "max_width": null,
            "order": null,
            "_view_module_version": "1.2.0",
            "grid_template_areas": null,
            "object_position": null,
            "object_fit": null,
            "grid_auto_columns": null,
            "margin": null,
            "display": null,
            "left": null
          }
        },
        "bd2033c3687a4e50a15e765a5c626619": {
          "model_module": "@jupyter-widgets/base",
          "model_name": "LayoutModel",
          "state": {
            "_view_name": "LayoutView",
            "grid_template_rows": null,
            "right": null,
            "justify_content": null,
            "_view_module": "@jupyter-widgets/base",
            "overflow": null,
            "_model_module_version": "1.2.0",
            "_view_count": null,
            "flex_flow": null,
            "width": null,
            "min_width": null,
            "border": null,
            "align_items": null,
            "bottom": null,
            "_model_module": "@jupyter-widgets/base",
            "top": null,
            "grid_column": null,
            "overflow_y": null,
            "overflow_x": null,
            "grid_auto_flow": null,
            "grid_area": null,
            "grid_template_columns": null,
            "flex": null,
            "_model_name": "LayoutModel",
            "justify_items": null,
            "grid_row": null,
            "max_height": null,
            "align_content": null,
            "visibility": null,
            "align_self": null,
            "height": null,
            "min_height": null,
            "padding": null,
            "grid_auto_rows": null,
            "grid_gap": null,
            "max_width": null,
            "order": null,
            "_view_module_version": "1.2.0",
            "grid_template_areas": null,
            "object_position": null,
            "object_fit": null,
            "grid_auto_columns": null,
            "margin": null,
            "display": null,
            "left": null
          }
        },
        "4831fe031c4849cbb00bdbb00c7961e1": {
          "model_module": "@jupyter-widgets/controls",
          "model_name": "VBoxModel",
          "state": {
            "_view_name": "VBoxView",
            "_dom_classes": [],
            "_model_name": "VBoxModel",
            "_view_module": "@jupyter-widgets/controls",
            "_model_module_version": "1.5.0",
            "_view_count": null,
            "_view_module_version": "1.5.0",
            "box_style": "",
            "layout": "IPY_MODEL_93a1c6de39a84e55a2258b81b1424c83",
            "_model_module": "@jupyter-widgets/controls",
            "children": [
              "IPY_MODEL_4197fa0eb39548839bdbb5e9a08d1114",
              "IPY_MODEL_9d17331640f34ed09a2e46c645ed7c24",
              "IPY_MODEL_6aa4541d79ab44489b4ee4a1c5f6d5a2",
              "IPY_MODEL_82f7229aecbf441d81fd3d58419b78a4",
              "IPY_MODEL_ed35dd671edb41e69879d52c387f627f",
              "IPY_MODEL_bff5c41fffff4ee6b7a4ccdb565428a8",
              "IPY_MODEL_28eea364f16347149a0a15d8458ed967"
            ]
          }
        },
        "93a1c6de39a84e55a2258b81b1424c83": {
          "model_module": "@jupyter-widgets/base",
          "model_name": "LayoutModel",
          "state": {
            "_view_name": "LayoutView",
            "grid_template_rows": null,
            "right": null,
            "justify_content": null,
            "_view_module": "@jupyter-widgets/base",
            "overflow": null,
            "_model_module_version": "1.2.0",
            "_view_count": null,
            "flex_flow": null,
            "width": null,
            "min_width": null,
            "border": null,
            "align_items": null,
            "bottom": null,
            "_model_module": "@jupyter-widgets/base",
            "top": null,
            "grid_column": null,
            "overflow_y": null,
            "overflow_x": null,
            "grid_auto_flow": null,
            "grid_area": null,
            "grid_template_columns": null,
            "flex": null,
            "_model_name": "LayoutModel",
            "justify_items": null,
            "grid_row": null,
            "max_height": null,
            "align_content": null,
            "visibility": null,
            "align_self": null,
            "height": null,
            "min_height": null,
            "padding": null,
            "grid_auto_rows": null,
            "grid_gap": null,
            "max_width": null,
            "order": null,
            "_view_module_version": "1.2.0",
            "grid_template_areas": null,
            "object_position": null,
            "object_fit": null,
            "grid_auto_columns": null,
            "margin": null,
            "display": null,
            "left": null
          }
        },
        "4197fa0eb39548839bdbb5e9a08d1114": {
          "model_module": "@jupyter-widgets/controls",
          "model_name": "HBoxModel",
          "state": {
            "_view_name": "HBoxView",
            "_dom_classes": [],
            "_model_name": "HBoxModel",
            "_view_module": "@jupyter-widgets/controls",
            "_model_module_version": "1.5.0",
            "_view_count": null,
            "_view_module_version": "1.5.0",
            "box_style": "",
            "layout": "IPY_MODEL_03fcef26984c43209d10d2d625321109",
            "_model_module": "@jupyter-widgets/controls",
            "children": [
              "IPY_MODEL_6115fa9fcef24b5ab0651f264214b007",
              "IPY_MODEL_9dc3cbf7f5e64a69baea033e3bf03310",
              "IPY_MODEL_a5fd9a1b8ee343eeb4b3c472d8ac619b"
            ]
          }
        },
        "9d17331640f34ed09a2e46c645ed7c24": {
          "model_module": "@jupyter-widgets/controls",
          "model_name": "HBoxModel",
          "state": {
            "_view_name": "HBoxView",
            "_dom_classes": [],
            "_model_name": "HBoxModel",
            "_view_module": "@jupyter-widgets/controls",
            "_model_module_version": "1.5.0",
            "_view_count": null,
            "_view_module_version": "1.5.0",
            "box_style": "",
            "layout": "IPY_MODEL_2b4e166dc1e444c590c7e7510f8c8bcf",
            "_model_module": "@jupyter-widgets/controls",
            "children": [
              "IPY_MODEL_06701cbc28a5406eb418683259b9aaf4"
            ]
          }
        },
        "6aa4541d79ab44489b4ee4a1c5f6d5a2": {
          "model_module": "@jupyter-widgets/output",
          "model_name": "OutputModel",
          "state": {
            "_view_name": "OutputView",
            "msg_id": "",
            "_dom_classes": [],
            "_model_name": "OutputModel",
            "outputs": [],
            "_view_module": "@jupyter-widgets/output",
            "_model_module_version": "1.0.0",
            "_view_count": null,
            "_view_module_version": "1.0.0",
            "layout": "IPY_MODEL_9f1fa35e3437430ba43e1d974c51243a",
            "_model_module": "@jupyter-widgets/output"
          }
        },
        "82f7229aecbf441d81fd3d58419b78a4": {
          "model_module": "@jupyter-widgets/controls",
          "model_name": "HBoxModel",
          "state": {
            "_view_name": "HBoxView",
            "_dom_classes": [],
            "_model_name": "HBoxModel",
            "_view_module": "@jupyter-widgets/controls",
            "_model_module_version": "1.5.0",
            "_view_count": null,
            "_view_module_version": "1.5.0",
            "box_style": "",
            "layout": "IPY_MODEL_cc488ba3a89349d2b9790238744026ff",
            "_model_module": "@jupyter-widgets/controls",
            "children": [
              "IPY_MODEL_02708aeb912843568d098c682dc9cce3",
              "IPY_MODEL_de433b2ed5f0420c96d4ec936d1ea6bc"
            ]
          }
        },
        "ed35dd671edb41e69879d52c387f627f": {
          "model_module": "@jupyter-widgets/output",
          "model_name": "OutputModel",
          "state": {
            "_view_name": "OutputView",
            "msg_id": "",
            "_dom_classes": [],
            "_model_name": "OutputModel",
            "outputs": [
              {
                "output_type": "display_data",
                "metadata": {
                  "tags": []
                },
                "text/plain": "<graphviz.files.Source at 0x7fe3491fb9b0>",
                "image/svg+xml": "<?xml version=\"1.0\" encoding=\"UTF-8\" standalone=\"no\"?>\n<!DOCTYPE svg PUBLIC \"-//W3C//DTD SVG 1.1//EN\"\n \"http://www.w3.org/Graphics/SVG/1.1/DTD/svg11.dtd\">\n<!-- Generated by graphviz version 2.40.1 (20161225.0304)\n -->\n<!-- Title: %3 Pages: 1 -->\n<svg width=\"85pt\" height=\"47pt\"\n viewBox=\"0.00 0.00 85.00 47.00\" xmlns=\"http://www.w3.org/2000/svg\" xmlns:xlink=\"http://www.w3.org/1999/xlink\">\n<g id=\"graph0\" class=\"graph\" transform=\"scale(1 1) rotate(0) translate(4 43)\">\n<title>%3</title>\n<polygon fill=\"#ffffff\" stroke=\"transparent\" points=\"-4,4 -4,-43 81,-43 81,4 -4,4\"/>\n<!-- feed -->\n<g id=\"node1\" class=\"node\">\n<title>feed</title>\n<polygon fill=\"none\" stroke=\"#000000\" points=\"8.5,-3.5 8.5,-34.5 26.5,-34.5 26.5,-3.5 8.5,-3.5\"/>\n<polygon fill=\"none\" stroke=\"#000000\" points=\"26.5,-3.5 26.5,-34.5 51.5,-34.5 51.5,-3.5 26.5,-3.5\"/>\n<text text-anchor=\"start\" x=\"35.5\" y=\"-15.9\" font-family=\"Times,serif\" font-size=\"12.00\" fill=\"#000000\"> &#160;</text>\n<polygon fill=\"none\" stroke=\"#000000\" points=\"51.5,-3.5 51.5,-34.5 69.5,-34.5 69.5,-3.5 51.5,-3.5\"/>\n</g>\n</g>\n</svg>\n"
              }
            ],
            "_view_module": "@jupyter-widgets/output",
            "_model_module_version": "1.0.0",
            "_view_count": null,
            "_view_module_version": "1.0.0",
            "layout": "IPY_MODEL_1b1bc22b57e844289947000a2d70f8fc",
            "_model_module": "@jupyter-widgets/output"
          }
        },
        "bff5c41fffff4ee6b7a4ccdb565428a8": {
          "model_module": "@jupyter-widgets/controls",
          "model_name": "HBoxModel",
          "state": {
            "_view_name": "HBoxView",
            "_dom_classes": [],
            "_model_name": "HBoxModel",
            "_view_module": "@jupyter-widgets/controls",
            "_model_module_version": "1.5.0",
            "_view_count": null,
            "_view_module_version": "1.5.0",
            "box_style": "",
            "layout": "IPY_MODEL_3115fb10926e4381958b0e8f7f5b3039",
            "_model_module": "@jupyter-widgets/controls",
            "children": [
              "IPY_MODEL_ead9e764e23f47dc9e61c15941b09f51",
              "IPY_MODEL_c60a80ef66ce47989e7beb77d00a8436",
              "IPY_MODEL_d72538bef7c94a2f9404af025e19467f",
              "IPY_MODEL_a4bb1a76788c4a13b312e85c52a3f4fa",
              "IPY_MODEL_c1d306b3b2a243608e60f8af9409089a"
            ]
          }
        },
        "28eea364f16347149a0a15d8458ed967": {
          "model_module": "@jupyter-widgets/output",
          "model_name": "OutputModel",
          "state": {
            "_view_name": "OutputView",
            "msg_id": "",
            "_dom_classes": [],
            "_model_name": "OutputModel",
            "outputs": [],
            "_view_module": "@jupyter-widgets/output",
            "_model_module_version": "1.0.0",
            "_view_count": null,
            "_view_module_version": "1.0.0",
            "layout": "IPY_MODEL_d6db5ce7c37246d59af9078474754122",
            "_model_module": "@jupyter-widgets/output"
          }
        },
        "03fcef26984c43209d10d2d625321109": {
          "model_module": "@jupyter-widgets/base",
          "model_name": "LayoutModel",
          "state": {
            "_view_name": "LayoutView",
            "grid_template_rows": null,
            "right": null,
            "justify_content": null,
            "_view_module": "@jupyter-widgets/base",
            "overflow": null,
            "_model_module_version": "1.2.0",
            "_view_count": null,
            "flex_flow": null,
            "width": null,
            "min_width": null,
            "border": null,
            "align_items": null,
            "bottom": null,
            "_model_module": "@jupyter-widgets/base",
            "top": null,
            "grid_column": null,
            "overflow_y": null,
            "overflow_x": null,
            "grid_auto_flow": null,
            "grid_area": null,
            "grid_template_columns": null,
            "flex": null,
            "_model_name": "LayoutModel",
            "justify_items": null,
            "grid_row": null,
            "max_height": null,
            "align_content": null,
            "visibility": null,
            "align_self": null,
            "height": null,
            "min_height": null,
            "padding": null,
            "grid_auto_rows": null,
            "grid_gap": null,
            "max_width": null,
            "order": null,
            "_view_module_version": "1.2.0",
            "grid_template_areas": null,
            "object_position": null,
            "object_fit": null,
            "grid_auto_columns": null,
            "margin": null,
            "display": null,
            "left": null
          }
        },
        "6115fa9fcef24b5ab0651f264214b007": {
          "model_module": "@jupyter-widgets/controls",
          "model_name": "TextModel",
          "state": {
            "_view_name": "TextView",
            "style": "IPY_MODEL_e92869a721f643bab10fa34f2a132e54",
            "_dom_classes": [],
            "description": "Input:",
            "_model_name": "TextModel",
            "placeholder": "Sigma: {a,b}",
            "_view_module": "@jupyter-widgets/controls",
            "_model_module_version": "1.5.0",
            "value": "",
            "_view_count": null,
            "disabled": false,
            "_view_module_version": "1.5.0",
            "continuous_update": true,
            "description_tooltip": null,
            "_model_module": "@jupyter-widgets/controls",
            "layout": "IPY_MODEL_ec5f8a5c3cac45dab143a21b6cf2cf36"
          }
        },
        "9dc3cbf7f5e64a69baea033e3bf03310": {
          "model_module": "@jupyter-widgets/controls",
          "model_name": "DropdownModel",
          "state": {
            "_options_labels": [
              "State",
              "Stack"
            ],
            "_view_name": "DropdownView",
            "style": "IPY_MODEL_b5bf578bf3f742638cb5e9ef46611f11",
            "_dom_classes": [],
            "description": "Acceptance:",
            "_model_name": "DropdownModel",
            "index": 0,
            "_view_module": "@jupyter-widgets/controls",
            "_model_module_version": "1.5.0",
            "_view_count": null,
            "disabled": false,
            "_view_module_version": "1.5.0",
            "description_tooltip": null,
            "_model_module": "@jupyter-widgets/controls",
            "layout": "IPY_MODEL_75cc0a3a83c5477eba57df4ed3a21255"
          }
        },
        "a5fd9a1b8ee343eeb4b3c472d8ac619b": {
          "model_module": "@jupyter-widgets/controls",
          "model_name": "ButtonModel",
          "state": {
            "_view_name": "ButtonView",
            "style": "IPY_MODEL_a1125cc06f9a4816a130c113e723ffca",
            "_dom_classes": [],
            "description": "Animate",
            "_model_name": "ButtonModel",
            "button_style": "primary",
            "_view_module": "@jupyter-widgets/controls",
            "_model_module_version": "1.5.0",
            "tooltip": "",
            "_view_count": null,
            "disabled": false,
            "_view_module_version": "1.5.0",
            "layout": "IPY_MODEL_f49bd549752743f2bbe3129ad5694ac7",
            "_model_module": "@jupyter-widgets/controls",
            "icon": ""
          }
        },
        "2b4e166dc1e444c590c7e7510f8c8bcf": {
          "model_module": "@jupyter-widgets/base",
          "model_name": "LayoutModel",
          "state": {
            "_view_name": "LayoutView",
            "grid_template_rows": null,
            "right": null,
            "justify_content": null,
            "_view_module": "@jupyter-widgets/base",
            "overflow": null,
            "_model_module_version": "1.2.0",
            "_view_count": null,
            "flex_flow": null,
            "width": null,
            "min_width": null,
            "border": null,
            "align_items": null,
            "bottom": null,
            "_model_module": "@jupyter-widgets/base",
            "top": null,
            "grid_column": null,
            "overflow_y": null,
            "overflow_x": null,
            "grid_auto_flow": null,
            "grid_area": null,
            "grid_template_columns": null,
            "flex": null,
            "_model_name": "LayoutModel",
            "justify_items": null,
            "grid_row": null,
            "max_height": null,
            "align_content": null,
            "visibility": null,
            "align_self": null,
            "height": null,
            "min_height": null,
            "padding": null,
            "grid_auto_rows": null,
            "grid_gap": null,
            "max_width": null,
            "order": null,
            "_view_module_version": "1.2.0",
            "grid_template_areas": null,
            "object_position": null,
            "object_fit": null,
            "grid_auto_columns": null,
            "margin": null,
            "display": null,
            "left": null
          }
        },
        "06701cbc28a5406eb418683259b9aaf4": {
          "model_module": "@jupyter-widgets/controls",
          "model_name": "IntSliderModel",
          "state": {
            "_view_name": "IntSliderView",
            "style": "IPY_MODEL_fd2c4bcae084450c8f955edb768c2d53",
            "_dom_classes": [],
            "description": "Stack Size:",
            "step": 1,
            "_model_name": "IntSliderModel",
            "orientation": "horizontal",
            "max": 30,
            "_view_module": "@jupyter-widgets/controls",
            "_model_module_version": "1.5.0",
            "value": 6,
            "_view_count": null,
            "disabled": false,
            "_view_module_version": "1.5.0",
            "min": 2,
            "continuous_update": false,
            "readout_format": "d",
            "description_tooltip": null,
            "readout": true,
            "_model_module": "@jupyter-widgets/controls",
            "layout": "IPY_MODEL_54f8d1633fd44665b8fdb3a75afb10ab"
          }
        },
        "cc488ba3a89349d2b9790238744026ff": {
          "model_module": "@jupyter-widgets/base",
          "model_name": "LayoutModel",
          "state": {
            "_view_name": "LayoutView",
            "grid_template_rows": null,
            "right": null,
            "justify_content": null,
            "_view_module": "@jupyter-widgets/base",
            "overflow": null,
            "_model_module_version": "1.2.0",
            "_view_count": null,
            "flex_flow": null,
            "width": null,
            "min_width": null,
            "border": null,
            "align_items": null,
            "bottom": null,
            "_model_module": "@jupyter-widgets/base",
            "top": null,
            "grid_column": null,
            "overflow_y": null,
            "overflow_x": null,
            "grid_auto_flow": null,
            "grid_area": null,
            "grid_template_columns": null,
            "flex": null,
            "_model_name": "LayoutModel",
            "justify_items": null,
            "grid_row": null,
            "max_height": null,
            "align_content": null,
            "visibility": null,
            "align_self": null,
            "height": null,
            "min_height": null,
            "padding": null,
            "grid_auto_rows": null,
            "grid_gap": null,
            "max_width": null,
            "order": null,
            "_view_module_version": "1.2.0",
            "grid_template_areas": null,
            "object_position": null,
            "object_fit": null,
            "grid_auto_columns": null,
            "margin": null,
            "display": null,
            "left": null
          }
        },
        "02708aeb912843568d098c682dc9cce3": {
          "model_module": "@jupyter-widgets/output",
          "model_name": "OutputModel",
          "state": {
            "_view_name": "OutputView",
            "msg_id": "",
            "_dom_classes": [],
            "_model_name": "OutputModel",
            "outputs": [
              {
                "output_type": "display_data",
                "metadata": {
                  "tags": []
                },
                "text/plain": "<graphviz.files.Source at 0x7fe3494ebe80>",
                "image/svg+xml": "<?xml version=\"1.0\" encoding=\"UTF-8\" standalone=\"no\"?>\n<!DOCTYPE svg PUBLIC \"-//W3C//DTD SVG 1.1//EN\"\n \"http://www.w3.org/Graphics/SVG/1.1/DTD/svg11.dtd\">\n<!-- Generated by graphviz version 2.40.1 (20161225.0304)\n -->\n<!-- Title: %3 Pages: 1 -->\n<svg width=\"89pt\" height=\"143pt\"\n viewBox=\"0.00 0.00 89.00 143.00\" xmlns=\"http://www.w3.org/2000/svg\" xmlns:xlink=\"http://www.w3.org/1999/xlink\">\n<g id=\"graph0\" class=\"graph\" transform=\"scale(1 1) rotate(0) translate(4 139)\">\n<title>%3</title>\n<polygon fill=\"#ffffff\" stroke=\"transparent\" points=\"-4,4 -4,-139 85,-139 85,4 -4,4\"/>\n<!-- stack -->\n<g id=\"node1\" class=\"node\">\n<title>stack</title>\n<polygon fill=\"none\" stroke=\"#000000\" points=\"56,-8.5 56,-134.5 81,-134.5 81,-8.5 56,-8.5\"/>\n<text text-anchor=\"middle\" x=\"68.5\" y=\"-120.9\" font-family=\"Times,serif\" font-size=\"12.00\" fill=\"#000000\"> </text>\n<polyline fill=\"none\" stroke=\"#000000\" points=\"56,-113.5 81,-113.5 \"/>\n<text text-anchor=\"middle\" x=\"68.5\" y=\"-99.9\" font-family=\"Times,serif\" font-size=\"12.00\" fill=\"#000000\"> </text>\n<polyline fill=\"none\" stroke=\"#000000\" points=\"56,-92.5 81,-92.5 \"/>\n<text text-anchor=\"middle\" x=\"68.5\" y=\"-78.9\" font-family=\"Times,serif\" font-size=\"12.00\" fill=\"#000000\"> </text>\n<polyline fill=\"none\" stroke=\"#000000\" points=\"56,-71.5 81,-71.5 \"/>\n<text text-anchor=\"middle\" x=\"68.5\" y=\"-57.9\" font-family=\"Times,serif\" font-size=\"12.00\" fill=\"#000000\"> </text>\n<polyline fill=\"none\" stroke=\"#000000\" points=\"56,-50.5 81,-50.5 \"/>\n<text text-anchor=\"middle\" x=\"68.5\" y=\"-36.9\" font-family=\"Times,serif\" font-size=\"12.00\" fill=\"#000000\"> </text>\n<polyline fill=\"none\" stroke=\"#000000\" points=\"56,-29.5 81,-29.5 \"/>\n<text text-anchor=\"middle\" x=\"68.5\" y=\"-15.9\" font-family=\"Times,serif\" font-size=\"12.00\" fill=\"#000000\"> </text>\n</g>\n<!-- Empty -->\n<g id=\"node2\" class=\"node\">\n<title>Empty</title>\n<polygon fill=\"none\" stroke=\"#000000\" stroke-width=\"0\" points=\"0,-.5 0,-36.5 20,-36.5 20,-.5 0,-.5\"/>\n<text text-anchor=\"middle\" x=\"10\" y=\"-15.4\" font-family=\"Times,serif\" font-size=\"12.00\" fill=\"#000000\"> </text>\n</g>\n<!-- Empty&#45;&gt;stack -->\n<g id=\"edge1\" class=\"edge\">\n<title>Empty&#45;&gt;stack:top</title>\n<path fill=\"none\" stroke=\"#000000\" d=\"M20.2313,-18.5C27.077,-18.5 36.5257,-18.5 45.9332,-18.5\"/>\n<polygon fill=\"#000000\" stroke=\"#000000\" points=\"46,-22.0001 56,-18.5 46,-15.0001 46,-22.0001\"/>\n</g>\n</g>\n</svg>\n"
              }
            ],
            "_view_module": "@jupyter-widgets/output",
            "_model_module_version": "1.0.0",
            "_view_count": null,
            "_view_module_version": "1.0.0",
            "layout": "IPY_MODEL_b3251674c63047e491b9c6d8dda24312",
            "_model_module": "@jupyter-widgets/output"
          }
        },
        "de433b2ed5f0420c96d4ec936d1ea6bc": {
          "model_module": "@jupyter-widgets/output",
          "model_name": "OutputModel",
          "state": {
            "_view_name": "OutputView",
            "msg_id": "",
            "_dom_classes": [],
            "_model_name": "OutputModel",
            "outputs": [
              {
                "output_type": "display_data",
                "metadata": {
                  "tags": []
                },
                "text/plain": "<graphviz.files.Source at 0x7fe349391e10>",
                "image/svg+xml": "<?xml version=\"1.0\" encoding=\"UTF-8\" standalone=\"no\"?>\n<!DOCTYPE svg PUBLIC \"-//W3C//DTD SVG 1.1//EN\"\n \"http://www.w3.org/Graphics/SVG/1.1/DTD/svg11.dtd\">\n<!-- Generated by graphviz version 2.40.1 (20161225.0304)\n -->\n<!-- Title: %3 Pages: 1 -->\n<svg width=\"417pt\" height=\"142pt\"\n viewBox=\"0.00 0.00 417.00 142.50\" xmlns=\"http://www.w3.org/2000/svg\" xmlns:xlink=\"http://www.w3.org/1999/xlink\">\n<g id=\"graph0\" class=\"graph\" transform=\"scale(1 1) rotate(0) translate(4 138.4983)\">\n<title>%3</title>\n<polygon fill=\"#ffffff\" stroke=\"transparent\" points=\"-4,4 -4,-138.4983 413,-138.4983 413,4 -4,4\"/>\n<!-- EMPTY -->\n<g id=\"node1\" class=\"node\">\n<title>EMPTY</title>\n</g>\n<!-- I -->\n<g id=\"node3\" class=\"node\">\n<title>I</title>\n<ellipse fill=\"none\" stroke=\"#000000\" cx=\"109\" cy=\"-22\" rx=\"18\" ry=\"18\"/>\n<text text-anchor=\"middle\" x=\"109\" y=\"-18.3\" font-family=\"Times,serif\" font-size=\"14.00\" fill=\"#000000\">I</text>\n</g>\n<!-- EMPTY&#45;&gt;I -->\n<g id=\"edge1\" class=\"edge\">\n<title>EMPTY&#45;&gt;I</title>\n<path fill=\"none\" stroke=\"#000000\" d=\"M54.3048,-22C62.6909,-22 71.9407,-22 80.4103,-22\"/>\n<polygon fill=\"#000000\" stroke=\"#000000\" points=\"80.5976,-25.5001 90.5976,-22 80.5976,-18.5001 80.5976,-25.5001\"/>\n</g>\n<!-- W -->\n<g id=\"node2\" class=\"node\">\n<title>W</title>\n<ellipse fill=\"none\" stroke=\"#000000\" cx=\"251.5\" cy=\"-22\" rx=\"19.4965\" ry=\"19.4965\"/>\n<text text-anchor=\"middle\" x=\"251.5\" y=\"-18.3\" font-family=\"Times,serif\" font-size=\"14.00\" fill=\"#000000\">W</text>\n</g>\n<!-- W&#45;&gt;W -->\n<g id=\"edge3\" class=\"edge\">\n<title>W&#45;&gt;W</title>\n<path fill=\"none\" stroke=\"#000000\" d=\"M239.1189,-37.4073C235.0878,-48.4743 239.2148,-59.4983 251.5,-59.4983 259.946,-59.4983 264.5361,-54.2877 265.2702,-47.4349\"/>\n<polygon fill=\"#000000\" stroke=\"#000000\" points=\"268.7202,-46.8324 263.8811,-37.4073 261.7864,-47.793 268.7202,-46.8324\"/>\n<text text-anchor=\"start\" x=\"223.5\" y=\"-123.2983\" font-family=\"Times,serif\" font-size=\"14.00\" fill=\"#000000\"> &#39;&#39;, S ; aSa</text>\n<text text-anchor=\"start\" x=\"231.5\" y=\"-108.2983\" font-family=\"Times,serif\" font-size=\"14.00\" fill=\"#000000\"> &#39;&#39;, S ; &#39;&#39;</text>\n<text text-anchor=\"start\" x=\"231.5\" y=\"-93.2983\" font-family=\"Times,serif\" font-size=\"14.00\" fill=\"#000000\"> a, a ; &#39;&#39;</text>\n<text text-anchor=\"start\" x=\"222\" y=\"-78.2983\" font-family=\"Times,serif\" font-size=\"14.00\" fill=\"#000000\"> &#39;&#39;, S ; bSb</text>\n<text text-anchor=\"start\" x=\"230\" y=\"-63.2983\" font-family=\"Times,serif\" font-size=\"14.00\" fill=\"#000000\"> b, b ; &#39;&#39;</text>\n</g>\n<!-- F -->\n<g id=\"node4\" class=\"node\">\n<title>F</title>\n<ellipse fill=\"none\" stroke=\"#000000\" cx=\"387\" cy=\"-22\" rx=\"18\" ry=\"18\"/>\n<ellipse fill=\"none\" stroke=\"#000000\" cx=\"387\" cy=\"-22\" rx=\"22\" ry=\"22\"/>\n<text text-anchor=\"middle\" x=\"387\" y=\"-18.3\" font-family=\"Times,serif\" font-size=\"14.00\" fill=\"#000000\">F</text>\n</g>\n<!-- W&#45;&gt;F -->\n<g id=\"edge4\" class=\"edge\">\n<title>W&#45;&gt;F</title>\n<path fill=\"none\" stroke=\"#000000\" d=\"M271.2029,-22C293.0077,-22 328.4926,-22 354.4423,-22\"/>\n<polygon fill=\"#000000\" stroke=\"#000000\" points=\"354.5644,-25.5001 364.5644,-22 354.5643,-18.5001 354.5644,-25.5001\"/>\n<text text-anchor=\"start\" x=\"307\" y=\"-25.8\" font-family=\"Times,serif\" font-size=\"14.00\" fill=\"#000000\"> &#39;&#39;, # ; &#39;&#39;</text>\n</g>\n<!-- I&#45;&gt;W -->\n<g id=\"edge2\" class=\"edge\">\n<title>I&#45;&gt;W</title>\n<path fill=\"none\" stroke=\"#000000\" d=\"M127.0477,-22C150.8219,-22 192.9566,-22 221.5454,-22\"/>\n<polygon fill=\"#000000\" stroke=\"#000000\" points=\"221.7726,-25.5001 231.7725,-22 221.7725,-18.5001 221.7726,-25.5001\"/>\n<text text-anchor=\"start\" x=\"145\" y=\"-25.8\" font-family=\"Times,serif\" font-size=\"14.00\" fill=\"#000000\"> &#39;&#39;, # ; S#</text>\n</g>\n</g>\n</svg>\n"
              }
            ],
            "_view_module": "@jupyter-widgets/output",
            "_model_module_version": "1.0.0",
            "_view_count": null,
            "_view_module_version": "1.0.0",
            "layout": "IPY_MODEL_ab5c4d703ed4416991a83d91a7bca809",
            "_model_module": "@jupyter-widgets/output"
          }
        },
        "3115fb10926e4381958b0e8f7f5b3039": {
          "model_module": "@jupyter-widgets/base",
          "model_name": "LayoutModel",
          "state": {
            "_view_name": "LayoutView",
            "grid_template_rows": null,
            "right": null,
            "justify_content": null,
            "_view_module": "@jupyter-widgets/base",
            "overflow": null,
            "_model_module_version": "1.2.0",
            "_view_count": null,
            "flex_flow": null,
            "width": null,
            "min_width": null,
            "border": null,
            "align_items": null,
            "bottom": null,
            "_model_module": "@jupyter-widgets/base",
            "top": null,
            "grid_column": null,
            "overflow_y": null,
            "overflow_x": null,
            "grid_auto_flow": null,
            "grid_area": null,
            "grid_template_columns": null,
            "flex": null,
            "_model_name": "LayoutModel",
            "justify_items": null,
            "grid_row": null,
            "max_height": null,
            "align_content": null,
            "visibility": null,
            "align_self": null,
            "height": null,
            "min_height": null,
            "padding": null,
            "grid_auto_rows": null,
            "grid_gap": null,
            "max_width": null,
            "order": null,
            "_view_module_version": "1.2.0",
            "grid_template_areas": null,
            "object_position": null,
            "object_fit": null,
            "grid_auto_columns": null,
            "margin": null,
            "display": null,
            "left": null
          }
        },
        "ead9e764e23f47dc9e61c15941b09f51": {
          "model_module": "@jupyter-widgets/controls",
          "model_name": "DropdownModel",
          "state": {
            "_options_labels": [],
            "_view_name": "DropdownView",
            "style": "IPY_MODEL_1525a88016234966ba781b3cb4555eca",
            "_dom_classes": [],
            "description": "Path:",
            "_model_name": "DropdownModel",
            "index": null,
            "_view_module": "@jupyter-widgets/controls",
            "_model_module_version": "1.5.0",
            "_view_count": null,
            "disabled": true,
            "_view_module_version": "1.5.0",
            "description_tooltip": null,
            "_model_module": "@jupyter-widgets/controls",
            "layout": "IPY_MODEL_cd2bca10c6064eb6b8c6e96f7896d077"
          }
        },
        "c60a80ef66ce47989e7beb77d00a8436": {
          "model_module": "@jupyter-widgets/controls",
          "model_name": "PlayModel",
          "state": {
            "_view_name": "PlayView",
            "style": "IPY_MODEL_81cfbd3fc1b04f3bab630681628ad7a6",
            "interval": 950,
            "_dom_classes": [],
            "description": "Press play",
            "_model_name": "PlayModel",
            "max": 100,
            "_view_module": "@jupyter-widgets/controls",
            "_model_module_version": "1.5.0",
            "value": 0,
            "_view_count": null,
            "disabled": true,
            "_repeat": false,
            "_view_module_version": "1.5.0",
            "show_repeat": true,
            "min": 0,
            "_playing": false,
            "step": 1,
            "description_tooltip": null,
            "_model_module": "@jupyter-widgets/controls",
            "layout": "IPY_MODEL_df817e31bb37461cad3bb8d593818748"
          }
        },
        "d72538bef7c94a2f9404af025e19467f": {
          "model_module": "@jupyter-widgets/controls",
          "model_name": "ButtonModel",
          "state": {
            "_view_name": "ButtonView",
            "style": "IPY_MODEL_73c49903dd2049c7889534159b942c01",
            "_dom_classes": [],
            "description": "",
            "_model_name": "ButtonModel",
            "button_style": "",
            "_view_module": "@jupyter-widgets/controls",
            "_model_module_version": "1.5.0",
            "tooltip": "",
            "_view_count": null,
            "disabled": true,
            "_view_module_version": "1.5.0",
            "layout": "IPY_MODEL_c2e39adf68be49ecbcdb9a2b023f67ff",
            "_model_module": "@jupyter-widgets/controls",
            "icon": "step-backward"
          }
        },
        "a4bb1a76788c4a13b312e85c52a3f4fa": {
          "model_module": "@jupyter-widgets/controls",
          "model_name": "ButtonModel",
          "state": {
            "_view_name": "ButtonView",
            "style": "IPY_MODEL_4378bfd4a4e44b3dadbc2da634426c75",
            "_dom_classes": [],
            "description": "",
            "_model_name": "ButtonModel",
            "button_style": "",
            "_view_module": "@jupyter-widgets/controls",
            "_model_module_version": "1.5.0",
            "tooltip": "",
            "_view_count": null,
            "disabled": true,
            "_view_module_version": "1.5.0",
            "layout": "IPY_MODEL_095eecac9c9b492f878e979a8ff7ab56",
            "_model_module": "@jupyter-widgets/controls",
            "icon": "step-forward"
          }
        },
        "c1d306b3b2a243608e60f8af9409089a": {
          "model_module": "@jupyter-widgets/controls",
          "model_name": "IntSliderModel",
          "state": {
            "_view_name": "IntSliderView",
            "style": "IPY_MODEL_78621741dcf347b6b47144f84caf17d2",
            "_dom_classes": [],
            "description": "Speed:",
            "step": 1,
            "_model_name": "IntSliderModel",
            "orientation": "horizontal",
            "max": 10,
            "_view_module": "@jupyter-widgets/controls",
            "_model_module_version": "1.5.0",
            "value": 1,
            "_view_count": null,
            "disabled": true,
            "_view_module_version": "1.5.0",
            "min": 1,
            "continuous_update": false,
            "readout_format": "d",
            "description_tooltip": null,
            "readout": true,
            "_model_module": "@jupyter-widgets/controls",
            "layout": "IPY_MODEL_ea9f5f441485472cbe5e140bc6393cc4"
          }
        },
        "e92869a721f643bab10fa34f2a132e54": {
          "model_module": "@jupyter-widgets/controls",
          "model_name": "DescriptionStyleModel",
          "state": {
            "_view_name": "StyleView",
            "_model_name": "DescriptionStyleModel",
            "description_width": "",
            "_view_module": "@jupyter-widgets/base",
            "_model_module_version": "1.5.0",
            "_view_count": null,
            "_view_module_version": "1.2.0",
            "_model_module": "@jupyter-widgets/controls"
          }
        },
        "ec5f8a5c3cac45dab143a21b6cf2cf36": {
          "model_module": "@jupyter-widgets/base",
          "model_name": "LayoutModel",
          "state": {
            "_view_name": "LayoutView",
            "grid_template_rows": null,
            "right": null,
            "justify_content": null,
            "_view_module": "@jupyter-widgets/base",
            "overflow": null,
            "_model_module_version": "1.2.0",
            "_view_count": null,
            "flex_flow": null,
            "width": "500px",
            "min_width": null,
            "border": null,
            "align_items": null,
            "bottom": null,
            "_model_module": "@jupyter-widgets/base",
            "top": null,
            "grid_column": null,
            "overflow_y": null,
            "overflow_x": null,
            "grid_auto_flow": null,
            "grid_area": null,
            "grid_template_columns": null,
            "flex": null,
            "_model_name": "LayoutModel",
            "justify_items": null,
            "grid_row": null,
            "max_height": null,
            "align_content": null,
            "visibility": null,
            "align_self": null,
            "height": null,
            "min_height": null,
            "padding": null,
            "grid_auto_rows": null,
            "grid_gap": null,
            "max_width": null,
            "order": null,
            "_view_module_version": "1.2.0",
            "grid_template_areas": null,
            "object_position": null,
            "object_fit": null,
            "grid_auto_columns": null,
            "margin": null,
            "display": null,
            "left": null
          }
        },
        "b5bf578bf3f742638cb5e9ef46611f11": {
          "model_module": "@jupyter-widgets/controls",
          "model_name": "DescriptionStyleModel",
          "state": {
            "_view_name": "StyleView",
            "_model_name": "DescriptionStyleModel",
            "description_width": "",
            "_view_module": "@jupyter-widgets/base",
            "_model_module_version": "1.5.0",
            "_view_count": null,
            "_view_module_version": "1.2.0",
            "_model_module": "@jupyter-widgets/controls"
          }
        },
        "75cc0a3a83c5477eba57df4ed3a21255": {
          "model_module": "@jupyter-widgets/base",
          "model_name": "LayoutModel",
          "state": {
            "_view_name": "LayoutView",
            "grid_template_rows": null,
            "right": null,
            "justify_content": null,
            "_view_module": "@jupyter-widgets/base",
            "overflow": null,
            "_model_module_version": "1.2.0",
            "_view_count": null,
            "flex_flow": null,
            "width": "160px",
            "min_width": null,
            "border": null,
            "align_items": null,
            "bottom": null,
            "_model_module": "@jupyter-widgets/base",
            "top": null,
            "grid_column": null,
            "overflow_y": null,
            "overflow_x": null,
            "grid_auto_flow": null,
            "grid_area": null,
            "grid_template_columns": null,
            "flex": null,
            "_model_name": "LayoutModel",
            "justify_items": null,
            "grid_row": null,
            "max_height": null,
            "align_content": null,
            "visibility": null,
            "align_self": null,
            "height": null,
            "min_height": null,
            "padding": null,
            "grid_auto_rows": null,
            "grid_gap": null,
            "max_width": null,
            "order": null,
            "_view_module_version": "1.2.0",
            "grid_template_areas": null,
            "object_position": null,
            "object_fit": null,
            "grid_auto_columns": null,
            "margin": null,
            "display": null,
            "left": null
          }
        },
        "a1125cc06f9a4816a130c113e723ffca": {
          "model_module": "@jupyter-widgets/controls",
          "model_name": "ButtonStyleModel",
          "state": {
            "_view_name": "StyleView",
            "_model_name": "ButtonStyleModel",
            "_view_module": "@jupyter-widgets/base",
            "_model_module_version": "1.5.0",
            "_view_count": null,
            "button_color": null,
            "font_weight": "",
            "_view_module_version": "1.2.0",
            "_model_module": "@jupyter-widgets/controls"
          }
        },
        "f49bd549752743f2bbe3129ad5694ac7": {
          "model_module": "@jupyter-widgets/base",
          "model_name": "LayoutModel",
          "state": {
            "_view_name": "LayoutView",
            "grid_template_rows": null,
            "right": null,
            "justify_content": null,
            "_view_module": "@jupyter-widgets/base",
            "overflow": null,
            "_model_module_version": "1.2.0",
            "_view_count": null,
            "flex_flow": null,
            "width": null,
            "min_width": null,
            "border": null,
            "align_items": null,
            "bottom": null,
            "_model_module": "@jupyter-widgets/base",
            "top": null,
            "grid_column": null,
            "overflow_y": null,
            "overflow_x": null,
            "grid_auto_flow": null,
            "grid_area": null,
            "grid_template_columns": null,
            "flex": null,
            "_model_name": "LayoutModel",
            "justify_items": null,
            "grid_row": null,
            "max_height": null,
            "align_content": null,
            "visibility": null,
            "align_self": null,
            "height": null,
            "min_height": null,
            "padding": null,
            "grid_auto_rows": null,
            "grid_gap": null,
            "max_width": null,
            "order": null,
            "_view_module_version": "1.2.0",
            "grid_template_areas": null,
            "object_position": null,
            "object_fit": null,
            "grid_auto_columns": null,
            "margin": null,
            "display": null,
            "left": null
          }
        },
        "fd2c4bcae084450c8f955edb768c2d53": {
          "model_module": "@jupyter-widgets/controls",
          "model_name": "SliderStyleModel",
          "state": {
            "_view_name": "StyleView",
            "handle_color": null,
            "_model_name": "SliderStyleModel",
            "description_width": "",
            "_view_module": "@jupyter-widgets/base",
            "_model_module_version": "1.5.0",
            "_view_count": null,
            "_view_module_version": "1.2.0",
            "_model_module": "@jupyter-widgets/controls"
          }
        },
        "54f8d1633fd44665b8fdb3a75afb10ab": {
          "model_module": "@jupyter-widgets/base",
          "model_name": "LayoutModel",
          "state": {
            "_view_name": "LayoutView",
            "grid_template_rows": null,
            "right": null,
            "justify_content": null,
            "_view_module": "@jupyter-widgets/base",
            "overflow": null,
            "_model_module_version": "1.2.0",
            "_view_count": null,
            "flex_flow": null,
            "width": null,
            "min_width": null,
            "border": null,
            "align_items": null,
            "bottom": null,
            "_model_module": "@jupyter-widgets/base",
            "top": null,
            "grid_column": null,
            "overflow_y": null,
            "overflow_x": null,
            "grid_auto_flow": null,
            "grid_area": null,
            "grid_template_columns": null,
            "flex": null,
            "_model_name": "LayoutModel",
            "justify_items": null,
            "grid_row": null,
            "max_height": null,
            "align_content": null,
            "visibility": null,
            "align_self": null,
            "height": null,
            "min_height": null,
            "padding": null,
            "grid_auto_rows": null,
            "grid_gap": null,
            "max_width": null,
            "order": null,
            "_view_module_version": "1.2.0",
            "grid_template_areas": null,
            "object_position": null,
            "object_fit": null,
            "grid_auto_columns": null,
            "margin": null,
            "display": null,
            "left": null
          }
        },
        "1525a88016234966ba781b3cb4555eca": {
          "model_module": "@jupyter-widgets/controls",
          "model_name": "DescriptionStyleModel",
          "state": {
            "_view_name": "StyleView",
            "_model_name": "DescriptionStyleModel",
            "description_width": "",
            "_view_module": "@jupyter-widgets/base",
            "_model_module_version": "1.5.0",
            "_view_count": null,
            "_view_module_version": "1.2.0",
            "_model_module": "@jupyter-widgets/controls"
          }
        },
        "cd2bca10c6064eb6b8c6e96f7896d077": {
          "model_module": "@jupyter-widgets/base",
          "model_name": "LayoutModel",
          "state": {
            "_view_name": "LayoutView",
            "grid_template_rows": null,
            "right": null,
            "justify_content": null,
            "_view_module": "@jupyter-widgets/base",
            "overflow": null,
            "_model_module_version": "1.2.0",
            "_view_count": null,
            "flex_flow": null,
            "width": "200px",
            "min_width": null,
            "border": null,
            "align_items": null,
            "bottom": null,
            "_model_module": "@jupyter-widgets/base",
            "top": null,
            "grid_column": null,
            "overflow_y": null,
            "overflow_x": null,
            "grid_auto_flow": null,
            "grid_area": null,
            "grid_template_columns": null,
            "flex": null,
            "_model_name": "LayoutModel",
            "justify_items": null,
            "grid_row": null,
            "max_height": null,
            "align_content": null,
            "visibility": null,
            "align_self": null,
            "height": null,
            "min_height": null,
            "padding": null,
            "grid_auto_rows": null,
            "grid_gap": null,
            "max_width": null,
            "order": null,
            "_view_module_version": "1.2.0",
            "grid_template_areas": null,
            "object_position": null,
            "object_fit": null,
            "grid_auto_columns": null,
            "margin": null,
            "display": null,
            "left": null
          }
        },
        "81cfbd3fc1b04f3bab630681628ad7a6": {
          "model_module": "@jupyter-widgets/controls",
          "model_name": "DescriptionStyleModel",
          "state": {
            "_view_name": "StyleView",
            "_model_name": "DescriptionStyleModel",
            "description_width": "",
            "_view_module": "@jupyter-widgets/base",
            "_model_module_version": "1.5.0",
            "_view_count": null,
            "_view_module_version": "1.2.0",
            "_model_module": "@jupyter-widgets/controls"
          }
        },
        "df817e31bb37461cad3bb8d593818748": {
          "model_module": "@jupyter-widgets/base",
          "model_name": "LayoutModel",
          "state": {
            "_view_name": "LayoutView",
            "grid_template_rows": null,
            "right": null,
            "justify_content": null,
            "_view_module": "@jupyter-widgets/base",
            "overflow": null,
            "_model_module_version": "1.2.0",
            "_view_count": null,
            "flex_flow": null,
            "width": null,
            "min_width": null,
            "border": null,
            "align_items": null,
            "bottom": null,
            "_model_module": "@jupyter-widgets/base",
            "top": null,
            "grid_column": null,
            "overflow_y": null,
            "overflow_x": null,
            "grid_auto_flow": null,
            "grid_area": null,
            "grid_template_columns": null,
            "flex": null,
            "_model_name": "LayoutModel",
            "justify_items": null,
            "grid_row": null,
            "max_height": null,
            "align_content": null,
            "visibility": null,
            "align_self": null,
            "height": null,
            "min_height": null,
            "padding": null,
            "grid_auto_rows": null,
            "grid_gap": null,
            "max_width": null,
            "order": null,
            "_view_module_version": "1.2.0",
            "grid_template_areas": null,
            "object_position": null,
            "object_fit": null,
            "grid_auto_columns": null,
            "margin": null,
            "display": null,
            "left": null
          }
        },
        "73c49903dd2049c7889534159b942c01": {
          "model_module": "@jupyter-widgets/controls",
          "model_name": "ButtonStyleModel",
          "state": {
            "_view_name": "StyleView",
            "_model_name": "ButtonStyleModel",
            "_view_module": "@jupyter-widgets/base",
            "_model_module_version": "1.5.0",
            "_view_count": null,
            "button_color": null,
            "font_weight": "",
            "_view_module_version": "1.2.0",
            "_model_module": "@jupyter-widgets/controls"
          }
        },
        "c2e39adf68be49ecbcdb9a2b023f67ff": {
          "model_module": "@jupyter-widgets/base",
          "model_name": "LayoutModel",
          "state": {
            "_view_name": "LayoutView",
            "grid_template_rows": null,
            "right": null,
            "justify_content": null,
            "_view_module": "@jupyter-widgets/base",
            "overflow": null,
            "_model_module_version": "1.2.0",
            "_view_count": null,
            "flex_flow": null,
            "width": "40px",
            "min_width": null,
            "border": null,
            "align_items": null,
            "bottom": null,
            "_model_module": "@jupyter-widgets/base",
            "top": null,
            "grid_column": null,
            "overflow_y": null,
            "overflow_x": null,
            "grid_auto_flow": null,
            "grid_area": null,
            "grid_template_columns": null,
            "flex": null,
            "_model_name": "LayoutModel",
            "justify_items": null,
            "grid_row": null,
            "max_height": null,
            "align_content": null,
            "visibility": null,
            "align_self": null,
            "height": null,
            "min_height": null,
            "padding": null,
            "grid_auto_rows": null,
            "grid_gap": null,
            "max_width": null,
            "order": null,
            "_view_module_version": "1.2.0",
            "grid_template_areas": null,
            "object_position": null,
            "object_fit": null,
            "grid_auto_columns": null,
            "margin": null,
            "display": null,
            "left": null
          }
        },
        "4378bfd4a4e44b3dadbc2da634426c75": {
          "model_module": "@jupyter-widgets/controls",
          "model_name": "ButtonStyleModel",
          "state": {
            "_view_name": "StyleView",
            "_model_name": "ButtonStyleModel",
            "_view_module": "@jupyter-widgets/base",
            "_model_module_version": "1.5.0",
            "_view_count": null,
            "button_color": null,
            "font_weight": "",
            "_view_module_version": "1.2.0",
            "_model_module": "@jupyter-widgets/controls"
          }
        },
        "095eecac9c9b492f878e979a8ff7ab56": {
          "model_module": "@jupyter-widgets/base",
          "model_name": "LayoutModel",
          "state": {
            "_view_name": "LayoutView",
            "grid_template_rows": null,
            "right": null,
            "justify_content": null,
            "_view_module": "@jupyter-widgets/base",
            "overflow": null,
            "_model_module_version": "1.2.0",
            "_view_count": null,
            "flex_flow": null,
            "width": "40px",
            "min_width": null,
            "border": null,
            "align_items": null,
            "bottom": null,
            "_model_module": "@jupyter-widgets/base",
            "top": null,
            "grid_column": null,
            "overflow_y": null,
            "overflow_x": null,
            "grid_auto_flow": null,
            "grid_area": null,
            "grid_template_columns": null,
            "flex": null,
            "_model_name": "LayoutModel",
            "justify_items": null,
            "grid_row": null,
            "max_height": null,
            "align_content": null,
            "visibility": null,
            "align_self": null,
            "height": null,
            "min_height": null,
            "padding": null,
            "grid_auto_rows": null,
            "grid_gap": null,
            "max_width": null,
            "order": null,
            "_view_module_version": "1.2.0",
            "grid_template_areas": null,
            "object_position": null,
            "object_fit": null,
            "grid_auto_columns": null,
            "margin": null,
            "display": null,
            "left": null
          }
        },
        "78621741dcf347b6b47144f84caf17d2": {
          "model_module": "@jupyter-widgets/controls",
          "model_name": "SliderStyleModel",
          "state": {
            "_view_name": "StyleView",
            "handle_color": null,
            "_model_name": "SliderStyleModel",
            "description_width": "",
            "_view_module": "@jupyter-widgets/base",
            "_model_module_version": "1.5.0",
            "_view_count": null,
            "_view_module_version": "1.2.0",
            "_model_module": "@jupyter-widgets/controls"
          }
        },
        "ea9f5f441485472cbe5e140bc6393cc4": {
          "model_module": "@jupyter-widgets/base",
          "model_name": "LayoutModel",
          "state": {
            "_view_name": "LayoutView",
            "grid_template_rows": null,
            "right": null,
            "justify_content": null,
            "_view_module": "@jupyter-widgets/base",
            "overflow": null,
            "_model_module_version": "1.2.0",
            "_view_count": null,
            "flex_flow": null,
            "width": null,
            "min_width": null,
            "border": null,
            "align_items": null,
            "bottom": null,
            "_model_module": "@jupyter-widgets/base",
            "top": null,
            "grid_column": null,
            "overflow_y": null,
            "overflow_x": null,
            "grid_auto_flow": null,
            "grid_area": null,
            "grid_template_columns": null,
            "flex": null,
            "_model_name": "LayoutModel",
            "justify_items": null,
            "grid_row": null,
            "max_height": null,
            "align_content": null,
            "visibility": null,
            "align_self": null,
            "height": null,
            "min_height": null,
            "padding": null,
            "grid_auto_rows": null,
            "grid_gap": null,
            "max_width": null,
            "order": null,
            "_view_module_version": "1.2.0",
            "grid_template_areas": null,
            "object_position": null,
            "object_fit": null,
            "grid_auto_columns": null,
            "margin": null,
            "display": null,
            "left": null
          }
        },
        "9f1fa35e3437430ba43e1d974c51243a": {
          "model_module": "@jupyter-widgets/base",
          "model_name": "LayoutModel",
          "state": {
            "_view_name": "LayoutView",
            "grid_template_rows": null,
            "right": null,
            "justify_content": null,
            "_view_module": "@jupyter-widgets/base",
            "overflow": null,
            "_model_module_version": "1.2.0",
            "_view_count": null,
            "flex_flow": null,
            "width": null,
            "min_width": null,
            "border": null,
            "align_items": null,
            "bottom": null,
            "_model_module": "@jupyter-widgets/base",
            "top": null,
            "grid_column": null,
            "overflow_y": null,
            "overflow_x": null,
            "grid_auto_flow": null,
            "grid_area": null,
            "grid_template_columns": null,
            "flex": null,
            "_model_name": "LayoutModel",
            "justify_items": null,
            "grid_row": null,
            "max_height": null,
            "align_content": null,
            "visibility": null,
            "align_self": null,
            "height": null,
            "min_height": null,
            "padding": null,
            "grid_auto_rows": null,
            "grid_gap": null,
            "max_width": null,
            "order": null,
            "_view_module_version": "1.2.0",
            "grid_template_areas": null,
            "object_position": null,
            "object_fit": null,
            "grid_auto_columns": null,
            "margin": null,
            "display": null,
            "left": null
          }
        },
        "1b1bc22b57e844289947000a2d70f8fc": {
          "model_module": "@jupyter-widgets/base",
          "model_name": "LayoutModel",
          "state": {
            "_view_name": "LayoutView",
            "grid_template_rows": null,
            "right": null,
            "justify_content": null,
            "_view_module": "@jupyter-widgets/base",
            "overflow": null,
            "_model_module_version": "1.2.0",
            "_view_count": null,
            "flex_flow": null,
            "width": null,
            "min_width": null,
            "border": null,
            "align_items": null,
            "bottom": null,
            "_model_module": "@jupyter-widgets/base",
            "top": null,
            "grid_column": null,
            "overflow_y": null,
            "overflow_x": null,
            "grid_auto_flow": null,
            "grid_area": null,
            "grid_template_columns": null,
            "flex": null,
            "_model_name": "LayoutModel",
            "justify_items": null,
            "grid_row": null,
            "max_height": null,
            "align_content": null,
            "visibility": null,
            "align_self": null,
            "height": null,
            "min_height": null,
            "padding": null,
            "grid_auto_rows": null,
            "grid_gap": null,
            "max_width": null,
            "order": null,
            "_view_module_version": "1.2.0",
            "grid_template_areas": null,
            "object_position": null,
            "object_fit": null,
            "grid_auto_columns": null,
            "margin": null,
            "display": null,
            "left": null
          }
        },
        "d6db5ce7c37246d59af9078474754122": {
          "model_module": "@jupyter-widgets/base",
          "model_name": "LayoutModel",
          "state": {
            "_view_name": "LayoutView",
            "grid_template_rows": null,
            "right": null,
            "justify_content": null,
            "_view_module": "@jupyter-widgets/base",
            "overflow": null,
            "_model_module_version": "1.2.0",
            "_view_count": null,
            "flex_flow": null,
            "width": null,
            "min_width": null,
            "border": null,
            "align_items": null,
            "bottom": null,
            "_model_module": "@jupyter-widgets/base",
            "top": null,
            "grid_column": null,
            "overflow_y": null,
            "overflow_x": null,
            "grid_auto_flow": null,
            "grid_area": null,
            "grid_template_columns": null,
            "flex": null,
            "_model_name": "LayoutModel",
            "justify_items": null,
            "grid_row": null,
            "max_height": null,
            "align_content": null,
            "visibility": null,
            "align_self": null,
            "height": null,
            "min_height": null,
            "padding": null,
            "grid_auto_rows": null,
            "grid_gap": null,
            "max_width": null,
            "order": null,
            "_view_module_version": "1.2.0",
            "grid_template_areas": null,
            "object_position": null,
            "object_fit": null,
            "grid_auto_columns": null,
            "margin": null,
            "display": null,
            "left": null
          }
        },
        "b3251674c63047e491b9c6d8dda24312": {
          "model_module": "@jupyter-widgets/base",
          "model_name": "LayoutModel",
          "state": {
            "_view_name": "LayoutView",
            "grid_template_rows": null,
            "right": null,
            "justify_content": null,
            "_view_module": "@jupyter-widgets/base",
            "overflow": null,
            "_model_module_version": "1.2.0",
            "_view_count": null,
            "flex_flow": null,
            "width": null,
            "min_width": null,
            "border": null,
            "align_items": null,
            "bottom": null,
            "_model_module": "@jupyter-widgets/base",
            "top": null,
            "grid_column": null,
            "overflow_y": null,
            "overflow_x": null,
            "grid_auto_flow": null,
            "grid_area": null,
            "grid_template_columns": null,
            "flex": null,
            "_model_name": "LayoutModel",
            "justify_items": null,
            "grid_row": null,
            "max_height": null,
            "align_content": null,
            "visibility": null,
            "align_self": null,
            "height": null,
            "min_height": null,
            "padding": null,
            "grid_auto_rows": null,
            "grid_gap": null,
            "max_width": null,
            "order": null,
            "_view_module_version": "1.2.0",
            "grid_template_areas": null,
            "object_position": null,
            "object_fit": null,
            "grid_auto_columns": null,
            "margin": null,
            "display": null,
            "left": null
          }
        },
        "ab5c4d703ed4416991a83d91a7bca809": {
          "model_module": "@jupyter-widgets/base",
          "model_name": "LayoutModel",
          "state": {
            "_view_name": "LayoutView",
            "grid_template_rows": null,
            "right": null,
            "justify_content": null,
            "_view_module": "@jupyter-widgets/base",
            "overflow": null,
            "_model_module_version": "1.2.0",
            "_view_count": null,
            "flex_flow": null,
            "width": null,
            "min_width": null,
            "border": null,
            "align_items": null,
            "bottom": null,
            "_model_module": "@jupyter-widgets/base",
            "top": null,
            "grid_column": null,
            "overflow_y": null,
            "overflow_x": null,
            "grid_auto_flow": null,
            "grid_area": null,
            "grid_template_columns": null,
            "flex": null,
            "_model_name": "LayoutModel",
            "justify_items": null,
            "grid_row": null,
            "max_height": null,
            "align_content": null,
            "visibility": null,
            "align_self": null,
            "height": null,
            "min_height": null,
            "padding": null,
            "grid_auto_rows": null,
            "grid_gap": null,
            "max_width": null,
            "order": null,
            "_view_module_version": "1.2.0",
            "grid_template_areas": null,
            "object_position": null,
            "object_fit": null,
            "grid_auto_columns": null,
            "margin": null,
            "display": null,
            "left": null
          }
        }
      }
    }
  },
  "cells": [
    {
      "cell_type": "markdown",
      "metadata": {
        "id": "view-in-github",
        "colab_type": "text"
      },
      "source": [
        "<a href=\"https://colab.research.google.com/github/jgibbons94/cse480-notebooks/blob/master/07_1_Assorted_Topics_from_Chapters_11__and_12.ipynb\" target=\"_parent\"><img src=\"https://colab.research.google.com/assets/colab-badge.svg\" alt=\"Open In Colab\"/></a>"
      ]
    },
    {
      "cell_type": "markdown",
      "metadata": {
        "id": "rWL5ElBILfn7"
      },
      "source": [
        "# Assorted Topics from Chapters 11 and 12\n",
        "## Ponder and Prove\n",
        "### Due: Saturday, 20 February 2021, 11:59 pm"
      ]
    },
    {
      "cell_type": "markdown",
      "metadata": {
        "id": "l5w5vXj3L9_l"
      },
      "source": [
        "## The goal is for you to make some good connections between these formal objects:\n",
        " \n",
        "* Parse trees\n",
        "* Derivation Sequences\n",
        "* Instantaneous Description Sequences\n",
        " \n",
        "See the example in Figure 11.1, with the derivation sequence shown on the right of this figure, and the ID sequence also shown below."
      ]
    },
    {
      "cell_type": "code",
      "metadata": {
        "id": "3aTAiJlvM-v_",
        "outputId": "aab2395b-97f0-458d-b7c9-b75766d83369",
        "colab": {
          "base_uri": "https://localhost:8080/"
        }
      },
      "source": [
        "#~~~~~~~~~~~~~~~~~~~~~~~~~~~~~~~~~~~~~~~~~~~~~~~~~~~~~~~\n",
        "import sys\n",
        "\n",
        "# -- Detect if in Own Install or in Colab\n",
        "try:\n",
        "    import google.colab\n",
        "    OWN_INSTALL = False\n",
        "except:\n",
        "    OWN_INSTALL = True\n",
        "    \n",
        "if OWN_INSTALL:\n",
        "\n",
        "  sys.path[0:0] = ['../../../../..',  '../../../../../3rdparty',  \n",
        "                   '../../../..',  '../../../../3rdparty',  \n",
        "                   '../../..',     '../../../3rdparty', \n",
        "                   '../..',        '../../3rdparty',\n",
        "                   '..',           '../3rdparty',\n",
        "                   '../Jove',      '../Jove/jove']\n",
        "\n",
        "else: # In colab\n",
        "  ! if [ ! -d Jove ]; then git clone https://github.com/ganeshutah/Jove Jove; fi\n",
        "  sys.path.append('./Jove')\n",
        "  sys.path.append('./Jove/jove')\n",
        "\n",
        "# -- common imports --\n",
        "from jove.SystemImports import *\n",
        "from jove.DotBashers    import *\n",
        "from jove.Def_md2mc     import *\n",
        "from jove.Def_PDA       import * \n",
        "from jove.AnimatePDA    import *\n",
        "#~~~~~~~~~~~~~~~~~~~~~~~~~~~~~~~~~~~~~~~~~~~~~~~~~~~~~~~"
      ],
      "execution_count": 1,
      "outputs": [
        {
          "output_type": "stream",
          "text": [
            "Cloning into 'Jove'...\n",
            "remote: Enumerating objects: 4634, done.\u001b[K\n",
            "remote: Total 4634 (delta 0), reused 0 (delta 0), pack-reused 4634\n",
            "Receiving objects: 100% (4634/4634), 7.38 MiB | 9.81 MiB/s, done.\n",
            "Resolving deltas: 100% (3005/3005), done.\n",
            "You may use any of these help commands:\n",
            "help(ResetStNum)\n",
            "help(NxtStateStr)\n",
            "\n",
            "You may use any of these help commands:\n",
            "help(md2mc)\n",
            ".. and if you want to dig more, then ..\n",
            "help(default_line_attr)\n",
            "help(length_ok_input_items)\n",
            "help(union_line_attr_list_fld)\n",
            "help(extend_rsltdict)\n",
            "help(form_delta)\n",
            "help(get_machine_components)\n",
            "\n",
            "You may use any of these help commands:\n",
            "help(explore_pda)\n",
            "help(run_pda)\n",
            "help(classify_l_id_path)\n",
            "help(h_run_pda)\n",
            "help(interpret_w_eps)\n",
            "help(step_pda)\n",
            "help(suvivor_id)\n",
            "help(term_id)\n",
            "help(final_id)\n",
            "help(cvt_str_to_sym)\n",
            "help(is_surv_id)\n",
            "help(subsumed)\n",
            "help(is_term_id)\n",
            "help(is_final_id)\n",
            "\n",
            " \"help(AnimatePDA)\" gives you info on how to use animations with PDA \n"
          ],
          "name": "stdout"
        }
      ]
    },
    {
      "cell_type": "markdown",
      "metadata": {
        "id": "bAeGN7M0MwBf"
      },
      "source": [
        "## Dyck CFG and Direct-Converted PDA"
      ]
    },
    {
      "cell_type": "markdown",
      "metadata": {
        "id": "qECAUj8nNyzQ"
      },
      "source": [
        " Note that the CFG is inside the PDA code as a comment."
      ]
    },
    {
      "cell_type": "code",
      "metadata": {
        "id": "K-ArmTlSN2QY",
        "outputId": "016dd1b7-bc1c-4dbb-ec96-d979e0f76e45",
        "colab": {
          "base_uri": "https://localhost:8080/",
          "height": 249
        }
      },
      "source": [
        "dyck = md2mc('''\n",
        "PDA\n",
        "!!-- CFG follows\n",
        "!!-- S -> SS | (S) | ''\n",
        "\n",
        "IF : '',#; S# -> W\n",
        "\n",
        "W  : (,(; '' -> W\n",
        "W  : ),); '' -> W\n",
        "\n",
        "W  : b,b; bb -> W\n",
        "\n",
        "W  : '',S; SS  -> W\n",
        "W  : '',S; (S) -> W\n",
        "W  : '',S; ''  -> W\n",
        "\n",
        "W  : '',#; # -> F\n",
        "\n",
        "''')\n",
        "dotObj_pda(dyck, FuseEdges=True)"
      ],
      "execution_count": 2,
      "outputs": [
        {
          "output_type": "stream",
          "text": [
            "Generating LALR tables\n"
          ],
          "name": "stderr"
        },
        {
          "output_type": "execute_result",
          "data": {
            "text/plain": [
              "<graphviz.dot.Digraph at 0x7f5340fd3f60>"
            ],
            "image/svg+xml": "<?xml version=\"1.0\" encoding=\"UTF-8\" standalone=\"no\"?>\n<!DOCTYPE svg PUBLIC \"-//W3C//DTD SVG 1.1//EN\"\n \"http://www.w3.org/Graphics/SVG/1.1/DTD/svg11.dtd\">\n<!-- Generated by graphviz version 2.40.1 (20161225.0304)\n -->\n<!-- Title: %3 Pages: 1 -->\n<svg width=\"437pt\" height=\"158pt\"\n viewBox=\"0.00 0.00 436.70 158.35\" xmlns=\"http://www.w3.org/2000/svg\" xmlns:xlink=\"http://www.w3.org/1999/xlink\">\n<g id=\"graph0\" class=\"graph\" transform=\"scale(1 1) rotate(0) translate(4 154.3466)\">\n<title>%3</title>\n<polygon fill=\"#ffffff\" stroke=\"transparent\" points=\"-4,4 -4,-154.3466 432.6967,-154.3466 432.6967,4 -4,4\"/>\n<!-- EMPTY -->\n<g id=\"node1\" class=\"node\">\n<title>EMPTY</title>\n</g>\n<!-- IF -->\n<g id=\"node3\" class=\"node\">\n<title>IF</title>\n<ellipse fill=\"none\" stroke=\"#000000\" cx=\"113.8483\" cy=\"-22.8483\" rx=\"18.724\" ry=\"18.724\"/>\n<ellipse fill=\"none\" stroke=\"#000000\" cx=\"113.8483\" cy=\"-22.8483\" rx=\"22.6977\" ry=\"22.6977\"/>\n<text text-anchor=\"middle\" x=\"113.8483\" y=\"-19.1483\" font-family=\"Times,serif\" font-size=\"14.00\" fill=\"#000000\">IF</text>\n</g>\n<!-- EMPTY&#45;&gt;IF -->\n<g id=\"edge1\" class=\"edge\">\n<title>EMPTY&#45;&gt;IF</title>\n<path fill=\"none\" stroke=\"#000000\" d=\"M54.0033,-22.8483C62.5212,-22.8483 72.0276,-22.8483 80.9112,-22.8483\"/>\n<polygon fill=\"#000000\" stroke=\"#000000\" points=\"80.9572,-26.3484 90.9572,-22.8483 80.9572,-19.3484 80.9572,-26.3484\"/>\n</g>\n<!-- W -->\n<g id=\"node2\" class=\"node\">\n<title>W</title>\n<ellipse fill=\"none\" stroke=\"#000000\" cx=\"264.6967\" cy=\"-22.8483\" rx=\"19.4965\" ry=\"19.4965\"/>\n<text text-anchor=\"middle\" x=\"264.6967\" y=\"-19.1483\" font-family=\"Times,serif\" font-size=\"14.00\" fill=\"#000000\">W</text>\n</g>\n<!-- W&#45;&gt;W -->\n<g id=\"edge3\" class=\"edge\">\n<title>W&#45;&gt;W</title>\n<path fill=\"none\" stroke=\"#000000\" d=\"M251.3073,-37.4745C246.3,-48.7978 250.7631,-60.3466 264.6967,-60.3466 274.4937,-60.3466 279.6087,-54.637 280.0416,-47.3108\"/>\n<polygon fill=\"#000000\" stroke=\"#000000\" points=\"283.4689,-46.6 278.086,-37.4745 276.6033,-47.965 283.4689,-46.6\"/>\n<text text-anchor=\"middle\" x=\"264.6967\" y=\"-139.1466\" font-family=\"Times,serif\" font-size=\"14.00\" fill=\"#000000\">&#39;&#39;, S ; (S) </text>\n<text text-anchor=\"middle\" x=\"264.6967\" y=\"-124.1466\" font-family=\"Times,serif\" font-size=\"14.00\" fill=\"#000000\"> &#39;&#39;, S ; &#39;&#39; </text>\n<text text-anchor=\"middle\" x=\"264.6967\" y=\"-109.1466\" font-family=\"Times,serif\" font-size=\"14.00\" fill=\"#000000\"> b, b ; bb </text>\n<text text-anchor=\"middle\" x=\"264.6967\" y=\"-94.1466\" font-family=\"Times,serif\" font-size=\"14.00\" fill=\"#000000\"> (, ( ; &#39;&#39; </text>\n<text text-anchor=\"middle\" x=\"264.6967\" y=\"-79.1466\" font-family=\"Times,serif\" font-size=\"14.00\" fill=\"#000000\"> &#39;&#39;, S ; SS </text>\n<text text-anchor=\"middle\" x=\"264.6967\" y=\"-64.1466\" font-family=\"Times,serif\" font-size=\"14.00\" fill=\"#000000\"> ), ) ; &#39;&#39;</text>\n</g>\n<!-- F -->\n<g id=\"node4\" class=\"node\">\n<title>F</title>\n<ellipse fill=\"none\" stroke=\"#000000\" cx=\"406.6967\" cy=\"-22.8483\" rx=\"18\" ry=\"18\"/>\n<ellipse fill=\"none\" stroke=\"#000000\" cx=\"406.6967\" cy=\"-22.8483\" rx=\"22\" ry=\"22\"/>\n<text text-anchor=\"middle\" x=\"406.6967\" y=\"-19.1483\" font-family=\"Times,serif\" font-size=\"14.00\" fill=\"#000000\">F</text>\n</g>\n<!-- W&#45;&gt;F -->\n<g id=\"edge4\" class=\"edge\">\n<title>W&#45;&gt;F</title>\n<path fill=\"none\" stroke=\"#000000\" d=\"M284.4411,-22.8483C307.6865,-22.8483 346.6271,-22.8483 374.311,-22.8483\"/>\n<polygon fill=\"#000000\" stroke=\"#000000\" points=\"374.3139,-26.3484 384.3138,-22.8483 374.3138,-19.3484 374.3139,-26.3484\"/>\n<text text-anchor=\"middle\" x=\"347.1967\" y=\"-26.6483\" font-family=\"Times,serif\" font-size=\"14.00\" fill=\"#000000\">&#39;&#39;, # ; #</text>\n</g>\n<!-- IF&#45;&gt;W -->\n<g id=\"edge2\" class=\"edge\">\n<title>IF&#45;&gt;W</title>\n<path fill=\"none\" stroke=\"#000000\" d=\"M136.7589,-22.8483C162.923,-22.8483 205.824,-22.8483 234.65,-22.8483\"/>\n<polygon fill=\"#000000\" stroke=\"#000000\" points=\"234.9444,-26.3484 244.9444,-22.8483 234.9444,-19.3484 234.9444,-26.3484\"/>\n<text text-anchor=\"middle\" x=\"178.1967\" y=\"-26.6483\" font-family=\"Times,serif\" font-size=\"14.00\" fill=\"#000000\">&#39;&#39;, # ; S#</text>\n</g>\n</g>\n</svg>\n"
          },
          "metadata": {
            "tags": []
          },
          "execution_count": 2
        }
      ]
    },
    {
      "cell_type": "code",
      "metadata": {
        "id": "64XUvAzt6eTp",
        "outputId": "84f351cd-8bea-48e8-a05b-551a955d9cb8",
        "colab": {
          "base_uri": "https://localhost:8080/"
        }
      },
      "source": [
        "help(AnimatePDA)"
      ],
      "execution_count": 3,
      "outputs": [
        {
          "output_type": "stream",
          "text": [
            "Help on class AnimatePDA in module jove.AnimatePDA:\n",
            "\n",
            "class AnimatePDA(builtins.object)\n",
            " |  This is the PDA animation class.\n",
            " |  Call it with the PDA to be animated, and also FuseEdges=True/False\n",
            " |  to draw the PDA with edges either fused or not.\n",
            " |  For producing drawings in Colab, it is important to have these in\n",
            " |  every cell that calls animation.\n",
            " |  \n",
            " |  AnimatePDA(myPDA, FuseEdges='True/False')\n",
            " |  followed by\n",
            " |  display(HTML('<link rel=\"stylesheet\" href=\"//stackpath.bootstrapcdn.com/font-awesome/4.7.0/css/font-awesome.min.css\"/>'))\n",
            " |  \n",
            " |  Then the animation works in one's own install or Colab.\n",
            " |  \n",
            " |  Methods defined here:\n",
            " |  \n",
            " |  __init__(self, m_desc, FuseEdges=False, max_stack=30, max_width=9.0, accept_color='chartreuse3', reject_color='red', neutral_color='dodgerblue2')\n",
            " |      Initialize self.  See help(type(self)) for accurate signature.\n",
            " |  \n",
            " |  generate_animation(self, change)\n",
            " |  \n",
            " |  generate_feed(self, inspecting, step, max_steps, states)\n",
            " |  \n",
            " |  generate_machine_steps(self, states, step, max_step)\n",
            " |  \n",
            " |  on_backward_click(self, b)\n",
            " |  \n",
            " |  on_forward_click(self, b)\n",
            " |  \n",
            " |  on_input_change(self, change)\n",
            " |  \n",
            " |  on_path_change(self, change)\n",
            " |  \n",
            " |  on_play_step(self, change)\n",
            " |  \n",
            " |  on_speed_change(self, change)\n",
            " |  \n",
            " |  on_stack_size_change(self, change)\n",
            " |  \n",
            " |  set_choice_display(self, step, m_state, src_node, dest_node, state_set, states, color)\n",
            " |  \n",
            " |  set_stack_display(self, contents='')\n",
            " |  \n",
            " |  valid_user_input(self)\n",
            " |  \n",
            " |  ----------------------------------------------------------------------\n",
            " |  Data descriptors defined here:\n",
            " |  \n",
            " |  __dict__\n",
            " |      dictionary for instance variables (if defined)\n",
            " |  \n",
            " |  __weakref__\n",
            " |      list of weak references to the object (if defined)\n",
            "\n"
          ],
          "name": "stdout"
        }
      ]
    },
    {
      "cell_type": "code",
      "metadata": {
        "id": "sRuP7FV75_-y",
        "outputId": "62d1d56b-9efb-4420-fbf8-dfe61fb87124",
        "colab": {
          "base_uri": "https://localhost:8080/",
          "height": 411,
          "referenced_widgets": [
            "bee7495db123413f8617e68ae858ddf1",
            "6755d85a9a5c47429971013618f47444",
            "4823b162f3cc4ae5bdf623e2efdc355a",
            "a15742062447476a88a3723e81ad4897",
            "f8043aae43c64681bc17d0ab34cccd05",
            "f45f4dd7023545bf8cee8e61ac39c8fe",
            "7ddb01d746964b8693288cefc65c126a",
            "33d3142b40ac42e5b4871fd9d44a928d",
            "fb8f8623d6624fe7bf11d64f57531c67",
            "bb1f252bd9e14b039a34073b1dec940a",
            "2bd8ce9ebca84ff0b50a9edcba20f2ef",
            "7bdc4495fee4422b91113a32e53722ee",
            "950934b04c2342ef8d19b27884b7d69f",
            "47c24487fe3146528f5f0071e6fec4a0",
            "ddfb7a0c747c45a3b7fc86f22b8a1562",
            "3284e34e42d04d0facdd3fdc1b617ca8",
            "a4252eb571fa43c38748ec0f3ff833d9",
            "5a84362175e84dc2b1390264ff42a7c3",
            "4e206f3e95f74fc9bdb6245efeb70217",
            "4607219f8bc243cd9d78059f1678a263",
            "7456823a67a14772a8d08a30dcbc2373",
            "29c7d5dc0dd44e859a3d3c96e6d89bfd",
            "df22e5367014475086d79aee11ce9f3c",
            "3570275d1854437398e558c62ed3d7ae",
            "bfc1a0c8f86846538387758a14c00ff7",
            "e90714e6954f419f845365853cab0a3e",
            "d0905743a0ae42fa8b6ceb01a168e287",
            "10c5a32a055f4e93a213f0e1e535fca9",
            "a467a6abd4a146ebb0ea9d7847b6c32c",
            "6ec8e1e0f72f4b5cbfdf8880e8d1bcd0",
            "23865747d61042419becba8bdb5088cd",
            "e0e25c9e65c847cea7b8fc5a29eb5f66",
            "9e5561c665bb4e658ff23073f8b494ca",
            "f33275e1a2fe47218ed78d8250d041bd",
            "eecadd63c72d447494d8655c71abac92",
            "a7bf025c441c471f91bc8dfc9e3775eb",
            "dc286a233e6a488fbb16114913536f83",
            "98e0fd8b282648b9981a04b4b9ed7cef",
            "05d7936b8e404390ac4fe1b88c5911f3",
            "8e2f1a5ecd774b3284f939e0efb46930",
            "c3cf70852b694140896ed1318c598461",
            "0fc897bafc8f462c87d9f98708697675",
            "5803c82cbb154e89a3cbe3fc2cbe74f5",
            "68a2bed4a61248bfbb1a3b5b33c84254",
            "1156b9ef34dd4cefb0b2bfb90ceb9ccf",
            "65a9a4d603b6499a969d2a2537920c8a",
            "bd2033c3687a4e50a15e765a5c626619"
          ]
        }
      },
      "source": [
        "AnimatePDA(dyck,FuseEdges=True)"
      ],
      "execution_count": 6,
      "outputs": [
        {
          "output_type": "display_data",
          "data": {
            "application/vnd.jupyter.widget-view+json": {
              "model_id": "bee7495db123413f8617e68ae858ddf1",
              "version_minor": 0,
              "version_major": 2
            },
            "text/plain": [
              "VBox(children=(HBox(children=(Text(value='', description='Input:', layout=Layout(width='500px'), placeholder='…"
            ]
          },
          "metadata": {
            "tags": []
          }
        },
        {
          "output_type": "execute_result",
          "data": {
            "text/plain": [
              "<jove.AnimatePDA.AnimatePDA at 0x7f5340f82518>"
            ]
          },
          "metadata": {
            "tags": []
          },
          "execution_count": 6
        }
      ]
    },
    {
      "cell_type": "markdown",
      "metadata": {
        "id": "MKF3vySPOHrI"
      },
      "source": [
        "### TODO: Convert and compare Jove with the Automaton Simulator"
      ]
    },
    {
      "cell_type": "markdown",
      "metadata": {
        "id": "EwTxpbZWOVPq"
      },
      "source": [
        "This is the one demonstrated in class last week:\n",
        "\n",
        "https://automatonsimulator.com/\n",
        "\n",
        "Include a link encoding your saved machine."
      ]
    },
    {
      "cell_type": "code",
      "metadata": {
        "id": "UdhwmPXzOXrX",
        "outputId": "736ee11a-6a73-40ef-b85c-541111e5a9ad",
        "colab": {
          "base_uri": "https://localhost:8080/"
        }
      },
      "source": [
        "explore_pda('((())())()', dyck)"
      ],
      "execution_count": 5,
      "outputs": [
        {
          "output_type": "stream",
          "text": [
            "String ((())())() accepted by your PDA in 1 ways :-) \n",
            "Here are the ways: \n",
            "Final state  ('F', '', '#')\n",
            "Reached as follows:\n",
            "->  ('IF', '((())())()', '#')\n",
            "->  ('W', '((())())()', 'S#')\n",
            "->  ('W', '((())())()', 'SS#')\n",
            "->  ('W', '((())())()', '(S)S#')\n",
            "->  ('W', '(())())()', 'S)S#')\n",
            "->  ('W', '(())())()', 'SS)S#')\n",
            "->  ('W', '(())())()', '(S)S)S#')\n",
            "->  ('W', '())())()', 'S)S)S#')\n",
            "->  ('W', '())())()', '(S))S)S#')\n",
            "->  ('W', '))())()', 'S))S)S#')\n",
            "->  ('W', '))())()', '))S)S#')\n",
            "->  ('W', ')())()', ')S)S#')\n",
            "->  ('W', '())()', 'S)S#')\n",
            "->  ('W', '())()', '(S))S#')\n",
            "->  ('W', '))()', 'S))S#')\n",
            "->  ('W', '))()', '))S#')\n",
            "->  ('W', ')()', ')S#')\n",
            "->  ('W', '()', 'S#')\n",
            "->  ('W', '()', '(S)#')\n",
            "->  ('W', ')', 'S)#')\n",
            "->  ('W', ')', ')#')\n",
            "->  ('W', '', '#')\n",
            "->  ('F', '', '#') .\n"
          ],
          "name": "stdout"
        }
      ]
    },
    {
      "cell_type": "markdown",
      "metadata": {
        "id": "8BNnAzw1Oxvc"
      },
      "source": [
        "## Derivation Sequences (DS) are Formed from Instantaneous Description (ID) Sequences"
      ]
    },
    {
      "cell_type": "markdown",
      "metadata": {
        "id": "cumdtEixPPjf"
      },
      "source": [
        "Note that Derivation sequences (DS) are \"flattened parse trees\"!\n",
        "\n",
        "Here's how to reverse-engineer DS from the ID sequence printed:\n",
        "\n",
        "```\n",
        "     ID SEQUENCE                 -- FORMING EACH STEP of DERIVATION SEQUENCE\n",
        "=================================================================================     \n",
        "->  ('IF', '((())())()', '#')    -- \n",
        "->  ('W', '((())())()', 'S#')    -- S\n",
        "->  ('W', '((())())()', 'SS#')   -- S     => SS      (on top of stack)\n",
        "->  ('W', '((())())()', '(S)S#') -- SS    => (S)S    (push on TOS; record in deriv seq\n",
        "->  ('W', '(())())()', 'S)S#')   -- (S)S  => popped  (so no new derivation; leaf-match in PT)\n",
        "->  ('W', '(())())()', 'SS)S#')  -- (S)S  => (SS)S   (new push; so record in deriv. sequence)\n",
        "->  ('W', '(())())()', '(S)S)S#')-- (SS)S => ((S)S)S (again notice new push!)\n",
        "```\n",
        "\n",
        "Thus, we note that S => SS => (S)S => (SS)S => ((S)S)S => ... ((())())() \n",
        "\n",
        "\n",
        "\n",
        "\n",
        " "
      ]
    },
    {
      "cell_type": "markdown",
      "metadata": {
        "id": "BzlzmCM6Pjb6"
      },
      "source": [
        "### TODO Draw the Parse Tree from this DS."
      ]
    },
    {
      "cell_type": "markdown",
      "metadata": {
        "id": "YZ2Q7YKbQoLC"
      },
      "source": [
        "Use a neat drawing tool, and put the source and the PNG here."
      ]
    },
    {
      "cell_type": "markdown",
      "metadata": {
        "id": "S_PdBVXiQzB3"
      },
      "source": [
        "## Disambiguated Expression Parsing"
      ]
    },
    {
      "cell_type": "markdown",
      "metadata": {
        "id": "QIs4tcqRQ7M-"
      },
      "source": [
        "Derivation sequence for ```2*3+2``` noted below"
      ]
    },
    {
      "cell_type": "code",
      "metadata": {
        "id": "U54kIdD1RELn"
      },
      "source": [
        "# Parsing an arithmetic expression\n",
        "pdaE = md2mc('''PDA\n",
        "\n",
        "!!-- The grammar E -> E+E | E*E | (E) | ~E | 2 | 3 is ambiguous!\n",
        "!!-- Two parse trees!\n",
        "!!-- This is your Asg Part 2b\n",
        "\n",
        "!!-- STRATIFIED GRAMMAR for expressions avoids ambiguity - below!\n",
        "!!E -> E+T | T\n",
        "!!T -> T*F | F\n",
        "!!F -> 2 | 3 | ~F | (E)\n",
        "!!-- Direct-converted PDA from above CFG\n",
        "I : '', #  ; E#  -> M\n",
        "M : '', E  ; E+T -> M\n",
        "M : '', E  ; T   -> M\n",
        "M : '', T  ; T*F -> M\n",
        "M : '', T  ; F   -> M\n",
        "M : '', F  ; 2   -> M\n",
        "M : '', F  ; 3   -> M\n",
        "M : '', F  ; ~F  -> M\n",
        "M : '', F  ; (E) -> M\n",
        "M : ~,  ~  ; ''  -> M\n",
        "M : 2,  2  ; ''  -> M\n",
        "M : 3,  3  ; ''  -> M\n",
        "M : (,  (  ; ''  -> M\n",
        "M : ),  )  ; ''  -> M\n",
        "M : +,  +  ; ''  -> M\n",
        "M : *,  *  ; ''  -> M\n",
        "M : '', #  ; #   -> F\n",
        "'''\n",
        ")"
      ],
      "execution_count": 17,
      "outputs": []
    },
    {
      "cell_type": "markdown",
      "metadata": {
        "id": "8vuXCV31RsXh"
      },
      "source": [
        "### TODO: Convert and compare Jove with the Automaton Simulator"
      ]
    },
    {
      "cell_type": "markdown",
      "metadata": {
        "id": "2QcQqew-RwzC"
      },
      "source": [
        "As before. Include a link encoding your saved machine."
      ]
    },
    {
      "cell_type": "code",
      "metadata": {
        "id": "aGlCR07pRStG",
        "outputId": "4da41ee6-e00f-40a0-e215-83d9f95305a4",
        "colab": {
          "base_uri": "https://localhost:8080/"
        }
      },
      "source": [
        "explore_pda('2*3+2', pdaE)"
      ],
      "execution_count": 19,
      "outputs": [
        {
          "output_type": "stream",
          "text": [
            "String 2*3+2 accepted by your PDA in 1 ways :-) \n",
            "Here are the ways: \n",
            "Final state  ('F', '', '#')\n",
            "Reached as follows:\n",
            "->  ('I', '2*3+2', '#')\n",
            "->  ('M', '2*3+2', 'E#')\n",
            "->  ('M', '2*3+2', 'E+T#')\n",
            "->  ('M', '2*3+2', 'T+T#')\n",
            "->  ('M', '2*3+2', 'T*F+T#')\n",
            "->  ('M', '2*3+2', 'F*F+T#')\n",
            "->  ('M', '2*3+2', '2*F+T#')\n",
            "->  ('M', '*3+2', '*F+T#')\n",
            "->  ('M', '3+2', 'F+T#')\n",
            "->  ('M', '3+2', '3+T#')\n",
            "->  ('M', '+2', '+T#')\n",
            "->  ('M', '2', 'T#')\n",
            "->  ('M', '2', 'F#')\n",
            "->  ('M', '2', '2#')\n",
            "->  ('M', '', '#')\n",
            "->  ('F', '', '#') .\n"
          ],
          "name": "stdout"
        }
      ]
    },
    {
      "cell_type": "markdown",
      "metadata": {
        "id": "tl4-vlFUSGXw"
      },
      "source": [
        "### ID Sequence to Derivation Sequence to Implied Parse-Tree"
      ]
    },
    {
      "cell_type": "markdown",
      "metadata": {
        "id": "S3dnfq0pSLz0"
      },
      "source": [
        "```\n",
        "     ID SEQUENCE             -- FORMING EACH STEP of DERIVATION SEQUENCE\n",
        "=================================================================================  \n",
        "->  ('I', '2*3+2', '#')      -- \n",
        "->  ('M', '2*3+2', 'E#')     -- E        (pushed)\n",
        "->  ('M', '2*3+2', 'E+T#')   -- => E+T   (removed E; pushed E+T)\n",
        "->  ('M', '2*3+2', 'T+T#')   -- => T+T   (pushed T)\n",
        "->  ('M', '2*3+2', 'T*F+T#') -- => T*F+T (removed T, pushed T*F)\n",
        "->  ('M', '2*3+2', 'F*F+T#') -- => F*F+T (removed T, pushed F)\n",
        "->  ('M', '2*3+2', '2*F+T#') -- => 2*F+T (removed F, pushed 2)\n",
        "->  ('M', '*3+2', '*F+T#')   -- => leaf-match of 2, no new push, deriv seq same as before\n",
        "->  ('M', '3+2', 'F+T#')     -- => leaf-match of *, no new push. NOTICE \"*\" DONE BEFORE +\n",
        "->  ('M', '3+2', '3+T#')     -- => ...\n",
        "->  ('M', '+2', '+T#')\n",
        "->  ('M', '2', 'T#')\n",
        "->  ('M', '2', 'F#')\n",
        "->  ('M', '2', '2#')\n",
        "->  ('M', '', '#')\n",
        "->  ('F', '', '#') . \n",
        "```\n"
      ]
    },
    {
      "cell_type": "markdown",
      "metadata": {
        "id": "ZlZGA1QsSUTH"
      },
      "source": [
        "### TODO: Finish --- Derivation sequence is\n"
      ]
    },
    {
      "cell_type": "markdown",
      "metadata": {
        "id": "eOulPtj4Tn0O"
      },
      "source": [
        "```E => E+T => T+T => T*F+T => F*F+T => 2*F+T => ... 2*3+2``` (You flesh out.)"
      ]
    },
    {
      "cell_type": "markdown",
      "metadata": {
        "id": "q45T-I2RSgBK"
      },
      "source": [
        "### TODO Draw the Parse Tree from this DS."
      ]
    },
    {
      "cell_type": "markdown",
      "metadata": {
        "id": "y59gb2QMSgBL"
      },
      "source": [
        "Use a neat drawing tool, and put the source and the PNG here."
      ]
    },
    {
      "cell_type": "markdown",
      "metadata": {
        "id": "gEvcp6JbSusH"
      },
      "source": [
        "Note how * is done before +."
      ]
    },
    {
      "cell_type": "markdown",
      "metadata": {
        "id": "sL5qNMy9IaYi"
      },
      "source": [
        "## TODO Study Context-Free Grammars Further\n",
        "\n"
      ]
    },
    {
      "cell_type": "markdown",
      "metadata": {
        "id": "Okf_H6PmIkB5"
      },
      "source": [
        "1. Learn how to \"run\" CFGs by directly converting them to PDA, and running those PDA.\n",
        "2. Watch YouTube videos as presented \"in context\" below."
      ]
    },
    {
      "cell_type": "markdown",
      "metadata": {
        "id": "wVn2YjBCJAkT"
      },
      "source": [
        "#### CFG Basics and How to Directly Parse Them Using PDA"
      ]
    },
    {
      "cell_type": "code",
      "metadata": {
        "id": "KrCcxXr9JQ2T"
      },
      "source": [
        "from IPython.display import YouTubeVideo\n",
        "YouTubeVideo('bymg3MDe6Y4')"
      ],
      "execution_count": null,
      "outputs": []
    },
    {
      "cell_type": "markdown",
      "metadata": {
        "id": "nVGeLVsfJlDp"
      },
      "source": [
        "Direct path: https://youtu.be/bymg3MDe6Y4 (31 min mark).\n",
        "\n",
        "From about the 30-minute mark, the video discusses the grammar:\n",
        "\n",
        "S -> aSa | bSb | epsilon,\n",
        "\n",
        "for $\\{w w^R \\;:\\; w \\in \\{a, b\\}^* \\}$."
      ]
    },
    {
      "cell_type": "markdown",
      "metadata": {
        "id": "TZdCpOVDKb-0"
      },
      "source": [
        "### The Next Video"
      ]
    },
    {
      "cell_type": "markdown",
      "metadata": {
        "id": "SfC9y-6tKenk"
      },
      "source": [
        "(Direct path https://youtu.be/N5wQovKIZGM) discusses:\n",
        "1. Consistency/Completeness\n",
        "2. Linearity\n",
        "3. Ambiguity"
      ]
    },
    {
      "cell_type": "code",
      "metadata": {
        "id": "HWBTAVDRKsvw"
      },
      "source": [
        "from IPython.display import YouTubeVideo\n",
        "YouTubeVideo('N5wQovKIZGM')"
      ],
      "execution_count": null,
      "outputs": []
    },
    {
      "cell_type": "markdown",
      "metadata": {
        "id": "5xGGU3oNK2X_"
      },
      "source": [
        "### TODO Run the \"Direct Simulation of CFG from PDA\""
      ]
    },
    {
      "cell_type": "markdown",
      "metadata": {
        "id": "Z97Jh6ewK9UM"
      },
      "source": [
        "for the above grammar. Notice how each grammar rule is encoded DIRECTLY as a PDA transition.\n",
        "\n",
        "These PDA always have the *SAME* I to W and W to F moves ...\n",
        "\n",
        "Only the W to W moves vary; and here, they have transitions that go by the CFG.\n",
        "\n",
        "There are always $a \\in \\Sigma$ transitions that drain every $a \\in \\Sigma$, matching it with an incoming $a$."
      ]
    },
    {
      "cell_type": "code",
      "metadata": {
        "id": "-TJ_syN7LfSP",
        "outputId": "b2b7293c-4e83-4835-8a8e-68ece9c9cc70",
        "colab": {
          "base_uri": "https://localhost:8080/",
          "height": 0
        }
      },
      "source": [
        "wwR = md2mc('''\n",
        "PDA\n",
        "!!-- The CFG to be simulated\n",
        "!!-- S -> aSa | bSb | ''\n",
        "\n",
        "!!-- This move is the same for any CFG\n",
        "I : '',#; S# -> W\n",
        "\n",
        "!!-- These moves imitate the CFG productions directly\n",
        "W : '',S; aSa -> W\n",
        "W : '',S; bSb -> W\n",
        "W : '',S; ''  -> W\n",
        "\n",
        "!!-- Transitions for every member of Sigma\n",
        "W : a,a; '' -> W\n",
        "W : b,b; '' -> W\n",
        "\n",
        "!!-- This transition is also there for every CFG\n",
        "W : '',#; ''   -> F\n",
        "''')\n",
        "dotObj_pda(wwR, FuseEdges=True)"
      ],
      "execution_count": 20,
      "outputs": [
        {
          "output_type": "execute_result",
          "data": {
            "text/plain": [
              "<graphviz.dot.Digraph at 0x7fe349221e48>"
            ],
            "image/svg+xml": "<?xml version=\"1.0\" encoding=\"UTF-8\" standalone=\"no\"?>\n<!DOCTYPE svg PUBLIC \"-//W3C//DTD SVG 1.1//EN\"\n \"http://www.w3.org/Graphics/SVG/1.1/DTD/svg11.dtd\">\n<!-- Generated by graphviz version 2.40.1 (20161225.0304)\n -->\n<!-- Title: %3 Pages: 1 -->\n<svg width=\"409pt\" height=\"142pt\"\n viewBox=\"0.00 0.00 409.00 142.50\" xmlns=\"http://www.w3.org/2000/svg\" xmlns:xlink=\"http://www.w3.org/1999/xlink\">\n<g id=\"graph0\" class=\"graph\" transform=\"scale(1 1) rotate(0) translate(4 138.4983)\">\n<title>%3</title>\n<polygon fill=\"#ffffff\" stroke=\"transparent\" points=\"-4,4 -4,-138.4983 405,-138.4983 405,4 -4,4\"/>\n<!-- EMPTY -->\n<g id=\"node1\" class=\"node\">\n<title>EMPTY</title>\n</g>\n<!-- I -->\n<g id=\"node3\" class=\"node\">\n<title>I</title>\n<ellipse fill=\"none\" stroke=\"#000000\" cx=\"109\" cy=\"-22\" rx=\"18\" ry=\"18\"/>\n<text text-anchor=\"middle\" x=\"109\" y=\"-18.3\" font-family=\"Times,serif\" font-size=\"14.00\" fill=\"#000000\">I</text>\n</g>\n<!-- EMPTY&#45;&gt;I -->\n<g id=\"edge1\" class=\"edge\">\n<title>EMPTY&#45;&gt;I</title>\n<path fill=\"none\" stroke=\"#000000\" d=\"M54.3048,-22C62.6909,-22 71.9407,-22 80.4103,-22\"/>\n<polygon fill=\"#000000\" stroke=\"#000000\" points=\"80.5976,-25.5001 90.5976,-22 80.5976,-18.5001 80.5976,-25.5001\"/>\n</g>\n<!-- W -->\n<g id=\"node2\" class=\"node\">\n<title>W</title>\n<ellipse fill=\"none\" stroke=\"#000000\" cx=\"247.5\" cy=\"-22\" rx=\"19.4965\" ry=\"19.4965\"/>\n<text text-anchor=\"middle\" x=\"247.5\" y=\"-18.3\" font-family=\"Times,serif\" font-size=\"14.00\" fill=\"#000000\">W</text>\n</g>\n<!-- W&#45;&gt;W -->\n<g id=\"edge3\" class=\"edge\">\n<title>W&#45;&gt;W</title>\n<path fill=\"none\" stroke=\"#000000\" d=\"M235.4535,-37.4073C231.5314,-48.4743 235.5469,-59.4983 247.5,-59.4983 255.7178,-59.4983 260.1838,-54.2877 260.898,-47.4349\"/>\n<polygon fill=\"#000000\" stroke=\"#000000\" points=\"264.3509,-46.8501 259.5465,-37.4073 257.4137,-47.7852 264.3509,-46.8501\"/>\n<text text-anchor=\"middle\" x=\"247.5\" y=\"-123.2983\" font-family=\"Times,serif\" font-size=\"14.00\" fill=\"#000000\">&#39;&#39;, S ; aSa </text>\n<text text-anchor=\"middle\" x=\"247.5\" y=\"-108.2983\" font-family=\"Times,serif\" font-size=\"14.00\" fill=\"#000000\"> &#39;&#39;, S ; &#39;&#39; </text>\n<text text-anchor=\"middle\" x=\"247.5\" y=\"-93.2983\" font-family=\"Times,serif\" font-size=\"14.00\" fill=\"#000000\"> a, a ; &#39;&#39; </text>\n<text text-anchor=\"middle\" x=\"247.5\" y=\"-78.2983\" font-family=\"Times,serif\" font-size=\"14.00\" fill=\"#000000\"> &#39;&#39;, S ; bSb </text>\n<text text-anchor=\"middle\" x=\"247.5\" y=\"-63.2983\" font-family=\"Times,serif\" font-size=\"14.00\" fill=\"#000000\"> b, b ; &#39;&#39;</text>\n</g>\n<!-- F -->\n<g id=\"node4\" class=\"node\">\n<title>F</title>\n<ellipse fill=\"none\" stroke=\"#000000\" cx=\"379\" cy=\"-22\" rx=\"18\" ry=\"18\"/>\n<ellipse fill=\"none\" stroke=\"#000000\" cx=\"379\" cy=\"-22\" rx=\"22\" ry=\"22\"/>\n<text text-anchor=\"middle\" x=\"379\" y=\"-18.3\" font-family=\"Times,serif\" font-size=\"14.00\" fill=\"#000000\">F</text>\n</g>\n<!-- W&#45;&gt;F -->\n<g id=\"edge4\" class=\"edge\">\n<title>W&#45;&gt;F</title>\n<path fill=\"none\" stroke=\"#000000\" d=\"M267.1869,-22C288.2516,-22 321.9926,-22 346.9064,-22\"/>\n<polygon fill=\"#000000\" stroke=\"#000000\" points=\"346.9806,-25.5001 356.9806,-22 346.9806,-18.5001 346.9806,-25.5001\"/>\n<text text-anchor=\"middle\" x=\"321\" y=\"-25.8\" font-family=\"Times,serif\" font-size=\"14.00\" fill=\"#000000\">&#39;&#39;, # ; &#39;&#39;</text>\n</g>\n<!-- I&#45;&gt;W -->\n<g id=\"edge2\" class=\"edge\">\n<title>I&#45;&gt;W</title>\n<path fill=\"none\" stroke=\"#000000\" d=\"M127.1065,-22C150.0215,-22 189.8172,-22 217.349,-22\"/>\n<polygon fill=\"#000000\" stroke=\"#000000\" points=\"217.5965,-25.5001 227.5965,-22 217.5964,-18.5001 217.5965,-25.5001\"/>\n<text text-anchor=\"middle\" x=\"168.5\" y=\"-25.8\" font-family=\"Times,serif\" font-size=\"14.00\" fill=\"#000000\">&#39;&#39;, # ; S#</text>\n</g>\n</g>\n</svg>\n"
          },
          "metadata": {
            "tags": []
          },
          "execution_count": 20
        }
      ]
    },
    {
      "cell_type": "code",
      "metadata": {
        "id": "xQuqpJKfL1yi",
        "outputId": "1d0c62b3-2144-4fa0-d12a-81218bb9c123",
        "colab": {
          "base_uri": "https://localhost:8080/"
        }
      },
      "source": [
        "explore_pda('aabaabaa', wwR)"
      ],
      "execution_count": 21,
      "outputs": [
        {
          "output_type": "stream",
          "text": [
            "String aabaabaa accepted by your PDA in 1 ways :-) \n",
            "Here are the ways: \n",
            "Final state  ('F', '', '')\n",
            "Reached as follows:\n",
            "->  ('I', 'aabaabaa', '#')\n",
            "->  ('W', 'aabaabaa', 'S#')\n",
            "->  ('W', 'aabaabaa', 'aSa#')\n",
            "->  ('W', 'abaabaa', 'Sa#')\n",
            "->  ('W', 'abaabaa', 'aSaa#')\n",
            "->  ('W', 'baabaa', 'Saa#')\n",
            "->  ('W', 'baabaa', 'bSbaa#')\n",
            "->  ('W', 'aabaa', 'Sbaa#')\n",
            "->  ('W', 'aabaa', 'aSabaa#')\n",
            "->  ('W', 'abaa', 'Sabaa#')\n",
            "->  ('W', 'abaa', 'abaa#')\n",
            "->  ('W', 'baa', 'baa#')\n",
            "->  ('W', 'aa', 'aa#')\n",
            "->  ('W', 'a', 'a#')\n",
            "->  ('W', '', '#')\n",
            "->  ('F', '', '') .\n"
          ],
          "name": "stdout"
        }
      ]
    },
    {
      "cell_type": "markdown",
      "metadata": {
        "id": "_3JNV_j0L7yF"
      },
      "source": [
        "### Animate with Jove and Alternative"
      ]
    },
    {
      "cell_type": "code",
      "metadata": {
        "id": "02sZSsbWMCYJ",
        "outputId": "2b819c7e-5d28-4ee4-805e-f07b14b212bb",
        "colab": {
          "base_uri": "https://localhost:8080/",
          "height": 0,
          "referenced_widgets": [
            "4831fe031c4849cbb00bdbb00c7961e1",
            "93a1c6de39a84e55a2258b81b1424c83",
            "4197fa0eb39548839bdbb5e9a08d1114",
            "9d17331640f34ed09a2e46c645ed7c24",
            "6aa4541d79ab44489b4ee4a1c5f6d5a2",
            "82f7229aecbf441d81fd3d58419b78a4",
            "ed35dd671edb41e69879d52c387f627f",
            "bff5c41fffff4ee6b7a4ccdb565428a8",
            "28eea364f16347149a0a15d8458ed967",
            "03fcef26984c43209d10d2d625321109",
            "6115fa9fcef24b5ab0651f264214b007",
            "9dc3cbf7f5e64a69baea033e3bf03310",
            "a5fd9a1b8ee343eeb4b3c472d8ac619b",
            "2b4e166dc1e444c590c7e7510f8c8bcf",
            "06701cbc28a5406eb418683259b9aaf4",
            "cc488ba3a89349d2b9790238744026ff",
            "02708aeb912843568d098c682dc9cce3",
            "de433b2ed5f0420c96d4ec936d1ea6bc",
            "3115fb10926e4381958b0e8f7f5b3039",
            "ead9e764e23f47dc9e61c15941b09f51",
            "c60a80ef66ce47989e7beb77d00a8436",
            "d72538bef7c94a2f9404af025e19467f",
            "a4bb1a76788c4a13b312e85c52a3f4fa",
            "c1d306b3b2a243608e60f8af9409089a",
            "e92869a721f643bab10fa34f2a132e54",
            "ec5f8a5c3cac45dab143a21b6cf2cf36",
            "b5bf578bf3f742638cb5e9ef46611f11",
            "75cc0a3a83c5477eba57df4ed3a21255",
            "a1125cc06f9a4816a130c113e723ffca",
            "f49bd549752743f2bbe3129ad5694ac7",
            "fd2c4bcae084450c8f955edb768c2d53",
            "54f8d1633fd44665b8fdb3a75afb10ab",
            "1525a88016234966ba781b3cb4555eca",
            "cd2bca10c6064eb6b8c6e96f7896d077",
            "81cfbd3fc1b04f3bab630681628ad7a6",
            "df817e31bb37461cad3bb8d593818748",
            "73c49903dd2049c7889534159b942c01",
            "c2e39adf68be49ecbcdb9a2b023f67ff",
            "4378bfd4a4e44b3dadbc2da634426c75",
            "095eecac9c9b492f878e979a8ff7ab56",
            "78621741dcf347b6b47144f84caf17d2",
            "ea9f5f441485472cbe5e140bc6393cc4",
            "9f1fa35e3437430ba43e1d974c51243a",
            "1b1bc22b57e844289947000a2d70f8fc",
            "d6db5ce7c37246d59af9078474754122",
            "b3251674c63047e491b9c6d8dda24312",
            "ab5c4d703ed4416991a83d91a7bca809"
          ]
        }
      },
      "source": [
        "from jove.AnimatePDA import *\n",
        "AnimatePDA(wwR, FuseEdges=True)\n",
        "display(HTML('<link rel=\"stylesheet\" href=\"//stackpath.bootstrapcdn.com/font-awesome/4.7.0/css/font-awesome.min.css\"/>'))\n"
      ],
      "execution_count": 22,
      "outputs": [
        {
          "output_type": "display_data",
          "data": {
            "application/vnd.jupyter.widget-view+json": {
              "model_id": "4831fe031c4849cbb00bdbb00c7961e1",
              "version_minor": 0,
              "version_major": 2
            },
            "text/plain": [
              "VBox(children=(HBox(children=(Text(value='', description='Input:', layout=Layout(width='500px'), placeholder='…"
            ]
          },
          "metadata": {
            "tags": []
          }
        },
        {
          "output_type": "display_data",
          "data": {
            "text/html": [
              "<link rel=\"stylesheet\" href=\"//stackpath.bootstrapcdn.com/font-awesome/4.7.0/css/font-awesome.min.css\"/>"
            ],
            "text/plain": [
              "<IPython.core.display.HTML object>"
            ]
          },
          "metadata": {
            "tags": []
          }
        }
      ]
    },
    {
      "cell_type": "markdown",
      "metadata": {
        "id": "5NzJT4a3QzCs"
      },
      "source": [
        "Do this and all the rest with the alternative Automaton Simulator also. https://automatonsimulator.com"
      ]
    },
    {
      "cell_type": "markdown",
      "metadata": {
        "id": "lLKSYVV8MkAq"
      },
      "source": [
        "### Animation Panel for all Machines (choose PDA)"
      ]
    },
    {
      "cell_type": "markdown",
      "metadata": {
        "id": "Z0XjJ3qVMrPf"
      },
      "source": [
        "### You may do the above animation here.\n",
        "#### Access the PDA panel and key-in the definition of wwR in there."
      ]
    },
    {
      "cell_type": "code",
      "metadata": {
        "id": "06aGi4C-NPUr"
      },
      "source": [
        "from jove.JoveEditor import *\n",
        "JoveEditor(examples=True)\n",
        "display(HTML('<link rel=\"stylesheet\" href=\"//stackpath.bootstrapcdn.com/font-awesome/4.7.0/css/font-awesome.min.css\"/>'))\n"
      ],
      "execution_count": null,
      "outputs": []
    },
    {
      "cell_type": "markdown",
      "metadata": {
        "id": "XElSGnwFNh7i"
      },
      "source": [
        "The explore_pda call below fails because the string is not of the form $ww^R$. Here you must use ```explore_pda```, not animation, to further investigate."
      ]
    },
    {
      "cell_type": "code",
      "metadata": {
        "id": "l7p49tPlNr4w"
      },
      "source": [
        "explore_pda('aabaaaba', wwR)"
      ],
      "execution_count": null,
      "outputs": []
    },
    {
      "cell_type": "markdown",
      "metadata": {
        "id": "--pkDVxpNwZj"
      },
      "source": [
        "### An RE Grammar and its PDA Encoding"
      ]
    },
    {
      "cell_type": "markdown",
      "metadata": {
        "id": "Zh3kBQsFN0_y"
      },
      "source": [
        "Observe the number of possible parses.\n",
        "\n",
        "This is a highly ambiguous grammar because there are many parses for the same input."
      ]
    },
    {
      "cell_type": "code",
      "metadata": {
        "id": "mRNF34GrOHWI"
      },
      "source": [
        "repda = md2mc('''PDA\n",
        "!!R -> R R | R + R | R* | ( R ) | 0 | 1 | e\n",
        "I : '', #  ; R#  -> M\n",
        "M : '', R  ; RR  -> M\n",
        "M : '', R  ; R+R -> M\n",
        "M : '', R  ; R*  -> M\n",
        "M : '', R  ; (R) -> M\n",
        "M : '', R  ; 0   -> M\n",
        "M : '', R  ; 1   -> M\n",
        "M : '', R  ; e   -> M\n",
        "M : 0,  0  ; ''  -> M\n",
        "M : 1,  1  ; ''  -> M\n",
        "M : (,  (  ; ''  -> M\n",
        "M : ),  )  ; ''  -> M\n",
        "M : +,  +  ; ''  -> M\n",
        "M : e,  e  ; ''  -> M\n",
        "M : '', #  ; #   -> F\n",
        "'''\n",
        ")"
      ],
      "execution_count": null,
      "outputs": []
    },
    {
      "cell_type": "code",
      "metadata": {
        "id": "aN0rmI56OIuv"
      },
      "source": [
        "repda"
      ],
      "execution_count": null,
      "outputs": []
    },
    {
      "cell_type": "code",
      "metadata": {
        "id": "4X1KjfXLOMja"
      },
      "source": [
        "DO_repda = dotObj_pda(repda, FuseEdges=True)"
      ],
      "execution_count": null,
      "outputs": []
    },
    {
      "cell_type": "code",
      "metadata": {
        "id": "DxBI8VSsOioT"
      },
      "source": [
        "DO_repda"
      ],
      "execution_count": null,
      "outputs": []
    },
    {
      "cell_type": "code",
      "metadata": {
        "id": "WR_qC_9FOPro"
      },
      "source": [
        "explore_pda(\"0\", repda, STKMAX=4)"
      ],
      "execution_count": null,
      "outputs": []
    },
    {
      "cell_type": "code",
      "metadata": {
        "id": "iRB4qVIlOT61"
      },
      "source": [
        "explore_pda(\"00\", repda)"
      ],
      "execution_count": null,
      "outputs": []
    },
    {
      "cell_type": "code",
      "metadata": {
        "id": "8k4emfwZOWkp"
      },
      "source": [
        "explore_pda(\"(0)\", repda)"
      ],
      "execution_count": null,
      "outputs": []
    },
    {
      "cell_type": "code",
      "metadata": {
        "id": "m_q0AelwOqJO"
      },
      "source": [
        "explore_pda(\"(00)\", repda)"
      ],
      "execution_count": null,
      "outputs": []
    },
    {
      "cell_type": "code",
      "metadata": {
        "id": "SJYPmSmOOwdB"
      },
      "source": [
        "explore_pda(\"(0)(0)\", repda)"
      ],
      "execution_count": null,
      "outputs": []
    },
    {
      "cell_type": "code",
      "metadata": {
        "id": "6xTtiyzZO1Kc"
      },
      "source": [
        "explore_pda(\"0+0\", repda, STKMAX=3)"
      ],
      "execution_count": null,
      "outputs": []
    },
    {
      "cell_type": "code",
      "metadata": {
        "id": "dBNX3T2EO4tk"
      },
      "source": [
        "explore_pda(\"(0)+(0)\", repda)"
      ],
      "execution_count": null,
      "outputs": []
    },
    {
      "cell_type": "code",
      "metadata": {
        "id": "mStql3ljO802"
      },
      "source": [
        "explore_pda(\"00+0\", repda)"
      ],
      "execution_count": null,
      "outputs": []
    },
    {
      "cell_type": "code",
      "metadata": {
        "id": "74cOo2F4PBJ4"
      },
      "source": [
        "explore_pda(\"000\", repda, STKMAX=3)"
      ],
      "execution_count": null,
      "outputs": []
    },
    {
      "cell_type": "code",
      "metadata": {
        "id": "c0p12IO_PFk5"
      },
      "source": [
        "explore_pda(\"00+00\", repda, STKMAX=4)"
      ],
      "execution_count": null,
      "outputs": []
    },
    {
      "cell_type": "code",
      "metadata": {
        "id": "ZQy0ZRzTPJFh"
      },
      "source": [
        "explore_pda(\"00+00\", repda, STKMAX=5)"
      ],
      "execution_count": null,
      "outputs": []
    },
    {
      "cell_type": "markdown",
      "metadata": {
        "id": "hdzjOpK4PcWR"
      },
      "source": [
        "### PDA for Well-Balanced Parentheses"
      ]
    },
    {
      "cell_type": "code",
      "metadata": {
        "id": "mAjwxSYePdbK"
      },
      "source": [
        "brpda1 = md2mc('''PDA\n",
        "\n",
        "!!-- The CFG simulated is\n",
        "!!-- S -> (S)|SS|''\n",
        "\n",
        "!!-- Initial move to state M (was W above)\n",
        " I : '', '' ; S     -> M\n",
        " \n",
        " M : '', S  ; (S) -> M\n",
        " M : '', S  ; SS   -> M\n",
        " M : '', S  ; ''    -> M\n",
        " \n",
        " M : (,  (  ; ''    -> M\n",
        " M : ),  )  ; ''    -> M\n",
        " \n",
        " M : '',  ''  ; ''  -> M\n",
        " \n",
        " M : '', #  ; ''    -> F''')\n",
        "\n",
        "dotObj_pda(brpda1, FuseEdges=True)"
      ],
      "execution_count": null,
      "outputs": []
    },
    {
      "cell_type": "code",
      "metadata": {
        "id": "BomfGczqPhx7"
      },
      "source": [
        "explore_pda(\"()(())\", brpda1, STKMAX=5)"
      ],
      "execution_count": null,
      "outputs": []
    },
    {
      "cell_type": "markdown",
      "metadata": {
        "id": "hOb_QL_hPlw0"
      },
      "source": [
        "### Ambiguous Parsing of Arithmetic Expressions"
      ]
    },
    {
      "cell_type": "code",
      "metadata": {
        "id": "isljmxPMPsKA"
      },
      "source": [
        "# Parsing an arithmetic expression\n",
        "pdaEamb = md2mc('''PDA\n",
        "!!E -> E * E | E + E | ~E | ( E ) | 2 | 3\n",
        "I : '', #  ; E#  -> M\n",
        "M : '', E  ; ~E  -> M\n",
        "M : '', E  ; E+E -> M\n",
        "M : '', E  ; E*E -> M\n",
        "M : '', E  ; (E) -> M\n",
        "M : '', E  ; 2   -> M\n",
        "M : '', E  ; 3   -> M\n",
        "M : ~,  ~  ; ''  -> M\n",
        "M : 2,  2  ; ''  -> M\n",
        "M : 3,  3  ; ''  -> M\n",
        "M : (,  (  ; ''  -> M\n",
        "M : ),  )  ; ''  -> M\n",
        "M : +,  +  ; ''  -> M\n",
        "M : *,  *  ; ''  -> M\n",
        "M : '', #  ; #   -> F\n",
        "'''\n",
        ")"
      ],
      "execution_count": null,
      "outputs": []
    },
    {
      "cell_type": "code",
      "metadata": {
        "id": "LDNMH0UDPzu_"
      },
      "source": [
        "DOpdaEamb = dotObj_pda(pdaEamb, FuseEdges=True)\n",
        "DOpdaEamb"
      ],
      "execution_count": null,
      "outputs": []
    },
    {
      "cell_type": "code",
      "metadata": {
        "id": "TG-W9zaiP2wh"
      },
      "source": [
        "explore_pda(\"3+2*3\", pdaEamb, STKMAX=5)"
      ],
      "execution_count": null,
      "outputs": []
    },
    {
      "cell_type": "code",
      "metadata": {
        "id": "EVOZXpuWP-_g"
      },
      "source": [
        "explore_pda(\"3+2*3+2*3\", pdaEamb, STKMAX=7)"
      ],
      "execution_count": null,
      "outputs": []
    },
    {
      "cell_type": "markdown",
      "metadata": {
        "id": "hfS9BS61P__p"
      },
      "source": [
        "### Disambiguated Arithmetic Expression Grammar"
      ]
    },
    {
      "cell_type": "code",
      "metadata": {
        "id": "07VfgZuoQFnf"
      },
      "source": [
        "# Parsing an arithmetic expression\n",
        "pdaE = md2mc('''PDA\n",
        "!!E -> E+T | T\n",
        "!!T -> T*F | F\n",
        "!!F -> 2 | 3 | ~F | (E)\n",
        "I : '', #  ; E#  -> M\n",
        "M : '', E  ; E+T -> M\n",
        "M : '', E  ; T   -> M\n",
        "M : '', T  ; T*F -> M\n",
        "M : '', T  ; F   -> M\n",
        "M : '', F  ; 2   -> M\n",
        "M : '', F  ; 3   -> M\n",
        "M : '', F  ; ~F  -> M\n",
        "M : '', F  ; (E) -> M\n",
        "M : ~,  ~  ; ''  -> M\n",
        "M : 2,  2  ; ''  -> M\n",
        "M : 3,  3  ; ''  -> M\n",
        "M : (,  (  ; ''  -> M\n",
        "M : ),  )  ; ''  -> M\n",
        "M : +,  +  ; ''  -> M\n",
        "M : *,  *  ; ''  -> M\n",
        "M : '', #  ; #   -> F\n",
        "'''\n",
        ")"
      ],
      "execution_count": null,
      "outputs": []
    },
    {
      "cell_type": "code",
      "metadata": {
        "id": "6LExQ4ORQMCS"
      },
      "source": [
        "DOpdaE = dotObj_pda(pdaE, FuseEdges=True)\n",
        "DOpdaE"
      ],
      "execution_count": null,
      "outputs": []
    },
    {
      "cell_type": "code",
      "metadata": {
        "id": "xvFYVh7AQNRt"
      },
      "source": [
        "explore_pda(\"3+2*3\", pdaE, STKMAX=7)"
      ],
      "execution_count": null,
      "outputs": []
    },
    {
      "cell_type": "code",
      "metadata": {
        "id": "cq-aM5JQQRR_"
      },
      "source": [
        "explore_pda(\"3+2*3+2*3\", pdaE, STKMAX=7)"
      ],
      "execution_count": null,
      "outputs": []
    },
    {
      "cell_type": "code",
      "metadata": {
        "id": "hRezVIbuQUqw"
      },
      "source": [
        "explore_pda(\"3*2*~3+~~3*~3\", pdaE, STKMAX=10)"
      ],
      "execution_count": null,
      "outputs": []
    },
    {
      "cell_type": "code",
      "metadata": {
        "id": "2WpgGFcGQalu"
      },
      "source": [
        "explore_pda(\"3*2*~3+~~3*~3\", pdaEamb, STKMAX=8)"
      ],
      "execution_count": null,
      "outputs": []
    }
  ]
}