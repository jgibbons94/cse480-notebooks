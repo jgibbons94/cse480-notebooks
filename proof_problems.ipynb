{
  "nbformat": 4,
  "nbformat_minor": 0,
  "metadata": {
    "colab": {
      "name": "proof_problems.ipynb",
      "provenance": [],
      "include_colab_link": true
    },
    "kernelspec": {
      "name": "python3",
      "display_name": "Python 3"
    }
  },
  "cells": [
    {
      "cell_type": "markdown",
      "metadata": {
        "id": "view-in-github",
        "colab_type": "text"
      },
      "source": [
        "<a href=\"https://colab.research.google.com/github/jgibbons94/cse480-notebooks/blob/master/proof_problems.ipynb\" target=\"_parent\"><img src=\"https://colab.research.google.com/assets/colab-badge.svg\" alt=\"Open In Colab\"/></a>"
      ]
    },
    {
      "cell_type": "markdown",
      "metadata": {
        "id": "NJbnmTGuC2yN"
      },
      "source": [
        "# Look at a Series of Proof Problems\n",
        "Think about how you would go about trying to solve these problems.\n",
        "\n",
        "In other words, how would you approach trying to prove each one?\n",
        "\n",
        "It will be good warm-up for next week's exploration of the Pumping Lemma for Regular Languages."
      ]
    },
    {
      "cell_type": "markdown",
      "metadata": {
        "id": "-OdWAKyfFPkx"
      },
      "source": [
        "## Easiest Proof Problem"
      ]
    },
    {
      "cell_type": "markdown",
      "metadata": {
        "id": "5fMk--buC87a"
      },
      "source": [
        "Prove that if $a \\equiv_5 b$ where $a$ and $b$ are integers, then $a^2 \\equiv_5 b^2$.\n",
        "\n",
        "What about the converse?"
      ]
    },
    {
      "cell_type": "markdown",
      "metadata": {
        "id": "c95PEdirFUdr"
      },
      "source": [
        "## Easy Proof Problem"
      ]
    },
    {
      "cell_type": "markdown",
      "metadata": {
        "id": "n376QHhFDP8V"
      },
      "source": [
        "Prove that for every natural number $n$, there exist integers $a$ and $b$ such that $n = 3a + 7b$.\n",
        "\n",
        "Can you generalize this result?"
      ]
    },
    {
      "cell_type": "markdown",
      "metadata": {
        "id": "SsFkn_PuFZOp"
      },
      "source": [
        "## Hard Proof Problem"
      ]
    },
    {
      "cell_type": "markdown",
      "metadata": {
        "id": "euibTihmDjRp"
      },
      "source": [
        "Show that for $n \\ge 2$, the sum $1 + \\frac{1}{2} + \\cdots + \\frac{1}{n}$ is never an integer.\n",
        "\n",
        "In other words, for $n \\ge 2$, $\\sum_{i = 1}^n \\frac{1}{i}$ is never an integer."
      ]
    },
    {
      "cell_type": "markdown",
      "metadata": {
        "id": "cfVwMa5yFiz7"
      },
      "source": [
        "## Harder Proof Problem"
      ]
    },
    {
      "cell_type": "markdown",
      "metadata": {
        "id": "AFljtCEUDv-G"
      },
      "source": [
        "Given that\n",
        "$$\\frac{1}{n(n+1)} = \\frac{1}{n} - \\frac{1}{n+1},$$\n",
        "what is the value of the summation\n",
        "$$\\sum_{n=1}^\\infty \\frac{b(n)}{n(n+1)},$$\n",
        "\n",
        "where $b(n)$ counts the number of ones in the binary expansion of $n$?\n",
        "\n",
        "The harder question is, why does this value converge to the number it does? Can you find an expression in common mathematical symbols (using 5 or fewer characters) for this value? And what does binary expansion have to do with why this value is what it is? How would you prove it?\n",
        "\n",
        "Hint: you may find it helpful at some point to refer to the so-called [Theoretical Computer Science Cheat Sheet](https://www.tug.org/texshowcase/cheat.pdf)."
      ]
    },
    {
      "cell_type": "markdown",
      "metadata": {
        "id": "hb_BJjh8QaGV"
      },
      "source": [
        "# Answer\r\n",
        " $\\sum_{n=1}^{\\inf}\\frac{b(n)}{n(n+1)} $\r\n",
        " Apply the given rule.\r\n",
        "$$\r\n",
        "1(\\frac{1}{1}  - \\frac{1}{2}) +\r\n",
        "1(\\frac{1}{2}  - \\frac{1}{3}) +\r\n",
        "2(\\frac{1}{3}  - \\frac{1}{4}) +\r\n",
        "1(\\frac{1}{4}  - \\frac{1}{5}) +\r\n",
        "2(\\frac{1}{5}  - \\frac{1}{6}) +\r\n",
        "2(\\frac{1}{6}  - \\frac{1}{7}) +\r\n",
        "3(\\frac{1}{7}  - \\frac{1}{8}) +\r\n",
        "1(\\frac{1}{8}  - \\frac{1}{9}) +\r\n",
        "2(\\frac{1}{9}  - \\frac{1}{10}) +\r\n",
        "2(\\frac{1}{10} - \\frac{1}{11}) +\r\n",
        "\\cdots$$\r\n",
        "Expand addition...\r\n",
        "$$\r\n",
        "1(\\frac{1}{1}  - \\frac{1}{2}) +\r\n",
        "1(\\frac{1}{2}  - \\frac{1}{3}) +\r\n",
        "1(\\frac{1}{3}  - \\frac{1}{4}) +\r\n",
        "1(\\frac{1}{3}  - \\frac{1}{4}) +\r\n",
        "1(\\frac{1}{4}  - \\frac{1}{5}) +\r\n",
        "1(\\frac{1}{5}  - \\frac{1}{6}) +\r\n",
        "1(\\frac{1}{5}  - \\frac{1}{6}) +\r\n",
        "1(\\frac{1}{6}  - \\frac{1}{7}) +\r\n",
        "1(\\frac{1}{6}  - \\frac{1}{7}) +\r\n",
        "1(\\frac{1}{7}  - \\frac{1}{8}) +\r\n",
        "1(\\frac{1}{7}  - \\frac{1}{8}) +\r\n",
        "1(\\frac{1}{7}  - \\frac{1}{8}) +\r\n",
        "1(\\frac{1}{8}  - \\frac{1}{9}) +\r\n",
        "1(\\frac{1}{9}  - \\frac{1}{10}) +\r\n",
        "1(\\frac{1}{9}  - \\frac{1}{10}) +\r\n",
        "1(\\frac{1}{10} - \\frac{1}{11}) +\r\n",
        "1(\\frac{1}{10} - \\frac{1}{11}) +\r\n",
        "\\cdots\r\n",
        "$$\r\n",
        "Reduce the instances of $-x + x$.\r\n",
        "$$\r\n",
        "\\frac{1}{1}\r\n",
        "+ \\frac{1}{3}\r\n",
        "- \\frac{1}{4}\r\n",
        "+ \\frac{1}{5}\r\n",
        "+ \\frac{1}{7}\r\n",
        "- \\frac{1}{8}\r\n",
        "- \\frac{1}{8}\r\n",
        "+ \\frac{1}{9}\r\n",
        "- \\frac{1}{11}\r\n",
        "- \\frac{1}{11}\r\n",
        "+ \\cdots\r\n",
        "$$\r\n",
        "It looks like this is finite.\r\n"
      ]
    },
    {
      "cell_type": "markdown",
      "metadata": {
        "id": "5jLf3oKtSPD4"
      },
      "source": [
        "Andrew Lundgren wrote the following code, which I later edited:"
      ]
    },
    {
      "cell_type": "code",
      "metadata": {
        "id": "qS6-R1QCThL6"
      },
      "source": [
        "from math import exp"
      ],
      "execution_count": 1,
      "outputs": []
    },
    {
      "cell_type": "code",
      "metadata": {
        "id": "JWxQudD8ODwm"
      },
      "source": [
        "def b(n):\r\n",
        "    x = str(bin(n)).count('1')\r\n",
        "    return x / (n * (n+1))\r\n",
        "\r\n",
        "def f(y):\r\n",
        "    x = 0\r\n",
        "    for n in range(1,y):\r\n",
        "      x += b(n)\r\n",
        "    return x"
      ],
      "execution_count": 2,
      "outputs": []
    },
    {
      "cell_type": "code",
      "metadata": {
        "id": "W7pilGFQSgP1",
        "outputId": "4dcb0494-1eed-448b-b255-a04182b0fa67",
        "colab": {
          "base_uri": "https://localhost:8080/"
        }
      },
      "source": [
        "f(10000000)"
      ],
      "execution_count": 3,
      "outputs": [
        {
          "output_type": "execute_result",
          "data": {
            "text/plain": [
              "1.3862930661080126"
            ]
          },
          "metadata": {
            "tags": []
          },
          "execution_count": 3
        }
      ]
    },
    {
      "cell_type": "code",
      "metadata": {
        "id": "wf2P-Sv-T9Ip",
        "outputId": "5998c879-a843-48a9-bb68-332732489c1e",
        "colab": {
          "base_uri": "https://localhost:8080/"
        }
      },
      "source": [
        "%%time\r\n",
        "[(x, 2**x,exp(f(2**x))) for x in range(25)]"
      ],
      "execution_count": 5,
      "outputs": [
        {
          "output_type": "stream",
          "text": [
            "CPU times: user 19 s, sys: 1.89 ms, total: 19 s\n",
            "Wall time: 19.1 s\n"
          ],
          "name": "stdout"
        },
        {
          "output_type": "execute_result",
          "data": {
            "text/plain": [
              "[(0, 1, 1.0),\n",
              " (1, 2, 1.6487212707001282),\n",
              " (2, 4, 2.3009758908928246),\n",
              " (3, 8, 2.861055109463242),\n",
              " (4, 16, 3.282046262738992),\n",
              " (5, 32, 3.5679804892421085),\n",
              " (6, 64, 3.748649273972866),\n",
              " (7, 128, 3.8572480146249384),\n",
              " (8, 256, 3.9203261820303514),\n",
              " (9, 512, 3.9561012273958154),\n",
              " (10, 1024, 3.9760491031512055),\n",
              " (11, 2048, 3.9870332933550867),\n",
              " (12, 4096, 3.993023983981027),\n",
              " (13, 8192, 3.9962665645781668),\n",
              " (14, 16384, 3.998010838760025),\n",
              " (15, 32768, 3.998944277118794),\n",
              " (16, 65536, 3.999441590523646),\n",
              " (17, 131072, 3.999705527880091),\n",
              " (18, 262144, 3.9998451321382498),\n",
              " (19, 524288, 3.999918750701507),\n",
              " (20, 1048576, 3.9999574678162944),\n",
              " (21, 2097152, 3.9999777801830207),\n",
              " (22, 4194304, 3.9999884132407213),\n",
              " (23, 8388608, 3.9999939681961703),\n",
              " (24, 16777216, 3.9999968648825384)]"
            ]
          },
          "metadata": {
            "tags": []
          },
          "execution_count": 5
        }
      ]
    },
    {
      "cell_type": "markdown",
      "metadata": {
        "id": "ULRxzcDOYpBy"
      },
      "source": [
        "It appears e^(f(n)) is approaching 4, so it likewise appears f(n) approaches ln(4).\r\n",
        "$$ln(4) = 2ln(2))$$\r\n"
      ]
    },
    {
      "cell_type": "markdown",
      "metadata": {
        "id": "aIZlGNgmlDcw"
      },
      "source": [
        "But appearance is **NOT EVERYTHING**. I must prove that \r\n",
        "$\\sum_{n=1}^\\infty \\frac{b(n)}{n(n+1)} = 2 ln(4)$.\r\n",
        "\r\n",
        "The paper *A natural series for the natural logarithm* states that $ln 2 = \\sum_{n=1}^{\\inf} \\frac{1}{2n} {{2n}\\choose{n}} \\frac{1}{4^n}$.\r\n",
        "$$2ln2 = 2 \\sum_{n=1}^{\\inf} \\frac{1}{2n} {{2n}\\choose{n}} \\frac{1}{4^n}$$\r\n",
        "$$= \\sum_{n=1}^{\\inf} \\frac{1}{n} {{2n}\\choose{n}} \\frac{1}{4^n}$$\r\n",
        "\r\n",
        "Further, we can reduce ${{2n} \\choose {n}} = \\frac{2n!}{n!n!} = \\frac{2}{n!}$.\r\n",
        "\r\n",
        "Therefore, $2 ln 2 = \\sum_{n=1}^{\\inf} {\\frac{1}{n}\\frac{2}{n!}\\frac{1}{4^n}}$. This is just the Taylor series for natural logarithm Let's step back.\r\n",
        "$\\sum_{n=1}^\\infty \\frac{b(n)}{n(n+1)} =\\sum_{n=1}^\\infty b(n) (\\frac{1}{n} - \\frac{1}{(n+1)}) = 2 ln(4)$.\r\n",
        "\r\n",
        "It looks like the only thing I need is a representation of b(n) that can be translated into the above equation.\r\n",
        "\r\n",
        "|  x |  x binary | b(x) | b(x-1) | b(x) - b(x - 1) |\r\n",
        "|----|-----------|------|--------|-----------------|\r\n",
        "|  1 |         1 |    1 |      0 |               1 |\r\n",
        "|  2 |        10 |    1 |      1 |               0 |\r\n",
        "|  3 |        11 |    2 |      1 |               1 |\r\n",
        "|  4 |       100 |    1 |      2 |              -1 |\r\n",
        "|  5 |       101 |    2 |      1 |               1 |\r\n",
        "|  6 |       110 |    2 |      2 |               0 |\r\n",
        "|  7 |       111 |    3 |      2 |               1 |\r\n",
        "|  8 |      1000 |    1 |      3 |              -2 |\r\n",
        "|  9 |      1001 |    2 |      1 |               1 |\r\n",
        "| 10 |      1010 |    2 |      2 |               0 |\r\n",
        "| 11 |      1011 |    3 |      2 |               1 |\r\n",
        "| 12 |      1100 |    2 |      3 |              -1 |\r\n",
        "| 13 |      1101 |    3 |      2 |               1 |\r\n",
        "| 14 |      1110 |    3 |      3 |               0 |\r\n",
        "| 15 |      1111 |    4 |      3 |               1 |\r\n",
        "| 16 |     10000 |    1 |      4 |              -3 |\r\n",
        "| 17 |     10001 |    2 |      1 |               1 |\r\n",
        "| 18 |     10010 |    2 |      2 |               0 |\r\n",
        "| 19 |     10011 |    3 |      2 |               1 |\r\n",
        "| 20 |     10100 |    2 |      3 |              -1 |\r\n",
        "| 21 |     10101 |    3 |      2 |               1 |\r\n",
        "| 22 |     10110 |    3 |      3 |               0 |\r\n",
        "| 23 |     10111 |    4 |      3 |               1 |\r\n",
        "| 24 |     11000 |    2 |      4 |              -2 |\r\n",
        "| 25 |     11001 |    3 |      2 |               1 |\r\n",
        "| 26 |     11010 |    3 |      3 |               0 |\r\n",
        "| 27 |     11011 |    4 |      3 |               1 |\r\n",
        "| 28 |     11100 |    3 |      4 |              -1 |\r\n",
        "| 29 |     11101 |    4 |      3 |               1 |\r\n",
        "| 30 |     11110 |    4 |      4 |               0 |\r\n",
        "| 31 |     11111 |    5 |      4 |               1 |\r\n",
        "\r\n",
        "- $b(2x) = b(x)$\r\n",
        "- If x even, then $b(x+1) = b(x) + 1$\r\n",
        "- A pattern established above is $b(n)( - \\frac{1}{(n+1)} + \\frac{1}{n+1}) = 1/n$ if n is odd\r\n",
        "- $b(n)( - \\frac{1}{(n)} + \\frac{1}{n}) = -\\frac{1}{(z(n)-1)}$ where z(n) is the number of zeroes bits trailing n. \r\n",
        "\r\n"
      ]
    },
    {
      "cell_type": "markdown",
      "metadata": {
        "id": "q18gZ23MFmKj"
      },
      "source": [
        "## Hardest Proof Problem"
      ]
    },
    {
      "cell_type": "markdown",
      "metadata": {
        "id": "Jl44d2HdE85J"
      },
      "source": [
        "Prove that $a^4 + b^4 + c^4 = d^4$ has no positive integer solutions."
      ]
    }
  ]
}