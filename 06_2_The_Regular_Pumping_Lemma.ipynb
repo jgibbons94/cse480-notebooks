{
 "cells": [
  {
   "cell_type": "markdown",
   "metadata": {
    "colab_type": "text",
    "id": "view-in-github"
   },
   "source": [
    "<a href=\"https://colab.research.google.com/github/byui-cse/cse480-notebooks/blob/master/06_2_The_Regular_Pumping_Lemma.ipynb\" target=\"_parent\"><img src=\"https://colab.research.google.com/assets/colab-badge.svg\" alt=\"Open In Colab\"/></a>"
   ]
  },
  {
   "cell_type": "markdown",
   "metadata": {
    "id": "15fp3DYOO1OE"
   },
   "source": [
    "# The Regular Pumping Lemma\n",
    "## Class Directed Learning\n",
    "### Due: 9 February 2021"
   ]
  },
  {
   "cell_type": "markdown",
   "metadata": {
    "id": "Kb_PKGBePDV5"
   },
   "source": [
    "Do you understand this \"theorem helper\" (what a lemma is) and how it helps you prove by contradiction that a language is **NOT** regular? Do you understand why it cannot be used to prove that a language **IS** regular?\n",
    "\n",
    "Work through the two resources below and enhance your understanding by helping each other and assess your understanding by quizzing each other.\n",
    "\n",
    "https://rickneff.github.io/regular-languages-pumping-words.pdf\n",
    "\n",
    "https://cs.stackexchange.com/questions/50559/pumping-lemma-if-you-can-keep-pumping-what-does-this-tell-you\n"
   ]
  },
  {
   "cell_type": "markdown",
   "metadata": {
    "id": "ZzN4wvGTPu9d"
   },
   "source": [
    "To paraphrase the Pumping Lemma, if a language is regular, then at a certain length there is a part of the string that can be concatinated in place to itself to generate more strings in that language. This does not necessarily guarantee that a language with this property is regular. I think a counterexample is $a^nb*c^n$."
   ]
  }
 ],
 "metadata": {
  "colab": {
   "authorship_tag": "ABX9TyOki52x9JGMw9jUxOLHwg1M",
   "include_colab_link": true,
   "name": "06_2_The_Regular_Pumping_Lemma.ipynb",
   "provenance": []
  },
  "kernelspec": {
   "display_name": "Python 3",
   "language": "/gnu/store/bvd09gb8ka642jzgxd2lpqlpdp160gn0-python-wrapper-3.8.2/bin/python",
   "name": "python3"
  },
  "language_info": {
   "codemirror_mode": {
    "name": "ipython",
    "version": 3
   },
   "file_extension": ".py",
   "mimetype": "text/x-python",
   "name": "python",
   "nbconvert_exporter": "python",
   "pygments_lexer": "ipython3",
   "version": "3.8.2"
  }
 },
 "nbformat": 4,
 "nbformat_minor": 1
}
