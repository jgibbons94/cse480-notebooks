{
  "nbformat": 4,
  "nbformat_minor": 0,
  "metadata": {
    "kernelspec": {
      "display_name": "Python 3",
      "language": "/gnu/store/h8jw9qhyfp6fm6nb3cgh4335qhr31wfz-python-wrapper-3.8.2/bin/python",
      "name": "python3"
    },
    "language_info": {
      "codemirror_mode": {
        "name": "ipython",
        "version": 3
      },
      "file_extension": ".py",
      "mimetype": "text/x-python",
      "name": "python",
      "nbconvert_exporter": "python",
      "pygments_lexer": "ipython3",
      "version": "3.8.2"
    },
    "toc": {
      "colors": {
        "hover_highlight": "#DAA520",
        "running_highlight": "#FF0000",
        "selected_highlight": "#FFD700"
      },
      "moveMenuLeft": true,
      "nav_menu": {
        "height": "121px",
        "width": "252px"
      },
      "navigate_menu": true,
      "number_sections": true,
      "sideBar": true,
      "threshold": 4,
      "toc_cell": false,
      "toc_section_display": "block",
      "toc_window_display": false,
      "widenNotebook": false
    },
    "widgets": {
      "application/vnd.jupyter.widget-state+json": {}
    },
    "colab": {
      "name": "04_1_NFA_Basics.ipynb",
      "provenance": [],
      "include_colab_link": true
    }
  },
  "cells": [
    {
      "cell_type": "markdown",
      "metadata": {
        "id": "view-in-github",
        "colab_type": "text"
      },
      "source": [
        "<a href=\"https://colab.research.google.com/github/jgibbons94/cse480-notebooks/blob/master/04_1_NFA_Basics.ipynb\" target=\"_parent\"><img src=\"https://colab.research.google.com/assets/colab-badge.svg\" alt=\"Open In Colab\"/></a>"
      ]
    },
    {
      "cell_type": "markdown",
      "metadata": {
        "id": "fcCYxndEMVJ4"
      },
      "source": [
        "Good job!"
      ]
    },
    {
      "cell_type": "markdown",
      "metadata": {
        "run_control": {
          "frozen": false,
          "read_only": false
        },
        "id": "XKgVppLnMTo2"
      },
      "source": [
        "# NFA Basics\n",
        "\n",
        "You may wish to watch Ganesh's lecture on NFA a little, then play with the\n",
        "code below, and then finish watching."
      ]
    },
    {
      "cell_type": "code",
      "metadata": {
        "run_control": {
          "frozen": false,
          "read_only": false
        },
        "id": "BNarlHxjMTo8",
        "outputId": "7ffed297-3b43-4c37-8827-3602fa81f89a"
      },
      "source": [
        "# This Youtube video walks through this notebook\n",
        "from IPython.display import YouTubeVideo\n",
        "YouTubeVideo('xjFtLF95uBc')"
      ],
      "execution_count": null,
      "outputs": [
        {
          "output_type": "execute_result",
          "data": {
            "image/jpeg": "[encoded data removed]",
            "text/html": [
              "\n",
              "        <iframe\n",
              "            width=\"400\"\n",
              "            height=\"300\"\n",
              "            src=\"https://www.youtube.com/embed/xjFtLF95uBc\"\n",
              "            frameborder=\"0\"\n",
              "            allowfullscreen\n",
              "        ></iframe>\n",
              "        "
            ],
            "text/plain": [
              "<IPython.lib.display.YouTubeVideo at 0x7fb716ebb580>"
            ]
          },
          "metadata": {
            "tags": []
          },
          "execution_count": 1
        }
      ]
    },
    {
      "cell_type": "code",
      "metadata": {
        "run_control": {
          "frozen": false,
          "read_only": false
        },
        "id": "J0_PGTgbMTo-",
        "outputId": "3a9066d7-3956-435e-876d-f9db1f4555a5"
      },
      "source": [
        "#~~~~~~~~~~~~~~~~~~~~~~~~~~~~~~~~~~~~~~~~~~~~~~~~~~~~~~~\n",
        "import sys\n",
        "\n",
        "# -- Detect if in Own Install or in Colab\n",
        "try:\n",
        "    import google.colab\n",
        "    OWN_INSTALL = False\n",
        "except:\n",
        "    OWN_INSTALL = True\n",
        "    \n",
        "if OWN_INSTALL:\n",
        "    \n",
        "  #---- Leave these definitions ON if running on laptop\n",
        "  #---- Else turn OFF by putting them between ''' ... '''\n",
        "\n",
        "  sys.path[0:0] = ['../../../../..',  '../../../../../3rdparty',  \n",
        "                   '../../../..',  '../../../../3rdparty',  \n",
        "                   '../../..',     '../../../3rdparty', \n",
        "                   '../..',        '../../3rdparty',\n",
        "                   '..',           '../3rdparty' ]\n",
        "\n",
        "else: # In colab\n",
        "  ! if [ ! -d Jove ]; then git clone https://github.com/ganeshutah/Jove Jove; fi\n",
        "  sys.path.append('./Jove')\n",
        "  sys.path.append('./Jove/jove')\n",
        "\n",
        "# -- common imports --\n",
        "from jove.DotBashers import *\n",
        "from jove.Def_md2mc  import *\n",
        "from jove.Def_NFA    import *\n",
        "from jove.Def_DFA    import *\n",
        "from jove.AnimateNFA import *\n",
        "#~~~~~~~~~~~~~~~~~~~~~~~~~~~~~~~~~~~~~~~~~~~~~~~~~~~~~~~"
      ],
      "execution_count": null,
      "outputs": [
        {
          "output_type": "stream",
          "text": [
            "You may use any of these help commands:\n",
            "help(ResetStNum)\n",
            "help(NxtStateStr)\n",
            "\n",
            "You may use any of these help commands:\n",
            "help(md2mc)\n",
            ".. and if you want to dig more, then ..\n",
            "help(default_line_attr)\n",
            "help(length_ok_input_items)\n",
            "help(union_line_attr_list_fld)\n",
            "help(extend_rsltdict)\n",
            "help(form_delta)\n",
            "help(get_machine_components)\n",
            "\n",
            "You may use any of these help commands:\n",
            "help(mkp_dfa)\n",
            "help(mk_dfa)\n",
            "help(totalize_dfa)\n",
            "help(addtosigma_delta)\n",
            "help(step_dfa)\n",
            "help(run_dfa)\n",
            "help(accepts_dfa)\n",
            "help(comp_dfa)\n",
            "help(union_dfa)\n",
            "help(intersect_dfa)\n",
            "help(pruneUnreach)\n",
            "help(iso_dfa)\n",
            "help(langeq_dfa)\n",
            "help(same_status)\n",
            "help(h_langeq_dfa)\n",
            "help(fixptDist)\n",
            "help(min_dfa)\n",
            "help(pairFR)\n",
            "help(state_combos)\n",
            "help(sepFinNonFin)\n",
            "help(bash_eql_classes)\n",
            "help(listminus)\n",
            "help(bash_1)\n",
            "help(mk_rep_eqc)\n",
            "help(F_of)\n",
            "help(rep_of_s)\n",
            "help(q0_of)\n",
            "help(Delta_of)\n",
            "help(mk_state_eqc_name)\n",
            "\n",
            "You may use any of these help commands:\n",
            "help(mk_nfa)\n",
            "help(totalize_nfa)\n",
            "help(step_nfa)\n",
            "help(run_nfa)\n",
            "help(ec_step_nfa)\n",
            "help(Eclosure)\n",
            "help(Echelp)\n",
            "help(accepts_nfa)\n",
            "help(nfa2dfa)\n",
            "help(n2d)\n",
            "help(inSets)\n",
            "help(rev_dfa)\n",
            "help(min_dfa_brz)\n",
            "\n",
            " \"help(AnimateNFA)\" gives you info on how to use animations with NFA \n"
          ],
          "name": "stdout"
        }
      ]
    },
    {
      "cell_type": "markdown",
      "metadata": {
        "id": "38BinbjHMTo_"
      },
      "source": [
        "# This NFA checks whether a string has \"01\" in it."
      ]
    },
    {
      "cell_type": "code",
      "metadata": {
        "id": "xhVXYwa-MTo_"
      },
      "source": [
        "nfahas01 = md2mc('''\n",
        "NFA \n",
        "I : 0 | 1 -> I\n",
        "I : '' -> A\n",
        "A : 0  -> B\n",
        "B : 1  -> C\n",
        "C : 0 | 1 -> C\n",
        "C : '' -> F\n",
        "''')"
      ],
      "execution_count": null,
      "outputs": []
    },
    {
      "cell_type": "markdown",
      "metadata": {
        "id": "sduOtQhFMTpA"
      },
      "source": [
        "## This example is highly worth studying via animations.\n",
        "\n",
        "Put it in animate mode, and then single-step to see the EClosure of states"
      ]
    },
    {
      "cell_type": "code",
      "metadata": {
        "id": "4Jln7GnsMTpB",
        "outputId": "9ccd485f-8273-45d1-f5f0-0acbdf39d7e6",
        "colab": {
          "referenced_widgets": [
            "5214b39528864f659c9af476a11483fa"
          ]
        }
      },
      "source": [
        "AnimateNFA(nfahas01, FuseEdges=False)\n",
        "display(HTML('<link rel=\\\"stylesheet\\\" href=\\\"//stackpath.bootstrapcdn.com/font-awesome/4.7.0/css/font-awesome.min.css\\\"/>'))"
      ],
      "execution_count": null,
      "outputs": [
        {
          "output_type": "display_data",
          "data": {
            "application/vnd.jupyter.widget-view+json": {
              "model_id": "5214b39528864f659c9af476a11483fa",
              "version_major": 2,
              "version_minor": 0
            },
            "text/plain": [
              "VBox(children=(HBox(children=(Text(value='', description='Input:', layout=Layout(width='500px'), placeholder='…"
            ]
          },
          "metadata": {
            "tags": []
          }
        },
        {
          "output_type": "display_data",
          "data": {
            "text/html": [
              "<link rel=\"stylesheet\" href=\"//stackpath.bootstrapcdn.com/font-awesome/4.7.0/css/font-awesome.min.css\"/>"
            ],
            "text/plain": [
              "<IPython.core.display.HTML object>"
            ]
          },
          "metadata": {
            "tags": []
          }
        }
      ]
    },
    {
      "cell_type": "markdown",
      "metadata": {
        "id": "VlTRRqZaMTpB"
      },
      "source": [
        "# This is an example from Figure 7.7 of the book.\n",
        "\n",
        "Presented in two different ways: one with a single initial state, and \n",
        "another with multiple initial states. Fig77 is the single initial state version, and\n",
        "Fig77a is with multiple initial states."
      ]
    },
    {
      "cell_type": "code",
      "metadata": {
        "id": "Qd1-IrBIMTpB"
      },
      "source": [
        "Fig77 = md2mc('''NFA\n",
        "I : '' -> A, G\n",
        "A : '' -> B, C\n",
        "G : 1  -> F\n",
        "B : 1  -> D\n",
        "C : 0  -> E\n",
        "D : '' -> A, G\n",
        "E : '' -> A, G\n",
        "''')"
      ],
      "execution_count": null,
      "outputs": []
    },
    {
      "cell_type": "code",
      "metadata": {
        "id": "Hzn2cVMqMTpC",
        "outputId": "2495a6ff-8aa2-4147-8914-596479f6183a",
        "colab": {
          "referenced_widgets": [
            "f92bd8fb5a4244d2bea24d1ca7c189a7"
          ]
        }
      },
      "source": [
        "AnimateNFA(Fig77, FuseEdges=False)\n",
        "display(HTML('<link rel=\\\"stylesheet\\\" href=\\\"//stackpath.bootstrapcdn.com/font-awesome/4.7.0/css/font-awesome.min.css\\\"/>'))"
      ],
      "execution_count": null,
      "outputs": [
        {
          "output_type": "display_data",
          "data": {
            "application/vnd.jupyter.widget-view+json": {
              "model_id": "f92bd8fb5a4244d2bea24d1ca7c189a7",
              "version_major": 2,
              "version_minor": 0
            },
            "text/plain": [
              "VBox(children=(HBox(children=(Text(value='', description='Input:', layout=Layout(width='500px'), placeholder='…"
            ]
          },
          "metadata": {
            "tags": []
          }
        },
        {
          "output_type": "display_data",
          "data": {
            "text/html": [
              "<link rel=\"stylesheet\" href=\"//stackpath.bootstrapcdn.com/font-awesome/4.7.0/css/font-awesome.min.css\"/>"
            ],
            "text/plain": [
              "<IPython.core.display.HTML object>"
            ]
          },
          "metadata": {
            "tags": []
          }
        }
      ]
    },
    {
      "cell_type": "code",
      "metadata": {
        "id": "NVYkU1ydMTpD"
      },
      "source": [
        "Fig77a = md2mc('''NFA\n",
        "IA : '' -> B, C\n",
        "IG : 1  -> F\n",
        "B : 1  -> D\n",
        "C : 0  -> E\n",
        "D : '' -> IA, IG\n",
        "E : '' -> IA, IG\n",
        "''')"
      ],
      "execution_count": null,
      "outputs": []
    },
    {
      "cell_type": "code",
      "metadata": {
        "id": "aU6-hVOjMTpE",
        "outputId": "918eea85-517c-41d1-dddd-42aea805235a"
      },
      "source": [
        "dotObj_nfa(Fig77a)"
      ],
      "execution_count": null,
      "outputs": [
        {
          "output_type": "execute_result",
          "data": {
            "image/svg+xml": "<?xml version=\"1.0\" encoding=\"UTF-8\" standalone=\"no\"?>\n<!DOCTYPE svg PUBLIC \"-//W3C//DTD SVG 1.1//EN\"\n \"http://www.w3.org/Graphics/SVG/1.1/DTD/svg11.dtd\">\n<!-- Generated by graphviz version 2.42.3 (20191010.1750)\n -->\n<!-- Title: %3 Pages: 1 -->\n<svg width=\"498pt\" height=\"206pt\"\n viewBox=\"0.00 0.00 497.89 205.97\" xmlns=\"http://www.w3.org/2000/svg\" xmlns:xlink=\"http://www.w3.org/1999/xlink\">\n<g id=\"graph0\" class=\"graph\" transform=\"scale(1 1) rotate(0) translate(4 201.97)\">\n<title>%3</title>\n<polygon fill=\"white\" stroke=\"transparent\" points=\"-4,4 -4,-201.97 493.89,-201.97 493.89,4 -4,4\"/>\n<!-- EMPTY -->\n<g id=\"node1\" class=\"node\">\n<title>EMPTY</title>\n</g>\n<!-- IG -->\n<g id=\"node3\" class=\"node\">\n<title>IG</title>\n<ellipse fill=\"none\" stroke=\"black\" cx=\"374.44\" cy=\"-132.97\" rx=\"21.4\" ry=\"21.4\"/>\n<text text-anchor=\"middle\" x=\"374.44\" y=\"-129.27\" font-family=\"Times,serif\" font-size=\"14.00\">IG</text>\n</g>\n<!-- EMPTY&#45;&gt;IG -->\n<g id=\"edge2\" class=\"edge\">\n<title>EMPTY&#45;&gt;IG</title>\n<path fill=\"none\" stroke=\"black\" d=\"M45.94,-167.21C61.62,-181.15 85.74,-197.97 110.8,-197.97 110.8,-197.97 110.8,-197.97 286.79,-197.97 314.35,-197.97 338.76,-176.67 354.58,-158.45\"/>\n<polygon fill=\"black\" stroke=\"black\" points=\"357.57,-160.33 361.23,-150.39 352.17,-155.88 357.57,-160.33\"/>\n</g>\n<!-- IA -->\n<g id=\"node5\" class=\"node\">\n<title>IA</title>\n<ellipse fill=\"none\" stroke=\"black\" cx=\"111.8\" cy=\"-100.97\" rx=\"20.6\" ry=\"20.6\"/>\n<text text-anchor=\"middle\" x=\"111.8\" y=\"-97.27\" font-family=\"Times,serif\" font-size=\"14.00\">IA</text>\n</g>\n<!-- EMPTY&#45;&gt;IA -->\n<g id=\"edge1\" class=\"edge\">\n<title>EMPTY&#45;&gt;IA</title>\n<path fill=\"none\" stroke=\"black\" d=\"M54.2,-133.78C63.89,-128.16 74.88,-121.79 84.57,-116.17\"/>\n<polygon fill=\"black\" stroke=\"black\" points=\"86.49,-119.1 93.39,-111.06 82.98,-113.05 86.49,-119.1\"/>\n</g>\n<!-- B -->\n<g id=\"node2\" class=\"node\">\n<title>B</title>\n<ellipse fill=\"none\" stroke=\"black\" cx=\"199.6\" cy=\"-100.97\" rx=\"18\" ry=\"18\"/>\n<text text-anchor=\"middle\" x=\"199.6\" y=\"-97.27\" font-family=\"Times,serif\" font-size=\"14.00\">B</text>\n</g>\n<!-- D -->\n<g id=\"node7\" class=\"node\">\n<title>D</title>\n<ellipse fill=\"none\" stroke=\"black\" cx=\"285.79\" cy=\"-132.97\" rx=\"18.4\" ry=\"18.4\"/>\n<text text-anchor=\"middle\" x=\"285.79\" y=\"-129.27\" font-family=\"Times,serif\" font-size=\"14.00\">D</text>\n</g>\n<!-- B&#45;&gt;D -->\n<g id=\"edge6\" class=\"edge\">\n<title>B&#45;&gt;D</title>\n<path fill=\"none\" stroke=\"black\" d=\"M216.83,-107.14C228.83,-111.7 245.4,-118 259.18,-123.23\"/>\n<polygon fill=\"black\" stroke=\"black\" points=\"258.02,-126.54 268.61,-126.82 260.51,-119.99 258.02,-126.54\"/>\n<text text-anchor=\"middle\" x=\"242.6\" y=\"-122.77\" font-family=\"Times,serif\" font-size=\"14.00\">1 </text>\n</g>\n<!-- F -->\n<g id=\"node8\" class=\"node\">\n<title>F</title>\n<ellipse fill=\"none\" stroke=\"black\" cx=\"467.89\" cy=\"-132.97\" rx=\"18\" ry=\"18\"/>\n<ellipse fill=\"none\" stroke=\"black\" cx=\"467.89\" cy=\"-132.97\" rx=\"22\" ry=\"22\"/>\n<text text-anchor=\"middle\" x=\"467.89\" y=\"-129.27\" font-family=\"Times,serif\" font-size=\"14.00\">F</text>\n</g>\n<!-- IG&#45;&gt;F -->\n<g id=\"edge5\" class=\"edge\">\n<title>IG&#45;&gt;F</title>\n<path fill=\"none\" stroke=\"black\" d=\"M396.19,-132.97C407.72,-132.97 422.3,-132.97 435.22,-132.97\"/>\n<polygon fill=\"black\" stroke=\"black\" points=\"435.59,-136.47 445.59,-132.97 435.59,-129.47 435.59,-136.47\"/>\n<text text-anchor=\"middle\" x=\"420.89\" y=\"-136.77\" font-family=\"Times,serif\" font-size=\"14.00\">1 </text>\n</g>\n<!-- C -->\n<g id=\"node4\" class=\"node\">\n<title>C</title>\n<ellipse fill=\"none\" stroke=\"black\" cx=\"199.6\" cy=\"-46.97\" rx=\"18\" ry=\"18\"/>\n<text text-anchor=\"middle\" x=\"199.6\" y=\"-43.27\" font-family=\"Times,serif\" font-size=\"14.00\">C</text>\n</g>\n<!-- E -->\n<g id=\"node6\" class=\"node\">\n<title>E</title>\n<ellipse fill=\"none\" stroke=\"black\" cx=\"285.79\" cy=\"-46.97\" rx=\"18\" ry=\"18\"/>\n<text text-anchor=\"middle\" x=\"285.79\" y=\"-43.27\" font-family=\"Times,serif\" font-size=\"14.00\">E</text>\n</g>\n<!-- C&#45;&gt;E -->\n<g id=\"edge7\" class=\"edge\">\n<title>C&#45;&gt;E</title>\n<path fill=\"none\" stroke=\"black\" d=\"M217.64,-46.97C229.05,-46.97 244.32,-46.97 257.42,-46.97\"/>\n<polygon fill=\"black\" stroke=\"black\" points=\"257.78,-50.47 267.78,-46.97 257.78,-43.47 257.78,-50.47\"/>\n<text text-anchor=\"middle\" x=\"242.6\" y=\"-50.77\" font-family=\"Times,serif\" font-size=\"14.00\">0 </text>\n</g>\n<!-- IA&#45;&gt;B -->\n<g id=\"edge3\" class=\"edge\">\n<title>IA&#45;&gt;B</title>\n<path fill=\"none\" stroke=\"black\" d=\"M132.7,-100.97C144.11,-100.97 158.6,-100.97 171.09,-100.97\"/>\n<polygon fill=\"black\" stroke=\"black\" points=\"171.41,-104.47 181.41,-100.97 171.41,-97.47 171.41,-104.47\"/>\n<text text-anchor=\"middle\" x=\"157.1\" y=\"-104.77\" font-family=\"Times,serif\" font-size=\"14.00\">&#39;&#39; </text>\n</g>\n<!-- IA&#45;&gt;C -->\n<g id=\"edge4\" class=\"edge\">\n<title>IA&#45;&gt;C</title>\n<path fill=\"none\" stroke=\"black\" d=\"M129.75,-90.3C142.73,-82.13 160.79,-70.77 175.15,-61.73\"/>\n<polygon fill=\"black\" stroke=\"black\" points=\"177.37,-64.47 183.97,-56.18 173.64,-58.54 177.37,-64.47\"/>\n<text text-anchor=\"middle\" x=\"157.1\" y=\"-79.77\" font-family=\"Times,serif\" font-size=\"14.00\">&#39;&#39; </text>\n</g>\n<!-- E&#45;&gt;IG -->\n<g id=\"edge11\" class=\"edge\">\n<title>E&#45;&gt;IG</title>\n<path fill=\"none\" stroke=\"black\" d=\"M299.21,-59.29C312.76,-72.74 334.74,-94.55 351.27,-110.96\"/>\n<polygon fill=\"black\" stroke=\"black\" points=\"348.87,-113.51 358.43,-118.07 353.8,-108.54 348.87,-113.51\"/>\n<text text-anchor=\"middle\" x=\"328.49\" y=\"-96.77\" font-family=\"Times,serif\" font-size=\"14.00\">&#39;&#39; </text>\n</g>\n<!-- E&#45;&gt;IA -->\n<g id=\"edge10\" class=\"edge\">\n<title>E&#45;&gt;IA</title>\n<path fill=\"none\" stroke=\"black\" d=\"M272.09,-34.73C252.29,-17.21 213.08,11.2 181.6,-4.97 154.31,-18.99 135.41,-49.41 124.43,-72.28\"/>\n<polygon fill=\"black\" stroke=\"black\" points=\"121.17,-70.99 120.2,-81.54 127.53,-73.9 121.17,-70.99\"/>\n<text text-anchor=\"middle\" x=\"199.6\" y=\"-8.77\" font-family=\"Times,serif\" font-size=\"14.00\">&#39;&#39; </text>\n</g>\n<!-- D&#45;&gt;IG -->\n<g id=\"edge9\" class=\"edge\">\n<title>D&#45;&gt;IG</title>\n<path fill=\"none\" stroke=\"black\" d=\"M304.33,-132.97C315.3,-132.97 329.74,-132.97 342.59,-132.97\"/>\n<polygon fill=\"black\" stroke=\"black\" points=\"342.89,-136.47 352.89,-132.97 342.89,-129.47 342.89,-136.47\"/>\n<text text-anchor=\"middle\" x=\"328.49\" y=\"-136.77\" font-family=\"Times,serif\" font-size=\"14.00\">&#39;&#39; </text>\n</g>\n<!-- D&#45;&gt;IA -->\n<g id=\"edge8\" class=\"edge\">\n<title>D&#45;&gt;IA</title>\n<path fill=\"none\" stroke=\"black\" d=\"M267.5,-136.36C258.07,-137.8 246.2,-138.94 235.6,-137.97 197.14,-134.44 186.75,-133.54 150.6,-119.97 147.02,-118.62 143.33,-117.04 139.73,-115.37\"/>\n<polygon fill=\"black\" stroke=\"black\" points=\"141.04,-112.12 130.52,-110.86 137.96,-118.4 141.04,-112.12\"/>\n<text text-anchor=\"middle\" x=\"199.6\" y=\"-140.77\" font-family=\"Times,serif\" font-size=\"14.00\">&#39;&#39; </text>\n</g>\n</g>\n</svg>\n",
            "text/plain": [
              "<graphviz.dot.Digraph at 0x7fb71665fa30>"
            ]
          },
          "metadata": {
            "tags": []
          },
          "execution_count": 8
        }
      ]
    },
    {
      "cell_type": "code",
      "metadata": {
        "id": "JFVcNch-MTpF",
        "outputId": "151c3040-2bd5-4a80-f2a1-5bccd1af6a5b"
      },
      "source": [
        "dotObj_dfa(nfa2dfa(Fig77a, STATENAME_MAXSIZE=50), STATENAME_MAXSIZE=50)"
      ],
      "execution_count": null,
      "outputs": [
        {
          "output_type": "execute_result",
          "data": {
            "image/svg+xml": "<?xml version=\"1.0\" encoding=\"UTF-8\" standalone=\"no\"?>\n<!DOCTYPE svg PUBLIC \"-//W3C//DTD SVG 1.1//EN\"\n \"http://www.w3.org/Graphics/SVG/1.1/DTD/svg11.dtd\">\n<!-- Generated by graphviz version 2.42.3 (20191010.1750)\n -->\n<!-- Title: %3 Pages: 1 -->\n<svg width=\"623pt\" height=\"255pt\"\n viewBox=\"0.00 0.00 622.96 255.39\" xmlns=\"http://www.w3.org/2000/svg\" xmlns:xlink=\"http://www.w3.org/1999/xlink\">\n<g id=\"graph0\" class=\"graph\" transform=\"scale(1 1) rotate(0) translate(4 251.39)\">\n<title>%3</title>\n<polygon fill=\"white\" stroke=\"transparent\" points=\"-4,4 -4,-251.39 618.96,-251.39 618.96,4 -4,4\"/>\n<!-- EMPTY -->\n<g id=\"node1\" class=\"node\">\n<title>EMPTY</title>\n</g>\n<!-- B_C_IA_IG -->\n<g id=\"node3\" class=\"node\">\n<title>B_C_IA_IG</title>\n<ellipse fill=\"none\" stroke=\"black\" cx=\"148.84\" cy=\"-57.84\" rx=\"57.69\" ry=\"57.69\"/>\n<text text-anchor=\"middle\" x=\"148.84\" y=\"-54.14\" font-family=\"Times,serif\" font-size=\"14.00\">B_C_IA_IG</text>\n</g>\n<!-- EMPTY&#45;&gt;B_C_IA_IG -->\n<g id=\"edge1\" class=\"edge\">\n<title>EMPTY&#45;&gt;B_C_IA_IG</title>\n<path fill=\"none\" stroke=\"black\" d=\"M54,-57.84C61.99,-57.84 71.18,-57.84 80.61,-57.84\"/>\n<polygon fill=\"black\" stroke=\"black\" points=\"80.9,-61.34 90.9,-57.84 80.9,-54.34 80.9,-61.34\"/>\n</g>\n<!-- B_C_E_IA_IG -->\n<g id=\"node2\" class=\"node\">\n<title>B_C_E_IA_IG</title>\n<ellipse fill=\"none\" stroke=\"black\" cx=\"326.23\" cy=\"-144.84\" rx=\"69.59\" ry=\"69.59\"/>\n<text text-anchor=\"middle\" x=\"326.23\" y=\"-141.14\" font-family=\"Times,serif\" font-size=\"14.00\">B_C_E_IA_IG</text>\n</g>\n<!-- B_C_E_IA_IG&#45;&gt;B_C_E_IA_IG -->\n<g id=\"edge7\" class=\"edge\">\n<title>B_C_E_IA_IG&#45;&gt;B_C_E_IA_IG</title>\n<path fill=\"none\" stroke=\"black\" d=\"M309.78,-212.75C312.03,-224.35 317.51,-232.39 326.23,-232.39 332.23,-232.39 336.69,-228.59 339.63,-222.45\"/>\n<polygon fill=\"black\" stroke=\"black\" points=\"343.02,-223.34 342.69,-212.75 336.34,-221.24 343.02,-223.34\"/>\n<text text-anchor=\"middle\" x=\"326.23\" y=\"-236.19\" font-family=\"Times,serif\" font-size=\"14.00\">0 </text>\n</g>\n<!-- B_C_D_F_IA_IG -->\n<g id=\"node4\" class=\"node\">\n<title>B_C_D_F_IA_IG</title>\n<ellipse fill=\"none\" stroke=\"black\" cx=\"530.37\" cy=\"-106.84\" rx=\"80.68\" ry=\"80.68\"/>\n<ellipse fill=\"none\" stroke=\"black\" cx=\"530.37\" cy=\"-106.84\" rx=\"84.69\" ry=\"84.69\"/>\n<text text-anchor=\"middle\" x=\"530.37\" y=\"-103.14\" font-family=\"Times,serif\" font-size=\"14.00\">B_C_D_F_IA_IG</text>\n</g>\n<!-- B_C_E_IA_IG&#45;&gt;B_C_D_F_IA_IG -->\n<g id=\"edge6\" class=\"edge\">\n<title>B_C_E_IA_IG&#45;&gt;B_C_D_F_IA_IG</title>\n<path fill=\"none\" stroke=\"black\" d=\"M394.82,-132.14C408.44,-129.58 422.97,-126.85 437.25,-124.16\"/>\n<polygon fill=\"black\" stroke=\"black\" points=\"437.91,-127.6 447.09,-122.31 436.62,-120.72 437.91,-127.6\"/>\n<text text-anchor=\"middle\" x=\"420.78\" y=\"-132.64\" font-family=\"Times,serif\" font-size=\"14.00\">1 </text>\n</g>\n<!-- B_C_IA_IG&#45;&gt;B_C_E_IA_IG -->\n<g id=\"edge3\" class=\"edge\">\n<title>B_C_IA_IG&#45;&gt;B_C_E_IA_IG</title>\n<path fill=\"none\" stroke=\"black\" d=\"M201.05,-83.24C217.75,-91.53 236.6,-100.88 254.48,-109.75\"/>\n<polygon fill=\"black\" stroke=\"black\" points=\"253.21,-113.03 263.72,-114.33 256.32,-106.75 253.21,-113.03\"/>\n<text text-anchor=\"middle\" x=\"231.69\" y=\"-105.64\" font-family=\"Times,serif\" font-size=\"14.00\">0 </text>\n</g>\n<!-- B_C_IA_IG&#45;&gt;B_C_D_F_IA_IG -->\n<g id=\"edge2\" class=\"edge\">\n<title>B_C_IA_IG&#45;&gt;B_C_D_F_IA_IG</title>\n<path fill=\"none\" stroke=\"black\" d=\"M206.13,-49.1C256.38,-42.98 331.71,-37.96 395.78,-50.84 412.16,-54.14 429.04,-59.5 445.06,-65.63\"/>\n<polygon fill=\"black\" stroke=\"black\" points=\"443.79,-68.89 454.38,-69.31 446.37,-62.38 443.79,-68.89\"/>\n<text text-anchor=\"middle\" x=\"326.23\" y=\"-54.64\" font-family=\"Times,serif\" font-size=\"14.00\">1 </text>\n</g>\n<!-- B_C_D_F_IA_IG&#45;&gt;B_C_E_IA_IG -->\n<g id=\"edge5\" class=\"edge\">\n<title>B_C_D_F_IA_IG&#45;&gt;B_C_E_IA_IG</title>\n<path fill=\"none\" stroke=\"black\" d=\"M445.61,-103.66C434.83,-104.4 423.99,-105.71 413.78,-107.84 408.81,-108.89 403.77,-110.22 398.75,-111.76\"/>\n<polygon fill=\"black\" stroke=\"black\" points=\"397.53,-108.47 389.15,-114.95 399.74,-115.12 397.53,-108.47\"/>\n<text text-anchor=\"middle\" x=\"420.78\" y=\"-111.64\" font-family=\"Times,serif\" font-size=\"14.00\">0 </text>\n</g>\n<!-- B_C_D_F_IA_IG&#45;&gt;B_C_D_F_IA_IG -->\n<g id=\"edge4\" class=\"edge\">\n<title>B_C_D_F_IA_IG&#45;&gt;B_C_D_F_IA_IG</title>\n<path fill=\"none\" stroke=\"black\" d=\"M512.2,-189.77C515.14,-201.54 521.19,-209.44 530.37,-209.44 536.68,-209.44 541.51,-205.7 544.87,-199.55\"/>\n<polygon fill=\"black\" stroke=\"black\" points=\"548.31,-200.36 548.54,-189.77 541.75,-197.9 548.31,-200.36\"/>\n<text text-anchor=\"middle\" x=\"530.37\" y=\"-213.24\" font-family=\"Times,serif\" font-size=\"14.00\">1 </text>\n</g>\n</g>\n</svg>\n",
            "text/plain": [
              "<graphviz.dot.Digraph at 0x7fb716568ac0>"
            ]
          },
          "metadata": {
            "tags": []
          },
          "execution_count": 9
        }
      ]
    },
    {
      "cell_type": "code",
      "metadata": {
        "run_control": {
          "frozen": false,
          "read_only": false
        },
        "id": "OIwKZqWkMTpG"
      },
      "source": [
        "# Our automd markdown works for NFA also. Here is the NFA for\n",
        "# the language \"ends in 0101\"\n",
        "\n",
        "NFA_ends0101 = md2mc(''' \n",
        "!!---------------------------------------------------------------------------\n",
        "!! This NFA looks for patterns of the form \n",
        "!!\n",
        "!!     ......<some 0's and 1's>.....0101\n",
        "!!\n",
        "!! i.e., all strings that end in 0101.\n",
        "!!\n",
        "!! This example (over and above thirdlastis1.nfa) also illustrates\n",
        "!! the power of nondeterminism. Anytime we see a 0 from state I, we\n",
        "!! can have the NFA speculate that it is seeing the beginning of a\n",
        "!! 0101 pattern! If the NFA fails in its guess, it pays no price\n",
        "!! (because another guess is soon coming from behind).\n",
        "!!\n",
        "!! * We take 4 states in the NFA solution. The DFA solution takes\n",
        "!!   5 states.\n",
        "!!\n",
        "!! * This shows how burden is shifted from the\n",
        "!!   human to the computer doing the NFA simulation.\n",
        "!!   Even though the savings in states is not dramatic,\n",
        "!!   the effort to build this NFA is much lower than building\n",
        "!!   the corresponding DFA.\n",
        "!! \n",
        "!!-----------------------------------------------------------------\n",
        "!! For NFA, each line can be as follows:\n",
        "!!\n",
        "!! State : in1 | in2 ...  ->  COmma, Separated, State, List  !! comment\n",
        "!!-----------------------------------------------------------------\n",
        "\n",
        "NFA\n",
        "\n",
        "I    : 1   -> I      !! I goes to I upon 1\n",
        "\n",
        "I    : 0   -> S0, I  !! I goes to S0 and I upon 0\n",
        "\n",
        "S0   : 1   -> S01    !! S0 goes to S01 upon 1\n",
        "\n",
        "S01  : 0   -> S010   !! S01 goes to S010 upon 0\n",
        "\n",
        "S010 : 1   -> F      !! S010 goes to F upon F\n",
        "\n",
        "!!---\n",
        "''')"
      ],
      "execution_count": null,
      "outputs": []
    },
    {
      "cell_type": "code",
      "metadata": {
        "run_control": {
          "frozen": false,
          "read_only": false
        },
        "id": "_kMESSiBMTpG",
        "outputId": "6c9a7a3e-a68b-4b7b-86bd-0e93042f52b3"
      },
      "source": [
        "# Now let us see the dict version of the NFA\n",
        "NFA_ends0101 "
      ],
      "execution_count": null,
      "outputs": [
        {
          "output_type": "execute_result",
          "data": {
            "text/plain": [
              "{'Q': {'F', 'I', 'S0', 'S01', 'S010'},\n",
              " 'Sigma': {'0', '1'},\n",
              " 'Delta': {('I', '1'): {'I'},\n",
              "  ('I', '0'): {'I', 'S0'},\n",
              "  ('S0', '1'): {'S01'},\n",
              "  ('S01', '0'): {'S010'},\n",
              "  ('S010', '1'): {'F'}},\n",
              " 'Q0': {'I'},\n",
              " 'F': {'F'}}"
            ]
          },
          "metadata": {
            "tags": []
          },
          "execution_count": 11
        }
      ]
    },
    {
      "cell_type": "code",
      "metadata": {
        "run_control": {
          "frozen": false,
          "read_only": false
        },
        "id": "vIkC0zsHMTpH",
        "outputId": "657f7b94-5e93-4baa-e8fc-b2a84a49b380"
      },
      "source": [
        "# Let's see the drawing of this NFA\n",
        "dotObj_nfa(NFA_ends0101)  "
      ],
      "execution_count": null,
      "outputs": [
        {
          "output_type": "execute_result",
          "data": {
            "image/svg+xml": "<?xml version=\"1.0\" encoding=\"UTF-8\" standalone=\"no\"?>\n<!DOCTYPE svg PUBLIC \"-//W3C//DTD SVG 1.1//EN\"\n \"http://www.w3.org/Graphics/SVG/1.1/DTD/svg11.dtd\">\n<!-- Generated by graphviz version 2.42.3 (20191010.1750)\n -->\n<!-- Title: %3 Pages: 1 -->\n<svg width=\"551pt\" height=\"126pt\"\n viewBox=\"0.00 0.00 550.58 126.45\" xmlns=\"http://www.w3.org/2000/svg\" xmlns:xlink=\"http://www.w3.org/1999/xlink\">\n<g id=\"graph0\" class=\"graph\" transform=\"scale(1 1) rotate(0) translate(4 122.45)\">\n<title>%3</title>\n<polygon fill=\"white\" stroke=\"transparent\" points=\"-4,4 -4,-122.45 546.58,-122.45 546.58,4 -4,4\"/>\n<!-- EMPTY -->\n<g id=\"node1\" class=\"node\">\n<title>EMPTY</title>\n</g>\n<!-- I -->\n<g id=\"node4\" class=\"node\">\n<title>I</title>\n<ellipse fill=\"none\" stroke=\"black\" cx=\"109\" cy=\"-34.45\" rx=\"18\" ry=\"18\"/>\n<text text-anchor=\"middle\" x=\"109\" y=\"-30.75\" font-family=\"Times,serif\" font-size=\"14.00\">I</text>\n</g>\n<!-- EMPTY&#45;&gt;I -->\n<g id=\"edge1\" class=\"edge\">\n<title>EMPTY&#45;&gt;I</title>\n<path fill=\"none\" stroke=\"black\" d=\"M54.19,-34.45C62.65,-34.45 72.05,-34.45 80.6,-34.45\"/>\n<polygon fill=\"black\" stroke=\"black\" points=\"80.83,-37.95 90.83,-34.45 80.83,-30.95 80.83,-37.95\"/>\n</g>\n<!-- S01 -->\n<g id=\"node2\" class=\"node\">\n<title>S01</title>\n<ellipse fill=\"none\" stroke=\"black\" cx=\"301.09\" cy=\"-34.45\" rx=\"28.7\" ry=\"28.7\"/>\n<text text-anchor=\"middle\" x=\"301.09\" y=\"-30.75\" font-family=\"Times,serif\" font-size=\"14.00\">S01</text>\n</g>\n<!-- S010 -->\n<g id=\"node3\" class=\"node\">\n<title>S010</title>\n<ellipse fill=\"none\" stroke=\"black\" cx=\"414.14\" cy=\"-34.45\" rx=\"34.39\" ry=\"34.39\"/>\n<text text-anchor=\"middle\" x=\"414.14\" y=\"-30.75\" font-family=\"Times,serif\" font-size=\"14.00\">S010</text>\n</g>\n<!-- S01&#45;&gt;S010 -->\n<g id=\"edge6\" class=\"edge\">\n<title>S01&#45;&gt;S010</title>\n<path fill=\"none\" stroke=\"black\" d=\"M329.83,-34.45C341.69,-34.45 355.83,-34.45 369.06,-34.45\"/>\n<polygon fill=\"black\" stroke=\"black\" points=\"369.42,-37.95 379.42,-34.45 369.42,-30.95 369.42,-37.95\"/>\n<text text-anchor=\"middle\" x=\"354.69\" y=\"-38.25\" font-family=\"Times,serif\" font-size=\"14.00\">0 </text>\n</g>\n<!-- F -->\n<g id=\"node6\" class=\"node\">\n<title>F</title>\n<ellipse fill=\"none\" stroke=\"black\" cx=\"520.58\" cy=\"-34.45\" rx=\"18\" ry=\"18\"/>\n<ellipse fill=\"none\" stroke=\"black\" cx=\"520.58\" cy=\"-34.45\" rx=\"22\" ry=\"22\"/>\n<text text-anchor=\"middle\" x=\"520.58\" y=\"-30.75\" font-family=\"Times,serif\" font-size=\"14.00\">F</text>\n</g>\n<!-- S010&#45;&gt;F -->\n<g id=\"edge7\" class=\"edge\">\n<title>S010&#45;&gt;F</title>\n<path fill=\"none\" stroke=\"black\" d=\"M448.76,-34.45C461.4,-34.45 475.71,-34.45 488.14,-34.45\"/>\n<polygon fill=\"black\" stroke=\"black\" points=\"488.49,-37.95 498.49,-34.45 488.49,-30.95 488.49,-37.95\"/>\n<text text-anchor=\"middle\" x=\"473.58\" y=\"-38.25\" font-family=\"Times,serif\" font-size=\"14.00\">1 </text>\n</g>\n<!-- I&#45;&gt;I -->\n<g id=\"edge2\" class=\"edge\">\n<title>I&#45;&gt;I</title>\n<path fill=\"none\" stroke=\"black\" d=\"M105.76,-52.23C105.21,-61.76 106.29,-70.45 109,-70.45 110.65,-70.45 111.69,-67.22 112.13,-62.55\"/>\n<polygon fill=\"black\" stroke=\"black\" points=\"115.64,-62.26 112.24,-52.23 108.64,-62.19 115.64,-62.26\"/>\n<text text-anchor=\"middle\" x=\"109\" y=\"-74.25\" font-family=\"Times,serif\" font-size=\"14.00\">1 </text>\n</g>\n<!-- I&#45;&gt;I -->\n<g id=\"edge4\" class=\"edge\">\n<title>I&#45;&gt;I</title>\n<path fill=\"none\" stroke=\"black\" d=\"M103.68,-51.87C100.65,-69.24 102.43,-88.45 109,-88.45 114.29,-88.45 116.47,-76.01 115.54,-62.1\"/>\n<polygon fill=\"black\" stroke=\"black\" points=\"118.98,-61.38 114.32,-51.87 112.03,-62.21 118.98,-61.38\"/>\n<text text-anchor=\"middle\" x=\"109\" y=\"-92.25\" font-family=\"Times,serif\" font-size=\"14.00\">0 </text>\n</g>\n<!-- S0 -->\n<g id=\"node5\" class=\"node\">\n<title>S0</title>\n<ellipse fill=\"none\" stroke=\"black\" cx=\"199.75\" cy=\"-34.45\" rx=\"23\" ry=\"23\"/>\n<text text-anchor=\"middle\" x=\"199.75\" y=\"-30.75\" font-family=\"Times,serif\" font-size=\"14.00\">S0</text>\n</g>\n<!-- I&#45;&gt;S0 -->\n<g id=\"edge3\" class=\"edge\">\n<title>I&#45;&gt;S0</title>\n<path fill=\"none\" stroke=\"black\" d=\"M127.11,-34.45C138.32,-34.45 153.32,-34.45 166.69,-34.45\"/>\n<polygon fill=\"black\" stroke=\"black\" points=\"166.97,-37.95 176.97,-34.45 166.97,-30.95 166.97,-37.95\"/>\n<text text-anchor=\"middle\" x=\"152\" y=\"-38.25\" font-family=\"Times,serif\" font-size=\"14.00\">0 </text>\n</g>\n<!-- S0&#45;&gt;S01 -->\n<g id=\"edge5\" class=\"edge\">\n<title>S0&#45;&gt;S01</title>\n<path fill=\"none\" stroke=\"black\" d=\"M222.8,-34.45C234.34,-34.45 248.81,-34.45 262.1,-34.45\"/>\n<polygon fill=\"black\" stroke=\"black\" points=\"262.42,-37.95 272.42,-34.45 262.42,-30.95 262.42,-37.95\"/>\n<text text-anchor=\"middle\" x=\"247.5\" y=\"-38.25\" font-family=\"Times,serif\" font-size=\"14.00\">1 </text>\n</g>\n</g>\n</svg>\n",
            "text/plain": [
              "<graphviz.dot.Digraph at 0x7fb716568e20>"
            ]
          },
          "metadata": {
            "tags": []
          },
          "execution_count": 12
        }
      ]
    },
    {
      "cell_type": "code",
      "metadata": {
        "run_control": {
          "frozen": false,
          "read_only": false
        },
        "id": "-ThugW-lMTpH",
        "outputId": "3a2e286b-46b3-451c-d8f4-8247d2423741"
      },
      "source": [
        "# The drawing produces separated self-loops. Let's fuse 'em.\n",
        "\n",
        "# Now we are going to fuse the separate self-loops into one.\n",
        "\n",
        "dotObj_nfa(NFA_ends0101, FuseEdges=True) "
      ],
      "execution_count": null,
      "outputs": [
        {
          "output_type": "execute_result",
          "data": {
            "image/svg+xml": "<?xml version=\"1.0\" encoding=\"UTF-8\" standalone=\"no\"?>\n<!DOCTYPE svg PUBLIC \"-//W3C//DTD SVG 1.1//EN\"\n \"http://www.w3.org/Graphics/SVG/1.1/DTD/svg11.dtd\">\n<!-- Generated by graphviz version 2.42.3 (20191010.1750)\n -->\n<!-- Title: %3 Pages: 1 -->\n<svg width=\"551pt\" height=\"108pt\"\n viewBox=\"0.00 0.00 550.58 108.45\" xmlns=\"http://www.w3.org/2000/svg\" xmlns:xlink=\"http://www.w3.org/1999/xlink\">\n<g id=\"graph0\" class=\"graph\" transform=\"scale(1 1) rotate(0) translate(4 104.45)\">\n<title>%3</title>\n<polygon fill=\"white\" stroke=\"transparent\" points=\"-4,4 -4,-104.45 546.58,-104.45 546.58,4 -4,4\"/>\n<!-- EMPTY -->\n<g id=\"node1\" class=\"node\">\n<title>EMPTY</title>\n</g>\n<!-- I -->\n<g id=\"node4\" class=\"node\">\n<title>I</title>\n<ellipse fill=\"none\" stroke=\"black\" cx=\"109\" cy=\"-34.45\" rx=\"18\" ry=\"18\"/>\n<text text-anchor=\"middle\" x=\"109\" y=\"-30.75\" font-family=\"Times,serif\" font-size=\"14.00\">I</text>\n</g>\n<!-- EMPTY&#45;&gt;I -->\n<g id=\"edge1\" class=\"edge\">\n<title>EMPTY&#45;&gt;I</title>\n<path fill=\"none\" stroke=\"black\" d=\"M54.19,-34.45C62.65,-34.45 72.05,-34.45 80.6,-34.45\"/>\n<polygon fill=\"black\" stroke=\"black\" points=\"80.83,-37.95 90.83,-34.45 80.83,-30.95 80.83,-37.95\"/>\n</g>\n<!-- S01 -->\n<g id=\"node2\" class=\"node\">\n<title>S01</title>\n<ellipse fill=\"none\" stroke=\"black\" cx=\"301.09\" cy=\"-34.45\" rx=\"28.7\" ry=\"28.7\"/>\n<text text-anchor=\"middle\" x=\"301.09\" y=\"-30.75\" font-family=\"Times,serif\" font-size=\"14.00\">S01</text>\n</g>\n<!-- S010 -->\n<g id=\"node3\" class=\"node\">\n<title>S010</title>\n<ellipse fill=\"none\" stroke=\"black\" cx=\"414.14\" cy=\"-34.45\" rx=\"34.39\" ry=\"34.39\"/>\n<text text-anchor=\"middle\" x=\"414.14\" y=\"-30.75\" font-family=\"Times,serif\" font-size=\"14.00\">S010</text>\n</g>\n<!-- S01&#45;&gt;S010 -->\n<g id=\"edge5\" class=\"edge\">\n<title>S01&#45;&gt;S010</title>\n<path fill=\"none\" stroke=\"black\" d=\"M329.83,-34.45C341.69,-34.45 355.83,-34.45 369.06,-34.45\"/>\n<polygon fill=\"black\" stroke=\"black\" points=\"369.42,-37.95 379.42,-34.45 369.42,-30.95 369.42,-37.95\"/>\n<text text-anchor=\"middle\" x=\"354.69\" y=\"-38.25\" font-family=\"Times,serif\" font-size=\"14.00\">0 </text>\n</g>\n<!-- F -->\n<g id=\"node6\" class=\"node\">\n<title>F</title>\n<ellipse fill=\"none\" stroke=\"black\" cx=\"520.58\" cy=\"-34.45\" rx=\"18\" ry=\"18\"/>\n<ellipse fill=\"none\" stroke=\"black\" cx=\"520.58\" cy=\"-34.45\" rx=\"22\" ry=\"22\"/>\n<text text-anchor=\"middle\" x=\"520.58\" y=\"-30.75\" font-family=\"Times,serif\" font-size=\"14.00\">F</text>\n</g>\n<!-- S010&#45;&gt;F -->\n<g id=\"edge6\" class=\"edge\">\n<title>S010&#45;&gt;F</title>\n<path fill=\"none\" stroke=\"black\" d=\"M448.76,-34.45C461.4,-34.45 475.71,-34.45 488.14,-34.45\"/>\n<polygon fill=\"black\" stroke=\"black\" points=\"488.49,-37.95 498.49,-34.45 488.49,-30.95 488.49,-37.95\"/>\n<text text-anchor=\"middle\" x=\"473.58\" y=\"-38.25\" font-family=\"Times,serif\" font-size=\"14.00\">1 </text>\n</g>\n<!-- I&#45;&gt;I -->\n<g id=\"edge2\" class=\"edge\">\n<title>I&#45;&gt;I</title>\n<path fill=\"none\" stroke=\"black\" d=\"M102.62,-51.48C101.32,-61.3 103.45,-70.45 109,-70.45 112.47,-70.45 114.6,-66.88 115.4,-61.8\"/>\n<polygon fill=\"black\" stroke=\"black\" points=\"118.9,-61.48 115.38,-51.48 111.9,-61.49 118.9,-61.48\"/>\n<text text-anchor=\"middle\" x=\"109\" y=\"-89.25\" font-family=\"Times,serif\" font-size=\"14.00\">1 </text>\n<text text-anchor=\"middle\" x=\"109\" y=\"-74.25\" font-family=\"Times,serif\" font-size=\"14.00\"> 0 </text>\n</g>\n<!-- S0 -->\n<g id=\"node5\" class=\"node\">\n<title>S0</title>\n<ellipse fill=\"none\" stroke=\"black\" cx=\"199.75\" cy=\"-34.45\" rx=\"23\" ry=\"23\"/>\n<text text-anchor=\"middle\" x=\"199.75\" y=\"-30.75\" font-family=\"Times,serif\" font-size=\"14.00\">S0</text>\n</g>\n<!-- I&#45;&gt;S0 -->\n<g id=\"edge3\" class=\"edge\">\n<title>I&#45;&gt;S0</title>\n<path fill=\"none\" stroke=\"black\" d=\"M127.11,-34.45C138.32,-34.45 153.32,-34.45 166.69,-34.45\"/>\n<polygon fill=\"black\" stroke=\"black\" points=\"166.97,-37.95 176.97,-34.45 166.97,-30.95 166.97,-37.95\"/>\n<text text-anchor=\"middle\" x=\"152\" y=\"-38.25\" font-family=\"Times,serif\" font-size=\"14.00\">0 </text>\n</g>\n<!-- S0&#45;&gt;S01 -->\n<g id=\"edge4\" class=\"edge\">\n<title>S0&#45;&gt;S01</title>\n<path fill=\"none\" stroke=\"black\" d=\"M222.8,-34.45C234.34,-34.45 248.81,-34.45 262.1,-34.45\"/>\n<polygon fill=\"black\" stroke=\"black\" points=\"262.42,-37.95 272.42,-34.45 262.42,-30.95 262.42,-37.95\"/>\n<text text-anchor=\"middle\" x=\"247.5\" y=\"-38.25\" font-family=\"Times,serif\" font-size=\"14.00\">1 </text>\n</g>\n</g>\n</svg>\n",
            "text/plain": [
              "<graphviz.dot.Digraph at 0x7fb7164c5100>"
            ]
          },
          "metadata": {
            "tags": []
          },
          "execution_count": 13
        }
      ]
    },
    {
      "cell_type": "code",
      "metadata": {
        "id": "5ErASoF2MTpI",
        "outputId": "1c44f33e-7460-458d-dd3b-40ef34b13c11"
      },
      "source": [
        "step_nfa(NFA_ends0101, 'F', '1')"
      ],
      "execution_count": null,
      "outputs": [
        {
          "output_type": "execute_result",
          "data": {
            "text/plain": [
              "set()"
            ]
          },
          "metadata": {
            "tags": []
          },
          "execution_count": 14
        }
      ]
    },
    {
      "cell_type": "markdown",
      "metadata": {
        "run_control": {
          "frozen": false,
          "read_only": false
        },
        "id": "3wX2XBrwMTpI"
      },
      "source": [
        "# NFA for 3rd-last is 1"
      ]
    },
    {
      "cell_type": "code",
      "metadata": {
        "run_control": {
          "frozen": false,
          "read_only": false
        },
        "id": "T7-BefBrMTpI"
      },
      "source": [
        "# Here is the automd (markdown) for an NF whose third-last symbol is a 1\n",
        "\n",
        "NFA_3rdlast_1 = md2mc('''\n",
        "NFA\n",
        "\n",
        "I : 0  | 1  -> I  !! Upon a 0 or a 1, continue to stay in state I\n",
        "\n",
        "I : ''      -> S0 !! Nondeterministically transition to state S0\n",
        "\n",
        "S0 : 1      -> S1 !! This is the key \"1\" (third-last being 1) seen\n",
        "\n",
        "S1 : 0 | 1  -> S2 !! One 0/1 takes the NFA to S2\n",
        "\n",
        "S2 : 0 | 1  -> F  !! One more 0/1 takes the NFA to F\n",
        "\n",
        "''')"
      ],
      "execution_count": null,
      "outputs": []
    },
    {
      "cell_type": "code",
      "metadata": {
        "run_control": {
          "frozen": false,
          "read_only": false
        },
        "id": "lNEEcfkQMTpI",
        "outputId": "5671c450-ed86-44fe-9774-645271bbd8a6"
      },
      "source": [
        "# Let us see its internal representation:\n",
        "NFA_3rdlast_1"
      ],
      "execution_count": null,
      "outputs": [
        {
          "output_type": "execute_result",
          "data": {
            "text/plain": [
              "{'Q': {'F', 'I', 'S0', 'S1', 'S2'},\n",
              " 'Sigma': {'0', '1'},\n",
              " 'Delta': {('I', '0'): {'I'},\n",
              "  ('I', '1'): {'I'},\n",
              "  ('I', ''): {'S0'},\n",
              "  ('S0', '1'): {'S1'},\n",
              "  ('S1', '0'): {'S2'},\n",
              "  ('S1', '1'): {'S2'},\n",
              "  ('S2', '0'): {'F'},\n",
              "  ('S2', '1'): {'F'}},\n",
              " 'Q0': {'I'},\n",
              " 'F': {'F'}}"
            ]
          },
          "metadata": {
            "tags": []
          },
          "execution_count": 16
        }
      ]
    },
    {
      "cell_type": "code",
      "metadata": {
        "run_control": {
          "frozen": false,
          "read_only": false
        },
        "id": "AwZyKxJyMTpJ",
        "outputId": "ce40545e-5674-473a-de4f-34dd8c012432"
      },
      "source": [
        "# Let us see this NFA drawn out:\n",
        "dotObj_nfa(NFA_3rdlast_1, FuseEdges=True)"
      ],
      "execution_count": null,
      "outputs": [
        {
          "output_type": "execute_result",
          "data": {
            "image/svg+xml": "<?xml version=\"1.0\" encoding=\"UTF-8\" standalone=\"no\"?>\n<!DOCTYPE svg PUBLIC \"-//W3C//DTD SVG 1.1//EN\"\n \"http://www.w3.org/Graphics/SVG/1.1/DTD/svg11.dtd\">\n<!-- Generated by graphviz version 2.42.3 (20191010.1750)\n -->\n<!-- Title: %3 Pages: 1 -->\n<svg width=\"524pt\" height=\"97pt\"\n viewBox=\"0.00 0.00 524.49 96.75\" xmlns=\"http://www.w3.org/2000/svg\" xmlns:xlink=\"http://www.w3.org/1999/xlink\">\n<g id=\"graph0\" class=\"graph\" transform=\"scale(1 1) rotate(0) translate(4 92.75)\">\n<title>%3</title>\n<polygon fill=\"white\" stroke=\"transparent\" points=\"-4,4 -4,-92.75 520.49,-92.75 520.49,4 -4,4\"/>\n<!-- EMPTY -->\n<g id=\"node1\" class=\"node\">\n<title>EMPTY</title>\n</g>\n<!-- I -->\n<g id=\"node3\" class=\"node\">\n<title>I</title>\n<ellipse fill=\"none\" stroke=\"black\" cx=\"109\" cy=\"-22.75\" rx=\"18\" ry=\"18\"/>\n<text text-anchor=\"middle\" x=\"109\" y=\"-19.05\" font-family=\"Times,serif\" font-size=\"14.00\">I</text>\n</g>\n<!-- EMPTY&#45;&gt;I -->\n<g id=\"edge1\" class=\"edge\">\n<title>EMPTY&#45;&gt;I</title>\n<path fill=\"none\" stroke=\"black\" d=\"M54.19,-22.75C62.65,-22.75 72.05,-22.75 80.6,-22.75\"/>\n<polygon fill=\"black\" stroke=\"black\" points=\"80.83,-26.25 90.83,-22.75 80.83,-19.25 80.83,-26.25\"/>\n</g>\n<!-- S1 -->\n<g id=\"node2\" class=\"node\">\n<title>S1</title>\n<ellipse fill=\"none\" stroke=\"black\" cx=\"294.24\" cy=\"-22.75\" rx=\"23\" ry=\"23\"/>\n<text text-anchor=\"middle\" x=\"294.24\" y=\"-19.05\" font-family=\"Times,serif\" font-size=\"14.00\">S1</text>\n</g>\n<!-- S2 -->\n<g id=\"node5\" class=\"node\">\n<title>S2</title>\n<ellipse fill=\"none\" stroke=\"black\" cx=\"394.74\" cy=\"-22.75\" rx=\"23\" ry=\"23\"/>\n<text text-anchor=\"middle\" x=\"394.74\" y=\"-19.05\" font-family=\"Times,serif\" font-size=\"14.00\">S2</text>\n</g>\n<!-- S1&#45;&gt;S2 -->\n<g id=\"edge5\" class=\"edge\">\n<title>S1&#45;&gt;S2</title>\n<path fill=\"none\" stroke=\"black\" d=\"M317.1,-22.75C330.24,-22.75 347.18,-22.75 361.8,-22.75\"/>\n<polygon fill=\"black\" stroke=\"black\" points=\"361.94,-26.25 371.94,-22.75 361.94,-19.25 361.94,-26.25\"/>\n<text text-anchor=\"middle\" x=\"344.49\" y=\"-41.55\" font-family=\"Times,serif\" font-size=\"14.00\">1 </text>\n<text text-anchor=\"middle\" x=\"344.49\" y=\"-26.55\" font-family=\"Times,serif\" font-size=\"14.00\"> 0 </text>\n</g>\n<!-- I&#45;&gt;I -->\n<g id=\"edge2\" class=\"edge\">\n<title>I&#45;&gt;I</title>\n<path fill=\"none\" stroke=\"black\" d=\"M102.62,-39.79C101.32,-49.61 103.45,-58.75 109,-58.75 112.47,-58.75 114.6,-55.18 115.4,-50.1\"/>\n<polygon fill=\"black\" stroke=\"black\" points=\"118.9,-49.78 115.38,-39.79 111.9,-49.79 118.9,-49.78\"/>\n<text text-anchor=\"middle\" x=\"109\" y=\"-77.55\" font-family=\"Times,serif\" font-size=\"14.00\">1 </text>\n<text text-anchor=\"middle\" x=\"109\" y=\"-62.55\" font-family=\"Times,serif\" font-size=\"14.00\"> 0 </text>\n</g>\n<!-- S0 -->\n<g id=\"node4\" class=\"node\">\n<title>S0</title>\n<ellipse fill=\"none\" stroke=\"black\" cx=\"198.75\" cy=\"-22.75\" rx=\"23\" ry=\"23\"/>\n<text text-anchor=\"middle\" x=\"198.75\" y=\"-19.05\" font-family=\"Times,serif\" font-size=\"14.00\">S0</text>\n</g>\n<!-- I&#45;&gt;S0 -->\n<g id=\"edge3\" class=\"edge\">\n<title>I&#45;&gt;S0</title>\n<path fill=\"none\" stroke=\"black\" d=\"M127.34,-22.75C138.18,-22.75 152.5,-22.75 165.39,-22.75\"/>\n<polygon fill=\"black\" stroke=\"black\" points=\"165.77,-26.25 175.77,-22.75 165.77,-19.25 165.77,-26.25\"/>\n<text text-anchor=\"middle\" x=\"151.5\" y=\"-26.55\" font-family=\"Times,serif\" font-size=\"14.00\">&#39;&#39; </text>\n</g>\n<!-- S0&#45;&gt;S1 -->\n<g id=\"edge4\" class=\"edge\">\n<title>S0&#45;&gt;S1</title>\n<path fill=\"none\" stroke=\"black\" d=\"M221.91,-22.75C233.55,-22.75 248.04,-22.75 260.91,-22.75\"/>\n<polygon fill=\"black\" stroke=\"black\" points=\"261.25,-26.25 271.25,-22.75 261.25,-19.25 261.25,-26.25\"/>\n<text text-anchor=\"middle\" x=\"246.5\" y=\"-26.55\" font-family=\"Times,serif\" font-size=\"14.00\">1 </text>\n</g>\n<!-- F -->\n<g id=\"node6\" class=\"node\">\n<title>F</title>\n<ellipse fill=\"none\" stroke=\"black\" cx=\"494.49\" cy=\"-22.75\" rx=\"18\" ry=\"18\"/>\n<ellipse fill=\"none\" stroke=\"black\" cx=\"494.49\" cy=\"-22.75\" rx=\"22\" ry=\"22\"/>\n<text text-anchor=\"middle\" x=\"494.49\" y=\"-19.05\" font-family=\"Times,serif\" font-size=\"14.00\">F</text>\n</g>\n<!-- S2&#45;&gt;F -->\n<g id=\"edge6\" class=\"edge\">\n<title>S2&#45;&gt;F</title>\n<path fill=\"none\" stroke=\"black\" d=\"M417.92,-22.75C431.07,-22.75 447.93,-22.75 462.38,-22.75\"/>\n<polygon fill=\"black\" stroke=\"black\" points=\"462.4,-26.25 472.4,-22.75 462.4,-19.25 462.4,-26.25\"/>\n<text text-anchor=\"middle\" x=\"444.99\" y=\"-41.55\" font-family=\"Times,serif\" font-size=\"14.00\">1 </text>\n<text text-anchor=\"middle\" x=\"444.99\" y=\"-26.55\" font-family=\"Times,serif\" font-size=\"14.00\"> 0 </text>\n</g>\n</g>\n</svg>\n",
            "text/plain": [
              "<graphviz.dot.Digraph at 0x7fb7164c5af0>"
            ]
          },
          "metadata": {
            "tags": []
          },
          "execution_count": 17
        }
      ]
    },
    {
      "cell_type": "code",
      "metadata": {
        "run_control": {
          "frozen": false,
          "read_only": false
        },
        "id": "Jz77NkQvMTpJ",
        "outputId": "a526e02a-24d6-4612-eaa5-c915e2d4cd41"
      },
      "source": [
        "# Let's step the NFA on epsilon:   \n",
        "step_nfa(NFA_3rdlast_1, \"I\", \"\")"
      ],
      "execution_count": null,
      "outputs": [
        {
          "output_type": "execute_result",
          "data": {
            "text/plain": [
              "{'S0'}"
            ]
          },
          "metadata": {
            "tags": []
          },
          "execution_count": 18
        }
      ]
    },
    {
      "cell_type": "code",
      "metadata": {
        "run_control": {
          "frozen": false,
          "read_only": false
        },
        "id": "KpunIEmPMTpJ",
        "outputId": "a1bf823c-a89e-49a5-e6d2-3b3388e98356"
      },
      "source": [
        "# Let's step it on '0': \n",
        "step_nfa(NFA_3rdlast_1, \"I\", \"0\")"
      ],
      "execution_count": null,
      "outputs": [
        {
          "output_type": "execute_result",
          "data": {
            "text/plain": [
              "{'I'}"
            ]
          },
          "metadata": {
            "tags": []
          },
          "execution_count": 19
        }
      ]
    },
    {
      "cell_type": "code",
      "metadata": {
        "run_control": {
          "frozen": false,
          "read_only": false
        },
        "id": "R_kwpvqQMTpJ",
        "outputId": "cdfc70ce-3768-4a19-8d46-55e7631ff5e6"
      },
      "source": [
        "# Step it on a \"1\" to see two next states. That shows nondeterminism!\n",
        "step_nfa(NFA_3rdlast_1, \"I\", \"1\")  "
      ],
      "execution_count": null,
      "outputs": [
        {
          "output_type": "execute_result",
          "data": {
            "text/plain": [
              "{'I'}"
            ]
          },
          "metadata": {
            "tags": []
          },
          "execution_count": 20
        }
      ]
    },
    {
      "cell_type": "code",
      "metadata": {
        "run_control": {
          "frozen": false,
          "read_only": false
        },
        "id": "dzAdD6gNMTpL",
        "outputId": "72bb6db3-6987-4a9d-ca7f-d907a8bf7261"
      },
      "source": [
        "# What is the Eclosure of the set of states {I} ?\n",
        "Eclosure(NFA_3rdlast_1, {\"I\"})"
      ],
      "execution_count": null,
      "outputs": [
        {
          "output_type": "execute_result",
          "data": {
            "text/plain": [
              "{'I', 'S0'}"
            ]
          },
          "metadata": {
            "tags": []
          },
          "execution_count": 21
        }
      ]
    },
    {
      "cell_type": "code",
      "metadata": {
        "run_control": {
          "frozen": false,
          "read_only": false
        },
        "id": "eODnG7dLMTpL",
        "outputId": "656ccec0-853e-4a17-8a70-5edb78dc7885"
      },
      "source": [
        "help(accepts_nfa)"
      ],
      "execution_count": null,
      "outputs": [
        {
          "output_type": "stream",
          "text": [
            "Help on function accepts_nfa in module jove.Def_NFA:\n",
            "\n",
            "accepts_nfa(N, s, chatty=False)\n",
            "    NFA acceptance.\n",
            "    Input : N : given NFA\n",
            "            s : given string\n",
            "            chatty : Boolean (prints accepting path,\n",
            "                     which is the state-sets encountered).\n",
            "\n"
          ],
          "name": "stdout"
        }
      ]
    },
    {
      "cell_type": "code",
      "metadata": {
        "run_control": {
          "frozen": false,
          "read_only": false
        },
        "id": "PCVE-YzGMTpL",
        "outputId": "07436ce1-7dfa-4758-bc5a-8c8ffde5e38c"
      },
      "source": [
        "accepts_nfa(NFA_3rdlast_1, \"0100100\", chatty=True)"
      ],
      "execution_count": null,
      "outputs": [
        {
          "output_type": "stream",
          "text": [
            "States reached =  {'S0', 'I'}\n",
            "States reached =  {'S0', 'I', 'S1'}\n",
            "States reached =  {'S0', 'I', 'S2'}\n",
            "States reached =  {'F', 'S0', 'I'}\n",
            "States reached =  {'S0', 'I', 'S1'}\n",
            "States reached =  {'S0', 'I', 'S2'}\n",
            "States reached =  {'F', 'S0', 'I'}\n",
            "NFA accepts '0100100' by reaching {'F', 'S0', 'I'}\n"
          ],
          "name": "stdout"
        },
        {
          "output_type": "execute_result",
          "data": {
            "text/plain": [
              "True"
            ]
          },
          "metadata": {
            "tags": []
          },
          "execution_count": 23
        }
      ]
    },
    {
      "cell_type": "markdown",
      "metadata": {
        "run_control": {
          "frozen": false,
          "read_only": false
        },
        "id": "ZsZUgJT5MTpL"
      },
      "source": [
        "# Let us run NFA interactively via widgets\n",
        "\n",
        "We have two NFA to play with, namely nfa_ends0101 and NFA_3rdlast_1\n"
      ]
    },
    {
      "cell_type": "code",
      "metadata": {
        "run_control": {
          "frozen": false,
          "read_only": false
        },
        "id": "8DIpe1KFMTpL"
      },
      "source": [
        "import ipywidgets as wdg\n",
        "def run_nfa_slider(N, s, n):\n",
        "    \"\"\"Run NFA N from N[\"Q0\"] (which is a set..) on substring s[0:n]\n",
        "    \"\"\"\n",
        "    S = N[\"Q0\"] \n",
        "    if (n > len(s)):\n",
        "        n = len(s)\n",
        "    print(\"string = \", s[0:n])\n",
        "    run_nfa(N, S, s[0:n], True)\n",
        "    \n",
        "def run_nfa_int(N1, N2):\n",
        "    \"\"\"Run interactively from the given NFA .. from {q0} \n",
        "       on input string's substring\n",
        "       as picked by slider.\n",
        "    \"\"\"\n",
        "    inp = input(\"Please provide string: \")\n",
        "    wdg.interact(run_nfa_slider, N = {'N1': N1, 'N2': N2}, \n",
        "                 s = inp, n=(0,32))\n",
        "    \n",
        "def test_run_nfa_int(N1, N2):\n",
        "    \"\"\"Test the interactive run of NFA.\n",
        "    \"\"\"\n",
        "    run_nfa_int(N1, N2)\n",
        "\n",
        "#-- enable this later. test_run_nfa_int()"
      ],
      "execution_count": null,
      "outputs": []
    },
    {
      "cell_type": "markdown",
      "metadata": {
        "run_control": {
          "frozen": false,
          "read_only": false
        },
        "id": "JD6IARjTMTpL"
      },
      "source": [
        "## Once you run the command below, provide a string\n",
        "\n",
        "Provide a string of 0's and 1's. Then you can use the pull-down to pick the NFA\n",
        "to test, and the slider to incrementally consume more of the input string.\n"
      ]
    },
    {
      "cell_type": "code",
      "metadata": {
        "run_control": {
          "frozen": false,
          "read_only": false
        },
        "scrolled": true,
        "id": "iLoMFVTLMTpM",
        "outputId": "3977de87-2423-4f2c-bf2b-9ca3606d4246",
        "colab": {
          "referenced_widgets": [
            "1abbcfa7658445fb8b15ba51409404ad"
          ]
        }
      },
      "source": [
        "test_run_nfa_int(NFA_ends0101, NFA_3rdlast_1)"
      ],
      "execution_count": null,
      "outputs": [
        {
          "output_type": "stream",
          "text": [
            "Please provide string: 0\n"
          ],
          "name": "stdout"
        },
        {
          "output_type": "display_data",
          "data": {
            "application/vnd.jupyter.widget-view+json": {
              "model_id": "1abbcfa7658445fb8b15ba51409404ad",
              "version_major": 2,
              "version_minor": 0
            },
            "text/plain": [
              "interactive(children=(Dropdown(description='N', options={'N1': {'Q': {'S01', 'S010', 'F', 'S0', 'I'}, 'Sigma':…"
            ]
          },
          "metadata": {
            "tags": []
          }
        }
      ]
    },
    {
      "cell_type": "code",
      "metadata": {
        "id": "U-_xKRGQMTpM"
      },
      "source": [
        ""
      ],
      "execution_count": null,
      "outputs": []
    }
  ]
}