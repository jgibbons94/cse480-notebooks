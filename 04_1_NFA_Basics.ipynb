{
 "cells": [
  {
   "cell_type": "markdown",
   "metadata": {
    "run_control": {
     "frozen": false,
     "read_only": false
    }
   },
   "source": [
    "# NFA Basics\n",
    "\n",
    "You may wish to watch Ganesh's lecture on NFA a little, then play with the\n",
    "code below, and then finish watching."
   ]
  },
  {
   "cell_type": "code",
   "execution_count": 1,
   "metadata": {
    "run_control": {
     "frozen": false,
     "read_only": false
    }
   },
   "outputs": [
    {
     "data": {
      "image/jpeg": "[encoded data removed]",
      "text/html": [
       "\n",
       "        <iframe\n",
       "            width=\"400\"\n",
       "            height=\"300\"\n",
       "            src=\"https://www.youtube.com/embed/xjFtLF95uBc\"\n",
       "            frameborder=\"0\"\n",
       "            allowfullscreen\n",
       "        ></iframe>\n",
       "        "
      ],
      "text/plain": [
       "<IPython.lib.display.YouTubeVideo at 0x7fb716ebb580>"
      ]
     },
     "execution_count": 1,
     "metadata": {},
     "output_type": "execute_result"
    }
   ],
   "source": [
    "# This Youtube video walks through this notebook\n",
    "from IPython.display import YouTubeVideo\n",
    "YouTubeVideo('xjFtLF95uBc')"
   ]
  },
  {
   "cell_type": "code",
   "execution_count": 2,
   "metadata": {
    "run_control": {
     "frozen": false,
     "read_only": false
    }
   },
   "outputs": [
    {
     "name": "stdout",
     "output_type": "stream",
     "text": [
      "You may use any of these help commands:\n",
      "help(ResetStNum)\n",
      "help(NxtStateStr)\n",
      "\n",
      "You may use any of these help commands:\n",
      "help(md2mc)\n",
      ".. and if you want to dig more, then ..\n",
      "help(default_line_attr)\n",
      "help(length_ok_input_items)\n",
      "help(union_line_attr_list_fld)\n",
      "help(extend_rsltdict)\n",
      "help(form_delta)\n",
      "help(get_machine_components)\n",
      "\n",
      "You may use any of these help commands:\n",
      "help(mkp_dfa)\n",
      "help(mk_dfa)\n",
      "help(totalize_dfa)\n",
      "help(addtosigma_delta)\n",
      "help(step_dfa)\n",
      "help(run_dfa)\n",
      "help(accepts_dfa)\n",
      "help(comp_dfa)\n",
      "help(union_dfa)\n",
      "help(intersect_dfa)\n",
      "help(pruneUnreach)\n",
      "help(iso_dfa)\n",
      "help(langeq_dfa)\n",
      "help(same_status)\n",
      "help(h_langeq_dfa)\n",
      "help(fixptDist)\n",
      "help(min_dfa)\n",
      "help(pairFR)\n",
      "help(state_combos)\n",
      "help(sepFinNonFin)\n",
      "help(bash_eql_classes)\n",
      "help(listminus)\n",
      "help(bash_1)\n",
      "help(mk_rep_eqc)\n",
      "help(F_of)\n",
      "help(rep_of_s)\n",
      "help(q0_of)\n",
      "help(Delta_of)\n",
      "help(mk_state_eqc_name)\n",
      "\n",
      "You may use any of these help commands:\n",
      "help(mk_nfa)\n",
      "help(totalize_nfa)\n",
      "help(step_nfa)\n",
      "help(run_nfa)\n",
      "help(ec_step_nfa)\n",
      "help(Eclosure)\n",
      "help(Echelp)\n",
      "help(accepts_nfa)\n",
      "help(nfa2dfa)\n",
      "help(n2d)\n",
      "help(inSets)\n",
      "help(rev_dfa)\n",
      "help(min_dfa_brz)\n",
      "\n",
      " \"help(AnimateNFA)\" gives you info on how to use animations with NFA \n"
     ]
    }
   ],
   "source": [
    "#~~~~~~~~~~~~~~~~~~~~~~~~~~~~~~~~~~~~~~~~~~~~~~~~~~~~~~~\n",
    "import sys\n",
    "\n",
    "# -- Detect if in Own Install or in Colab\n",
    "try:\n",
    "    import google.colab\n",
    "    OWN_INSTALL = False\n",
    "except:\n",
    "    OWN_INSTALL = True\n",
    "    \n",
    "if OWN_INSTALL:\n",
    "    \n",
    "  #---- Leave these definitions ON if running on laptop\n",
    "  #---- Else turn OFF by putting them between ''' ... '''\n",
    "\n",
    "  sys.path[0:0] = ['../../../../..',  '../../../../../3rdparty',  \n",
    "                   '../../../..',  '../../../../3rdparty',  \n",
    "                   '../../..',     '../../../3rdparty', \n",
    "                   '../..',        '../../3rdparty',\n",
    "                   '..',           '../3rdparty' ]\n",
    "\n",
    "else: # In colab\n",
    "  ! if [ ! -d Jove ]; then git clone https://github.com/ganeshutah/Jove Jove; fi\n",
    "  sys.path.append('./Jove')\n",
    "  sys.path.append('./Jove/jove')\n",
    "\n",
    "# -- common imports --\n",
    "from jove.DotBashers import *\n",
    "from jove.Def_md2mc  import *\n",
    "from jove.Def_NFA    import *\n",
    "from jove.Def_DFA    import *\n",
    "from jove.AnimateNFA import *\n",
    "#~~~~~~~~~~~~~~~~~~~~~~~~~~~~~~~~~~~~~~~~~~~~~~~~~~~~~~~"
   ]
  },
  {
   "cell_type": "markdown",
   "metadata": {},
   "source": [
    "# This NFA checks whether a string has \"01\" in it."
   ]
  },
  {
   "cell_type": "code",
   "execution_count": 3,
   "metadata": {},
   "outputs": [],
   "source": [
    "nfahas01 = md2mc('''\n",
    "NFA \n",
    "I : 0 | 1 -> I\n",
    "I : '' -> A\n",
    "A : 0  -> B\n",
    "B : 1  -> C\n",
    "C : 0 | 1 -> C\n",
    "C : '' -> F\n",
    "''')"
   ]
  },
  {
   "cell_type": "markdown",
   "metadata": {},
   "source": [
    "## This example is highly worth studying via animations.\n",
    "\n",
    "Put it in animate mode, and then single-step to see the EClosure of states"
   ]
  },
  {
   "cell_type": "code",
   "execution_count": 4,
   "metadata": {},
   "outputs": [
    {
     "data": {
      "application/vnd.jupyter.widget-view+json": {
       "model_id": "5214b39528864f659c9af476a11483fa",
       "version_major": 2,
       "version_minor": 0
      },
      "text/plain": [
       "VBox(children=(HBox(children=(Text(value='', description='Input:', layout=Layout(width='500px'), placeholder='…"
      ]
     },
     "metadata": {},
     "output_type": "display_data"
    },
    {
     "data": {
      "text/html": [
       "<link rel=\"stylesheet\" href=\"//stackpath.bootstrapcdn.com/font-awesome/4.7.0/css/font-awesome.min.css\"/>"
      ],
      "text/plain": [
       "<IPython.core.display.HTML object>"
      ]
     },
     "metadata": {},
     "output_type": "display_data"
    }
   ],
   "source": [
    "AnimateNFA(nfahas01, FuseEdges=False)\n",
    "display(HTML('<link rel=\\\"stylesheet\\\" href=\\\"//stackpath.bootstrapcdn.com/font-awesome/4.7.0/css/font-awesome.min.css\\\"/>'))"
   ]
  },
  {
   "cell_type": "markdown",
   "metadata": {},
   "source": [
    "# This is an example from Figure 7.7 of the book.\n",
    "\n",
    "Presented in two different ways: one with a single initial state, and \n",
    "another with multiple initial states. Fig77 is the single initial state version, and\n",
    "Fig77a is with multiple initial states."
   ]
  },
  {
   "cell_type": "code",
   "execution_count": 5,
   "metadata": {},
   "outputs": [],
   "source": [
    "Fig77 = md2mc('''NFA\n",
    "I : '' -> A, G\n",
    "A : '' -> B, C\n",
    "G : 1  -> F\n",
    "B : 1  -> D\n",
    "C : 0  -> E\n",
    "D : '' -> A, G\n",
    "E : '' -> A, G\n",
    "''')"
   ]
  },
  {
   "cell_type": "code",
   "execution_count": 6,
   "metadata": {},
   "outputs": [
    {
     "data": {
      "application/vnd.jupyter.widget-view+json": {
       "model_id": "f92bd8fb5a4244d2bea24d1ca7c189a7",
       "version_major": 2,
       "version_minor": 0
      },
      "text/plain": [
       "VBox(children=(HBox(children=(Text(value='', description='Input:', layout=Layout(width='500px'), placeholder='…"
      ]
     },
     "metadata": {},
     "output_type": "display_data"
    },
    {
     "data": {
      "text/html": [
       "<link rel=\"stylesheet\" href=\"//stackpath.bootstrapcdn.com/font-awesome/4.7.0/css/font-awesome.min.css\"/>"
      ],
      "text/plain": [
       "<IPython.core.display.HTML object>"
      ]
     },
     "metadata": {},
     "output_type": "display_data"
    }
   ],
   "source": [
    "AnimateNFA(Fig77, FuseEdges=False)\n",
    "display(HTML('<link rel=\\\"stylesheet\\\" href=\\\"//stackpath.bootstrapcdn.com/font-awesome/4.7.0/css/font-awesome.min.css\\\"/>'))"
   ]
  },
  {
   "cell_type": "code",
   "execution_count": 7,
   "metadata": {},
   "outputs": [],
   "source": [
    "Fig77a = md2mc('''NFA\n",
    "IA : '' -> B, C\n",
    "IG : 1  -> F\n",
    "B : 1  -> D\n",
    "C : 0  -> E\n",
    "D : '' -> IA, IG\n",
    "E : '' -> IA, IG\n",
    "''')"
   ]
  },
  {
   "cell_type": "code",
   "execution_count": 8,
   "metadata": {},
   "outputs": [
    {
     "data": {
      "image/svg+xml": [
       "<?xml version=\"1.0\" encoding=\"UTF-8\" standalone=\"no\"?>\n",
       "<!DOCTYPE svg PUBLIC \"-//W3C//DTD SVG 1.1//EN\"\n",
       " \"http://www.w3.org/Graphics/SVG/1.1/DTD/svg11.dtd\">\n",
       "<!-- Generated by graphviz version 2.42.3 (20191010.1750)\n",
       " -->\n",
       "<!-- Title: %3 Pages: 1 -->\n",
       "<svg width=\"498pt\" height=\"206pt\"\n",
       " viewBox=\"0.00 0.00 497.89 205.97\" xmlns=\"http://www.w3.org/2000/svg\" xmlns:xlink=\"http://www.w3.org/1999/xlink\">\n",
       "<g id=\"graph0\" class=\"graph\" transform=\"scale(1 1) rotate(0) translate(4 201.97)\">\n",
       "<title>%3</title>\n",
       "<polygon fill=\"white\" stroke=\"transparent\" points=\"-4,4 -4,-201.97 493.89,-201.97 493.89,4 -4,4\"/>\n",
       "<!-- EMPTY -->\n",
       "<g id=\"node1\" class=\"node\">\n",
       "<title>EMPTY</title>\n",
       "</g>\n",
       "<!-- IG -->\n",
       "<g id=\"node3\" class=\"node\">\n",
       "<title>IG</title>\n",
       "<ellipse fill=\"none\" stroke=\"black\" cx=\"374.44\" cy=\"-132.97\" rx=\"21.4\" ry=\"21.4\"/>\n",
       "<text text-anchor=\"middle\" x=\"374.44\" y=\"-129.27\" font-family=\"Times,serif\" font-size=\"14.00\">IG</text>\n",
       "</g>\n",
       "<!-- EMPTY&#45;&gt;IG -->\n",
       "<g id=\"edge2\" class=\"edge\">\n",
       "<title>EMPTY&#45;&gt;IG</title>\n",
       "<path fill=\"none\" stroke=\"black\" d=\"M45.94,-167.21C61.62,-181.15 85.74,-197.97 110.8,-197.97 110.8,-197.97 110.8,-197.97 286.79,-197.97 314.35,-197.97 338.76,-176.67 354.58,-158.45\"/>\n",
       "<polygon fill=\"black\" stroke=\"black\" points=\"357.57,-160.33 361.23,-150.39 352.17,-155.88 357.57,-160.33\"/>\n",
       "</g>\n",
       "<!-- IA -->\n",
       "<g id=\"node5\" class=\"node\">\n",
       "<title>IA</title>\n",
       "<ellipse fill=\"none\" stroke=\"black\" cx=\"111.8\" cy=\"-100.97\" rx=\"20.6\" ry=\"20.6\"/>\n",
       "<text text-anchor=\"middle\" x=\"111.8\" y=\"-97.27\" font-family=\"Times,serif\" font-size=\"14.00\">IA</text>\n",
       "</g>\n",
       "<!-- EMPTY&#45;&gt;IA -->\n",
       "<g id=\"edge1\" class=\"edge\">\n",
       "<title>EMPTY&#45;&gt;IA</title>\n",
       "<path fill=\"none\" stroke=\"black\" d=\"M54.2,-133.78C63.89,-128.16 74.88,-121.79 84.57,-116.17\"/>\n",
       "<polygon fill=\"black\" stroke=\"black\" points=\"86.49,-119.1 93.39,-111.06 82.98,-113.05 86.49,-119.1\"/>\n",
       "</g>\n",
       "<!-- B -->\n",
       "<g id=\"node2\" class=\"node\">\n",
       "<title>B</title>\n",
       "<ellipse fill=\"none\" stroke=\"black\" cx=\"199.6\" cy=\"-100.97\" rx=\"18\" ry=\"18\"/>\n",
       "<text text-anchor=\"middle\" x=\"199.6\" y=\"-97.27\" font-family=\"Times,serif\" font-size=\"14.00\">B</text>\n",
       "</g>\n",
       "<!-- D -->\n",
       "<g id=\"node7\" class=\"node\">\n",
       "<title>D</title>\n",
       "<ellipse fill=\"none\" stroke=\"black\" cx=\"285.79\" cy=\"-132.97\" rx=\"18.4\" ry=\"18.4\"/>\n",
       "<text text-anchor=\"middle\" x=\"285.79\" y=\"-129.27\" font-family=\"Times,serif\" font-size=\"14.00\">D</text>\n",
       "</g>\n",
       "<!-- B&#45;&gt;D -->\n",
       "<g id=\"edge6\" class=\"edge\">\n",
       "<title>B&#45;&gt;D</title>\n",
       "<path fill=\"none\" stroke=\"black\" d=\"M216.83,-107.14C228.83,-111.7 245.4,-118 259.18,-123.23\"/>\n",
       "<polygon fill=\"black\" stroke=\"black\" points=\"258.02,-126.54 268.61,-126.82 260.51,-119.99 258.02,-126.54\"/>\n",
       "<text text-anchor=\"middle\" x=\"242.6\" y=\"-122.77\" font-family=\"Times,serif\" font-size=\"14.00\">1 </text>\n",
       "</g>\n",
       "<!-- F -->\n",
       "<g id=\"node8\" class=\"node\">\n",
       "<title>F</title>\n",
       "<ellipse fill=\"none\" stroke=\"black\" cx=\"467.89\" cy=\"-132.97\" rx=\"18\" ry=\"18\"/>\n",
       "<ellipse fill=\"none\" stroke=\"black\" cx=\"467.89\" cy=\"-132.97\" rx=\"22\" ry=\"22\"/>\n",
       "<text text-anchor=\"middle\" x=\"467.89\" y=\"-129.27\" font-family=\"Times,serif\" font-size=\"14.00\">F</text>\n",
       "</g>\n",
       "<!-- IG&#45;&gt;F -->\n",
       "<g id=\"edge5\" class=\"edge\">\n",
       "<title>IG&#45;&gt;F</title>\n",
       "<path fill=\"none\" stroke=\"black\" d=\"M396.19,-132.97C407.72,-132.97 422.3,-132.97 435.22,-132.97\"/>\n",
       "<polygon fill=\"black\" stroke=\"black\" points=\"435.59,-136.47 445.59,-132.97 435.59,-129.47 435.59,-136.47\"/>\n",
       "<text text-anchor=\"middle\" x=\"420.89\" y=\"-136.77\" font-family=\"Times,serif\" font-size=\"14.00\">1 </text>\n",
       "</g>\n",
       "<!-- C -->\n",
       "<g id=\"node4\" class=\"node\">\n",
       "<title>C</title>\n",
       "<ellipse fill=\"none\" stroke=\"black\" cx=\"199.6\" cy=\"-46.97\" rx=\"18\" ry=\"18\"/>\n",
       "<text text-anchor=\"middle\" x=\"199.6\" y=\"-43.27\" font-family=\"Times,serif\" font-size=\"14.00\">C</text>\n",
       "</g>\n",
       "<!-- E -->\n",
       "<g id=\"node6\" class=\"node\">\n",
       "<title>E</title>\n",
       "<ellipse fill=\"none\" stroke=\"black\" cx=\"285.79\" cy=\"-46.97\" rx=\"18\" ry=\"18\"/>\n",
       "<text text-anchor=\"middle\" x=\"285.79\" y=\"-43.27\" font-family=\"Times,serif\" font-size=\"14.00\">E</text>\n",
       "</g>\n",
       "<!-- C&#45;&gt;E -->\n",
       "<g id=\"edge7\" class=\"edge\">\n",
       "<title>C&#45;&gt;E</title>\n",
       "<path fill=\"none\" stroke=\"black\" d=\"M217.64,-46.97C229.05,-46.97 244.32,-46.97 257.42,-46.97\"/>\n",
       "<polygon fill=\"black\" stroke=\"black\" points=\"257.78,-50.47 267.78,-46.97 257.78,-43.47 257.78,-50.47\"/>\n",
       "<text text-anchor=\"middle\" x=\"242.6\" y=\"-50.77\" font-family=\"Times,serif\" font-size=\"14.00\">0 </text>\n",
       "</g>\n",
       "<!-- IA&#45;&gt;B -->\n",
       "<g id=\"edge3\" class=\"edge\">\n",
       "<title>IA&#45;&gt;B</title>\n",
       "<path fill=\"none\" stroke=\"black\" d=\"M132.7,-100.97C144.11,-100.97 158.6,-100.97 171.09,-100.97\"/>\n",
       "<polygon fill=\"black\" stroke=\"black\" points=\"171.41,-104.47 181.41,-100.97 171.41,-97.47 171.41,-104.47\"/>\n",
       "<text text-anchor=\"middle\" x=\"157.1\" y=\"-104.77\" font-family=\"Times,serif\" font-size=\"14.00\">&#39;&#39; </text>\n",
       "</g>\n",
       "<!-- IA&#45;&gt;C -->\n",
       "<g id=\"edge4\" class=\"edge\">\n",
       "<title>IA&#45;&gt;C</title>\n",
       "<path fill=\"none\" stroke=\"black\" d=\"M129.75,-90.3C142.73,-82.13 160.79,-70.77 175.15,-61.73\"/>\n",
       "<polygon fill=\"black\" stroke=\"black\" points=\"177.37,-64.47 183.97,-56.18 173.64,-58.54 177.37,-64.47\"/>\n",
       "<text text-anchor=\"middle\" x=\"157.1\" y=\"-79.77\" font-family=\"Times,serif\" font-size=\"14.00\">&#39;&#39; </text>\n",
       "</g>\n",
       "<!-- E&#45;&gt;IG -->\n",
       "<g id=\"edge11\" class=\"edge\">\n",
       "<title>E&#45;&gt;IG</title>\n",
       "<path fill=\"none\" stroke=\"black\" d=\"M299.21,-59.29C312.76,-72.74 334.74,-94.55 351.27,-110.96\"/>\n",
       "<polygon fill=\"black\" stroke=\"black\" points=\"348.87,-113.51 358.43,-118.07 353.8,-108.54 348.87,-113.51\"/>\n",
       "<text text-anchor=\"middle\" x=\"328.49\" y=\"-96.77\" font-family=\"Times,serif\" font-size=\"14.00\">&#39;&#39; </text>\n",
       "</g>\n",
       "<!-- E&#45;&gt;IA -->\n",
       "<g id=\"edge10\" class=\"edge\">\n",
       "<title>E&#45;&gt;IA</title>\n",
       "<path fill=\"none\" stroke=\"black\" d=\"M272.09,-34.73C252.29,-17.21 213.08,11.2 181.6,-4.97 154.31,-18.99 135.41,-49.41 124.43,-72.28\"/>\n",
       "<polygon fill=\"black\" stroke=\"black\" points=\"121.17,-70.99 120.2,-81.54 127.53,-73.9 121.17,-70.99\"/>\n",
       "<text text-anchor=\"middle\" x=\"199.6\" y=\"-8.77\" font-family=\"Times,serif\" font-size=\"14.00\">&#39;&#39; </text>\n",
       "</g>\n",
       "<!-- D&#45;&gt;IG -->\n",
       "<g id=\"edge9\" class=\"edge\">\n",
       "<title>D&#45;&gt;IG</title>\n",
       "<path fill=\"none\" stroke=\"black\" d=\"M304.33,-132.97C315.3,-132.97 329.74,-132.97 342.59,-132.97\"/>\n",
       "<polygon fill=\"black\" stroke=\"black\" points=\"342.89,-136.47 352.89,-132.97 342.89,-129.47 342.89,-136.47\"/>\n",
       "<text text-anchor=\"middle\" x=\"328.49\" y=\"-136.77\" font-family=\"Times,serif\" font-size=\"14.00\">&#39;&#39; </text>\n",
       "</g>\n",
       "<!-- D&#45;&gt;IA -->\n",
       "<g id=\"edge8\" class=\"edge\">\n",
       "<title>D&#45;&gt;IA</title>\n",
       "<path fill=\"none\" stroke=\"black\" d=\"M267.5,-136.36C258.07,-137.8 246.2,-138.94 235.6,-137.97 197.14,-134.44 186.75,-133.54 150.6,-119.97 147.02,-118.62 143.33,-117.04 139.73,-115.37\"/>\n",
       "<polygon fill=\"black\" stroke=\"black\" points=\"141.04,-112.12 130.52,-110.86 137.96,-118.4 141.04,-112.12\"/>\n",
       "<text text-anchor=\"middle\" x=\"199.6\" y=\"-140.77\" font-family=\"Times,serif\" font-size=\"14.00\">&#39;&#39; </text>\n",
       "</g>\n",
       "</g>\n",
       "</svg>\n"
      ],
      "text/plain": [
       "<graphviz.dot.Digraph at 0x7fb71665fa30>"
      ]
     },
     "execution_count": 8,
     "metadata": {},
     "output_type": "execute_result"
    }
   ],
   "source": [
    "dotObj_nfa(Fig77a)"
   ]
  },
  {
   "cell_type": "code",
   "execution_count": 9,
   "metadata": {},
   "outputs": [
    {
     "data": {
      "image/svg+xml": [
       "<?xml version=\"1.0\" encoding=\"UTF-8\" standalone=\"no\"?>\n",
       "<!DOCTYPE svg PUBLIC \"-//W3C//DTD SVG 1.1//EN\"\n",
       " \"http://www.w3.org/Graphics/SVG/1.1/DTD/svg11.dtd\">\n",
       "<!-- Generated by graphviz version 2.42.3 (20191010.1750)\n",
       " -->\n",
       "<!-- Title: %3 Pages: 1 -->\n",
       "<svg width=\"623pt\" height=\"255pt\"\n",
       " viewBox=\"0.00 0.00 622.96 255.39\" xmlns=\"http://www.w3.org/2000/svg\" xmlns:xlink=\"http://www.w3.org/1999/xlink\">\n",
       "<g id=\"graph0\" class=\"graph\" transform=\"scale(1 1) rotate(0) translate(4 251.39)\">\n",
       "<title>%3</title>\n",
       "<polygon fill=\"white\" stroke=\"transparent\" points=\"-4,4 -4,-251.39 618.96,-251.39 618.96,4 -4,4\"/>\n",
       "<!-- EMPTY -->\n",
       "<g id=\"node1\" class=\"node\">\n",
       "<title>EMPTY</title>\n",
       "</g>\n",
       "<!-- B_C_IA_IG -->\n",
       "<g id=\"node3\" class=\"node\">\n",
       "<title>B_C_IA_IG</title>\n",
       "<ellipse fill=\"none\" stroke=\"black\" cx=\"148.84\" cy=\"-57.84\" rx=\"57.69\" ry=\"57.69\"/>\n",
       "<text text-anchor=\"middle\" x=\"148.84\" y=\"-54.14\" font-family=\"Times,serif\" font-size=\"14.00\">B_C_IA_IG</text>\n",
       "</g>\n",
       "<!-- EMPTY&#45;&gt;B_C_IA_IG -->\n",
       "<g id=\"edge1\" class=\"edge\">\n",
       "<title>EMPTY&#45;&gt;B_C_IA_IG</title>\n",
       "<path fill=\"none\" stroke=\"black\" d=\"M54,-57.84C61.99,-57.84 71.18,-57.84 80.61,-57.84\"/>\n",
       "<polygon fill=\"black\" stroke=\"black\" points=\"80.9,-61.34 90.9,-57.84 80.9,-54.34 80.9,-61.34\"/>\n",
       "</g>\n",
       "<!-- B_C_E_IA_IG -->\n",
       "<g id=\"node2\" class=\"node\">\n",
       "<title>B_C_E_IA_IG</title>\n",
       "<ellipse fill=\"none\" stroke=\"black\" cx=\"326.23\" cy=\"-144.84\" rx=\"69.59\" ry=\"69.59\"/>\n",
       "<text text-anchor=\"middle\" x=\"326.23\" y=\"-141.14\" font-family=\"Times,serif\" font-size=\"14.00\">B_C_E_IA_IG</text>\n",
       "</g>\n",
       "<!-- B_C_E_IA_IG&#45;&gt;B_C_E_IA_IG -->\n",
       "<g id=\"edge7\" class=\"edge\">\n",
       "<title>B_C_E_IA_IG&#45;&gt;B_C_E_IA_IG</title>\n",
       "<path fill=\"none\" stroke=\"black\" d=\"M309.78,-212.75C312.03,-224.35 317.51,-232.39 326.23,-232.39 332.23,-232.39 336.69,-228.59 339.63,-222.45\"/>\n",
       "<polygon fill=\"black\" stroke=\"black\" points=\"343.02,-223.34 342.69,-212.75 336.34,-221.24 343.02,-223.34\"/>\n",
       "<text text-anchor=\"middle\" x=\"326.23\" y=\"-236.19\" font-family=\"Times,serif\" font-size=\"14.00\">0 </text>\n",
       "</g>\n",
       "<!-- B_C_D_F_IA_IG -->\n",
       "<g id=\"node4\" class=\"node\">\n",
       "<title>B_C_D_F_IA_IG</title>\n",
       "<ellipse fill=\"none\" stroke=\"black\" cx=\"530.37\" cy=\"-106.84\" rx=\"80.68\" ry=\"80.68\"/>\n",
       "<ellipse fill=\"none\" stroke=\"black\" cx=\"530.37\" cy=\"-106.84\" rx=\"84.69\" ry=\"84.69\"/>\n",
       "<text text-anchor=\"middle\" x=\"530.37\" y=\"-103.14\" font-family=\"Times,serif\" font-size=\"14.00\">B_C_D_F_IA_IG</text>\n",
       "</g>\n",
       "<!-- B_C_E_IA_IG&#45;&gt;B_C_D_F_IA_IG -->\n",
       "<g id=\"edge6\" class=\"edge\">\n",
       "<title>B_C_E_IA_IG&#45;&gt;B_C_D_F_IA_IG</title>\n",
       "<path fill=\"none\" stroke=\"black\" d=\"M394.82,-132.14C408.44,-129.58 422.97,-126.85 437.25,-124.16\"/>\n",
       "<polygon fill=\"black\" stroke=\"black\" points=\"437.91,-127.6 447.09,-122.31 436.62,-120.72 437.91,-127.6\"/>\n",
       "<text text-anchor=\"middle\" x=\"420.78\" y=\"-132.64\" font-family=\"Times,serif\" font-size=\"14.00\">1 </text>\n",
       "</g>\n",
       "<!-- B_C_IA_IG&#45;&gt;B_C_E_IA_IG -->\n",
       "<g id=\"edge3\" class=\"edge\">\n",
       "<title>B_C_IA_IG&#45;&gt;B_C_E_IA_IG</title>\n",
       "<path fill=\"none\" stroke=\"black\" d=\"M201.05,-83.24C217.75,-91.53 236.6,-100.88 254.48,-109.75\"/>\n",
       "<polygon fill=\"black\" stroke=\"black\" points=\"253.21,-113.03 263.72,-114.33 256.32,-106.75 253.21,-113.03\"/>\n",
       "<text text-anchor=\"middle\" x=\"231.69\" y=\"-105.64\" font-family=\"Times,serif\" font-size=\"14.00\">0 </text>\n",
       "</g>\n",
       "<!-- B_C_IA_IG&#45;&gt;B_C_D_F_IA_IG -->\n",
       "<g id=\"edge2\" class=\"edge\">\n",
       "<title>B_C_IA_IG&#45;&gt;B_C_D_F_IA_IG</title>\n",
       "<path fill=\"none\" stroke=\"black\" d=\"M206.13,-49.1C256.38,-42.98 331.71,-37.96 395.78,-50.84 412.16,-54.14 429.04,-59.5 445.06,-65.63\"/>\n",
       "<polygon fill=\"black\" stroke=\"black\" points=\"443.79,-68.89 454.38,-69.31 446.37,-62.38 443.79,-68.89\"/>\n",
       "<text text-anchor=\"middle\" x=\"326.23\" y=\"-54.64\" font-family=\"Times,serif\" font-size=\"14.00\">1 </text>\n",
       "</g>\n",
       "<!-- B_C_D_F_IA_IG&#45;&gt;B_C_E_IA_IG -->\n",
       "<g id=\"edge5\" class=\"edge\">\n",
       "<title>B_C_D_F_IA_IG&#45;&gt;B_C_E_IA_IG</title>\n",
       "<path fill=\"none\" stroke=\"black\" d=\"M445.61,-103.66C434.83,-104.4 423.99,-105.71 413.78,-107.84 408.81,-108.89 403.77,-110.22 398.75,-111.76\"/>\n",
       "<polygon fill=\"black\" stroke=\"black\" points=\"397.53,-108.47 389.15,-114.95 399.74,-115.12 397.53,-108.47\"/>\n",
       "<text text-anchor=\"middle\" x=\"420.78\" y=\"-111.64\" font-family=\"Times,serif\" font-size=\"14.00\">0 </text>\n",
       "</g>\n",
       "<!-- B_C_D_F_IA_IG&#45;&gt;B_C_D_F_IA_IG -->\n",
       "<g id=\"edge4\" class=\"edge\">\n",
       "<title>B_C_D_F_IA_IG&#45;&gt;B_C_D_F_IA_IG</title>\n",
       "<path fill=\"none\" stroke=\"black\" d=\"M512.2,-189.77C515.14,-201.54 521.19,-209.44 530.37,-209.44 536.68,-209.44 541.51,-205.7 544.87,-199.55\"/>\n",
       "<polygon fill=\"black\" stroke=\"black\" points=\"548.31,-200.36 548.54,-189.77 541.75,-197.9 548.31,-200.36\"/>\n",
       "<text text-anchor=\"middle\" x=\"530.37\" y=\"-213.24\" font-family=\"Times,serif\" font-size=\"14.00\">1 </text>\n",
       "</g>\n",
       "</g>\n",
       "</svg>\n"
      ],
      "text/plain": [
       "<graphviz.dot.Digraph at 0x7fb716568ac0>"
      ]
     },
     "execution_count": 9,
     "metadata": {},
     "output_type": "execute_result"
    }
   ],
   "source": [
    "dotObj_dfa(nfa2dfa(Fig77a, STATENAME_MAXSIZE=50), STATENAME_MAXSIZE=50)"
   ]
  },
  {
   "cell_type": "code",
   "execution_count": 10,
   "metadata": {
    "run_control": {
     "frozen": false,
     "read_only": false
    }
   },
   "outputs": [],
   "source": [
    "# Our automd markdown works for NFA also. Here is the NFA for\n",
    "# the language \"ends in 0101\"\n",
    "\n",
    "NFA_ends0101 = md2mc(''' \n",
    "!!---------------------------------------------------------------------------\n",
    "!! This NFA looks for patterns of the form \n",
    "!!\n",
    "!!     ......<some 0's and 1's>.....0101\n",
    "!!\n",
    "!! i.e., all strings that end in 0101.\n",
    "!!\n",
    "!! This example (over and above thirdlastis1.nfa) also illustrates\n",
    "!! the power of nondeterminism. Anytime we see a 0 from state I, we\n",
    "!! can have the NFA speculate that it is seeing the beginning of a\n",
    "!! 0101 pattern! If the NFA fails in its guess, it pays no price\n",
    "!! (because another guess is soon coming from behind).\n",
    "!!\n",
    "!! * We take 4 states in the NFA solution. The DFA solution takes\n",
    "!!   5 states.\n",
    "!!\n",
    "!! * This shows how burden is shifted from the\n",
    "!!   human to the computer doing the NFA simulation.\n",
    "!!   Even though the savings in states is not dramatic,\n",
    "!!   the effort to build this NFA is much lower than building\n",
    "!!   the corresponding DFA.\n",
    "!! \n",
    "!!-----------------------------------------------------------------\n",
    "!! For NFA, each line can be as follows:\n",
    "!!\n",
    "!! State : in1 | in2 ...  ->  COmma, Separated, State, List  !! comment\n",
    "!!-----------------------------------------------------------------\n",
    "\n",
    "NFA\n",
    "\n",
    "I    : 1   -> I      !! I goes to I upon 1\n",
    "\n",
    "I    : 0   -> S0, I  !! I goes to S0 and I upon 0\n",
    "\n",
    "S0   : 1   -> S01    !! S0 goes to S01 upon 1\n",
    "\n",
    "S01  : 0   -> S010   !! S01 goes to S010 upon 0\n",
    "\n",
    "S010 : 1   -> F      !! S010 goes to F upon F\n",
    "\n",
    "!!---\n",
    "''')"
   ]
  },
  {
   "cell_type": "code",
   "execution_count": 11,
   "metadata": {
    "run_control": {
     "frozen": false,
     "read_only": false
    }
   },
   "outputs": [
    {
     "data": {
      "text/plain": [
       "{'Q': {'F', 'I', 'S0', 'S01', 'S010'},\n",
       " 'Sigma': {'0', '1'},\n",
       " 'Delta': {('I', '1'): {'I'},\n",
       "  ('I', '0'): {'I', 'S0'},\n",
       "  ('S0', '1'): {'S01'},\n",
       "  ('S01', '0'): {'S010'},\n",
       "  ('S010', '1'): {'F'}},\n",
       " 'Q0': {'I'},\n",
       " 'F': {'F'}}"
      ]
     },
     "execution_count": 11,
     "metadata": {},
     "output_type": "execute_result"
    }
   ],
   "source": [
    "# Now let us see the dict version of the NFA\n",
    "NFA_ends0101 "
   ]
  },
  {
   "cell_type": "code",
   "execution_count": 12,
   "metadata": {
    "run_control": {
     "frozen": false,
     "read_only": false
    }
   },
   "outputs": [
    {
     "data": {
      "image/svg+xml": [
       "<?xml version=\"1.0\" encoding=\"UTF-8\" standalone=\"no\"?>\n",
       "<!DOCTYPE svg PUBLIC \"-//W3C//DTD SVG 1.1//EN\"\n",
       " \"http://www.w3.org/Graphics/SVG/1.1/DTD/svg11.dtd\">\n",
       "<!-- Generated by graphviz version 2.42.3 (20191010.1750)\n",
       " -->\n",
       "<!-- Title: %3 Pages: 1 -->\n",
       "<svg width=\"551pt\" height=\"126pt\"\n",
       " viewBox=\"0.00 0.00 550.58 126.45\" xmlns=\"http://www.w3.org/2000/svg\" xmlns:xlink=\"http://www.w3.org/1999/xlink\">\n",
       "<g id=\"graph0\" class=\"graph\" transform=\"scale(1 1) rotate(0) translate(4 122.45)\">\n",
       "<title>%3</title>\n",
       "<polygon fill=\"white\" stroke=\"transparent\" points=\"-4,4 -4,-122.45 546.58,-122.45 546.58,4 -4,4\"/>\n",
       "<!-- EMPTY -->\n",
       "<g id=\"node1\" class=\"node\">\n",
       "<title>EMPTY</title>\n",
       "</g>\n",
       "<!-- I -->\n",
       "<g id=\"node4\" class=\"node\">\n",
       "<title>I</title>\n",
       "<ellipse fill=\"none\" stroke=\"black\" cx=\"109\" cy=\"-34.45\" rx=\"18\" ry=\"18\"/>\n",
       "<text text-anchor=\"middle\" x=\"109\" y=\"-30.75\" font-family=\"Times,serif\" font-size=\"14.00\">I</text>\n",
       "</g>\n",
       "<!-- EMPTY&#45;&gt;I -->\n",
       "<g id=\"edge1\" class=\"edge\">\n",
       "<title>EMPTY&#45;&gt;I</title>\n",
       "<path fill=\"none\" stroke=\"black\" d=\"M54.19,-34.45C62.65,-34.45 72.05,-34.45 80.6,-34.45\"/>\n",
       "<polygon fill=\"black\" stroke=\"black\" points=\"80.83,-37.95 90.83,-34.45 80.83,-30.95 80.83,-37.95\"/>\n",
       "</g>\n",
       "<!-- S01 -->\n",
       "<g id=\"node2\" class=\"node\">\n",
       "<title>S01</title>\n",
       "<ellipse fill=\"none\" stroke=\"black\" cx=\"301.09\" cy=\"-34.45\" rx=\"28.7\" ry=\"28.7\"/>\n",
       "<text text-anchor=\"middle\" x=\"301.09\" y=\"-30.75\" font-family=\"Times,serif\" font-size=\"14.00\">S01</text>\n",
       "</g>\n",
       "<!-- S010 -->\n",
       "<g id=\"node3\" class=\"node\">\n",
       "<title>S010</title>\n",
       "<ellipse fill=\"none\" stroke=\"black\" cx=\"414.14\" cy=\"-34.45\" rx=\"34.39\" ry=\"34.39\"/>\n",
       "<text text-anchor=\"middle\" x=\"414.14\" y=\"-30.75\" font-family=\"Times,serif\" font-size=\"14.00\">S010</text>\n",
       "</g>\n",
       "<!-- S01&#45;&gt;S010 -->\n",
       "<g id=\"edge6\" class=\"edge\">\n",
       "<title>S01&#45;&gt;S010</title>\n",
       "<path fill=\"none\" stroke=\"black\" d=\"M329.83,-34.45C341.69,-34.45 355.83,-34.45 369.06,-34.45\"/>\n",
       "<polygon fill=\"black\" stroke=\"black\" points=\"369.42,-37.95 379.42,-34.45 369.42,-30.95 369.42,-37.95\"/>\n",
       "<text text-anchor=\"middle\" x=\"354.69\" y=\"-38.25\" font-family=\"Times,serif\" font-size=\"14.00\">0 </text>\n",
       "</g>\n",
       "<!-- F -->\n",
       "<g id=\"node6\" class=\"node\">\n",
       "<title>F</title>\n",
       "<ellipse fill=\"none\" stroke=\"black\" cx=\"520.58\" cy=\"-34.45\" rx=\"18\" ry=\"18\"/>\n",
       "<ellipse fill=\"none\" stroke=\"black\" cx=\"520.58\" cy=\"-34.45\" rx=\"22\" ry=\"22\"/>\n",
       "<text text-anchor=\"middle\" x=\"520.58\" y=\"-30.75\" font-family=\"Times,serif\" font-size=\"14.00\">F</text>\n",
       "</g>\n",
       "<!-- S010&#45;&gt;F -->\n",
       "<g id=\"edge7\" class=\"edge\">\n",
       "<title>S010&#45;&gt;F</title>\n",
       "<path fill=\"none\" stroke=\"black\" d=\"M448.76,-34.45C461.4,-34.45 475.71,-34.45 488.14,-34.45\"/>\n",
       "<polygon fill=\"black\" stroke=\"black\" points=\"488.49,-37.95 498.49,-34.45 488.49,-30.95 488.49,-37.95\"/>\n",
       "<text text-anchor=\"middle\" x=\"473.58\" y=\"-38.25\" font-family=\"Times,serif\" font-size=\"14.00\">1 </text>\n",
       "</g>\n",
       "<!-- I&#45;&gt;I -->\n",
       "<g id=\"edge2\" class=\"edge\">\n",
       "<title>I&#45;&gt;I</title>\n",
       "<path fill=\"none\" stroke=\"black\" d=\"M105.76,-52.23C105.21,-61.76 106.29,-70.45 109,-70.45 110.65,-70.45 111.69,-67.22 112.13,-62.55\"/>\n",
       "<polygon fill=\"black\" stroke=\"black\" points=\"115.64,-62.26 112.24,-52.23 108.64,-62.19 115.64,-62.26\"/>\n",
       "<text text-anchor=\"middle\" x=\"109\" y=\"-74.25\" font-family=\"Times,serif\" font-size=\"14.00\">1 </text>\n",
       "</g>\n",
       "<!-- I&#45;&gt;I -->\n",
       "<g id=\"edge4\" class=\"edge\">\n",
       "<title>I&#45;&gt;I</title>\n",
       "<path fill=\"none\" stroke=\"black\" d=\"M103.68,-51.87C100.65,-69.24 102.43,-88.45 109,-88.45 114.29,-88.45 116.47,-76.01 115.54,-62.1\"/>\n",
       "<polygon fill=\"black\" stroke=\"black\" points=\"118.98,-61.38 114.32,-51.87 112.03,-62.21 118.98,-61.38\"/>\n",
       "<text text-anchor=\"middle\" x=\"109\" y=\"-92.25\" font-family=\"Times,serif\" font-size=\"14.00\">0 </text>\n",
       "</g>\n",
       "<!-- S0 -->\n",
       "<g id=\"node5\" class=\"node\">\n",
       "<title>S0</title>\n",
       "<ellipse fill=\"none\" stroke=\"black\" cx=\"199.75\" cy=\"-34.45\" rx=\"23\" ry=\"23\"/>\n",
       "<text text-anchor=\"middle\" x=\"199.75\" y=\"-30.75\" font-family=\"Times,serif\" font-size=\"14.00\">S0</text>\n",
       "</g>\n",
       "<!-- I&#45;&gt;S0 -->\n",
       "<g id=\"edge3\" class=\"edge\">\n",
       "<title>I&#45;&gt;S0</title>\n",
       "<path fill=\"none\" stroke=\"black\" d=\"M127.11,-34.45C138.32,-34.45 153.32,-34.45 166.69,-34.45\"/>\n",
       "<polygon fill=\"black\" stroke=\"black\" points=\"166.97,-37.95 176.97,-34.45 166.97,-30.95 166.97,-37.95\"/>\n",
       "<text text-anchor=\"middle\" x=\"152\" y=\"-38.25\" font-family=\"Times,serif\" font-size=\"14.00\">0 </text>\n",
       "</g>\n",
       "<!-- S0&#45;&gt;S01 -->\n",
       "<g id=\"edge5\" class=\"edge\">\n",
       "<title>S0&#45;&gt;S01</title>\n",
       "<path fill=\"none\" stroke=\"black\" d=\"M222.8,-34.45C234.34,-34.45 248.81,-34.45 262.1,-34.45\"/>\n",
       "<polygon fill=\"black\" stroke=\"black\" points=\"262.42,-37.95 272.42,-34.45 262.42,-30.95 262.42,-37.95\"/>\n",
       "<text text-anchor=\"middle\" x=\"247.5\" y=\"-38.25\" font-family=\"Times,serif\" font-size=\"14.00\">1 </text>\n",
       "</g>\n",
       "</g>\n",
       "</svg>\n"
      ],
      "text/plain": [
       "<graphviz.dot.Digraph at 0x7fb716568e20>"
      ]
     },
     "execution_count": 12,
     "metadata": {},
     "output_type": "execute_result"
    }
   ],
   "source": [
    "# Let's see the drawing of this NFA\n",
    "dotObj_nfa(NFA_ends0101)  "
   ]
  },
  {
   "cell_type": "code",
   "execution_count": 13,
   "metadata": {
    "run_control": {
     "frozen": false,
     "read_only": false
    }
   },
   "outputs": [
    {
     "data": {
      "image/svg+xml": [
       "<?xml version=\"1.0\" encoding=\"UTF-8\" standalone=\"no\"?>\n",
       "<!DOCTYPE svg PUBLIC \"-//W3C//DTD SVG 1.1//EN\"\n",
       " \"http://www.w3.org/Graphics/SVG/1.1/DTD/svg11.dtd\">\n",
       "<!-- Generated by graphviz version 2.42.3 (20191010.1750)\n",
       " -->\n",
       "<!-- Title: %3 Pages: 1 -->\n",
       "<svg width=\"551pt\" height=\"108pt\"\n",
       " viewBox=\"0.00 0.00 550.58 108.45\" xmlns=\"http://www.w3.org/2000/svg\" xmlns:xlink=\"http://www.w3.org/1999/xlink\">\n",
       "<g id=\"graph0\" class=\"graph\" transform=\"scale(1 1) rotate(0) translate(4 104.45)\">\n",
       "<title>%3</title>\n",
       "<polygon fill=\"white\" stroke=\"transparent\" points=\"-4,4 -4,-104.45 546.58,-104.45 546.58,4 -4,4\"/>\n",
       "<!-- EMPTY -->\n",
       "<g id=\"node1\" class=\"node\">\n",
       "<title>EMPTY</title>\n",
       "</g>\n",
       "<!-- I -->\n",
       "<g id=\"node4\" class=\"node\">\n",
       "<title>I</title>\n",
       "<ellipse fill=\"none\" stroke=\"black\" cx=\"109\" cy=\"-34.45\" rx=\"18\" ry=\"18\"/>\n",
       "<text text-anchor=\"middle\" x=\"109\" y=\"-30.75\" font-family=\"Times,serif\" font-size=\"14.00\">I</text>\n",
       "</g>\n",
       "<!-- EMPTY&#45;&gt;I -->\n",
       "<g id=\"edge1\" class=\"edge\">\n",
       "<title>EMPTY&#45;&gt;I</title>\n",
       "<path fill=\"none\" stroke=\"black\" d=\"M54.19,-34.45C62.65,-34.45 72.05,-34.45 80.6,-34.45\"/>\n",
       "<polygon fill=\"black\" stroke=\"black\" points=\"80.83,-37.95 90.83,-34.45 80.83,-30.95 80.83,-37.95\"/>\n",
       "</g>\n",
       "<!-- S01 -->\n",
       "<g id=\"node2\" class=\"node\">\n",
       "<title>S01</title>\n",
       "<ellipse fill=\"none\" stroke=\"black\" cx=\"301.09\" cy=\"-34.45\" rx=\"28.7\" ry=\"28.7\"/>\n",
       "<text text-anchor=\"middle\" x=\"301.09\" y=\"-30.75\" font-family=\"Times,serif\" font-size=\"14.00\">S01</text>\n",
       "</g>\n",
       "<!-- S010 -->\n",
       "<g id=\"node3\" class=\"node\">\n",
       "<title>S010</title>\n",
       "<ellipse fill=\"none\" stroke=\"black\" cx=\"414.14\" cy=\"-34.45\" rx=\"34.39\" ry=\"34.39\"/>\n",
       "<text text-anchor=\"middle\" x=\"414.14\" y=\"-30.75\" font-family=\"Times,serif\" font-size=\"14.00\">S010</text>\n",
       "</g>\n",
       "<!-- S01&#45;&gt;S010 -->\n",
       "<g id=\"edge5\" class=\"edge\">\n",
       "<title>S01&#45;&gt;S010</title>\n",
       "<path fill=\"none\" stroke=\"black\" d=\"M329.83,-34.45C341.69,-34.45 355.83,-34.45 369.06,-34.45\"/>\n",
       "<polygon fill=\"black\" stroke=\"black\" points=\"369.42,-37.95 379.42,-34.45 369.42,-30.95 369.42,-37.95\"/>\n",
       "<text text-anchor=\"middle\" x=\"354.69\" y=\"-38.25\" font-family=\"Times,serif\" font-size=\"14.00\">0 </text>\n",
       "</g>\n",
       "<!-- F -->\n",
       "<g id=\"node6\" class=\"node\">\n",
       "<title>F</title>\n",
       "<ellipse fill=\"none\" stroke=\"black\" cx=\"520.58\" cy=\"-34.45\" rx=\"18\" ry=\"18\"/>\n",
       "<ellipse fill=\"none\" stroke=\"black\" cx=\"520.58\" cy=\"-34.45\" rx=\"22\" ry=\"22\"/>\n",
       "<text text-anchor=\"middle\" x=\"520.58\" y=\"-30.75\" font-family=\"Times,serif\" font-size=\"14.00\">F</text>\n",
       "</g>\n",
       "<!-- S010&#45;&gt;F -->\n",
       "<g id=\"edge6\" class=\"edge\">\n",
       "<title>S010&#45;&gt;F</title>\n",
       "<path fill=\"none\" stroke=\"black\" d=\"M448.76,-34.45C461.4,-34.45 475.71,-34.45 488.14,-34.45\"/>\n",
       "<polygon fill=\"black\" stroke=\"black\" points=\"488.49,-37.95 498.49,-34.45 488.49,-30.95 488.49,-37.95\"/>\n",
       "<text text-anchor=\"middle\" x=\"473.58\" y=\"-38.25\" font-family=\"Times,serif\" font-size=\"14.00\">1 </text>\n",
       "</g>\n",
       "<!-- I&#45;&gt;I -->\n",
       "<g id=\"edge2\" class=\"edge\">\n",
       "<title>I&#45;&gt;I</title>\n",
       "<path fill=\"none\" stroke=\"black\" d=\"M102.62,-51.48C101.32,-61.3 103.45,-70.45 109,-70.45 112.47,-70.45 114.6,-66.88 115.4,-61.8\"/>\n",
       "<polygon fill=\"black\" stroke=\"black\" points=\"118.9,-61.48 115.38,-51.48 111.9,-61.49 118.9,-61.48\"/>\n",
       "<text text-anchor=\"middle\" x=\"109\" y=\"-89.25\" font-family=\"Times,serif\" font-size=\"14.00\">1 </text>\n",
       "<text text-anchor=\"middle\" x=\"109\" y=\"-74.25\" font-family=\"Times,serif\" font-size=\"14.00\"> 0 </text>\n",
       "</g>\n",
       "<!-- S0 -->\n",
       "<g id=\"node5\" class=\"node\">\n",
       "<title>S0</title>\n",
       "<ellipse fill=\"none\" stroke=\"black\" cx=\"199.75\" cy=\"-34.45\" rx=\"23\" ry=\"23\"/>\n",
       "<text text-anchor=\"middle\" x=\"199.75\" y=\"-30.75\" font-family=\"Times,serif\" font-size=\"14.00\">S0</text>\n",
       "</g>\n",
       "<!-- I&#45;&gt;S0 -->\n",
       "<g id=\"edge3\" class=\"edge\">\n",
       "<title>I&#45;&gt;S0</title>\n",
       "<path fill=\"none\" stroke=\"black\" d=\"M127.11,-34.45C138.32,-34.45 153.32,-34.45 166.69,-34.45\"/>\n",
       "<polygon fill=\"black\" stroke=\"black\" points=\"166.97,-37.95 176.97,-34.45 166.97,-30.95 166.97,-37.95\"/>\n",
       "<text text-anchor=\"middle\" x=\"152\" y=\"-38.25\" font-family=\"Times,serif\" font-size=\"14.00\">0 </text>\n",
       "</g>\n",
       "<!-- S0&#45;&gt;S01 -->\n",
       "<g id=\"edge4\" class=\"edge\">\n",
       "<title>S0&#45;&gt;S01</title>\n",
       "<path fill=\"none\" stroke=\"black\" d=\"M222.8,-34.45C234.34,-34.45 248.81,-34.45 262.1,-34.45\"/>\n",
       "<polygon fill=\"black\" stroke=\"black\" points=\"262.42,-37.95 272.42,-34.45 262.42,-30.95 262.42,-37.95\"/>\n",
       "<text text-anchor=\"middle\" x=\"247.5\" y=\"-38.25\" font-family=\"Times,serif\" font-size=\"14.00\">1 </text>\n",
       "</g>\n",
       "</g>\n",
       "</svg>\n"
      ],
      "text/plain": [
       "<graphviz.dot.Digraph at 0x7fb7164c5100>"
      ]
     },
     "execution_count": 13,
     "metadata": {},
     "output_type": "execute_result"
    }
   ],
   "source": [
    "# The drawing produces separated self-loops. Let's fuse 'em.\n",
    "\n",
    "# Now we are going to fuse the separate self-loops into one.\n",
    "\n",
    "dotObj_nfa(NFA_ends0101, FuseEdges=True) "
   ]
  },
  {
   "cell_type": "code",
   "execution_count": 14,
   "metadata": {},
   "outputs": [
    {
     "data": {
      "text/plain": [
       "set()"
      ]
     },
     "execution_count": 14,
     "metadata": {},
     "output_type": "execute_result"
    }
   ],
   "source": [
    "step_nfa(NFA_ends0101, 'F', '1')"
   ]
  },
  {
   "cell_type": "markdown",
   "metadata": {
    "run_control": {
     "frozen": false,
     "read_only": false
    }
   },
   "source": [
    "# NFA for 3rd-last is 1"
   ]
  },
  {
   "cell_type": "code",
   "execution_count": 15,
   "metadata": {
    "run_control": {
     "frozen": false,
     "read_only": false
    }
   },
   "outputs": [],
   "source": [
    "# Here is the automd (markdown) for an NF whose third-last symbol is a 1\n",
    "\n",
    "NFA_3rdlast_1 = md2mc('''\n",
    "NFA\n",
    "\n",
    "I : 0  | 1  -> I  !! Upon a 0 or a 1, continue to stay in state I\n",
    "\n",
    "I : ''      -> S0 !! Nondeterministically transition to state S0\n",
    "\n",
    "S0 : 1      -> S1 !! This is the key \"1\" (third-last being 1) seen\n",
    "\n",
    "S1 : 0 | 1  -> S2 !! One 0/1 takes the NFA to S2\n",
    "\n",
    "S2 : 0 | 1  -> F  !! One more 0/1 takes the NFA to F\n",
    "\n",
    "''')"
   ]
  },
  {
   "cell_type": "code",
   "execution_count": 16,
   "metadata": {
    "run_control": {
     "frozen": false,
     "read_only": false
    }
   },
   "outputs": [
    {
     "data": {
      "text/plain": [
       "{'Q': {'F', 'I', 'S0', 'S1', 'S2'},\n",
       " 'Sigma': {'0', '1'},\n",
       " 'Delta': {('I', '0'): {'I'},\n",
       "  ('I', '1'): {'I'},\n",
       "  ('I', ''): {'S0'},\n",
       "  ('S0', '1'): {'S1'},\n",
       "  ('S1', '0'): {'S2'},\n",
       "  ('S1', '1'): {'S2'},\n",
       "  ('S2', '0'): {'F'},\n",
       "  ('S2', '1'): {'F'}},\n",
       " 'Q0': {'I'},\n",
       " 'F': {'F'}}"
      ]
     },
     "execution_count": 16,
     "metadata": {},
     "output_type": "execute_result"
    }
   ],
   "source": [
    "# Let us see its internal representation:\n",
    "NFA_3rdlast_1"
   ]
  },
  {
   "cell_type": "code",
   "execution_count": 17,
   "metadata": {
    "run_control": {
     "frozen": false,
     "read_only": false
    }
   },
   "outputs": [
    {
     "data": {
      "image/svg+xml": [
       "<?xml version=\"1.0\" encoding=\"UTF-8\" standalone=\"no\"?>\n",
       "<!DOCTYPE svg PUBLIC \"-//W3C//DTD SVG 1.1//EN\"\n",
       " \"http://www.w3.org/Graphics/SVG/1.1/DTD/svg11.dtd\">\n",
       "<!-- Generated by graphviz version 2.42.3 (20191010.1750)\n",
       " -->\n",
       "<!-- Title: %3 Pages: 1 -->\n",
       "<svg width=\"524pt\" height=\"97pt\"\n",
       " viewBox=\"0.00 0.00 524.49 96.75\" xmlns=\"http://www.w3.org/2000/svg\" xmlns:xlink=\"http://www.w3.org/1999/xlink\">\n",
       "<g id=\"graph0\" class=\"graph\" transform=\"scale(1 1) rotate(0) translate(4 92.75)\">\n",
       "<title>%3</title>\n",
       "<polygon fill=\"white\" stroke=\"transparent\" points=\"-4,4 -4,-92.75 520.49,-92.75 520.49,4 -4,4\"/>\n",
       "<!-- EMPTY -->\n",
       "<g id=\"node1\" class=\"node\">\n",
       "<title>EMPTY</title>\n",
       "</g>\n",
       "<!-- I -->\n",
       "<g id=\"node3\" class=\"node\">\n",
       "<title>I</title>\n",
       "<ellipse fill=\"none\" stroke=\"black\" cx=\"109\" cy=\"-22.75\" rx=\"18\" ry=\"18\"/>\n",
       "<text text-anchor=\"middle\" x=\"109\" y=\"-19.05\" font-family=\"Times,serif\" font-size=\"14.00\">I</text>\n",
       "</g>\n",
       "<!-- EMPTY&#45;&gt;I -->\n",
       "<g id=\"edge1\" class=\"edge\">\n",
       "<title>EMPTY&#45;&gt;I</title>\n",
       "<path fill=\"none\" stroke=\"black\" d=\"M54.19,-22.75C62.65,-22.75 72.05,-22.75 80.6,-22.75\"/>\n",
       "<polygon fill=\"black\" stroke=\"black\" points=\"80.83,-26.25 90.83,-22.75 80.83,-19.25 80.83,-26.25\"/>\n",
       "</g>\n",
       "<!-- S1 -->\n",
       "<g id=\"node2\" class=\"node\">\n",
       "<title>S1</title>\n",
       "<ellipse fill=\"none\" stroke=\"black\" cx=\"294.24\" cy=\"-22.75\" rx=\"23\" ry=\"23\"/>\n",
       "<text text-anchor=\"middle\" x=\"294.24\" y=\"-19.05\" font-family=\"Times,serif\" font-size=\"14.00\">S1</text>\n",
       "</g>\n",
       "<!-- S2 -->\n",
       "<g id=\"node5\" class=\"node\">\n",
       "<title>S2</title>\n",
       "<ellipse fill=\"none\" stroke=\"black\" cx=\"394.74\" cy=\"-22.75\" rx=\"23\" ry=\"23\"/>\n",
       "<text text-anchor=\"middle\" x=\"394.74\" y=\"-19.05\" font-family=\"Times,serif\" font-size=\"14.00\">S2</text>\n",
       "</g>\n",
       "<!-- S1&#45;&gt;S2 -->\n",
       "<g id=\"edge5\" class=\"edge\">\n",
       "<title>S1&#45;&gt;S2</title>\n",
       "<path fill=\"none\" stroke=\"black\" d=\"M317.1,-22.75C330.24,-22.75 347.18,-22.75 361.8,-22.75\"/>\n",
       "<polygon fill=\"black\" stroke=\"black\" points=\"361.94,-26.25 371.94,-22.75 361.94,-19.25 361.94,-26.25\"/>\n",
       "<text text-anchor=\"middle\" x=\"344.49\" y=\"-41.55\" font-family=\"Times,serif\" font-size=\"14.00\">1 </text>\n",
       "<text text-anchor=\"middle\" x=\"344.49\" y=\"-26.55\" font-family=\"Times,serif\" font-size=\"14.00\"> 0 </text>\n",
       "</g>\n",
       "<!-- I&#45;&gt;I -->\n",
       "<g id=\"edge2\" class=\"edge\">\n",
       "<title>I&#45;&gt;I</title>\n",
       "<path fill=\"none\" stroke=\"black\" d=\"M102.62,-39.79C101.32,-49.61 103.45,-58.75 109,-58.75 112.47,-58.75 114.6,-55.18 115.4,-50.1\"/>\n",
       "<polygon fill=\"black\" stroke=\"black\" points=\"118.9,-49.78 115.38,-39.79 111.9,-49.79 118.9,-49.78\"/>\n",
       "<text text-anchor=\"middle\" x=\"109\" y=\"-77.55\" font-family=\"Times,serif\" font-size=\"14.00\">1 </text>\n",
       "<text text-anchor=\"middle\" x=\"109\" y=\"-62.55\" font-family=\"Times,serif\" font-size=\"14.00\"> 0 </text>\n",
       "</g>\n",
       "<!-- S0 -->\n",
       "<g id=\"node4\" class=\"node\">\n",
       "<title>S0</title>\n",
       "<ellipse fill=\"none\" stroke=\"black\" cx=\"198.75\" cy=\"-22.75\" rx=\"23\" ry=\"23\"/>\n",
       "<text text-anchor=\"middle\" x=\"198.75\" y=\"-19.05\" font-family=\"Times,serif\" font-size=\"14.00\">S0</text>\n",
       "</g>\n",
       "<!-- I&#45;&gt;S0 -->\n",
       "<g id=\"edge3\" class=\"edge\">\n",
       "<title>I&#45;&gt;S0</title>\n",
       "<path fill=\"none\" stroke=\"black\" d=\"M127.34,-22.75C138.18,-22.75 152.5,-22.75 165.39,-22.75\"/>\n",
       "<polygon fill=\"black\" stroke=\"black\" points=\"165.77,-26.25 175.77,-22.75 165.77,-19.25 165.77,-26.25\"/>\n",
       "<text text-anchor=\"middle\" x=\"151.5\" y=\"-26.55\" font-family=\"Times,serif\" font-size=\"14.00\">&#39;&#39; </text>\n",
       "</g>\n",
       "<!-- S0&#45;&gt;S1 -->\n",
       "<g id=\"edge4\" class=\"edge\">\n",
       "<title>S0&#45;&gt;S1</title>\n",
       "<path fill=\"none\" stroke=\"black\" d=\"M221.91,-22.75C233.55,-22.75 248.04,-22.75 260.91,-22.75\"/>\n",
       "<polygon fill=\"black\" stroke=\"black\" points=\"261.25,-26.25 271.25,-22.75 261.25,-19.25 261.25,-26.25\"/>\n",
       "<text text-anchor=\"middle\" x=\"246.5\" y=\"-26.55\" font-family=\"Times,serif\" font-size=\"14.00\">1 </text>\n",
       "</g>\n",
       "<!-- F -->\n",
       "<g id=\"node6\" class=\"node\">\n",
       "<title>F</title>\n",
       "<ellipse fill=\"none\" stroke=\"black\" cx=\"494.49\" cy=\"-22.75\" rx=\"18\" ry=\"18\"/>\n",
       "<ellipse fill=\"none\" stroke=\"black\" cx=\"494.49\" cy=\"-22.75\" rx=\"22\" ry=\"22\"/>\n",
       "<text text-anchor=\"middle\" x=\"494.49\" y=\"-19.05\" font-family=\"Times,serif\" font-size=\"14.00\">F</text>\n",
       "</g>\n",
       "<!-- S2&#45;&gt;F -->\n",
       "<g id=\"edge6\" class=\"edge\">\n",
       "<title>S2&#45;&gt;F</title>\n",
       "<path fill=\"none\" stroke=\"black\" d=\"M417.92,-22.75C431.07,-22.75 447.93,-22.75 462.38,-22.75\"/>\n",
       "<polygon fill=\"black\" stroke=\"black\" points=\"462.4,-26.25 472.4,-22.75 462.4,-19.25 462.4,-26.25\"/>\n",
       "<text text-anchor=\"middle\" x=\"444.99\" y=\"-41.55\" font-family=\"Times,serif\" font-size=\"14.00\">1 </text>\n",
       "<text text-anchor=\"middle\" x=\"444.99\" y=\"-26.55\" font-family=\"Times,serif\" font-size=\"14.00\"> 0 </text>\n",
       "</g>\n",
       "</g>\n",
       "</svg>\n"
      ],
      "text/plain": [
       "<graphviz.dot.Digraph at 0x7fb7164c5af0>"
      ]
     },
     "execution_count": 17,
     "metadata": {},
     "output_type": "execute_result"
    }
   ],
   "source": [
    "# Let us see this NFA drawn out:\n",
    "dotObj_nfa(NFA_3rdlast_1, FuseEdges=True)"
   ]
  },
  {
   "cell_type": "code",
   "execution_count": 18,
   "metadata": {
    "run_control": {
     "frozen": false,
     "read_only": false
    }
   },
   "outputs": [
    {
     "data": {
      "text/plain": [
       "{'S0'}"
      ]
     },
     "execution_count": 18,
     "metadata": {},
     "output_type": "execute_result"
    }
   ],
   "source": [
    "# Let's step the NFA on epsilon:   \n",
    "step_nfa(NFA_3rdlast_1, \"I\", \"\")"
   ]
  },
  {
   "cell_type": "code",
   "execution_count": 19,
   "metadata": {
    "run_control": {
     "frozen": false,
     "read_only": false
    }
   },
   "outputs": [
    {
     "data": {
      "text/plain": [
       "{'I'}"
      ]
     },
     "execution_count": 19,
     "metadata": {},
     "output_type": "execute_result"
    }
   ],
   "source": [
    "# Let's step it on '0': \n",
    "step_nfa(NFA_3rdlast_1, \"I\", \"0\")"
   ]
  },
  {
   "cell_type": "code",
   "execution_count": 20,
   "metadata": {
    "run_control": {
     "frozen": false,
     "read_only": false
    }
   },
   "outputs": [
    {
     "data": {
      "text/plain": [
       "{'I'}"
      ]
     },
     "execution_count": 20,
     "metadata": {},
     "output_type": "execute_result"
    }
   ],
   "source": [
    "# Step it on a \"1\" to see two next states. That shows nondeterminism!\n",
    "step_nfa(NFA_3rdlast_1, \"I\", \"1\")  "
   ]
  },
  {
   "cell_type": "code",
   "execution_count": 21,
   "metadata": {
    "run_control": {
     "frozen": false,
     "read_only": false
    }
   },
   "outputs": [
    {
     "data": {
      "text/plain": [
       "{'I', 'S0'}"
      ]
     },
     "execution_count": 21,
     "metadata": {},
     "output_type": "execute_result"
    }
   ],
   "source": [
    "# What is the Eclosure of the set of states {I} ?\n",
    "Eclosure(NFA_3rdlast_1, {\"I\"})"
   ]
  },
  {
   "cell_type": "code",
   "execution_count": 22,
   "metadata": {
    "run_control": {
     "frozen": false,
     "read_only": false
    }
   },
   "outputs": [
    {
     "name": "stdout",
     "output_type": "stream",
     "text": [
      "Help on function accepts_nfa in module jove.Def_NFA:\n",
      "\n",
      "accepts_nfa(N, s, chatty=False)\n",
      "    NFA acceptance.\n",
      "    Input : N : given NFA\n",
      "            s : given string\n",
      "            chatty : Boolean (prints accepting path,\n",
      "                     which is the state-sets encountered).\n",
      "\n"
     ]
    }
   ],
   "source": [
    "help(accepts_nfa)"
   ]
  },
  {
   "cell_type": "code",
   "execution_count": 23,
   "metadata": {
    "run_control": {
     "frozen": false,
     "read_only": false
    }
   },
   "outputs": [
    {
     "name": "stdout",
     "output_type": "stream",
     "text": [
      "States reached =  {'S0', 'I'}\n",
      "States reached =  {'S0', 'I', 'S1'}\n",
      "States reached =  {'S0', 'I', 'S2'}\n",
      "States reached =  {'F', 'S0', 'I'}\n",
      "States reached =  {'S0', 'I', 'S1'}\n",
      "States reached =  {'S0', 'I', 'S2'}\n",
      "States reached =  {'F', 'S0', 'I'}\n",
      "NFA accepts '0100100' by reaching {'F', 'S0', 'I'}\n"
     ]
    },
    {
     "data": {
      "text/plain": [
       "True"
      ]
     },
     "execution_count": 23,
     "metadata": {},
     "output_type": "execute_result"
    }
   ],
   "source": [
    "accepts_nfa(NFA_3rdlast_1, \"0100100\", chatty=True)"
   ]
  },
  {
   "cell_type": "markdown",
   "metadata": {
    "run_control": {
     "frozen": false,
     "read_only": false
    }
   },
   "source": [
    "# Let us run NFA interactively via widgets\n",
    "\n",
    "We have two NFA to play with, namely nfa_ends0101 and NFA_3rdlast_1\n"
   ]
  },
  {
   "cell_type": "code",
   "execution_count": 24,
   "metadata": {
    "run_control": {
     "frozen": false,
     "read_only": false
    }
   },
   "outputs": [],
   "source": [
    "import ipywidgets as wdg\n",
    "def run_nfa_slider(N, s, n):\n",
    "    \"\"\"Run NFA N from N[\"Q0\"] (which is a set..) on substring s[0:n]\n",
    "    \"\"\"\n",
    "    S = N[\"Q0\"] \n",
    "    if (n > len(s)):\n",
    "        n = len(s)\n",
    "    print(\"string = \", s[0:n])\n",
    "    run_nfa(N, S, s[0:n], True)\n",
    "    \n",
    "def run_nfa_int(N1, N2):\n",
    "    \"\"\"Run interactively from the given NFA .. from {q0} \n",
    "       on input string's substring\n",
    "       as picked by slider.\n",
    "    \"\"\"\n",
    "    inp = input(\"Please provide string: \")\n",
    "    wdg.interact(run_nfa_slider, N = {'N1': N1, 'N2': N2}, \n",
    "                 s = inp, n=(0,32))\n",
    "    \n",
    "def test_run_nfa_int(N1, N2):\n",
    "    \"\"\"Test the interactive run of NFA.\n",
    "    \"\"\"\n",
    "    run_nfa_int(N1, N2)\n",
    "\n",
    "#-- enable this later. test_run_nfa_int()"
   ]
  },
  {
   "cell_type": "markdown",
   "metadata": {
    "run_control": {
     "frozen": false,
     "read_only": false
    }
   },
   "source": [
    "## Once you run the command below, provide a string\n",
    "\n",
    "Provide a string of 0's and 1's. Then you can use the pull-down to pick the NFA\n",
    "to test, and the slider to incrementally consume more of the input string.\n"
   ]
  },
  {
   "cell_type": "code",
   "execution_count": 26,
   "metadata": {
    "run_control": {
     "frozen": false,
     "read_only": false
    },
    "scrolled": true
   },
   "outputs": [
    {
     "name": "stdout",
     "output_type": "stream",
     "text": [
      "Please provide string: 0\n"
     ]
    },
    {
     "data": {
      "application/vnd.jupyter.widget-view+json": {
       "model_id": "1abbcfa7658445fb8b15ba51409404ad",
       "version_major": 2,
       "version_minor": 0
      },
      "text/plain": [
       "interactive(children=(Dropdown(description='N', options={'N1': {'Q': {'S01', 'S010', 'F', 'S0', 'I'}, 'Sigma':…"
      ]
     },
     "metadata": {},
     "output_type": "display_data"
    }
   ],
   "source": [
    "test_run_nfa_int(NFA_ends0101, NFA_3rdlast_1)"
   ]
  },
  {
   "cell_type": "code",
   "execution_count": null,
   "metadata": {},
   "outputs": [],
   "source": []
  }
 ],
 "metadata": {
  "kernelspec": {
   "display_name": "Python 3",
   "language": "/gnu/store/h8jw9qhyfp6fm6nb3cgh4335qhr31wfz-python-wrapper-3.8.2/bin/python",
   "name": "python3"
  },
  "language_info": {
   "codemirror_mode": {
    "name": "ipython",
    "version": 3
   },
   "file_extension": ".py",
   "mimetype": "text/x-python",
   "name": "python",
   "nbconvert_exporter": "python",
   "pygments_lexer": "ipython3",
   "version": "3.8.2"
  },
  "toc": {
   "colors": {
    "hover_highlight": "#DAA520",
    "running_highlight": "#FF0000",
    "selected_highlight": "#FFD700"
   },
   "moveMenuLeft": true,
   "nav_menu": {
    "height": "121px",
    "width": "252px"
   },
   "navigate_menu": true,
   "number_sections": true,
   "sideBar": true,
   "threshold": 4,
   "toc_cell": false,
   "toc_section_display": "block",
   "toc_window_display": false,
   "widenNotebook": false
  },
  "widgets": {
   "application/vnd.jupyter.widget-state+json": {
    "state": {
     "005940bd01a4474d9453056c72cb58cd": {
      "model_module": "@jupyter-widgets/output",
      "model_module_version": "1.0.0",
      "model_name": "OutputModel",
      "state": {
       "layout": "IPY_MODEL_c6bd290f872d4ab5bfc63ce4497f8520",
       "outputs": [
        {
         "data": {
          "image/svg+xml": "<?xml version=\"1.0\" encoding=\"UTF-8\" standalone=\"no\"?>\n<!DOCTYPE svg PUBLIC \"-//W3C//DTD SVG 1.1//EN\"\n \"http://www.w3.org/Graphics/SVG/1.1/DTD/svg11.dtd\">\n<!-- Generated by graphviz version 2.42.3 (20191010.1750)\n -->\n<!-- Title: %3 Pages: 1 -->\n<svg width=\"485pt\" height=\"114pt\"\n viewBox=\"0.00 0.00 485.00 114.00\" xmlns=\"http://www.w3.org/2000/svg\" xmlns:xlink=\"http://www.w3.org/1999/xlink\">\n<g id=\"graph0\" class=\"graph\" transform=\"scale(1 1) rotate(0) translate(4 110)\">\n<title>%3</title>\n<polygon fill=\"white\" stroke=\"transparent\" points=\"-4,4 -4,-110 481,-110 481,4 -4,4\"/>\n<!-- EMPTY -->\n<g id=\"node1\" class=\"node\">\n<title>EMPTY</title>\n</g>\n<!-- I -->\n<g id=\"node2\" class=\"node\">\n<title>I</title>\n<ellipse fill=\"#66cd00\" stroke=\"black\" cx=\"109\" cy=\"-22\" rx=\"18\" ry=\"18\"/>\n<text text-anchor=\"middle\" x=\"109\" y=\"-18.3\" font-family=\"Times,serif\" font-size=\"14.00\" fill=\"white\">I</text>\n</g>\n<!-- EMPTY&#45;&gt;I -->\n<g id=\"edge1\" class=\"edge\">\n<title>EMPTY&#45;&gt;I</title>\n<path fill=\"none\" stroke=\"black\" d=\"M54.19,-22C62.65,-22 72.05,-22 80.6,-22\"/>\n<polygon fill=\"black\" stroke=\"black\" points=\"80.83,-25.5 90.83,-22 80.83,-18.5 80.83,-25.5\"/>\n</g>\n<!-- I&#45;&gt;I -->\n<g id=\"edge2\" class=\"edge\">\n<title>I&#45;&gt;I</title>\n<path fill=\"none\" stroke=\"black\" d=\"M105.76,-39.78C105.21,-49.31 106.29,-58 109,-58 110.65,-58 111.69,-54.77 112.13,-50.1\"/>\n<polygon fill=\"black\" stroke=\"black\" points=\"115.64,-49.82 112.24,-39.78 108.64,-49.75 115.64,-49.82\"/>\n<text text-anchor=\"start\" x=\"102\" y=\"-61.8\" font-family=\"Times,serif\" font-size=\"14.00\"> 0</text>\n</g>\n<!-- I&#45;&gt;I -->\n<g id=\"edge3\" class=\"edge\">\n<title>I&#45;&gt;I</title>\n<path fill=\"none\" stroke=\"black\" d=\"M103.68,-39.42C100.65,-56.79 102.43,-76 109,-76 114.29,-76 116.47,-63.56 115.54,-49.65\"/>\n<polygon fill=\"black\" stroke=\"black\" points=\"118.98,-48.93 114.32,-39.42 112.03,-49.77 118.98,-48.93\"/>\n<text text-anchor=\"start\" x=\"102\" y=\"-79.8\" font-family=\"Times,serif\" font-size=\"14.00\"> 1</text>\n</g>\n<!-- A -->\n<g id=\"node5\" class=\"node\">\n<title>A</title>\n<ellipse fill=\"#66cd00\" stroke=\"black\" cx=\"194\" cy=\"-22\" rx=\"18\" ry=\"18\"/>\n<text text-anchor=\"middle\" x=\"194\" y=\"-18.3\" font-family=\"Times,serif\" font-size=\"14.00\" fill=\"white\">A</text>\n</g>\n<!-- I&#45;&gt;A -->\n<g id=\"edge4\" class=\"edge\">\n<title>I&#45;&gt;A</title>\n<path fill=\"none\" stroke=\"black\" d=\"M127.2,-22C138.33,-22 153.06,-22 165.76,-22\"/>\n<polygon fill=\"black\" stroke=\"black\" points=\"165.82,-25.5 175.82,-22 165.82,-18.5 165.82,-25.5\"/>\n<text text-anchor=\"start\" x=\"145\" y=\"-25.8\" font-family=\"Times,serif\" font-size=\"14.00\"> &#39;&#39;</text>\n</g>\n<!-- B -->\n<g id=\"node3\" class=\"node\">\n<title>B</title>\n<ellipse fill=\"none\" stroke=\"black\" cx=\"280\" cy=\"-22\" rx=\"18\" ry=\"18\"/>\n<text text-anchor=\"middle\" x=\"280\" y=\"-18.3\" font-family=\"Times,serif\" font-size=\"14.00\">B</text>\n</g>\n<!-- C -->\n<g id=\"node4\" class=\"node\">\n<title>C</title>\n<ellipse fill=\"#66cd00\" stroke=\"black\" cx=\"366\" cy=\"-22\" rx=\"18\" ry=\"18\"/>\n<text text-anchor=\"middle\" x=\"366\" y=\"-18.3\" font-family=\"Times,serif\" font-size=\"14.00\" fill=\"white\">C</text>\n</g>\n<!-- B&#45;&gt;C -->\n<g id=\"edge6\" class=\"edge\">\n<title>B&#45;&gt;C</title>\n<path fill=\"none\" stroke=\"black\" d=\"M298.4,-22C309.74,-22 324.77,-22 337.68,-22\"/>\n<polygon fill=\"black\" stroke=\"black\" points=\"337.9,-25.5 347.9,-22 337.9,-18.5 337.9,-25.5\"/>\n<text text-anchor=\"start\" x=\"316\" y=\"-25.8\" font-family=\"Times,serif\" font-size=\"14.00\"> 1</text>\n</g>\n<!-- C&#45;&gt;C -->\n<g id=\"edge7\" class=\"edge\">\n<title>C&#45;&gt;C</title>\n<path fill=\"none\" stroke=\"black\" d=\"M362.22,-39.78C361.58,-49.31 362.84,-58 366,-58 367.92,-58 369.14,-54.77 369.66,-50.1\"/>\n<polygon fill=\"black\" stroke=\"black\" points=\"373.16,-49.82 369.78,-39.78 366.16,-49.74 373.16,-49.82\"/>\n<text text-anchor=\"start\" x=\"359\" y=\"-61.8\" font-family=\"Times,serif\" font-size=\"14.00\"> 0</text>\n</g>\n<!-- C&#45;&gt;C -->\n<g id=\"edge8\" class=\"edge\">\n<title>C&#45;&gt;C</title>\n<path fill=\"none\" stroke=\"black\" d=\"M359.86,-39.14C356.24,-56.58 358.29,-76 366,-76 372.2,-76 374.74,-63.43 373.61,-49.43\"/>\n<polygon fill=\"black\" stroke=\"black\" points=\"377.02,-48.55 372.14,-39.14 370.09,-49.54 377.02,-48.55\"/>\n<text text-anchor=\"start\" x=\"359\" y=\"-79.8\" font-family=\"Times,serif\" font-size=\"14.00\"> 1</text>\n</g>\n<!-- F -->\n<g id=\"node6\" class=\"node\">\n<title>F</title>\n<ellipse fill=\"#66cd00\" stroke=\"black\" cx=\"455\" cy=\"-22\" rx=\"18\" ry=\"18\"/>\n<ellipse fill=\"none\" stroke=\"black\" cx=\"455\" cy=\"-22\" rx=\"22\" ry=\"22\"/>\n<text text-anchor=\"middle\" x=\"455\" y=\"-18.3\" font-family=\"Times,serif\" font-size=\"14.00\" fill=\"white\">F</text>\n</g>\n<!-- C&#45;&gt;F -->\n<g id=\"edge9\" class=\"edge\">\n<title>C&#45;&gt;F</title>\n<path fill=\"none\" stroke=\"black\" d=\"M384.19,-22C395.1,-22 409.55,-22 422.47,-22\"/>\n<polygon fill=\"black\" stroke=\"black\" points=\"422.85,-25.5 432.85,-22 422.85,-18.5 422.85,-25.5\"/>\n<text text-anchor=\"start\" x=\"402\" y=\"-25.8\" font-family=\"Times,serif\" font-size=\"14.00\"> &#39;&#39;</text>\n</g>\n<!-- A&#45;&gt;B -->\n<g id=\"edge5\" class=\"edge\">\n<title>A&#45;&gt;B</title>\n<path fill=\"none\" stroke=\"black\" d=\"M212.4,-22C223.74,-22 238.77,-22 251.68,-22\"/>\n<polygon fill=\"black\" stroke=\"black\" points=\"251.9,-25.5 261.9,-22 251.9,-18.5 251.9,-25.5\"/>\n<text text-anchor=\"start\" x=\"230\" y=\"-25.8\" font-family=\"Times,serif\" font-size=\"14.00\"> 0</text>\n</g>\n</g>\n</svg>\n",
          "text/plain": "<graphviz.files.Source at 0x7f4126f7dbb0>"
         },
         "metadata": {},
         "output_type": "display_data"
        }
       ]
      }
     },
     "01e2896d72ea481cb08fa4165ed1e9f0": {
      "model_module": "@jupyter-widgets/base",
      "model_module_version": "1.2.0",
      "model_name": "LayoutModel",
      "state": {
       "width": "200px"
      }
     },
     "02782153eb7246e7a9f77a601b0f9ddd": {
      "model_module": "@jupyter-widgets/output",
      "model_module_version": "1.0.0",
      "model_name": "OutputModel",
      "state": {
       "layout": "IPY_MODEL_0685f345609244519e4466ea5b7830e6",
       "outputs": [
        {
         "name": "stdout",
         "output_type": "stream",
         "text": "string =  \n"
        }
       ]
      }
     },
     "04e2b803169a4f7b99a6859f751c69b7": {
      "model_module": "@jupyter-widgets/controls",
      "model_module_version": "1.5.0",
      "model_name": "DescriptionStyleModel",
      "state": {
       "description_width": ""
      }
     },
     "0625b37ea4ad486ea0f238615bc8ab1b": {
      "model_module": "@jupyter-widgets/base",
      "model_module_version": "1.2.0",
      "model_name": "LayoutModel",
      "state": {
       "width": "40px"
      }
     },
     "0685f345609244519e4466ea5b7830e6": {
      "model_module": "@jupyter-widgets/base",
      "model_module_version": "1.2.0",
      "model_name": "LayoutModel",
      "state": {}
     },
     "0774441bb524414abdb79da6edee2bc3": {
      "model_module": "@jupyter-widgets/base",
      "model_module_version": "1.2.0",
      "model_name": "LayoutModel",
      "state": {}
     },
     "08a5e0f624cd435fb1a6d1da9f8b026a": {
      "model_module": "@jupyter-widgets/output",
      "model_module_version": "1.0.0",
      "model_name": "OutputModel",
      "state": {
       "layout": "IPY_MODEL_bb55a9332a1845fda6a601e6817f17e2",
       "outputs": [
        {
         "name": "stdout",
         "output_type": "stream",
         "text": "string =  111\nStates reached =  {'S0', 'I', 'S1'}\nStates reached =  {'S0', 'I', 'S1', 'S2'}\nStates reached =  {'F', 'S0', 'I', 'S1', 'S2'}\n"
        }
       ]
      }
     },
     "08bbca55d1604dffb23914bd6bc8d86a": {
      "model_module": "@jupyter-widgets/output",
      "model_module_version": "1.0.0",
      "model_name": "OutputModel",
      "state": {
       "layout": "IPY_MODEL_352164727e9f46f3b8fc2b3bf0e77b4a",
       "outputs": [
        {
         "data": {
          "image/svg+xml": "<?xml version=\"1.0\" encoding=\"UTF-8\" standalone=\"no\"?>\n<!DOCTYPE svg PUBLIC \"-//W3C//DTD SVG 1.1//EN\"\n \"http://www.w3.org/Graphics/SVG/1.1/DTD/svg11.dtd\">\n<!-- Generated by graphviz version 2.42.3 (20191010.1750)\n -->\n<!-- Title: %3 Pages: 1 -->\n<svg width=\"409pt\" height=\"47pt\"\n viewBox=\"0.00 0.00 409.00 47.00\" xmlns=\"http://www.w3.org/2000/svg\" xmlns:xlink=\"http://www.w3.org/1999/xlink\">\n<g id=\"graph0\" class=\"graph\" transform=\"scale(1 1) rotate(0) translate(4 43)\">\n<title>%3</title>\n<polygon fill=\"white\" stroke=\"transparent\" points=\"-4,4 -4,-43 405,-43 405,4 -4,4\"/>\n<!-- feed -->\n<g id=\"node1\" class=\"node\">\n<title>feed</title>\n<polygon fill=\"none\" stroke=\"black\" points=\"8.5,-3.5 8.5,-34.5 349.5,-34.5 349.5,-3.5 8.5,-3.5\"/>\n<text text-anchor=\"start\" x=\"17.5\" y=\"-15.9\" font-family=\"Times,serif\" font-size=\"12.00\">0000101010001111101001111010101010101110101</text>\n<polygon fill=\"none\" stroke=\"black\" points=\"349.5,-3.5 349.5,-34.5 375.5,-34.5 375.5,-3.5 349.5,-3.5\"/>\n<text text-anchor=\"start\" x=\"358.5\" y=\"-15.9\" font-family=\"Times,serif\" font-size=\"12.00\"> &#160;</text>\n<polygon fill=\"none\" stroke=\"black\" points=\"375.5,-3.5 375.5,-34.5 393.5,-34.5 393.5,-3.5 375.5,-3.5\"/>\n</g>\n</g>\n</svg>\n",
          "text/plain": "<graphviz.files.Source at 0x7f4126fb6f40>"
         },
         "metadata": {},
         "output_type": "display_data"
        }
       ]
      }
     },
     "0a6f28eec20542a5af0e625c49f4f815": {
      "model_module": "@jupyter-widgets/controls",
      "model_module_version": "1.5.0",
      "model_name": "ButtonModel",
      "state": {
       "icon": "step-backward",
       "layout": "IPY_MODEL_79f1d64d55d446e48278e043078fde6e",
       "style": "IPY_MODEL_c29363aea8334f3ea56348a4ed3e0a56"
      }
     },
     "0e0eb6b1cb494427986a84d537e3ad75": {
      "model_module": "@jupyter-widgets/controls",
      "model_module_version": "1.5.0",
      "model_name": "SelectMultipleModel",
      "state": {
       "_options_labels": [
        "A",
        "B",
        "C",
        "F",
        "I"
       ],
       "description": "Start States:",
       "index": [
        4
       ],
       "layout": "IPY_MODEL_82ca8e7b634c4446bb4833bbaa0e0f0a",
       "rows": 5,
       "style": "IPY_MODEL_c18d6d9df0604e4fa251710f8858de09"
      }
     },
     "10126286009d4051b138085543a2bdc9": {
      "model_module": "@jupyter-widgets/controls",
      "model_module_version": "1.5.0",
      "model_name": "DropdownModel",
      "state": {
       "_options_labels": [
        "N1",
        "N2"
       ],
       "description": "N",
       "index": 0,
       "layout": "IPY_MODEL_2574e8d8fe6f4a45969fc8ec447ef37d",
       "style": "IPY_MODEL_1aa7bf1a121e41bf9ae54ae7a74a794a"
      }
     },
     "13cfd31982824aecb571ca3b805ed294": {
      "model_module": "@jupyter-widgets/controls",
      "model_module_version": "1.5.0",
      "model_name": "DropdownModel",
      "state": {
       "_options_labels": [
        "N1",
        "N2"
       ],
       "description": "N",
       "index": 1,
       "layout": "IPY_MODEL_26b59397e14149c792f31603b5188f98",
       "style": "IPY_MODEL_28284d8a10f64dd2aeab09ab5a753b95"
      }
     },
     "14479e40a4ea4d8187918a1601ff0e74": {
      "model_module": "@jupyter-widgets/base",
      "model_module_version": "1.2.0",
      "model_name": "LayoutModel",
      "state": {}
     },
     "147e0c44f0e04e8f91a2c0e59fcba4e4": {
      "model_module": "@jupyter-widgets/base",
      "model_module_version": "1.2.0",
      "model_name": "LayoutModel",
      "state": {}
     },
     "19733c046c00408a8661d215b183b3a3": {
      "model_module": "@jupyter-widgets/controls",
      "model_module_version": "1.5.0",
      "model_name": "ButtonStyleModel",
      "state": {}
     },
     "1aa7bf1a121e41bf9ae54ae7a74a794a": {
      "model_module": "@jupyter-widgets/controls",
      "model_module_version": "1.5.0",
      "model_name": "DescriptionStyleModel",
      "state": {
       "description_width": ""
      }
     },
     "1abbcfa7658445fb8b15ba51409404ad": {
      "model_module": "@jupyter-widgets/controls",
      "model_module_version": "1.5.0",
      "model_name": "VBoxModel",
      "state": {
       "_dom_classes": [
        "widget-interact"
       ],
       "children": [
        "IPY_MODEL_13cfd31982824aecb571ca3b805ed294",
        "IPY_MODEL_93431bfef7bf45318932e81b06607774",
        "IPY_MODEL_a7ecec23b5a9448e894ed6382e85e6cb",
        "IPY_MODEL_08a5e0f624cd435fb1a6d1da9f8b026a"
       ],
       "layout": "IPY_MODEL_14479e40a4ea4d8187918a1601ff0e74"
      }
     },
     "1f2081d36a4f48798fbf00b38ce497c6": {
      "model_module": "@jupyter-widgets/base",
      "model_module_version": "1.2.0",
      "model_name": "LayoutModel",
      "state": {}
     },
     "1fbe8f98148649e38a255c0aa3079ce9": {
      "model_module": "@jupyter-widgets/base",
      "model_module_version": "1.2.0",
      "model_name": "LayoutModel",
      "state": {
       "width": "40px"
      }
     },
     "210d1bcc3de4456dad2ef151ef87d9d5": {
      "model_module": "@jupyter-widgets/base",
      "model_module_version": "1.2.0",
      "model_name": "LayoutModel",
      "state": {}
     },
     "2574e8d8fe6f4a45969fc8ec447ef37d": {
      "model_module": "@jupyter-widgets/base",
      "model_module_version": "1.2.0",
      "model_name": "LayoutModel",
      "state": {}
     },
     "26b59397e14149c792f31603b5188f98": {
      "model_module": "@jupyter-widgets/base",
      "model_module_version": "1.2.0",
      "model_name": "LayoutModel",
      "state": {}
     },
     "27375c64645547dc88f24edbfd9a5a72": {
      "model_module": "@jupyter-widgets/controls",
      "model_module_version": "1.5.0",
      "model_name": "PlayModel",
      "state": {
       "description": "Press play",
       "interval": 500,
       "layout": "IPY_MODEL_49cd15fb3431451bbc2cf8db9720b65e",
       "max": 3,
       "style": "IPY_MODEL_04e2b803169a4f7b99a6859f751c69b7",
       "value": 3
      }
     },
     "28284d8a10f64dd2aeab09ab5a753b95": {
      "model_module": "@jupyter-widgets/controls",
      "model_module_version": "1.5.0",
      "model_name": "DescriptionStyleModel",
      "state": {
       "description_width": ""
      }
     },
     "31e21c98bdac4978ae14c538eac9df89": {
      "model_module": "@jupyter-widgets/base",
      "model_module_version": "1.2.0",
      "model_name": "LayoutModel",
      "state": {}
     },
     "352164727e9f46f3b8fc2b3bf0e77b4a": {
      "model_module": "@jupyter-widgets/base",
      "model_module_version": "1.2.0",
      "model_name": "LayoutModel",
      "state": {}
     },
     "383aad6c67b74767a531cdd0a128b7a4": {
      "model_module": "@jupyter-widgets/controls",
      "model_module_version": "1.5.0",
      "model_name": "SliderStyleModel",
      "state": {
       "description_width": ""
      }
     },
     "3cb64d461f1e4457b1f44f6f62ca1cb0": {
      "model_module": "@jupyter-widgets/controls",
      "model_module_version": "1.5.0",
      "model_name": "DescriptionStyleModel",
      "state": {
       "description_width": ""
      }
     },
     "4645b1108a9542a99f75f13704bcf44f": {
      "model_module": "@jupyter-widgets/base",
      "model_module_version": "1.2.0",
      "model_name": "LayoutModel",
      "state": {}
     },
     "49cd15fb3431451bbc2cf8db9720b65e": {
      "model_module": "@jupyter-widgets/base",
      "model_module_version": "1.2.0",
      "model_name": "LayoutModel",
      "state": {}
     },
     "4f97cfb778cb4f58aabc51f4195f7cad": {
      "model_module": "@jupyter-widgets/base",
      "model_module_version": "1.2.0",
      "model_name": "LayoutModel",
      "state": {}
     },
     "51c11fe8583843558e0dfcc7edc7f887": {
      "model_module": "@jupyter-widgets/controls",
      "model_module_version": "1.5.0",
      "model_name": "ButtonStyleModel",
      "state": {}
     },
     "5214b39528864f659c9af476a11483fa": {
      "model_module": "@jupyter-widgets/controls",
      "model_module_version": "1.5.0",
      "model_name": "VBoxModel",
      "state": {
       "children": [
        "IPY_MODEL_9734b982212a43a5a820f1ed34a3f27e",
        "IPY_MODEL_a0691fb9bc9745989ae29be860a5eafc",
        "IPY_MODEL_e5fb2398045d458f8f2a5dfdb4270dff",
        "IPY_MODEL_d97158fa96414b74ae5c38a4534e5804"
       ],
       "layout": "IPY_MODEL_1f2081d36a4f48798fbf00b38ce497c6"
      }
     },
     "54916faea51f48e193408b85ecfcb159": {
      "model_module": "@jupyter-widgets/controls",
      "model_module_version": "1.5.0",
      "model_name": "ButtonModel",
      "state": {
       "icon": "step-backward",
       "layout": "IPY_MODEL_8517e063aa9041a98b9819b69ab86b49",
       "style": "IPY_MODEL_fc6a4a88110e4a1c91c33a23da4b03db"
      }
     },
     "59652071f5dd4c7692f86295b38a75e8": {
      "model_module": "@jupyter-widgets/controls",
      "model_module_version": "1.5.0",
      "model_name": "PlayModel",
      "state": {
       "description": "Press play",
       "disabled": true,
       "interval": 950,
       "layout": "IPY_MODEL_b149eaefb63842d698ca6e861de2ac12",
       "style": "IPY_MODEL_da60465997704ae2b1b6af64ac1e05ca"
      }
     },
     "5c4d2d9d015c49b597d975c596d1b502": {
      "model_module": "@jupyter-widgets/controls",
      "model_module_version": "1.5.0",
      "model_name": "VBoxModel",
      "state": {
       "children": [
        "IPY_MODEL_c306475bbae643b8ab4aee18a905731b",
        "IPY_MODEL_005940bd01a4474d9453056c72cb58cd",
        "IPY_MODEL_08bbca55d1604dffb23914bd6bc8d86a",
        "IPY_MODEL_f90c1be1e1794e4c932b6ec51197a70b"
       ],
       "layout": "IPY_MODEL_e67795c3569f4f47b0b2f6f03efc061f"
      }
     },
     "5d5bc3d89b194e26863cb58773f70702": {
      "model_module": "@jupyter-widgets/controls",
      "model_module_version": "1.5.0",
      "model_name": "SliderStyleModel",
      "state": {
       "description_width": ""
      }
     },
     "61349c45fb9b4638ba025ec283cb45a4": {
      "model_module": "@jupyter-widgets/base",
      "model_module_version": "1.2.0",
      "model_name": "LayoutModel",
      "state": {}
     },
     "63b0ae62af844c878467d2bba83b499e": {
      "model_module": "@jupyter-widgets/controls",
      "model_module_version": "1.5.0",
      "model_name": "VBoxModel",
      "state": {
       "_dom_classes": [
        "widget-interact"
       ],
       "children": [
        "IPY_MODEL_10126286009d4051b138085543a2bdc9",
        "IPY_MODEL_fe3a21253a414194b8143b2c45c6d493",
        "IPY_MODEL_750dfb732bc34d018d2f980f5eb5eeba",
        "IPY_MODEL_02782153eb7246e7a9f77a601b0f9ddd"
       ],
       "layout": "IPY_MODEL_afd3b1c180d047c6b7d8702d12ba1602"
      }
     },
     "6636c76cfbdd4fdeace83844594750ab": {
      "model_module": "@jupyter-widgets/controls",
      "model_module_version": "1.5.0",
      "model_name": "DescriptionStyleModel",
      "state": {
       "description_width": ""
      }
     },
     "69a5fdeb32b245cda7197ddab7d17669": {
      "model_module": "@jupyter-widgets/base",
      "model_module_version": "1.2.0",
      "model_name": "LayoutModel",
      "state": {}
     },
     "6b1e86f800564e5d899720bf912c90fa": {
      "model_module": "@jupyter-widgets/base",
      "model_module_version": "1.2.0",
      "model_name": "LayoutModel",
      "state": {}
     },
     "6b65cc85e466470b93e673cdfb44bc07": {
      "model_module": "@jupyter-widgets/controls",
      "model_module_version": "1.5.0",
      "model_name": "DescriptionStyleModel",
      "state": {
       "description_width": ""
      }
     },
     "6c19e6b534c945c6b3af377a452216f7": {
      "model_module": "@jupyter-widgets/controls",
      "model_module_version": "1.5.0",
      "model_name": "SliderStyleModel",
      "state": {
       "description_width": ""
      }
     },
     "6c5737d32f4e4a9787ea0c1c36486ff8": {
      "model_module": "@jupyter-widgets/controls",
      "model_module_version": "1.5.0",
      "model_name": "ButtonStyleModel",
      "state": {}
     },
     "6d9d75585f044b54bb402f812c410203": {
      "model_module": "@jupyter-widgets/controls",
      "model_module_version": "1.5.0",
      "model_name": "ButtonModel",
      "state": {
       "disabled": true,
       "icon": "step-forward",
       "layout": "IPY_MODEL_0625b37ea4ad486ea0f238615bc8ab1b",
       "style": "IPY_MODEL_6c5737d32f4e4a9787ea0c1c36486ff8"
      }
     },
     "6ecf3caa6bea40cfa76a49ec82c1183f": {
      "model_module": "@jupyter-widgets/controls",
      "model_module_version": "1.5.0",
      "model_name": "ButtonModel",
      "state": {
       "disabled": true,
       "icon": "step-forward",
       "layout": "IPY_MODEL_1fbe8f98148649e38a255c0aa3079ce9",
       "style": "IPY_MODEL_51c11fe8583843558e0dfcc7edc7f887"
      }
     },
     "70061ec30f0d43d1beb8a036882f82a9": {
      "model_module": "@jupyter-widgets/base",
      "model_module_version": "1.2.0",
      "model_name": "LayoutModel",
      "state": {
       "width": "200px"
      }
     },
     "70e4e0d78802478c970c126ec1bf7562": {
      "model_module": "@jupyter-widgets/base",
      "model_module_version": "1.2.0",
      "model_name": "LayoutModel",
      "state": {}
     },
     "73016cc5540943229945f8da75023ec3": {
      "model_module": "@jupyter-widgets/output",
      "model_module_version": "1.0.0",
      "model_name": "OutputModel",
      "state": {
       "layout": "IPY_MODEL_b9d05b7400a64cb9905e08f5adfbead8",
       "outputs": [
        {
         "data": {
          "image/svg+xml": "<?xml version=\"1.0\" encoding=\"UTF-8\" standalone=\"no\"?>\n<!DOCTYPE svg PUBLIC \"-//W3C//DTD SVG 1.1//EN\"\n \"http://www.w3.org/Graphics/SVG/1.1/DTD/svg11.dtd\">\n<!-- Generated by graphviz version 2.42.3 (20191010.1750)\n -->\n<!-- Title: %3 Pages: 1 -->\n<svg width=\"94pt\" height=\"47pt\"\n viewBox=\"0.00 0.00 94.00 47.00\" xmlns=\"http://www.w3.org/2000/svg\" xmlns:xlink=\"http://www.w3.org/1999/xlink\">\n<g id=\"graph0\" class=\"graph\" transform=\"scale(1 1) rotate(0) translate(4 43)\">\n<title>%3</title>\n<polygon fill=\"white\" stroke=\"transparent\" points=\"-4,4 -4,-43 90,-43 90,4 -4,4\"/>\n<!-- feed -->\n<g id=\"node1\" class=\"node\">\n<title>feed</title>\n<polygon fill=\"none\" stroke=\"black\" points=\"8,-3.5 8,-34.5 34,-34.5 34,-3.5 8,-3.5\"/>\n<text text-anchor=\"start\" x=\"17\" y=\"-15.9\" font-family=\"Times,serif\" font-size=\"12.00\">0</text>\n<polygon fill=\"none\" stroke=\"black\" points=\"34,-3.5 34,-34.5 60,-34.5 60,-3.5 34,-3.5\"/>\n<text text-anchor=\"start\" x=\"43\" y=\"-15.9\" font-family=\"Times,serif\" font-size=\"12.00\"> &#160;</text>\n<polygon fill=\"none\" stroke=\"black\" points=\"60,-3.5 60,-34.5 78,-34.5 78,-3.5 60,-3.5\"/>\n</g>\n</g>\n</svg>\n",
          "text/plain": "<graphviz.files.Source at 0x7fb7165a8790>"
         },
         "metadata": {},
         "output_type": "display_data"
        }
       ]
      }
     },
     "750dfb732bc34d018d2f980f5eb5eeba": {
      "model_module": "@jupyter-widgets/controls",
      "model_module_version": "1.5.0",
      "model_name": "IntSliderModel",
      "state": {
       "description": "n",
       "layout": "IPY_MODEL_b5c6e5886fb74cb4a594e8770305525a",
       "max": 32,
       "style": "IPY_MODEL_5d5bc3d89b194e26863cb58773f70702"
      }
     },
     "79f1d64d55d446e48278e043078fde6e": {
      "model_module": "@jupyter-widgets/base",
      "model_module_version": "1.2.0",
      "model_name": "LayoutModel",
      "state": {
       "width": "40px"
      }
     },
     "81447a313583406d9f58693dd33d1d16": {
      "model_module": "@jupyter-widgets/base",
      "model_module_version": "1.2.0",
      "model_name": "LayoutModel",
      "state": {}
     },
     "82ca8e7b634c4446bb4833bbaa0e0f0a": {
      "model_module": "@jupyter-widgets/base",
      "model_module_version": "1.2.0",
      "model_name": "LayoutModel",
      "state": {
       "width": "200px"
      }
     },
     "83005b74469c4062a0d95ab61f3a3774": {
      "model_module": "@jupyter-widgets/controls",
      "model_module_version": "1.5.0",
      "model_name": "DescriptionStyleModel",
      "state": {
       "description_width": ""
      }
     },
     "8517e063aa9041a98b9819b69ab86b49": {
      "model_module": "@jupyter-widgets/base",
      "model_module_version": "1.2.0",
      "model_name": "LayoutModel",
      "state": {
       "width": "40px"
      }
     },
     "85420e3ca85d42b39f2e6feabcff179d": {
      "model_module": "@jupyter-widgets/controls",
      "model_module_version": "1.5.0",
      "model_name": "IntSliderModel",
      "state": {
       "continuous_update": false,
       "description": "Speed:",
       "layout": "IPY_MODEL_9a7cca12536d4b7ca850deeaafbf54b6",
       "max": 10,
       "min": 1,
       "style": "IPY_MODEL_d5279af73c564f3b995985a17cc99700",
       "value": 10
      }
     },
     "856b1ef1a1f94e2c8901749b73425210": {
      "model_module": "@jupyter-widgets/controls",
      "model_module_version": "1.5.0",
      "model_name": "ButtonModel",
      "state": {
       "disabled": true,
       "icon": "step-forward",
       "layout": "IPY_MODEL_8cdf3d6ea1a44f3b9de10e9999c76b49",
       "style": "IPY_MODEL_b1b9fc0741f94e448de9481dd33b68df"
      }
     },
     "8c2ec5a6578743d196d58ed850d7aefa": {
      "model_module": "@jupyter-widgets/base",
      "model_module_version": "1.2.0",
      "model_name": "LayoutModel",
      "state": {}
     },
     "8cdf3d6ea1a44f3b9de10e9999c76b49": {
      "model_module": "@jupyter-widgets/base",
      "model_module_version": "1.2.0",
      "model_name": "LayoutModel",
      "state": {
       "width": "40px"
      }
     },
     "8dc24d34823b44b7be377518404a47ea": {
      "model_module": "@jupyter-widgets/controls",
      "model_module_version": "1.5.0",
      "model_name": "DescriptionStyleModel",
      "state": {
       "description_width": ""
      }
     },
     "93431bfef7bf45318932e81b06607774": {
      "model_module": "@jupyter-widgets/controls",
      "model_module_version": "1.5.0",
      "model_name": "TextModel",
      "state": {
       "description": "s",
       "layout": "IPY_MODEL_147e0c44f0e04e8f91a2c0e59fcba4e4",
       "style": "IPY_MODEL_8dc24d34823b44b7be377518404a47ea",
       "value": "111"
      }
     },
     "9734b982212a43a5a820f1ed34a3f27e": {
      "model_module": "@jupyter-widgets/controls",
      "model_module_version": "1.5.0",
      "model_name": "HBoxModel",
      "state": {
       "children": [
        "IPY_MODEL_edc0825a312841bab9934417e58134eb",
        "IPY_MODEL_c260f5bcb1dc4fefa0d7284f24712c79"
       ],
       "layout": "IPY_MODEL_c2baa3d31cf3417e8fc277519a96d1ef"
      }
     },
     "9a7cca12536d4b7ca850deeaafbf54b6": {
      "model_module": "@jupyter-widgets/base",
      "model_module_version": "1.2.0",
      "model_name": "LayoutModel",
      "state": {}
     },
     "9c8799fbe8f1419b91a552080c16f699": {
      "model_module": "@jupyter-widgets/base",
      "model_module_version": "1.2.0",
      "model_name": "LayoutModel",
      "state": {
       "width": "500px"
      }
     },
     "9f5840306fd1422b93c64baf1ba58b3f": {
      "model_module": "@jupyter-widgets/base",
      "model_module_version": "1.2.0",
      "model_name": "LayoutModel",
      "state": {}
     },
     "9ff24fb69e454b3a96c3b0cb4ecdf83f": {
      "model_module": "@jupyter-widgets/base",
      "model_module_version": "1.2.0",
      "model_name": "LayoutModel",
      "state": {
       "width": "40px"
      }
     },
     "a04b66c2a1de4bbf9e45839f24676a57": {
      "model_module": "@jupyter-widgets/controls",
      "model_module_version": "1.5.0",
      "model_name": "ButtonStyleModel",
      "state": {}
     },
     "a0691fb9bc9745989ae29be860a5eafc": {
      "model_module": "@jupyter-widgets/output",
      "model_module_version": "1.0.0",
      "model_name": "OutputModel",
      "state": {
       "layout": "IPY_MODEL_0774441bb524414abdb79da6edee2bc3",
       "outputs": [
        {
         "data": {
          "image/svg+xml": "<?xml version=\"1.0\" encoding=\"UTF-8\" standalone=\"no\"?>\n<!DOCTYPE svg PUBLIC \"-//W3C//DTD SVG 1.1//EN\"\n \"http://www.w3.org/Graphics/SVG/1.1/DTD/svg11.dtd\">\n<!-- Generated by graphviz version 2.42.3 (20191010.1750)\n -->\n<!-- Title: %3 Pages: 1 -->\n<svg width=\"485pt\" height=\"114pt\"\n viewBox=\"0.00 0.00 485.00 114.00\" xmlns=\"http://www.w3.org/2000/svg\" xmlns:xlink=\"http://www.w3.org/1999/xlink\">\n<g id=\"graph0\" class=\"graph\" transform=\"scale(1 1) rotate(0) translate(4 110)\">\n<title>%3</title>\n<polygon fill=\"white\" stroke=\"transparent\" points=\"-4,4 -4,-110 481,-110 481,4 -4,4\"/>\n<!-- EMPTY -->\n<g id=\"node1\" class=\"node\">\n<title>EMPTY</title>\n</g>\n<!-- I -->\n<g id=\"node3\" class=\"node\">\n<title>I</title>\n<ellipse fill=\"none\" stroke=\"black\" cx=\"109\" cy=\"-22\" rx=\"18\" ry=\"18\"/>\n<text text-anchor=\"middle\" x=\"109\" y=\"-18.3\" font-family=\"Times,serif\" font-size=\"14.00\">I</text>\n</g>\n<!-- EMPTY&#45;&gt;I -->\n<g id=\"edge1\" class=\"edge\">\n<title>EMPTY&#45;&gt;I</title>\n<path fill=\"none\" stroke=\"black\" d=\"M54.19,-22C62.65,-22 72.05,-22 80.6,-22\"/>\n<polygon fill=\"black\" stroke=\"black\" points=\"80.83,-25.5 90.83,-22 80.83,-18.5 80.83,-25.5\"/>\n</g>\n<!-- B -->\n<g id=\"node2\" class=\"node\">\n<title>B</title>\n<ellipse fill=\"none\" stroke=\"black\" cx=\"280\" cy=\"-22\" rx=\"18\" ry=\"18\"/>\n<text text-anchor=\"middle\" x=\"280\" y=\"-18.3\" font-family=\"Times,serif\" font-size=\"14.00\">B</text>\n</g>\n<!-- C -->\n<g id=\"node4\" class=\"node\">\n<title>C</title>\n<ellipse fill=\"none\" stroke=\"black\" cx=\"366\" cy=\"-22\" rx=\"18\" ry=\"18\"/>\n<text text-anchor=\"middle\" x=\"366\" y=\"-18.3\" font-family=\"Times,serif\" font-size=\"14.00\">C</text>\n</g>\n<!-- B&#45;&gt;C -->\n<g id=\"edge6\" class=\"edge\">\n<title>B&#45;&gt;C</title>\n<path fill=\"none\" stroke=\"black\" d=\"M298.4,-22C309.74,-22 324.77,-22 337.68,-22\"/>\n<polygon fill=\"black\" stroke=\"black\" points=\"337.9,-25.5 347.9,-22 337.9,-18.5 337.9,-25.5\"/>\n<text text-anchor=\"start\" x=\"316\" y=\"-25.8\" font-family=\"Times,serif\" font-size=\"14.00\"> 1</text>\n</g>\n<!-- I&#45;&gt;I -->\n<g id=\"edge2\" class=\"edge\">\n<title>I&#45;&gt;I</title>\n<path fill=\"none\" stroke=\"black\" d=\"M105.76,-39.78C105.21,-49.31 106.29,-58 109,-58 110.65,-58 111.69,-54.77 112.13,-50.1\"/>\n<polygon fill=\"black\" stroke=\"black\" points=\"115.64,-49.82 112.24,-39.78 108.64,-49.75 115.64,-49.82\"/>\n<text text-anchor=\"start\" x=\"102\" y=\"-61.8\" font-family=\"Times,serif\" font-size=\"14.00\"> 0</text>\n</g>\n<!-- I&#45;&gt;I -->\n<g id=\"edge3\" class=\"edge\">\n<title>I&#45;&gt;I</title>\n<path fill=\"none\" stroke=\"black\" d=\"M103.68,-39.42C100.65,-56.79 102.43,-76 109,-76 114.29,-76 116.47,-63.56 115.54,-49.65\"/>\n<polygon fill=\"black\" stroke=\"black\" points=\"118.98,-48.93 114.32,-39.42 112.03,-49.77 118.98,-48.93\"/>\n<text text-anchor=\"start\" x=\"102\" y=\"-79.8\" font-family=\"Times,serif\" font-size=\"14.00\"> 1</text>\n</g>\n<!-- A -->\n<g id=\"node5\" class=\"node\">\n<title>A</title>\n<ellipse fill=\"none\" stroke=\"black\" cx=\"194\" cy=\"-22\" rx=\"18\" ry=\"18\"/>\n<text text-anchor=\"middle\" x=\"194\" y=\"-18.3\" font-family=\"Times,serif\" font-size=\"14.00\">A</text>\n</g>\n<!-- I&#45;&gt;A -->\n<g id=\"edge4\" class=\"edge\">\n<title>I&#45;&gt;A</title>\n<path fill=\"none\" stroke=\"black\" d=\"M127.2,-22C138.33,-22 153.06,-22 165.76,-22\"/>\n<polygon fill=\"black\" stroke=\"black\" points=\"165.82,-25.5 175.82,-22 165.82,-18.5 165.82,-25.5\"/>\n<text text-anchor=\"start\" x=\"145\" y=\"-25.8\" font-family=\"Times,serif\" font-size=\"14.00\"> &#39;&#39;</text>\n</g>\n<!-- C&#45;&gt;C -->\n<g id=\"edge7\" class=\"edge\">\n<title>C&#45;&gt;C</title>\n<path fill=\"none\" stroke=\"black\" d=\"M362.22,-39.78C361.58,-49.31 362.84,-58 366,-58 367.92,-58 369.14,-54.77 369.66,-50.1\"/>\n<polygon fill=\"black\" stroke=\"black\" points=\"373.16,-49.82 369.78,-39.78 366.16,-49.74 373.16,-49.82\"/>\n<text text-anchor=\"start\" x=\"359\" y=\"-61.8\" font-family=\"Times,serif\" font-size=\"14.00\"> 0</text>\n</g>\n<!-- C&#45;&gt;C -->\n<g id=\"edge8\" class=\"edge\">\n<title>C&#45;&gt;C</title>\n<path fill=\"none\" stroke=\"black\" d=\"M359.86,-39.14C356.24,-56.58 358.29,-76 366,-76 372.2,-76 374.74,-63.43 373.61,-49.43\"/>\n<polygon fill=\"black\" stroke=\"black\" points=\"377.02,-48.55 372.14,-39.14 370.09,-49.54 377.02,-48.55\"/>\n<text text-anchor=\"start\" x=\"359\" y=\"-79.8\" font-family=\"Times,serif\" font-size=\"14.00\"> 1</text>\n</g>\n<!-- F -->\n<g id=\"node6\" class=\"node\">\n<title>F</title>\n<ellipse fill=\"none\" stroke=\"black\" cx=\"455\" cy=\"-22\" rx=\"18\" ry=\"18\"/>\n<ellipse fill=\"none\" stroke=\"black\" cx=\"455\" cy=\"-22\" rx=\"22\" ry=\"22\"/>\n<text text-anchor=\"middle\" x=\"455\" y=\"-18.3\" font-family=\"Times,serif\" font-size=\"14.00\">F</text>\n</g>\n<!-- C&#45;&gt;F -->\n<g id=\"edge9\" class=\"edge\">\n<title>C&#45;&gt;F</title>\n<path fill=\"none\" stroke=\"black\" d=\"M384.19,-22C395.1,-22 409.55,-22 422.47,-22\"/>\n<polygon fill=\"black\" stroke=\"black\" points=\"422.85,-25.5 432.85,-22 422.85,-18.5 422.85,-25.5\"/>\n<text text-anchor=\"start\" x=\"402\" y=\"-25.8\" font-family=\"Times,serif\" font-size=\"14.00\"> &#39;&#39;</text>\n</g>\n<!-- A&#45;&gt;B -->\n<g id=\"edge5\" class=\"edge\">\n<title>A&#45;&gt;B</title>\n<path fill=\"none\" stroke=\"black\" d=\"M212.4,-22C223.74,-22 238.77,-22 251.68,-22\"/>\n<polygon fill=\"black\" stroke=\"black\" points=\"251.9,-25.5 261.9,-22 251.9,-18.5 251.9,-25.5\"/>\n<text text-anchor=\"start\" x=\"230\" y=\"-25.8\" font-family=\"Times,serif\" font-size=\"14.00\"> 0</text>\n</g>\n</g>\n</svg>\n",
          "text/plain": "<graphviz.files.Source at 0x7fb7165a8b20>"
         },
         "metadata": {},
         "output_type": "display_data"
        }
       ]
      }
     },
     "a170544940c94181b5f80226751b6008": {
      "model_module": "@jupyter-widgets/base",
      "model_module_version": "1.2.0",
      "model_name": "LayoutModel",
      "state": {}
     },
     "a2acd91ef49741aba764c452e6d48e6c": {
      "model_module": "@jupyter-widgets/base",
      "model_module_version": "1.2.0",
      "model_name": "LayoutModel",
      "state": {
       "width": "500px"
      }
     },
     "a60d02e5d1824bd3aedbe5d62368a157": {
      "model_module": "@jupyter-widgets/controls",
      "model_module_version": "1.5.0",
      "model_name": "SelectMultipleModel",
      "state": {
       "_options_labels": [
        "A",
        "B",
        "C",
        "F",
        "I"
       ],
       "description": "Start States:",
       "disabled": true,
       "index": [
        4
       ],
       "layout": "IPY_MODEL_01e2896d72ea481cb08fa4165ed1e9f0",
       "rows": 5,
       "style": "IPY_MODEL_3cb64d461f1e4457b1f44f6f62ca1cb0"
      }
     },
     "a7ecec23b5a9448e894ed6382e85e6cb": {
      "model_module": "@jupyter-widgets/controls",
      "model_module_version": "1.5.0",
      "model_name": "IntSliderModel",
      "state": {
       "description": "n",
       "layout": "IPY_MODEL_c9268fcdd747430d837a4d9e5d5fa8e2",
       "max": 32,
       "style": "IPY_MODEL_383aad6c67b74767a531cdd0a128b7a4",
       "value": 32
      }
     },
     "a94d168919f342d0b0b2a652cf6b4d44": {
      "model_module": "@jupyter-widgets/base",
      "model_module_version": "1.2.0",
      "model_name": "LayoutModel",
      "state": {}
     },
     "a9cc3bffdd3340c59637c54095f137a1": {
      "model_module": "@jupyter-widgets/controls",
      "model_module_version": "1.5.0",
      "model_name": "TextModel",
      "state": {
       "description": "Input:",
       "disabled": true,
       "layout": "IPY_MODEL_a2acd91ef49741aba764c452e6d48e6c",
       "placeholder": "Sigma: {0,1}",
       "style": "IPY_MODEL_6636c76cfbdd4fdeace83844594750ab",
       "value": "0"
      }
     },
     "af5d00be81284ab4bf59396bf435276a": {
      "model_module": "@jupyter-widgets/controls",
      "model_module_version": "1.5.0",
      "model_name": "SelectMultipleModel",
      "state": {
       "_options_labels": [
        "A",
        "B",
        "C",
        "D",
        "E",
        "F",
        "G",
        "I"
       ],
       "description": "Start States:",
       "disabled": true,
       "index": [
        7
       ],
       "layout": "IPY_MODEL_70061ec30f0d43d1beb8a036882f82a9",
       "rows": 5,
       "style": "IPY_MODEL_c47a76f0886143f0848f2323d30b4b15"
      }
     },
     "afd3b1c180d047c6b7d8702d12ba1602": {
      "model_module": "@jupyter-widgets/base",
      "model_module_version": "1.2.0",
      "model_name": "LayoutModel",
      "state": {}
     },
     "b149eaefb63842d698ca6e861de2ac12": {
      "model_module": "@jupyter-widgets/base",
      "model_module_version": "1.2.0",
      "model_name": "LayoutModel",
      "state": {}
     },
     "b1b9fc0741f94e448de9481dd33b68df": {
      "model_module": "@jupyter-widgets/controls",
      "model_module_version": "1.5.0",
      "model_name": "ButtonStyleModel",
      "state": {}
     },
     "b5c6e5886fb74cb4a594e8770305525a": {
      "model_module": "@jupyter-widgets/base",
      "model_module_version": "1.2.0",
      "model_name": "LayoutModel",
      "state": {}
     },
     "b6577fd8514b4627a9a1f629bf2e1243": {
      "model_module": "@jupyter-widgets/controls",
      "model_module_version": "1.5.0",
      "model_name": "HBoxModel",
      "state": {
       "children": [
        "IPY_MODEL_27375c64645547dc88f24edbfd9a5a72",
        "IPY_MODEL_0a6f28eec20542a5af0e625c49f4f815",
        "IPY_MODEL_6d9d75585f044b54bb402f812c410203",
        "IPY_MODEL_85420e3ca85d42b39f2e6feabcff179d"
       ],
       "layout": "IPY_MODEL_69a5fdeb32b245cda7197ddab7d17669"
      }
     },
     "b8672906ef3d4b81bbc11490478b19eb": {
      "model_module": "@jupyter-widgets/controls",
      "model_module_version": "1.5.0",
      "model_name": "TextModel",
      "state": {
       "description": "Input:",
       "disabled": true,
       "layout": "IPY_MODEL_9c8799fbe8f1419b91a552080c16f699",
       "placeholder": "Sigma: {0,1}",
       "style": "IPY_MODEL_e4da7a1b642d47eab20602bb16ff058a",
       "value": "0000101010001111101001111010101010101110101"
      }
     },
     "b9d05b7400a64cb9905e08f5adfbead8": {
      "model_module": "@jupyter-widgets/base",
      "model_module_version": "1.2.0",
      "model_name": "LayoutModel",
      "state": {}
     },
     "bae434a226ae43b0ba3687aa820928f7": {
      "model_module": "@jupyter-widgets/base",
      "model_module_version": "1.2.0",
      "model_name": "LayoutModel",
      "state": {}
     },
     "bb55a9332a1845fda6a601e6817f17e2": {
      "model_module": "@jupyter-widgets/base",
      "model_module_version": "1.2.0",
      "model_name": "LayoutModel",
      "state": {}
     },
     "bcc97c06a5d649c9ad1fe6e1398c1087": {
      "model_module": "@jupyter-widgets/base",
      "model_module_version": "1.2.0",
      "model_name": "LayoutModel",
      "state": {
       "width": "500px"
      }
     },
     "c18d6d9df0604e4fa251710f8858de09": {
      "model_module": "@jupyter-widgets/controls",
      "model_module_version": "1.5.0",
      "model_name": "DescriptionStyleModel",
      "state": {
       "description_width": ""
      }
     },
     "c260f5bcb1dc4fefa0d7284f24712c79": {
      "model_module": "@jupyter-widgets/controls",
      "model_module_version": "1.5.0",
      "model_name": "ButtonModel",
      "state": {
       "button_style": "primary",
       "description": "Animate",
       "layout": "IPY_MODEL_70e4e0d78802478c970c126ec1bf7562",
       "style": "IPY_MODEL_cd0f5eb8d66549788c6efa900bcdb188"
      }
     },
     "c29363aea8334f3ea56348a4ed3e0a56": {
      "model_module": "@jupyter-widgets/controls",
      "model_module_version": "1.5.0",
      "model_name": "ButtonStyleModel",
      "state": {}
     },
     "c2baa3d31cf3417e8fc277519a96d1ef": {
      "model_module": "@jupyter-widgets/base",
      "model_module_version": "1.2.0",
      "model_name": "LayoutModel",
      "state": {}
     },
     "c306475bbae643b8ab4aee18a905731b": {
      "model_module": "@jupyter-widgets/controls",
      "model_module_version": "1.5.0",
      "model_name": "HBoxModel",
      "state": {
       "children": [
        "IPY_MODEL_b8672906ef3d4b81bbc11490478b19eb",
        "IPY_MODEL_d855fc84112b4ee2b60acb0482d6ada7"
       ],
       "layout": "IPY_MODEL_a170544940c94181b5f80226751b6008"
      }
     },
     "c322d41e42774a31b251c060f374773c": {
      "model_module": "@jupyter-widgets/controls",
      "model_module_version": "1.5.0",
      "model_name": "HBoxModel",
      "state": {
       "children": [
        "IPY_MODEL_a9cc3bffdd3340c59637c54095f137a1",
        "IPY_MODEL_cae4453f5b6d4218b900f93180885613"
       ],
       "layout": "IPY_MODEL_81447a313583406d9f58693dd33d1d16"
      }
     },
     "c47a76f0886143f0848f2323d30b4b15": {
      "model_module": "@jupyter-widgets/controls",
      "model_module_version": "1.5.0",
      "model_name": "DescriptionStyleModel",
      "state": {
       "description_width": ""
      }
     },
     "c6bd290f872d4ab5bfc63ce4497f8520": {
      "model_module": "@jupyter-widgets/base",
      "model_module_version": "1.2.0",
      "model_name": "LayoutModel",
      "state": {}
     },
     "c9268fcdd747430d837a4d9e5d5fa8e2": {
      "model_module": "@jupyter-widgets/base",
      "model_module_version": "1.2.0",
      "model_name": "LayoutModel",
      "state": {}
     },
     "cae4453f5b6d4218b900f93180885613": {
      "model_module": "@jupyter-widgets/controls",
      "model_module_version": "1.5.0",
      "model_name": "ButtonModel",
      "state": {
       "button_style": "primary",
       "description": "Change Input",
       "layout": "IPY_MODEL_4f97cfb778cb4f58aabc51f4195f7cad",
       "style": "IPY_MODEL_19733c046c00408a8661d215b183b3a3"
      }
     },
     "cd0f5eb8d66549788c6efa900bcdb188": {
      "model_module": "@jupyter-widgets/controls",
      "model_module_version": "1.5.0",
      "model_name": "ButtonStyleModel",
      "state": {}
     },
     "d5279af73c564f3b995985a17cc99700": {
      "model_module": "@jupyter-widgets/controls",
      "model_module_version": "1.5.0",
      "model_name": "SliderStyleModel",
      "state": {
       "description_width": ""
      }
     },
     "d855fc84112b4ee2b60acb0482d6ada7": {
      "model_module": "@jupyter-widgets/controls",
      "model_module_version": "1.5.0",
      "model_name": "ButtonModel",
      "state": {
       "button_style": "primary",
       "description": "Change Input",
       "layout": "IPY_MODEL_210d1bcc3de4456dad2ef151ef87d9d5",
       "style": "IPY_MODEL_a04b66c2a1de4bbf9e45839f24676a57"
      }
     },
     "d97158fa96414b74ae5c38a4534e5804": {
      "model_module": "@jupyter-widgets/controls",
      "model_module_version": "1.5.0",
      "model_name": "HBoxModel",
      "state": {
       "children": [
        "IPY_MODEL_59652071f5dd4c7692f86295b38a75e8",
        "IPY_MODEL_e31022f1ca9b44869029a6b20584d03b",
        "IPY_MODEL_856b1ef1a1f94e2c8901749b73425210",
        "IPY_MODEL_f61fef00ec0f404a81d9e22fb6e20713"
       ],
       "layout": "IPY_MODEL_a94d168919f342d0b0b2a652cf6b4d44"
      }
     },
     "da60465997704ae2b1b6af64ac1e05ca": {
      "model_module": "@jupyter-widgets/controls",
      "model_module_version": "1.5.0",
      "model_name": "DescriptionStyleModel",
      "state": {
       "description_width": ""
      }
     },
     "da68343c40c64ef39a54c8425e2d8f34": {
      "model_module": "@jupyter-widgets/controls",
      "model_module_version": "1.5.0",
      "model_name": "SliderStyleModel",
      "state": {
       "description_width": ""
      }
     },
     "dd77b204348a405da7fab16585ae8054": {
      "model_module": "@jupyter-widgets/controls",
      "model_module_version": "1.5.0",
      "model_name": "IntSliderModel",
      "state": {
       "continuous_update": false,
       "description": "Speed:",
       "layout": "IPY_MODEL_8c2ec5a6578743d196d58ed850d7aefa",
       "max": 10,
       "min": 1,
       "style": "IPY_MODEL_da68343c40c64ef39a54c8425e2d8f34",
       "value": 1
      }
     },
     "e31022f1ca9b44869029a6b20584d03b": {
      "model_module": "@jupyter-widgets/controls",
      "model_module_version": "1.5.0",
      "model_name": "ButtonModel",
      "state": {
       "disabled": true,
       "icon": "step-backward",
       "layout": "IPY_MODEL_9ff24fb69e454b3a96c3b0cb4ecdf83f",
       "style": "IPY_MODEL_fe851873f3324cb7ad8d3974e29a5af0"
      }
     },
     "e4da7a1b642d47eab20602bb16ff058a": {
      "model_module": "@jupyter-widgets/controls",
      "model_module_version": "1.5.0",
      "model_name": "DescriptionStyleModel",
      "state": {
       "description_width": ""
      }
     },
     "e5fb2398045d458f8f2a5dfdb4270dff": {
      "model_module": "@jupyter-widgets/output",
      "model_module_version": "1.0.0",
      "model_name": "OutputModel",
      "state": {
       "layout": "IPY_MODEL_4645b1108a9542a99f75f13704bcf44f"
      }
     },
     "e67795c3569f4f47b0b2f6f03efc061f": {
      "model_module": "@jupyter-widgets/base",
      "model_module_version": "1.2.0",
      "model_name": "LayoutModel",
      "state": {}
     },
     "edc0825a312841bab9934417e58134eb": {
      "model_module": "@jupyter-widgets/controls",
      "model_module_version": "1.5.0",
      "model_name": "TextModel",
      "state": {
       "description": "Input:",
       "layout": "IPY_MODEL_bcc97c06a5d649c9ad1fe6e1398c1087",
       "placeholder": "Sigma: {0,1}",
       "style": "IPY_MODEL_6b65cc85e466470b93e673cdfb44bc07"
      }
     },
     "ee6b2b44e4b343cda0fcbbf9067a9ff8": {
      "model_module": "@jupyter-widgets/controls",
      "model_module_version": "1.5.0",
      "model_name": "DescriptionStyleModel",
      "state": {
       "description_width": ""
      }
     },
     "f021e55eb6ce4796aec992c174810d02": {
      "model_module": "@jupyter-widgets/base",
      "model_module_version": "1.2.0",
      "model_name": "LayoutModel",
      "state": {}
     },
     "f61fef00ec0f404a81d9e22fb6e20713": {
      "model_module": "@jupyter-widgets/controls",
      "model_module_version": "1.5.0",
      "model_name": "IntSliderModel",
      "state": {
       "continuous_update": false,
       "description": "Speed:",
       "disabled": true,
       "layout": "IPY_MODEL_6b1e86f800564e5d899720bf912c90fa",
       "max": 10,
       "min": 1,
       "style": "IPY_MODEL_6c19e6b534c945c6b3af377a452216f7",
       "value": 1
      }
     },
     "f90c1be1e1794e4c932b6ec51197a70b": {
      "model_module": "@jupyter-widgets/controls",
      "model_module_version": "1.5.0",
      "model_name": "HBoxModel",
      "state": {
       "children": [
        "IPY_MODEL_fe1e2b95931840a7b58f27bf0b0c2f22",
        "IPY_MODEL_54916faea51f48e193408b85ecfcb159",
        "IPY_MODEL_6ecf3caa6bea40cfa76a49ec82c1183f",
        "IPY_MODEL_dd77b204348a405da7fab16585ae8054"
       ],
       "layout": "IPY_MODEL_bae434a226ae43b0ba3687aa820928f7"
      }
     },
     "f92bd8fb5a4244d2bea24d1ca7c189a7": {
      "model_module": "@jupyter-widgets/controls",
      "model_module_version": "1.5.0",
      "model_name": "VBoxModel",
      "state": {
       "children": [
        "IPY_MODEL_c322d41e42774a31b251c060f374773c",
        "IPY_MODEL_fa65754dec57478eac509e5ae0f067af",
        "IPY_MODEL_73016cc5540943229945f8da75023ec3",
        "IPY_MODEL_b6577fd8514b4627a9a1f629bf2e1243"
       ],
       "layout": "IPY_MODEL_f021e55eb6ce4796aec992c174810d02"
      }
     },
     "fa65754dec57478eac509e5ae0f067af": {
      "model_module": "@jupyter-widgets/output",
      "model_module_version": "1.0.0",
      "model_name": "OutputModel",
      "state": {
       "layout": "IPY_MODEL_61349c45fb9b4638ba025ec283cb45a4",
       "outputs": [
        {
         "data": {
          "image/svg+xml": "<?xml version=\"1.0\" encoding=\"UTF-8\" standalone=\"no\"?>\n<!DOCTYPE svg PUBLIC \"-//W3C//DTD SVG 1.1//EN\"\n \"http://www.w3.org/Graphics/SVG/1.1/DTD/svg11.dtd\">\n<!-- Generated by graphviz version 2.42.3 (20191010.1750)\n -->\n<!-- Title: %3 Pages: 1 -->\n<svg width=\"571pt\" height=\"251pt\"\n viewBox=\"0.00 0.00 570.79 251.00\" xmlns=\"http://www.w3.org/2000/svg\" xmlns:xlink=\"http://www.w3.org/1999/xlink\">\n<g id=\"graph0\" class=\"graph\" transform=\"scale(1 1) rotate(0) translate(4 247)\">\n<title>%3</title>\n<polygon fill=\"white\" stroke=\"transparent\" points=\"-4,4 -4,-247 566.79,-247 566.79,4 -4,4\"/>\n<!-- EMPTY -->\n<g id=\"node1\" class=\"node\">\n<title>EMPTY</title>\n</g>\n<!-- I -->\n<g id=\"node7\" class=\"node\">\n<title>I</title>\n<ellipse fill=\"none\" stroke=\"black\" cx=\"109\" cy=\"-176\" rx=\"18\" ry=\"18\"/>\n<text text-anchor=\"middle\" x=\"109\" y=\"-172.3\" font-family=\"Times,serif\" font-size=\"14.00\">I</text>\n</g>\n<!-- EMPTY&#45;&gt;I -->\n<g id=\"edge1\" class=\"edge\">\n<title>EMPTY&#45;&gt;I</title>\n<path fill=\"none\" stroke=\"black\" d=\"M54.19,-176C62.65,-176 72.05,-176 80.6,-176\"/>\n<polygon fill=\"black\" stroke=\"black\" points=\"80.83,-179.5 90.83,-176 80.83,-172.5 80.83,-179.5\"/>\n</g>\n<!-- G -->\n<g id=\"node2\" class=\"node\">\n<title>G</title>\n<ellipse fill=\"red\" stroke=\"black\" cx=\"450.6\" cy=\"-154\" rx=\"18.4\" ry=\"18.4\"/>\n<text text-anchor=\"middle\" x=\"450.6\" y=\"-150.3\" font-family=\"Times,serif\" font-size=\"14.00\" fill=\"white\">G</text>\n</g>\n<!-- F -->\n<g id=\"node9\" class=\"node\">\n<title>F</title>\n<ellipse fill=\"none\" stroke=\"black\" cx=\"540.79\" cy=\"-154\" rx=\"18\" ry=\"18\"/>\n<ellipse fill=\"none\" stroke=\"black\" cx=\"540.79\" cy=\"-154\" rx=\"22\" ry=\"22\"/>\n<text text-anchor=\"middle\" x=\"540.79\" y=\"-150.3\" font-family=\"Times,serif\" font-size=\"14.00\">F</text>\n</g>\n<!-- G&#45;&gt;F -->\n<g id=\"edge6\" class=\"edge\">\n<title>G&#45;&gt;F</title>\n<path fill=\"none\" stroke=\"black\" d=\"M469.02,-154C480.27,-154 495.23,-154 508.5,-154\"/>\n<polygon fill=\"black\" stroke=\"black\" points=\"508.67,-157.5 518.67,-154 508.67,-150.5 508.67,-157.5\"/>\n<text text-anchor=\"start\" x=\"486.79\" y=\"-157.8\" font-family=\"Times,serif\" font-size=\"14.00\"> 1</text>\n</g>\n<!-- E -->\n<g id=\"node3\" class=\"node\">\n<title>E</title>\n<ellipse fill=\"red\" stroke=\"black\" cx=\"365.2\" cy=\"-72\" rx=\"18\" ry=\"18\"/>\n<text text-anchor=\"middle\" x=\"365.2\" y=\"-68.3\" font-family=\"Times,serif\" font-size=\"14.00\" fill=\"white\">E</text>\n</g>\n<!-- E&#45;&gt;G -->\n<g id=\"edge11\" class=\"edge\">\n<title>E&#45;&gt;G</title>\n<path fill=\"none\" stroke=\"black\" d=\"M378.86,-84.45C392.41,-97.78 414.08,-119.08 429.87,-134.6\"/>\n<polygon fill=\"black\" stroke=\"black\" points=\"427.5,-137.18 437.08,-141.7 432.41,-132.19 427.5,-137.18\"/>\n<text text-anchor=\"start\" x=\"401.4\" y=\"-121.8\" font-family=\"Times,serif\" font-size=\"14.00\"> &#39;&#39;</text>\n</g>\n<!-- A -->\n<g id=\"node6\" class=\"node\">\n<title>A</title>\n<ellipse fill=\"red\" stroke=\"black\" cx=\"194\" cy=\"-123\" rx=\"18\" ry=\"18\"/>\n<text text-anchor=\"middle\" x=\"194\" y=\"-119.3\" font-family=\"Times,serif\" font-size=\"14.00\" fill=\"white\">A</text>\n</g>\n<!-- E&#45;&gt;A -->\n<g id=\"edge12\" class=\"edge\">\n<title>E&#45;&gt;A</title>\n<path fill=\"none\" stroke=\"black\" d=\"M347.85,-76.93C318.47,-85.78 256.51,-104.46 221.16,-115.11\"/>\n<polygon fill=\"black\" stroke=\"black\" points=\"220.1,-111.78 211.53,-118.02 222.12,-118.48 220.1,-111.78\"/>\n<text text-anchor=\"start\" x=\"272.5\" y=\"-106.8\" font-family=\"Times,serif\" font-size=\"14.00\"> &#39;&#39;</text>\n</g>\n<!-- B -->\n<g id=\"node4\" class=\"node\">\n<title>B</title>\n<ellipse fill=\"red\" stroke=\"black\" cx=\"279\" cy=\"-174\" rx=\"18\" ry=\"18\"/>\n<text text-anchor=\"middle\" x=\"279\" y=\"-170.3\" font-family=\"Times,serif\" font-size=\"14.00\" fill=\"white\">B</text>\n</g>\n<!-- D -->\n<g id=\"node8\" class=\"node\">\n<title>D</title>\n<ellipse fill=\"none\" stroke=\"black\" cx=\"365.2\" cy=\"-154\" rx=\"18.4\" ry=\"18.4\"/>\n<text text-anchor=\"middle\" x=\"365.2\" y=\"-150.3\" font-family=\"Times,serif\" font-size=\"14.00\">D</text>\n</g>\n<!-- B&#45;&gt;D -->\n<g id=\"edge7\" class=\"edge\">\n<title>B&#45;&gt;D</title>\n<path fill=\"none\" stroke=\"black\" d=\"M296.63,-170.05C308.21,-167.3 323.89,-163.57 337.23,-160.41\"/>\n<polygon fill=\"black\" stroke=\"black\" points=\"338.39,-163.73 347.31,-158.01 336.77,-156.92 338.39,-163.73\"/>\n<text text-anchor=\"start\" x=\"315\" y=\"-168.8\" font-family=\"Times,serif\" font-size=\"14.00\"> 1</text>\n</g>\n<!-- C -->\n<g id=\"node5\" class=\"node\">\n<title>C</title>\n<ellipse fill=\"red\" stroke=\"black\" cx=\"279\" cy=\"-18\" rx=\"18\" ry=\"18\"/>\n<text text-anchor=\"middle\" x=\"279\" y=\"-14.3\" font-family=\"Times,serif\" font-size=\"14.00\" fill=\"white\">C</text>\n</g>\n<!-- C&#45;&gt;E -->\n<g id=\"edge8\" class=\"edge\">\n<title>C&#45;&gt;E</title>\n<path fill=\"none\" stroke=\"black\" d=\"M295.93,-25.05C305.76,-29.66 318.46,-36.09 329,-43 333.88,-46.2 338.87,-49.97 343.5,-53.7\"/>\n<polygon fill=\"black\" stroke=\"black\" points=\"341.44,-56.54 351.35,-60.27 345.93,-51.17 341.44,-56.54\"/>\n<text text-anchor=\"start\" x=\"315\" y=\"-46.8\" font-family=\"Times,serif\" font-size=\"14.00\"> 0</text>\n</g>\n<!-- A&#45;&gt;B -->\n<g id=\"edge4\" class=\"edge\">\n<title>A&#45;&gt;B</title>\n<path fill=\"none\" stroke=\"black\" d=\"M209.84,-132.12C222.23,-139.73 240.13,-150.73 254.47,-159.54\"/>\n<polygon fill=\"black\" stroke=\"black\" points=\"252.94,-162.71 263.29,-164.96 256.6,-156.74 252.94,-162.71\"/>\n<text text-anchor=\"start\" x=\"230\" y=\"-154.8\" font-family=\"Times,serif\" font-size=\"14.00\"> &#39;&#39;</text>\n</g>\n<!-- A&#45;&gt;C -->\n<g id=\"edge5\" class=\"edge\">\n<title>A&#45;&gt;C</title>\n<path fill=\"none\" stroke=\"black\" d=\"M199,-105.49C203.79,-87.88 213.34,-60.83 230,-43 236.11,-36.46 244.32,-31.33 252.22,-27.46\"/>\n<polygon fill=\"black\" stroke=\"black\" points=\"253.8,-30.59 261.54,-23.35 250.98,-24.18 253.8,-30.59\"/>\n<text text-anchor=\"start\" x=\"230\" y=\"-46.8\" font-family=\"Times,serif\" font-size=\"14.00\"> &#39;&#39;</text>\n</g>\n<!-- I&#45;&gt;G -->\n<g id=\"edge2\" class=\"edge\">\n<title>I&#45;&gt;G</title>\n<path fill=\"none\" stroke=\"black\" d=\"M121.5,-189.12C136.34,-204.53 163.75,-228 193,-228 193,-228 193,-228 366.2,-228 396.69,-228 421.23,-199.99 435.6,-178.44\"/>\n<polygon fill=\"black\" stroke=\"black\" points=\"438.74,-180.02 441.12,-169.69 432.82,-176.28 438.74,-180.02\"/>\n<text text-anchor=\"start\" x=\"272.5\" y=\"-231.8\" font-family=\"Times,serif\" font-size=\"14.00\"> &#39;&#39;</text>\n</g>\n<!-- I&#45;&gt;A -->\n<g id=\"edge3\" class=\"edge\">\n<title>I&#45;&gt;A</title>\n<path fill=\"none\" stroke=\"black\" d=\"M124.46,-166.77C137,-158.76 155.37,-147.03 169.94,-137.73\"/>\n<polygon fill=\"black\" stroke=\"black\" points=\"171.89,-140.64 178.43,-132.3 168.12,-134.74 171.89,-140.64\"/>\n<text text-anchor=\"start\" x=\"145\" y=\"-155.8\" font-family=\"Times,serif\" font-size=\"14.00\"> &#39;&#39;</text>\n</g>\n<!-- D&#45;&gt;G -->\n<g id=\"edge9\" class=\"edge\">\n<title>D&#45;&gt;G</title>\n<path fill=\"none\" stroke=\"black\" d=\"M383.48,-154C394.66,-154 409.46,-154 422.22,-154\"/>\n<polygon fill=\"black\" stroke=\"black\" points=\"422.34,-157.5 432.34,-154 422.34,-150.5 422.34,-157.5\"/>\n<text text-anchor=\"start\" x=\"401.4\" y=\"-157.8\" font-family=\"Times,serif\" font-size=\"14.00\"> &#39;&#39;</text>\n</g>\n<!-- D&#45;&gt;A -->\n<g id=\"edge10\" class=\"edge\">\n<title>D&#45;&gt;A</title>\n<path fill=\"none\" stroke=\"black\" d=\"M347.91,-147.51C334.48,-142.43 314.8,-135.65 297,-132 272.05,-126.89 243.09,-124.68 222.41,-123.72\"/>\n<polygon fill=\"black\" stroke=\"black\" points=\"222.27,-120.22 212.14,-123.32 221.99,-127.21 222.27,-120.22\"/>\n<text text-anchor=\"start\" x=\"272.5\" y=\"-135.8\" font-family=\"Times,serif\" font-size=\"14.00\"> &#39;&#39;</text>\n</g>\n</g>\n</svg>\n",
          "text/plain": "<graphviz.files.Source at 0x7fb71653e580>"
         },
         "metadata": {},
         "output_type": "display_data"
        }
       ]
      }
     },
     "fc6a4a88110e4a1c91c33a23da4b03db": {
      "model_module": "@jupyter-widgets/controls",
      "model_module_version": "1.5.0",
      "model_name": "ButtonStyleModel",
      "state": {}
     },
     "fe1e2b95931840a7b58f27bf0b0c2f22": {
      "model_module": "@jupyter-widgets/controls",
      "model_module_version": "1.5.0",
      "model_name": "PlayModel",
      "state": {
       "description": "Press play",
       "interval": 950,
       "layout": "IPY_MODEL_9f5840306fd1422b93c64baf1ba58b3f",
       "max": 129,
       "style": "IPY_MODEL_ee6b2b44e4b343cda0fcbbf9067a9ff8"
      }
     },
     "fe3a21253a414194b8143b2c45c6d493": {
      "model_module": "@jupyter-widgets/controls",
      "model_module_version": "1.5.0",
      "model_name": "TextModel",
      "state": {
       "description": "s",
       "layout": "IPY_MODEL_31e21c98bdac4978ae14c538eac9df89",
       "style": "IPY_MODEL_83005b74469c4062a0d95ab61f3a3774",
       "value": "11111"
      }
     },
     "fe851873f3324cb7ad8d3974e29a5af0": {
      "model_module": "@jupyter-widgets/controls",
      "model_module_version": "1.5.0",
      "model_name": "ButtonStyleModel",
      "state": {}
     }
    },
    "version_major": 2,
    "version_minor": 0
   }
  }
 },
 "nbformat": 4,
 "nbformat_minor": 2
}
