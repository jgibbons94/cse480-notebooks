{
 "cells": [
  {
   "cell_type": "code",
   "execution_count": 1,
   "metadata": {},
   "outputs": [
    {
     "name": "stdout",
     "output_type": "stream",
     "text": [
      "You may use any of these help commands:\n",
      "help(lphi)\n",
      "help(lunit)\n",
      "help(lcat)\n",
      "help(lexp)\n",
      "help(lunion)\n",
      "help(lstar)\n",
      "help(srev)\n",
      "help(lrev)\n",
      "help(shomo)\n",
      "help(lhomo)\n",
      "help(powset)\n",
      "help(lint)\n",
      "help(lsymdiff)\n",
      "help(lminus)\n",
      "help(lissubset)\n",
      "help(lissuperset)\n",
      "help(lcomplem)\n",
      "help(product)\n",
      "help(nthnumeric)\n",
      "\n"
     ]
    }
   ],
   "source": [
    "#~~~~~~~~~~~~~~~~~~~~~~~~~~~~~~~~~~~~~~~~~~~~~~~~~~~~~~~\n",
    "import sys\n",
    "\n",
    "# -- Detect if in Own Install or in Colab\n",
    "try:\n",
    "    import google.colab\n",
    "    OWN_INSTALL = False\n",
    "except:\n",
    "    OWN_INSTALL = True\n",
    "    \n",
    "if OWN_INSTALL:\n",
    "    \n",
    "  sys.path[0:0] = ['../../../../..',  '../../../../../3rdparty',  \n",
    "                   '../../../..',  '../../../../3rdparty',  \n",
    "                   '../../..',     '../../../3rdparty', \n",
    "                   '../..',        '../../3rdparty',\n",
    "                   '..',           '../3rdparty' ]\n",
    "\n",
    "else: # In colab\n",
    "  ! if [ ! -d Jove ]; then git clone https://github.com/ganeshutah/Jove Jove; fi\n",
    "  sys.path.append('./Jove')\n",
    "  sys.path.append('./Jove/jove')\n",
    "\n",
    "# -- common imports --\n",
    "from jove.LangDef   import *\n",
    "#~~~~~~~~~~~~~~~~~~~~~~~~~~~~~~~~~~~~~~~~~~~~~~~~~~~~~~~"
   ]
  },
  {
   "cell_type": "markdown",
   "metadata": {
    "run_control": {
     "frozen": false,
     "read_only": false
    }
   },
   "source": [
    "# Details covering Ch2, Ch3\n",
    "\n",
    "## Main Addition: Full definitions of various language builder functions presented here\n",
    "\n",
    "Some of the material in this module could be repetitious, but still good practice.\n",
    "\n",
    "A video describing the use of this module is below. Following that, we present the top-level functions defined in this module. Then come the function definitions themselves, and finally some tests that drive the functions and illustrate their usage.\n",
    "\n",
    "**Note**: Some of the contents of the video below may not correspond to the latest code in these notebooks. However the principles remain the same.\n",
    "\n",
    "**Note**: All functions have good internal documentation; so for example, if you run \"help(lstar)\", it will fully describe the lstar function.\n",
    "\n",
    "**Note**: The definition of nthnumeric has evolved (it now expects a list as its second argument)."
   ]
  },
  {
   "cell_type": "markdown",
   "metadata": {},
   "source": [
    "## This video is the same as in 02_01_Language_Basics -- less than 18 mins, so plz watch to recap!"
   ]
  },
  {
   "cell_type": "code",
   "execution_count": 2,
   "metadata": {
    "editable": false,
    "run_control": {
     "frozen": false,
     "read_only": false
    },
    "scrolled": true
   },
   "outputs": [
    {
     "data": {
      "image/jpeg": "[encoded data removed]",
      "text/html": [
       "\n",
       "        <iframe\n",
       "            width=\"400\"\n",
       "            height=\"300\"\n",
       "            src=\"https://www.youtube.com/embed/TAEYvJn5eGc\"\n",
       "            frameborder=\"0\"\n",
       "            allowfullscreen\n",
       "        ></iframe>\n",
       "        "
      ],
      "text/plain": [
       "<IPython.lib.display.YouTubeVideo at 0x7fa1dc551340>"
      ]
     },
     "execution_count": 2,
     "metadata": {},
     "output_type": "execute_result"
    }
   ],
   "source": [
    "from IPython.display import YouTubeVideo\n",
    "YouTubeVideo('TAEYvJn5eGc')"
   ]
  },
  {
   "cell_type": "markdown",
   "metadata": {
    "run_control": {
     "frozen": false,
     "read_only": false
    }
   },
   "source": [
    "# Top-level functions in this module\n",
    " \n",
    "help(lphi)\n",
    "help(lunit)\n",
    "help(lcat)\n",
    "help(lexp)\n",
    "help(lunion)\n",
    "help(lstar)\n",
    "help(srev)\n",
    "help(lrev)\n",
    "help(shomo)\n",
    "help(lhomo)\n",
    "help(powset)\n",
    "help(lint)\n",
    "help(lsymdiff)\n",
    "help(lminus)\n",
    "help(lissubset)\n",
    "help(lissuperset)\n",
    "help(lcomplem)\n",
    "help(product)\n",
    "help(nthnumeric)\n"
   ]
  },
  {
   "cell_type": "markdown",
   "metadata": {
    "editable": false,
    "run_control": {
     "frozen": false,
     "read_only": false
    }
   },
   "source": [
    "<span style=\"color:blue\"> **Now we begin following along Chapter-2 of the book ** </span>\n",
    "\n",
    "# Chapter-2: Alphabet and Languages\n",
    "\n",
    "We begin our study of Alphabets and Languages. Please read the book. You *must* be doing two kinds of exercises:\n",
    "\n",
    "* Do exercises on paper. That is the math you need from this course. There is no short-cut to it.\n",
    "\n",
    "* Do the programming challenges (and play with the code) presented in this notebook (more exercises will be added). This programming part builds intuitions and helps knowledge stick. \n",
    "\n",
    "> Let us recall Prof. John McCarthy's quote\n",
    "\n",
    ">> You do not understand anything unless you have studied it in multiple ways\n",
    "\n",
    "It is to facilitate the \"study in multiple ways\" that the programming part is being given to you. It is the centerpiece of this work."
   ]
  },
  {
   "cell_type": "markdown",
   "metadata": {
    "editable": false,
    "run_control": {
     "frozen": false,
     "read_only": false
    }
   },
   "source": [
    "<span style=\"color:blue\"> **Coding philosophy:** </span>\n",
    "\n",
    "Clearly, the code in this book can be cast into an object-oriented style. We avoid doing so for these reasons:\n",
    "\n",
    "* We want to keep the barrier to entry as low as possible. In fact, we are extremely parsimonious in our use of Python constructs. \n",
    "\n",
    "* We prefer to modularize each concept into specific sections where we treat the math and code as being almost at the same level. We also want these Jupyter notes to resemble Knuth's \"literate programs\". More reasons will be given in the Jupyter notes of Chapter 3."
   ]
  },
  {
   "cell_type": "markdown",
   "metadata": {
    "editable": false,
    "run_control": {
     "frozen": false,
     "read_only": false
    }
   },
   "source": [
    "<span style=\"color:blue\"> **------** </span>\n",
    "\n",
    "OK, now onto our subject matter!\n",
    "\n",
    "## Alphabet and Language\n",
    "\n",
    "\n",
    "An Alphabet is a *finite* set of finitary items, often called \"symbols\" - usually they are single characters, but they also could be finite strings or (in the case of GNFA) be themselves regular expressions.  Just think of an Alphabet $\\Sigma$ to be a *finite* and *non-empty* set of symbols.\n",
    "\n",
    " \n",
    "__Language__:\n",
    "\n",
    "\n",
    "A language is a set of sequences (strings) of symbols. We define languages through Python code as follows. \n",
    "\n",
    "We are defining regular languages here. \n",
    "\n",
    "The simplest regular language is $\\emptyset$, the empty language. This is like the \"zero\" of a language. Why so? We know that \"0\" is the annihilator for multiplication, i.e. 3 $\\times$ 0 = 0. What is the multiplication operation for languages? It is concatenation!\n",
    "\n",
    "\n",
    "* Notice that in almost all cases, languages are encoded using Python sets.\n",
    "\n",
    "* Exceptions will be pointed out when they occur.\n",
    "\n",
    "* Also, in almost all cases, languages are sets of strings."
   ]
  },
  {
   "cell_type": "markdown",
   "metadata": {
    "editable": false,
    "run_control": {
     "frozen": false,
     "read_only": false
    }
   },
   "source": [
    "__Zero Language__:\n",
    "\n",
    "<span style=\"color:blue\"> **We begin with the empty language (ZERO of a language). We use lphi() to refere to this language, as phi (Greek symbol) is used to denote the empty set. ** </span>"
   ]
  },
  {
   "cell_type": "code",
   "execution_count": 3,
   "metadata": {
    "code_folding": [
     3
    ],
    "editable": false,
    "run_control": {
     "frozen": false,
     "read_only": false
    }
   },
   "outputs": [],
   "source": [
    "# The theory of languages : Primitive languages and language builders\n",
    "\n",
    "def lphi():\n",
    "    \"\"\"In : None.\n",
    "       Out: Zero language, i.e. set({}).\n",
    "    \"\"\"\n",
    "    return set({})  # {} could be dict; so we put set(..)"
   ]
  },
  {
   "cell_type": "code",
   "execution_count": 4,
   "metadata": {
    "run_control": {
     "frozen": false,
     "read_only": false
    }
   },
   "outputs": [
    {
     "data": {
      "text/plain": [
       "set()"
      ]
     },
     "execution_count": 4,
     "metadata": {},
     "output_type": "execute_result"
    }
   ],
   "source": [
    "lphi()"
   ]
  },
  {
   "cell_type": "markdown",
   "metadata": {
    "editable": false,
    "run_control": {
     "frozen": false,
     "read_only": false
    }
   },
   "source": [
    "__Unit Language__:\n",
    "\n",
    "<span style=\"color:blue\"> **Now we define the Unit language (ONE of a language) as well as concatenation. We use lunit() and lcat() to refer to these operations. ** </span>"
   ]
  },
  {
   "cell_type": "markdown",
   "metadata": {
    "editable": false,
    "run_control": {
     "frozen": false,
     "read_only": false
    }
   },
   "source": [
    "Now let us define the Unit language (\"1\" for languages with respect to concatenation viewed as multiplication).\n",
    "\n",
    "Let us also define language concatenation.\n",
    "\n",
    "> $L1 \\; L2 \\;\\; =\\;\\;  \\{x y \\; \\mid \\; x\\in L1 \\;\\wedge\\; y\\in L2\\}$"
   ]
  },
  {
   "cell_type": "markdown",
   "metadata": {
    "editable": false,
    "run_control": {
     "frozen": false,
     "read_only": false
    }
   },
   "source": [
    "# Documentation Conventions\n",
    "\n",
    "* Functions will have comment strings that start with \"\"\" and end with \"\"\"\n",
    "* In : will specify inputs separately, mentioning conceptual object and rep (Python data-type) \n",
    "* Out: will mention output, mentioning conceptual object and rep (Python data-type)\n",
    "* Sometimes an example will follow\n",
    "* Extremely simple helper functions won't have much of a doc (usually a one-liner)\n",
    "* Example documentation:\n",
    "```\n",
    "  \"\"\"In : L1 (language : a set),\n",
    "          L2 (language : a set).\n",
    "     Out: L1 concat L2 (language : a set).\n",
    "     Example:\n",
    "     L1 = {'ab', 'bc'} \n",
    "     L2 = {'11', 'ab', '22'} \n",
    "     lcat(L1,L2) -> {'abab', 'bc22', 'ab11', 'ab22', 'bcab', 'bc11'}\n",
    "  \"\"\"\n",
    "```"
   ]
  },
  {
   "cell_type": "code",
   "execution_count": 5,
   "metadata": {
    "editable": false,
    "run_control": {
     "frozen": false,
     "read_only": false
    }
   },
   "outputs": [],
   "source": [
    "def lunit():\n",
    "    \"\"\"In : None.\n",
    "       Out: {\"\"} (a language : a set).\n",
    "    \"\"\"\n",
    "    return {\"\"} # Set with epsilon\n",
    "\n",
    "def lcat(L1,L2):\n",
    "    \"\"\"In : L1 (language : a set),\n",
    "            L2 (language : a set).\n",
    "       Out: L1 concat L2 (language : a set).\n",
    "       Example:\n",
    "       L1 = {'ab', 'bc'} \n",
    "       L2 = {'11', 'ab', '22'} \n",
    "       lcat(L1,L2) -> {'abab', 'bc22', 'ab11', 'ab22', 'bcab', 'bc11'}\n",
    "    \"\"\"\n",
    "    return {x+y for x in L1 for y in L2}"
   ]
  },
  {
   "cell_type": "code",
   "execution_count": 6,
   "metadata": {
    "run_control": {
     "frozen": false,
     "read_only": false
    }
   },
   "outputs": [
    {
     "data": {
      "text/plain": [
       "''"
      ]
     },
     "execution_count": 6,
     "metadata": {},
     "output_type": "execute_result"
    }
   ],
   "source": [
    "\"\""
   ]
  },
  {
   "cell_type": "code",
   "execution_count": 7,
   "metadata": {
    "run_control": {
     "frozen": false,
     "read_only": false
    }
   },
   "outputs": [
    {
     "data": {
      "text/plain": [
       "{'', 'a', 'aa'}"
      ]
     },
     "execution_count": 7,
     "metadata": {},
     "output_type": "execute_result"
    }
   ],
   "source": [
    "L1 = {\"a\" * n for n in range(0,3)}\n",
    "L1"
   ]
  },
  {
   "cell_type": "code",
   "execution_count": 8,
   "metadata": {
    "run_control": {
     "frozen": false,
     "read_only": false
    }
   },
   "outputs": [
    {
     "data": {
      "text/plain": [
       "{'', 'b'}"
      ]
     },
     "execution_count": 8,
     "metadata": {},
     "output_type": "execute_result"
    }
   ],
   "source": [
    "L2 = {\"b\" * m for m in range(0,2)}\n",
    "L2"
   ]
  },
  {
   "cell_type": "code",
   "execution_count": 9,
   "metadata": {
    "run_control": {
     "frozen": false,
     "read_only": false
    }
   },
   "outputs": [
    {
     "data": {
      "text/plain": [
       "{'', 'a', 'aa', 'aab', 'ab', 'b'}"
      ]
     },
     "execution_count": 9,
     "metadata": {},
     "output_type": "execute_result"
    }
   ],
   "source": [
    "lcat(L1,L2)"
   ]
  },
  {
   "cell_type": "code",
   "execution_count": 10,
   "metadata": {
    "run_control": {
     "frozen": false,
     "read_only": false
    }
   },
   "outputs": [
    {
     "data": {
      "text/plain": [
       "{'', 'a', 'aa'}"
      ]
     },
     "execution_count": 10,
     "metadata": {},
     "output_type": "execute_result"
    }
   ],
   "source": [
    "lcat(lunit(), L1)"
   ]
  },
  {
   "cell_type": "code",
   "execution_count": 11,
   "metadata": {
    "run_control": {
     "frozen": false,
     "read_only": false
    }
   },
   "outputs": [
    {
     "data": {
      "text/plain": [
       "{('', ''), ('', 'a'), ('a', ''), ('a', 'a')}"
      ]
     },
     "execution_count": 11,
     "metadata": {},
     "output_type": "execute_result"
    }
   ],
   "source": [
    "x = {'','a'}\n",
    "xcrossx = { (a,b) for a in x for b in x}\n",
    "xcrossx"
   ]
  },
  {
   "cell_type": "code",
   "execution_count": 12,
   "metadata": {
    "run_control": {
     "frozen": false,
     "read_only": false
    }
   },
   "outputs": [
    {
     "data": {
      "text/plain": [
       "False"
      ]
     },
     "execution_count": 12,
     "metadata": {},
     "output_type": "execute_result"
    }
   ],
   "source": [
    "len(lcat(x,x)) == len(xcrossx)"
   ]
  },
  {
   "cell_type": "markdown",
   "metadata": {
    "editable": false,
    "run_control": {
     "frozen": false,
     "read_only": false
    }
   },
   "source": [
    "__Language Concatenation vs. Cartesian Product__:\n",
    "\n",
    "<span style=\"color:blue\"> **Notice the similarity with cartesian product. We draw a string x from L1 and string y from L2, but instead of pairing them, we concatenate them.** </span>"
   ]
  },
  {
   "cell_type": "markdown",
   "metadata": {
    "editable": false,
    "run_control": {
     "frozen": false,
     "read_only": false
    }
   },
   "source": [
    "## Illustrations \n",
    "\n",
    "We now illustrate \n",
    "\n",
    "* the Zero language lphi(), \n",
    "\n",
    "* unit language lunit(), \n",
    "\n",
    "* and the lcat() operator\n",
    "\n",
    "Let us take a simple example language L = $\\{{\\text 'a'}, {\\text 'bc'}\\}$ for illustration.\n",
    "\n",
    "Recall that in Python, there are multiple ways to quote strings ('a', \"a\", or \"\"\"a\"\"\"). The main idea is to support the nesting of quotes. So please don't be confused if we accidentally change our quoting method."
   ]
  },
  {
   "cell_type": "code",
   "execution_count": 13,
   "metadata": {
    "editable": false,
    "run_control": {
     "frozen": false,
     "read_only": false
    }
   },
   "outputs": [
    {
     "name": "stdout",
     "output_type": "stream",
     "text": [
      "lcat(lphi(), L) =  set()\n",
      "lcat(lunit(), L) =  {'a', 'bc'}\n"
     ]
    }
   ],
   "source": [
    "L = {'a','bc'}\n",
    "\n",
    "print( \"lcat(lphi(), L) = \",  lcat(lphi(), L) )\n",
    " \n",
    "print( \"lcat(lunit(), L) = \",  lcat(lunit(), L)  )"
   ]
  },
  {
   "cell_type": "markdown",
   "metadata": {
    "editable": false,
    "run_control": {
     "frozen": false,
     "read_only": false
    }
   },
   "source": [
    "\n",
    "Let us define another language through set comprehension, and exercise many different applications of concatenation.\n",
    "\n",
    "\n",
    "* Consider the language\n",
    "\n",
    " > M = $\\{ 0^m 1^n \\; \\mid \\; 0 \\leq m,n \\leq 3 \\;\\wedge\\; m < n \\}$"
   ]
  },
  {
   "cell_type": "code",
   "execution_count": 14,
   "metadata": {
    "editable": false,
    "run_control": {
     "frozen": false,
     "read_only": false
    }
   },
   "outputs": [
    {
     "name": "stdout",
     "output_type": "stream",
     "text": [
      "{'1', '111', '11', '00111', '011', '0111'}\n"
     ]
    }
   ],
   "source": [
    "M = {\"0\"*m + \"1\"*n for m in range(3) for n in range(4) if m < n }\n",
    "print(M)"
   ]
  },
  {
   "cell_type": "code",
   "execution_count": 15,
   "metadata": {
    "editable": false,
    "run_control": {
     "frozen": false,
     "read_only": false
    }
   },
   "outputs": [
    {
     "name": "stdout",
     "output_type": "stream",
     "text": [
      "lcat(L,M) =  {'bc011', 'bc111', 'bc0111', 'a00111', 'a011', 'a1', 'a0111', 'bc11', 'bc1', 'a111', 'bc00111', 'a11'}\n"
     ]
    }
   ],
   "source": [
    "print(\"lcat(L,M) = \", lcat(L,M))"
   ]
  },
  {
   "cell_type": "code",
   "execution_count": 16,
   "metadata": {
    "editable": false,
    "run_control": {
     "frozen": false,
     "read_only": false
    }
   },
   "outputs": [
    {
     "name": "stdout",
     "output_type": "stream",
     "text": [
      "lcat(M,lphi()) =  set()\n"
     ]
    }
   ],
   "source": [
    "print(\"lcat(M,lphi()) = \", lcat(M,lphi()))"
   ]
  },
  {
   "cell_type": "code",
   "execution_count": 17,
   "metadata": {
    "editable": false,
    "run_control": {
     "frozen": false,
     "read_only": false
    }
   },
   "outputs": [
    {
     "name": "stdout",
     "output_type": "stream",
     "text": [
      "lcat(M,lunit()) =  {'1', '111', '11', '00111', '011', '0111'}\n"
     ]
    }
   ],
   "source": [
    "print(\"lcat(M,lunit()) = \", lcat(M,lunit()))"
   ]
  },
  {
   "cell_type": "markdown",
   "metadata": {
    "editable": false,
    "run_control": {
     "frozen": false,
     "read_only": false
    }
   },
   "source": [
    "<span style=\"color:green\"> **Need to add a few exercises here. ** </span>"
   ]
  },
  {
   "cell_type": "markdown",
   "metadata": {
    "editable": false,
    "run_control": {
     "frozen": false,
     "read_only": false
    }
   },
   "source": [
    "### Exponentiation as repeated concatenation\n",
    "\n",
    "With concatenation and Unit under our belt, we can define exponentiation recursively. Exponentiation is repeated multiplication (which for us is concatenation).\n",
    "\n",
    "> $L^n = L L^{n-1}$\n",
    "\n",
    "> $L^0 = Unit$\n",
    "\n",
    "We must have $L^0 = lunit()$; that is the only logical choice. \n",
    "\n",
    "\n",
    "__Question:__  If you defined $L^0 = lphi()$, then what happens?\n",
    "\n",
    "The code below simulates the aforesaid recursion."
   ]
  },
  {
   "cell_type": "code",
   "execution_count": 18,
   "metadata": {
    "editable": false,
    "run_control": {
     "frozen": false,
     "read_only": false
    }
   },
   "outputs": [],
   "source": [
    "def lexp(L,n):\n",
    "    \"\"\"In : L (language : a set),\n",
    "            n (exponent : a nat).\n",
    "       Out: L^n (language : a set).\n",
    "       Example:\n",
    "       L = {'ab', 'bc'}\n",
    "       n = 2\n",
    "       lexp(A,2) -> {'abab', 'bcab', 'bcbc', 'abbc'}\n",
    "    \"\"\"\n",
    "    return lunit() if n == 0 else lcat(L, lexp(L, n-1))"
   ]
  },
  {
   "cell_type": "markdown",
   "metadata": {
    "editable": false,
    "run_control": {
     "frozen": false,
     "read_only": false
    }
   },
   "source": [
    "\n",
    "__Let us now test our lexp functionality__:\n",
    "\n"
   ]
  },
  {
   "cell_type": "code",
   "execution_count": 19,
   "metadata": {
    "editable": false,
    "run_control": {
     "frozen": false,
     "read_only": false
    }
   },
   "outputs": [
    {
     "data": {
      "text/plain": [
       "{'aa', 'abc', 'bca', 'bcbc'}"
      ]
     },
     "execution_count": 19,
     "metadata": {},
     "output_type": "execute_result"
    }
   ],
   "source": [
    "L = {'a','bc'}\n",
    "lexp(L,2)"
   ]
  },
  {
   "cell_type": "code",
   "execution_count": 20,
   "metadata": {
    "editable": false,
    "run_control": {
     "frozen": false,
     "read_only": false
    }
   },
   "outputs": [
    {
     "name": "stdout",
     "output_type": "stream",
     "text": [
      "M =  {'1', '111', '11', '00111', '011', '0111'}\n",
      "lexp(M,2) = \n"
     ]
    },
    {
     "data": {
      "text/plain": [
       "{'0011100111',\n",
       " '00111011',\n",
       " '001110111',\n",
       " '001111',\n",
       " '0011111',\n",
       " '00111111',\n",
       " '01100111',\n",
       " '011011',\n",
       " '0110111',\n",
       " '0111',\n",
       " '011100111',\n",
       " '0111011',\n",
       " '01110111',\n",
       " '01111',\n",
       " '011111',\n",
       " '0111111',\n",
       " '100111',\n",
       " '1011',\n",
       " '10111',\n",
       " '11',\n",
       " '1100111',\n",
       " '11011',\n",
       " '110111',\n",
       " '111',\n",
       " '11100111',\n",
       " '111011',\n",
       " '1110111',\n",
       " '1111',\n",
       " '11111',\n",
       " '111111'}"
      ]
     },
     "execution_count": 20,
     "metadata": {},
     "output_type": "execute_result"
    }
   ],
   "source": [
    "M = {\"0\"*m + \"1\"*n for m in range(3) for n in range(4) if m < n }\n",
    "print('M = ', M)\n",
    "print('lexp(M,2) = ')\n",
    "lexp(M,2)"
   ]
  },
  {
   "cell_type": "code",
   "execution_count": 21,
   "metadata": {
    "editable": false,
    "run_control": {
     "frozen": false,
     "read_only": false
    }
   },
   "outputs": [
    {
     "data": {
      "text/plain": [
       "{'a00111',\n",
       " 'a011',\n",
       " 'a0111',\n",
       " 'a1',\n",
       " 'a11',\n",
       " 'a111',\n",
       " 'bc00111',\n",
       " 'bc011',\n",
       " 'bc0111',\n",
       " 'bc1',\n",
       " 'bc11',\n",
       " 'bc111'}"
      ]
     },
     "execution_count": 21,
     "metadata": {},
     "output_type": "execute_result"
    }
   ],
   "source": [
    "L = {'a','bc'}\n",
    "M = {\"0\"*m + \"1\"*n for m in range(3) for n in range(4) if m < n }\n",
    "lexp(lcat(L,M),1)"
   ]
  },
  {
   "cell_type": "markdown",
   "metadata": {
    "editable": false,
    "run_control": {
     "frozen": false,
     "read_only": false
    }
   },
   "source": [
    "<span style=\"color:green\"> **Need to add a few exercises here. ** </span>"
   ]
  },
  {
   "cell_type": "markdown",
   "metadata": {
    "editable": false,
    "run_control": {
     "frozen": false,
     "read_only": false
    }
   },
   "source": [
    "<span style=\"color:blue\"> **Definition of the star of a language through function lstar. Since star produces an infinite set in almost all cases, we define a _truncated_ version of star. ** </span>"
   ]
  },
  {
   "cell_type": "markdown",
   "metadata": {
    "editable": false,
    "run_control": {
     "frozen": false,
     "read_only": false
    }
   },
   "source": [
    "\n",
    "### With lexp under our belt, we can define lstar. We will define \"star up to n\" and then set n to infinity.\n",
    "\n",
    "> $L^{*n} = L^n \\; \\cup \\; L^{*(n-1)}$\n",
    "\n",
    "> $L^{*0} = Unit$\n",
    "\n",
    "And thus the classical $L^* = L^{*n}\\;\\; {\\rm for}\\;\\; n=\\infty$, which we won't bother to \"run\" in Python :-).  We will only run $L^{*n}$ in Python.\n",
    "\n",
    "We also take care to test that lstar works correctly for lphi and Unit.\n"
   ]
  },
  {
   "cell_type": "code",
   "execution_count": 22,
   "metadata": {
    "editable": false,
    "run_control": {
     "frozen": false,
     "read_only": false
    }
   },
   "outputs": [],
   "source": [
    "def lunion(L1,L2):\n",
    "    \"\"\"In : L1 (language : a set),\n",
    "            L2 (language : a set).\n",
    "       Out: L1 union L2 (language : a set).\n",
    "    \"\"\"\n",
    "    return L1 | L2\n",
    "\n",
    "def lstar(L,n):\n",
    "    \"\"\"In : L (language : a set),\n",
    "            n (bound for lstar : a nat). \n",
    "       Out: L*_n (language : a set)\n",
    "    Example:\n",
    "    L = {'ab','bc'}\n",
    "    n = 2\n",
    "    lstar(L,2) -> {'abab', 'bcbc', 'ab', 'abbc', '', 'bc', 'bcab'}\n",
    "    \"\"\"\n",
    "    return lunit() if n == 0 else lunion(lexp(L,n), lstar(L,n-1))"
   ]
  },
  {
   "cell_type": "code",
   "execution_count": 23,
   "metadata": {
    "editable": false,
    "run_control": {
     "frozen": false,
     "read_only": false
    }
   },
   "outputs": [
    {
     "data": {
      "text/plain": [
       "{'', 'a', 'aa', 'abc', 'bc', 'bca', 'bcbc'}"
      ]
     },
     "execution_count": 23,
     "metadata": {},
     "output_type": "execute_result"
    }
   ],
   "source": [
    "L1 = {'a','bc'}\n",
    "lstar(L1,2) "
   ]
  },
  {
   "cell_type": "code",
   "execution_count": 24,
   "metadata": {
    "editable": false,
    "run_control": {
     "frozen": false,
     "read_only": false
    }
   },
   "outputs": [
    {
     "data": {
      "text/plain": [
       "{'', 'ab', 'abab', 'abbc', 'bc', 'bcab', 'bcbc'}"
      ]
     },
     "execution_count": 24,
     "metadata": {},
     "output_type": "execute_result"
    }
   ],
   "source": [
    "L2 = {'ab','bc'}\n",
    "lstar(L2,2) "
   ]
  },
  {
   "cell_type": "code",
   "execution_count": 25,
   "metadata": {
    "editable": false,
    "run_control": {
     "frozen": false,
     "read_only": false
    }
   },
   "outputs": [
    {
     "data": {
      "text/plain": [
       "{'',\n",
       " 'ab',\n",
       " 'abab',\n",
       " 'ababab',\n",
       " 'ababbc',\n",
       " 'abbc',\n",
       " 'abbcab',\n",
       " 'abbcbc',\n",
       " 'bc',\n",
       " 'bcab',\n",
       " 'bcabab',\n",
       " 'bcabbc',\n",
       " 'bcbc',\n",
       " 'bcbcab',\n",
       " 'bcbcbc'}"
      ]
     },
     "execution_count": 25,
     "metadata": {},
     "output_type": "execute_result"
    }
   ],
   "source": [
    "L2 = {'ab','bc'}\n",
    "lstar(L2,3)"
   ]
  },
  {
   "cell_type": "markdown",
   "metadata": {
    "editable": false,
    "run_control": {
     "frozen": false,
     "read_only": false
    }
   },
   "source": [
    "#### Let us define a typical alphabet used in our studies: $\\Sigma = \\{0,1\\}$"
   ]
  },
  {
   "cell_type": "code",
   "execution_count": 26,
   "metadata": {
    "editable": false,
    "run_control": {
     "frozen": false,
     "read_only": false
    }
   },
   "outputs": [],
   "source": [
    "Sig01 = {'0','1'}"
   ]
  },
  {
   "cell_type": "code",
   "execution_count": 27,
   "metadata": {
    "editable": false,
    "run_control": {
     "frozen": false,
     "read_only": false
    }
   },
   "outputs": [
    {
     "data": {
      "text/plain": [
       "{''}"
      ]
     },
     "execution_count": 27,
     "metadata": {},
     "output_type": "execute_result"
    }
   ],
   "source": [
    "lstar(Sig01,0)"
   ]
  },
  {
   "cell_type": "code",
   "execution_count": 28,
   "metadata": {
    "editable": false,
    "run_control": {
     "frozen": false,
     "read_only": false
    }
   },
   "outputs": [
    {
     "data": {
      "text/plain": [
       "{'', '0', '1'}"
      ]
     },
     "execution_count": 28,
     "metadata": {},
     "output_type": "execute_result"
    }
   ],
   "source": [
    "lstar(Sig01,1)"
   ]
  },
  {
   "cell_type": "code",
   "execution_count": 29,
   "metadata": {
    "editable": false,
    "run_control": {
     "frozen": false,
     "read_only": false
    }
   },
   "outputs": [
    {
     "data": {
      "text/plain": [
       "{'', '0', '00', '01', '1', '10', '11'}"
      ]
     },
     "execution_count": 29,
     "metadata": {},
     "output_type": "execute_result"
    }
   ],
   "source": [
    "lstar(Sig01,2)"
   ]
  },
  {
   "cell_type": "code",
   "execution_count": null,
   "metadata": {
    "editable": false,
    "run_control": {
     "frozen": false,
     "read_only": false
    }
   },
   "outputs": [],
   "source": []
  },
  {
   "cell_type": "code",
   "execution_count": 30,
   "metadata": {
    "editable": false,
    "run_control": {
     "frozen": false,
     "read_only": false
    }
   },
   "outputs": [
    {
     "data": {
      "text/plain": [
       "{'',\n",
       " '0',\n",
       " '00',\n",
       " '000',\n",
       " '001',\n",
       " '01',\n",
       " '010',\n",
       " '011',\n",
       " '1',\n",
       " '10',\n",
       " '100',\n",
       " '101',\n",
       " '11',\n",
       " '110',\n",
       " '111'}"
      ]
     },
     "execution_count": 30,
     "metadata": {},
     "output_type": "execute_result"
    }
   ],
   "source": [
    "lstar(Sig01,3)"
   ]
  },
  {
   "cell_type": "markdown",
   "metadata": {
    "editable": false,
    "run_control": {
     "frozen": false,
     "read_only": false
    }
   },
   "source": [
    "<span style=\"color:blue\"> **Let's do a few exercises involving lstar. Use the pull-down provided by ipywidgets to select your language. Then use the slider to change the lstar truncation limit. If you had an infinite slider and slid it all the way to the right, you would be witnessing the \"true star\" :-) ** </span>"
   ]
  },
  {
   "cell_type": "code",
   "execution_count": 31,
   "metadata": {
    "run_control": {
     "frozen": false,
     "read_only": false
    }
   },
   "outputs": [
    {
     "data": {
      "application/vnd.jupyter.widget-view+json": {
       "model_id": "c790456cbc0f4b6c868170815a2108c4",
       "version_major": 2,
       "version_minor": 0
      },
      "text/plain": [
       "interactive(children=(Dropdown(description='L', options={'L3': {'a', 'c', 'b'}, 'L1': {'a', 'bc'}, 'L2': {'bc'…"
      ]
     },
     "metadata": {},
     "output_type": "display_data"
    },
    {
     "data": {
      "text/plain": [
       "<function __main__.lstar(L, n)>"
      ]
     },
     "execution_count": 31,
     "metadata": {},
     "output_type": "execute_result"
    }
   ],
   "source": [
    "import ipywidgets as wdg\n",
    "L1 = {'a','bc'}\n",
    "L2 = {'ab','bc'}\n",
    "L3 = {'a','b','c'}\n",
    "M =  {'011', '111', '11', '0111', '00111', '1'}\n",
    "\n",
    "wdg.interact(lstar,\n",
    "L={'L3': L3, 'L1': L1, 'L2':L2, 'M': M, 'lphi': lphi(), 'lunit' : lunit()}, n=(0,7))"
   ]
  },
  {
   "cell_type": "code",
   "execution_count": 32,
   "metadata": {
    "editable": false,
    "run_control": {
     "frozen": false,
     "read_only": false
    }
   },
   "outputs": [
    {
     "data": {
      "application/vnd.jupyter.widget-view+json": {
       "model_id": "a0b9cd7ef5394ad7b7200c6bc68eb85e",
       "version_major": 2,
       "version_minor": 0
      },
      "text/plain": [
       "interactive(children=(Dropdown(description='L', options={'L1': {'a', 'bc'}, 'L2': {'bc', 'ab'}, 'M': {'1', '11…"
      ]
     },
     "metadata": {},
     "output_type": "display_data"
    },
    {
     "data": {
      "text/plain": [
       "<function __main__.lstar(L, n)>"
      ]
     },
     "execution_count": 32,
     "metadata": {},
     "output_type": "execute_result"
    }
   ],
   "source": [
    "import ipywidgets as wdg\n",
    "L1 = {'a','bc'}\n",
    "L2 = {'ab','bc'}\n",
    "M =  {'011', '111', '11', '0111', '00111', '1'}\n",
    "\n",
    "wdg.interact(lstar,\n",
    "L={'L1': L1, 'L2':L2, 'M': M, 'lphi': lphi(), 'lunit' : lunit()}, n=(0,7))"
   ]
  },
  {
   "cell_type": "markdown",
   "metadata": {},
   "source": [
    "## Important use-case: Star of an alphabet\n",
    "\n",
    "We generate the universe of strings possible over an alphabet by starring the alphabet (viewed as a language of strings of length 1). The illustration below shows that."
   ]
  },
  {
   "cell_type": "code",
   "execution_count": 33,
   "metadata": {},
   "outputs": [
    {
     "data": {
      "application/vnd.jupyter.widget-view+json": {
       "model_id": "ae9a257612a946a59e45475aa709991e",
       "version_major": 2,
       "version_minor": 0
      },
      "text/plain": [
       "interactive(children=(Dropdown(description='L', options={'Alph1': {'a', 'b'}, 'Alph2': {'0', '1'}}, value={'a'…"
      ]
     },
     "metadata": {},
     "output_type": "display_data"
    },
    {
     "data": {
      "text/plain": [
       "<function __main__.lstar(L, n)>"
      ]
     },
     "execution_count": 33,
     "metadata": {},
     "output_type": "execute_result"
    }
   ],
   "source": [
    "Alph1 = {'a','b'}\n",
    "Alph2 = {'0','1'}\n",
    "wdg.interact(lstar, L={'Alph1': Alph1, 'Alph2':Alph2}, n=(0,7))"
   ]
  },
  {
   "cell_type": "code",
   "execution_count": 34,
   "metadata": {
    "editable": false,
    "run_control": {
     "frozen": false,
     "read_only": false
    }
   },
   "outputs": [
    {
     "name": "stdout",
     "output_type": "stream",
     "text": [
      "{''}\n",
      "{''}\n"
     ]
    }
   ],
   "source": [
    "print(lstar(lunit(),10))\n",
    "print(lstar(lstar(lunit(), 10), 10))"
   ]
  },
  {
   "cell_type": "markdown",
   "metadata": {
    "editable": false,
    "run_control": {
     "frozen": false,
     "read_only": false
    }
   },
   "source": [
    "\n",
    "Now, we present a set of operations on strings and languages that are self-explanatory, so we'll just summarize them:\n",
    "\n",
    "* srev - reverse a string\n",
    "* lrev - reverse a language. It maps srev over a language (set of strings).\n",
    "* shomo - apply a language homomorphism using a lambda passed in.  You can \"rot13\" code email using this :-)\n",
    "* lhomo - apply a homomorphism to a language.\n",
    "\n",
    "Since tests are embedded in the doc-strings of these functions, we will not show tests separately, but feel free to add tests.\n"
   ]
  },
  {
   "cell_type": "code",
   "execution_count": 35,
   "metadata": {
    "editable": false,
    "run_control": {
     "frozen": false,
     "read_only": false
    }
   },
   "outputs": [],
   "source": [
    "# In Python, there isn't direct support for reversing a string.\n",
    "# The backward selection method implemented by S[::-1] is what \n",
    "# many recommend. This leaves the start and stride empty, and\n",
    "# specifies the direction to be going backwards. \n",
    "# Another method is \"\".join(reversed(s)) to reverse s\n",
    "\n",
    "def srev(S):\n",
    "    \"\"\"In : S (string)\n",
    "       Out: reverse of S (string)\n",
    "       Example:\n",
    "       srev('ab') -> 'ba'\n",
    "    \"\"\"\n",
    "    return S[::-1] \n",
    "\n",
    "def lrev(L):\n",
    "    \"\"\"In : L (language : a set)\n",
    "       Out: reverse of L (language : a set)\n",
    "       Example: \n",
    "       lrev({'ab', 'bc'}) -> {'cb', 'ba'}\n",
    "    \"\"\"\n",
    "    return set(map(lambda x: srev(x), L))\n",
    "\n",
    "def shomo(S,f):\n",
    "    \"\"\"In : S (string)\n",
    "            f (function from char to char)\n",
    "       Out: String homomorphism of S wrt f.\n",
    "       Example: \n",
    "       S = \"abcd\"\n",
    "       f = lambda x: chr( (ord(x)+1) % 256 )\n",
    "       shomo(\"abcd\",f) -> 'bcde'  \n",
    "    \"\"\"\n",
    "    return \"\".join(map(f,S))\n",
    "\n",
    "def lhomo(L,f):\n",
    "    \"\"\"In : L (language : set of strings)\n",
    "            f (function from char to char)\n",
    "       Out: Lang. homomorphism of L wrt f (language : set of str)\n",
    "       Example:\n",
    "       L = {\"Hello there\", \"a\", \"A\"}\n",
    "       f = rot13 = lambda x: chr( (ord(x)+13) % 256 )\n",
    "       lhomo(L, rot13) -> {'N', 'Uryy|-\\x81ur\\x7fr', 'n'}\n",
    "    \"\"\"\n",
    "    return set(map(lambda S: shomo(S,f), L))"
   ]
  },
  {
   "cell_type": "markdown",
   "metadata": {
    "editable": false,
    "run_control": {
     "frozen": false,
     "read_only": false
    }
   },
   "source": [
    "<span style=\"color:blue\"> **Let's do a few exercises involving srev, lrev, shomo and lhomo. ** </span>"
   ]
  },
  {
   "cell_type": "code",
   "execution_count": 36,
   "metadata": {
    "editable": false,
    "run_control": {
     "frozen": false,
     "read_only": false
    }
   },
   "outputs": [
    {
     "name": "stdout",
     "output_type": "stream",
     "text": [
      "lrev(L) =  {'700', 'ba'}\n",
      "lhomo(L, rot1) =  {'bc', '118'}\n",
      "lrev(lhomo(L), rot1) =  {'cb', '811'}\n"
     ]
    }
   ],
   "source": [
    "L={'ab', '007'}\n",
    "\n",
    "# modulo-rotate all chars by one.\n",
    "rot1 = lambda x: chr( (ord(x)+1) % 256 ) \n",
    "\n",
    "# Don't be baffled if the sets print in a different order!               \n",
    "# Sets don't have a required positional presentation order\n",
    "# Watch for the CONTENTS of the set reversing !!\n",
    "print('lrev(L) = ', lrev(L)) \n",
    "\n",
    "print('lhomo(L, rot1) = ', lhomo(L, rot1))\n",
    "\n",
    "print('lrev(lhomo(L), rot1) = ', lrev(lhomo(L, rot1)))\n"
   ]
  },
  {
   "cell_type": "markdown",
   "metadata": {
    "editable": false,
    "run_control": {
     "frozen": false,
     "read_only": false
    }
   },
   "source": [
    "<span style=\"color:blue\"> **We now introduce powersets which you may have forgotten. We will need this when discussing non-deterministic finite automata.** </span>"
   ]
  },
  {
   "cell_type": "markdown",
   "metadata": {
    "editable": false,
    "run_control": {
     "frozen": false,
     "read_only": false
    }
   },
   "source": [
    "\n",
    "\n",
    "We now define the powerset of a set S. We work with lists, as sets cannot contain other sets (not hashable, etc). But barring all that, here is the recursive definition being used.\n",
    "\n",
    "> Let $PowSminusX$ = $powset(S \\setminus x)$\n",
    "\n",
    "> Then, given $x \\in S$, we have $powset(S)$ = $PowSminusX  \\cup$  { $y\\cup x$  $\\mid$ $y\\in PowSminusX$ } \n",
    "\n",
    "That is,\n",
    "\n",
    "* Take out some $x\\in S$\n",
    "\n",
    "* Recursively compute $PowSminusX$\n",
    "\n",
    "* Now, $powset(S)$ has all the sets in $PowSminusX$ plus all the sets in $PowSminusX$ with $x$ added back, as well.\n",
    "\n",
    "Here is that code now.\n"
   ]
  },
  {
   "cell_type": "code",
   "execution_count": 37,
   "metadata": {
    "editable": false,
    "run_control": {
     "frozen": false,
     "read_only": false
    }
   },
   "outputs": [],
   "source": [
    "def powset(S):\n",
    "    \"\"\"In : S (set)\n",
    "       Out: List of lists representing powerset.\n",
    "            Since sets/lists are unhashable, we convert the set \n",
    "            to a list,perform the powerset operations, leaving \n",
    "            the result as a list (can't convert back to a set).\n",
    "       Example:\n",
    "       S = {'ab', 'bc'}\n",
    "       powset(S) -> [['ab', 'bc'], ['bc'], ['ab'], []]\n",
    "    \"\"\"\n",
    "    L=list(S)\n",
    "    if L==[]:\n",
    "        return([[]])\n",
    "    else:\n",
    "        pow_rest0 = powset(L[1:])\n",
    "        pow_rest1 = list(map(lambda Ls: [L[0]] + Ls, pow_rest0))\n",
    "        return(pow_rest0 + pow_rest1)"
   ]
  },
  {
   "cell_type": "code",
   "execution_count": 38,
   "metadata": {
    "run_control": {
     "frozen": false,
     "read_only": false
    }
   },
   "outputs": [
    {
     "data": {
      "text/plain": [
       "[[], ['b'], ['c'], ['c', 'b'], ['a'], ['a', 'b'], ['a', 'c'], ['a', 'c', 'b']]"
      ]
     },
     "execution_count": 38,
     "metadata": {},
     "output_type": "execute_result"
    }
   ],
   "source": [
    "powset({'a','b','c'})"
   ]
  },
  {
   "cell_type": "markdown",
   "metadata": {
    "editable": false,
    "run_control": {
     "frozen": false,
     "read_only": false
    }
   },
   "source": [
    "<span style=\"color:blue\"> **There are familiar operations on languages such as union and intersection. \n",
    "PAY SPECIAL ATTENTION to lcomplem, the function computing language complements.\n",
    "The definition of language complement is with respect to the universe  $\\Sigma^*$. \n",
    "Since we can compute only finite approximations of star, the function lcomplem is also like star in that we take a truncation parameter. You can follow how lcomplem works through experiments; once you get that, you must imagine how it works in math.\n",
    "Also pay attenti\n",
    "on to cartesian product. It works like normal cartesian products do (you may see a superficial similarity with concatenation where we draw pairs of strings but concatenate the strings). ** </span>"
   ]
  },
  {
   "cell_type": "markdown",
   "metadata": {
    "editable": false,
    "run_control": {
     "frozen": false,
     "read_only": false
    }
   },
   "source": [
    "\n",
    "Finally, we have a whole list of familiar language-theoretic operations:\n",
    "\n",
    "* lunion - language union\n",
    "\n",
    "* lint - language intersection\n",
    "\n",
    "* lsymdiff - language symmetric difference\n",
    "\n",
    "* lminus - language subtraction\n",
    "\n",
    "* lissubset - language subset test\n",
    "\n",
    "* lissuperset - language superset test\n",
    "\n",
    "* lcomplem - language complement with respect to \"star upto m\" of the alphabet (not the full alphabet star, mind you)\n",
    "\n",
    "* product - cartesian product\n",
    "\n",
    "We do not provide too many tests for these rather familiar functions. But please make sure you understand language complements well!\n"
   ]
  },
  {
   "cell_type": "code",
   "execution_count": 39,
   "metadata": {
    "editable": false,
    "run_control": {
     "frozen": false,
     "read_only": false
    }
   },
   "outputs": [],
   "source": [
    "# Define lunion (as before)\n",
    "def lunion(L1,L2):\n",
    "    \"\"\"In : L1 (language : set of strings)\n",
    "            L2 (language : set of strings)\n",
    "       Out: L1 union L2 (sets of strings)\n",
    "    \"\"\"\n",
    "    return L1 | L2\n",
    "\n",
    "def lint(L1,L2):\n",
    "    \"\"\"In : L1 (language : set of strings)\n",
    "            L2 (language : set of strings)\n",
    "       Out: L1 intersection L2 (sets of strings)\n",
    "    \"\"\"\n",
    "    return L1 & L2\n",
    "\n",
    "def lsymdiff(L1,L2):\n",
    "    \"\"\"In : L1 (language : set of strings)\n",
    "            L2 (language : set of strings)\n",
    "       Out: (L1 \\ L2) union (L2 \\ L1) (sets of strings)\n",
    "       Example:\n",
    "       lsymdiff({'ab', 'bc'}, {'11', 'ab', '22'}) -> {'11', '22', 'bc'}\n",
    "    \"\"\"\n",
    "    return L1 ^ L2\n",
    "\n",
    "def lminus(L1,L2):\n",
    "    \"\"\"Language subtraction of two languages (sets of strings)\n",
    "       Can do it as L1.difference(L2) also. \n",
    "    \"\"\"\n",
    "    return L1 - L2\n",
    "\n",
    "def lissubset(L1,L2):\n",
    "    \"\"\"In : L1 (language : set of strings)\n",
    "            L2 (language : set of strings)\n",
    "       Out: L1 is subset or equal to L2 (True/False)\n",
    "    \"\"\"\n",
    "    return L1 <= L2\n",
    "\n",
    "def lissuperset(L1,L2):\n",
    "    \"\"\"In : L1 (language : set of strings)\n",
    "            L2 (language : set of strings)\n",
    "       Out: L1 is superset or equal to L2 (True/False)\n",
    "    \"\"\"\n",
    "    return L1 >= L2\n",
    "    \n",
    "def lcomplem(L,sigma,n):\n",
    "    \"\"\"In : L (language : set of strings)\n",
    "            sigma (alphabet : set of strings)\n",
    "            n (finite limit for lstar : int)\n",
    "       Out : sigma*_n - L (language : set of strings)\n",
    "       Example:\n",
    "       L = {'0', '10', '010'}\n",
    "       sigma = {'0', '1'}\n",
    "       n = 3\n",
    "       lcomplem(L4,{'0','1'}, 3) -> \n",
    "       {'', '000', '101', '011', '00', '1', \n",
    "        '001', '110', '111', '100', '01', '11'}\n",
    "    \"\"\"\n",
    "    return lstar(sigma,n) - L  \n",
    "\n",
    "def product(S1,S2):\n",
    "    \"\"\"In : S1 (set)\n",
    "            S2 (set)\n",
    "       Out: Cartesian product of S1 and S2 (set of pairs)\n",
    "    \"\"\"\n",
    "    return { (x,y) for x in S1 for y in S2 }\n",
    "\n",
    "#--end"
   ]
  },
  {
   "cell_type": "code",
   "execution_count": 40,
   "metadata": {
    "editable": false,
    "run_control": {
     "frozen": false,
     "read_only": false
    }
   },
   "outputs": [],
   "source": [
    "L1 = {'0101'}"
   ]
  },
  {
   "cell_type": "code",
   "execution_count": 41,
   "metadata": {
    "editable": false,
    "run_control": {
     "frozen": false,
     "read_only": false
    }
   },
   "outputs": [],
   "source": [
    "L2 = lstar({'0','1'}, 2)"
   ]
  },
  {
   "cell_type": "code",
   "execution_count": 42,
   "metadata": {
    "editable": false,
    "run_control": {
     "frozen": false,
     "read_only": false
    }
   },
   "outputs": [],
   "source": [
    "# Python variable L2L1 denotes concat of L2 and L1\n",
    "L2L1 = lcat(L2,L1)  "
   ]
  },
  {
   "cell_type": "code",
   "execution_count": 43,
   "metadata": {
    "editable": false,
    "run_control": {
     "frozen": false,
     "read_only": false
    }
   },
   "outputs": [
    {
     "data": {
      "text/plain": [
       "{'000101', '00101', '0101', '010101', '100101', '10101', '110101'}"
      ]
     },
     "execution_count": 43,
     "metadata": {},
     "output_type": "execute_result"
    }
   ],
   "source": [
    "L2L1"
   ]
  },
  {
   "cell_type": "code",
   "execution_count": 44,
   "metadata": {
    "editable": false,
    "run_control": {
     "frozen": false,
     "read_only": false
    }
   },
   "outputs": [],
   "source": [
    "L3 = lcat(L1, lunion(lunit(), L2L1))  "
   ]
  },
  {
   "cell_type": "code",
   "execution_count": 45,
   "metadata": {
    "editable": false,
    "run_control": {
     "frozen": false,
     "read_only": false
    }
   },
   "outputs": [
    {
     "data": {
      "text/plain": [
       "{'0101',\n",
       " '0101000101',\n",
       " '010100101',\n",
       " '01010101',\n",
       " '0101010101',\n",
       " '0101100101',\n",
       " '010110101',\n",
       " '0101110101'}"
      ]
     },
     "execution_count": 45,
     "metadata": {},
     "output_type": "execute_result"
    }
   ],
   "source": [
    "L3"
   ]
  },
  {
   "cell_type": "code",
   "execution_count": 46,
   "metadata": {
    "editable": false,
    "run_control": {
     "frozen": false,
     "read_only": false
    }
   },
   "outputs": [
    {
     "name": "stdout",
     "output_type": "stream",
     "text": [
      "L4 =  {'0', '10', '010'}\n",
      "----\n",
      "lcomplem(L4,{'0','1'}, 1) =  {'', '1'}\n",
      "----\n",
      "lcomplem(L4,{'0','1'}, 2) =  {'', '1', '00', '11', '01'}\n",
      "----\n",
      "lcomplem(L4,{'0','1'}, 3) =  {'', '000', '1', '111', '00', '100', '11', '101', '110', '01', '011', '001'}\n",
      "----\n",
      "lcomplem(L4,{'0','1'}, 4) =  {'', '1', '0011', '111', '100', '11', '101', '1001', '0101', '0010', '0000', '011', '0110', '0111', '000', '1010', '1000', '1101', '00', '1110', '110', '1011', '1100', '1111', '0100', '01', '0001', '001'}\n",
      "----\n",
      "In the limit, we get everything in {0,1}* \n",
      ".. except for '0', '10', and '010'. \n"
     ]
    }
   ],
   "source": [
    "# Note that I've provided a truncation limit of 10 for lstar\n",
    "# involved in language complement.\n",
    "\n",
    "L4 = {'0', '10', '010'}\n",
    "\n",
    "print('L4 = ', L4)\n",
    "\n",
    "print(\"----\")\n",
    "print(\"lcomplem(L4,{'0','1'}, 1) = \",  lcomplem(L4,{'0','1'}, 1) )  \n",
    "\n",
    "print(\"----\")\n",
    "print(\"lcomplem(L4,{'0','1'}, 2) = \",  lcomplem(L4,{'0','1'}, 2) ) \n",
    "\n",
    "print(\"----\")\n",
    "print(\"lcomplem(L4,{'0','1'}, 3) = \",  lcomplem(L4,{'0','1'}, 3) ) \n",
    "\n",
    "print(\"----\")\n",
    "print(\"lcomplem(L4,{'0','1'}, 4) = \",  lcomplem(L4,{'0','1'}, 4) ) \n",
    "\n",
    "print(\"----\")\n",
    "print(\"In the limit, we get everything in {0,1}* \")\n",
    "print(\".. except for '0', '10', and '010'. \")"
   ]
  },
  {
   "cell_type": "markdown",
   "metadata": {
    "collapsed": true,
    "editable": false,
    "run_control": {
     "frozen": false,
     "read_only": false
    }
   },
   "source": [
    "<span style=\"color:blue\"> **This finishes Chapter-2 of the book ** </span>"
   ]
  },
  {
   "cell_type": "code",
   "execution_count": 47,
   "metadata": {
    "run_control": {
     "frozen": false,
     "read_only": false
    }
   },
   "outputs": [
    {
     "name": "stdout",
     "output_type": "stream",
     "text": [
      "Help on function lsymdiff in module __main__:\n",
      "\n",
      "lsymdiff(L1, L2)\n",
      "    In : L1 (language : set of strings)\n",
      "         L2 (language : set of strings)\n",
      "    Out: (L1 \\ L2) union (L2 \\ L1) (sets of strings)\n",
      "    Example:\n",
      "    lsymdiff({'ab', 'bc'}, {'11', 'ab', '22'}) -> {'11', '22', 'bc'}\n",
      "\n"
     ]
    }
   ],
   "source": [
    "help(lsymdiff)"
   ]
  },
  {
   "cell_type": "code",
   "execution_count": 48,
   "metadata": {
    "run_control": {
     "frozen": false,
     "read_only": false
    }
   },
   "outputs": [],
   "source": [
    "As = { \"a\"*i for i in range(8)}"
   ]
  },
  {
   "cell_type": "code",
   "execution_count": 49,
   "metadata": {
    "run_control": {
     "frozen": false,
     "read_only": false
    }
   },
   "outputs": [
    {
     "data": {
      "text/plain": [
       "{'', 'a', 'aa', 'aaa', 'aaaa', 'aaaaa', 'aaaaaa', 'aaaaaaa'}"
      ]
     },
     "execution_count": 49,
     "metadata": {},
     "output_type": "execute_result"
    }
   ],
   "source": [
    "As"
   ]
  },
  {
   "cell_type": "code",
   "execution_count": 50,
   "metadata": {
    "run_control": {
     "frozen": false,
     "read_only": false
    }
   },
   "outputs": [],
   "source": [
    "Bs = { \"b\"*i for i in range(8)}"
   ]
  },
  {
   "cell_type": "code",
   "execution_count": 51,
   "metadata": {
    "run_control": {
     "frozen": false,
     "read_only": false
    }
   },
   "outputs": [
    {
     "data": {
      "text/plain": [
       "{'', 'b', 'bb', 'bbb', 'bbbb', 'bbbbb', 'bbbbbb', 'bbbbbbb'}"
      ]
     },
     "execution_count": 51,
     "metadata": {},
     "output_type": "execute_result"
    }
   ],
   "source": [
    "Bs"
   ]
  },
  {
   "cell_type": "code",
   "execution_count": 52,
   "metadata": {
    "run_control": {
     "frozen": false,
     "read_only": false
    }
   },
   "outputs": [],
   "source": [
    "Cs = { \"c\"*i for i in range(8)}"
   ]
  },
  {
   "cell_type": "code",
   "execution_count": 53,
   "metadata": {
    "run_control": {
     "frozen": false,
     "read_only": false
    }
   },
   "outputs": [
    {
     "data": {
      "text/plain": [
       "{'', 'c', 'cc', 'ccc', 'cccc', 'ccccc', 'cccccc', 'ccccccc'}"
      ]
     },
     "execution_count": 53,
     "metadata": {},
     "output_type": "execute_result"
    }
   ],
   "source": [
    "Cs"
   ]
  },
  {
   "cell_type": "code",
   "execution_count": 54,
   "metadata": {
    "run_control": {
     "frozen": false,
     "read_only": false
    }
   },
   "outputs": [],
   "source": [
    "ABs = { \"a\"*i + \"b\" * i for i in range (8)}"
   ]
  },
  {
   "cell_type": "code",
   "execution_count": 55,
   "metadata": {
    "run_control": {
     "frozen": false,
     "read_only": false
    }
   },
   "outputs": [
    {
     "data": {
      "text/plain": [
       "{'',\n",
       " 'aaaaaaabbbbbbb',\n",
       " 'aaaaaabbbbbb',\n",
       " 'aaaaabbbbb',\n",
       " 'aaaabbbb',\n",
       " 'aaabbb',\n",
       " 'aabb',\n",
       " 'ab'}"
      ]
     },
     "execution_count": 55,
     "metadata": {},
     "output_type": "execute_result"
    }
   ],
   "source": [
    "ABs"
   ]
  },
  {
   "cell_type": "code",
   "execution_count": 56,
   "metadata": {
    "run_control": {
     "frozen": false,
     "read_only": false
    }
   },
   "outputs": [],
   "source": [
    "BCs = { \"b\"*i + \"c\" * i for i in range (8)}"
   ]
  },
  {
   "cell_type": "code",
   "execution_count": 57,
   "metadata": {
    "run_control": {
     "frozen": false,
     "read_only": false
    }
   },
   "outputs": [
    {
     "data": {
      "text/plain": [
       "{'',\n",
       " 'bbbbbbbccccccc',\n",
       " 'bbbbbbcccccc',\n",
       " 'bbbbbccccc',\n",
       " 'bbbbcccc',\n",
       " 'bbbccc',\n",
       " 'bbcc',\n",
       " 'bc'}"
      ]
     },
     "execution_count": 57,
     "metadata": {},
     "output_type": "execute_result"
    }
   ],
   "source": [
    "BCs"
   ]
  },
  {
   "cell_type": "code",
   "execution_count": 58,
   "metadata": {
    "run_control": {
     "frozen": false,
     "read_only": false
    }
   },
   "outputs": [
    {
     "data": {
      "text/plain": [
       "{'',\n",
       " 'aaaaaaabbbbbbb',\n",
       " 'aaaaaaabbbbbbbc',\n",
       " 'aaaaaaabbbbbbbcc',\n",
       " 'aaaaaaabbbbbbbccc',\n",
       " 'aaaaaaabbbbbbbcccc',\n",
       " 'aaaaaaabbbbbbbccccc',\n",
       " 'aaaaaaabbbbbbbcccccc',\n",
       " 'aaaaaaabbbbbbbccccccc',\n",
       " 'aaaaaabbbbbb',\n",
       " 'aaaaaabbbbbbc',\n",
       " 'aaaaaabbbbbbcc',\n",
       " 'aaaaaabbbbbbccc',\n",
       " 'aaaaaabbbbbbcccc',\n",
       " 'aaaaaabbbbbbccccc',\n",
       " 'aaaaaabbbbbbcccccc',\n",
       " 'aaaaaabbbbbbccccccc',\n",
       " 'aaaaabbbbb',\n",
       " 'aaaaabbbbbc',\n",
       " 'aaaaabbbbbcc',\n",
       " 'aaaaabbbbbccc',\n",
       " 'aaaaabbbbbcccc',\n",
       " 'aaaaabbbbbccccc',\n",
       " 'aaaaabbbbbcccccc',\n",
       " 'aaaaabbbbbccccccc',\n",
       " 'aaaabbbb',\n",
       " 'aaaabbbbc',\n",
       " 'aaaabbbbcc',\n",
       " 'aaaabbbbccc',\n",
       " 'aaaabbbbcccc',\n",
       " 'aaaabbbbccccc',\n",
       " 'aaaabbbbcccccc',\n",
       " 'aaaabbbbccccccc',\n",
       " 'aaabbb',\n",
       " 'aaabbbc',\n",
       " 'aaabbbcc',\n",
       " 'aaabbbccc',\n",
       " 'aaabbbcccc',\n",
       " 'aaabbbccccc',\n",
       " 'aaabbbcccccc',\n",
       " 'aaabbbccccccc',\n",
       " 'aabb',\n",
       " 'aabbc',\n",
       " 'aabbcc',\n",
       " 'aabbccc',\n",
       " 'aabbcccc',\n",
       " 'aabbccccc',\n",
       " 'aabbcccccc',\n",
       " 'aabbccccccc',\n",
       " 'ab',\n",
       " 'abc',\n",
       " 'abcc',\n",
       " 'abccc',\n",
       " 'abcccc',\n",
       " 'abccccc',\n",
       " 'abcccccc',\n",
       " 'abccccccc',\n",
       " 'c',\n",
       " 'cc',\n",
       " 'ccc',\n",
       " 'cccc',\n",
       " 'ccccc',\n",
       " 'cccccc',\n",
       " 'ccccccc'}"
      ]
     },
     "execution_count": 58,
     "metadata": {},
     "output_type": "execute_result"
    }
   ],
   "source": [
    "lcat(ABs, Cs)"
   ]
  },
  {
   "cell_type": "code",
   "execution_count": 59,
   "metadata": {
    "run_control": {
     "frozen": false,
     "read_only": false
    }
   },
   "outputs": [
    {
     "data": {
      "text/plain": [
       "{'',\n",
       " 'a',\n",
       " 'aa',\n",
       " 'aaa',\n",
       " 'aaaa',\n",
       " 'aaaaa',\n",
       " 'aaaaaa',\n",
       " 'aaaaaaa',\n",
       " 'aaaaaaab',\n",
       " 'aaaaaaabb',\n",
       " 'aaaaaaabbb',\n",
       " 'aaaaaaabbbb',\n",
       " 'aaaaaaabbbbb',\n",
       " 'aaaaaaabbbbbb',\n",
       " 'aaaaaaabbbbbbb',\n",
       " 'aaaaaab',\n",
       " 'aaaaaabb',\n",
       " 'aaaaaabbb',\n",
       " 'aaaaaabbbb',\n",
       " 'aaaaaabbbbb',\n",
       " 'aaaaaabbbbbb',\n",
       " 'aaaaaabbbbbbb',\n",
       " 'aaaaab',\n",
       " 'aaaaabb',\n",
       " 'aaaaabbb',\n",
       " 'aaaaabbbb',\n",
       " 'aaaaabbbbb',\n",
       " 'aaaaabbbbbb',\n",
       " 'aaaaabbbbbbb',\n",
       " 'aaaab',\n",
       " 'aaaabb',\n",
       " 'aaaabbb',\n",
       " 'aaaabbbb',\n",
       " 'aaaabbbbb',\n",
       " 'aaaabbbbbb',\n",
       " 'aaaabbbbbbb',\n",
       " 'aaab',\n",
       " 'aaabb',\n",
       " 'aaabbb',\n",
       " 'aaabbbb',\n",
       " 'aaabbbbb',\n",
       " 'aaabbbbbb',\n",
       " 'aaabbbbbbb',\n",
       " 'aab',\n",
       " 'aabb',\n",
       " 'aabbb',\n",
       " 'aabbbb',\n",
       " 'aabbbbb',\n",
       " 'aabbbbbb',\n",
       " 'aabbbbbbb',\n",
       " 'ab',\n",
       " 'abb',\n",
       " 'abbb',\n",
       " 'abbbb',\n",
       " 'abbbbb',\n",
       " 'abbbbbb',\n",
       " 'abbbbbbb',\n",
       " 'b',\n",
       " 'bb',\n",
       " 'bbb',\n",
       " 'bbbb',\n",
       " 'bbbbb',\n",
       " 'bbbbbb',\n",
       " 'bbbbbbb'}"
      ]
     },
     "execution_count": 59,
     "metadata": {},
     "output_type": "execute_result"
    }
   ],
   "source": [
    "lcat(As, Bs)"
   ]
  },
  {
   "cell_type": "code",
   "execution_count": 60,
   "metadata": {
    "run_control": {
     "frozen": false,
     "read_only": false
    }
   },
   "outputs": [],
   "source": [
    "ABCs = {\"a\"*i + \"b\"*i + \"c\"*i for i in range(8)}"
   ]
  },
  {
   "cell_type": "code",
   "execution_count": 61,
   "metadata": {
    "run_control": {
     "frozen": false,
     "read_only": false
    }
   },
   "outputs": [
    {
     "data": {
      "text/plain": [
       "{'',\n",
       " 'aaaaaaabbbbbbbccccccc',\n",
       " 'aaaaaabbbbbbcccccc',\n",
       " 'aaaaabbbbbccccc',\n",
       " 'aaaabbbbcccc',\n",
       " 'aaabbbccc',\n",
       " 'aabbcc',\n",
       " 'abc'}"
      ]
     },
     "execution_count": 61,
     "metadata": {},
     "output_type": "execute_result"
    }
   ],
   "source": [
    "ABCs"
   ]
  },
  {
   "cell_type": "markdown",
   "metadata": {
    "run_control": {
     "frozen": false,
     "read_only": false
    }
   },
   "source": [
    "# Now, do the exercises at the end of Ch2 and Ch3"
   ]
  },
  {
   "cell_type": "markdown",
   "metadata": {},
   "source": [
    "# Exercise 2.1.3 Language Operations\n",
    "1. Suppose Nat is an alphabet. That would mean it is a finite set, by definition. So there would be a \"last\" element in any complete enumeration of Nat. But by definition of nat, $\\forall x \\exists y (y = x + 1)$. Therefore, there is no \"last\" element in any complete enumeration of Nat. So Nat cannot be an alphabet.\n",
    "2. The symbols present in \"Hello there!\" are {'H','e','l','o',' ','t','h','r','!'}. This is also the smallest alphabet that underlies that string.\n",
    "3. \"Able was I ere I saw Elba\" is a palindrome, but it is not the concatenation of a string with its reverse. The capitalization differences of \"Able\" and \"Elba\" make this clear, as does the unmatched 'r' in the very middle of the string."
   ]
  },
  {
   "cell_type": "markdown",
   "metadata": {},
   "source": [
    "# Exercise 2.1.4 Zero, One, Exp\n",
    "1. There are 16 a's in $s^4$, 4 b's, 8 c's, and no d's\n",
    "2.  The one (identity) of set interection \"multiplication\" is the universal set, because $X \\cap U = X$. The zero is the empty set $\\varnothing$, because $X \\cap \\varnothing = \\varnothing$"
   ]
  },
  {
   "cell_type": "markdown",
   "metadata": {},
   "source": [
    "# Exercise 2.2 Languages\n",
    "1. $\\epsilon$ is not a member of L_a_lt_b because $i\\lt j$ requires that the smallest string is 'b'.\n",
    "2. Alter the inequality to say $i\\leq j$."
   ]
  },
  {
   "cell_type": "markdown",
   "metadata": {},
   "source": [
    "# Exercise 2.2 Languages (Python)"
   ]
  },
  {
   "cell_type": "code",
   "execution_count": 62,
   "metadata": {
    "scrolled": true
   },
   "outputs": [
    {
     "data": {
      "text/plain": [
       "{'', 'a', 'ab', 'abc', 'b', 'bc', 'c'}"
      ]
     },
     "execution_count": 62,
     "metadata": {},
     "output_type": "execute_result"
    }
   ],
   "source": [
    "s=\"abc\"\n",
    "#I'm guessing a string s' is a substring of s if the entire sequence of s' can be found in s.\n",
    "{s[x:y] for x in range(4) for y in range(len(s)+1) if x <= y}"
   ]
  },
  {
   "cell_type": "code",
   "execution_count": 63,
   "metadata": {},
   "outputs": [
    {
     "data": {
      "text/plain": [
       "{'', '{{{{{}}}}}', '{{{{}}}}', '{{{}}}', '{{}}', '{}'}"
      ]
     },
     "execution_count": 63,
     "metadata": {},
     "output_type": "execute_result"
    }
   ],
   "source": [
    "{\"{\" * x + \"}\" * x for x in range(6)}"
   ]
  },
  {
   "cell_type": "markdown",
   "metadata": {},
   "source": [
    "3.\n",
    "\n",
    "Rephrased, is it true that for any two strings p and q, the reverse of the concatination p + q is the same as the concatination the reverse of q + the reverse of p? Suppose there is such a string p, q, where reverse of (p + q) is not the same as the reverse of p + reverse of q. Then one of the following must be true:\n",
    "\n",
    "* len(rev(p+q)) != len(rev(p))+len(rev(q))\n",
    "We know this is false because len(rev(x)) = len(x) and len(p + q) = len(p) + len(q)\n",
    "\n",
    "* rev(p) is not a substring of rev(p+q) or rev(q) is not a substring of rev(p+q).\n",
    "We know this is false because if y is a substring of x, then rev(y) is a substring of rev(x), and both p and q are substrings of p + q.\n",
    "\n",
    "* The end of rev(q) matches the end of rev(p), and rev(p+q) merges these matches and appends some unknown string either at the beginning of p, or at the end of q, or both. For example, rev(\"ax\"+\"xb\") $\\in$ {\"bxay\" \"ybxa\"}.\n",
    "We know this is not the case because there is no such appended or prepended substring defined in string x + string y."
   ]
  },
  {
   "cell_type": "markdown",
   "metadata": {},
   "source": [
    "$L_1$ ;is like the language built in response for problem 2, except with s={'(',')'}. $L_1$ is a strict subset of $L_2$ because $L_2$ contains strings like \"(()())\" which is not in $L_1$. Similarly, $L_3$ contains all the strings in $L_2$, as well as strings like \")(())\" which are strictly not in $L_2$."
   ]
  },
  {
   "cell_type": "markdown",
   "metadata": {},
   "source": [
    "# Exercise 2.2.2. Zero and One for Concat"
   ]
  },
  {
   "cell_type": "markdown",
   "metadata": {},
   "source": [
    "$\\epsilon$ contains the string '', whereas $\\varnothing$ has length 0. $\\epsilon$ is a language over the alphabet {2,3} because it contains a string that can be generated with just those symbols, whereas $\\varnothing$ has no such string."
   ]
  },
  {
   "cell_type": "markdown",
   "metadata": {},
   "source": [
    "$\\epsilon$ = {''}\n",
    "for any string x, '' + x = x and x + '' = x\n",
    "Suppose the string is 'x'. ''+'x' = '''x' = 'x' = 'x''' = 'x' + ''\n",
    "Likewise with any string.\n",
    "Since language concatination maps concatinate over every pair of strings in the cartesian product of two languages, $\\epsilon + L = L = L + \\epsilon$"
   ]
  },
  {
   "cell_type": "markdown",
   "metadata": {},
   "source": [
    "# Exercise 2.2.5 Languages (review)\n",
    "1. \n",
    "(a) $\\Sigma^2 = {00, 01, 10, 11}$\n",
    "\n",
    "(b) $\\Sigma^0 = {''}$\n",
    "\n",
    "(c) $\\Sigma^1 = {000, 001, 010, 011, 100, 101, 110, 111}$\n",
    "\n",
    "(d) $\\Sigma^3 = {0000, 0001, 0010, 0011, 0100, 0101, 0110, 0111, 1000, 1001, 1010, 1011, 1100, 1101, 1110, 1111}$\n",
    "\n",
    "2.\n",
    "(a)\n",
    "\n",
    "* $M^2 = MM$\n",
    "\n",
    "* This means we must select two random strings from $M$ (repetitions allowed) and concatenate them. \n",
    "\n",
    "* The random selections can yeild\n",
    "\n",
    "* * 0 and 0, whose concatenation is 00\n",
    "\n",
    "* * 0 and 10, whose concatenation is 010\n",
    "\n",
    "* * 10 and 0, whose concatenation is 100\n",
    "\n",
    "* * 10 and 10, whose concatenation is 1010\n",
    "\n",
    "(b)\n",
    "\n",
    "* $M^0M = M^{0+1} = M$\n",
    "\n",
    "* The only solution to $M^0$ in this equation is $\\epsilon$\n",
    "\n",
    "(c)\n",
    "\n",
    "* $M^1 = MM$\n",
    "\n",
    "* This means we must select one random string from $M$. \n",
    "\n",
    "* The random selections can yeild\n",
    "\n",
    "* * 0 \n",
    "* * 10\n",
    "\n",
    "(d)\n",
    "\n",
    "* $M^3 = M$\n",
    "\n",
    "* This means we must select three random strings from $M$ (repetitions allowed) and concatenate them. \n",
    "\n",
    "* The random selections can yeild\n",
    "\n",
    "* * 0, 0 and 0, whose concatenation is 000\n",
    "* * 0, 0 and 10, whose concatenation is 0010\n",
    "* * 0, 10 and 0, whose concatenation is 0100\n",
    "* * 0, 10 and 10, whose concatenation is 01010\n",
    "* * 10, 0 and 0, whose concatenation is 1000\n",
    "* * 10, 0 and 10, whose concatenation is 10010\n",
    "* * 10, 10 and 0, whose concatenation is 10100\n",
    "* * 10, 10 and 10, whose concatenation is 101010\n",
    "\n",
    "3. \n",
    "\n",
    "(a) { '', '()', '(())'}\n",
    "\n",
    "(b) '(()())'\n",
    "\n",
    "(c) The shortest string common among them is ''\n",
    "\n",
    "-> in $L_1$ n = 0\n",
    "\n",
    "-> There is no ( without a matching )\n",
    "\n",
    "-> There are an equal number of ( and ), being 0.\n"
   ]
  },
  {
   "cell_type": "markdown",
   "metadata": {},
   "source": [
    "# Exercise 2.2.6 Languages (identities)\n",
    "1. (a) $L_1 \\cup L_2 = L_2$ because $\\forall x (x \\in L_1 \\rightarrow x \\in L_2) \\land \\exists x (x \\notin L_1 \\land x \\in L_2)$\n",
    "\n",
    "(b) $L_1 \\cup L_3 = L_3$ because $\\forall x (x \\in L_1 \\rightarrow x \\in L_3) \\land \\exists x (x \\notin L_1 \\land x \\in L_3)$\n",
    "(c) $L_1 \\cap L_3 = L_1$ because $\\exists x (x \\notin L_1 \\land x \\in L_3)$\n",
    "\n",
    "2. (a) $star({0,1}, 2) = {\\epsilon, 0, 1, 00, 01, 10, 11}$\n",
    "\n",
    "(b) $star({0,1}, 0) = {\\epsilon, 0, 1, 00, 01, 10, 11}$\n",
    "\n",
    "(c) $star({0,1}, 1) = {\\epsilon, 0, 1}$\n",
    "\n",
    "(d) $star({0,1}, 3) = {\\epsilon, 0, 1, 00, 01, 10, 11, 000, 001, 010, 011, 100, 101, 110, 111}$\n",
    "\n",
    "(e) $star({0,10}, 2) = {\\epsilon, 0, 10, 00, 010, 100, 1010}$\n",
    "\n",
    "(f) $star({0,10}, 0) = {\\epsilon}$\n",
    "\n",
    "(g) $star({0,10}, 1) = {\\epsilon, 0, 10}$\n",
    "\n",
    "(h) $star({0,10}, 3) = {\\epsilon, 0, 10, 00, 010, 100, 1010, 0010, 0100, 01010, 10010, 10100, 101010}$\n",
    "\n",
    "(i) $star({0,1,00,\\epsilon}) = {\\epsilon,0,1,00,01,000,10,11,100,001,0000}$\n",
    "\n",
    "(j) There are $2^n$ elements in $star({0,1}, n)$. This is because there are 2 possibilities at index 0, 2 at index 1, 2 at index 2, ... 2 at index n = $2^n$ elements.\n",
    "\n",
    "(k) A string in star({0,1}) is a string that may be finite or infinite, where each symbol is a 1 or a 0."
   ]
  },
  {
   "cell_type": "markdown",
   "metadata": {},
   "source": [
    "# Exercise 2.3 Slippery concepts\n",
    "1. $L_E$ has 2i, i>=0 characters, and 2i, i>=0 is a subset of the set of all even numbers. Therefore, $L_E$ has an even number of characters. Since the only symbol in any string in $L_E$ is 0, $L_3$ is over the alphabet {0}\n",
    "\n",
    "2. $L_E 0^{2i}, i\\geq{}0 = (0)^{2^{i}}, i \\geq 0 = 00^i, i\\geq 0$\n",
    "\n",
    "3. $L_O$ is the language of all strings with an odd number of 0s over the alphabet {0}. Since a string has a natural number of characters, and a natural number is either an even number or an odd number, and $L*$ is the set of all strings over the alphabet {0}, it follows that $L_O \\cup L_E = L\\*$\n",
    "\n",
    "4. $E_q01$ is a language with a number of 0's followed by the same number of 1's.\n",
    "\n",
    "5. \n",
    "(a) This is the same as the language described in problem 4, except with a different variable. They evaluate identically.\n",
    "\n",
    "(b) This is not the same as $E_q01$ because it binds two different variables for the number of 0s and the number of 1s. So for example it includes \"011\" which is not included in $E_q01$.\n",
    "\n",
    "(c) This is not the same as $E_q01$ because it does not include $\\epsilon$.\n",
    "\n",
    "(d) This is a subset of the above, and still does not include $\\epsilon$.\n",
    "\n",
    "(e) This is the same as $E_q01$. It is the union of the language in (c) and {$epsilon$}. Since $epsilon$ was the only string not included in (c) but in $E_q01$, this language and $E_q01$ are equivalent.\n",
    "\n",
    "(f)  Since i = j, this is the same as (a), which is the same as $E_q01$.\n",
    "\n",
    "6. Yes, ${0^i1^j : i,j \\geq 0} = {0^i : i\\geq 0}{1^j : j \\geq 0}$. RHS means any string from the first language concatinated with any string from the second language, so it is i 0's, + j 1's.\n",
    "\n",
    "7. \n",
    "(a) This is true. $\\lnot(i\\geq0 \\land j \\geq 0 \\land i = j) \\leftrightarrow (i \\lt 0) \\lor (j \\lt 0) \\lor (i \\neq j).$\n",
    "Since $i \\geq 0 \\land j \\geq 1$, it must be that in the complement of $L_6$, $i \\neq j.$\n",
    "\n",
    "(b) As shown above, the proposition is true.\n",
    "\n",
    "(c) Since it is shown above that $L_8$ = the complement of $L_6$, their set difference is $\\varnothing$. There is no string in the set difference.\n",
    "\n",
    "(d) As described above, these two languages are equal, so there is no string in $L_8$ that is not in the complement of $L_6$"
   ]
  },
  {
   "cell_type": "markdown",
   "metadata": {},
   "source": [
    "# Exercise 3.2 Star Properties\n",
    "1. \"well parenthesized\" means (a) the first character is ( and (b) for ever ( there is a ).\n",
    "\n",
    "\"(())\"\n",
    "\n",
    "\"(()())\"\n",
    "\n",
    "\"()()\"\n",
    "\n",
    "\"()(((((())))()()))\"\n",
    "\n",
    "\"\"\n",
    "\n",
    "\"((()))()(()))\"\n",
    "\n",
    "2. Since $i \\geq 0 \\land j \\geq 0$, ${0^i1^j}$ is the same as ${0*1*}$ by definition.\n",
    "\n",
    "3. {} and {''}: $\\epsilon$ and $\\varnothing$\n",
    "\n",
    "4. \n",
    "(a) $L_p2$\n",
    "\n",
    "(b)\n",
    " $L_P0$ is regular. It can be parsed with a finite state machine.\n",
    " $L_P1$ is context-free. It needs a stack to be parsed. The rules are something like \"S=wSw | $\\lambda$\" for every w in $\\Sigma$\n",
    " $L_P2$ is context-free. It needs a stack to be parsed. The rules are something like \"S=wSw | wAw | $\\lambda$; A = w | $\\lambda$\" for every w in $\\Sigma$\n",
    " $L_P3$ is context-free. It needs a stack to be parsed. The rules are something like \"S=wSw | wAw | $\\lambda$; A = w\" for every w in $\\Sigma$\n",
    " $L_ww$ is context-sensitive. It requires a string to be repeated. The rules are probably very complicated.\n",
    "\n",
    "5. \n",
    "(a) Yes, this question is identical to exercise 2.3 problem 3.\n",
    "\n",
    "(b) L=LL is not the true for $L=L_O$ because it would only include strings in $L_E$.\n",
    "\n",
    "L=LL is true for $L=L_E$ because $L_E$ included $\\epsilon$ and the sum of any two even numbers is an even number.\n",
    "\n",
    "(c) L=L* is true for $L_E$ for the reason give above. L=L* is not true for $L_O$ because it would include almost all the strings in {0}* which is a proper subset of $L_O$.\n",
    "\n",
    "(d) \n",
    "i. $L_O L_O - L_E = \\varnothing$\n",
    "\n",
    "ii. $L_E - L_O L_O = {\\epsilon}$\n",
    "\n",
    "(e) No, it will never include an element of $L_O$.\n",
    "\n",
    "(f) Yes, it would include all strings of {0}*\n",
    "\n",
    "6. $A = B \\leftrightarrow A \\subseteq B \\land A \\supseteq B$\n",
    "\n",
    "Suppose $x \\in L^*.$ It is also true $x = \\epsilon x.$ It follows that $x \\in L^{**}$ because both $x$ and $\\epsilon$ are in L^*.$"
   ]
  },
  {
   "cell_type": "markdown",
   "metadata": {},
   "source": [
    "# Exercise 3.4.1 Language Puzzles\n",
    "1.\n",
    "(a)Since $L_{as}L_{bs}L_{cs} = (abc)^*$, $L_{as}L_{bs}L_{cs} \\cap L_{eqabc} = L_{eqabc}.$\n",
    "\n",
    "(b) "
   ]
  },
  {
   "cell_type": "code",
   "execution_count": 64,
   "metadata": {},
   "outputs": [
    {
     "data": {
      "text/plain": [
       "{'', 'aaaabbbbcccc', 'aaabbbccc', 'aabbcc', 'abc'}"
      ]
     },
     "execution_count": 64,
     "metadata": {},
     "output_type": "execute_result"
    }
   ],
   "source": [
    "{'a'*x+'b'*y+'c'*z for x in range(5) for y in range(5) for z in range(5) if x == y and y == z}"
   ]
  },
  {
   "cell_type": "markdown",
   "metadata": {},
   "source": [
    "(c) $L_{eqabc} \\cap L_{cs}L_{as}L_{cs}L_{bs}L_{cs} = L_{eqabc}.$ The lengths of the first ad second $L_{cs}$ are both 0 in this case."
   ]
  },
  {
   "cell_type": "markdown",
   "metadata": {},
   "source": [
    "# Exercise 3.5 Lexicographical Order"
   ]
  },
  {
   "cell_type": "code",
   "execution_count": 65,
   "metadata": {},
   "outputs": [],
   "source": [
    "def lexlt(s, t):\n",
    "    if (s == ''):\n",
    "        return True\n",
    "    if (t == ''):\n",
    "        return False\n",
    "    if(s[0] < t[0]):\n",
    "        return True\n",
    "    return (s[0] == t[0] and lexlt(s[1::],t[1::]))"
   ]
  },
  {
   "cell_type": "code",
   "execution_count": 66,
   "metadata": {},
   "outputs": [
    {
     "data": {
      "text/plain": [
       "[('abacus', 'dog'),\n",
       " ('abacus', 'zzxyz'),\n",
       " ('abacus', 'pimento'),\n",
       " ('abacus', 'zebra'),\n",
       " ('physics', 'zzxyz'),\n",
       " ('physics', 'pimento'),\n",
       " ('physics', 'zebra'),\n",
       " ('cat', 'dog'),\n",
       " ('cat', 'zzxyz'),\n",
       " ('cat', 'pimento'),\n",
       " ('cat', 'zebra'),\n",
       " ('pig', 'zzxyz'),\n",
       " ('pig', 'pimento'),\n",
       " ('pig', 'zebra'),\n",
       " ('zulu', 'zzxyz'),\n",
       " ('bandana', 'dog'),\n",
       " ('bandana', 'zzxyz'),\n",
       " ('bandana', 'pimento'),\n",
       " ('bandana', 'zebra'),\n",
       " ('dodo', 'dog'),\n",
       " ('dodo', 'zzxyz'),\n",
       " ('dodo', 'pimento'),\n",
       " ('dodo', 'zebra')]"
      ]
     },
     "execution_count": 66,
     "metadata": {},
     "output_type": "execute_result"
    }
   ],
   "source": [
    "[(a, b) for a in {'abacus', 'bandana', 'pig', 'cat', 'dodo', 'zulu', 'physics'}\n",
    "for b in {'dog', 'zebra', 'zzxyz', 'pimento'}\n",
    "if lexlt(a, b)]"
   ]
  },
  {
   "cell_type": "markdown",
   "metadata": {},
   "source": [
    "# Exercise 3.6 Numeric Order\n",
    "1."
   ]
  },
  {
   "cell_type": "code",
   "execution_count": 67,
   "metadata": {},
   "outputs": [
    {
     "data": {
      "text/plain": [
       "['', '0', '1', '00', '01', '10', '11', '000', '001', '010']"
      ]
     },
     "execution_count": 67,
     "metadata": {},
     "output_type": "execute_result"
    }
   ],
   "source": [
    "numeric_list = [ nthnumeric(i, ['0','1']) for i in range(10)]\n",
    "numeric_list"
   ]
  },
  {
   "cell_type": "markdown",
   "metadata": {},
   "source": [
    "2."
   ]
  },
  {
   "cell_type": "code",
   "execution_count": 68,
   "metadata": {},
   "outputs": [],
   "source": [
    "from functools import cmp_to_key"
   ]
  },
  {
   "cell_type": "code",
   "execution_count": 69,
   "metadata": {},
   "outputs": [
    {
     "data": {
      "text/plain": [
       "['', '0', '00', '000', '001', '01', '010', '1', '10', '11']"
      ]
     },
     "execution_count": 69,
     "metadata": {},
     "output_type": "execute_result"
    }
   ],
   "source": [
    "sorted(numeric_list, key=cmp_to_key(lambda x, y: -1 if lexlt(x,y) else 1))\n"
   ]
  },
  {
   "cell_type": "code",
   "execution_count": 70,
   "metadata": {},
   "outputs": [
    {
     "data": {
      "text/plain": [
       "set()"
      ]
     },
     "execution_count": 70,
     "metadata": {},
     "output_type": "execute_result"
    }
   ],
   "source": [
    "lphi()"
   ]
  },
  {
   "cell_type": "code",
   "execution_count": 71,
   "metadata": {},
   "outputs": [
    {
     "data": {
      "text/plain": [
       "{''}"
      ]
     },
     "execution_count": 71,
     "metadata": {},
     "output_type": "execute_result"
    }
   ],
   "source": [
    "lunit()"
   ]
  }
 ],
 "metadata": {
  "kernelspec": {
   "display_name": "Python 3",
   "language": "/gnu/store/h8jw9qhyfp6fm6nb3cgh4335qhr31wfz-python-wrapper-3.8.2/bin/python",
   "name": "python3"
  },
  "language_info": {
   "codemirror_mode": {
    "name": "ipython",
    "version": 3
   },
   "file_extension": ".py",
   "mimetype": "text/x-python",
   "name": "python",
   "nbconvert_exporter": "python",
   "pygments_lexer": "ipython3",
   "version": "3.8.2"
  },
  "toc": {
   "colors": {
    "hover_highlight": "#DAA520",
    "running_highlight": "#FF0000",
    "selected_highlight": "#FFD700"
   },
   "moveMenuLeft": true,
   "nav_menu": {
    "height": "207px",
    "width": "252px"
   },
   "navigate_menu": true,
   "number_sections": true,
   "sideBar": true,
   "threshold": 4,
   "toc_cell": false,
   "toc_section_display": "block",
   "toc_window_display": false,
   "widenNotebook": false
  },
  "widgets": {
   "application/vnd.jupyter.widget-state+json": {
    "state": {
     "01ec92b297b74d48ac0c285795912a29": {
      "model_module": "@jupyter-widgets/base",
      "model_module_version": "1.2.0",
      "model_name": "LayoutModel",
      "state": {}
     },
     "02d7d32d2cb6450090d489e79bf2e6c8": {
      "model_module": "@jupyter-widgets/controls",
      "model_module_version": "1.5.0",
      "model_name": "DropdownModel",
      "state": {
       "_options_labels": [
        "Alph1",
        "Alph2"
       ],
       "description": "L",
       "index": 0,
       "layout": "IPY_MODEL_e9e6e1e4a5374a49ae383595f8e2e0e2",
       "style": "IPY_MODEL_e52f086a40ac4646928a10e5eaf6ab16"
      }
     },
     "052d261e176e4b0ea20ad9513eda96ad": {
      "model_module": "@jupyter-widgets/controls",
      "model_module_version": "1.5.0",
      "model_name": "SliderStyleModel",
      "state": {
       "description_width": ""
      }
     },
     "06f8059873d444b7af8fa453c2bc095e": {
      "model_module": "@jupyter-widgets/base",
      "model_module_version": "1.2.0",
      "model_name": "LayoutModel",
      "state": {}
     },
     "07fd202ad6134ab3a94801b7cdb71007": {
      "model_module": "@jupyter-widgets/base",
      "model_module_version": "1.2.0",
      "model_name": "LayoutModel",
      "state": {}
     },
     "0b9d87c3a7b646d3a27a72deec0bf147": {
      "model_module": "@jupyter-widgets/base",
      "model_module_version": "1.2.0",
      "model_name": "LayoutModel",
      "state": {}
     },
     "0decfe9ea6234745b0e78f4c8dee6fe3": {
      "model_module": "@jupyter-widgets/controls",
      "model_module_version": "1.5.0",
      "model_name": "SliderStyleModel",
      "state": {
       "description_width": ""
      }
     },
     "0e0eedbd215947e4ba54e5322f037589": {
      "model_module": "@jupyter-widgets/controls",
      "model_module_version": "1.5.0",
      "model_name": "VBoxModel",
      "state": {
       "_dom_classes": [
        "widget-interact"
       ],
       "children": [
        "IPY_MODEL_6dc91c1cf1a54a319e628a55faa5a0c4",
        "IPY_MODEL_f6966d4a74de4d189666855087c4f5b9",
        "IPY_MODEL_9bf3f03457d14bec90356d960219ad86"
       ],
       "layout": "IPY_MODEL_581bdd7159c44744bfa04a6521d6768a"
      }
     },
     "0f4bb5c294b0426e845bed07ad58b7ab": {
      "model_module": "@jupyter-widgets/output",
      "model_module_version": "1.0.0",
      "model_name": "OutputModel",
      "state": {
       "layout": "IPY_MODEL_8ffb5bb34d95465eb3aa0aa4ae8d1baf",
       "outputs": [
        {
         "data": {
          "text/plain": "{'',\n 'a',\n 'aa',\n 'aaa',\n 'aabc',\n 'abc',\n 'abca',\n 'abcbc',\n 'bc',\n 'bca',\n 'bcaa',\n 'bcabc',\n 'bcbc',\n 'bcbca',\n 'bcbcbc'}"
         },
         "metadata": {},
         "output_type": "display_data"
        }
       ]
      }
     },
     "10ddf57e762847598cb0adc3709c8e31": {
      "model_module": "@jupyter-widgets/base",
      "model_module_version": "1.2.0",
      "model_name": "LayoutModel",
      "state": {}
     },
     "10e5de1cd8984579b16c5fd5f37f5a81": {
      "model_module": "@jupyter-widgets/controls",
      "model_module_version": "1.5.0",
      "model_name": "SliderStyleModel",
      "state": {
       "description_width": ""
      }
     },
     "139cbdf0e5d4450b8ca75db2699e48be": {
      "model_module": "@jupyter-widgets/controls",
      "model_module_version": "1.5.0",
      "model_name": "IntSliderModel",
      "state": {
       "description": "n",
       "layout": "IPY_MODEL_6f69f0dda0e7419da6d0ef757f257b37",
       "max": 7,
       "style": "IPY_MODEL_052d261e176e4b0ea20ad9513eda96ad",
       "value": 3
      }
     },
     "1a85eb03646f4091a7b0bdfef0c4fb9a": {
      "model_module": "@jupyter-widgets/base",
      "model_module_version": "1.2.0",
      "model_name": "LayoutModel",
      "state": {}
     },
     "1b9f1b18a22148859e82cb2aa8386a67": {
      "model_module": "@jupyter-widgets/controls",
      "model_module_version": "1.5.0",
      "model_name": "IntSliderModel",
      "state": {
       "description": "n",
       "layout": "IPY_MODEL_9b04b971267345098d5a704c8e2c27b6",
       "max": 7,
       "style": "IPY_MODEL_10e5de1cd8984579b16c5fd5f37f5a81",
       "value": 3
      }
     },
     "1cea52661c8844c5a43a57dbdb79a512": {
      "model_module": "@jupyter-widgets/base",
      "model_module_version": "1.2.0",
      "model_name": "LayoutModel",
      "state": {}
     },
     "231f28e993864127a3150310917754a8": {
      "model_module": "@jupyter-widgets/controls",
      "model_module_version": "1.5.0",
      "model_name": "DescriptionStyleModel",
      "state": {
       "description_width": ""
      }
     },
     "2383c673cc5745e398b031e08ff9f662": {
      "model_module": "@jupyter-widgets/controls",
      "model_module_version": "1.5.0",
      "model_name": "IntSliderModel",
      "state": {
       "description": "n",
       "layout": "IPY_MODEL_858e5929ed3c465589fe7afb075ef8d7",
       "max": 7,
       "style": "IPY_MODEL_abd710f0978c424793369dedc0e5498f",
       "value": 3
      }
     },
     "27c6712568bf4196a019c92dc832331c": {
      "model_module": "@jupyter-widgets/base",
      "model_module_version": "1.2.0",
      "model_name": "LayoutModel",
      "state": {}
     },
     "2b102f9c02474a84bac62db2ab386448": {
      "model_module": "@jupyter-widgets/controls",
      "model_module_version": "1.5.0",
      "model_name": "DropdownModel",
      "state": {
       "_options_labels": [
        "L3",
        "L1",
        "L2",
        "M",
        "lphi",
        "lunit"
       ],
       "description": "L",
       "index": 0,
       "layout": "IPY_MODEL_01ec92b297b74d48ac0c285795912a29",
       "style": "IPY_MODEL_a4a66d8ba1174181ab7cd6f3dc33fff4"
      }
     },
     "2cdabb93c51b4d33bdbb599813b70bd9": {
      "model_module": "@jupyter-widgets/base",
      "model_module_version": "1.2.0",
      "model_name": "LayoutModel",
      "state": {}
     },
     "2de2987e865547539bdbaf2d730805d6": {
      "model_module": "@jupyter-widgets/base",
      "model_module_version": "1.2.0",
      "model_name": "LayoutModel",
      "state": {}
     },
     "30a07612603e4f2b9e2d2339acb0eba5": {
      "model_module": "@jupyter-widgets/base",
      "model_module_version": "1.2.0",
      "model_name": "LayoutModel",
      "state": {}
     },
     "3749c9efdab54accbb66f0d6883fc7df": {
      "model_module": "@jupyter-widgets/controls",
      "model_module_version": "1.5.0",
      "model_name": "SliderStyleModel",
      "state": {
       "description_width": ""
      }
     },
     "3ddc8e072e374c8f8c7f318f7af36366": {
      "model_module": "@jupyter-widgets/base",
      "model_module_version": "1.2.0",
      "model_name": "LayoutModel",
      "state": {}
     },
     "44aadaabb4f140278522b1b933dc7b56": {
      "model_module": "@jupyter-widgets/base",
      "model_module_version": "1.2.0",
      "model_name": "LayoutModel",
      "state": {}
     },
     "451a12c27bd84007b03c0c722ab84460": {
      "model_module": "@jupyter-widgets/controls",
      "model_module_version": "1.5.0",
      "model_name": "SliderStyleModel",
      "state": {
       "description_width": ""
      }
     },
     "46e7809676614e4aad36683b25b37338": {
      "model_module": "@jupyter-widgets/controls",
      "model_module_version": "1.5.0",
      "model_name": "DescriptionStyleModel",
      "state": {
       "description_width": ""
      }
     },
     "4796b6fa0975497dba59881c9d2ff8ec": {
      "model_module": "@jupyter-widgets/controls",
      "model_module_version": "1.5.0",
      "model_name": "DropdownModel",
      "state": {
       "_options_labels": [
        "Alph1",
        "Alph2"
       ],
       "description": "L",
       "index": 0,
       "layout": "IPY_MODEL_a1132021964148f8907f5a9ca27041bc",
       "style": "IPY_MODEL_ba7babb13d454265a549c0948544beb1"
      }
     },
     "4831be26408b4792847bd844e04f91a2": {
      "model_module": "@jupyter-widgets/controls",
      "model_module_version": "1.5.0",
      "model_name": "DescriptionStyleModel",
      "state": {
       "description_width": ""
      }
     },
     "48e7a897c7784563b47ece29e912688b": {
      "model_module": "@jupyter-widgets/base",
      "model_module_version": "1.2.0",
      "model_name": "LayoutModel",
      "state": {}
     },
     "4f5958361e73463bb2496d47d872c449": {
      "model_module": "@jupyter-widgets/controls",
      "model_module_version": "1.5.0",
      "model_name": "DropdownModel",
      "state": {
       "_options_labels": [
        "L3",
        "L1",
        "L2",
        "M",
        "lphi",
        "lunit"
       ],
       "description": "L",
       "index": 0,
       "layout": "IPY_MODEL_de373c93a234453a8fbe4eb7f0ce188b",
       "style": "IPY_MODEL_d0c6e471a03c4f728f8ed4377b711834"
      }
     },
     "517d0f2810d24ab9aa6864ae973427fa": {
      "model_module": "@jupyter-widgets/base",
      "model_module_version": "1.2.0",
      "model_name": "LayoutModel",
      "state": {}
     },
     "55d8d3e794cc47c99bf606729708b21e": {
      "model_module": "@jupyter-widgets/controls",
      "model_module_version": "1.5.0",
      "model_name": "IntSliderModel",
      "state": {
       "description": "n",
       "layout": "IPY_MODEL_8361a34b8c3241c4bd4470b5bf1d65f4",
       "max": 7,
       "style": "IPY_MODEL_ccf7f12937b6483880ad65a4ebe61dca",
       "value": 3
      }
     },
     "56fa282550314471ab19bdc6e40edbed": {
      "model_module": "@jupyter-widgets/controls",
      "model_module_version": "1.5.0",
      "model_name": "IntSliderModel",
      "state": {
       "description": "n",
       "layout": "IPY_MODEL_7523395a166b49aa8187c4161d8c192d",
       "max": 7,
       "style": "IPY_MODEL_dce6db495fbd4437ad1de04069b67e42",
       "value": 7
      }
     },
     "581bdd7159c44744bfa04a6521d6768a": {
      "model_module": "@jupyter-widgets/base",
      "model_module_version": "1.2.0",
      "model_name": "LayoutModel",
      "state": {}
     },
     "585237c5f9214a708ec0741350d79fa1": {
      "model_module": "@jupyter-widgets/controls",
      "model_module_version": "1.5.0",
      "model_name": "DropdownModel",
      "state": {
       "_options_labels": [
        "L1",
        "L2",
        "M",
        "lphi",
        "lunit"
       ],
       "description": "L",
       "index": 0,
       "layout": "IPY_MODEL_ec23f33a95ec44d8979610c4a6f64af8",
       "style": "IPY_MODEL_4831be26408b4792847bd844e04f91a2"
      }
     },
     "5889a81f0b0a4797bc712fe50a91d5f3": {
      "model_module": "@jupyter-widgets/base",
      "model_module_version": "1.2.0",
      "model_name": "LayoutModel",
      "state": {}
     },
     "5aa927c6344b4be896c454cad427ad66": {
      "model_module": "@jupyter-widgets/output",
      "model_module_version": "1.0.0",
      "model_name": "OutputModel",
      "state": {
       "layout": "IPY_MODEL_ee6cea2b5574426abacdd6ee19cb4cbe",
       "outputs": [
        {
         "data": {
          "text/plain": "{'',\n 'a',\n 'aa',\n 'aaa',\n 'aab',\n 'aac',\n 'ab',\n 'aba',\n 'abb',\n 'abc',\n 'ac',\n 'aca',\n 'acb',\n 'acc',\n 'b',\n 'ba',\n 'baa',\n 'bab',\n 'bac',\n 'bb',\n 'bba',\n 'bbb',\n 'bbc',\n 'bc',\n 'bca',\n 'bcb',\n 'bcc',\n 'c',\n 'ca',\n 'caa',\n 'cab',\n 'cac',\n 'cb',\n 'cba',\n 'cbb',\n 'cbc',\n 'cc',\n 'cca',\n 'ccb',\n 'ccc'}"
         },
         "metadata": {},
         "output_type": "display_data"
        }
       ]
      }
     },
     "5c3f3eafd37444c98e021870f1d6b633": {
      "model_module": "@jupyter-widgets/base",
      "model_module_version": "1.2.0",
      "model_name": "LayoutModel",
      "state": {}
     },
     "5e0e3bf9531f4236b21c230cd3980c3b": {
      "model_module": "@jupyter-widgets/controls",
      "model_module_version": "1.5.0",
      "model_name": "VBoxModel",
      "state": {
       "_dom_classes": [
        "widget-interact"
       ],
       "children": [
        "IPY_MODEL_02d7d32d2cb6450090d489e79bf2e6c8",
        "IPY_MODEL_8435af0b40f5494299bfa9e2f8a6405d",
        "IPY_MODEL_8e5552198a024abdae927a43331f94b5"
       ],
       "layout": "IPY_MODEL_517d0f2810d24ab9aa6864ae973427fa"
      }
     },
     "5e35ee50df4645ecbcfe29dc67c7801b": {
      "model_module": "@jupyter-widgets/controls",
      "model_module_version": "1.5.0",
      "model_name": "DescriptionStyleModel",
      "state": {
       "description_width": ""
      }
     },
     "5f3e7ad775ec4bcfa5e2dd8f2a509fcd": {
      "model_module": "@jupyter-widgets/controls",
      "model_module_version": "1.5.0",
      "model_name": "DropdownModel",
      "state": {
       "_options_labels": [
        "L3",
        "L1",
        "L2",
        "M",
        "lphi",
        "lunit"
       ],
       "description": "L",
       "index": 0,
       "layout": "IPY_MODEL_3ddc8e072e374c8f8c7f318f7af36366",
       "style": "IPY_MODEL_750f970380bf4f999d58735218de1c2f"
      }
     },
     "618a711bdeac48df8be354897781ff7c": {
      "model_module": "@jupyter-widgets/base",
      "model_module_version": "1.2.0",
      "model_name": "LayoutModel",
      "state": {}
     },
     "64a336351a884e76a5b77e1c481752cc": {
      "model_module": "@jupyter-widgets/controls",
      "model_module_version": "1.5.0",
      "model_name": "SliderStyleModel",
      "state": {
       "description_width": ""
      }
     },
     "64a870e2688b43b98b25160269e5bff3": {
      "model_module": "@jupyter-widgets/output",
      "model_module_version": "1.0.0",
      "model_name": "OutputModel",
      "state": {
       "layout": "IPY_MODEL_2cdabb93c51b4d33bdbb599813b70bd9",
       "outputs": [
        {
         "data": {
          "text/plain": "{'',\n 'a',\n 'aa',\n 'aaa',\n 'aab',\n 'ab',\n 'aba',\n 'abb',\n 'b',\n 'ba',\n 'baa',\n 'bab',\n 'bb',\n 'bba',\n 'bbb'}"
         },
         "metadata": {},
         "output_type": "display_data"
        }
       ]
      }
     },
     "6a80642bd5444f8f9f4b305ed52745c3": {
      "model_module": "@jupyter-widgets/controls",
      "model_module_version": "1.5.0",
      "model_name": "DropdownModel",
      "state": {
       "_options_labels": [
        "L1",
        "L2",
        "M",
        "lphi",
        "lunit"
       ],
       "description": "L",
       "index": 2,
       "layout": "IPY_MODEL_84e4c58f08e145f0aca5fc0ed5f6a137",
       "style": "IPY_MODEL_231f28e993864127a3150310917754a8"
      }
     },
     "6b5d3910460046ce9138c371d5a19adc": {
      "model_module": "@jupyter-widgets/base",
      "model_module_version": "1.2.0",
      "model_name": "LayoutModel",
      "state": {}
     },
     "6cca10a92a874227a2ca08cf61fc4e1e": {
      "model_module": "@jupyter-widgets/base",
      "model_module_version": "1.2.0",
      "model_name": "LayoutModel",
      "state": {}
     },
     "6dc91c1cf1a54a319e628a55faa5a0c4": {
      "model_module": "@jupyter-widgets/controls",
      "model_module_version": "1.5.0",
      "model_name": "DropdownModel",
      "state": {
       "_options_labels": [
        "Alph1",
        "Alph2"
       ],
       "description": "L",
       "index": 0,
       "layout": "IPY_MODEL_10ddf57e762847598cb0adc3709c8e31",
       "style": "IPY_MODEL_46e7809676614e4aad36683b25b37338"
      }
     },
     "6f69f0dda0e7419da6d0ef757f257b37": {
      "model_module": "@jupyter-widgets/base",
      "model_module_version": "1.2.0",
      "model_name": "LayoutModel",
      "state": {}
     },
     "750f970380bf4f999d58735218de1c2f": {
      "model_module": "@jupyter-widgets/controls",
      "model_module_version": "1.5.0",
      "model_name": "DescriptionStyleModel",
      "state": {
       "description_width": ""
      }
     },
     "7523395a166b49aa8187c4161d8c192d": {
      "model_module": "@jupyter-widgets/base",
      "model_module_version": "1.2.0",
      "model_name": "LayoutModel",
      "state": {}
     },
     "775a87a6950c4ea98485e6d2782ee65c": {
      "model_module": "@jupyter-widgets/controls",
      "model_module_version": "1.5.0",
      "model_name": "VBoxModel",
      "state": {
       "_dom_classes": [
        "widget-interact"
       ],
       "children": [
        "IPY_MODEL_585237c5f9214a708ec0741350d79fa1",
        "IPY_MODEL_d5c27aa1cb5941cea268a6453d5bf25b",
        "IPY_MODEL_0f4bb5c294b0426e845bed07ad58b7ab"
       ],
       "layout": "IPY_MODEL_44aadaabb4f140278522b1b933dc7b56"
      }
     },
     "7891a35a763b400fb593297d0ace1405": {
      "model_module": "@jupyter-widgets/base",
      "model_module_version": "1.2.0",
      "model_name": "LayoutModel",
      "state": {}
     },
     "7bf4217441d44c39a4e9a1b113ceac2f": {
      "model_module": "@jupyter-widgets/base",
      "model_module_version": "1.2.0",
      "model_name": "LayoutModel",
      "state": {}
     },
     "7eb0f8d3cc2a46928cd822d4dcce4a33": {
      "model_module": "@jupyter-widgets/controls",
      "model_module_version": "1.5.0",
      "model_name": "VBoxModel",
      "state": {
       "_dom_classes": [
        "widget-interact"
       ],
       "children": [
        "IPY_MODEL_4796b6fa0975497dba59881c9d2ff8ec",
        "IPY_MODEL_2383c673cc5745e398b031e08ff9f662",
        "IPY_MODEL_dc1d6742e848428a8d50c3e32a863060"
       ],
       "layout": "IPY_MODEL_d7bda9eb1ffc43539b71b46384a389fe"
      }
     },
     "81713475f715448091112671e2817e78": {
      "model_module": "@jupyter-widgets/base",
      "model_module_version": "1.2.0",
      "model_name": "LayoutModel",
      "state": {}
     },
     "8361a34b8c3241c4bd4470b5bf1d65f4": {
      "model_module": "@jupyter-widgets/base",
      "model_module_version": "1.2.0",
      "model_name": "LayoutModel",
      "state": {}
     },
     "839f4aa246e243ceb6bdec55fd6e4142": {
      "model_module": "@jupyter-widgets/controls",
      "model_module_version": "1.5.0",
      "model_name": "IntSliderModel",
      "state": {
       "description": "n",
       "layout": "IPY_MODEL_48e7a897c7784563b47ece29e912688b",
       "max": 7,
       "style": "IPY_MODEL_c193a74e8b5740cb88a8596efccae1e3",
       "value": 3
      }
     },
     "83db25ab26b64171b6afda75ec1ef7a4": {
      "model_module": "@jupyter-widgets/controls",
      "model_module_version": "1.5.0",
      "model_name": "IntSliderModel",
      "state": {
       "description": "n",
       "layout": "IPY_MODEL_5889a81f0b0a4797bc712fe50a91d5f3",
       "max": 7,
       "style": "IPY_MODEL_3749c9efdab54accbb66f0d6883fc7df",
       "value": 3
      }
     },
     "8435af0b40f5494299bfa9e2f8a6405d": {
      "model_module": "@jupyter-widgets/controls",
      "model_module_version": "1.5.0",
      "model_name": "IntSliderModel",
      "state": {
       "description": "n",
       "layout": "IPY_MODEL_f317dbde564e4bd4bcda80b5cc2fe1fe",
       "max": 7,
       "style": "IPY_MODEL_c154c04786d0445bae667407c7f5d3f2",
       "value": 7
      }
     },
     "84e4c58f08e145f0aca5fc0ed5f6a137": {
      "model_module": "@jupyter-widgets/base",
      "model_module_version": "1.2.0",
      "model_name": "LayoutModel",
      "state": {}
     },
     "858e5929ed3c465589fe7afb075ef8d7": {
      "model_module": "@jupyter-widgets/base",
      "model_module_version": "1.2.0",
      "model_name": "LayoutModel",
      "state": {}
     },
     "8781af1d2e5b476ea61dd9efa27dc316": {
      "model_module": "@jupyter-widgets/base",
      "model_module_version": "1.2.0",
      "model_name": "LayoutModel",
      "state": {}
     },
     "8810429fe112400b80416e9554f678a1": {
      "model_module": "@jupyter-widgets/controls",
      "model_module_version": "1.5.0",
      "model_name": "VBoxModel",
      "state": {
       "_dom_classes": [
        "widget-interact"
       ],
       "children": [
        "IPY_MODEL_5f3e7ad775ec4bcfa5e2dd8f2a509fcd",
        "IPY_MODEL_83db25ab26b64171b6afda75ec1ef7a4",
        "IPY_MODEL_5aa927c6344b4be896c454cad427ad66"
       ],
       "layout": "IPY_MODEL_8781af1d2e5b476ea61dd9efa27dc316"
      }
     },
     "895e7ce992384650bba05171430b52c1": {
      "model_module": "@jupyter-widgets/base",
      "model_module_version": "1.2.0",
      "model_name": "LayoutModel",
      "state": {}
     },
     "8e5552198a024abdae927a43331f94b5": {
      "model_module": "@jupyter-widgets/output",
      "model_module_version": "1.0.0",
      "model_name": "OutputModel",
      "state": {
       "layout": "IPY_MODEL_06f8059873d444b7af8fa453c2bc095e",
       "outputs": [
        {
         "data": {
          "text/plain": "{'',\n 'a',\n 'aa',\n 'aaa',\n 'aaaa',\n 'aaaaa',\n 'aaaaaa',\n 'aaaaaaa',\n 'aaaaaab',\n 'aaaaab',\n 'aaaaaba',\n 'aaaaabb',\n 'aaaab',\n 'aaaaba',\n 'aaaabaa',\n 'aaaabab',\n 'aaaabb',\n 'aaaabba',\n 'aaaabbb',\n 'aaab',\n 'aaaba',\n 'aaabaa',\n 'aaabaaa',\n 'aaabaab',\n 'aaabab',\n 'aaababa',\n 'aaababb',\n 'aaabb',\n 'aaabba',\n 'aaabbaa',\n 'aaabbab',\n 'aaabbb',\n 'aaabbba',\n 'aaabbbb',\n 'aab',\n 'aaba',\n 'aabaa',\n 'aabaaa',\n 'aabaaaa',\n 'aabaaab',\n 'aabaab',\n 'aabaaba',\n 'aabaabb',\n 'aabab',\n 'aababa',\n 'aababaa',\n 'aababab',\n 'aababb',\n 'aababba',\n 'aababbb',\n 'aabb',\n 'aabba',\n 'aabbaa',\n 'aabbaaa',\n 'aabbaab',\n 'aabbab',\n 'aabbaba',\n 'aabbabb',\n 'aabbb',\n 'aabbba',\n 'aabbbaa',\n 'aabbbab',\n 'aabbbb',\n 'aabbbba',\n 'aabbbbb',\n 'ab',\n 'aba',\n 'abaa',\n 'abaaa',\n 'abaaaa',\n 'abaaaaa',\n 'abaaaab',\n 'abaaab',\n 'abaaaba',\n 'abaaabb',\n 'abaab',\n 'abaaba',\n 'abaabaa',\n 'abaabab',\n 'abaabb',\n 'abaabba',\n 'abaabbb',\n 'abab',\n 'ababa',\n 'ababaa',\n 'ababaaa',\n 'ababaab',\n 'ababab',\n 'abababa',\n 'abababb',\n 'ababb',\n 'ababba',\n 'ababbaa',\n 'ababbab',\n 'ababbb',\n 'ababbba',\n 'ababbbb',\n 'abb',\n 'abba',\n 'abbaa',\n 'abbaaa',\n 'abbaaaa',\n 'abbaaab',\n 'abbaab',\n 'abbaaba',\n 'abbaabb',\n 'abbab',\n 'abbaba',\n 'abbabaa',\n 'abbabab',\n 'abbabb',\n 'abbabba',\n 'abbabbb',\n 'abbb',\n 'abbba',\n 'abbbaa',\n 'abbbaaa',\n 'abbbaab',\n 'abbbab',\n 'abbbaba',\n 'abbbabb',\n 'abbbb',\n 'abbbba',\n 'abbbbaa',\n 'abbbbab',\n 'abbbbb',\n 'abbbbba',\n 'abbbbbb',\n 'b',\n 'ba',\n 'baa',\n 'baaa',\n 'baaaa',\n 'baaaaa',\n 'baaaaaa',\n 'baaaaab',\n 'baaaab',\n 'baaaaba',\n 'baaaabb',\n 'baaab',\n 'baaaba',\n 'baaabaa',\n 'baaabab',\n 'baaabb',\n 'baaabba',\n 'baaabbb',\n 'baab',\n 'baaba',\n 'baabaa',\n 'baabaaa',\n 'baabaab',\n 'baabab',\n 'baababa',\n 'baababb',\n 'baabb',\n 'baabba',\n 'baabbaa',\n 'baabbab',\n 'baabbb',\n 'baabbba',\n 'baabbbb',\n 'bab',\n 'baba',\n 'babaa',\n 'babaaa',\n 'babaaaa',\n 'babaaab',\n 'babaab',\n 'babaaba',\n 'babaabb',\n 'babab',\n 'bababa',\n 'bababaa',\n 'bababab',\n 'bababb',\n 'bababba',\n 'bababbb',\n 'babb',\n 'babba',\n 'babbaa',\n 'babbaaa',\n 'babbaab',\n 'babbab',\n 'babbaba',\n 'babbabb',\n 'babbb',\n 'babbba',\n 'babbbaa',\n 'babbbab',\n 'babbbb',\n 'babbbba',\n 'babbbbb',\n 'bb',\n 'bba',\n 'bbaa',\n 'bbaaa',\n 'bbaaaa',\n 'bbaaaaa',\n 'bbaaaab',\n 'bbaaab',\n 'bbaaaba',\n 'bbaaabb',\n 'bbaab',\n 'bbaaba',\n 'bbaabaa',\n 'bbaabab',\n 'bbaabb',\n 'bbaabba',\n 'bbaabbb',\n 'bbab',\n 'bbaba',\n 'bbabaa',\n 'bbabaaa',\n 'bbabaab',\n 'bbabab',\n 'bbababa',\n 'bbababb',\n 'bbabb',\n 'bbabba',\n 'bbabbaa',\n 'bbabbab',\n 'bbabbb',\n 'bbabbba',\n 'bbabbbb',\n 'bbb',\n 'bbba',\n 'bbbaa',\n 'bbbaaa',\n 'bbbaaaa',\n 'bbbaaab',\n 'bbbaab',\n 'bbbaaba',\n 'bbbaabb',\n 'bbbab',\n 'bbbaba',\n 'bbbabaa',\n 'bbbabab',\n 'bbbabb',\n 'bbbabba',\n 'bbbabbb',\n 'bbbb',\n 'bbbba',\n 'bbbbaa',\n 'bbbbaaa',\n 'bbbbaab',\n 'bbbbab',\n 'bbbbaba',\n 'bbbbabb',\n 'bbbbb',\n 'bbbbba',\n 'bbbbbaa',\n 'bbbbbab',\n 'bbbbbb',\n 'bbbbbba',\n 'bbbbbbb'}"
         },
         "metadata": {},
         "output_type": "display_data"
        }
       ]
      }
     },
     "8f9c397f6cef4654a8d4104c6987d506": {
      "model_module": "@jupyter-widgets/base",
      "model_module_version": "1.2.0",
      "model_name": "LayoutModel",
      "state": {}
     },
     "8ffb5bb34d95465eb3aa0aa4ae8d1baf": {
      "model_module": "@jupyter-widgets/base",
      "model_module_version": "1.2.0",
      "model_name": "LayoutModel",
      "state": {}
     },
     "95c3b68612034607a30020c5f2a4eb4f": {
      "model_module": "@jupyter-widgets/controls",
      "model_module_version": "1.5.0",
      "model_name": "VBoxModel",
      "state": {
       "_dom_classes": [
        "widget-interact"
       ],
       "children": [
        "IPY_MODEL_6a80642bd5444f8f9f4b305ed52745c3",
        "IPY_MODEL_56fa282550314471ab19bdc6e40edbed",
        "IPY_MODEL_d92c9e681d73490ebaea43049be90b7f"
       ],
       "layout": "IPY_MODEL_be4c23f5a2c84031aa6ee56a0771bdad"
      }
     },
     "987a14337f4a45bb9963b198067abaf7": {
      "model_module": "@jupyter-widgets/controls",
      "model_module_version": "1.5.0",
      "model_name": "DropdownModel",
      "state": {
       "_options_labels": [
        "L1",
        "L2",
        "M",
        "lphi",
        "lunit"
       ],
       "description": "L",
       "index": 0,
       "layout": "IPY_MODEL_dbe77dbdb58944d18e118edad21e5142",
       "style": "IPY_MODEL_a94512099e034340b53e6733b10f782b"
      }
     },
     "9b04b971267345098d5a704c8e2c27b6": {
      "model_module": "@jupyter-widgets/base",
      "model_module_version": "1.2.0",
      "model_name": "LayoutModel",
      "state": {}
     },
     "9bf3f03457d14bec90356d960219ad86": {
      "model_module": "@jupyter-widgets/output",
      "model_module_version": "1.0.0",
      "model_name": "OutputModel",
      "state": {
       "layout": "IPY_MODEL_eb9be646173b477b8f6c55c9b2559a53",
       "outputs": [
        {
         "data": {
          "text/plain": "{'',\n 'a',\n 'aa',\n 'aaa',\n 'aab',\n 'ab',\n 'aba',\n 'abb',\n 'b',\n 'ba',\n 'baa',\n 'bab',\n 'bb',\n 'bba',\n 'bbb'}"
         },
         "metadata": {},
         "output_type": "display_data"
        }
       ]
      }
     },
     "9cdd1ef0a3684b268198c11dab45ab24": {
      "model_module": "@jupyter-widgets/output",
      "model_module_version": "1.0.0",
      "model_name": "OutputModel",
      "state": {
       "layout": "IPY_MODEL_e3ed7d405fe14e49aa422e66e781b642",
       "outputs": [
        {
         "data": {
          "text/plain": "{'',\n 'a',\n 'aa',\n 'aaa',\n 'aabc',\n 'abc',\n 'abca',\n 'abcbc',\n 'bc',\n 'bca',\n 'bcaa',\n 'bcabc',\n 'bcbc',\n 'bcbca',\n 'bcbcbc'}"
         },
         "metadata": {},
         "output_type": "display_data"
        }
       ]
      }
     },
     "a0b9cd7ef5394ad7b7200c6bc68eb85e": {
      "model_module": "@jupyter-widgets/controls",
      "model_module_version": "1.5.0",
      "model_name": "VBoxModel",
      "state": {
       "_dom_classes": [
        "widget-interact"
       ],
       "children": [
        "IPY_MODEL_bca42bdd642946d99620e16ab8de7545",
        "IPY_MODEL_839f4aa246e243ceb6bdec55fd6e4142",
        "IPY_MODEL_9cdd1ef0a3684b268198c11dab45ab24"
       ],
       "layout": "IPY_MODEL_2de2987e865547539bdbaf2d730805d6"
      }
     },
     "a1132021964148f8907f5a9ca27041bc": {
      "model_module": "@jupyter-widgets/base",
      "model_module_version": "1.2.0",
      "model_name": "LayoutModel",
      "state": {}
     },
     "a4a66d8ba1174181ab7cd6f3dc33fff4": {
      "model_module": "@jupyter-widgets/controls",
      "model_module_version": "1.5.0",
      "model_name": "DescriptionStyleModel",
      "state": {
       "description_width": ""
      }
     },
     "a94512099e034340b53e6733b10f782b": {
      "model_module": "@jupyter-widgets/controls",
      "model_module_version": "1.5.0",
      "model_name": "DescriptionStyleModel",
      "state": {
       "description_width": ""
      }
     },
     "abd710f0978c424793369dedc0e5498f": {
      "model_module": "@jupyter-widgets/controls",
      "model_module_version": "1.5.0",
      "model_name": "SliderStyleModel",
      "state": {
       "description_width": ""
      }
     },
     "ae9a257612a946a59e45475aa709991e": {
      "model_module": "@jupyter-widgets/controls",
      "model_module_version": "1.5.0",
      "model_name": "VBoxModel",
      "state": {
       "_dom_classes": [
        "widget-interact"
       ],
       "children": [
        "IPY_MODEL_dc38f28130ab4ff48fa1cd35155c5a20",
        "IPY_MODEL_55d8d3e794cc47c99bf606729708b21e",
        "IPY_MODEL_64a870e2688b43b98b25160269e5bff3"
       ],
       "layout": "IPY_MODEL_6cca10a92a874227a2ca08cf61fc4e1e"
      }
     },
     "b661467f740c456f9d0f052531bc23f1": {
      "model_module": "@jupyter-widgets/controls",
      "model_module_version": "1.5.0",
      "model_name": "DescriptionStyleModel",
      "state": {
       "description_width": ""
      }
     },
     "b74e782be18a40389c06eff0208a67b5": {
      "model_module": "@jupyter-widgets/base",
      "model_module_version": "1.2.0",
      "model_name": "LayoutModel",
      "state": {}
     },
     "ba7babb13d454265a549c0948544beb1": {
      "model_module": "@jupyter-widgets/controls",
      "model_module_version": "1.5.0",
      "model_name": "DescriptionStyleModel",
      "state": {
       "description_width": ""
      }
     },
     "bb85e2eee59e4e63817c4fd1431d7ce7": {
      "model_module": "@jupyter-widgets/output",
      "model_module_version": "1.0.0",
      "model_name": "OutputModel",
      "state": {
       "layout": "IPY_MODEL_30a07612603e4f2b9e2d2339acb0eba5",
       "outputs": [
        {
         "data": {
          "text/plain": "{'',\n 'a',\n 'aa',\n 'aaa',\n 'aab',\n 'aac',\n 'ab',\n 'aba',\n 'abb',\n 'abc',\n 'ac',\n 'aca',\n 'acb',\n 'acc',\n 'b',\n 'ba',\n 'baa',\n 'bab',\n 'bac',\n 'bb',\n 'bba',\n 'bbb',\n 'bbc',\n 'bc',\n 'bca',\n 'bcb',\n 'bcc',\n 'c',\n 'ca',\n 'caa',\n 'cab',\n 'cac',\n 'cb',\n 'cba',\n 'cbb',\n 'cbc',\n 'cc',\n 'cca',\n 'ccb',\n 'ccc'}"
         },
         "metadata": {},
         "output_type": "display_data"
        }
       ]
      }
     },
     "bca42bdd642946d99620e16ab8de7545": {
      "model_module": "@jupyter-widgets/controls",
      "model_module_version": "1.5.0",
      "model_name": "DropdownModel",
      "state": {
       "_options_labels": [
        "L1",
        "L2",
        "M",
        "lphi",
        "lunit"
       ],
       "description": "L",
       "index": 0,
       "layout": "IPY_MODEL_8f9c397f6cef4654a8d4104c6987d506",
       "style": "IPY_MODEL_f7a56897564046778108792381afa8c5"
      }
     },
     "be4c23f5a2c84031aa6ee56a0771bdad": {
      "model_module": "@jupyter-widgets/base",
      "model_module_version": "1.2.0",
      "model_name": "LayoutModel",
      "state": {}
     },
     "c154c04786d0445bae667407c7f5d3f2": {
      "model_module": "@jupyter-widgets/controls",
      "model_module_version": "1.5.0",
      "model_name": "SliderStyleModel",
      "state": {
       "description_width": ""
      }
     },
     "c193a74e8b5740cb88a8596efccae1e3": {
      "model_module": "@jupyter-widgets/controls",
      "model_module_version": "1.5.0",
      "model_name": "SliderStyleModel",
      "state": {
       "description_width": ""
      }
     },
     "c790456cbc0f4b6c868170815a2108c4": {
      "model_module": "@jupyter-widgets/controls",
      "model_module_version": "1.5.0",
      "model_name": "VBoxModel",
      "state": {
       "_dom_classes": [
        "widget-interact"
       ],
       "children": [
        "IPY_MODEL_2b102f9c02474a84bac62db2ab386448",
        "IPY_MODEL_d9914184c09749ed88376e051161e017",
        "IPY_MODEL_d35f9c74cbf542debe40e2638dac1453"
       ],
       "layout": "IPY_MODEL_81713475f715448091112671e2817e78"
      }
     },
     "ccf7f12937b6483880ad65a4ebe61dca": {
      "model_module": "@jupyter-widgets/controls",
      "model_module_version": "1.5.0",
      "model_name": "SliderStyleModel",
      "state": {
       "description_width": ""
      }
     },
     "ceb197b39a0d4d378c0b2b859fa8de3f": {
      "model_module": "@jupyter-widgets/base",
      "model_module_version": "1.2.0",
      "model_name": "LayoutModel",
      "state": {}
     },
     "d0b39170cfca41118438eb3330911178": {
      "model_module": "@jupyter-widgets/controls",
      "model_module_version": "1.5.0",
      "model_name": "DropdownModel",
      "state": {
       "_options_labels": [
        "L3",
        "L1",
        "L2",
        "M",
        "lphi",
        "lunit"
       ],
       "description": "L",
       "index": 4,
       "layout": "IPY_MODEL_5c3f3eafd37444c98e021870f1d6b633",
       "style": "IPY_MODEL_b661467f740c456f9d0f052531bc23f1"
      }
     },
     "d0c6e471a03c4f728f8ed4377b711834": {
      "model_module": "@jupyter-widgets/controls",
      "model_module_version": "1.5.0",
      "model_name": "DescriptionStyleModel",
      "state": {
       "description_width": ""
      }
     },
     "d1283b77177f4c88a8f8212eca3bda94": {
      "model_module": "@jupyter-widgets/controls",
      "model_module_version": "1.5.0",
      "model_name": "VBoxModel",
      "state": {
       "_dom_classes": [
        "widget-interact"
       ],
       "children": [
        "IPY_MODEL_987a14337f4a45bb9963b198067abaf7",
        "IPY_MODEL_1b9f1b18a22148859e82cb2aa8386a67",
        "IPY_MODEL_db4a57ebe40a48fea0dfaf8caf63789f"
       ],
       "layout": "IPY_MODEL_1cea52661c8844c5a43a57dbdb79a512"
      }
     },
     "d35f9c74cbf542debe40e2638dac1453": {
      "model_module": "@jupyter-widgets/output",
      "model_module_version": "1.0.0",
      "model_name": "OutputModel",
      "state": {
       "layout": "IPY_MODEL_7bf4217441d44c39a4e9a1b113ceac2f",
       "outputs": [
        {
         "data": {
          "text/plain": "{'',\n 'a',\n 'aa',\n 'aaa',\n 'aab',\n 'aac',\n 'ab',\n 'aba',\n 'abb',\n 'abc',\n 'ac',\n 'aca',\n 'acb',\n 'acc',\n 'b',\n 'ba',\n 'baa',\n 'bab',\n 'bac',\n 'bb',\n 'bba',\n 'bbb',\n 'bbc',\n 'bc',\n 'bca',\n 'bcb',\n 'bcc',\n 'c',\n 'ca',\n 'caa',\n 'cab',\n 'cac',\n 'cb',\n 'cba',\n 'cbb',\n 'cbc',\n 'cc',\n 'cca',\n 'ccb',\n 'ccc'}"
         },
         "metadata": {},
         "output_type": "display_data"
        }
       ]
      }
     },
     "d5c27aa1cb5941cea268a6453d5bf25b": {
      "model_module": "@jupyter-widgets/controls",
      "model_module_version": "1.5.0",
      "model_name": "IntSliderModel",
      "state": {
       "description": "n",
       "layout": "IPY_MODEL_0b9d87c3a7b646d3a27a72deec0bf147",
       "max": 7,
       "style": "IPY_MODEL_0decfe9ea6234745b0e78f4c8dee6fe3",
       "value": 3
      }
     },
     "d7bda9eb1ffc43539b71b46384a389fe": {
      "model_module": "@jupyter-widgets/base",
      "model_module_version": "1.2.0",
      "model_name": "LayoutModel",
      "state": {}
     },
     "d92c9e681d73490ebaea43049be90b7f": {
      "model_module": "@jupyter-widgets/output",
      "model_module_version": "1.0.0",
      "model_name": "OutputModel",
      "state": {
       "layout": "IPY_MODEL_07fd202ad6134ab3a94801b7cdb71007",
       "outputs": [
        {
         "data": {
          "text/plain": "{'011011101111111110011111',\n '11111111111011100111',\n '',\n '011100111001110011110011111',\n '01111011101100111111',\n '011001111110011111111',\n '00111011111001110011111',\n '00111110110011111011',\n '0111111100111111011',\n '110111110111001110111111',\n '01101110011111001111111',\n '01110011111101110011101100111',\n '011111101111100111100111',\n '1111101100111111011100111',\n '0110111011011111111100111',\n '00111110110111011101111',\n '0011110011111011100111',\n '011100111011011100111011',\n '11111011001110111011',\n '011011100111111110111',\n '011001111110110110110111',\n '1111111100111110011100111',\n '11100111001111111100111',\n '0110111001111111110111',\n '011011111011110110111',\n '0111111001111011100111011',\n '011011101110011110111011',\n '111011101110011100111111',\n '101111111011101111',\n '0011110011100111011111',\n '011110110011110110111',\n '1111001111111001110111',\n '011100111011101100111011111',\n '0011111101111101101111',\n '11011101100111011001111',\n '001110111101110110111111',\n '0111101111111001111',\n '1001111101111111011',\n '10111011011011100111',\n '1110011111',\n '001111001110011101100111',\n '0111110111111011',\n '1111011001111111110111',\n '011011111011011001110111',\n '1111110011111111001111',\n '0110011111101101110111111',\n '1101101100111011011',\n '0011110111011100111100111',\n '011101111101110111111011',\n '11111101110110011100111011',\n '101111111101100111011',\n '1111011101110011100111011',\n '00111011101110111100111',\n '0111111011001110111111111',\n '1111011100111111011100111',\n '1011111110011111',\n '01101110111011100111111011',\n '11111100111110111011111',\n '01110110110011111101100111',\n '01101101111110110111',\n '011101111001110011100111',\n '01101111011111011011',\n '111011111011111100111111',\n '001110011111101101110110111',\n '0011101101110011101101111',\n '0011111110011111100111011',\n '01110011110111111011011',\n '110111001110110011101100111',\n '111001110111001110111011',\n '11001110111110111011111',\n '1110111111111111011',\n '0111011101111001111',\n '001111110111111011101111',\n '011101111110011100111001111',\n '11101111111110111',\n '0011101111110111101111',\n '1110011100111100111100111',\n '001110011111001111111100111',\n '01111110111111100111011',\n '1100111011011100111111',\n '111111111110011111100111',\n '1111110111001111',\n '011101101101110011101100111',\n '011101110011101101110111111',\n '001110111001110011111110111',\n '011101100111111001110011100111',\n '110111001110011111110111',\n '001110011101110011101110111011',\n '00111011101110111111011100111',\n '011011100111101111',\n '01100111011111011001110111',\n '1110111110011101110011111',\n '111100111011011100111011',\n '111111001111011100111111',\n '011100111011110011111111',\n '1110011100111011011011011',\n '111111011101110011101110111',\n '0110110111011011101111',\n '110011100111011011101100111',\n '011110011101111111011',\n '11100111001110111001111',\n '1111011011001110011100111',\n '111111111111111',\n '111110111100111001110111',\n '011111001110110011111011',\n '001110111111110011111100111',\n '0111001110011101110110011100111',\n '01110111011011011100111011',\n '0011101100111011101110111111',\n '0110011111011110111111',\n '0111011011110011111111',\n '0011111001110111111100111',\n '00111111011100111100111111',\n '01110111001110111111011',\n '011101101111101110111111',\n '11110011101110111001111',\n '011100111111001111001111',\n '01111110011101111110111',\n '111111011011101100111011',\n '111011101111100111001111',\n '001111011100111011011111',\n '1011111011101101111',\n '100111110110111011',\n '00111110110011101110111111',\n '001111011100111011101100111',\n '011100111111011111111011',\n '11110110110011101110111',\n '00111110110011100111',\n '011001111001111110110111',\n '0110110111011101111110111',\n '01101110111001111110011111',\n '01110011100111111111111011',\n '11011111001111111',\n '011100111001111100111011',\n '0011101110111110110110111',\n '1001111011011011',\n '001110111011100111110011100111',\n '1101100111011100111111011',\n '011101110011111101101111',\n '01101111011001110111',\n '101100111001110111100111',\n '01101111001111111100111',\n '0011111100111110111001111',\n '011001110011101110111111',\n '11001110011110011111',\n '01110011110011101111',\n '0111011011111',\n '10011101110110011101111',\n '1011001110011111111111',\n '00111101100111100111011',\n '011110011101101100111011',\n '101110110011110110111',\n '1101110111011100111110111',\n '111110011100111011',\n '001111110111001110111001110111',\n '011100111011111011111111',\n '1110110011100111101111',\n '11111101101111001110111',\n '1111110011111011111',\n '01111110011101110011101100111',\n '11111101100111011011',\n '011011011110011111011',\n '01111001111100111111',\n '0011101111100111011001111',\n '10110111111001111111',\n '1110110011101111001110111',\n '01111111101111110111111',\n '011111101111110111011011',\n '110011101100111100111111',\n '1110111110011101111',\n '0111111111011111111011',\n '01101110111001111100111011',\n '011101110110011100111001111',\n '001110110111001111011',\n '1110111111111100111111',\n '1011110111001111011',\n '1011011100111111100111',\n '10110011101110111011100111',\n '011011111110110111',\n '111111110111011011100111',\n '011111011001111110111',\n '1110110111001111111111',\n '001110011100111111101100111',\n '01111111101111100111011',\n '0111011101101110011111011',\n '11011100111001110011111011',\n '0110011101110110111011100111',\n '011011100111',\n '001111110111011101110111011',\n '00111011111101111011111',\n '00111101111110111111',\n '01110110111001110011100111011',\n '01111011011101111100111',\n '0111001111100111001110111111',\n '011111001110111111100111',\n '1111101101111110110111',\n '0011101110111011100111001110111',\n '100111001111111011100111',\n '01111011011101101110111',\n '01101101110011101110111011',\n '011011101101110111',\n '001110110110111011101111',\n '111011011111011101110111',\n '01111110110110110111',\n '01111011001110011101100111',\n '0111011110110111011111',\n '1111001110110111001110111',\n '0011100111011101110111111',\n '001111101111100111110111',\n '1110111101110111011111',\n '00111101101101101110111',\n '0111110111111011001110111',\n '0011110011111001111',\n '0111011111100111111001111',\n '0111111001111011011011',\n '11110111001111110110111',\n '00111111111011111001110111',\n '10110110111110011100111',\n '1110111111011111111111',\n '01111011101111110111111',\n '10111001111111011011',\n '00111001110110110111111',\n '1110011111100111011101111',\n '1011101111011',\n '00111111011001110110111111',\n '111111011001111100111011',\n '11011101110111011100111011',\n '001111100111111001111100111',\n '101101111101100111',\n '011011001110110111011100111',\n '1111110011101110011111011',\n '111111111101100111',\n '011111001111110011100111011',\n '10111011101101101111',\n '01101111100111110111011',\n '00111011001110111011100111111',\n '0011110111011111011100111',\n '1111101101101111011',\n '11111111011011100111',\n '0110110011101111101100111',\n '0111101110111111111111',\n '110110011101111100111',\n '0111011111100111011011111',\n '11100111001110011100111001111',\n '11011110011100111011100111',\n '1111110011101101100111111',\n '01100111001110111011011011',\n '1110011110111111100111',\n '110111111111001111111',\n '0111011111100111001110011111',\n '1111011011',\n '1001111111110111111111',\n '101111001111100111111',\n '00111100111011101111111',\n '011100111011100111111001111',\n '111011111101111100111111',\n '0011101100111011101111110111',\n '001110111011101101111100111',\n '0111101111011101110111',\n '011101101101101110111',\n '11011111011011100111',\n '1001111110011101111111',\n '011101111111110111001111',\n '1101100111011011111111',\n '001111111001110011101100111',\n '001110110110011111111100111',\n '0110011100111111001111011',\n '0011110011100111011011',\n '0011111111100111110111011',\n '11101100111111100111',\n '1101111011101110111111',\n '11101100111110111011011',\n '11111111011011111',\n '111111001111101101111',\n '1111110111011111111100111',\n '0011101110111011101100111111',\n '001111110011110110011111',\n '1110111111111101110111',\n '10111100111100111111',\n '11011101110111011',\n '01101111101110110011111',\n '1011111001110110111',\n '10110011100111011011',\n '01110011101110011110111011',\n '1101100111011100111',\n '1111011101110011100111111',\n '11111101110011101101111',\n '01101110111110111001110111',\n '1101110011101110011101100111',\n '10011100111111111110111',\n '01101101110111100111',\n '100111011001111110110111',\n '001110110011101111111111',\n '1101111001111011111',\n '11001110110111111111',\n '01101111101111111011',\n '100111011011100111',\n '1110111111111',\n '1111110011101101100111',\n '0011110111011001111110111',\n '1111011001110110011100111',\n '110111001111101111110111',\n '011100111111001111101100111',\n '00111111111011101101110111',\n '001111011011111110111',\n '0011101110110011101100111011',\n '0011100111001110111111110111',\n '1101111110111001110011111',\n '1101101101110011111011',\n '011101101100111011100111',\n '100111110111111011100111',\n '11100111011001110011101111',\n '11100111111011101111100111',\n '1110111111001110110111',\n '11001110011101111111100111',\n '1110111011100111001110110111',\n '011011111111111',\n '00111011011011110111111',\n '110111001111101110011111',\n '110011111100111011011111',\n '0111011100111001110011111',\n '011100111001110111011011111',\n '11111100111011001110111111',\n '10111110011100111',\n '0110110111001110110011100111',\n '11001111110011101111011',\n '11001110011101110111001111',\n '100111111001111111011',\n '11011101101111011',\n '0111001110011110011100111',\n '1001110110011101100111',\n '0011101110111011111111',\n '01110011111101111110011100111',\n '011111001111111011111',\n '011100111111110110111',\n '111011100111011101110011100111',\n '01100111001110111101110111',\n '11101111110111111001111',\n '0111111001110110111111011',\n '1111011001110111011',\n '00111110011101101100111011',\n '011011011001110111011111',\n '001111001111011111011',\n '0111110111011101110110111',\n '110111011111101110111',\n '001111001111110111100111',\n '1101111110110111110111',\n '111001110011100111111111011',\n '11011111100111011101110111',\n '1011111111011111',\n '0011100111001111001110111111',\n '011111011101110111011111',\n '11111001110111111111',\n '01101101111110011101111',\n '101111100111100111111',\n '011011100111111111100111',\n '0011101111101100111111',\n '1011011101110111001110111',\n '11111101111001110011100111',\n '001110110011111111100111111',\n '110011111101101111110111',\n '011101101111011001110111',\n '0110011100111111111',\n '011001110011111111111',\n '1011100111111111111111',\n '01110111011110110110111',\n '11011001110110111110111',\n '001111110111011111111111',\n '1101111100111101110111',\n '1110011100111011101110111111',\n '1011101111111110111111',\n '011101110011101110110011111',\n '0111001110111011100111011',\n '01110011101110111111111',\n '11110111111011101110111',\n '11011110111100111111',\n '11101110011101110111111011',\n '01111101111101110111011',\n '011011101111110111111011',\n '1101110011111100111001111',\n '111001111011100111',\n '011100111011100111011110111',\n '00111011011101110111011100111',\n '00111011101101110111110111',\n '00111101100111011100111011',\n '1001111110011100111011111',\n '01101101110111100111011',\n '00111111110011101110111111',\n '011101111101110111011111',\n '01110111110110110011111',\n '00111001111110011101101110111',\n '01101110111110011101111',\n '11111111111100111111',\n '00111111100111111111011',\n '101101101111110011111',\n '0110011111101101110111011',\n '001110011110110011100111',\n '0011110111111101110111',\n '11111011100111101110111',\n '001110111101111110011100111',\n '1111110110111111011111',\n '001110110111101110011100111',\n '111111111111011111',\n '0111110111110011111011',\n '11001110111001110111001111',\n '0011110011111001111011',\n '101100111011001111111',\n '01110110111111001111100111',\n '11100111001110011101110011100111',\n '01101110110110011111',\n '01110111001110111100111111',\n '1110011100111001111101100111',\n '101101110111011101111',\n '0111001111110011101101110111',\n '10111011101110011100111111',\n '0110011100111001110110111',\n '1110111111001111110011111',\n '001111011111101100111011',\n '00111111001110011110110111',\n '0011111001111100111001110111',\n '111101110111110111',\n '0110110111111011011011',\n '011100111001110111101110111',\n '01111100111011',\n '011101111110111001110011100111',\n '00111001110011111101111',\n '10011111011101111111',\n '11101110011111',\n '100111100111101111',\n '11100111001111110111001111',\n '01111111110011110111011',\n '10011101110011100111001111',\n '0111001111110011111011',\n '0011111001111110011111111',\n '110111011111110111',\n '00111001111011101100111',\n '011101111110110011101100111',\n '0110110011101111100111011',\n '11001110011100111001111111',\n '11110111110110111111',\n '1111110011100111110110111',\n '1101110011111111011011',\n '00111111111001110011100111011',\n '01101111111011',\n '0011100111001110111001110111011',\n '001110011100111001110111111111',\n '0111011111110110011111',\n '0111001110011101100111011100111',\n '001111101111111111100111',\n '001110011101101111111110111',\n '01110011100111001111',\n '111011101100111011100111111',\n '111111011101111110111111',\n '111111001110111111011011',\n '1110111011101100111110111',\n '001110111001110011100111100111',\n '011100111111011100111111111',\n '1110110111001111110110111',\n '011101110110111110110111',\n '11110111001111110111',\n '11100111011111011111',\n '01101100111011101110111',\n '001110011100111011011001110111',\n '011111111111101110111011',\n '110011101111111011111',\n '01101110110011101101100111',\n '111110110011100111011100111',\n '00111111011111001110111011',\n '001111101110011101100111111',\n '0111001110110011111111011',\n '11110111011100111001111',\n '01111110110111100111',\n '101110111111001110011111',\n '101101111011011011',\n '0011100111011011100111111',\n '1110110111011011111011',\n '00111001110011101111101100111',\n '111011110111100111',\n '00111011011101110111110111',\n '011001110011100111011',\n '01111110111001111100111',\n '101110111011011001110111',\n '0110111001111110011111111',\n '00111001110011111011011011',\n '10110110111101100111',\n '011001111110111011110111',\n '1111111110111101110111',\n '11011011011101110111011',\n '101101111110110110111',\n '00111001111111001110111',\n '001111011011101110110111',\n '01110110111001110110011100111',\n '011011011111001110110111',\n '101111011011111111',\n '00111001110110111001111011',\n '110111111001110111001110111',\n '0111111011111100111011111',\n '01110011110011110011100111',\n '11111100111110111',\n '00111001111001111110111111',\n '1111100111110111110111',\n '011111100111111011100111111',\n '1101101111100111011011',\n '0110011100111011111011100111',\n '11100111001111100111001110111',\n '110110111001110011111100111',\n '001110011111011011101110111',\n '011111110111110011100111',\n '11011011101101101111',\n '01110110110111001110111011',\n '00111001110110111111001110111',\n '0011111111110110111111',\n '110011111111101101100111',\n '1100111111011111100111111',\n '011001110011110111110111',\n '11101101100111011111',\n '01110111001110011101100111',\n '011011101101110110111011',\n '11101110111011110111111',\n '0011101101110111110111111',\n '1011100111111011100111011',\n '01100111111001110011100111',\n '111001110011110011101100111',\n '001111101100111011111011',\n '1110110111011011001111',\n '1101100111001111100111111',\n '011101101110011101111011',\n '1101110111110011111',\n '001110111011101100111001110111',\n '11100111011001110111011100111',\n '011101110110111111011011',\n '01111001111111111011',\n '10011101101100111011100111',\n '10011111100111011111111',\n '101111110011111111011',\n '0110011100111111110110111',\n '1100111001111001110011100111',\n '11111101111111101111',\n '0011100111001111011',\n '1110011101110011100111011',\n '0111110110111001111011',\n '0011101101100111011111',\n '00111111011101111011011',\n '0011111101100111011111111',\n '0111011001111110111001110111',\n '001110011101111110011111',\n '00111011111011111011111',\n '11001110110111110011111',\n '1101110111110111001110111',\n '0110011111110111011111',\n '001110111111110111110111',\n '011101101111110011101110111',\n '100111011001111101110111',\n '0011111101110011101110111',\n '011110111111011110111',\n '001111011011100111001111',\n '1011100111111111011011',\n '01111100111001111100111111',\n '00111110011111011100111111',\n '0111111101110011111011',\n '1101111011111111100111',\n '11110011111011001111',\n '00111011011111100111110111',\n '00111111001110111110111',\n '00111001111110011111111100111',\n '110111100111111011',\n '011001111011001110011100111',\n '011101101111110110111111',\n '11110011110111011111',\n '0110110011111001111011',\n '1110111011011101111011',\n '0111011011101101111011',\n '1011001110011101110111111',\n '10111011111101110111011',\n '111111111110111001110111',\n '01110011101110111011',\n '0011101111101111100111011',\n '001111011101110011101111',\n '0111001111111110110011100111',\n '001111100111011111011100111',\n '0011111011111011101110111',\n '10110111110111011111',\n '0111101111100111011111',\n '1111100111001110011111111',\n '00111011100111110111100111',\n '11011001111111100111011',\n '01110110111100111100111',\n '1110111001110011110111011',\n '110111001111011100111111',\n '011001111101101111011',\n '00111111111001110011101100111',\n '111011101111100111011111',\n '100111011011111101100111',\n '0110111100111011100111',\n '0110011110011101110111111',\n '01101110011101110011100111011',\n '11111011001111111100111',\n '01111110111011011001111',\n '100111011111101101100111',\n '1001110110111001110011100111',\n '11111111100111110110111',\n '0111011101101110110111111',\n '111011111111110111',\n '1011100111110110011111',\n '11101111101110111001111',\n '011111101100111110110111',\n '0111011111001110011111100111',\n '10011101110011100111111111',\n '1001111011001111100111',\n '00111101111101111',\n '0111111001110111110110111',\n '0111001110111110110110111',\n '101110011111111',\n '011001110011111100111001111',\n '011111011100111011100111111',\n '011101110011111001111111',\n '1001111111111100111011',\n '0111111110110111011',\n '01101110110110111011',\n '0011101101110111001111110111',\n '11110111001111110111111',\n '0111011110110110111',\n '011101110011111011011111',\n '11001110011100111111001110111',\n '100111110110110011100111',\n '001110011111101100111011011',\n '011110011100111001111111',\n '1110111111111001110011111',\n '011011100111001110011101110111',\n '00111011011011111011',\n '11101110110111001111011',\n '111111111011110111111',\n '00111011001111100111111011',\n '0011101111110110111111111',\n '01111111001111011011',\n '11100111001110110111011',\n '011001111110110011100111',\n '001110111111111101110111',\n '0110111100111011011011',\n '0111011110011101111',\n '0011100111001111100111001110111',\n '011011110011111100111',\n '1110011110110111011',\n '00111101111111110111111',\n '01111111011001111111',\n '1101111110011100111111111',\n '11101111110111111011',\n '10011101111011011100111',\n '01110011101110110011111',\n '111011100111001111111111',\n '1101110111111011011011',\n '11101111110110111011111',\n '111111111110011101110111',\n '111001111111111111110111',\n '0111111001110011111001110111',\n '01110011100111111101110111',\n '00111011100111011111001111',\n '00111001110111001110111110111',\n '101110011111110111111',\n '001110111111011101110110111',\n '11110110110111110111',\n '1110110011111111101100111',\n '11011001111110011110111',\n '11111111011011011011',\n '01110011111100111011011011',\n '01111101101110011101111',\n '0011100111001111111111110111',\n '0111011110110110011100111',\n '00111001110111101100111111',\n '00111110111011001111',\n '11101111101101101100111',\n '100111111011101111100111',\n '1100111001111111101110111',\n '01111110111011111011011',\n '0111110111100111',\n '00111011111',\n '10011100111110011101100111',\n '01101101100111110011100111',\n '01100111001110110111011011',\n '01101110111111011011',\n '00111011001111001110111111',\n '001111011111',\n '10111001111111100111',\n '1011011011101110110111',\n '001111011101101111110111',\n '01110111111001111100111011',\n '011100111011101110111011111',\n '0011101110011100111110011100111',\n '01111100111001110111110111',\n '0011111011101101111011',\n '0110011101101100111110111',\n '10110111011011111011',\n '01110111111001110110111111',\n '0111110011110111011',\n '0011100111001110110111001111',\n '011111100111011011011111',\n '1101111001111100111011',\n '11111001111111110011111',\n '011011111110011111',\n '011101110110110111110111',\n '01111001110111111110111',\n '011111001111110110111',\n '0111001111001111110011111',\n '01110111111100111011100111',\n '01101111011101100111',\n '101101111111111100111',\n '011100111111011111111111',\n '1111111110011111001110111',\n '1101111110111111011111',\n '110110110111101111',\n '1111011011001111110111',\n '10011111100111011011011',\n '11001110110011111111111',\n '01101111110110011111100111',\n '0111011100111011101100111',\n '11111111101111111111',\n '0111011011101111100111111',\n '00111011101110011111',\n '0011101111011101100111111',\n '00111001111110111001111100111',\n '111110110011111111',\n '01100111011111111011100111',\n '01110111001111011101111',\n '01111111111101110111',\n '011001111101110110011111',\n '1101101110111111011111',\n '011001111110111110011100111',\n '001111111110011110011100111',\n '11011101101111',\n '0011110011110011111',\n '00111100111111001110011111',\n '11001110011100111',\n '11111111110011101100111',\n '0011100111111011001110011100111',\n '0110110111011011101100111',\n '011011111111101100111111',\n '111111011111011111011',\n '01101111011100111011111',\n '001111100111001111001110111',\n '001110110110110110111011',\n '0111011001110110110011111',\n '01111111110011101111110111',\n '01100111111110011111111',\n '0111110111011001110111111',\n '011100111111111001110111111',\n '01101111001111110111011',\n '0110111110011111011',\n '011011011111101100111',\n '1100111101101110111011',\n '00111011101100111011',\n '0011111001111110110011100111',\n '1011011101111011100111',\n '11101101101111101110111',\n '00111111011100111011111011',\n '100111101111110011111',\n '0111011111101111111100111',\n '01110111011100111001110111111',\n '10011100111100111011',\n '011101101101100111100111',\n '111111001110011101100111111',\n '01101101111101110111',\n '0011110111110111100111',\n '001110111111100111111111',\n '0111101110111011011111',\n '001111111011011100111111',\n '00111111001111110111001110111',\n '111011111011011111011',\n '011011101100111001110111011',\n '00111110011110011100111',\n '00111111001111001111100111',\n '1111101110111111001110111',\n '101101110011101110111011',\n '0011101111110011111101110111',\n '01110011111111100111111',\n '011001111011011111011',\n '011001110111011011111',\n '1001110111001111111110111',\n '011100111011001111101110111',\n '110011111100111111100111',\n '0011111011101111001110111',\n '011011011111101110011111',\n '1101111001111001110111',\n '011110011111',\n '111011101100111111100111',\n '0111110111011100111111',\n '0110011110110111111011',\n '01110011111100111011',\n '11111101111011101110111',\n '110111001111101110111',\n '1110110111101101100111',\n '00111001111001111101100111',\n '1110111001111111011111',\n '0011100111101100111011011',\n '00111101100111011111111',\n '001110110110111110111111',\n '1101100111001111011100111',\n '001110111011001110111111011',\n '001110110111110011101100111',\n '001110110110111011111100111',\n '1101111101100111',\n '001110011101111110011101110111',\n '1001111111101110111',\n '0111011111011100111111',\n '1101101101111111100111',\n '0111101110110110011111',\n '1001110011111110111011',\n '11101101101110111011011',\n '011001111101110011111011',\n '110011111111011111100111',\n '11011101110111110011111',\n '011011100111110111001111',\n '0111100111011111110111',\n '001110011101101110011100111',\n '11111011011001111111',\n '00111011101111101111',\n '11111100111011100111011100111',\n '01110111011101111100111',\n '1110111111011001111011',\n '10110011110111011011',\n '001111100111111011011',\n '0111001111011110111111',\n '11101100111101101111',\n '11111100111001110111011100111',\n '101100111001111011111',\n '011111011111100111111111',\n '110111111011011101100111',\n '11101111110111001111110111',\n '1011100111101110111011',\n '01111111111011110111',\n '111011111001110111111111',\n '001110111111011101111111',\n '111011001110011101111011',\n '110111111011011001110111',\n '0111101110111011111111',\n '110110111011110011100111',\n '1110111110111101100111',\n '0110111011110111',\n '0110011100111011111111011',\n '0110110110011110011100111',\n '0111011111011011011100111',\n '11101111111001110111011',\n '0011101111101101110110111',\n '011100111110110111',\n '111011011011100111111111',\n '011100111111111111111',\n '011111101101100111001110111',\n '001111101111110111011',\n '111100111111001111011',\n '001110111011100111011011011',\n '110011100111001111',\n '111100111001110111011111',\n '011101111111100111011',\n '01110011110111111111011',\n '001110011101101100111111011',\n '111111011101110110111011',\n '1100111011011001111111',\n '111011011100111100111011',\n '001111110011111011110111',\n '011111111101110111011',\n '1110110111111111011011',\n '001111110111001111101111',\n '11100111001111001110111',\n '011101111110011111101100111',\n '001111011111001111011',\n '101110011100111011111',\n '1101110111001111100111',\n '0011101110011111100111111011',\n '1110111111001110111100111',\n '1001110110011100111111',\n '01111011011111111',\n '0110110011101110011111111',\n '011100111101111110111011',\n '01101110011111111111100111',\n '00111101101100111011111',\n '00111001111001110111001111',\n '00111111011001111110111011',\n '1101110011100111100111111',\n '001110110011111001110011100111',\n '110111011011011011111',\n '110011100111111011011111',\n '110111101100111',\n '01111001110011100111111111',\n '1101111100111100111011',\n '001110111011111',\n '111110111111110011111',\n '111110111001110111001111',\n '01111101101111111',\n '1111101110110011101110111',\n '1110110110111011110111',\n '1011101110110011111',\n '111001110110111111011011',\n '00111111001111101110110111',\n '110111001110111001110111',\n '01101111011011011111',\n '1100111111011011001110111',\n '11111100111011001110011100111',\n '0011101111110011101111111',\n '10111011111111111111',\n '011011011101111111',\n '01100111110111011',\n '00111011001110011100111011111',\n '110111011001111001110111',\n '011101101111101110110111',\n '101110011101101111011',\n '00111011001111111',\n '0111001111110111100111011',\n '01101110111011001110011111',\n '11111011011100111111111',\n '1110111011111011',\n '11111100111111110111011',\n '1101101111100111011100111',\n '011100111011101100111011100111',\n '011101101101111101111',\n '01110011111011101110110111',\n '00111011001111100111011100111',\n '011011001110011111111',\n '001111110111011001111100111',\n '111001110111101100111011',\n '01110011100111111111011011',\n '1001110111001111110110111',\n '01111111101111110011100111',\n '0110011110111111111',\n '01111011011100111111',\n '101111001110111011111',\n '0111011011101110111001110111',\n '0110011111011101110111',\n '011001111101101111100111',\n '0111011110111011100111',\n '1110011101101111101100111',\n '011011001111110111110111',\n '00111111111011011111011',\n '1011111111100111111',\n '011110110111011101111',\n '00111011100111001110011111111',\n '011001111100111111011100111',\n '0110111011011011101100111',\n '111100111110110011111',\n '00111011001110111110111',\n '101110111011011100111',\n '0011111100111101111',\n '011100111011111101110011100111',\n '1111001111001110011100111',\n '00111011001111',\n '110011101111100111011011',\n '111110111110111111011',\n '10011100111111011101110111',\n '1011100111011111011100111',\n '100111011101111001111',\n '1111111011011100111',\n '0011111100111111011011111',\n '00111111001110011100111011011',\n '10110011101110110110111',\n '011100111011111',\n '11101111101111110011111',\n '11011111100111001110011111',\n '111111011011011111011',\n '11011111011011001111',\n '111110110110111001111',\n '0011111111111001111011',\n '011011011001111111111',\n '00111011110110111001110111',\n '1101101110111011100111111',\n '110110110110011100111',\n '100111101110110011111',\n '11100111011111100111',\n '011110011100111011101110111',\n '0011101110110011100111111',\n '10110111101110111111',\n '0110011100111011101110011111',\n '001111110011111011011',\n '1100111011001110111100111',\n '00111111110011100111110111',\n '00111100111110011100111',\n '011101101110011111101111',\n '01110110110111001111',\n '1101110111011101111111',\n '1011111111110110111',\n '1001110011101111111111',\n '111011111101110111001110111',\n '0110110011101101110111',\n '01110111111011101110111111',\n '01100111001111011100111111',\n '11011001111101110111011',\n '1111111111011111011',\n '0111111011001110111110111',\n '0111111011100111011101100111',\n '1111110011111011001111',\n '0011110011101111111110111',\n '0110011111011001110110111',\n '110111110110011111111',\n '1111001110111011001110111',\n '011100111110110111011011',\n '001111001110011111001110111',\n '001111111110111101110111',\n '0011101101110011110111111',\n '011110011111111111111',\n '0011100111111110111001111',\n '011001111110011100111100111',\n '1110011101110111001110111111',\n '001110111011001110011101111',\n ...}"
         },
         "metadata": {},
         "output_type": "display_data"
        }
       ]
      }
     },
     "d9914184c09749ed88376e051161e017": {
      "model_module": "@jupyter-widgets/controls",
      "model_module_version": "1.5.0",
      "model_name": "IntSliderModel",
      "state": {
       "description": "n",
       "layout": "IPY_MODEL_618a711bdeac48df8be354897781ff7c",
       "max": 7,
       "style": "IPY_MODEL_de494424684c4cb1ae5be6077bfc4d4c",
       "value": 3
      }
     },
     "db4a57ebe40a48fea0dfaf8caf63789f": {
      "model_module": "@jupyter-widgets/output",
      "model_module_version": "1.0.0",
      "model_name": "OutputModel",
      "state": {
       "layout": "IPY_MODEL_7891a35a763b400fb593297d0ace1405",
       "outputs": [
        {
         "data": {
          "text/plain": "{'',\n 'a',\n 'aa',\n 'aaa',\n 'aabc',\n 'abc',\n 'abca',\n 'abcbc',\n 'bc',\n 'bca',\n 'bcaa',\n 'bcabc',\n 'bcbc',\n 'bcbca',\n 'bcbcbc'}"
         },
         "metadata": {},
         "output_type": "display_data"
        }
       ]
      }
     },
     "dbe77dbdb58944d18e118edad21e5142": {
      "model_module": "@jupyter-widgets/base",
      "model_module_version": "1.2.0",
      "model_name": "LayoutModel",
      "state": {}
     },
     "dc1d6742e848428a8d50c3e32a863060": {
      "model_module": "@jupyter-widgets/output",
      "model_module_version": "1.0.0",
      "model_name": "OutputModel",
      "state": {
       "layout": "IPY_MODEL_e9a1353aaa084446812de46df92f01b0",
       "outputs": [
        {
         "data": {
          "text/plain": "{'',\n 'a',\n 'aa',\n 'aaa',\n 'aab',\n 'ab',\n 'aba',\n 'abb',\n 'b',\n 'ba',\n 'baa',\n 'bab',\n 'bb',\n 'bba',\n 'bbb'}"
         },
         "metadata": {},
         "output_type": "display_data"
        }
       ]
      }
     },
     "dc38f28130ab4ff48fa1cd35155c5a20": {
      "model_module": "@jupyter-widgets/controls",
      "model_module_version": "1.5.0",
      "model_name": "DropdownModel",
      "state": {
       "_options_labels": [
        "Alph1",
        "Alph2"
       ],
       "description": "L",
       "index": 0,
       "layout": "IPY_MODEL_b74e782be18a40389c06eff0208a67b5",
       "style": "IPY_MODEL_5e35ee50df4645ecbcfe29dc67c7801b"
      }
     },
     "dce6db495fbd4437ad1de04069b67e42": {
      "model_module": "@jupyter-widgets/controls",
      "model_module_version": "1.5.0",
      "model_name": "SliderStyleModel",
      "state": {
       "description_width": ""
      }
     },
     "de373c93a234453a8fbe4eb7f0ce188b": {
      "model_module": "@jupyter-widgets/base",
      "model_module_version": "1.2.0",
      "model_name": "LayoutModel",
      "state": {}
     },
     "de494424684c4cb1ae5be6077bfc4d4c": {
      "model_module": "@jupyter-widgets/controls",
      "model_module_version": "1.5.0",
      "model_name": "SliderStyleModel",
      "state": {
       "description_width": ""
      }
     },
     "e3ed7d405fe14e49aa422e66e781b642": {
      "model_module": "@jupyter-widgets/base",
      "model_module_version": "1.2.0",
      "model_name": "LayoutModel",
      "state": {}
     },
     "e52f086a40ac4646928a10e5eaf6ab16": {
      "model_module": "@jupyter-widgets/controls",
      "model_module_version": "1.5.0",
      "model_name": "DescriptionStyleModel",
      "state": {
       "description_width": ""
      }
     },
     "e9a1353aaa084446812de46df92f01b0": {
      "model_module": "@jupyter-widgets/base",
      "model_module_version": "1.2.0",
      "model_name": "LayoutModel",
      "state": {}
     },
     "e9e6e1e4a5374a49ae383595f8e2e0e2": {
      "model_module": "@jupyter-widgets/base",
      "model_module_version": "1.2.0",
      "model_name": "LayoutModel",
      "state": {}
     },
     "eb9be646173b477b8f6c55c9b2559a53": {
      "model_module": "@jupyter-widgets/base",
      "model_module_version": "1.2.0",
      "model_name": "LayoutModel",
      "state": {}
     },
     "ec23f33a95ec44d8979610c4a6f64af8": {
      "model_module": "@jupyter-widgets/base",
      "model_module_version": "1.2.0",
      "model_name": "LayoutModel",
      "state": {}
     },
     "ee66f388bfb54433afd37485a2e77d8d": {
      "model_module": "@jupyter-widgets/output",
      "model_module_version": "1.0.0",
      "model_name": "OutputModel",
      "state": {
       "layout": "IPY_MODEL_6b5d3910460046ce9138c371d5a19adc",
       "outputs": [
        {
         "data": {
          "text/plain": "{''}"
         },
         "metadata": {},
         "output_type": "display_data"
        }
       ]
      }
     },
     "ee6cea2b5574426abacdd6ee19cb4cbe": {
      "model_module": "@jupyter-widgets/base",
      "model_module_version": "1.2.0",
      "model_name": "LayoutModel",
      "state": {}
     },
     "f2b7f0d1e5f34e49883896cef228c0a1": {
      "model_module": "@jupyter-widgets/controls",
      "model_module_version": "1.5.0",
      "model_name": "VBoxModel",
      "state": {
       "_dom_classes": [
        "widget-interact"
       ],
       "children": [
        "IPY_MODEL_d0b39170cfca41118438eb3330911178",
        "IPY_MODEL_f72069b21085442085be11eac3aa322c",
        "IPY_MODEL_ee66f388bfb54433afd37485a2e77d8d"
       ],
       "layout": "IPY_MODEL_1a85eb03646f4091a7b0bdfef0c4fb9a"
      }
     },
     "f317dbde564e4bd4bcda80b5cc2fe1fe": {
      "model_module": "@jupyter-widgets/base",
      "model_module_version": "1.2.0",
      "model_name": "LayoutModel",
      "state": {}
     },
     "f6966d4a74de4d189666855087c4f5b9": {
      "model_module": "@jupyter-widgets/controls",
      "model_module_version": "1.5.0",
      "model_name": "IntSliderModel",
      "state": {
       "description": "n",
       "layout": "IPY_MODEL_ceb197b39a0d4d378c0b2b859fa8de3f",
       "max": 7,
       "style": "IPY_MODEL_64a336351a884e76a5b77e1c481752cc",
       "value": 3
      }
     },
     "f72069b21085442085be11eac3aa322c": {
      "model_module": "@jupyter-widgets/controls",
      "model_module_version": "1.5.0",
      "model_name": "IntSliderModel",
      "state": {
       "description": "n",
       "layout": "IPY_MODEL_895e7ce992384650bba05171430b52c1",
       "max": 7,
       "style": "IPY_MODEL_451a12c27bd84007b03c0c722ab84460",
       "value": 7
      }
     },
     "f7a56897564046778108792381afa8c5": {
      "model_module": "@jupyter-widgets/controls",
      "model_module_version": "1.5.0",
      "model_name": "DescriptionStyleModel",
      "state": {
       "description_width": ""
      }
     },
     "fed1bc85a15f4d8299d7eaeaf1cd9348": {
      "model_module": "@jupyter-widgets/controls",
      "model_module_version": "1.5.0",
      "model_name": "VBoxModel",
      "state": {
       "_dom_classes": [
        "widget-interact"
       ],
       "children": [
        "IPY_MODEL_4f5958361e73463bb2496d47d872c449",
        "IPY_MODEL_139cbdf0e5d4450b8ca75db2699e48be",
        "IPY_MODEL_bb85e2eee59e4e63817c4fd1431d7ce7"
       ],
       "layout": "IPY_MODEL_27c6712568bf4196a019c92dc832331c"
      }
     }
    },
    "version_major": 2,
    "version_minor": 0
   }
  }
 },
 "nbformat": 4,
 "nbformat_minor": 1
}
