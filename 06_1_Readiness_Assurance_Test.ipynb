{
 "cells": [
  {
   "cell_type": "markdown",
   "metadata": {
    "colab_type": "text",
    "id": "view-in-github"
   },
   "source": [
    "<a href=\"https://colab.research.google.com/github/byui-cse/cse480-notebooks/blob/master/06_1_Readiness_Assurance_Test.ipynb\" target=\"_parent\"><img src=\"https://colab.research.google.com/assets/colab-badge.svg\" alt=\"Open In Colab\"/></a>"
   ]
  },
  {
   "cell_type": "markdown",
   "metadata": {
    "id": "UEhvJzZ5EiIK"
   },
   "source": [
    "# Readiness Assurance Test\n",
    "## Due: Monday, 8 February 2021, 2:30pm"
   ]
  },
  {
   "cell_type": "markdown",
   "metadata": {
    "id": "wqar4fgvSBxR"
   },
   "source": [
    "## Imports, then the actual RAT"
   ]
  },
  {
   "cell_type": "code",
   "execution_count": 1,
   "metadata": {
    "id": "y863_jSu1Fad",
    "run_control": {
     "frozen": false,
     "read_only": false
    }
   },
   "outputs": [
    {
     "name": "stdout",
     "output_type": "stream",
     "text": [
      "You may use any of these help commands:\n",
      "help(ResetStNum)\n",
      "help(NxtStateStr)\n",
      "\n",
      "You may use any of these help commands:\n",
      "help(md2mc)\n",
      ".. and if you want to dig more, then ..\n",
      "help(default_line_attr)\n",
      "help(length_ok_input_items)\n",
      "help(union_line_attr_list_fld)\n",
      "help(extend_rsltdict)\n",
      "help(form_delta)\n",
      "help(get_machine_components)\n",
      "\n",
      "You may use any of these help commands:\n",
      "help(mkp_dfa)\n",
      "help(mk_dfa)\n",
      "help(totalize_dfa)\n",
      "help(addtosigma_delta)\n",
      "help(step_dfa)\n",
      "help(run_dfa)\n",
      "help(accepts_dfa)\n",
      "help(comp_dfa)\n",
      "help(union_dfa)\n",
      "help(intersect_dfa)\n",
      "help(pruneUnreach)\n",
      "help(iso_dfa)\n",
      "help(langeq_dfa)\n",
      "help(same_status)\n",
      "help(h_langeq_dfa)\n",
      "help(fixptDist)\n",
      "help(min_dfa)\n",
      "help(pairFR)\n",
      "help(state_combos)\n",
      "help(sepFinNonFin)\n",
      "help(bash_eql_classes)\n",
      "help(listminus)\n",
      "help(bash_1)\n",
      "help(mk_rep_eqc)\n",
      "help(F_of)\n",
      "help(rep_of_s)\n",
      "help(q0_of)\n",
      "help(Delta_of)\n",
      "help(mk_state_eqc_name)\n",
      "\n",
      "You may use any of these help commands:\n",
      "help(mk_nfa)\n",
      "help(totalize_nfa)\n",
      "help(step_nfa)\n",
      "help(run_nfa)\n",
      "help(ec_step_nfa)\n",
      "help(Eclosure)\n",
      "help(Echelp)\n",
      "help(accepts_nfa)\n",
      "help(nfa2dfa)\n",
      "help(n2d)\n",
      "help(inSets)\n",
      "help(rev_dfa)\n",
      "help(min_dfa_brz)\n",
      "\n",
      "You may use any of these help commands:\n",
      "help(RE2Str)\n",
      "help(mk_gnfa)\n",
      "help(mk_gnfa_from_D)\n",
      "help(dfa2nfa)\n",
      "help(del_gnfa_states)\n",
      "help(gnfa_w_REStr)\n",
      "help(del_one_gnfa_state)\n",
      "help(Edges_Exist_Via)\n",
      "help(choose_state_to_del)\n",
      "help(form_alt_RE)\n",
      "help(form_concat_RE)\n",
      "help(form_kleene_RE)\n",
      "\n",
      "You may use any of these help commands:\n",
      "help(re2nfa)\n",
      "\n",
      " \"help(AnimateNFA)\" gives you info on how to use animations with NFA \n"
     ]
    }
   ],
   "source": [
    "#~~~~~~~~~~~~~~~~~~~~~~~~~~~~~~~~~~~~~~~~~~~~~~~~~~~~~~~\n",
    "import sys\n",
    "\n",
    "# -- Detect if in Own Install or in Colab\n",
    "try:\n",
    "    import google.colab\n",
    "    OWN_INSTALL = False\n",
    "except:\n",
    "    OWN_INSTALL = True\n",
    "    \n",
    "if OWN_INSTALL:\n",
    "  \n",
    "  sys.path[0:0] = ['../../../../..',  '../../../../../3rdparty',  \n",
    "                   '../../../..',  '../../../../3rdparty',  \n",
    "                   '../../..',     '../../../3rdparty', \n",
    "                   '../..',        '../../3rdparty',\n",
    "                   '..',           '../3rdparty',\n",
    "                   '../Jove',      '../Jove/jove']\n",
    "\n",
    "else: # In colab\n",
    "  ! if [ ! -d Jove ]; then git clone https://github.com/ganeshutah/Jove Jove; fi\n",
    "  sys.path.append('./Jove')\n",
    "  sys.path.append('./Jove/jove')\n",
    "\n",
    "# -- common imports --`\n",
    "from jove.DotBashers import *\n",
    "from jove.Def_md2mc  import *\n",
    "from jove.Def_NFA    import *\n",
    "from jove.Def_DFA    import *\n",
    "from jove.Def_NFA2RE import *\n",
    "from jove.Def_RE2NFA import *\n",
    "from jove.AnimateNFA import *\n",
    "#~~~~~~~~~~~~~~~~~~~~~~~~~~~~~~~~~~~~~~~~~~~~~~~~~~~~~~~"
   ]
  },
  {
   "cell_type": "markdown",
   "metadata": {
    "id": "glhcbfJwE2hp"
   },
   "source": [
    "# DFA and NFA"
   ]
  },
  {
   "cell_type": "markdown",
   "metadata": {
    "id": "rxMsOSQ6FMMs"
   },
   "source": [
    "## DFA conform to the rules of NFA, but not (always) vice versa."
   ]
  },
  {
   "cell_type": "markdown",
   "metadata": {
    "id": "VMRBbidSFRNW"
   },
   "source": [
    "### Formal Definition of DFA\n",
    "A DFA is a 5-tuple $(Q, \\Sigma, \\delta, q_0, F)$, where\n",
    "\n",
    "1. $Q$ is a finite set called the **states**,\n",
    "2. $\\Sigma$ is a finite set called the **alphabet**,\n",
    "3. $\\delta: Q \\times \\Sigma \\rightarrow Q$ is the **transition function**,\n",
    "4. $q_0 \\in Q$ is the **start state**, and\n",
    "5. $F \\subseteq Q$ is the **set of accept states** (or **final** states)."
   ]
  },
  {
   "cell_type": "markdown",
   "metadata": {
    "id": "pSlG0bzMF78_"
   },
   "source": [
    "### Formal Definition of NFA\n",
    "An NFA is a 5-tuple $(Q, \\Sigma, \\delta, Q_0, F)$, where\n",
    "\n",
    "1. $Q$ is a finite set called the **states**,\n",
    "2. $\\Sigma$ is a finite set called the **alphabet** (which does not include $\\varepsilon$),\n",
    "3. $\\delta: Q \\times \\Sigma_{\\varepsilon} \\rightarrow \\mathcal{P}(Q)$ is the **transition function** ($\\Sigma_{\\varepsilon}$ is short for $\\Sigma \\cup \\{\\varepsilon\\})$,\n",
    "4. $Q_0 \\subseteq Q$ is the **set of start states**, and\n",
    "5. $F \\subseteq Q$ is the **set of accept states** (or **final** states)."
   ]
  },
  {
   "cell_type": "markdown",
   "metadata": {
    "id": "dkSUGkfIHnQs"
   },
   "source": [
    "## Equivalence"
   ]
  },
  {
   "cell_type": "markdown",
   "metadata": {
    "id": "-t-l3eTmHpui"
   },
   "source": [
    "NFA can be converted into DFA because they both represent regular languages, which can be represented by regular expressions, which can be converted to and from NFA."
   ]
  },
  {
   "cell_type": "markdown",
   "metadata": {
    "id": "DmHuN66WOdaA"
   },
   "source": [
    "### Formal Definition of RE (Regular Expressions)"
   ]
  },
  {
   "cell_type": "markdown",
   "metadata": {
    "id": "cidN1LJaOjIg"
   },
   "source": [
    "$R$ is a **regular expression** (an **RE** for short) if $R$ is any of\n",
    "\n",
    "\n",
    "* {} (the empty set $\\emptyset$) \n",
    "* {''} (the set containing the empty string $\\{\\varepsilon\\}$)\n",
    "* $\\{a\\}$ for some $a \\in \\Sigma$\n",
    "* $R_1 \\cup R_2$ where $R_1$ and $R_2$ are **RE**s \n",
    "* $R_1 \\circ R_2$ where $R_1$ and $R_2$ are **RE**s \n",
    "* $R^*$ where $R$ is an **RE**\n",
    "\n",
    "Some shorthand:\n",
    "\n",
    "* $a \\equiv \\{a\\}$\n",
    "* $\\varepsilon \\equiv \\{\\varepsilon\\}$\n",
    "* $R^+ \\equiv R \\circ R^*$\n",
    "* $R^* \\equiv R^+ \\cup \\varepsilon$\n",
    "* $R^k \\equiv R \\circ R \\circ R \\circ \\cdots \\circ R$ ($k$ times)\n",
    "\n",
    "Note: $R \\circ R$ is usually written without the $\\circ$ (concatenation operator), i.e., $RR$.\n",
    "\n",
    "In this regard, $\\circ$ is analogous to the multiplication operator.\n"
   ]
  },
  {
   "cell_type": "markdown",
   "metadata": {
    "id": "WNX6DyrNRsbH"
   },
   "source": [
    "## Question to Answer\n",
    "In what other way(s) is $\\circ$ analogous to the multiplication operator?"
   ]
  },
  {
   "cell_type": "markdown",
   "metadata": {
    "id": "vQFYWsd9R5MU"
   },
   "source": [
    "Your answer goes here."
   ]
  },
  {
   "cell_type": "markdown",
   "metadata": {
    "id": "mT0DF_CyHvxm"
   },
   "source": [
    "## Easy to Design"
   ]
  },
  {
   "cell_type": "code",
   "execution_count": 2,
   "metadata": {
    "id": "RS2nA43UHu8X"
   },
   "outputs": [
    {
     "data": {
      "image/svg+xml": [
       "<?xml version=\"1.0\" encoding=\"UTF-8\" standalone=\"no\"?>\n",
       "<!DOCTYPE svg PUBLIC \"-//W3C//DTD SVG 1.1//EN\"\n",
       " \"http://www.w3.org/Graphics/SVG/1.1/DTD/svg11.dtd\">\n",
       "<!-- Generated by graphviz version 2.42.3 (20191010.1750)\n",
       " -->\n",
       "<!-- Title: %3 Pages: 1 -->\n",
       "<svg width=\"573pt\" height=\"147pt\"\n",
       " viewBox=\"0.00 0.00 573.48 147.30\" xmlns=\"http://www.w3.org/2000/svg\" xmlns:xlink=\"http://www.w3.org/1999/xlink\">\n",
       "<g id=\"graph0\" class=\"graph\" transform=\"scale(1 1) rotate(0) translate(4 143.3)\">\n",
       "<title>%3</title>\n",
       "<polygon fill=\"white\" stroke=\"transparent\" points=\"-4,4 -4,-143.3 569.48,-143.3 569.48,4 -4,4\"/>\n",
       "<!-- EMPTY -->\n",
       "<g id=\"node1\" class=\"node\">\n",
       "<title>EMPTY</title>\n",
       "</g>\n",
       "<!-- St7 -->\n",
       "<g id=\"node5\" class=\"node\">\n",
       "<title>St7</title>\n",
       "<ellipse fill=\"none\" stroke=\"black\" cx=\"117.65\" cy=\"-74.65\" rx=\"26.8\" ry=\"26.8\"/>\n",
       "<text text-anchor=\"middle\" x=\"117.65\" y=\"-70.95\" font-family=\"Times,serif\" font-size=\"14.00\">St7</text>\n",
       "</g>\n",
       "<!-- EMPTY&#45;&gt;St7 -->\n",
       "<g id=\"edge1\" class=\"edge\">\n",
       "<title>EMPTY&#45;&gt;St7</title>\n",
       "<path fill=\"none\" stroke=\"black\" d=\"M54.12,-74.65C62.41,-74.65 71.74,-74.65 80.61,-74.65\"/>\n",
       "<polygon fill=\"black\" stroke=\"black\" points=\"80.72,-78.15 90.72,-74.65 80.72,-71.15 80.72,-78.15\"/>\n",
       "</g>\n",
       "<!-- St5 -->\n",
       "<g id=\"node2\" class=\"node\">\n",
       "<title>St5</title>\n",
       "<ellipse fill=\"none\" stroke=\"black\" cx=\"220.94\" cy=\"-26.65\" rx=\"26.8\" ry=\"26.8\"/>\n",
       "<text text-anchor=\"middle\" x=\"220.94\" y=\"-22.95\" font-family=\"Times,serif\" font-size=\"14.00\">St5</text>\n",
       "</g>\n",
       "<!-- St5&#45;&gt;St5 -->\n",
       "<g id=\"edge4\" class=\"edge\">\n",
       "<title>St5&#45;&gt;St5</title>\n",
       "<path fill=\"none\" stroke=\"black\" d=\"M211.65,-51.89C211.01,-62.39 214.11,-71.3 220.94,-71.3 225.32,-71.3 228.17,-67.64 229.48,-62.26\"/>\n",
       "<polygon fill=\"black\" stroke=\"black\" points=\"233,-62.12 230.24,-51.89 226.02,-61.61 233,-62.12\"/>\n",
       "<text text-anchor=\"middle\" x=\"220.94\" y=\"-75.1\" font-family=\"Times,serif\" font-size=\"14.00\">0 </text>\n",
       "</g>\n",
       "<!-- St6 -->\n",
       "<g id=\"node4\" class=\"node\">\n",
       "<title>St6</title>\n",
       "<ellipse fill=\"none\" stroke=\"black\" cx=\"324.24\" cy=\"-86.65\" rx=\"26.8\" ry=\"26.8\"/>\n",
       "<text text-anchor=\"middle\" x=\"324.24\" y=\"-82.95\" font-family=\"Times,serif\" font-size=\"14.00\">St6</text>\n",
       "</g>\n",
       "<!-- St5&#45;&gt;St6 -->\n",
       "<g id=\"edge5\" class=\"edge\">\n",
       "<title>St5&#45;&gt;St6</title>\n",
       "<path fill=\"none\" stroke=\"black\" d=\"M244.17,-39.81C258.19,-48.12 276.51,-58.97 291.98,-68.13\"/>\n",
       "<polygon fill=\"black\" stroke=\"black\" points=\"290.32,-71.22 300.71,-73.3 293.89,-65.2 290.32,-71.22\"/>\n",
       "<text text-anchor=\"middle\" x=\"272.59\" y=\"-63.45\" font-family=\"Times,serif\" font-size=\"14.00\">1 </text>\n",
       "</g>\n",
       "<!-- St4 -->\n",
       "<g id=\"node3\" class=\"node\">\n",
       "<title>St4</title>\n",
       "<ellipse fill=\"none\" stroke=\"black\" cx=\"427.53\" cy=\"-42.65\" rx=\"26.8\" ry=\"26.8\"/>\n",
       "<text text-anchor=\"middle\" x=\"427.53\" y=\"-38.95\" font-family=\"Times,serif\" font-size=\"14.00\">St4</text>\n",
       "</g>\n",
       "<!-- St4&#45;&gt;St5 -->\n",
       "<g id=\"edge8\" class=\"edge\">\n",
       "<title>St4&#45;&gt;St5</title>\n",
       "<path fill=\"none\" stroke=\"black\" d=\"M400.98,-40.14C386.33,-38.74 367.58,-37 350.89,-35.65 319.43,-33.1 283.63,-30.63 257.74,-28.93\"/>\n",
       "<polygon fill=\"black\" stroke=\"black\" points=\"257.85,-25.43 247.64,-28.27 257.39,-32.41 257.85,-25.43\"/>\n",
       "<text text-anchor=\"middle\" x=\"324.24\" y=\"-39.45\" font-family=\"Times,serif\" font-size=\"14.00\">0 </text>\n",
       "</g>\n",
       "<!-- St2 -->\n",
       "<g id=\"node6\" class=\"node\">\n",
       "<title>St2</title>\n",
       "<ellipse fill=\"none\" stroke=\"black\" cx=\"534.83\" cy=\"-42.65\" rx=\"26.78\" ry=\"26.78\"/>\n",
       "<ellipse fill=\"none\" stroke=\"black\" cx=\"534.83\" cy=\"-42.65\" rx=\"30.8\" ry=\"30.8\"/>\n",
       "<text text-anchor=\"middle\" x=\"534.83\" y=\"-38.95\" font-family=\"Times,serif\" font-size=\"14.00\">St2</text>\n",
       "</g>\n",
       "<!-- St4&#45;&gt;St2 -->\n",
       "<g id=\"edge9\" class=\"edge\">\n",
       "<title>St4&#45;&gt;St2</title>\n",
       "<path fill=\"none\" stroke=\"black\" d=\"M454.29,-42.65C466.11,-42.65 480.4,-42.65 493.59,-42.65\"/>\n",
       "<polygon fill=\"black\" stroke=\"black\" points=\"493.86,-46.15 503.86,-42.65 493.86,-39.15 493.86,-46.15\"/>\n",
       "<text text-anchor=\"middle\" x=\"479.18\" y=\"-46.45\" font-family=\"Times,serif\" font-size=\"14.00\">1 </text>\n",
       "</g>\n",
       "<!-- St6&#45;&gt;St4 -->\n",
       "<g id=\"edge6\" class=\"edge\">\n",
       "<title>St6&#45;&gt;St4</title>\n",
       "<path fill=\"none\" stroke=\"black\" d=\"M348.99,-76.33C362.32,-70.54 379.16,-63.22 393.74,-56.89\"/>\n",
       "<polygon fill=\"black\" stroke=\"black\" points=\"395.16,-60.09 402.93,-52.9 392.37,-53.67 395.16,-60.09\"/>\n",
       "<text text-anchor=\"middle\" x=\"375.89\" y=\"-70.45\" font-family=\"Times,serif\" font-size=\"14.00\">0 </text>\n",
       "</g>\n",
       "<!-- St6&#45;&gt;St7 -->\n",
       "<g id=\"edge7\" class=\"edge\">\n",
       "<title>St6&#45;&gt;St7</title>\n",
       "<path fill=\"none\" stroke=\"black\" d=\"M297.94,-91.46C271.86,-95.71 230.09,-100.52 194.3,-95.65 180.55,-93.77 165.77,-90.07 152.96,-86.29\"/>\n",
       "<polygon fill=\"black\" stroke=\"black\" points=\"153.75,-82.87 143.17,-83.27 151.69,-89.56 153.75,-82.87\"/>\n",
       "<text text-anchor=\"middle\" x=\"220.94\" y=\"-101.45\" font-family=\"Times,serif\" font-size=\"14.00\">1 </text>\n",
       "</g>\n",
       "<!-- St7&#45;&gt;St5 -->\n",
       "<g id=\"edge2\" class=\"edge\">\n",
       "<title>St7&#45;&gt;St5</title>\n",
       "<path fill=\"none\" stroke=\"black\" d=\"M142.14,-63.51C155.57,-57.15 172.6,-49.08 187.31,-42.11\"/>\n",
       "<polygon fill=\"black\" stroke=\"black\" points=\"189.04,-45.17 196.58,-37.72 186.04,-38.84 189.04,-45.17\"/>\n",
       "<text text-anchor=\"middle\" x=\"169.3\" y=\"-57.45\" font-family=\"Times,serif\" font-size=\"14.00\">0 </text>\n",
       "</g>\n",
       "<!-- St7&#45;&gt;St7 -->\n",
       "<g id=\"edge3\" class=\"edge\">\n",
       "<title>St7&#45;&gt;St7</title>\n",
       "<path fill=\"none\" stroke=\"black\" d=\"M109.45,-100.34C108.98,-110.65 111.72,-119.3 117.65,-119.3 121.45,-119.3 123.93,-115.75 125.11,-110.48\"/>\n",
       "<polygon fill=\"black\" stroke=\"black\" points=\"128.61,-110.57 125.85,-100.34 121.63,-110.06 128.61,-110.57\"/>\n",
       "<text text-anchor=\"middle\" x=\"117.65\" y=\"-123.1\" font-family=\"Times,serif\" font-size=\"14.00\">1 </text>\n",
       "</g>\n",
       "<!-- St2&#45;&gt;St2 -->\n",
       "<g id=\"edge10\" class=\"edge\">\n",
       "<title>St2&#45;&gt;St2</title>\n",
       "<path fill=\"none\" stroke=\"black\" d=\"M529.77,-73.05C529.77,-83.19 531.45,-91.3 534.83,-91.3 536.94,-91.3 538.39,-88.13 539.18,-83.28\"/>\n",
       "<polygon fill=\"black\" stroke=\"black\" points=\"542.69,-83.27 539.89,-73.05 535.71,-82.79 542.69,-83.27\"/>\n",
       "<text text-anchor=\"middle\" x=\"534.83\" y=\"-95.1\" font-family=\"Times,serif\" font-size=\"14.00\">0 </text>\n",
       "</g>\n",
       "<!-- St2&#45;&gt;St2 -->\n",
       "<g id=\"edge11\" class=\"edge\">\n",
       "<title>St2&#45;&gt;St2</title>\n",
       "<path fill=\"none\" stroke=\"black\" d=\"M525.5,-72.11C523.07,-91.06 526.18,-109.3 534.83,-109.3 541.92,-109.3 545.29,-97.02 544.93,-82.16\"/>\n",
       "<polygon fill=\"black\" stroke=\"black\" points=\"548.41,-81.81 544.15,-72.11 541.43,-82.35 548.41,-81.81\"/>\n",
       "<text text-anchor=\"middle\" x=\"534.83\" y=\"-113.1\" font-family=\"Times,serif\" font-size=\"14.00\">1 </text>\n",
       "</g>\n",
       "</g>\n",
       "</svg>\n"
      ],
      "text/plain": [
       "<graphviz.dot.Digraph at 0x7f12a8ef1b20>"
      ]
     },
     "execution_count": 2,
     "metadata": {},
     "output_type": "execute_result"
    }
   ],
   "source": [
    "nfa1 = '''\n",
    "NFA\n",
    "I    : 0|1 -> I\n",
    "I    : 0   -> S0\n",
    "S0   : 1   -> S01\n",
    "S01  : 0   -> S010\n",
    "S010 : 1   -> F\n",
    "F    : 0|1 -> F\n",
    "'''\n",
    "mc = md2mc(nfa1)\n",
    "dfa = min_dfa(nfa2dfa(mc))\n",
    "# try mc also changing dotObj_dfa to dotObj_nfa\n",
    "dotObj_dfa(dfa)"
   ]
  },
  {
   "cell_type": "markdown",
   "metadata": {
    "id": "adFHIInPH4Xz"
   },
   "source": [
    "A good name for ```nfa1``` is"
   ]
  },
  {
   "cell_type": "code",
   "execution_count": 3,
   "metadata": {
    "id": "lWH9adn8H_9q"
   },
   "outputs": [],
   "source": [
    "name1 = 'contains 0101'  #@param {type: \"string\"}"
   ]
  },
  {
   "cell_type": "markdown",
   "metadata": {
    "id": "NjlkkLAEI3e6"
   },
   "source": [
    "An RE for the language of ```nfa1``` is"
   ]
  },
  {
   "cell_type": "code",
   "execution_count": 4,
   "metadata": {
    "id": "UVFNPQHaJD43"
   },
   "outputs": [],
   "source": [
    "re1 = '(0 + 1) * 0101 (0 + 1)*'  #@param {type: \"string\"}"
   ]
  },
  {
   "cell_type": "code",
   "execution_count": 5,
   "metadata": {
    "id": "NIu7P0yIJGEF"
   },
   "outputs": [
    {
     "data": {
      "image/svg+xml": [
       "<?xml version=\"1.0\" encoding=\"UTF-8\" standalone=\"no\"?>\n",
       "<!DOCTYPE svg PUBLIC \"-//W3C//DTD SVG 1.1//EN\"\n",
       " \"http://www.w3.org/Graphics/SVG/1.1/DTD/svg11.dtd\">\n",
       "<!-- Generated by graphviz version 2.42.3 (20191010.1750)\n",
       " -->\n",
       "<!-- Title: %3 Pages: 1 -->\n",
       "<svg width=\"333pt\" height=\"151pt\"\n",
       " viewBox=\"0.00 0.00 332.69 151.05\" xmlns=\"http://www.w3.org/2000/svg\" xmlns:xlink=\"http://www.w3.org/1999/xlink\">\n",
       "<g id=\"graph0\" class=\"graph\" transform=\"scale(1 1) rotate(0) translate(4 147.05)\">\n",
       "<title>%3</title>\n",
       "<polygon fill=\"white\" stroke=\"transparent\" points=\"-4,4 -4,-147.05 328.69,-147.05 328.69,4 -4,4\"/>\n",
       "<!-- EMPTY -->\n",
       "<g id=\"node1\" class=\"node\">\n",
       "<title>EMPTY</title>\n",
       "</g>\n",
       "<!-- IA -->\n",
       "<g id=\"node3\" class=\"node\">\n",
       "<title>IA</title>\n",
       "<ellipse fill=\"none\" stroke=\"black\" cx=\"111.8\" cy=\"-77.05\" rx=\"20.6\" ry=\"20.6\"/>\n",
       "<text text-anchor=\"middle\" x=\"111.8\" y=\"-73.35\" font-family=\"Times,serif\" font-size=\"14.00\">IA</text>\n",
       "</g>\n",
       "<!-- EMPTY&#45;&gt;IA -->\n",
       "<g id=\"edge1\" class=\"edge\">\n",
       "<title>EMPTY&#45;&gt;IA</title>\n",
       "<path fill=\"none\" stroke=\"black\" d=\"M54.2,-77.05C62.62,-77.05 72.01,-77.05 80.69,-77.05\"/>\n",
       "<polygon fill=\"black\" stroke=\"black\" points=\"80.81,-80.55 90.81,-77.05 80.81,-73.55 80.81,-80.55\"/>\n",
       "</g>\n",
       "<!-- B -->\n",
       "<g id=\"node2\" class=\"node\">\n",
       "<title>B</title>\n",
       "<ellipse fill=\"none\" stroke=\"black\" cx=\"306.69\" cy=\"-92.05\" rx=\"18\" ry=\"18\"/>\n",
       "<text text-anchor=\"middle\" x=\"306.69\" y=\"-88.35\" font-family=\"Times,serif\" font-size=\"14.00\">B</text>\n",
       "</g>\n",
       "<!-- B&#45;&gt;B -->\n",
       "<g id=\"edge6\" class=\"edge\">\n",
       "<title>B&#45;&gt;B</title>\n",
       "<path fill=\"none\" stroke=\"black\" d=\"M299.31,-108.71C297.67,-118.67 300.13,-128.05 306.69,-128.05 310.9,-128.05 313.42,-124.2 314.25,-118.82\"/>\n",
       "<polygon fill=\"black\" stroke=\"black\" points=\"317.75,-118.65 314.07,-108.71 310.75,-118.77 317.75,-118.65\"/>\n",
       "<text text-anchor=\"middle\" x=\"306.69\" y=\"-131.85\" font-family=\"Times,serif\" font-size=\"14.00\">b </text>\n",
       "</g>\n",
       "<!-- B&#45;&gt;IA -->\n",
       "<g id=\"edge5\" class=\"edge\">\n",
       "<title>B&#45;&gt;IA</title>\n",
       "<path fill=\"none\" stroke=\"black\" d=\"M288.68,-90.72C255.97,-88.18 183.93,-82.58 142.92,-79.39\"/>\n",
       "<polygon fill=\"black\" stroke=\"black\" points=\"142.96,-75.88 132.71,-78.6 142.41,-82.86 142.96,-75.88\"/>\n",
       "<text text-anchor=\"middle\" x=\"210.64\" y=\"-89.85\" font-family=\"Times,serif\" font-size=\"14.00\">a </text>\n",
       "</g>\n",
       "<!-- IA&#45;&gt;B -->\n",
       "<g id=\"edge2\" class=\"edge\">\n",
       "<title>IA&#45;&gt;B</title>\n",
       "<path fill=\"none\" stroke=\"black\" d=\"M127.5,-91.09C134.08,-96.61 142.23,-102.47 150.6,-106.05 163.83,-111.72 168.24,-109.93 182.6,-111.05 221.7,-114.08 232.87,-116.42 270.69,-106.05 273.91,-105.16 277.24,-104.08 280.5,-102.9\"/>\n",
       "<polygon fill=\"black\" stroke=\"black\" points=\"281.87,-106.12 289.92,-99.23 279.33,-99.6 281.87,-106.12\"/>\n",
       "<text text-anchor=\"middle\" x=\"210.64\" y=\"-116.85\" font-family=\"Times,serif\" font-size=\"14.00\">a </text>\n",
       "</g>\n",
       "<!-- IA&#45;&gt;IA -->\n",
       "<g id=\"edge3\" class=\"edge\">\n",
       "<title>IA&#45;&gt;IA</title>\n",
       "<path fill=\"none\" stroke=\"black\" d=\"M104.88,-97.01C103.93,-106.97 106.23,-115.85 111.8,-115.85 115.28,-115.85 117.48,-112.38 118.41,-107.35\"/>\n",
       "<polygon fill=\"black\" stroke=\"black\" points=\"121.92,-107.11 118.71,-97.01 114.92,-106.9 121.92,-107.11\"/>\n",
       "<text text-anchor=\"middle\" x=\"111.8\" y=\"-119.65\" font-family=\"Times,serif\" font-size=\"14.00\">a </text>\n",
       "</g>\n",
       "<!-- FC -->\n",
       "<g id=\"node4\" class=\"node\">\n",
       "<title>FC</title>\n",
       "<ellipse fill=\"none\" stroke=\"black\" cx=\"210.64\" cy=\"-28.05\" rx=\"24.09\" ry=\"24.09\"/>\n",
       "<ellipse fill=\"none\" stroke=\"black\" cx=\"210.64\" cy=\"-28.05\" rx=\"28.1\" ry=\"28.1\"/>\n",
       "<text text-anchor=\"middle\" x=\"210.64\" y=\"-24.35\" font-family=\"Times,serif\" font-size=\"14.00\">FC</text>\n",
       "</g>\n",
       "<!-- IA&#45;&gt;FC -->\n",
       "<g id=\"edge4\" class=\"edge\">\n",
       "<title>IA&#45;&gt;FC</title>\n",
       "<path fill=\"none\" stroke=\"black\" d=\"M130.56,-68.06C143.22,-61.65 160.64,-52.84 175.9,-45.12\"/>\n",
       "<polygon fill=\"black\" stroke=\"black\" points=\"177.72,-48.12 185.06,-40.48 174.56,-41.88 177.72,-48.12\"/>\n",
       "<text text-anchor=\"middle\" x=\"157.6\" y=\"-59.85\" font-family=\"Times,serif\" font-size=\"14.00\">b </text>\n",
       "</g>\n",
       "<!-- FC&#45;&gt;B -->\n",
       "<g id=\"edge7\" class=\"edge\">\n",
       "<title>FC&#45;&gt;B</title>\n",
       "<path fill=\"none\" stroke=\"black\" d=\"M235.74,-41.19C246.66,-47.43 259.58,-55.23 270.69,-63.05 275.45,-66.4 280.37,-70.23 284.97,-73.98\"/>\n",
       "<polygon fill=\"black\" stroke=\"black\" points=\"282.87,-76.78 292.78,-80.53 287.37,-71.42 282.87,-76.78\"/>\n",
       "<text text-anchor=\"middle\" x=\"263.69\" y=\"-66.85\" font-family=\"Times,serif\" font-size=\"14.00\">b </text>\n",
       "</g>\n",
       "<!-- FC&#45;&gt;IA -->\n",
       "<g id=\"edge8\" class=\"edge\">\n",
       "<title>FC&#45;&gt;IA</title>\n",
       "<path fill=\"none\" stroke=\"black\" d=\"M182.59,-25.48C172.1,-25.58 160.31,-27.12 150.6,-32.05 142.23,-36.3 134.99,-43.31 129.16,-50.54\"/>\n",
       "<polygon fill=\"black\" stroke=\"black\" points=\"126.05,-48.85 122.96,-58.98 131.7,-52.99 126.05,-48.85\"/>\n",
       "<text text-anchor=\"middle\" x=\"157.6\" y=\"-35.85\" font-family=\"Times,serif\" font-size=\"14.00\">b </text>\n",
       "</g>\n",
       "</g>\n",
       "</svg>\n"
      ],
      "text/plain": [
       "<graphviz.dot.Digraph at 0x7f12a869b370>"
      ]
     },
     "execution_count": 5,
     "metadata": {},
     "output_type": "execute_result"
    }
   ],
   "source": [
    "nfa2 = md2mc('''NFA    \n",
    "IA : a -> IA          \n",
    "IA : a -> B           \n",
    "IA : b -> FC          \n",
    "B  : a -> IA          \n",
    "B  : b -> B           \n",
    "FC : b -> IA          \n",
    "FC : b -> B           \n",
    "''')                  \n",
    "dotObj_nfa(nfa2)"
   ]
  },
  {
   "cell_type": "markdown",
   "metadata": {
    "id": "HcQMri35JeME"
   },
   "source": [
    "A good name for ```nfa2``` is\n"
   ]
  },
  {
   "cell_type": "code",
   "execution_count": 6,
   "metadata": {
    "id": "smSd9cVyJeMF"
   },
   "outputs": [],
   "source": [
    "name2 = 'A number of \"a\"s followed by an odd number of \"b\"s'  #@param {type: \"string\"}"
   ]
  },
  {
   "cell_type": "markdown",
   "metadata": {
    "id": "GX2KAjhTJeMF"
   },
   "source": [
    "An RE for the language of ```nfa2``` is"
   ]
  },
  {
   "cell_type": "code",
   "execution_count": 7,
   "metadata": {
    "id": "CK3WXl8nJeMF"
   },
   "outputs": [],
   "source": [
    "re2 = '((ab*a)*(bb)*)'  #@param {type: \"string\"}"
   ]
  },
  {
   "cell_type": "code",
   "execution_count": 8,
   "metadata": {
    "id": "zdSBHplOJrdO"
   },
   "outputs": [
    {
     "data": {
      "image/svg+xml": [
       "<?xml version=\"1.0\" encoding=\"UTF-8\" standalone=\"no\"?>\n",
       "<!DOCTYPE svg PUBLIC \"-//W3C//DTD SVG 1.1//EN\"\n",
       " \"http://www.w3.org/Graphics/SVG/1.1/DTD/svg11.dtd\">\n",
       "<!-- Generated by graphviz version 2.42.3 (20191010.1750)\n",
       " -->\n",
       "<!-- Title: %3 Pages: 1 -->\n",
       "<svg width=\"489pt\" height=\"144pt\"\n",
       " viewBox=\"0.00 0.00 488.58 143.94\" xmlns=\"http://www.w3.org/2000/svg\" xmlns:xlink=\"http://www.w3.org/1999/xlink\">\n",
       "<g id=\"graph0\" class=\"graph\" transform=\"scale(1 1) rotate(0) translate(4 139.94)\">\n",
       "<title>%3</title>\n",
       "<polygon fill=\"white\" stroke=\"transparent\" points=\"-4,4 -4,-139.94 484.58,-139.94 484.58,4 -4,4\"/>\n",
       "<!-- EMPTY -->\n",
       "<g id=\"node1\" class=\"node\">\n",
       "<title>EMPTY</title>\n",
       "</g>\n",
       "<!-- IA -->\n",
       "<g id=\"node2\" class=\"node\">\n",
       "<title>IA</title>\n",
       "<ellipse fill=\"none\" stroke=\"black\" cx=\"111.8\" cy=\"-62.1\" rx=\"20.6\" ry=\"20.6\"/>\n",
       "<text text-anchor=\"middle\" x=\"111.8\" y=\"-58.4\" font-family=\"Times,serif\" font-size=\"14.00\">IA</text>\n",
       "</g>\n",
       "<!-- EMPTY&#45;&gt;IA -->\n",
       "<g id=\"edge1\" class=\"edge\">\n",
       "<title>EMPTY&#45;&gt;IA</title>\n",
       "<path fill=\"none\" stroke=\"black\" d=\"M54.2,-62.1C62.62,-62.1 72.01,-62.1 80.69,-62.1\"/>\n",
       "<polygon fill=\"black\" stroke=\"black\" points=\"80.81,-65.6 90.81,-62.1 80.81,-58.6 80.81,-65.6\"/>\n",
       "</g>\n",
       "<!-- B_IA -->\n",
       "<g id=\"node3\" class=\"node\">\n",
       "<title>B_IA</title>\n",
       "<ellipse fill=\"none\" stroke=\"black\" cx=\"320.54\" cy=\"-71.1\" rx=\"31.7\" ry=\"31.7\"/>\n",
       "<text text-anchor=\"middle\" x=\"320.54\" y=\"-67.4\" font-family=\"Times,serif\" font-size=\"14.00\">B_IA</text>\n",
       "</g>\n",
       "<!-- IA&#45;&gt;B_IA -->\n",
       "<g id=\"edge2\" class=\"edge\">\n",
       "<title>IA&#45;&gt;B_IA</title>\n",
       "<path fill=\"none\" stroke=\"black\" d=\"M129.34,-73.86C142.92,-82.75 163.03,-94.23 182.6,-99.1 215.84,-107.36 254.06,-98 281.66,-87.93\"/>\n",
       "<polygon fill=\"black\" stroke=\"black\" points=\"283.24,-91.08 291.32,-84.23 280.73,-84.54 283.24,-91.08\"/>\n",
       "<text text-anchor=\"middle\" x=\"210.64\" y=\"-105.9\" font-family=\"Times,serif\" font-size=\"14.00\">a </text>\n",
       "</g>\n",
       "<!-- FC -->\n",
       "<g id=\"node5\" class=\"node\">\n",
       "<title>FC</title>\n",
       "<ellipse fill=\"none\" stroke=\"black\" cx=\"210.64\" cy=\"-62.1\" rx=\"24.09\" ry=\"24.09\"/>\n",
       "<ellipse fill=\"none\" stroke=\"black\" cx=\"210.64\" cy=\"-62.1\" rx=\"28.1\" ry=\"28.1\"/>\n",
       "<text text-anchor=\"middle\" x=\"210.64\" y=\"-58.4\" font-family=\"Times,serif\" font-size=\"14.00\">FC</text>\n",
       "</g>\n",
       "<!-- IA&#45;&gt;FC -->\n",
       "<g id=\"edge3\" class=\"edge\">\n",
       "<title>IA&#45;&gt;FC</title>\n",
       "<path fill=\"none\" stroke=\"black\" d=\"M132.86,-62.1C144.14,-62.1 158.59,-62.1 171.91,-62.1\"/>\n",
       "<polygon fill=\"black\" stroke=\"black\" points=\"172.26,-65.6 182.26,-62.1 172.26,-58.6 172.26,-65.6\"/>\n",
       "<text text-anchor=\"middle\" x=\"157.6\" y=\"-65.9\" font-family=\"Times,serif\" font-size=\"14.00\">b </text>\n",
       "</g>\n",
       "<!-- B_IA&#45;&gt;B_IA -->\n",
       "<g id=\"edge4\" class=\"edge\">\n",
       "<title>B_IA&#45;&gt;B_IA</title>\n",
       "<path fill=\"none\" stroke=\"black\" d=\"M310.05,-101.27C309.82,-112.11 313.32,-120.94 320.54,-120.94 325.28,-120.94 328.41,-117.14 329.94,-111.46\"/>\n",
       "<polygon fill=\"black\" stroke=\"black\" points=\"333.45,-111.59 331.03,-101.27 326.49,-110.84 333.45,-111.59\"/>\n",
       "<text text-anchor=\"middle\" x=\"320.54\" y=\"-124.74\" font-family=\"Times,serif\" font-size=\"14.00\">a </text>\n",
       "</g>\n",
       "<!-- B_FC -->\n",
       "<g id=\"node4\" class=\"node\">\n",
       "<title>B_FC</title>\n",
       "<ellipse fill=\"none\" stroke=\"black\" cx=\"441.48\" cy=\"-39.1\" rx=\"35.18\" ry=\"35.18\"/>\n",
       "<ellipse fill=\"none\" stroke=\"black\" cx=\"441.48\" cy=\"-39.1\" rx=\"39.19\" ry=\"39.19\"/>\n",
       "<text text-anchor=\"middle\" x=\"441.48\" y=\"-35.4\" font-family=\"Times,serif\" font-size=\"14.00\">B_FC</text>\n",
       "</g>\n",
       "<!-- B_IA&#45;&gt;B_FC -->\n",
       "<g id=\"edge5\" class=\"edge\">\n",
       "<title>B_IA&#45;&gt;B_FC</title>\n",
       "<path fill=\"none\" stroke=\"black\" d=\"M351.63,-63.62C362.03,-60.99 373.73,-57.97 384.39,-55.1 387.52,-54.25 390.74,-53.37 393.98,-52.47\"/>\n",
       "<polygon fill=\"black\" stroke=\"black\" points=\"395.02,-55.81 403.71,-49.75 393.14,-49.07 395.02,-55.81\"/>\n",
       "<text text-anchor=\"middle\" x=\"377.39\" y=\"-62.9\" font-family=\"Times,serif\" font-size=\"14.00\">b </text>\n",
       "</g>\n",
       "<!-- B_FC&#45;&gt;IA -->\n",
       "<g id=\"edge7\" class=\"edge\">\n",
       "<title>B_FC&#45;&gt;IA</title>\n",
       "<path fill=\"none\" stroke=\"black\" d=\"M403.11,-30.27C352.35,-19.81 259.18,-6.05 182.6,-25.1 166.85,-29.01 150.76,-37.21 137.99,-44.89\"/>\n",
       "<polygon fill=\"black\" stroke=\"black\" points=\"135.95,-42.05 129.34,-50.33 139.67,-47.97 135.95,-42.05\"/>\n",
       "<text text-anchor=\"middle\" x=\"263.69\" y=\"-19.9\" font-family=\"Times,serif\" font-size=\"14.00\">a </text>\n",
       "</g>\n",
       "<!-- B_FC&#45;&gt;B_IA -->\n",
       "<g id=\"edge8\" class=\"edge\">\n",
       "<title>B_FC&#45;&gt;B_IA</title>\n",
       "<path fill=\"none\" stroke=\"black\" d=\"M402.73,-32.68C392.06,-32.15 380.59,-32.82 370.39,-36.1 364.39,-38.02 358.5,-40.99 353.01,-44.39\"/>\n",
       "<polygon fill=\"black\" stroke=\"black\" points=\"351.04,-41.5 344.74,-50.02 354.98,-47.29 351.04,-41.5\"/>\n",
       "<text text-anchor=\"middle\" x=\"377.39\" y=\"-39.9\" font-family=\"Times,serif\" font-size=\"14.00\">b </text>\n",
       "</g>\n",
       "<!-- FC&#45;&gt;B_IA -->\n",
       "<g id=\"edge6\" class=\"edge\">\n",
       "<title>FC&#45;&gt;B_IA</title>\n",
       "<path fill=\"none\" stroke=\"black\" d=\"M238.87,-64.37C250.79,-65.36 265.04,-66.55 278.22,-67.65\"/>\n",
       "<polygon fill=\"black\" stroke=\"black\" points=\"278.25,-71.16 288.5,-68.51 278.83,-64.19 278.25,-71.16\"/>\n",
       "<text text-anchor=\"middle\" x=\"263.69\" y=\"-69.9\" font-family=\"Times,serif\" font-size=\"14.00\">b </text>\n",
       "</g>\n",
       "</g>\n",
       "</svg>\n"
      ],
      "text/plain": [
       "<graphviz.dot.Digraph at 0x7f12a8616ee0>"
      ]
     },
     "execution_count": 8,
     "metadata": {},
     "output_type": "execute_result"
    }
   ],
   "source": [
    "nfa3 = md2mc('''NFA              \n",
    "IA : a -> IA                    \n",
    "IA : a -> B                     \n",
    "IA : b -> FC                    \n",
    "B  : a -> IA                    \n",
    "B  : b -> B                     \n",
    "FC : b -> IA                    \n",
    "FC : b -> B                     \n",
    "''')                            \n",
    "                                \n",
    "dfa = nfa2dfa(totalize_nfa(nfa3))\n",
    "dotObj_dfa(dfa)"
   ]
  },
  {
   "cell_type": "markdown",
   "metadata": {
    "id": "TdFlRj46Kebu"
   },
   "source": [
    "A good name for ```nfa3``` is\n"
   ]
  },
  {
   "cell_type": "code",
   "execution_count": 9,
   "metadata": {
    "id": "E42eZH56Kebu"
   },
   "outputs": [],
   "source": [
    "name3 = 'Ends with an odd number of a\\'s followed by an even number of b\\'s OR ends in an odd number of b\\'s greater than 2'  #@param {type: \"string\"}"
   ]
  },
  {
   "cell_type": "markdown",
   "metadata": {
    "id": "Nh3L-a0UKebv"
   },
   "source": [
    "An RE for the language of ```nfa3``` is"
   ]
  },
  {
   "cell_type": "code",
   "execution_count": 10,
   "metadata": {
    "id": "G3an2JpsKebv"
   },
   "outputs": [],
   "source": [
    "re3 = '(aa* + bb)(bb*)'  #@param {type: \"string\"}"
   ]
  },
  {
   "cell_type": "code",
   "execution_count": 11,
   "metadata": {
    "id": "nHsYxEhfKuTt"
   },
   "outputs": [
    {
     "data": {
      "image/svg+xml": [
       "<?xml version=\"1.0\" encoding=\"UTF-8\" standalone=\"no\"?>\n",
       "<!DOCTYPE svg PUBLIC \"-//W3C//DTD SVG 1.1//EN\"\n",
       " \"http://www.w3.org/Graphics/SVG/1.1/DTD/svg11.dtd\">\n",
       "<!-- Generated by graphviz version 2.42.3 (20191010.1750)\n",
       " -->\n",
       "<!-- Title: %3 Pages: 1 -->\n",
       "<svg width=\"417pt\" height=\"96pt\"\n",
       " viewBox=\"0.00 0.00 417.50 95.75\" xmlns=\"http://www.w3.org/2000/svg\" xmlns:xlink=\"http://www.w3.org/1999/xlink\">\n",
       "<g id=\"graph0\" class=\"graph\" transform=\"scale(1 1) rotate(0) translate(4 91.75)\">\n",
       "<title>%3</title>\n",
       "<polygon fill=\"white\" stroke=\"transparent\" points=\"-4,4 -4,-91.75 413.5,-91.75 413.5,4 -4,4\"/>\n",
       "<!-- EMPTY -->\n",
       "<g id=\"node1\" class=\"node\">\n",
       "<title>EMPTY</title>\n",
       "</g>\n",
       "<!-- I -->\n",
       "<g id=\"node3\" class=\"node\">\n",
       "<title>I</title>\n",
       "<ellipse fill=\"none\" stroke=\"black\" cx=\"109\" cy=\"-22\" rx=\"18\" ry=\"18\"/>\n",
       "<text text-anchor=\"middle\" x=\"109\" y=\"-18.3\" font-family=\"Times,serif\" font-size=\"14.00\">I</text>\n",
       "</g>\n",
       "<!-- EMPTY&#45;&gt;I -->\n",
       "<g id=\"edge1\" class=\"edge\">\n",
       "<title>EMPTY&#45;&gt;I</title>\n",
       "<path fill=\"none\" stroke=\"black\" d=\"M54.19,-22C62.65,-22 72.05,-22 80.6,-22\"/>\n",
       "<polygon fill=\"black\" stroke=\"black\" points=\"80.83,-25.5 90.83,-22 80.83,-18.5 80.83,-25.5\"/>\n",
       "</g>\n",
       "<!-- A -->\n",
       "<g id=\"node2\" class=\"node\">\n",
       "<title>A</title>\n",
       "<ellipse fill=\"none\" stroke=\"black\" cx=\"195\" cy=\"-56\" rx=\"18\" ry=\"18\"/>\n",
       "<text text-anchor=\"middle\" x=\"195\" y=\"-52.3\" font-family=\"Times,serif\" font-size=\"14.00\">A</text>\n",
       "</g>\n",
       "<!-- F1 -->\n",
       "<g id=\"node4\" class=\"node\">\n",
       "<title>F1</title>\n",
       "<ellipse fill=\"none\" stroke=\"black\" cx=\"288.75\" cy=\"-61\" rx=\"22.96\" ry=\"22.96\"/>\n",
       "<ellipse fill=\"none\" stroke=\"black\" cx=\"288.75\" cy=\"-61\" rx=\"27\" ry=\"27\"/>\n",
       "<text text-anchor=\"middle\" x=\"288.75\" y=\"-57.3\" font-family=\"Times,serif\" font-size=\"14.00\">F1</text>\n",
       "</g>\n",
       "<!-- A&#45;&gt;F1 -->\n",
       "<g id=\"edge3\" class=\"edge\">\n",
       "<title>A&#45;&gt;F1</title>\n",
       "<path fill=\"none\" stroke=\"black\" d=\"M213.26,-56.94C224.07,-57.53 238.42,-58.31 251.63,-59.03\"/>\n",
       "<polygon fill=\"black\" stroke=\"black\" points=\"251.72,-62.54 261.89,-59.59 252.1,-55.55 251.72,-62.54\"/>\n",
       "<text text-anchor=\"middle\" x=\"237.5\" y=\"-61.8\" font-family=\"Times,serif\" font-size=\"14.00\">&#39;&#39; </text>\n",
       "</g>\n",
       "<!-- I&#45;&gt;A -->\n",
       "<g id=\"edge2\" class=\"edge\">\n",
       "<title>I&#45;&gt;A</title>\n",
       "<path fill=\"none\" stroke=\"black\" d=\"M126.2,-28.56C138.24,-33.43 154.91,-40.18 168.71,-45.76\"/>\n",
       "<polygon fill=\"black\" stroke=\"black\" points=\"167.56,-49.07 178.14,-49.58 170.18,-42.58 167.56,-49.07\"/>\n",
       "<text text-anchor=\"middle\" x=\"152\" y=\"-44.8\" font-family=\"Times,serif\" font-size=\"14.00\">0 </text>\n",
       "</g>\n",
       "<!-- F -->\n",
       "<g id=\"node5\" class=\"node\">\n",
       "<title>F</title>\n",
       "<ellipse fill=\"none\" stroke=\"black\" cx=\"387.5\" cy=\"-22\" rx=\"18\" ry=\"18\"/>\n",
       "<ellipse fill=\"none\" stroke=\"black\" cx=\"387.5\" cy=\"-22\" rx=\"22\" ry=\"22\"/>\n",
       "<text text-anchor=\"middle\" x=\"387.5\" y=\"-18.3\" font-family=\"Times,serif\" font-size=\"14.00\">F</text>\n",
       "</g>\n",
       "<!-- F1&#45;&gt;F -->\n",
       "<g id=\"edge4\" class=\"edge\">\n",
       "<title>F1&#45;&gt;F</title>\n",
       "<path fill=\"none\" stroke=\"black\" d=\"M314.16,-51.16C327.22,-45.89 343.41,-39.37 357.15,-33.83\"/>\n",
       "<polygon fill=\"black\" stroke=\"black\" points=\"358.68,-36.99 366.65,-30 356.06,-30.49 358.68,-36.99\"/>\n",
       "<text text-anchor=\"middle\" x=\"340.5\" y=\"-45.8\" font-family=\"Times,serif\" font-size=\"14.00\">0 </text>\n",
       "</g>\n",
       "<!-- F&#45;&gt;I -->\n",
       "<g id=\"edge5\" class=\"edge\">\n",
       "<title>F&#45;&gt;I</title>\n",
       "<path fill=\"none\" stroke=\"black\" d=\"M365.12,-22C315.46,-22 192.39,-22 137.35,-22\"/>\n",
       "<polygon fill=\"black\" stroke=\"black\" points=\"137.3,-18.5 127.3,-22 137.3,-25.5 137.3,-18.5\"/>\n",
       "<text text-anchor=\"middle\" x=\"237.5\" y=\"-25.8\" font-family=\"Times,serif\" font-size=\"14.00\">&#39;&#39; </text>\n",
       "</g>\n",
       "</g>\n",
       "</svg>\n"
      ],
      "text/plain": [
       "<graphviz.dot.Digraph at 0x7f12a85dce20>"
      ]
     },
     "execution_count": 11,
     "metadata": {},
     "output_type": "execute_result"
    }
   ],
   "source": [
    "nfa4 = md2mc('''NFA    \n",
    "I : 0 -> A            \n",
    "A : '' -> F1          \n",
    "F1 : 0 -> F           \n",
    "F : '' -> I           \n",
    "''')                  \n",
    "                      \n",
    "dotObj_nfa(nfa4)"
   ]
  },
  {
   "cell_type": "markdown",
   "metadata": {
    "id": "pThRLjpFK3ac"
   },
   "source": [
    "A good name for ```nfa4``` is\n"
   ]
  },
  {
   "cell_type": "code",
   "execution_count": 12,
   "metadata": {
    "id": "MaDIz34gK3ac"
   },
   "outputs": [],
   "source": [
    "name4 = 'Starts with 0, has pairs of 0\\'s and may end with one 0'  #@param {type: \"string\"}"
   ]
  },
  {
   "cell_type": "markdown",
   "metadata": {
    "id": "5pLQMGB6K3ac"
   },
   "source": [
    "An RE for the language of ```nfa4``` is"
   ]
  },
  {
   "cell_type": "code",
   "execution_count": 13,
   "metadata": {
    "id": "CffzXbmeK3ac"
   },
   "outputs": [],
   "source": [
    "re4 = '(0 \\'\\' (\\'\\' + 0))*'  #@param {type: \"string\"}"
   ]
  },
  {
   "cell_type": "markdown",
   "metadata": {
    "id": "mMO_bynFK6Wf"
   },
   "source": [
    "## Easy to Simulate"
   ]
  },
  {
   "cell_type": "markdown",
   "metadata": {
    "id": "2QwtfAW0K9DG"
   },
   "source": [
    "With code:"
   ]
  },
  {
   "cell_type": "code",
   "execution_count": 14,
   "metadata": {
    "id": "AwlFOq4TLBJN"
   },
   "outputs": [
    {
     "name": "stdout",
     "output_type": "stream",
     "text": [
      "00000 :  True\n",
      "00001 :  True\n",
      "00010 :  True\n",
      "00011 :  True\n",
      "00100 :  True\n",
      "00101 :  True\n",
      "00110 :  True\n",
      "00111 :  True\n",
      "01000 :  False\n",
      "01001 :  False\n",
      "01010 :  False\n",
      "01011 :  False\n",
      "01100 :  False\n",
      "01101 :  False\n",
      "01110 :  False\n",
      "01111 :  False\n",
      "10000 :  True\n",
      "10001 :  True\n",
      "10010 :  True\n",
      "10011 :  True\n",
      "10100 :  True\n",
      "10101 :  True\n",
      "10110 :  True\n",
      "10111 :  True\n",
      "11000 :  False\n",
      "11001 :  False\n",
      "11010 :  False\n",
      "11011 :  False\n",
      "11100 :  False\n",
      "11101 :  False\n",
      "11110 :  False\n",
      "11111 :  False\n",
      "100000 :  True\n",
      "100001 :  True\n",
      "100010 :  True\n",
      "100011 :  True\n",
      "100100 :  True\n",
      "100101 :  True\n",
      "100110 :  True\n",
      "100111 :  True\n",
      "101000 :  False\n",
      "101001 :  False\n",
      "101010 :  False\n",
      "101011 :  False\n",
      "101100 :  False\n",
      "101101 :  False\n",
      "101110 :  False\n",
      "101111 :  False\n",
      "110000 :  True\n",
      "110001 :  True\n",
      "110010 :  True\n",
      "110011 :  True\n",
      "110100 :  True\n",
      "110101 :  True\n",
      "110110 :  True\n",
      "110111 :  True\n",
      "111000 :  False\n",
      "111001 :  False\n",
      "111010 :  False\n",
      "111011 :  False\n",
      "111100 :  False\n",
      "111101 :  False\n",
      "111110 :  False\n",
      "111111 :  False\n",
      "1000000 :  True\n",
      "1000001 :  True\n",
      "1000010 :  True\n",
      "1000011 :  True\n",
      "1000100 :  True\n",
      "1000101 :  True\n",
      "1000110 :  True\n",
      "1000111 :  True\n",
      "1001000 :  False\n",
      "1001001 :  False\n",
      "1001010 :  False\n",
      "1001011 :  False\n",
      "1001100 :  False\n",
      "1001101 :  False\n",
      "1001110 :  False\n",
      "1001111 :  False\n",
      "1010000 :  True\n",
      "1010001 :  True\n",
      "1010010 :  True\n",
      "1010011 :  True\n",
      "1010100 :  True\n",
      "1010101 :  True\n",
      "1010110 :  True\n",
      "1010111 :  True\n",
      "1011000 :  False\n",
      "1011001 :  False\n",
      "1011010 :  False\n",
      "1011011 :  False\n",
      "1011100 :  False\n",
      "1011101 :  False\n",
      "1011110 :  False\n",
      "1011111 :  False\n",
      "1100000 :  True\n",
      "1100001 :  True\n",
      "1100010 :  True\n",
      "1100011 :  True\n",
      "1100100 :  True\n",
      "1100101 :  True\n",
      "1100110 :  True\n",
      "1100111 :  True\n",
      "1101000 :  False\n",
      "1101001 :  False\n",
      "1101010 :  False\n",
      "1101011 :  False\n",
      "1101100 :  False\n",
      "1101101 :  False\n",
      "1101110 :  False\n",
      "1101111 :  False\n",
      "1110000 :  True\n",
      "1110001 :  True\n",
      "1110010 :  True\n",
      "1110011 :  True\n",
      "1110100 :  True\n",
      "1110101 :  True\n",
      "1110110 :  True\n",
      "1110111 :  True\n",
      "1111000 :  False\n",
      "1111001 :  False\n",
      "1111010 :  False\n",
      "1111011 :  False\n",
      "1111100 :  False\n",
      "1111101 :  False\n",
      "1111110 :  False\n",
      "1111111 :  False\n",
      "10000000 :  True\n",
      "10000001 :  True\n",
      "10000010 :  True\n",
      "10000011 :  True\n",
      "10000100 :  True\n",
      "10000101 :  True\n",
      "10000110 :  True\n",
      "10000111 :  True\n",
      "10001000 :  False\n",
      "10001001 :  False\n",
      "10001010 :  False\n",
      "10001011 :  False\n",
      "10001100 :  False\n",
      "10001101 :  False\n",
      "10001110 :  False\n",
      "10001111 :  False\n",
      "10010000 :  True\n",
      "10010001 :  True\n",
      "10010010 :  True\n",
      "10010011 :  True\n",
      "10010100 :  True\n",
      "10010101 :  True\n",
      "10010110 :  True\n",
      "10010111 :  True\n",
      "10011000 :  False\n",
      "10011001 :  False\n",
      "10011010 :  False\n",
      "10011011 :  False\n",
      "10011100 :  False\n",
      "10011101 :  False\n",
      "10011110 :  False\n",
      "10011111 :  False\n",
      "10100000 :  True\n",
      "10100001 :  True\n",
      "10100010 :  True\n",
      "10100011 :  True\n",
      "10100100 :  True\n",
      "10100101 :  True\n",
      "10100110 :  True\n",
      "10100111 :  True\n",
      "10101000 :  False\n",
      "10101001 :  False\n",
      "10101010 :  False\n",
      "10101011 :  False\n",
      "10101100 :  False\n",
      "10101101 :  False\n",
      "10101110 :  False\n",
      "10101111 :  False\n",
      "10110000 :  True\n",
      "10110001 :  True\n",
      "10110010 :  True\n",
      "10110011 :  True\n",
      "10110100 :  True\n",
      "10110101 :  True\n",
      "10110110 :  True\n",
      "10110111 :  True\n",
      "10111000 :  False\n",
      "10111001 :  False\n",
      "10111010 :  False\n",
      "10111011 :  False\n",
      "10111100 :  False\n",
      "10111101 :  False\n",
      "10111110 :  False\n",
      "10111111 :  False\n",
      "11000000 :  True\n",
      "11000001 :  True\n",
      "11000010 :  True\n",
      "11000011 :  True\n",
      "11000100 :  True\n",
      "11000101 :  True\n",
      "11000110 :  True\n",
      "11000111 :  True\n"
     ]
    }
   ],
   "source": [
    "nfa5 = md2mc('''NFA                                                 \n",
    "I    : 0|1 -> I                                                    \n",
    "I    : 0   -> S0                                                   \n",
    "S0   : 0|1   -> S01                                                \n",
    "S01  : 0|1   -> S010                                               \n",
    "S010 : 0|1   -> F                                                  \n",
    "''')                                                               \n",
    "                                                                   \n",
    "for i in range(200):                                               \n",
    "    into_the_depths = bin(i)[2:].zfill(5)                          \n",
    "    print(into_the_depths, ': ', accepts_nfa(nfa5, into_the_depths))"
   ]
  },
  {
   "cell_type": "markdown",
   "metadata": {
    "id": "fAPsLCFKLdas"
   },
   "source": [
    "With the Animation Panel:"
   ]
  },
  {
   "cell_type": "code",
   "execution_count": 15,
   "metadata": {},
   "outputs": [
    {
     "data": {
      "application/vnd.jupyter.widget-view+json": {
       "model_id": "ae632ddce51f4e5cb6811fd3b88e3423",
       "version_major": 2,
       "version_minor": 0
      },
      "text/plain": [
       "VBox(children=(HBox(children=(Text(value='', description='Input:', layout=Layout(width='500px'), placeholder='…"
      ]
     },
     "metadata": {},
     "output_type": "display_data"
    },
    {
     "data": {
      "text/plain": [
       "<jove.AnimateNFA.AnimateNFA at 0x7f12a85d9be0>"
      ]
     },
     "execution_count": 15,
     "metadata": {},
     "output_type": "execute_result"
    }
   ],
   "source": [
    "AnimateNFA(nfa5)"
   ]
  }
 ],
 "metadata": {
  "colab": {
   "authorship_tag": "ABX9TyPG8xC1b+8aGXSEz1tn+9H5",
   "include_colab_link": true,
   "name": "06_1_Readiness_Assurance_Test.ipynb",
   "provenance": []
  },
  "kernelspec": {
   "display_name": "Python 3",
   "language": "/gnu/store/bvd09gb8ka642jzgxd2lpqlpdp160gn0-python-wrapper-3.8.2/bin/python",
   "name": "python3"
  },
  "language_info": {
   "codemirror_mode": {
    "name": "ipython",
    "version": 3
   },
   "file_extension": ".py",
   "mimetype": "text/x-python",
   "name": "python",
   "nbconvert_exporter": "python",
   "pygments_lexer": "ipython3",
   "version": "3.8.2"
  }
 },
 "nbformat": 4,
 "nbformat_minor": 1
}
