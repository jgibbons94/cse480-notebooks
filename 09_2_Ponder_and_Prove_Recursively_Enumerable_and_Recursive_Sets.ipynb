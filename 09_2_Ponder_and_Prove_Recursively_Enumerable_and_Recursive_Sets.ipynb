{
  "nbformat": 4,
  "nbformat_minor": 0,
  "metadata": {
    "colab": {
      "name": "09_2_Ponder_and_Prove_Recursively_Enumerable_and_Recursive_Sets.ipynb",
      "provenance": [],
      "authorship_tag": "ABX9TyMtRY46BBhUxsJ0ws5XbGhS",
      "include_colab_link": true
    },
    "kernelspec": {
      "name": "python3",
      "display_name": "Python 3"
    }
  },
  "cells": [
    {
      "cell_type": "markdown",
      "metadata": {
        "id": "view-in-github",
        "colab_type": "text"
      },
      "source": [
        "<a href=\"https://colab.research.google.com/github/jgibbons94/cse480-notebooks/blob/master/09_2_Ponder_and_Prove_Recursively_Enumerable_and_Recursive_Sets.ipynb\" target=\"_parent\"><img src=\"https://colab.research.google.com/assets/colab-badge.svg\" alt=\"Open In Colab\"/></a>"
      ]
    },
    {
      "cell_type": "markdown",
      "metadata": {
        "id": "KROWXw9EqAOY"
      },
      "source": [
        "# Ponder and Prove Recursively Enumerable and Recursive Sets\n",
        "## Due: Saturday, 27 February 2021, 11:59 pm"
      ]
    },
    {
      "cell_type": "markdown",
      "metadata": {
        "id": "uLXu2I4YqK2x"
      },
      "source": [
        "## TODO Exercise 14.4.1, RE and Recursive\n"
      ]
    },
    {
      "cell_type": "markdown",
      "metadata": {
        "id": "m7clQtUHqQDq"
      },
      "source": [
        "Do the first six parts only (we'll do part 7 in class together)."
      ]
    },
    {
      "cell_type": "markdown",
      "metadata": {
        "id": "ND770ZuCq5kG"
      },
      "source": [
        "1. Describe a decider to check whether the language of a given DFA $D$ is infinite."
      ]
    },
    {
      "cell_type": "markdown",
      "metadata": {
        "id": "MRG7nNwoq_qT"
      },
      "source": [
        "The pumping lemma implies D will loop. If there is a path from the starting state to the loop to an accept state, then D's language is infinite.\r\n",
        "\r\n",
        "Therefore, a decider that checks whether the language of a given DFA D is infinite would return true if a subset of the language starting somewhere in a pump is not empty. \r\n",
        "\r\n",
        "Therefore, a decider that checks whether the language of a given DFA D is infinite would traverse the graph with and keep track of the nodes it has visited. It would also follow the following rules for a given state:\r\n",
        "1. If it has visited a given node before, it has discovered a loop. Change to state 2.\r\n",
        "2.  It checks if any of the nodes in the loop is an accept state. If so, it returns true. If it can continue deeper into the graph out of the loop, change to state 3. Otherwise, change to state 1 when it backs out of the end of the loop.  \r\n",
        "3. Continue keeping track of nodes it has visited, just like rule 1, except also immediately return true if it encounters an accept state."
      ]
    },
    {
      "cell_type": "markdown",
      "metadata": {
        "id": "5rVqkMA0kWFT"
      },
      "source": [
        "2. Describe a decider to check whether a linear bounded automaton $L$ working on an input $w$ will go into an infinite loop."
      ]
    },
    {
      "cell_type": "markdown",
      "metadata": {
        "id": "CzHz1MFfkWFY"
      },
      "source": [
        "Keep track of all states in a list. After each step the LBA takes, if the list contains the LBA's current state, contents of the tape, and header position relative to the start of the tape, return true. Otherwise, push the LBA's state, the current contents of the tape, and the position of the header relative to the start of the tape to the list. Continue until the LBA halts (the decider then returns false) or until there is a duplicate in the list (the decider then returns true)."
      ]
    },
    {
      "cell_type": "markdown",
      "metadata": {
        "id": "PBAwrOrkkWk7"
      },
      "source": [
        "3. Describe an enumerator for the language $Halt_{TM}$ similar to how the enumerator for $A_{TM}$ was designed."
      ]
    },
    {
      "cell_type": "markdown",
      "metadata": {
        "id": "BNHY7u_0kWk8"
      },
      "source": [
        "* Keep listing pairs (A,B) of strings from $\\Sigma^*$ on an “internal tape.”\r\n",
        "* Keep checking whether A is a Turing machine description (e.g., our\r\n",
        "markdown language for the TM has a parser; one can run this parser\r\n",
        "and see if it accepts A). If so, A happens to be a Turing machine\r\n",
        "description.\r\n",
        "* Run Turing machine A on B, treating B as its input. Again, do not run\r\n",
        "to completion; instead, engage in a dovetailed execution with all other\r\n",
        "TMs and inputs meanwhile being enumerated internally.\r\n",
        "* When the dovetailed simulation finds an (A,B) pair such that A halts on B, it lists the (A, B) pair on the output tape.\r\n",
        "* This listing will produce every (M,w) such that M accepts w.\r\n",
        "* The existence of this enumerator means that Halt_TM is RE."
      ]
    },
    {
      "cell_type": "markdown",
      "metadata": {
        "id": "8Jeqy8I_kWrR"
      },
      "source": [
        "4. Describe an enumerator for the language $\\overline{L_{UnivCFG}}$."
      ]
    },
    {
      "cell_type": "markdown",
      "metadata": {
        "id": "t9SwwfftkWrS"
      },
      "source": [
        "* Keep listing grammars (G) from the set of all CFGs on an “internal tape.”\r\n",
        "* When the dovetailed simulation finds a G such that L(G) is not $\\Sigma^*$, it lists the G on the output tape.\r\n",
        "* This listing will produce every G such that L(G) is not $\\Sigma^*$."
      ]
    },
    {
      "cell_type": "markdown",
      "metadata": {
        "id": "98rHo7ggkWwM"
      },
      "source": [
        "5. Describe a semi-decider for whether or not a grammar $G_{1}$ has a language that is not contained in the language of another grammar $G_{2}$. That is, we must be able to enumerate all such pairs\n",
        "$(G_{1}, G_{2})$ such that $L(G_{1}) \\not \\subseteq L(G_{2})$."
      ]
    },
    {
      "cell_type": "markdown",
      "metadata": {
        "id": "tGMfPWVSkWwN"
      },
      "source": [
        "For every string in $L(G_1)$, find it in $L(G2)$. If such a string does not exist, then\r\n",
        "$(G_{1}, G_{2})$ such that $L(G_{1}) \\not \\subseteq L(G_{2})$."
      ]
    },
    {
      "cell_type": "markdown",
      "metadata": {
        "id": "55N7qScokW2I"
      },
      "source": [
        "6. Suppose someone claims to have a decider for $L(G_{1}) \\subseteq L(G_{2})$. Demonstrate how to build a reduction proof from $UnivCFG$. Draw a diagram similar to Figure 14.1 explaining your proof."
      ]
    },
    {
      "cell_type": "markdown",
      "metadata": {
        "id": "EcOgH0dGhWXP"
      },
      "source": [
        "1. We know that $L_eqCFG$ and $G_Univ$ are impossible.\r\n",
        "\r\n",
        "2. Show that $L_eqCFG$ or $G_Univ$ reduce to $L(G_{1}) \\subseteq L(G_{2}$\r\n",
        "- Assume the decider in question is called subsetG(G1, G2) for reference purposes.\r\n",
        "-- ask the user for a grammar:\r\n",
        "“May I please have your grammar – call it GUser; I will test for you whether it has a universal language.”\r\n",
        "* Behind the scenes, construct the Turing machine: subsetG(Guser,Univ) where GUniv is a grammar for the universal language. Notice that the second argument is the user-given grammar.\r\n",
        "* If subsetG determines that the grammars have the same language, it is indirectly answering yes – GUser has a universal\r\n",
        "language—this is known to be impossible.\r\n",
        "– Hence, subsetG cannot exist!\r\n",
        "\r\n",
        "3. Conclude that $L(G_{1}) \\subseteq L(G_{2})$ is impossible.\r\n",
        "![Capture.PNG](data:image/png;base64,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)"
      ]
    },
    {
      "cell_type": "markdown",
      "metadata": {
        "id": "b1UH0-3-OPVA"
      },
      "source": [
        "What [...] is mathematics? The answer, it appears, is that any argument which is carried out with sufficient precision is mathematical, and the reason that your friends and ours cannot understand mathematics is not because they have no head for figures, but because they are unable to **achieve the degree of concentration required to follow a moderately involved sequence of inferences**.\n"
      ]
    },
    {
      "cell_type": "markdown",
      "metadata": {
        "id": "iPiO58ZohUMy"
      },
      "source": [
        "7. In 15.2.2, we will argue that $L_{AmbCFG}$ is not recursive. Assuming this result, argue that $\\overline{L_{AmbCFG}}$ is not RE.\n"
      ]
    },
    {
      "cell_type": "markdown",
      "metadata": {
        "id": "Y5s-HiojkW2J"
      },
      "source": [
        "Recall Theorem 14.2.3:\n",
        "\n",
        "If a language $L$ and its complement $\\overline{L}$ are both RE, then $L$ is recursive.\n",
        "\n",
        "We get to assume that $L_{AmbCFG}$ is not recursive.\n",
        "\n",
        "Therefore, by the contrapositive of the Theorem, we know that it is NOT the case that both \"$L_{AmbCFG}$ is RE\" and \"its complement $\\overline{L_{AmbCFG}}$ is RE\" can be true.\n",
        "\n",
        "By DeMorgan's Law we translate that into the equivalent statement:\n",
        "\n",
        "Either $L_{AmbCFG}$ is not RE, or $\\overline{L_{AmbCFG}}$ is not RE.\n",
        "\n",
        "In section 14.3.4 on pages 218 and 219, $L_{AmbCFG}$ is proven to be RE.\n",
        "\n",
        "Therefore, $\\overline{L_{AmbCFG}}$ must be the one that is not RE."
      ]
    }
  ]
}
