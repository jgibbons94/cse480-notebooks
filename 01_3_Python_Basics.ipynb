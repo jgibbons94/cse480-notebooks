{
 "cells": [
  {
   "cell_type": "markdown",
   "metadata": {
    "id": "lsxi0E4t-dus"
   },
   "source": [
    "# First let's import, then look for the assignment below"
   ]
  },
  {
   "cell_type": "code",
   "execution_count": 1,
   "metadata": {
    "colab": {
     "base_uri": "https://localhost:8080/"
    },
    "id": "5BfeePaj-du2",
    "outputId": "9025629c-d668-4166-896d-deb474c826a5"
   },
   "outputs": [
    {
     "name": "stdout",
     "output_type": "stream",
     "text": [
      "You may use any of these help commands:\n",
      "help(lphi)\n",
      "help(lunit)\n",
      "help(lcat)\n",
      "help(lexp)\n",
      "help(lunion)\n",
      "help(lstar)\n",
      "help(srev)\n",
      "help(lrev)\n",
      "help(shomo)\n",
      "help(lhomo)\n",
      "help(powset)\n",
      "help(lint)\n",
      "help(lsymdiff)\n",
      "help(lminus)\n",
      "help(lissubset)\n",
      "help(lissuperset)\n",
      "help(lcomplem)\n",
      "help(product)\n",
      "help(nthnumeric)\n",
      "\n"
     ]
    }
   ],
   "source": [
    "#~~~~~~~~~~~~~~~~~~~~~~~~~~~~~~~~~~~~~~~~~~~~~~~~~~~~~~~\n",
    "import sys\n",
    "\n",
    "# -- Detect if in Own Install or in Colab\n",
    "try:\n",
    "    import google.colab\n",
    "    OWN_INSTALL = False\n",
    "except:\n",
    "    OWN_INSTALL = True\n",
    "    \n",
    "if OWN_INSTALL:\n",
    "    \n",
    "  sys.path[0:0] = ['../../../../..',  '../../../../../3rdparty',  \n",
    "                   '../../../..',  '../../../../3rdparty',  \n",
    "                   '../../..',     '../../../3rdparty', \n",
    "                   '../..',        '../../3rdparty',\n",
    "                   '..',           '../3rdparty' ]\n",
    "\n",
    "else: # In colab\n",
    "  ! if [ ! -d Jove ]; then git clone https://github.com/ganeshutah/Jove Jove; fi\n",
    "  sys.path.append('./Jove')\n",
    "  sys.path.append('./Jove/jove')\n",
    "\n",
    "# -- common imports --\n",
    "from jove.LangDef   import *\n",
    "#~~~~~~~~~~~~~~~~~~~~~~~~~~~~~~~~~~~~~~~~~~~~~~~~~~~~~~~"
   ]
  },
  {
   "cell_type": "markdown",
   "metadata": {
    "id": "VbbEVsz3-du3"
   },
   "source": [
    "# Week 01 Notebook 2 on Python Basics"
   ]
  },
  {
   "cell_type": "markdown",
   "metadata": {
    "id": "rZjg1Jrz-du4"
   },
   "source": [
    "## Define a regular language via Python's set builder (set comprehension) syntax\n",
    "\n",
    "<font size=\"4\"> \n",
    "    \n",
    "Recall from Chapter-1 that sets of strings of the form \"any number of $a$'s followed by any number of $b$'s followed by any number of $c$'s are regular languages.\n",
    "\n",
    "* Here, for instance, is a regular language\n",
    "    \n",
    "    $$ \\{ a^i b^j c^k \\;:\\; i,j,k \\ge 0 \\}$$\n",
    "  \n",
    "\n",
    "**Task for you**:\n",
    "\n",
    "* Define the above set in Python, limiting $i,j,k$ to be in $\\{0, \\ldots, 4\\}$.\n",
    "\n",
    "**IMPORTANT NOTE**: ALL finite sets are regular. Thus by truncating the set to a finite size, we always get a regular language. The purpose of truncation is ONLY to make sure that the printing stops. What we are really referring to as a regular language of interest is the mathematical language\n",
    "\n",
    "   $$ \\{ a^i b^j c^k \\;:\\; i,j,k \\ge 0 \\}$$\n",
    "    \n",
    "    \n",
    "</font>  "
   ]
  },
  {
   "cell_type": "code",
   "execution_count": 2,
   "metadata": {
    "colab": {
     "base_uri": "https://localhost:8080/"
    },
    "id": "6iO3olcx-du5",
    "outputId": "6d7262aa-2b89-4f75-f378-ee574b8384f2"
   },
   "outputs": [
    {
     "data": {
      "text/plain": [
       "{'',\n",
       " 'a',\n",
       " 'aa',\n",
       " 'aaa',\n",
       " 'aaaa',\n",
       " 'aaaab',\n",
       " 'aaaabb',\n",
       " 'aaaabbb',\n",
       " 'aaaabbbb',\n",
       " 'aaaabbbbc',\n",
       " 'aaaabbbbcc',\n",
       " 'aaaabbbbccc',\n",
       " 'aaaabbbbcccc',\n",
       " 'aaaabbbc',\n",
       " 'aaaabbbcc',\n",
       " 'aaaabbbccc',\n",
       " 'aaaabbbcccc',\n",
       " 'aaaabbc',\n",
       " 'aaaabbcc',\n",
       " 'aaaabbccc',\n",
       " 'aaaabbcccc',\n",
       " 'aaaabc',\n",
       " 'aaaabcc',\n",
       " 'aaaabccc',\n",
       " 'aaaabcccc',\n",
       " 'aaaac',\n",
       " 'aaaacc',\n",
       " 'aaaaccc',\n",
       " 'aaaacccc',\n",
       " 'aaab',\n",
       " 'aaabb',\n",
       " 'aaabbb',\n",
       " 'aaabbbb',\n",
       " 'aaabbbbc',\n",
       " 'aaabbbbcc',\n",
       " 'aaabbbbccc',\n",
       " 'aaabbbbcccc',\n",
       " 'aaabbbc',\n",
       " 'aaabbbcc',\n",
       " 'aaabbbccc',\n",
       " 'aaabbbcccc',\n",
       " 'aaabbc',\n",
       " 'aaabbcc',\n",
       " 'aaabbccc',\n",
       " 'aaabbcccc',\n",
       " 'aaabc',\n",
       " 'aaabcc',\n",
       " 'aaabccc',\n",
       " 'aaabcccc',\n",
       " 'aaac',\n",
       " 'aaacc',\n",
       " 'aaaccc',\n",
       " 'aaacccc',\n",
       " 'aab',\n",
       " 'aabb',\n",
       " 'aabbb',\n",
       " 'aabbbb',\n",
       " 'aabbbbc',\n",
       " 'aabbbbcc',\n",
       " 'aabbbbccc',\n",
       " 'aabbbbcccc',\n",
       " 'aabbbc',\n",
       " 'aabbbcc',\n",
       " 'aabbbccc',\n",
       " 'aabbbcccc',\n",
       " 'aabbc',\n",
       " 'aabbcc',\n",
       " 'aabbccc',\n",
       " 'aabbcccc',\n",
       " 'aabc',\n",
       " 'aabcc',\n",
       " 'aabccc',\n",
       " 'aabcccc',\n",
       " 'aac',\n",
       " 'aacc',\n",
       " 'aaccc',\n",
       " 'aacccc',\n",
       " 'ab',\n",
       " 'abb',\n",
       " 'abbb',\n",
       " 'abbbb',\n",
       " 'abbbbc',\n",
       " 'abbbbcc',\n",
       " 'abbbbccc',\n",
       " 'abbbbcccc',\n",
       " 'abbbc',\n",
       " 'abbbcc',\n",
       " 'abbbccc',\n",
       " 'abbbcccc',\n",
       " 'abbc',\n",
       " 'abbcc',\n",
       " 'abbccc',\n",
       " 'abbcccc',\n",
       " 'abc',\n",
       " 'abcc',\n",
       " 'abccc',\n",
       " 'abcccc',\n",
       " 'ac',\n",
       " 'acc',\n",
       " 'accc',\n",
       " 'acccc',\n",
       " 'b',\n",
       " 'bb',\n",
       " 'bbb',\n",
       " 'bbbb',\n",
       " 'bbbbc',\n",
       " 'bbbbcc',\n",
       " 'bbbbccc',\n",
       " 'bbbbcccc',\n",
       " 'bbbc',\n",
       " 'bbbcc',\n",
       " 'bbbccc',\n",
       " 'bbbcccc',\n",
       " 'bbc',\n",
       " 'bbcc',\n",
       " 'bbccc',\n",
       " 'bbcccc',\n",
       " 'bc',\n",
       " 'bcc',\n",
       " 'bccc',\n",
       " 'bcccc',\n",
       " 'c',\n",
       " 'cc',\n",
       " 'ccc',\n",
       " 'cccc'}"
      ]
     },
     "execution_count": 2,
     "metadata": {},
     "output_type": "execute_result"
    }
   ],
   "source": [
    "# The above regular language truncated to a small size, below\n",
    "A_reg_Language = {'a' * i + 'b' * j + 'c' * k for i in range(5) for j in range(5) for k in range(5)}\n",
    "\n",
    "# Print its contents\n",
    "A_reg_Language"
   ]
  },
  {
   "cell_type": "markdown",
   "metadata": {
    "id": "smd833tM-du5"
   },
   "source": [
    "## Define a context-free language via Python's set builder (set comprehension) syntax\n",
    "\n",
    "<font size=\"4\"> \n",
    "    \n",
    "Recall from Chapter-1 that sets of strings of the form \"any number of $a$'s followed by the same number of $b$'s and $c$'s is context-free.\n",
    "    \n",
    "* Here, for instance, is a context-free language\n",
    "    \n",
    "    $$ \\{ a^i b^j c^j \\;:\\; i,j \\ge 0 \\}$$\n",
    "     \n",
    "\n",
    "**Task for you**:\n",
    "\n",
    "* Define the above set in Python, again limiting $i,j,k$ to be in $\\{0, \\ldots, 4\\}$.\n",
    "\n",
    "**IMPORTANT NOTE**: ALL finite sets are regular. Thus by truncating the set to a finite size, we always get a regular language. The purpose of truncation is ONLY to make sure that the printing stops. What we are really referring to as a **context-free language** of interest is the mathematical language\n",
    "\n",
    "   $$ \\{ a^i b^j c^j \\;:\\; i,j \\ge 0 \\}$$\n",
    "    \n",
    "    \n",
    "</font>  "
   ]
  },
  {
   "cell_type": "code",
   "execution_count": 3,
   "metadata": {
    "colab": {
     "base_uri": "https://localhost:8080/"
    },
    "id": "iWv45Uqf-du9",
    "outputId": "29582834-c18d-4e7f-8d11-d575b3cd98ed"
   },
   "outputs": [
    {
     "data": {
      "text/plain": [
       "{'',\n",
       " 'aaaabbbb',\n",
       " 'aaaabbbbc',\n",
       " 'aaaabbbbcc',\n",
       " 'aaaabbbbccc',\n",
       " 'aaaabbbbcccc',\n",
       " 'aaabbb',\n",
       " 'aaabbbc',\n",
       " 'aaabbbcc',\n",
       " 'aaabbbccc',\n",
       " 'aaabbbcccc',\n",
       " 'aabb',\n",
       " 'aabbc',\n",
       " 'aabbcc',\n",
       " 'aabbccc',\n",
       " 'aabbcccc',\n",
       " 'ab',\n",
       " 'abc',\n",
       " 'abcc',\n",
       " 'abccc',\n",
       " 'abcccc',\n",
       " 'c',\n",
       " 'cc',\n",
       " 'ccc',\n",
       " 'cccc'}"
      ]
     },
     "execution_count": 3,
     "metadata": {},
     "output_type": "execute_result"
    }
   ],
   "source": [
    "# Your Python definition of a context-free language, below\n",
    "A_context_free_language = { 'a' * i + 'b' * j + 'c' * j for i in range(5) for j in range(5)}\n",
    "\n",
    "# Print its contents\n",
    "A_context_free_language "
   ]
  },
  {
   "cell_type": "markdown",
   "metadata": {
    "id": "ndksDttp-du-"
   },
   "source": [
    "## Define another context-free language  \n",
    "\n",
    "<font size=\"4\"> \n",
    "    \n",
    "In Chapter 4, we will study the Pumping Lemma to argue that this language is not context-free:\n",
    "    $$L_{if} = \\{ a^i b^j c^k \\;:\\; {\\rm if}\\; (i=2)\\; {\\rm then}\\; (j=k) \\}$$\n",
    "    \n",
    "\n",
    "\n",
    "**Task for you**:\n",
    "\n",
    "* Define $L_{if}$ in Python, again limiting $i,j,k$ to be in $\\{0, \\ldots, 4\\}$.\n",
    "* List all the strings where the condition $(i=2)$ is met. How many such strings are there?\n",
    "    \n",
    "**IMPORTANT NOTE**: ALL finite sets are regular. Thus by truncating the set to a finite size, we always get a regular language. The purpose of truncation is ONLY to make sure that the printing stops. What we are really referring to as a **context-free language** of interest is the mathematical language\n",
    "\n",
    "   \n",
    "  $$L_{if} = \\{ a^i b^j c^k \\;:\\; {\\rm if}\\; (i=2)\\; {\\rm then}\\; (j=k) \\}$$\n",
    "    \n",
    "    \n",
    "</font>  "
   ]
  },
  {
   "cell_type": "code",
   "execution_count": 4,
   "metadata": {
    "colab": {
     "base_uri": "https://localhost:8080/"
    },
    "id": "xBa4sW6C-du_",
    "outputId": "fb3fd3ba-9110-4b74-856c-3abc654254f2"
   },
   "outputs": [
    {
     "data": {
      "text/plain": [
       "{'',\n",
       " 'a',\n",
       " 'aa',\n",
       " 'aaa',\n",
       " 'aaaa',\n",
       " 'aaaab',\n",
       " 'aaaabb',\n",
       " 'aaaabbb',\n",
       " 'aaaabbbb',\n",
       " 'aaaabbbbc',\n",
       " 'aaaabbbbcc',\n",
       " 'aaaabbbbccc',\n",
       " 'aaaabbbbcccc',\n",
       " 'aaaabbbc',\n",
       " 'aaaabbbcc',\n",
       " 'aaaabbbccc',\n",
       " 'aaaabbbcccc',\n",
       " 'aaaabbc',\n",
       " 'aaaabbcc',\n",
       " 'aaaabbccc',\n",
       " 'aaaabbcccc',\n",
       " 'aaaabc',\n",
       " 'aaaabcc',\n",
       " 'aaaabccc',\n",
       " 'aaaabcccc',\n",
       " 'aaaac',\n",
       " 'aaaacc',\n",
       " 'aaaaccc',\n",
       " 'aaaacccc',\n",
       " 'aaab',\n",
       " 'aaabb',\n",
       " 'aaabbb',\n",
       " 'aaabbbb',\n",
       " 'aaabbbbc',\n",
       " 'aaabbbbcc',\n",
       " 'aaabbbbccc',\n",
       " 'aaabbbbcccc',\n",
       " 'aaabbbc',\n",
       " 'aaabbbcc',\n",
       " 'aaabbbccc',\n",
       " 'aaabbbcccc',\n",
       " 'aaabbc',\n",
       " 'aaabbcc',\n",
       " 'aaabbccc',\n",
       " 'aaabbcccc',\n",
       " 'aaabc',\n",
       " 'aaabcc',\n",
       " 'aaabccc',\n",
       " 'aaabcccc',\n",
       " 'aaac',\n",
       " 'aaacc',\n",
       " 'aaaccc',\n",
       " 'aaacccc',\n",
       " 'aabbbbcccc',\n",
       " 'aabbbccc',\n",
       " 'aabbcc',\n",
       " 'aabc',\n",
       " 'ab',\n",
       " 'abb',\n",
       " 'abbb',\n",
       " 'abbbb',\n",
       " 'abbbbc',\n",
       " 'abbbbcc',\n",
       " 'abbbbccc',\n",
       " 'abbbbcccc',\n",
       " 'abbbc',\n",
       " 'abbbcc',\n",
       " 'abbbccc',\n",
       " 'abbbcccc',\n",
       " 'abbc',\n",
       " 'abbcc',\n",
       " 'abbccc',\n",
       " 'abbcccc',\n",
       " 'abc',\n",
       " 'abcc',\n",
       " 'abccc',\n",
       " 'abcccc',\n",
       " 'ac',\n",
       " 'acc',\n",
       " 'accc',\n",
       " 'acccc',\n",
       " 'b',\n",
       " 'bb',\n",
       " 'bbb',\n",
       " 'bbbb',\n",
       " 'bbbbc',\n",
       " 'bbbbcc',\n",
       " 'bbbbccc',\n",
       " 'bbbbcccc',\n",
       " 'bbbc',\n",
       " 'bbbcc',\n",
       " 'bbbccc',\n",
       " 'bbbcccc',\n",
       " 'bbc',\n",
       " 'bbcc',\n",
       " 'bbccc',\n",
       " 'bbcccc',\n",
       " 'bc',\n",
       " 'bcc',\n",
       " 'bccc',\n",
       " 'bcccc',\n",
       " 'c',\n",
       " 'cc',\n",
       " 'ccc',\n",
       " 'cccc'}"
      ]
     },
     "execution_count": 4,
     "metadata": {},
     "output_type": "execute_result"
    }
   ],
   "source": [
    "# Your Python definition of the language Lif below\n",
    "Lif = { 'a' * i + 'b' * j + 'c' * k for i in range(5) for j in range(5) for k in ({j} if i == 2 else range(5))}\n",
    "\n",
    "# print Lif\n",
    "\n",
    "Lif\n"
   ]
  },
  {
   "cell_type": "markdown",
   "metadata": {
    "id": "Z90jInrr-dvA"
   },
   "source": [
    "# Number of strings where (i=2) is met, and which are they?\n",
    "\n",
    "There are 5 strings where (i=2) is met \n",
    "\n",
    "# The strings where i = 2 is met are these:\n",
    "\n",
    " 'aa',\n",
    " 'aabbbbcccc',\n",
    " 'aabbbccc',\n",
    " 'aabbcc',\n",
    " 'aabc',\n",
    " "
   ]
  },
  {
   "cell_type": "markdown",
   "metadata": {
    "id": "79AGOHdl-dvB"
   },
   "source": [
    "# END"
   ]
  }
 ],
 "metadata": {
  "colab": {
   "name": "01_3_Python_Basics.ipynb",
   "provenance": []
  },
  "kernelspec": {
   "display_name": "Python 3",
   "language": "/gnu/store/h8jw9qhyfp6fm6nb3cgh4335qhr31wfz-python-wrapper-3.8.2/bin/python",
   "name": "python3"
  },
  "language_info": {
   "codemirror_mode": {
    "name": "ipython",
    "version": 3
   },
   "file_extension": ".py",
   "mimetype": "text/x-python",
   "name": "python",
   "nbconvert_exporter": "python",
   "pygments_lexer": "ipython3",
   "version": "3.8.2"
  }
 },
 "nbformat": 4,
 "nbformat_minor": 1
}
