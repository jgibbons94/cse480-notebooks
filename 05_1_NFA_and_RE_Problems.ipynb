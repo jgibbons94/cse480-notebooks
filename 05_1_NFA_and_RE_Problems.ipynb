{
 "cells": [
  {
   "cell_type": "markdown",
   "metadata": {
    "id": "F6evhB5n1FaV"
   },
   "source": [
    "# Four Problems for Week 05's Assignment \n",
    "\n",
    "Problem 1:\n",
    "\n",
    "    a. take a given nfa called nfa1\n",
    "    \n",
    "    b. convert it to dfa1 \n",
    "    \n",
    "    c. reverse nfa1 by hand obtaining rnfa1\n",
    "    \n",
    "    d. inspect and conclude (listing six paths) that rnfa1 is indeed a reverse of nfa1\n",
    "\n",
    "Problem 2:\n",
    "\n",
    "    a. learn about a few DFA utilities such as totalize_dfa and dotObj_dfa_w_bh\n",
    "    \n",
    "    b. extract an RE by inspecting nfa1 and write it down as RE1_hand\n",
    "    \n",
    "    c. reverse RE1_hand by inspection, writing the result down as Rev_RE1_hand\n",
    "    \n",
    "    d. Understand the function del_gnfa_states via its help command\n",
    "    \n",
    "\n",
    "Problem 3:\n",
    "\n",
    "    a. obtain a GNFA for rnfa1, calling it grnfa1\n",
    "    \n",
    "    b. apply two elimination orders for states on grnfa1\n",
    "    \n",
    "    c. obtain Rev_RE1 and Rev_RE2\n",
    "    \n",
    "    d. check that Rev_RE1 and Rev_RE2 and Rev_RE1_hand are all isomorphic\n",
    "    \n",
    "\n",
    "Problem 4:\n",
    "\n",
    "    a. print the NFA for Rev_RE2 and answer the stated questions.\n",
    "    \n",
    "    b. print the NFA for Rev_RE1_hand and answer the stated questions. "
   ]
  },
  {
   "cell_type": "markdown",
   "metadata": {
    "id": "1an9nmMw1Fac",
    "run_control": {
     "frozen": false,
     "read_only": false
    }
   },
   "source": [
    "# Imports \n"
   ]
  },
  {
   "cell_type": "code",
   "execution_count": null,
   "metadata": {
    "colab": {
     "base_uri": "https://localhost:8080/"
    },
    "id": "y863_jSu1Fad",
    "outputId": "1c6859d8-7c0d-45c8-be0c-7717b19f7a9d",
    "run_control": {
     "frozen": false,
     "read_only": false
    },
    "scrolled": true
   },
   "outputs": [
    {
     "name": "stdout",
     "output_type": "stream",
     "text": [
      "Cloning into 'Jove'...\n",
      "remote: Enumerating objects: 4634, done.\u001b[K\n",
      "remote: Total 4634 (delta 0), reused 0 (delta 0), pack-reused 4634\u001b[K\n",
      "Receiving objects: 100% (4634/4634), 7.38 MiB | 22.75 MiB/s, done.\n",
      "Resolving deltas: 100% (3005/3005), done.\n",
      "You may use any of these help commands:\n",
      "help(ResetStNum)\n",
      "help(NxtStateStr)\n",
      "\n",
      "You may use any of these help commands:\n",
      "help(md2mc)\n",
      ".. and if you want to dig more, then ..\n",
      "help(default_line_attr)\n",
      "help(length_ok_input_items)\n",
      "help(union_line_attr_list_fld)\n",
      "help(extend_rsltdict)\n",
      "help(form_delta)\n",
      "help(get_machine_components)\n",
      "\n",
      "You may use any of these help commands:\n",
      "help(mkp_dfa)\n",
      "help(mk_dfa)\n",
      "help(totalize_dfa)\n",
      "help(addtosigma_delta)\n",
      "help(step_dfa)\n",
      "help(run_dfa)\n",
      "help(accepts_dfa)\n",
      "help(comp_dfa)\n",
      "help(union_dfa)\n",
      "help(intersect_dfa)\n",
      "help(pruneUnreach)\n",
      "help(iso_dfa)\n",
      "help(langeq_dfa)\n",
      "help(same_status)\n",
      "help(h_langeq_dfa)\n",
      "help(fixptDist)\n",
      "help(min_dfa)\n",
      "help(pairFR)\n",
      "help(state_combos)\n",
      "help(sepFinNonFin)\n",
      "help(bash_eql_classes)\n",
      "help(listminus)\n",
      "help(bash_1)\n",
      "help(mk_rep_eqc)\n",
      "help(F_of)\n",
      "help(rep_of_s)\n",
      "help(q0_of)\n",
      "help(Delta_of)\n",
      "help(mk_state_eqc_name)\n",
      "\n",
      "You may use any of these help commands:\n",
      "help(mk_nfa)\n",
      "help(totalize_nfa)\n",
      "help(step_nfa)\n",
      "help(run_nfa)\n",
      "help(ec_step_nfa)\n",
      "help(Eclosure)\n",
      "help(Echelp)\n",
      "help(accepts_nfa)\n",
      "help(nfa2dfa)\n",
      "help(n2d)\n",
      "help(inSets)\n",
      "help(rev_dfa)\n",
      "help(min_dfa_brz)\n",
      "\n",
      "You may use any of these help commands:\n",
      "help(RE2Str)\n",
      "help(mk_gnfa)\n",
      "help(mk_gnfa_from_D)\n",
      "help(dfa2nfa)\n",
      "help(del_gnfa_states)\n",
      "help(gnfa_w_REStr)\n",
      "help(del_one_gnfa_state)\n",
      "help(Edges_Exist_Via)\n",
      "help(choose_state_to_del)\n",
      "help(form_alt_RE)\n",
      "help(form_concat_RE)\n",
      "help(form_kleene_RE)\n",
      "\n",
      "You may use any of these help commands:\n",
      "help(re2nfa)\n",
      "\n",
      " \"help(AnimateNFA)\" gives you info on how to use animations with NFA \n"
     ]
    }
   ],
   "source": [
    "#~~~~~~~~~~~~~~~~~~~~~~~~~~~~~~~~~~~~~~~~~~~~~~~~~~~~~~~\n",
    "import sys\n",
    "\n",
    "# -- Detect if in Own Install or in Colab\n",
    "try:\n",
    "    import google.colab\n",
    "    OWN_INSTALL = False\n",
    "except:\n",
    "    OWN_INSTALL = True\n",
    "    \n",
    "if OWN_INSTALL:\n",
    "  \n",
    "  sys.path[0:0] = ['../../../../..',  '../../../../../3rdparty',  \n",
    "                   '../../../..',  '../../../../3rdparty',  \n",
    "                   '../../..',     '../../../3rdparty', \n",
    "                   '../..',        '../../3rdparty',\n",
    "                   '..',           '../3rdparty',\n",
    "                   '../Jove',      '../Jove/jove']\n",
    "\n",
    "else: # In colab\n",
    "  ! if [ ! -d Jove ]; then git clone https://github.com/ganeshutah/Jove Jove; fi\n",
    "  sys.path.append('./Jove')\n",
    "  sys.path.append('./Jove/jove')\n",
    "\n",
    "# -- common imports --\n",
    "from jove.DotBashers import *\n",
    "from jove.Def_md2mc  import *\n",
    "from jove.Def_NFA    import *\n",
    "from jove.Def_DFA    import *\n",
    "from jove.Def_NFA2RE import *\n",
    "from jove.Def_RE2NFA import *\n",
    "from jove.AnimateNFA import *\n",
    "#~~~~~~~~~~~~~~~~~~~~~~~~~~~~~~~~~~~~~~~~~~~~~~~~~~~~~~~"
   ]
  },
  {
   "cell_type": "markdown",
   "metadata": {
    "id": "BzOCjuwm1Fae"
   },
   "source": [
    "## Problem 1: "
   ]
  },
  {
   "cell_type": "code",
   "execution_count": null,
   "metadata": {
    "colab": {
     "base_uri": "https://localhost:8080/"
    },
    "id": "tnc6tDJT1Faf",
    "outputId": "0615bdb2-3fd4-47a2-d1fe-f8c223268799"
   },
   "outputs": [
    {
     "name": "stderr",
     "output_type": "stream",
     "text": [
      "Generating LALR tables\n"
     ]
    }
   ],
   "source": [
    "# Given NFA\n",
    "# RE is (a(bs*(d+f)+c)+''s*(f+d))\n",
    "nfa1 = md2mc('''NFA\n",
    "I1 : '' -> B\n",
    "I1 : a  -> I2\n",
    "\n",
    "I2 : c  -> F3\n",
    "I2 : b  -> B\n",
    "\n",
    "B : s  -> B\n",
    "B : d  -> F4\n",
    "B : f  -> F3\n",
    "\n",
    "\n",
    "''')\n"
   ]
  },
  {
   "cell_type": "code",
   "execution_count": null,
   "metadata": {
    "id": "2R6N19N3CUAp"
   },
   "outputs": [],
   "source": [
    ""
   ]
  },
  {
   "cell_type": "code",
   "execution_count": null,
   "metadata": {
    "colab": {
     "base_uri": "https://localhost:8080/",
     "height": 202
    },
    "id": "kV7jblE21Fag",
    "outputId": "02ad6a16-31e2-4a3a-b5e0-1f6fa74d198e"
   },
   "outputs": [
    {
     "data": {
      "image/svg+xml": [
       "<?xml version=\"1.0\" encoding=\"UTF-8\" standalone=\"no\"?>\n",
       "<!DOCTYPE svg PUBLIC \"-//W3C//DTD SVG 1.1//EN\"\n",
       " \"http://www.w3.org/Graphics/SVG/1.1/DTD/svg11.dtd\">\n",
       "<!-- Generated by graphviz version 2.40.1 (20161225.0304)\n",
       " -->\n",
       "<!-- Title: %3 Pages: 1 -->\n",
       "<svg width=\"402pt\" height=\"136pt\"\n",
       " viewBox=\"0.00 0.00 401.99 135.60\" xmlns=\"http://www.w3.org/2000/svg\" xmlns:xlink=\"http://www.w3.org/1999/xlink\">\n",
       "<g id=\"graph0\" class=\"graph\" transform=\"scale(1 1) rotate(0) translate(4 131.5963)\">\n",
       "<title>%3</title>\n",
       "<polygon fill=\"#ffffff\" stroke=\"transparent\" points=\"-4,4 -4,-131.5963 397.9896,-131.5963 397.9896,4 -4,4\"/>\n",
       "<!-- EMPTY -->\n",
       "<g id=\"node1\" class=\"node\">\n",
       "<title>EMPTY</title>\n",
       "</g>\n",
       "<!-- I2 -->\n",
       "<g id=\"node2\" class=\"node\">\n",
       "<title>I2</title>\n",
       "<ellipse fill=\"none\" stroke=\"#000000\" cx=\"193.545\" cy=\"-81.7982\" rx=\"18.6979\" ry=\"18.6979\"/>\n",
       "<text text-anchor=\"middle\" x=\"193.545\" y=\"-78.0982\" font-family=\"Times,serif\" font-size=\"14.00\" fill=\"#000000\">I2</text>\n",
       "</g>\n",
       "<!-- EMPTY&#45;&gt;I2 -->\n",
       "<g id=\"edge1\" class=\"edge\">\n",
       "<title>EMPTY&#45;&gt;I2</title>\n",
       "<path fill=\"none\" stroke=\"#000000\" d=\"M54.129,-66.7302C84.4711,-70.0096 133.4281,-75.3008 164.5205,-78.6612\"/>\n",
       "<polygon fill=\"#000000\" stroke=\"#000000\" points=\"164.3952,-82.168 174.7135,-79.7629 165.1475,-75.2085 164.3952,-82.168\"/>\n",
       "</g>\n",
       "<!-- I1 -->\n",
       "<g id=\"node3\" class=\"node\">\n",
       "<title>I1</title>\n",
       "<ellipse fill=\"none\" stroke=\"#000000\" cx=\"109.8483\" cy=\"-40.7982\" rx=\"18.6979\" ry=\"18.6979\"/>\n",
       "<text text-anchor=\"middle\" x=\"109.8483\" y=\"-37.0982\" font-family=\"Times,serif\" font-size=\"14.00\" fill=\"#000000\">I1</text>\n",
       "</g>\n",
       "<!-- EMPTY&#45;&gt;I1 -->\n",
       "<g id=\"edge2\" class=\"edge\">\n",
       "<title>EMPTY&#45;&gt;I1</title>\n",
       "<path fill=\"none\" stroke=\"#000000\" d=\"M54.1276,-56.2671C62.9466,-53.8188 72.7508,-51.097 81.6463,-48.6275\"/>\n",
       "<polygon fill=\"#000000\" stroke=\"#000000\" points=\"82.8586,-51.9234 91.5579,-45.8759 80.9861,-45.1785 82.8586,-51.9234\"/>\n",
       "</g>\n",
       "<!-- B -->\n",
       "<g id=\"node4\" class=\"node\">\n",
       "<title>B</title>\n",
       "<ellipse fill=\"none\" stroke=\"#000000\" cx=\"278.3933\" cy=\"-24.7982\" rx=\"18\" ry=\"18\"/>\n",
       "<text text-anchor=\"middle\" x=\"278.3933\" y=\"-21.0982\" font-family=\"Times,serif\" font-size=\"14.00\" fill=\"#000000\">B</text>\n",
       "</g>\n",
       "<!-- I2&#45;&gt;B -->\n",
       "<g id=\"edge6\" class=\"edge\">\n",
       "<title>I2&#45;&gt;B</title>\n",
       "<path fill=\"none\" stroke=\"#000000\" d=\"M209.5043,-71.0769C222.3051,-62.4775 240.4581,-50.2825 254.9162,-40.5698\"/>\n",
       "<polygon fill=\"#000000\" stroke=\"#000000\" points=\"257.0109,-43.379 263.36,-34.8973 253.1074,-37.5685 257.0109,-43.379\"/>\n",
       "<text text-anchor=\"middle\" x=\"236.3933\" y=\"-60.5982\" font-family=\"Times,serif\" font-size=\"14.00\" fill=\"#000000\">b </text>\n",
       "</g>\n",
       "<!-- F3 -->\n",
       "<g id=\"node5\" class=\"node\">\n",
       "<title>F3</title>\n",
       "<ellipse fill=\"none\" stroke=\"#000000\" cx=\"369.1915\" cy=\"-102.7982\" rx=\"20.6302\" ry=\"20.6302\"/>\n",
       "<ellipse fill=\"none\" stroke=\"#000000\" cx=\"369.1915\" cy=\"-102.7982\" rx=\"24.5979\" ry=\"24.5979\"/>\n",
       "<text text-anchor=\"middle\" x=\"369.1915\" y=\"-99.0982\" font-family=\"Times,serif\" font-size=\"14.00\" fill=\"#000000\">F3</text>\n",
       "</g>\n",
       "<!-- I2&#45;&gt;F3 -->\n",
       "<g id=\"edge5\" class=\"edge\">\n",
       "<title>I2&#45;&gt;F3</title>\n",
       "<path fill=\"none\" stroke=\"#000000\" d=\"M212.3422,-84.0455C241.3398,-87.5124 297.4593,-94.222 334.1115,-98.6041\"/>\n",
       "<polygon fill=\"#000000\" stroke=\"#000000\" points=\"334.0069,-102.1164 344.3517,-99.8284 334.8379,-95.1659 334.0069,-102.1164\"/>\n",
       "<text text-anchor=\"middle\" x=\"278.3933\" y=\"-97.5982\" font-family=\"Times,serif\" font-size=\"14.00\" fill=\"#000000\">c </text>\n",
       "</g>\n",
       "<!-- I1&#45;&gt;I2 -->\n",
       "<g id=\"edge4\" class=\"edge\">\n",
       "<title>I1&#45;&gt;I2</title>\n",
       "<path fill=\"none\" stroke=\"#000000\" d=\"M127.9903,-46.8522C136.8226,-50.0288 147.495,-54.2115 156.6967,-58.7982 160.8326,-60.8598 165.1,-63.2524 169.1988,-65.6993\"/>\n",
       "<polygon fill=\"#000000\" stroke=\"#000000\" points=\"167.4451,-68.7302 177.7862,-71.0355 171.1397,-62.7846 167.4451,-68.7302\"/>\n",
       "<text text-anchor=\"middle\" x=\"151.6967\" y=\"-62.5982\" font-family=\"Times,serif\" font-size=\"14.00\" fill=\"#000000\">a </text>\n",
       "</g>\n",
       "<!-- I1&#45;&gt;B -->\n",
       "<g id=\"edge3\" class=\"edge\">\n",
       "<title>I1&#45;&gt;B</title>\n",
       "<path fill=\"none\" stroke=\"#000000\" d=\"M128.855,-38.9939C158.3749,-36.1915 215.4247,-30.7758 249.8904,-27.5039\"/>\n",
       "<polygon fill=\"#000000\" stroke=\"#000000\" points=\"250.599,-30.9525 260.2235,-26.523 249.9374,-23.9838 250.599,-30.9525\"/>\n",
       "<text text-anchor=\"middle\" x=\"193.545\" y=\"-38.5982\" font-family=\"Times,serif\" font-size=\"14.00\" fill=\"#000000\">&#39;&#39; </text>\n",
       "</g>\n",
       "<!-- B&#45;&gt;B -->\n",
       "<g id=\"edge7\" class=\"edge\">\n",
       "<title>B&#45;&gt;B</title>\n",
       "<path fill=\"none\" stroke=\"#000000\" d=\"M271.3621,-41.4622C269.7996,-51.4232 272.1433,-60.7982 278.3933,-60.7982 282.3972,-60.7982 284.798,-56.9507 285.5956,-51.5664\"/>\n",
       "<polygon fill=\"#000000\" stroke=\"#000000\" points=\"289.0935,-51.4015 285.4246,-41.4622 282.0945,-51.5201 289.0935,-51.4015\"/>\n",
       "<text text-anchor=\"middle\" x=\"278.3933\" y=\"-64.5982\" font-family=\"Times,serif\" font-size=\"14.00\" fill=\"#000000\">s </text>\n",
       "</g>\n",
       "<!-- B&#45;&gt;F3 -->\n",
       "<g id=\"edge9\" class=\"edge\">\n",
       "<title>B&#45;&gt;F3</title>\n",
       "<path fill=\"none\" stroke=\"#000000\" d=\"M292.1836,-36.6447C305.4854,-48.0715 325.9742,-65.6724 342.4747,-79.8471\"/>\n",
       "<polygon fill=\"#000000\" stroke=\"#000000\" points=\"340.3394,-82.627 350.2056,-86.4884 344.9008,-77.3172 340.3394,-82.627\"/>\n",
       "<text text-anchor=\"middle\" x=\"320.3933\" y=\"-67.5982\" font-family=\"Times,serif\" font-size=\"14.00\" fill=\"#000000\">f </text>\n",
       "</g>\n",
       "<!-- F4 -->\n",
       "<g id=\"node6\" class=\"node\">\n",
       "<title>F4</title>\n",
       "<ellipse fill=\"none\" stroke=\"#000000\" cx=\"369.1915\" cy=\"-24.7982\" rx=\"20.6302\" ry=\"20.6302\"/>\n",
       "<ellipse fill=\"none\" stroke=\"#000000\" cx=\"369.1915\" cy=\"-24.7982\" rx=\"24.5979\" ry=\"24.5979\"/>\n",
       "<text text-anchor=\"middle\" x=\"369.1915\" y=\"-21.0982\" font-family=\"Times,serif\" font-size=\"14.00\" fill=\"#000000\">F4</text>\n",
       "</g>\n",
       "<!-- B&#45;&gt;F4 -->\n",
       "<g id=\"edge8\" class=\"edge\">\n",
       "<title>B&#45;&gt;F4</title>\n",
       "<path fill=\"none\" stroke=\"#000000\" d=\"M296.7677,-24.7982C307.4554,-24.7982 321.2849,-24.7982 333.9906,-24.7982\"/>\n",
       "<polygon fill=\"#000000\" stroke=\"#000000\" points=\"334.3055,-28.2983 344.3054,-24.7982 334.3054,-21.2983 334.3055,-28.2983\"/>\n",
       "<text text-anchor=\"middle\" x=\"320.3933\" y=\"-28.5982\" font-family=\"Times,serif\" font-size=\"14.00\" fill=\"#000000\">d </text>\n",
       "</g>\n",
       "</g>\n",
       "</svg>\n"
      ],
      "text/plain": [
       "<graphviz.dot.Digraph at 0x7fd6420c83c8>"
      ]
     },
     "execution_count": 11,
     "metadata": {
      "tags": []
     },
     "output_type": "execute_result"
    }
   ],
   "source": [
    "dotObj_nfa(nfa1)"
   ]
  },
  {
   "cell_type": "markdown",
   "metadata": {
    "id": "Ub1tr-Rv1Fah"
   },
   "source": [
    "## 1.1: Convert the given NFA to a DFA by hand.\n",
    "\n",
    "Use as many bullets as necessary to clearly show your work:\n",
    "\n",
    "* One e-closure to perform from I1 to B, merge I1 and I2 together with B.\n",
    "\n",
    "* a could only have gone to I2, so 'a' will go to I1_I2_B\n",
    "\n",
    "* b could only have gone to B, so 'b' will go to I1_I2_B\n",
    "\n",
    "*\n",
    "\n",
    "*"
   ]
  },
  {
   "cell_type": "code",
   "execution_count": null,
   "metadata": {
    "id": "YHlHHSL0DS_p"
   },
   "outputs": [],
   "source": [
    "# I1 merges with I2, since there can only be one initial state.\r\n",
    "\r\n",
    "# I1_I2 given b or '' goes to B, so I1_I1 becomes I1_I2_B\r\n",
    "# I1 (F(I1, '')) = [B] -> I1_B\r\n",
    "\r\n",
    "# I1_B has no e-closure.\r\n",
    "\r\n",
    "# (I1_B, a) = [I2]\r\n",
    "\r\n",
    "# I2 (F(I2, b))  = [B]"
   ]
  },
  {
   "cell_type": "code",
   "execution_count": null,
   "metadata": {
    "id": "CMDNIlBA1Fah"
   },
   "outputs": [],
   "source": [
    "# DFA of nfa1\n",
    "\n",
    "dfa1 = md2mc('''DFA\n",
    "\n",
    "I1_I2_B : b | s -> B\n",
    "\n",
    "I1_I2_B : a -> _I2\n",
    "\n",
    "I1_I2_B : f | c -> F3\n",
    "\n",
    "I1_I2_B : d -> F4\n",
    "\n",
    "!!_I2 : a | f | d | s -> H\n",
    "\n",
    "_I2 : c -> F3\n",
    "\n",
    "_I2 : b -> B\n",
    "\n",
    "B : s -> B\n",
    "\n",
    "B : f -> F3\n",
    "\n",
    "B : d -> F4\n",
    "\n",
    "!!B : a | b | c -> H\n",
    "\n",
    "!!F3 : a | b | c | f | d | s -> H\n",
    "\n",
    "!!F4 : a | b | c | f | d | s -> H\n",
    "\n",
    "!!H : a | b | c | f | d | s -> H\n",
    "\n",
    "''')"
   ]
  },
  {
   "cell_type": "code",
   "execution_count": null,
   "metadata": {
    "colab": {
     "base_uri": "https://localhost:8080/",
     "height": 374
    },
    "id": "0RbZ4_-o1Fai",
    "outputId": "24e7a013-5b30-4cf4-c4fb-110b639e84ac"
   },
   "outputs": [
    {
     "data": {
      "image/svg+xml": [
       "<?xml version=\"1.0\" encoding=\"UTF-8\" standalone=\"no\"?>\n",
       "<!DOCTYPE svg PUBLIC \"-//W3C//DTD SVG 1.1//EN\"\n",
       " \"http://www.w3.org/Graphics/SVG/1.1/DTD/svg11.dtd\">\n",
       "<!-- Generated by graphviz version 2.40.1 (20161225.0304)\n",
       " -->\n",
       "<!-- Title: %3 Pages: 1 -->\n",
       "<svg width=\"458pt\" height=\"265pt\"\n",
       " viewBox=\"0.00 0.00 457.88 264.80\" xmlns=\"http://www.w3.org/2000/svg\" xmlns:xlink=\"http://www.w3.org/1999/xlink\">\n",
       "<g id=\"graph0\" class=\"graph\" transform=\"scale(1 1) rotate(0) translate(4 260.7982)\">\n",
       "<title>%3</title>\n",
       "<polygon fill=\"#ffffff\" stroke=\"transparent\" points=\"-4,4 -4,-260.7982 453.8847,-260.7982 453.8847,4 -4,4\"/>\n",
       "<!-- EMPTY -->\n",
       "<g id=\"node1\" class=\"node\">\n",
       "<title>EMPTY</title>\n",
       "</g>\n",
       "<!-- I1_I2_B -->\n",
       "<g id=\"node2\" class=\"node\">\n",
       "<title>I1_I2_B</title>\n",
       "<ellipse fill=\"none\" stroke=\"#000000\" cx=\"133.2463\" cy=\"-122.7982\" rx=\"42.4939\" ry=\"42.4939\"/>\n",
       "<text text-anchor=\"middle\" x=\"133.2463\" y=\"-119.0982\" font-family=\"Times,serif\" font-size=\"14.00\" fill=\"#000000\">I1_I2_B</text>\n",
       "</g>\n",
       "<!-- EMPTY&#45;&gt;I1_I2_B -->\n",
       "<g id=\"edge1\" class=\"edge\">\n",
       "<title>EMPTY&#45;&gt;I1_I2_B</title>\n",
       "<path fill=\"none\" stroke=\"#000000\" d=\"M54.0853,-122.7982C62.3026,-122.7982 71.6242,-122.7982 80.9135,-122.7982\"/>\n",
       "<polygon fill=\"#000000\" stroke=\"#000000\" points=\"80.927,-126.2983 90.927,-122.7982 80.9269,-119.2983 80.927,-126.2983\"/>\n",
       "</g>\n",
       "<!-- _I2 -->\n",
       "<g id=\"node3\" class=\"node\">\n",
       "<title>_I2</title>\n",
       "<ellipse fill=\"none\" stroke=\"#000000\" cx=\"244.8904\" cy=\"-150.7982\" rx=\"23.2963\" ry=\"23.2963\"/>\n",
       "<text text-anchor=\"middle\" x=\"244.8904\" y=\"-147.0982\" font-family=\"Times,serif\" font-size=\"14.00\" fill=\"#000000\">_I2</text>\n",
       "</g>\n",
       "<!-- I1_I2_B&#45;&gt;_I2 -->\n",
       "<g id=\"edge4\" class=\"edge\">\n",
       "<title>I1_I2_B&#45;&gt;_I2</title>\n",
       "<path fill=\"none\" stroke=\"#000000\" d=\"M174.5012,-133.1448C186.8962,-136.2534 200.3215,-139.6204 212.0912,-142.5722\"/>\n",
       "<polygon fill=\"#000000\" stroke=\"#000000\" points=\"211.3895,-146.0046 221.9406,-145.0424 213.0924,-139.2148 211.3895,-146.0046\"/>\n",
       "<text text-anchor=\"middle\" x=\"198.4925\" y=\"-143.5982\" font-family=\"Times,serif\" font-size=\"14.00\" fill=\"#000000\">a </text>\n",
       "</g>\n",
       "<!-- B -->\n",
       "<g id=\"node4\" class=\"node\">\n",
       "<title>B</title>\n",
       "<ellipse fill=\"none\" stroke=\"#000000\" cx=\"334.2884\" cy=\"-71.7982\" rx=\"18\" ry=\"18\"/>\n",
       "<text text-anchor=\"middle\" x=\"334.2884\" y=\"-68.0982\" font-family=\"Times,serif\" font-size=\"14.00\" fill=\"#000000\">B</text>\n",
       "</g>\n",
       "<!-- I1_I2_B&#45;&gt;B -->\n",
       "<g id=\"edge2\" class=\"edge\">\n",
       "<title>I1_I2_B&#45;&gt;B</title>\n",
       "<path fill=\"none\" stroke=\"#000000\" d=\"M174.4153,-112.3545C213.9763,-102.3187 272.646,-87.4355 306.8216,-78.7659\"/>\n",
       "<polygon fill=\"#000000\" stroke=\"#000000\" points=\"307.7608,-82.1386 316.5932,-76.287 306.0396,-75.3535 307.7608,-82.1386\"/>\n",
       "<text text-anchor=\"middle\" x=\"244.8904\" y=\"-103.5982\" font-family=\"Times,serif\" font-size=\"14.00\" fill=\"#000000\">b </text>\n",
       "</g>\n",
       "<!-- I1_I2_B&#45;&gt;B -->\n",
       "<g id=\"edge3\" class=\"edge\">\n",
       "<title>I1_I2_B&#45;&gt;B</title>\n",
       "<path fill=\"none\" stroke=\"#000000\" d=\"M166.8731,-96.7113C182.5574,-86.1517 202.0318,-75.193 221.4925,-69.7982 249.5173,-62.0292 282.9791,-63.9453 306.1427,-66.9251\"/>\n",
       "<polygon fill=\"#000000\" stroke=\"#000000\" points=\"305.9144,-70.4282 316.3107,-68.3867 306.9104,-63.4994 305.9144,-70.4282\"/>\n",
       "<text text-anchor=\"middle\" x=\"244.8904\" y=\"-73.5982\" font-family=\"Times,serif\" font-size=\"14.00\" fill=\"#000000\">s </text>\n",
       "</g>\n",
       "<!-- F3 -->\n",
       "<g id=\"node5\" class=\"node\">\n",
       "<title>F3</title>\n",
       "<ellipse fill=\"none\" stroke=\"#000000\" cx=\"425.0865\" cy=\"-179.7982\" rx=\"20.6302\" ry=\"20.6302\"/>\n",
       "<ellipse fill=\"none\" stroke=\"#000000\" cx=\"425.0865\" cy=\"-179.7982\" rx=\"24.5979\" ry=\"24.5979\"/>\n",
       "<text text-anchor=\"middle\" x=\"425.0865\" y=\"-176.0982\" font-family=\"Times,serif\" font-size=\"14.00\" fill=\"#000000\">F3</text>\n",
       "</g>\n",
       "<!-- I1_I2_B&#45;&gt;F3 -->\n",
       "<g id=\"edge5\" class=\"edge\">\n",
       "<title>I1_I2_B&#45;&gt;F3</title>\n",
       "<path fill=\"none\" stroke=\"#000000\" d=\"M148.3999,-162.6886C158.1119,-182.3532 172.827,-204.2724 193.4925,-215.7982 266.7748,-256.6696 303.8045,-245.4806 382.2884,-215.7982 388.7561,-213.3521 394.9376,-209.4808 400.4914,-205.1666\"/>\n",
       "<polygon fill=\"#000000\" stroke=\"#000000\" points=\"402.8025,-207.7956 408.1397,-198.6433 398.26,-202.4697 402.8025,-207.7956\"/>\n",
       "<text text-anchor=\"middle\" x=\"292.2884\" y=\"-245.5982\" font-family=\"Times,serif\" font-size=\"14.00\" fill=\"#000000\">f </text>\n",
       "</g>\n",
       "<!-- I1_I2_B&#45;&gt;F3 -->\n",
       "<g id=\"edge6\" class=\"edge\">\n",
       "<title>I1_I2_B&#45;&gt;F3</title>\n",
       "<path fill=\"none\" stroke=\"#000000\" d=\"M165.2193,-151.0422C181.0203,-163.2104 201.0552,-176.1527 221.4925,-182.7982 278.55,-201.351 349.4414,-193.9845 390.7432,-186.9121\"/>\n",
       "<polygon fill=\"#000000\" stroke=\"#000000\" points=\"391.6098,-190.3123 400.8277,-185.0892 390.3646,-183.4239 391.6098,-190.3123\"/>\n",
       "<text text-anchor=\"middle\" x=\"292.2884\" y=\"-197.5982\" font-family=\"Times,serif\" font-size=\"14.00\" fill=\"#000000\">c </text>\n",
       "</g>\n",
       "<!-- F4 -->\n",
       "<g id=\"node6\" class=\"node\">\n",
       "<title>F4</title>\n",
       "<ellipse fill=\"none\" stroke=\"#000000\" cx=\"425.0865\" cy=\"-24.7982\" rx=\"20.6302\" ry=\"20.6302\"/>\n",
       "<ellipse fill=\"none\" stroke=\"#000000\" cx=\"425.0865\" cy=\"-24.7982\" rx=\"24.5979\" ry=\"24.5979\"/>\n",
       "<text text-anchor=\"middle\" x=\"425.0865\" y=\"-21.0982\" font-family=\"Times,serif\" font-size=\"14.00\" fill=\"#000000\">F4</text>\n",
       "</g>\n",
       "<!-- I1_I2_B&#45;&gt;F4 -->\n",
       "<g id=\"edge7\" class=\"edge\">\n",
       "<title>I1_I2_B&#45;&gt;F4</title>\n",
       "<path fill=\"none\" stroke=\"#000000\" d=\"M164.089,-93.6615C173.145,-85.9654 183.3514,-78.0672 193.4925,-71.7982 255.1352,-33.6916 341.9734,-25.7954 389.8888,-24.5618\"/>\n",
       "<polygon fill=\"#000000\" stroke=\"#000000\" points=\"390.1267,-28.0583 400.0648,-24.3861 390.0058,-21.0594 390.1267,-28.0583\"/>\n",
       "<text text-anchor=\"middle\" x=\"292.2884\" y=\"-40.5982\" font-family=\"Times,serif\" font-size=\"14.00\" fill=\"#000000\">d </text>\n",
       "</g>\n",
       "<!-- _I2&#45;&gt;B -->\n",
       "<g id=\"edge9\" class=\"edge\">\n",
       "<title>_I2&#45;&gt;B</title>\n",
       "<path fill=\"none\" stroke=\"#000000\" d=\"M263.4918,-136.0933C273.9007,-127.7111 287.0124,-116.8945 298.2884,-106.7982 303.6115,-102.0319 309.2166,-96.7296 314.3773,-91.7231\"/>\n",
       "<polygon fill=\"#000000\" stroke=\"#000000\" points=\"316.851,-94.1995 321.5359,-84.6967 311.9475,-89.2038 316.851,-94.1995\"/>\n",
       "<text text-anchor=\"middle\" x=\"292.2884\" y=\"-119.5982\" font-family=\"Times,serif\" font-size=\"14.00\" fill=\"#000000\">b </text>\n",
       "</g>\n",
       "<!-- _I2&#45;&gt;F3 -->\n",
       "<g id=\"edge8\" class=\"edge\">\n",
       "<title>_I2&#45;&gt;F3</title>\n",
       "<path fill=\"none\" stroke=\"#000000\" d=\"M268.079,-154.53C299.1378,-159.5285 354.4989,-168.4381 390.4947,-174.2311\"/>\n",
       "<polygon fill=\"#000000\" stroke=\"#000000\" points=\"390.1172,-177.7153 400.5463,-175.8488 391.2295,-170.8042 390.1172,-177.7153\"/>\n",
       "<text text-anchor=\"middle\" x=\"334.2884\" y=\"-170.5982\" font-family=\"Times,serif\" font-size=\"14.00\" fill=\"#000000\">c </text>\n",
       "</g>\n",
       "<!-- B&#45;&gt;B -->\n",
       "<g id=\"edge10\" class=\"edge\">\n",
       "<title>B&#45;&gt;B</title>\n",
       "<path fill=\"none\" stroke=\"#000000\" d=\"M327.2571,-88.4622C325.6946,-98.4232 328.0384,-107.7982 334.2884,-107.7982 338.2923,-107.7982 340.693,-103.9507 341.4907,-98.5664\"/>\n",
       "<polygon fill=\"#000000\" stroke=\"#000000\" points=\"344.9885,-98.4015 341.3196,-88.4622 337.9895,-98.5201 344.9885,-98.4015\"/>\n",
       "<text text-anchor=\"middle\" x=\"334.2884\" y=\"-111.5982\" font-family=\"Times,serif\" font-size=\"14.00\" fill=\"#000000\">s </text>\n",
       "</g>\n",
       "<!-- B&#45;&gt;F3 -->\n",
       "<g id=\"edge11\" class=\"edge\">\n",
       "<title>B&#45;&gt;F3</title>\n",
       "<path fill=\"none\" stroke=\"#000000\" d=\"M346.1586,-85.9173C360.3953,-102.8511 384.5709,-131.6068 402.4236,-152.8417\"/>\n",
       "<polygon fill=\"#000000\" stroke=\"#000000\" points=\"399.8081,-155.1696 408.9223,-160.5716 405.1661,-150.665 399.8081,-155.1696\"/>\n",
       "<text text-anchor=\"middle\" x=\"376.2884\" y=\"-129.5982\" font-family=\"Times,serif\" font-size=\"14.00\" fill=\"#000000\">f </text>\n",
       "</g>\n",
       "<!-- B&#45;&gt;F4 -->\n",
       "<g id=\"edge12\" class=\"edge\">\n",
       "<title>B&#45;&gt;F4</title>\n",
       "<path fill=\"none\" stroke=\"#000000\" d=\"M350.5212,-63.3955C362.4885,-57.2009 379.1447,-48.5791 393.6799,-41.0552\"/>\n",
       "<polygon fill=\"#000000\" stroke=\"#000000\" points=\"395.583,-44.0113 402.8548,-36.306 392.3651,-37.7947 395.583,-44.0113\"/>\n",
       "<text text-anchor=\"middle\" x=\"376.2884\" y=\"-55.5982\" font-family=\"Times,serif\" font-size=\"14.00\" fill=\"#000000\">d </text>\n",
       "</g>\n",
       "</g>\n",
       "</svg>\n"
      ],
      "text/plain": [
       "<graphviz.dot.Digraph at 0x7fde62071b70>"
      ]
     },
     "execution_count": 31,
     "metadata": {
      "tags": []
     },
     "output_type": "execute_result"
    }
   ],
   "source": [
    "dotObj_dfa(dfa1, FuseEdges=False)"
   ]
  },
  {
   "cell_type": "code",
   "execution_count": null,
   "metadata": {
    "colab": {
     "base_uri": "https://localhost:8080/",
     "height": 202
    },
    "id": "IR4LTW0BF31L",
    "outputId": "23124819-06db-43b3-dabd-382ef2e5d165"
   },
   "outputs": [
    {
     "data": {
      "image/svg+xml": [
       "<?xml version=\"1.0\" encoding=\"UTF-8\" standalone=\"no\"?>\n",
       "<!DOCTYPE svg PUBLIC \"-//W3C//DTD SVG 1.1//EN\"\n",
       " \"http://www.w3.org/Graphics/SVG/1.1/DTD/svg11.dtd\">\n",
       "<!-- Generated by graphviz version 2.40.1 (20161225.0304)\n",
       " -->\n",
       "<!-- Title: %3 Pages: 1 -->\n",
       "<svg width=\"402pt\" height=\"136pt\"\n",
       " viewBox=\"0.00 0.00 401.99 135.60\" xmlns=\"http://www.w3.org/2000/svg\" xmlns:xlink=\"http://www.w3.org/1999/xlink\">\n",
       "<g id=\"graph0\" class=\"graph\" transform=\"scale(1 1) rotate(0) translate(4 131.5963)\">\n",
       "<title>%3</title>\n",
       "<polygon fill=\"#ffffff\" stroke=\"transparent\" points=\"-4,4 -4,-131.5963 397.9896,-131.5963 397.9896,4 -4,4\"/>\n",
       "<!-- EMPTY -->\n",
       "<g id=\"node1\" class=\"node\">\n",
       "<title>EMPTY</title>\n",
       "</g>\n",
       "<!-- I2 -->\n",
       "<g id=\"node2\" class=\"node\">\n",
       "<title>I2</title>\n",
       "<ellipse fill=\"none\" stroke=\"#000000\" cx=\"193.545\" cy=\"-81.7982\" rx=\"18.6979\" ry=\"18.6979\"/>\n",
       "<text text-anchor=\"middle\" x=\"193.545\" y=\"-78.0982\" font-family=\"Times,serif\" font-size=\"14.00\" fill=\"#000000\">I2</text>\n",
       "</g>\n",
       "<!-- EMPTY&#45;&gt;I2 -->\n",
       "<g id=\"edge1\" class=\"edge\">\n",
       "<title>EMPTY&#45;&gt;I2</title>\n",
       "<path fill=\"none\" stroke=\"#000000\" d=\"M54.129,-66.7302C84.4711,-70.0096 133.4281,-75.3008 164.5205,-78.6612\"/>\n",
       "<polygon fill=\"#000000\" stroke=\"#000000\" points=\"164.3952,-82.168 174.7135,-79.7629 165.1475,-75.2085 164.3952,-82.168\"/>\n",
       "</g>\n",
       "<!-- I1 -->\n",
       "<g id=\"node3\" class=\"node\">\n",
       "<title>I1</title>\n",
       "<ellipse fill=\"none\" stroke=\"#000000\" cx=\"109.8483\" cy=\"-40.7982\" rx=\"18.6979\" ry=\"18.6979\"/>\n",
       "<text text-anchor=\"middle\" x=\"109.8483\" y=\"-37.0982\" font-family=\"Times,serif\" font-size=\"14.00\" fill=\"#000000\">I1</text>\n",
       "</g>\n",
       "<!-- EMPTY&#45;&gt;I1 -->\n",
       "<g id=\"edge2\" class=\"edge\">\n",
       "<title>EMPTY&#45;&gt;I1</title>\n",
       "<path fill=\"none\" stroke=\"#000000\" d=\"M54.1276,-56.2671C62.9466,-53.8188 72.7508,-51.097 81.6463,-48.6275\"/>\n",
       "<polygon fill=\"#000000\" stroke=\"#000000\" points=\"82.8586,-51.9234 91.5579,-45.8759 80.9861,-45.1785 82.8586,-51.9234\"/>\n",
       "</g>\n",
       "<!-- B -->\n",
       "<g id=\"node4\" class=\"node\">\n",
       "<title>B</title>\n",
       "<ellipse fill=\"none\" stroke=\"#000000\" cx=\"278.3933\" cy=\"-24.7982\" rx=\"18\" ry=\"18\"/>\n",
       "<text text-anchor=\"middle\" x=\"278.3933\" y=\"-21.0982\" font-family=\"Times,serif\" font-size=\"14.00\" fill=\"#000000\">B</text>\n",
       "</g>\n",
       "<!-- I2&#45;&gt;B -->\n",
       "<g id=\"edge6\" class=\"edge\">\n",
       "<title>I2&#45;&gt;B</title>\n",
       "<path fill=\"none\" stroke=\"#000000\" d=\"M209.5043,-71.0769C222.3051,-62.4775 240.4581,-50.2825 254.9162,-40.5698\"/>\n",
       "<polygon fill=\"#000000\" stroke=\"#000000\" points=\"257.0109,-43.379 263.36,-34.8973 253.1074,-37.5685 257.0109,-43.379\"/>\n",
       "<text text-anchor=\"middle\" x=\"236.3933\" y=\"-60.5982\" font-family=\"Times,serif\" font-size=\"14.00\" fill=\"#000000\">b </text>\n",
       "</g>\n",
       "<!-- F3 -->\n",
       "<g id=\"node5\" class=\"node\">\n",
       "<title>F3</title>\n",
       "<ellipse fill=\"none\" stroke=\"#000000\" cx=\"369.1915\" cy=\"-102.7982\" rx=\"20.6302\" ry=\"20.6302\"/>\n",
       "<ellipse fill=\"none\" stroke=\"#000000\" cx=\"369.1915\" cy=\"-102.7982\" rx=\"24.5979\" ry=\"24.5979\"/>\n",
       "<text text-anchor=\"middle\" x=\"369.1915\" y=\"-99.0982\" font-family=\"Times,serif\" font-size=\"14.00\" fill=\"#000000\">F3</text>\n",
       "</g>\n",
       "<!-- I2&#45;&gt;F3 -->\n",
       "<g id=\"edge5\" class=\"edge\">\n",
       "<title>I2&#45;&gt;F3</title>\n",
       "<path fill=\"none\" stroke=\"#000000\" d=\"M212.3422,-84.0455C241.3398,-87.5124 297.4593,-94.222 334.1115,-98.6041\"/>\n",
       "<polygon fill=\"#000000\" stroke=\"#000000\" points=\"334.0069,-102.1164 344.3517,-99.8284 334.8379,-95.1659 334.0069,-102.1164\"/>\n",
       "<text text-anchor=\"middle\" x=\"278.3933\" y=\"-97.5982\" font-family=\"Times,serif\" font-size=\"14.00\" fill=\"#000000\">c </text>\n",
       "</g>\n",
       "<!-- I1&#45;&gt;I2 -->\n",
       "<g id=\"edge4\" class=\"edge\">\n",
       "<title>I1&#45;&gt;I2</title>\n",
       "<path fill=\"none\" stroke=\"#000000\" d=\"M127.9903,-46.8522C136.8226,-50.0288 147.495,-54.2115 156.6967,-58.7982 160.8326,-60.8598 165.1,-63.2524 169.1988,-65.6993\"/>\n",
       "<polygon fill=\"#000000\" stroke=\"#000000\" points=\"167.4451,-68.7302 177.7862,-71.0355 171.1397,-62.7846 167.4451,-68.7302\"/>\n",
       "<text text-anchor=\"middle\" x=\"151.6967\" y=\"-62.5982\" font-family=\"Times,serif\" font-size=\"14.00\" fill=\"#000000\">a </text>\n",
       "</g>\n",
       "<!-- I1&#45;&gt;B -->\n",
       "<g id=\"edge3\" class=\"edge\">\n",
       "<title>I1&#45;&gt;B</title>\n",
       "<path fill=\"none\" stroke=\"#000000\" d=\"M128.855,-38.9939C158.3749,-36.1915 215.4247,-30.7758 249.8904,-27.5039\"/>\n",
       "<polygon fill=\"#000000\" stroke=\"#000000\" points=\"250.599,-30.9525 260.2235,-26.523 249.9374,-23.9838 250.599,-30.9525\"/>\n",
       "<text text-anchor=\"middle\" x=\"193.545\" y=\"-38.5982\" font-family=\"Times,serif\" font-size=\"14.00\" fill=\"#000000\">&#39;&#39; </text>\n",
       "</g>\n",
       "<!-- B&#45;&gt;B -->\n",
       "<g id=\"edge7\" class=\"edge\">\n",
       "<title>B&#45;&gt;B</title>\n",
       "<path fill=\"none\" stroke=\"#000000\" d=\"M271.3621,-41.4622C269.7996,-51.4232 272.1433,-60.7982 278.3933,-60.7982 282.3972,-60.7982 284.798,-56.9507 285.5956,-51.5664\"/>\n",
       "<polygon fill=\"#000000\" stroke=\"#000000\" points=\"289.0935,-51.4015 285.4246,-41.4622 282.0945,-51.5201 289.0935,-51.4015\"/>\n",
       "<text text-anchor=\"middle\" x=\"278.3933\" y=\"-64.5982\" font-family=\"Times,serif\" font-size=\"14.00\" fill=\"#000000\">s </text>\n",
       "</g>\n",
       "<!-- B&#45;&gt;F3 -->\n",
       "<g id=\"edge9\" class=\"edge\">\n",
       "<title>B&#45;&gt;F3</title>\n",
       "<path fill=\"none\" stroke=\"#000000\" d=\"M292.1836,-36.6447C305.4854,-48.0715 325.9742,-65.6724 342.4747,-79.8471\"/>\n",
       "<polygon fill=\"#000000\" stroke=\"#000000\" points=\"340.3394,-82.627 350.2056,-86.4884 344.9008,-77.3172 340.3394,-82.627\"/>\n",
       "<text text-anchor=\"middle\" x=\"320.3933\" y=\"-67.5982\" font-family=\"Times,serif\" font-size=\"14.00\" fill=\"#000000\">f </text>\n",
       "</g>\n",
       "<!-- F4 -->\n",
       "<g id=\"node6\" class=\"node\">\n",
       "<title>F4</title>\n",
       "<ellipse fill=\"none\" stroke=\"#000000\" cx=\"369.1915\" cy=\"-24.7982\" rx=\"20.6302\" ry=\"20.6302\"/>\n",
       "<ellipse fill=\"none\" stroke=\"#000000\" cx=\"369.1915\" cy=\"-24.7982\" rx=\"24.5979\" ry=\"24.5979\"/>\n",
       "<text text-anchor=\"middle\" x=\"369.1915\" y=\"-21.0982\" font-family=\"Times,serif\" font-size=\"14.00\" fill=\"#000000\">F4</text>\n",
       "</g>\n",
       "<!-- B&#45;&gt;F4 -->\n",
       "<g id=\"edge8\" class=\"edge\">\n",
       "<title>B&#45;&gt;F4</title>\n",
       "<path fill=\"none\" stroke=\"#000000\" d=\"M296.7677,-24.7982C307.4554,-24.7982 321.2849,-24.7982 333.9906,-24.7982\"/>\n",
       "<polygon fill=\"#000000\" stroke=\"#000000\" points=\"334.3055,-28.2983 344.3054,-24.7982 334.3054,-21.2983 334.3055,-28.2983\"/>\n",
       "<text text-anchor=\"middle\" x=\"320.3933\" y=\"-28.5982\" font-family=\"Times,serif\" font-size=\"14.00\" fill=\"#000000\">d </text>\n",
       "</g>\n",
       "</g>\n",
       "</svg>\n"
      ],
      "text/plain": [
       "<graphviz.dot.Digraph at 0x7fd64201b9e8>"
      ]
     },
     "execution_count": 15,
     "metadata": {
      "tags": []
     },
     "output_type": "execute_result"
    }
   ],
   "source": [
    "dotObj_nfa(nfa1)"
   ]
  },
  {
   "cell_type": "markdown",
   "metadata": {
    "id": "p0RgegJo1Fai"
   },
   "source": [
    "## 1.2: Reverse nfa1 by hand and name the states in this manner:\n",
    "\n",
    "1) Change F3 to I3\n",
    "\n",
    "2) Change F4 to I4\n",
    "\n",
    "3) Change I1 and I2 to F1 and F2\n",
    "\n",
    "4) Now, reverse the transitions of nfa1, obtaining \"rnfa1\" below\n",
    " "
   ]
  },
  {
   "cell_type": "code",
   "execution_count": null,
   "metadata": {
    "id": "qhRWvd9b1Fai"
   },
   "outputs": [],
   "source": [
    "# There is no Jove function to reverse automatically - do it by hand!\n",
    "rnfa1 = md2mc('''\n",
    "NFA\n",
    "\n",
    "\n",
    "I3 : f -> B\n",
    "I3 : c -> F2\n",
    "\n",
    "I4 : d -> B\n",
    "\n",
    "B : b  -> F2\n",
    "B : '' -> F1\n",
    "B : s  -> B\n",
    "\n",
    "F2 : a -> F1\n",
    "\n",
    "\n",
    "''')"
   ]
  },
  {
   "cell_type": "code",
   "execution_count": null,
   "metadata": {
    "colab": {
     "base_uri": "https://localhost:8080/",
     "height": 167
    },
    "id": "8UbDrNhh1Faj",
    "outputId": "6c074281-18af-467a-9d84-fe8cf674f161"
   },
   "outputs": [
    {
     "data": {
      "image/svg+xml": [
       "<?xml version=\"1.0\" encoding=\"UTF-8\" standalone=\"no\"?>\n",
       "<!DOCTYPE svg PUBLIC \"-//W3C//DTD SVG 1.1//EN\"\n",
       " \"http://www.w3.org/Graphics/SVG/1.1/DTD/svg11.dtd\">\n",
       "<!-- Generated by graphviz version 2.40.1 (20161225.0304)\n",
       " -->\n",
       "<!-- Title: %3 Pages: 1 -->\n",
       "<svg width=\"414pt\" height=\"110pt\"\n",
       " viewBox=\"0.00 0.00 413.89 109.65\" xmlns=\"http://www.w3.org/2000/svg\" xmlns:xlink=\"http://www.w3.org/1999/xlink\">\n",
       "<g id=\"graph0\" class=\"graph\" transform=\"scale(1 1) rotate(0) translate(4 105.6465)\">\n",
       "<title>%3</title>\n",
       "<polygon fill=\"#ffffff\" stroke=\"transparent\" points=\"-4,4 -4,-105.6465 409.8893,-105.6465 409.8893,4 -4,4\"/>\n",
       "<!-- EMPTY -->\n",
       "<g id=\"node1\" class=\"node\">\n",
       "<title>EMPTY</title>\n",
       "</g>\n",
       "<!-- I3 -->\n",
       "<g id=\"node2\" class=\"node\">\n",
       "<title>I3</title>\n",
       "<ellipse fill=\"none\" stroke=\"#000000\" cx=\"109.8483\" cy=\"-74.8483\" rx=\"18.6979\" ry=\"18.6979\"/>\n",
       "<text text-anchor=\"middle\" x=\"109.8483\" y=\"-71.1483\" font-family=\"Times,serif\" font-size=\"14.00\" fill=\"#000000\">I3</text>\n",
       "</g>\n",
       "<!-- EMPTY&#45;&gt;I3 -->\n",
       "<g id=\"edge1\" class=\"edge\">\n",
       "<title>EMPTY&#45;&gt;I3</title>\n",
       "<path fill=\"none\" stroke=\"#000000\" d=\"M54.1276,-55.344C63.111,-58.4885 73.1168,-61.9909 82.143,-65.1504\"/>\n",
       "<polygon fill=\"#000000\" stroke=\"#000000\" points=\"81.216,-68.5341 91.8108,-68.5345 83.5287,-61.9272 81.216,-68.5341\"/>\n",
       "</g>\n",
       "<!-- I4 -->\n",
       "<g id=\"node3\" class=\"node\">\n",
       "<title>I4</title>\n",
       "<ellipse fill=\"none\" stroke=\"#000000\" cx=\"109.8483\" cy=\"-18.8483\" rx=\"18.6979\" ry=\"18.6979\"/>\n",
       "<text text-anchor=\"middle\" x=\"109.8483\" y=\"-15.1483\" font-family=\"Times,serif\" font-size=\"14.00\" fill=\"#000000\">I4</text>\n",
       "</g>\n",
       "<!-- EMPTY&#45;&gt;I4 -->\n",
       "<g id=\"edge2\" class=\"edge\">\n",
       "<title>EMPTY&#45;&gt;I4</title>\n",
       "<path fill=\"none\" stroke=\"#000000\" d=\"M54.1276,-37.0075C63.111,-34.0799 73.1168,-30.819 82.143,-27.8774\"/>\n",
       "<polygon fill=\"#000000\" stroke=\"#000000\" points=\"83.3875,-31.1531 91.8108,-24.7267 81.2185,-24.4976 83.3875,-31.1531\"/>\n",
       "</g>\n",
       "<!-- B -->\n",
       "<g id=\"node4\" class=\"node\">\n",
       "<title>B</title>\n",
       "<ellipse fill=\"none\" stroke=\"#000000\" cx=\"194.6967\" cy=\"-18.8483\" rx=\"18\" ry=\"18\"/>\n",
       "<text text-anchor=\"middle\" x=\"194.6967\" y=\"-15.1483\" font-family=\"Times,serif\" font-size=\"14.00\" fill=\"#000000\">B</text>\n",
       "</g>\n",
       "<!-- I3&#45;&gt;B -->\n",
       "<g id=\"edge3\" class=\"edge\">\n",
       "<title>I3&#45;&gt;B</title>\n",
       "<path fill=\"none\" stroke=\"#000000\" d=\"M125.8076,-64.3152C138.6084,-55.8666 156.7615,-43.8856 171.2196,-34.3432\"/>\n",
       "<polygon fill=\"#000000\" stroke=\"#000000\" points=\"173.2452,-37.1999 179.6634,-28.7703 169.3893,-31.3576 173.2452,-37.1999\"/>\n",
       "<text text-anchor=\"middle\" x=\"152.6967\" y=\"-54.6483\" font-family=\"Times,serif\" font-size=\"14.00\" fill=\"#000000\">f </text>\n",
       "</g>\n",
       "<!-- F2 -->\n",
       "<g id=\"node6\" class=\"node\">\n",
       "<title>F2</title>\n",
       "<ellipse fill=\"none\" stroke=\"#000000\" cx=\"285.4948\" cy=\"-76.8483\" rx=\"20.6302\" ry=\"20.6302\"/>\n",
       "<ellipse fill=\"none\" stroke=\"#000000\" cx=\"285.4948\" cy=\"-76.8483\" rx=\"24.5979\" ry=\"24.5979\"/>\n",
       "<text text-anchor=\"middle\" x=\"285.4948\" y=\"-73.1483\" font-family=\"Times,serif\" font-size=\"14.00\" fill=\"#000000\">F2</text>\n",
       "</g>\n",
       "<!-- I3&#45;&gt;F2 -->\n",
       "<g id=\"edge4\" class=\"edge\">\n",
       "<title>I3&#45;&gt;F2</title>\n",
       "<path fill=\"none\" stroke=\"#000000\" d=\"M128.8522,-76.2886C142.2235,-77.2277 160.5432,-78.3655 176.6967,-78.8483 201.2509,-79.5823 228.9309,-79.0547 250.2263,-78.3577\"/>\n",
       "<polygon fill=\"#000000\" stroke=\"#000000\" points=\"250.558,-81.8482 260.4274,-77.9952 250.3093,-74.8526 250.558,-81.8482\"/>\n",
       "<text text-anchor=\"middle\" x=\"194.6967\" y=\"-82.6483\" font-family=\"Times,serif\" font-size=\"14.00\" fill=\"#000000\">c </text>\n",
       "</g>\n",
       "<!-- I4&#45;&gt;B -->\n",
       "<g id=\"edge5\" class=\"edge\">\n",
       "<title>I4&#45;&gt;B</title>\n",
       "<path fill=\"none\" stroke=\"#000000\" d=\"M129.1017,-18.8483C140.1442,-18.8483 154.2078,-18.8483 166.4787,-18.8483\"/>\n",
       "<polygon fill=\"#000000\" stroke=\"#000000\" points=\"166.6798,-22.3484 176.6798,-18.8483 166.6798,-15.3484 166.6798,-22.3484\"/>\n",
       "<text text-anchor=\"middle\" x=\"152.6967\" y=\"-22.6483\" font-family=\"Times,serif\" font-size=\"14.00\" fill=\"#000000\">d </text>\n",
       "</g>\n",
       "<!-- B&#45;&gt;B -->\n",
       "<g id=\"edge8\" class=\"edge\">\n",
       "<title>B&#45;&gt;B</title>\n",
       "<path fill=\"none\" stroke=\"#000000\" d=\"M187.3138,-35.5124C185.6732,-45.4733 188.1342,-54.8483 194.6967,-54.8483 198.9008,-54.8483 201.4216,-51.0008 202.2591,-45.6166\"/>\n",
       "<polygon fill=\"#000000\" stroke=\"#000000\" points=\"205.7568,-45.4486 202.0795,-35.5124 198.7579,-45.5731 205.7568,-45.4486\"/>\n",
       "<text text-anchor=\"middle\" x=\"194.6967\" y=\"-58.6483\" font-family=\"Times,serif\" font-size=\"14.00\" fill=\"#000000\">s </text>\n",
       "</g>\n",
       "<!-- F1 -->\n",
       "<g id=\"node5\" class=\"node\">\n",
       "<title>F1</title>\n",
       "<ellipse fill=\"none\" stroke=\"#000000\" cx=\"381.0911\" cy=\"-34.8483\" rx=\"20.6302\" ry=\"20.6302\"/>\n",
       "<ellipse fill=\"none\" stroke=\"#000000\" cx=\"381.0911\" cy=\"-34.8483\" rx=\"24.5979\" ry=\"24.5979\"/>\n",
       "<text text-anchor=\"middle\" x=\"381.0911\" y=\"-31.1483\" font-family=\"Times,serif\" font-size=\"14.00\" fill=\"#000000\">F1</text>\n",
       "</g>\n",
       "<!-- B&#45;&gt;F1 -->\n",
       "<g id=\"edge7\" class=\"edge\">\n",
       "<title>B&#45;&gt;F1</title>\n",
       "<path fill=\"none\" stroke=\"#000000\" d=\"M212.7268,-20.1352C235.4779,-21.7858 275.8045,-24.8011 310.293,-27.8483 321.9735,-28.8804 334.7274,-30.1096 346.1521,-31.2479\"/>\n",
       "<polygon fill=\"#000000\" stroke=\"#000000\" points=\"345.9014,-34.7403 356.2017,-32.2595 346.6025,-27.7755 345.9014,-34.7403\"/>\n",
       "<text text-anchor=\"middle\" x=\"285.4948\" y=\"-31.6483\" font-family=\"Times,serif\" font-size=\"14.00\" fill=\"#000000\">&#39;&#39; </text>\n",
       "</g>\n",
       "<!-- B&#45;&gt;F2 -->\n",
       "<g id=\"edge6\" class=\"edge\">\n",
       "<title>B&#45;&gt;F2</title>\n",
       "<path fill=\"none\" stroke=\"#000000\" d=\"M210.0993,-28.6872C222.6187,-36.6843 240.6465,-48.2001 255.9346,-57.9658\"/>\n",
       "<polygon fill=\"#000000\" stroke=\"#000000\" points=\"254.2455,-61.04 264.557,-63.4737 258.0138,-55.1408 254.2455,-61.04\"/>\n",
       "<text text-anchor=\"middle\" x=\"236.6967\" y=\"-51.6483\" font-family=\"Times,serif\" font-size=\"14.00\" fill=\"#000000\">b </text>\n",
       "</g>\n",
       "<!-- F2&#45;&gt;F1 -->\n",
       "<g id=\"edge9\" class=\"edge\">\n",
       "<title>F2&#45;&gt;F1</title>\n",
       "<path fill=\"none\" stroke=\"#000000\" d=\"M308.636,-66.6813C320.7306,-61.3676 335.7255,-54.7796 348.9309,-48.9779\"/>\n",
       "<polygon fill=\"#000000\" stroke=\"#000000\" points=\"350.4155,-52.1485 358.163,-44.9217 347.5998,-45.7398 350.4155,-52.1485\"/>\n",
       "<text text-anchor=\"middle\" x=\"333.293\" y=\"-60.6483\" font-family=\"Times,serif\" font-size=\"14.00\" fill=\"#000000\">a </text>\n",
       "</g>\n",
       "</g>\n",
       "</svg>\n"
      ],
      "text/plain": [
       "<graphviz.dot.Digraph at 0x7fd642022da0>"
      ]
     },
     "execution_count": 17,
     "metadata": {
      "tags": []
     },
     "output_type": "execute_result"
    }
   ],
   "source": [
    "dotObj_nfa(rnfa1)"
   ]
  },
  {
   "cell_type": "code",
   "execution_count": null,
   "metadata": {
    "colab": {
     "base_uri": "https://localhost:8080/",
     "height": 202
    },
    "id": "lNvtz_C51Faj",
    "outputId": "4d302a37-289c-4674-aa2a-fc0b3ded452a"
   },
   "outputs": [
    {
     "data": {
      "image/svg+xml": [
       "<?xml version=\"1.0\" encoding=\"UTF-8\" standalone=\"no\"?>\n",
       "<!DOCTYPE svg PUBLIC \"-//W3C//DTD SVG 1.1//EN\"\n",
       " \"http://www.w3.org/Graphics/SVG/1.1/DTD/svg11.dtd\">\n",
       "<!-- Generated by graphviz version 2.40.1 (20161225.0304)\n",
       " -->\n",
       "<!-- Title: %3 Pages: 1 -->\n",
       "<svg width=\"402pt\" height=\"136pt\"\n",
       " viewBox=\"0.00 0.00 401.99 135.60\" xmlns=\"http://www.w3.org/2000/svg\" xmlns:xlink=\"http://www.w3.org/1999/xlink\">\n",
       "<g id=\"graph0\" class=\"graph\" transform=\"scale(1 1) rotate(0) translate(4 131.5963)\">\n",
       "<title>%3</title>\n",
       "<polygon fill=\"#ffffff\" stroke=\"transparent\" points=\"-4,4 -4,-131.5963 397.9896,-131.5963 397.9896,4 -4,4\"/>\n",
       "<!-- EMPTY -->\n",
       "<g id=\"node1\" class=\"node\">\n",
       "<title>EMPTY</title>\n",
       "</g>\n",
       "<!-- I2 -->\n",
       "<g id=\"node2\" class=\"node\">\n",
       "<title>I2</title>\n",
       "<ellipse fill=\"none\" stroke=\"#000000\" cx=\"193.545\" cy=\"-81.7982\" rx=\"18.6979\" ry=\"18.6979\"/>\n",
       "<text text-anchor=\"middle\" x=\"193.545\" y=\"-78.0982\" font-family=\"Times,serif\" font-size=\"14.00\" fill=\"#000000\">I2</text>\n",
       "</g>\n",
       "<!-- EMPTY&#45;&gt;I2 -->\n",
       "<g id=\"edge1\" class=\"edge\">\n",
       "<title>EMPTY&#45;&gt;I2</title>\n",
       "<path fill=\"none\" stroke=\"#000000\" d=\"M54.129,-66.7302C84.4711,-70.0096 133.4281,-75.3008 164.5205,-78.6612\"/>\n",
       "<polygon fill=\"#000000\" stroke=\"#000000\" points=\"164.3952,-82.168 174.7135,-79.7629 165.1475,-75.2085 164.3952,-82.168\"/>\n",
       "</g>\n",
       "<!-- I1 -->\n",
       "<g id=\"node3\" class=\"node\">\n",
       "<title>I1</title>\n",
       "<ellipse fill=\"none\" stroke=\"#000000\" cx=\"109.8483\" cy=\"-40.7982\" rx=\"18.6979\" ry=\"18.6979\"/>\n",
       "<text text-anchor=\"middle\" x=\"109.8483\" y=\"-37.0982\" font-family=\"Times,serif\" font-size=\"14.00\" fill=\"#000000\">I1</text>\n",
       "</g>\n",
       "<!-- EMPTY&#45;&gt;I1 -->\n",
       "<g id=\"edge2\" class=\"edge\">\n",
       "<title>EMPTY&#45;&gt;I1</title>\n",
       "<path fill=\"none\" stroke=\"#000000\" d=\"M54.1276,-56.2671C62.9466,-53.8188 72.7508,-51.097 81.6463,-48.6275\"/>\n",
       "<polygon fill=\"#000000\" stroke=\"#000000\" points=\"82.8586,-51.9234 91.5579,-45.8759 80.9861,-45.1785 82.8586,-51.9234\"/>\n",
       "</g>\n",
       "<!-- B -->\n",
       "<g id=\"node4\" class=\"node\">\n",
       "<title>B</title>\n",
       "<ellipse fill=\"none\" stroke=\"#000000\" cx=\"278.3933\" cy=\"-24.7982\" rx=\"18\" ry=\"18\"/>\n",
       "<text text-anchor=\"middle\" x=\"278.3933\" y=\"-21.0982\" font-family=\"Times,serif\" font-size=\"14.00\" fill=\"#000000\">B</text>\n",
       "</g>\n",
       "<!-- I2&#45;&gt;B -->\n",
       "<g id=\"edge6\" class=\"edge\">\n",
       "<title>I2&#45;&gt;B</title>\n",
       "<path fill=\"none\" stroke=\"#000000\" d=\"M209.5043,-71.0769C222.3051,-62.4775 240.4581,-50.2825 254.9162,-40.5698\"/>\n",
       "<polygon fill=\"#000000\" stroke=\"#000000\" points=\"257.0109,-43.379 263.36,-34.8973 253.1074,-37.5685 257.0109,-43.379\"/>\n",
       "<text text-anchor=\"middle\" x=\"236.3933\" y=\"-60.5982\" font-family=\"Times,serif\" font-size=\"14.00\" fill=\"#000000\">b </text>\n",
       "</g>\n",
       "<!-- F3 -->\n",
       "<g id=\"node5\" class=\"node\">\n",
       "<title>F3</title>\n",
       "<ellipse fill=\"none\" stroke=\"#000000\" cx=\"369.1915\" cy=\"-102.7982\" rx=\"20.6302\" ry=\"20.6302\"/>\n",
       "<ellipse fill=\"none\" stroke=\"#000000\" cx=\"369.1915\" cy=\"-102.7982\" rx=\"24.5979\" ry=\"24.5979\"/>\n",
       "<text text-anchor=\"middle\" x=\"369.1915\" y=\"-99.0982\" font-family=\"Times,serif\" font-size=\"14.00\" fill=\"#000000\">F3</text>\n",
       "</g>\n",
       "<!-- I2&#45;&gt;F3 -->\n",
       "<g id=\"edge5\" class=\"edge\">\n",
       "<title>I2&#45;&gt;F3</title>\n",
       "<path fill=\"none\" stroke=\"#000000\" d=\"M212.3422,-84.0455C241.3398,-87.5124 297.4593,-94.222 334.1115,-98.6041\"/>\n",
       "<polygon fill=\"#000000\" stroke=\"#000000\" points=\"334.0069,-102.1164 344.3517,-99.8284 334.8379,-95.1659 334.0069,-102.1164\"/>\n",
       "<text text-anchor=\"middle\" x=\"278.3933\" y=\"-97.5982\" font-family=\"Times,serif\" font-size=\"14.00\" fill=\"#000000\">c </text>\n",
       "</g>\n",
       "<!-- I1&#45;&gt;I2 -->\n",
       "<g id=\"edge4\" class=\"edge\">\n",
       "<title>I1&#45;&gt;I2</title>\n",
       "<path fill=\"none\" stroke=\"#000000\" d=\"M127.9903,-46.8522C136.8226,-50.0288 147.495,-54.2115 156.6967,-58.7982 160.8326,-60.8598 165.1,-63.2524 169.1988,-65.6993\"/>\n",
       "<polygon fill=\"#000000\" stroke=\"#000000\" points=\"167.4451,-68.7302 177.7862,-71.0355 171.1397,-62.7846 167.4451,-68.7302\"/>\n",
       "<text text-anchor=\"middle\" x=\"151.6967\" y=\"-62.5982\" font-family=\"Times,serif\" font-size=\"14.00\" fill=\"#000000\">a </text>\n",
       "</g>\n",
       "<!-- I1&#45;&gt;B -->\n",
       "<g id=\"edge3\" class=\"edge\">\n",
       "<title>I1&#45;&gt;B</title>\n",
       "<path fill=\"none\" stroke=\"#000000\" d=\"M128.855,-38.9939C158.3749,-36.1915 215.4247,-30.7758 249.8904,-27.5039\"/>\n",
       "<polygon fill=\"#000000\" stroke=\"#000000\" points=\"250.599,-30.9525 260.2235,-26.523 249.9374,-23.9838 250.599,-30.9525\"/>\n",
       "<text text-anchor=\"middle\" x=\"193.545\" y=\"-38.5982\" font-family=\"Times,serif\" font-size=\"14.00\" fill=\"#000000\">&#39;&#39; </text>\n",
       "</g>\n",
       "<!-- B&#45;&gt;B -->\n",
       "<g id=\"edge7\" class=\"edge\">\n",
       "<title>B&#45;&gt;B</title>\n",
       "<path fill=\"none\" stroke=\"#000000\" d=\"M271.3621,-41.4622C269.7996,-51.4232 272.1433,-60.7982 278.3933,-60.7982 282.3972,-60.7982 284.798,-56.9507 285.5956,-51.5664\"/>\n",
       "<polygon fill=\"#000000\" stroke=\"#000000\" points=\"289.0935,-51.4015 285.4246,-41.4622 282.0945,-51.5201 289.0935,-51.4015\"/>\n",
       "<text text-anchor=\"middle\" x=\"278.3933\" y=\"-64.5982\" font-family=\"Times,serif\" font-size=\"14.00\" fill=\"#000000\">s </text>\n",
       "</g>\n",
       "<!-- B&#45;&gt;F3 -->\n",
       "<g id=\"edge9\" class=\"edge\">\n",
       "<title>B&#45;&gt;F3</title>\n",
       "<path fill=\"none\" stroke=\"#000000\" d=\"M292.1836,-36.6447C305.4854,-48.0715 325.9742,-65.6724 342.4747,-79.8471\"/>\n",
       "<polygon fill=\"#000000\" stroke=\"#000000\" points=\"340.3394,-82.627 350.2056,-86.4884 344.9008,-77.3172 340.3394,-82.627\"/>\n",
       "<text text-anchor=\"middle\" x=\"320.3933\" y=\"-67.5982\" font-family=\"Times,serif\" font-size=\"14.00\" fill=\"#000000\">f </text>\n",
       "</g>\n",
       "<!-- F4 -->\n",
       "<g id=\"node6\" class=\"node\">\n",
       "<title>F4</title>\n",
       "<ellipse fill=\"none\" stroke=\"#000000\" cx=\"369.1915\" cy=\"-24.7982\" rx=\"20.6302\" ry=\"20.6302\"/>\n",
       "<ellipse fill=\"none\" stroke=\"#000000\" cx=\"369.1915\" cy=\"-24.7982\" rx=\"24.5979\" ry=\"24.5979\"/>\n",
       "<text text-anchor=\"middle\" x=\"369.1915\" y=\"-21.0982\" font-family=\"Times,serif\" font-size=\"14.00\" fill=\"#000000\">F4</text>\n",
       "</g>\n",
       "<!-- B&#45;&gt;F4 -->\n",
       "<g id=\"edge8\" class=\"edge\">\n",
       "<title>B&#45;&gt;F4</title>\n",
       "<path fill=\"none\" stroke=\"#000000\" d=\"M296.7677,-24.7982C307.4554,-24.7982 321.2849,-24.7982 333.9906,-24.7982\"/>\n",
       "<polygon fill=\"#000000\" stroke=\"#000000\" points=\"334.3055,-28.2983 344.3054,-24.7982 334.3054,-21.2983 334.3055,-28.2983\"/>\n",
       "<text text-anchor=\"middle\" x=\"320.3933\" y=\"-28.5982\" font-family=\"Times,serif\" font-size=\"14.00\" fill=\"#000000\">d </text>\n",
       "</g>\n",
       "</g>\n",
       "</svg>\n"
      ],
      "text/plain": [
       "<graphviz.dot.Digraph at 0x7fd6420228d0>"
      ]
     },
     "execution_count": 18,
     "metadata": {
      "tags": []
     },
     "output_type": "execute_result"
    }
   ],
   "source": [
    "dotObj_nfa(nfa1)"
   ]
  },
  {
   "cell_type": "markdown",
   "metadata": {
    "id": "h3BNQFbW1Fak"
   },
   "source": [
    "## 1.3: Inspect and conclude that rnfa1 is truly the reverse of nfa1\n",
    "### List the first six strings in numeric order and check that they have been correctly reversed. State the string in the original machine and explain (by specifying a path as a sequence of states) that this string is present in the reversed machine also.\n",
    "\n",
    "1. c -> c `{I3, F2}`\n",
    "\n",
    "2. d -> d `{I4, B, F1}`\n",
    "\n",
    "3. f -> f `{I3, B, F1}`\n",
    "\n",
    "4. ac -> ca `{I3, F2, F1}`\n",
    "\n",
    "5. sd -> ds `{I4, B, B, F1}`\n",
    "\n",
    "6. sf -> fs `{I3, B, B, F1}`\n",
    "\n",
    " \n",
    " "
   ]
  },
  {
   "cell_type": "markdown",
   "metadata": {
    "id": "Pln4gmGl1Fak"
   },
   "source": [
    "# Problem 2: Extraction of RE by Inspection and other things before it\n"
   ]
  },
  {
   "cell_type": "markdown",
   "metadata": {
    "id": "KfUW_PBz1Fak"
   },
   "source": [
    "## 2.1: Totalize dfa1 to obtain the totalized machine, then explain totalize_dfa in a few sentences below, by looking at the Delta before and After"
   ]
  },
  {
   "cell_type": "code",
   "execution_count": null,
   "metadata": {
    "id": "Vq0a77k-1Fal"
   },
   "outputs": [],
   "source": [
    "tdfa1 = totalize_dfa(dfa1)"
   ]
  },
  {
   "cell_type": "code",
   "execution_count": null,
   "metadata": {
    "colab": {
     "base_uri": "https://localhost:8080/",
     "height": 836
    },
    "id": "NJtGAMz5GXno",
    "outputId": "c132c83e-e00c-435e-8268-b381f8ced0d6"
   },
   "outputs": [
    {
     "data": {
      "image/svg+xml": [
       "<?xml version=\"1.0\" encoding=\"UTF-8\" standalone=\"no\"?>\n",
       "<!DOCTYPE svg PUBLIC \"-//W3C//DTD SVG 1.1//EN\"\n",
       " \"http://www.w3.org/Graphics/SVG/1.1/DTD/svg11.dtd\">\n",
       "<!-- Generated by graphviz version 2.40.1 (20161225.0304)\n",
       " -->\n",
       "<!-- Title: %3 Pages: 1 -->\n",
       "<svg width=\"554pt\" height=\"612pt\"\n",
       " viewBox=\"0.00 0.00 553.98 612.37\" xmlns=\"http://www.w3.org/2000/svg\" xmlns:xlink=\"http://www.w3.org/1999/xlink\">\n",
       "<g id=\"graph0\" class=\"graph\" transform=\"scale(1 1) rotate(0) translate(4 608.3696)\">\n",
       "<title>%3</title>\n",
       "<polygon fill=\"#ffffff\" stroke=\"transparent\" points=\"-4,4 -4,-608.3696 549.9804,-608.3696 549.9804,4 -4,4\"/>\n",
       "<!-- EMPTY -->\n",
       "<g id=\"node1\" class=\"node\">\n",
       "<title>EMPTY</title>\n",
       "</g>\n",
       "<!-- I1_I2_B -->\n",
       "<g id=\"node3\" class=\"node\">\n",
       "<title>I1_I2_B</title>\n",
       "<ellipse fill=\"none\" stroke=\"#000000\" cx=\"133.2463\" cy=\"-290.3696\" rx=\"42.4939\" ry=\"42.4939\"/>\n",
       "<text text-anchor=\"middle\" x=\"133.2463\" y=\"-286.6696\" font-family=\"Times,serif\" font-size=\"14.00\" fill=\"#000000\">I1_I2_B</text>\n",
       "</g>\n",
       "<!-- EMPTY&#45;&gt;I1_I2_B -->\n",
       "<g id=\"edge1\" class=\"edge\">\n",
       "<title>EMPTY&#45;&gt;I1_I2_B</title>\n",
       "<path fill=\"none\" stroke=\"#000000\" d=\"M54.0853,-290.3696C62.3026,-290.3696 71.6242,-290.3696 80.9135,-290.3696\"/>\n",
       "<polygon fill=\"#000000\" stroke=\"#000000\" points=\"80.927,-293.8697 90.927,-290.3696 80.9269,-286.8697 80.927,-293.8697\"/>\n",
       "</g>\n",
       "<!-- BH -->\n",
       "<g id=\"node2\" class=\"node\">\n",
       "<title>BH</title>\n",
       "<ellipse fill=\"none\" stroke=\"#000000\" cx=\"521.9325\" cy=\"-254.3696\" rx=\"24.0958\" ry=\"24.0958\"/>\n",
       "<text text-anchor=\"middle\" x=\"521.9325\" y=\"-250.6696\" font-family=\"Times,serif\" font-size=\"14.00\" fill=\"#000000\">BH</text>\n",
       "</g>\n",
       "<!-- BH&#45;&gt;BH -->\n",
       "<g id=\"edge32\" class=\"edge\">\n",
       "<title>BH&#45;&gt;BH</title>\n",
       "<path fill=\"none\" stroke=\"#000000\" d=\"M520.4417,-278.5668C520.3575,-288.2717 520.8544,-296.4175 521.9325,-296.4175 522.5895,-296.4175 523.0307,-293.3927 523.256,-288.8334\"/>\n",
       "<polygon fill=\"#000000\" stroke=\"#000000\" points=\"526.7598,-288.6226 523.4234,-278.5668 519.7608,-288.5084 526.7598,-288.6226\"/>\n",
       "<text text-anchor=\"middle\" x=\"521.9325\" y=\"-300.2175\" font-family=\"Times,serif\" font-size=\"14.00\" fill=\"#000000\">c </text>\n",
       "</g>\n",
       "<!-- BH&#45;&gt;BH -->\n",
       "<g id=\"edge33\" class=\"edge\">\n",
       "<title>BH&#45;&gt;BH</title>\n",
       "<path fill=\"none\" stroke=\"#000000\" d=\"M519.287,-278.4166C518.3632,-296.3464 519.245,-314.4175 521.9325,-314.4175 524.0951,-314.4175 525.0885,-302.7161 524.9127,-288.8028\"/>\n",
       "<polygon fill=\"#000000\" stroke=\"#000000\" points=\"528.3984,-288.2986 524.578,-278.4166 521.402,-288.5241 528.3984,-288.2986\"/>\n",
       "<text text-anchor=\"middle\" x=\"521.9325\" y=\"-318.2175\" font-family=\"Times,serif\" font-size=\"14.00\" fill=\"#000000\">f </text>\n",
       "</g>\n",
       "<!-- BH&#45;&gt;BH -->\n",
       "<g id=\"edge34\" class=\"edge\">\n",
       "<title>BH&#45;&gt;BH</title>\n",
       "<path fill=\"none\" stroke=\"#000000\" d=\"M518.4883,-278.3415C516.3313,-303.7561 517.4794,-332.4175 521.9325,-332.4175 525.7942,-332.4175 527.1705,-310.8637 526.0613,-288.5647\"/>\n",
       "<polygon fill=\"#000000\" stroke=\"#000000\" points=\"529.5371,-288.0853 525.3767,-278.3415 522.5527,-288.553 529.5371,-288.0853\"/>\n",
       "<text text-anchor=\"middle\" x=\"521.9325\" y=\"-336.2175\" font-family=\"Times,serif\" font-size=\"14.00\" fill=\"#000000\">a </text>\n",
       "</g>\n",
       "<!-- BH&#45;&gt;BH -->\n",
       "<g id=\"edge35\" class=\"edge\">\n",
       "<title>BH&#45;&gt;BH</title>\n",
       "<path fill=\"none\" stroke=\"#000000\" d=\"M517.8841,-278.4858C514.3018,-310.9437 515.6513,-350.4175 521.9325,-350.4175 527.5758,-350.4175 529.2383,-318.5546 526.9198,-288.5437\"/>\n",
       "<polygon fill=\"#000000\" stroke=\"#000000\" points=\"530.3953,-288.1172 525.981,-278.4858 523.4256,-288.7678 530.3953,-288.1172\"/>\n",
       "<text text-anchor=\"middle\" x=\"521.9325\" y=\"-354.2175\" font-family=\"Times,serif\" font-size=\"14.00\" fill=\"#000000\">d </text>\n",
       "</g>\n",
       "<!-- BH&#45;&gt;BH -->\n",
       "<g id=\"edge36\" class=\"edge\">\n",
       "<title>BH&#45;&gt;BH</title>\n",
       "<path fill=\"none\" stroke=\"#000000\" d=\"M517.4731,-278.1647C512.2625,-317.498 513.7489,-368.4175 521.9325,-368.4175 529.4128,-368.4175 531.2976,-325.8737 527.5869,-288.5223\"/>\n",
       "<polygon fill=\"#000000\" stroke=\"#000000\" points=\"531.0151,-287.6976 526.3919,-278.1647 524.0612,-288.4999 531.0151,-287.6976\"/>\n",
       "<text text-anchor=\"middle\" x=\"521.9325\" y=\"-372.2175\" font-family=\"Times,serif\" font-size=\"14.00\" fill=\"#000000\">s </text>\n",
       "</g>\n",
       "<!-- BH&#45;&gt;BH -->\n",
       "<g id=\"edge37\" class=\"edge\">\n",
       "<title>BH&#45;&gt;BH</title>\n",
       "<path fill=\"none\" stroke=\"#000000\" d=\"M517.1382,-278.0421C510.2329,-324.0361 511.831,-386.4175 521.9325,-386.4175 531.3238,-386.4175 533.3654,-332.5001 528.0573,-287.9596\"/>\n",
       "<polygon fill=\"#000000\" stroke=\"#000000\" points=\"531.5255,-287.4879 526.7268,-278.0421 524.5876,-288.4187 531.5255,-287.4879\"/>\n",
       "<text text-anchor=\"middle\" x=\"521.9325\" y=\"-390.2175\" font-family=\"Times,serif\" font-size=\"14.00\" fill=\"#000000\">b </text>\n",
       "</g>\n",
       "<!-- _I2 -->\n",
       "<g id=\"node4\" class=\"node\">\n",
       "<title>_I2</title>\n",
       "<ellipse fill=\"none\" stroke=\"#000000\" cx=\"244.8904\" cy=\"-461.3696\" rx=\"23.2963\" ry=\"23.2963\"/>\n",
       "<text text-anchor=\"middle\" x=\"244.8904\" y=\"-457.6696\" font-family=\"Times,serif\" font-size=\"14.00\" fill=\"#000000\">_I2</text>\n",
       "</g>\n",
       "<!-- I1_I2_B&#45;&gt;_I2 -->\n",
       "<g id=\"edge4\" class=\"edge\">\n",
       "<title>I1_I2_B&#45;&gt;_I2</title>\n",
       "<path fill=\"none\" stroke=\"#000000\" d=\"M156.379,-325.8009C177.1007,-357.5394 207.1014,-403.49 226.3011,-432.8972\"/>\n",
       "<polygon fill=\"#000000\" stroke=\"#000000\" points=\"223.493,-434.9985 231.8906,-441.4584 229.3544,-431.1716 223.493,-434.9985\"/>\n",
       "<text text-anchor=\"middle\" x=\"198.4925\" y=\"-399.1696\" font-family=\"Times,serif\" font-size=\"14.00\" fill=\"#000000\">a </text>\n",
       "</g>\n",
       "<!-- B -->\n",
       "<g id=\"node5\" class=\"node\">\n",
       "<title>B</title>\n",
       "<ellipse fill=\"none\" stroke=\"#000000\" cx=\"334.2884\" cy=\"-226.3696\" rx=\"18\" ry=\"18\"/>\n",
       "<text text-anchor=\"middle\" x=\"334.2884\" y=\"-222.6696\" font-family=\"Times,serif\" font-size=\"14.00\" fill=\"#000000\">B</text>\n",
       "</g>\n",
       "<!-- I1_I2_B&#45;&gt;B -->\n",
       "<g id=\"edge2\" class=\"edge\">\n",
       "<title>I1_I2_B&#45;&gt;B</title>\n",
       "<path fill=\"none\" stroke=\"#000000\" d=\"M173.9301,-277.4183C213.6505,-264.7736 272.969,-245.8901 307.2241,-234.9853\"/>\n",
       "<polygon fill=\"#000000\" stroke=\"#000000\" points=\"308.5337,-238.2415 317.0008,-231.8729 306.4103,-231.5713 308.5337,-238.2415\"/>\n",
       "<text text-anchor=\"middle\" x=\"244.8904\" y=\"-265.1696\" font-family=\"Times,serif\" font-size=\"14.00\" fill=\"#000000\">b </text>\n",
       "</g>\n",
       "<!-- I1_I2_B&#45;&gt;B -->\n",
       "<g id=\"edge3\" class=\"edge\">\n",
       "<title>I1_I2_B&#45;&gt;B</title>\n",
       "<path fill=\"none\" stroke=\"#000000\" d=\"M164.6216,-261.3879C180.4416,-248.6925 200.6642,-235.1586 221.4925,-228.3696 249.1424,-219.3571 282.6643,-220.1265 305.9444,-222.3626\"/>\n",
       "<polygon fill=\"#000000\" stroke=\"#000000\" points=\"305.8443,-225.873 316.1705,-223.5022 306.6197,-218.9161 305.8443,-225.873\"/>\n",
       "<text text-anchor=\"middle\" x=\"244.8904\" y=\"-232.1696\" font-family=\"Times,serif\" font-size=\"14.00\" fill=\"#000000\">s </text>\n",
       "</g>\n",
       "<!-- F3 -->\n",
       "<g id=\"node6\" class=\"node\">\n",
       "<title>F3</title>\n",
       "<ellipse fill=\"none\" stroke=\"#000000\" cx=\"425.0865\" cy=\"-340.3696\" rx=\"20.6302\" ry=\"20.6302\"/>\n",
       "<ellipse fill=\"none\" stroke=\"#000000\" cx=\"425.0865\" cy=\"-340.3696\" rx=\"24.5979\" ry=\"24.5979\"/>\n",
       "<text text-anchor=\"middle\" x=\"425.0865\" y=\"-336.6696\" font-family=\"Times,serif\" font-size=\"14.00\" fill=\"#000000\">F3</text>\n",
       "</g>\n",
       "<!-- I1_I2_B&#45;&gt;F3 -->\n",
       "<g id=\"edge5\" class=\"edge\">\n",
       "<title>I1_I2_B&#45;&gt;F3</title>\n",
       "<path fill=\"none\" stroke=\"#000000\" d=\"M167.9149,-314.867C175.9745,-319.4672 184.7609,-323.6734 193.4925,-326.3696 260.6203,-347.0976 343.7796,-346.0799 389.9665,-343.3259\"/>\n",
       "<polygon fill=\"#000000\" stroke=\"#000000\" points=\"390.3137,-346.8108 400.0616,-342.6602 389.853,-339.8259 390.3137,-346.8108\"/>\n",
       "<text text-anchor=\"middle\" x=\"292.2884\" y=\"-347.1696\" font-family=\"Times,serif\" font-size=\"14.00\" fill=\"#000000\">f </text>\n",
       "</g>\n",
       "<!-- I1_I2_B&#45;&gt;F3 -->\n",
       "<g id=\"edge6\" class=\"edge\">\n",
       "<title>I1_I2_B&#45;&gt;F3</title>\n",
       "<path fill=\"none\" stroke=\"#000000\" d=\"M175.0598,-297.5334C232.9816,-307.4569 336.5674,-325.2039 390.4231,-334.4308\"/>\n",
       "<polygon fill=\"#000000\" stroke=\"#000000\" points=\"390.0555,-337.9188 400.5029,-336.1578 391.2376,-331.0193 390.0555,-337.9188\"/>\n",
       "<text text-anchor=\"middle\" x=\"292.2884\" y=\"-321.1696\" font-family=\"Times,serif\" font-size=\"14.00\" fill=\"#000000\">c </text>\n",
       "</g>\n",
       "<!-- F4 -->\n",
       "<g id=\"node7\" class=\"node\">\n",
       "<title>F4</title>\n",
       "<ellipse fill=\"none\" stroke=\"#000000\" cx=\"425.0865\" cy=\"-68.3696\" rx=\"20.6302\" ry=\"20.6302\"/>\n",
       "<ellipse fill=\"none\" stroke=\"#000000\" cx=\"425.0865\" cy=\"-68.3696\" rx=\"24.5979\" ry=\"24.5979\"/>\n",
       "<text text-anchor=\"middle\" x=\"425.0865\" y=\"-64.6696\" font-family=\"Times,serif\" font-size=\"14.00\" fill=\"#000000\">F4</text>\n",
       "</g>\n",
       "<!-- I1_I2_B&#45;&gt;F4 -->\n",
       "<g id=\"edge7\" class=\"edge\">\n",
       "<title>I1_I2_B&#45;&gt;F4</title>\n",
       "<path fill=\"none\" stroke=\"#000000\" d=\"M163.2247,-260.1235C172.6851,-250.9596 183.3254,-241.0325 193.4925,-232.3696 268.3364,-168.599 288.0353,-153.2466 370.2884,-99.3696 377.846,-94.4192 386.236,-89.4338 394.1329,-84.9521\"/>\n",
       "<polygon fill=\"#000000\" stroke=\"#000000\" points=\"396.0671,-87.881 403.0972,-79.9546 392.6585,-81.7669 396.0671,-87.881\"/>\n",
       "<text text-anchor=\"middle\" x=\"292.2884\" y=\"-160.1696\" font-family=\"Times,serif\" font-size=\"14.00\" fill=\"#000000\">d </text>\n",
       "</g>\n",
       "<!-- _I2&#45;&gt;BH -->\n",
       "<g id=\"edge28\" class=\"edge\">\n",
       "<title>_I2&#45;&gt;BH</title>\n",
       "<path fill=\"none\" stroke=\"#000000\" d=\"M268.5232,-461.306C321.8391,-460.6645 449.2145,-456.1837 479.8847,-428.3696 500.281,-409.8726 512.5871,-333.6171 518.2306,-288.4233\"/>\n",
       "<polygon fill=\"#000000\" stroke=\"#000000\" points=\"521.7085,-288.8163 519.4288,-278.4696 514.7587,-287.9796 521.7085,-288.8163\"/>\n",
       "<text text-anchor=\"middle\" x=\"376.2884\" y=\"-459.1696\" font-family=\"Times,serif\" font-size=\"14.00\" fill=\"#000000\">f </text>\n",
       "</g>\n",
       "<!-- _I2&#45;&gt;BH -->\n",
       "<g id=\"edge29\" class=\"edge\">\n",
       "<title>_I2&#45;&gt;BH</title>\n",
       "<path fill=\"none\" stroke=\"#000000\" d=\"M248.5535,-484.6816C253.269,-506.0438 263.728,-536.5326 286.2884,-551.3696 358.1777,-598.6483 415.5001,-608.4484 479.8847,-551.3696 499.3376,-534.124 514.0258,-363.0873 519.5472,-288.6654\"/>\n",
       "<polygon fill=\"#000000\" stroke=\"#000000\" points=\"523.0579,-288.6441 520.2948,-278.4159 516.0765,-288.1348 523.0579,-288.6441\"/>\n",
       "<text text-anchor=\"middle\" x=\"376.2884\" y=\"-593.1696\" font-family=\"Times,serif\" font-size=\"14.00\" fill=\"#000000\">a </text>\n",
       "</g>\n",
       "<!-- _I2&#45;&gt;BH -->\n",
       "<g id=\"edge30\" class=\"edge\">\n",
       "<title>_I2&#45;&gt;BH</title>\n",
       "<path fill=\"none\" stroke=\"#000000\" d=\"M255.6687,-482.4406C262.7112,-493.7976 273.0607,-506.7976 286.2884,-513.3696 363.3445,-551.6543 414.924,-569.7919 479.8847,-513.3696 496.6973,-498.7668 512.358,-355.3642 518.8176,-288.4423\"/>\n",
       "<polygon fill=\"#000000\" stroke=\"#000000\" points=\"522.311,-288.6764 519.7741,-278.3898 515.3425,-288.0133 522.311,-288.6764\"/>\n",
       "<text text-anchor=\"middle\" x=\"376.2884\" y=\"-551.1696\" font-family=\"Times,serif\" font-size=\"14.00\" fill=\"#000000\">d </text>\n",
       "</g>\n",
       "<!-- _I2&#45;&gt;BH -->\n",
       "<g id=\"edge31\" class=\"edge\">\n",
       "<title>_I2&#45;&gt;BH</title>\n",
       "<path fill=\"none\" stroke=\"#000000\" d=\"M267.3401,-468.987C315.9916,-483.9129 430.7176,-510.2119 479.8847,-445.3696 498.376,-420.9829 511.6754,-336.2283 517.9255,-288.2197\"/>\n",
       "<polygon fill=\"#000000\" stroke=\"#000000\" points=\"521.3995,-288.6448 519.1867,-278.2836 514.4552,-287.7632 521.3995,-288.6448\"/>\n",
       "<text text-anchor=\"middle\" x=\"376.2884\" y=\"-490.1696\" font-family=\"Times,serif\" font-size=\"14.00\" fill=\"#000000\">s </text>\n",
       "</g>\n",
       "<!-- _I2&#45;&gt;B -->\n",
       "<g id=\"edge9\" class=\"edge\">\n",
       "<title>_I2&#45;&gt;B</title>\n",
       "<path fill=\"none\" stroke=\"#000000\" d=\"M256.8725,-440.7235C271.655,-415.1499 295.2212,-374.0069 298.2884,-366.3696 313.2988,-328.9925 323.6379,-283.4545 329.263,-254.6795\"/>\n",
       "<polygon fill=\"#000000\" stroke=\"#000000\" points=\"332.7643,-255.0008 331.188,-244.5239 325.8868,-253.6971 332.7643,-255.0008\"/>\n",
       "<text text-anchor=\"middle\" x=\"292.2884\" y=\"-390.1696\" font-family=\"Times,serif\" font-size=\"14.00\" fill=\"#000000\">b </text>\n",
       "</g>\n",
       "<!-- _I2&#45;&gt;F3 -->\n",
       "<g id=\"edge8\" class=\"edge\">\n",
       "<title>_I2&#45;&gt;F3</title>\n",
       "<path fill=\"none\" stroke=\"#000000\" d=\"M264.5176,-448.1902C296.2695,-426.869 359.0658,-384.7019 396.0177,-359.889\"/>\n",
       "<polygon fill=\"#000000\" stroke=\"#000000\" points=\"398.0264,-362.7561 404.3773,-354.2757 394.1241,-356.9447 398.0264,-362.7561\"/>\n",
       "<text text-anchor=\"middle\" x=\"334.2884\" y=\"-416.1696\" font-family=\"Times,serif\" font-size=\"14.00\" fill=\"#000000\">c </text>\n",
       "</g>\n",
       "<!-- B&#45;&gt;BH -->\n",
       "<g id=\"edge25\" class=\"edge\">\n",
       "<title>B&#45;&gt;BH</title>\n",
       "<path fill=\"none\" stroke=\"#000000\" d=\"M352.2805,-229.0544C383.4365,-233.7034 447.9145,-243.3248 487.7938,-249.2755\"/>\n",
       "<polygon fill=\"#000000\" stroke=\"#000000\" points=\"487.4472,-252.7624 497.8543,-250.7767 488.4803,-245.8391 487.4472,-252.7624\"/>\n",
       "<text text-anchor=\"middle\" x=\"425.0865\" y=\"-247.1696\" font-family=\"Times,serif\" font-size=\"14.00\" fill=\"#000000\">c </text>\n",
       "</g>\n",
       "<!-- B&#45;&gt;BH -->\n",
       "<g id=\"edge26\" class=\"edge\">\n",
       "<title>B&#45;&gt;BH</title>\n",
       "<path fill=\"none\" stroke=\"#000000\" d=\"M351.7987,-221.3564C374.686,-215.5937 415.8615,-207.9471 449.8847,-216.3696 465.1282,-220.1432 480.7038,-227.7932 493.4552,-235.2465\"/>\n",
       "<polygon fill=\"#000000\" stroke=\"#000000\" points=\"491.8366,-238.359 502.1959,-240.5807 495.4831,-232.3837 491.8366,-238.359\"/>\n",
       "<text text-anchor=\"middle\" x=\"425.0865\" y=\"-220.1696\" font-family=\"Times,serif\" font-size=\"14.00\" fill=\"#000000\">a </text>\n",
       "</g>\n",
       "<!-- B&#45;&gt;BH -->\n",
       "<g id=\"edge27\" class=\"edge\">\n",
       "<title>B&#45;&gt;BH</title>\n",
       "<path fill=\"none\" stroke=\"#000000\" d=\"M349.4638,-215.9898C371.7625,-202.091 414.5615,-180.5809 449.8847,-193.3696 469.0791,-200.319 486.6511,-214.9461 499.6357,-228.1348\"/>\n",
       "<polygon fill=\"#000000\" stroke=\"#000000\" points=\"497.3241,-230.7854 506.7283,-235.665 502.4197,-225.9859 497.3241,-230.7854\"/>\n",
       "<text text-anchor=\"middle\" x=\"425.0865\" y=\"-197.1696\" font-family=\"Times,serif\" font-size=\"14.00\" fill=\"#000000\">b </text>\n",
       "</g>\n",
       "<!-- B&#45;&gt;B -->\n",
       "<g id=\"edge10\" class=\"edge\">\n",
       "<title>B&#45;&gt;B</title>\n",
       "<path fill=\"none\" stroke=\"#000000\" d=\"M326.9055,-243.0337C325.2649,-252.9946 327.7259,-262.3696 334.2884,-262.3696 338.4925,-262.3696 341.0133,-258.5221 341.8508,-253.1379\"/>\n",
       "<polygon fill=\"#000000\" stroke=\"#000000\" points=\"345.3485,-252.9698 341.6712,-243.0337 338.3496,-253.0943 345.3485,-252.9698\"/>\n",
       "<text text-anchor=\"middle\" x=\"334.2884\" y=\"-266.1696\" font-family=\"Times,serif\" font-size=\"14.00\" fill=\"#000000\">s </text>\n",
       "</g>\n",
       "<!-- B&#45;&gt;F3 -->\n",
       "<g id=\"edge11\" class=\"edge\">\n",
       "<title>B&#45;&gt;F3</title>\n",
       "<path fill=\"none\" stroke=\"#000000\" d=\"M346.3448,-240.2435C356.1882,-251.6754 370.3688,-268.3851 382.2884,-283.3696 389.602,-292.5638 397.3771,-302.7779 404.2656,-311.9909\"/>\n",
       "<polygon fill=\"#000000\" stroke=\"#000000\" points=\"401.5285,-314.1756 410.3038,-320.1124 407.1461,-309.9991 401.5285,-314.1756\"/>\n",
       "<text text-anchor=\"middle\" x=\"376.2884\" y=\"-287.1696\" font-family=\"Times,serif\" font-size=\"14.00\" fill=\"#000000\">f </text>\n",
       "</g>\n",
       "<!-- B&#45;&gt;F4 -->\n",
       "<g id=\"edge12\" class=\"edge\">\n",
       "<title>B&#45;&gt;F4</title>\n",
       "<path fill=\"none\" stroke=\"#000000\" d=\"M337.1442,-208.325C341.422,-185.4116 351.1256,-145.3734 370.2884,-116.3696 377.1904,-105.923 386.9493,-96.3778 396.3232,-88.599\"/>\n",
       "<polygon fill=\"#000000\" stroke=\"#000000\" points=\"398.6992,-91.1825 404.3803,-82.2396 394.3623,-85.6878 398.6992,-91.1825\"/>\n",
       "<text text-anchor=\"middle\" x=\"376.2884\" y=\"-120.1696\" font-family=\"Times,serif\" font-size=\"14.00\" fill=\"#000000\">d </text>\n",
       "</g>\n",
       "<!-- F3&#45;&gt;BH -->\n",
       "<g id=\"edge19\" class=\"edge\">\n",
       "<title>F3&#45;&gt;BH</title>\n",
       "<path fill=\"none\" stroke=\"#000000\" d=\"M437.6616,-361.974C448.5989,-377.9526 464.9871,-395.2085 479.8847,-384.3696 495.6162,-372.924 508.4509,-322.7735 515.6423,-288.2172\"/>\n",
       "<polygon fill=\"#000000\" stroke=\"#000000\" points=\"519.146,-288.548 517.69,-278.0537 512.2838,-287.1654 519.146,-288.548\"/>\n",
       "<text text-anchor=\"middle\" x=\"473.8847\" y=\"-391.1696\" font-family=\"Times,serif\" font-size=\"14.00\" fill=\"#000000\">c </text>\n",
       "</g>\n",
       "<!-- F3&#45;&gt;BH -->\n",
       "<g id=\"edge20\" class=\"edge\">\n",
       "<title>F3&#45;&gt;BH</title>\n",
       "<path fill=\"none\" stroke=\"#000000\" d=\"M448.4901,-349.3031C458.8348,-351.722 470.7055,-352.2668 479.8847,-346.3696 499.8193,-333.5625 510.4209,-308.7003 515.99,-288.0474\"/>\n",
       "<polygon fill=\"#000000\" stroke=\"#000000\" points=\"519.3943,-288.8602 518.3385,-278.3181 512.5897,-287.2176 519.3943,-288.8602\"/>\n",
       "<text text-anchor=\"middle\" x=\"473.8847\" y=\"-354.1696\" font-family=\"Times,serif\" font-size=\"14.00\" fill=\"#000000\">f </text>\n",
       "</g>\n",
       "<!-- F3&#45;&gt;BH -->\n",
       "<g id=\"edge21\" class=\"edge\">\n",
       "<title>F3&#45;&gt;BH</title>\n",
       "<path fill=\"none\" stroke=\"#000000\" d=\"M447.6985,-329.677C458.1145,-324.1447 470.2674,-316.7854 479.8847,-308.3696 488.3549,-300.9576 496.3138,-291.6372 502.9802,-282.8356\"/>\n",
       "<polygon fill=\"#000000\" stroke=\"#000000\" points=\"505.8941,-284.7797 508.95,-274.6351 500.2349,-280.6598 505.8941,-284.7797\"/>\n",
       "<text text-anchor=\"middle\" x=\"473.8847\" y=\"-320.1696\" font-family=\"Times,serif\" font-size=\"14.00\" fill=\"#000000\">a </text>\n",
       "</g>\n",
       "<!-- F3&#45;&gt;BH -->\n",
       "<g id=\"edge22\" class=\"edge\">\n",
       "<title>F3&#45;&gt;BH</title>\n",
       "<path fill=\"none\" stroke=\"#000000\" d=\"M439.6883,-320.2579C447.4366,-310.3336 457.4901,-298.5535 467.8847,-289.3696 475.2058,-282.9011 483.8269,-276.7703 492.0072,-271.5003\"/>\n",
       "<polygon fill=\"#000000\" stroke=\"#000000\" points=\"493.9811,-274.3946 500.6284,-266.1445 490.2871,-268.4485 493.9811,-274.3946\"/>\n",
       "<text text-anchor=\"middle\" x=\"473.8847\" y=\"-293.1696\" font-family=\"Times,serif\" font-size=\"14.00\" fill=\"#000000\">d </text>\n",
       "</g>\n",
       "<!-- F3&#45;&gt;BH -->\n",
       "<g id=\"edge23\" class=\"edge\">\n",
       "<title>F3&#45;&gt;BH</title>\n",
       "<path fill=\"none\" stroke=\"#000000\" d=\"M431.6015,-316.2855C437.8285,-298.1408 449.1085,-274.258 467.8847,-261.3696 473.7023,-257.3763 480.7173,-255.1155 487.7382,-253.9168\"/>\n",
       "<polygon fill=\"#000000\" stroke=\"#000000\" points=\"488.3142,-257.3755 497.8903,-252.8424 487.5774,-250.4144 488.3142,-257.3755\"/>\n",
       "<text text-anchor=\"middle\" x=\"473.8847\" y=\"-265.1696\" font-family=\"Times,serif\" font-size=\"14.00\" fill=\"#000000\">s </text>\n",
       "</g>\n",
       "<!-- F3&#45;&gt;BH -->\n",
       "<g id=\"edge24\" class=\"edge\">\n",
       "<title>F3&#45;&gt;BH</title>\n",
       "<path fill=\"none\" stroke=\"#000000\" d=\"M433.1741,-364.2153C442.803,-388.7551 460.0919,-421.4304 479.8847,-406.3696 498.576,-392.1469 511.0996,-328.7187 517.3274,-288.4258\"/>\n",
       "<polygon fill=\"#000000\" stroke=\"#000000\" points=\"520.7977,-288.8839 518.8106,-278.4771 513.8743,-287.8517 520.7977,-288.8839\"/>\n",
       "<text text-anchor=\"middle\" x=\"473.8847\" y=\"-413.1696\" font-family=\"Times,serif\" font-size=\"14.00\" fill=\"#000000\">b </text>\n",
       "</g>\n",
       "<!-- F4&#45;&gt;BH -->\n",
       "<g id=\"edge13\" class=\"edge\">\n",
       "<title>F4&#45;&gt;BH</title>\n",
       "<path fill=\"none\" stroke=\"#000000\" d=\"M447.948,-78.5695C459.0676,-84.6014 471.7543,-93.252 479.8847,-104.3696 504.9856,-138.6934 515.1147,-187.4362 519.1943,-219.9397\"/>\n",
       "<polygon fill=\"#000000\" stroke=\"#000000\" points=\"515.7632,-220.7495 520.3588,-230.2958 522.7194,-219.9673 515.7632,-220.7495\"/>\n",
       "<text text-anchor=\"middle\" x=\"473.8847\" y=\"-108.1696\" font-family=\"Times,serif\" font-size=\"14.00\" fill=\"#000000\">c </text>\n",
       "</g>\n",
       "<!-- F4&#45;&gt;BH -->\n",
       "<g id=\"edge14\" class=\"edge\">\n",
       "<title>F4&#45;&gt;BH</title>\n",
       "<path fill=\"none\" stroke=\"#000000\" d=\"M449.7037,-65.18C460.166,-65.187 471.7913,-67.1966 479.8847,-74.3696 501.3751,-93.4162 513.3678,-173.8013 518.6395,-220.4552\"/>\n",
       "<polygon fill=\"#000000\" stroke=\"#000000\" points=\"515.1624,-220.8569 519.7214,-230.4206 522.1215,-220.1012 515.1624,-220.8569\"/>\n",
       "<text text-anchor=\"middle\" x=\"473.8847\" y=\"-78.1696\" font-family=\"Times,serif\" font-size=\"14.00\" fill=\"#000000\">f </text>\n",
       "</g>\n",
       "<!-- F4&#45;&gt;BH -->\n",
       "<g id=\"edge15\" class=\"edge\">\n",
       "<title>F4&#45;&gt;BH</title>\n",
       "<path fill=\"none\" stroke=\"#000000\" d=\"M444.733,-52.919C455.9835,-46.0479 469.8193,-41.1592 479.8847,-49.3696 505.828,-70.5318 516.2099,-167.4754 519.9903,-220.1169\"/>\n",
       "<polygon fill=\"#000000\" stroke=\"#000000\" points=\"516.5139,-220.5857 520.6806,-230.3269 523.498,-220.1135 516.5139,-220.5857\"/>\n",
       "<text text-anchor=\"middle\" x=\"473.8847\" y=\"-53.1696\" font-family=\"Times,serif\" font-size=\"14.00\" fill=\"#000000\">a </text>\n",
       "</g>\n",
       "<!-- F4&#45;&gt;BH -->\n",
       "<g id=\"edge16\" class=\"edge\">\n",
       "<title>F4&#45;&gt;BH</title>\n",
       "<path fill=\"none\" stroke=\"#000000\" d=\"M438.1597,-47.1247C449.4085,-31.483 465.9741,-14.7898 479.8847,-26.3696 509.0072,-50.6124 518.0366,-162.5254 520.7758,-220.0369\"/>\n",
       "<polygon fill=\"#000000\" stroke=\"#000000\" points=\"517.2827,-220.2721 521.2175,-230.1091 524.2759,-219.9653 517.2827,-220.2721\"/>\n",
       "<text text-anchor=\"middle\" x=\"473.8847\" y=\"-30.1696\" font-family=\"Times,serif\" font-size=\"14.00\" fill=\"#000000\">d </text>\n",
       "</g>\n",
       "<!-- F4&#45;&gt;BH -->\n",
       "<g id=\"edge17\" class=\"edge\">\n",
       "<title>F4&#45;&gt;BH</title>\n",
       "<path fill=\"none\" stroke=\"#000000\" d=\"M433.5882,-44.8218C443.5971,-20.6358 461.2339,11.4062 479.8847,-4.3696 496.1982,-18.1685 511.9568,-154.8835 518.6155,-220.0981\"/>\n",
       "<polygon fill=\"#000000\" stroke=\"#000000\" points=\"515.1576,-220.6921 519.6415,-230.2913 522.1224,-219.991 515.1576,-220.6921\"/>\n",
       "<text text-anchor=\"middle\" x=\"473.8847\" y=\"-8.1696\" font-family=\"Times,serif\" font-size=\"14.00\" fill=\"#000000\">s </text>\n",
       "</g>\n",
       "<!-- F4&#45;&gt;BH -->\n",
       "<g id=\"edge18\" class=\"edge\">\n",
       "<title>F4&#45;&gt;BH</title>\n",
       "<path fill=\"none\" stroke=\"#000000\" d=\"M441.3054,-87.158C453.1413,-101.5521 468.9595,-122.2889 479.8847,-142.3696 493.6326,-167.6385 504.8124,-198.3489 512.1788,-221.2162\"/>\n",
       "<polygon fill=\"#000000\" stroke=\"#000000\" points=\"508.8567,-222.3196 515.1945,-230.8098 515.5345,-220.2204 508.8567,-222.3196\"/>\n",
       "<text text-anchor=\"middle\" x=\"473.8847\" y=\"-146.1696\" font-family=\"Times,serif\" font-size=\"14.00\" fill=\"#000000\">b </text>\n",
       "</g>\n",
       "</g>\n",
       "</svg>\n"
      ],
      "text/plain": [
       "<graphviz.dot.Digraph at 0x7fde62071dd8>"
      ]
     },
     "execution_count": 33,
     "metadata": {
      "tags": []
     },
     "output_type": "execute_result"
    }
   ],
   "source": [
    "dotObj_dfa_w_bh(tdfa1)"
   ]
  },
  {
   "cell_type": "markdown",
   "metadata": {
    "id": "eMdiPwL01Fal"
   },
   "source": [
    "### Your explanation of totalize_dfa:\n",
    "\n",
    "* For any input in $\\sum$ where a state does not have a transition, the next state becomes the black hole. \n",
    "\n",
    "* For any input received by the black hole, the next state is the black hole.\n",
    "\n"
   ]
  },
  {
   "cell_type": "markdown",
   "metadata": {
    "id": "27sayTkz1Fal"
   },
   "source": [
    "##  Compare the dfa with and without the black hole:"
   ]
  },
  {
   "cell_type": "code",
   "execution_count": null,
   "metadata": {
    "colab": {
     "base_uri": "https://localhost:8080/",
     "height": 374
    },
    "id": "rDOSZT6p1Fal",
    "outputId": "291bcd4d-32b2-4288-ef29-f5f990ef9b02"
   },
   "outputs": [
    {
     "data": {
      "image/svg+xml": [
       "<?xml version=\"1.0\" encoding=\"UTF-8\" standalone=\"no\"?>\n",
       "<!DOCTYPE svg PUBLIC \"-//W3C//DTD SVG 1.1//EN\"\n",
       " \"http://www.w3.org/Graphics/SVG/1.1/DTD/svg11.dtd\">\n",
       "<!-- Generated by graphviz version 2.40.1 (20161225.0304)\n",
       " -->\n",
       "<!-- Title: %3 Pages: 1 -->\n",
       "<svg width=\"458pt\" height=\"265pt\"\n",
       " viewBox=\"0.00 0.00 457.88 264.80\" xmlns=\"http://www.w3.org/2000/svg\" xmlns:xlink=\"http://www.w3.org/1999/xlink\">\n",
       "<g id=\"graph0\" class=\"graph\" transform=\"scale(1 1) rotate(0) translate(4 260.7982)\">\n",
       "<title>%3</title>\n",
       "<polygon fill=\"#ffffff\" stroke=\"transparent\" points=\"-4,4 -4,-260.7982 453.8847,-260.7982 453.8847,4 -4,4\"/>\n",
       "<!-- EMPTY -->\n",
       "<g id=\"node1\" class=\"node\">\n",
       "<title>EMPTY</title>\n",
       "</g>\n",
       "<!-- I1_I2_B -->\n",
       "<g id=\"node2\" class=\"node\">\n",
       "<title>I1_I2_B</title>\n",
       "<ellipse fill=\"none\" stroke=\"#000000\" cx=\"133.2463\" cy=\"-122.7982\" rx=\"42.4939\" ry=\"42.4939\"/>\n",
       "<text text-anchor=\"middle\" x=\"133.2463\" y=\"-119.0982\" font-family=\"Times,serif\" font-size=\"14.00\" fill=\"#000000\">I1_I2_B</text>\n",
       "</g>\n",
       "<!-- EMPTY&#45;&gt;I1_I2_B -->\n",
       "<g id=\"edge1\" class=\"edge\">\n",
       "<title>EMPTY&#45;&gt;I1_I2_B</title>\n",
       "<path fill=\"none\" stroke=\"#000000\" d=\"M54.0853,-122.7982C62.3026,-122.7982 71.6242,-122.7982 80.9135,-122.7982\"/>\n",
       "<polygon fill=\"#000000\" stroke=\"#000000\" points=\"80.927,-126.2983 90.927,-122.7982 80.9269,-119.2983 80.927,-126.2983\"/>\n",
       "</g>\n",
       "<!-- _I2 -->\n",
       "<g id=\"node3\" class=\"node\">\n",
       "<title>_I2</title>\n",
       "<ellipse fill=\"none\" stroke=\"#000000\" cx=\"244.8904\" cy=\"-150.7982\" rx=\"23.2963\" ry=\"23.2963\"/>\n",
       "<text text-anchor=\"middle\" x=\"244.8904\" y=\"-147.0982\" font-family=\"Times,serif\" font-size=\"14.00\" fill=\"#000000\">_I2</text>\n",
       "</g>\n",
       "<!-- I1_I2_B&#45;&gt;_I2 -->\n",
       "<g id=\"edge4\" class=\"edge\">\n",
       "<title>I1_I2_B&#45;&gt;_I2</title>\n",
       "<path fill=\"none\" stroke=\"#000000\" d=\"M174.5012,-133.1448C186.8962,-136.2534 200.3215,-139.6204 212.0912,-142.5722\"/>\n",
       "<polygon fill=\"#000000\" stroke=\"#000000\" points=\"211.3895,-146.0046 221.9406,-145.0424 213.0924,-139.2148 211.3895,-146.0046\"/>\n",
       "<text text-anchor=\"middle\" x=\"198.4925\" y=\"-143.5982\" font-family=\"Times,serif\" font-size=\"14.00\" fill=\"#000000\">a </text>\n",
       "</g>\n",
       "<!-- B -->\n",
       "<g id=\"node4\" class=\"node\">\n",
       "<title>B</title>\n",
       "<ellipse fill=\"none\" stroke=\"#000000\" cx=\"334.2884\" cy=\"-71.7982\" rx=\"18\" ry=\"18\"/>\n",
       "<text text-anchor=\"middle\" x=\"334.2884\" y=\"-68.0982\" font-family=\"Times,serif\" font-size=\"14.00\" fill=\"#000000\">B</text>\n",
       "</g>\n",
       "<!-- I1_I2_B&#45;&gt;B -->\n",
       "<g id=\"edge2\" class=\"edge\">\n",
       "<title>I1_I2_B&#45;&gt;B</title>\n",
       "<path fill=\"none\" stroke=\"#000000\" d=\"M174.4153,-112.3545C213.9763,-102.3187 272.646,-87.4355 306.8216,-78.7659\"/>\n",
       "<polygon fill=\"#000000\" stroke=\"#000000\" points=\"307.7608,-82.1386 316.5932,-76.287 306.0396,-75.3535 307.7608,-82.1386\"/>\n",
       "<text text-anchor=\"middle\" x=\"244.8904\" y=\"-103.5982\" font-family=\"Times,serif\" font-size=\"14.00\" fill=\"#000000\">b </text>\n",
       "</g>\n",
       "<!-- I1_I2_B&#45;&gt;B -->\n",
       "<g id=\"edge3\" class=\"edge\">\n",
       "<title>I1_I2_B&#45;&gt;B</title>\n",
       "<path fill=\"none\" stroke=\"#000000\" d=\"M166.8731,-96.7113C182.5574,-86.1517 202.0318,-75.193 221.4925,-69.7982 249.5173,-62.0292 282.9791,-63.9453 306.1427,-66.9251\"/>\n",
       "<polygon fill=\"#000000\" stroke=\"#000000\" points=\"305.9144,-70.4282 316.3107,-68.3867 306.9104,-63.4994 305.9144,-70.4282\"/>\n",
       "<text text-anchor=\"middle\" x=\"244.8904\" y=\"-73.5982\" font-family=\"Times,serif\" font-size=\"14.00\" fill=\"#000000\">s </text>\n",
       "</g>\n",
       "<!-- F3 -->\n",
       "<g id=\"node5\" class=\"node\">\n",
       "<title>F3</title>\n",
       "<ellipse fill=\"none\" stroke=\"#000000\" cx=\"425.0865\" cy=\"-179.7982\" rx=\"20.6302\" ry=\"20.6302\"/>\n",
       "<ellipse fill=\"none\" stroke=\"#000000\" cx=\"425.0865\" cy=\"-179.7982\" rx=\"24.5979\" ry=\"24.5979\"/>\n",
       "<text text-anchor=\"middle\" x=\"425.0865\" y=\"-176.0982\" font-family=\"Times,serif\" font-size=\"14.00\" fill=\"#000000\">F3</text>\n",
       "</g>\n",
       "<!-- I1_I2_B&#45;&gt;F3 -->\n",
       "<g id=\"edge5\" class=\"edge\">\n",
       "<title>I1_I2_B&#45;&gt;F3</title>\n",
       "<path fill=\"none\" stroke=\"#000000\" d=\"M148.3999,-162.6886C158.1119,-182.3532 172.827,-204.2724 193.4925,-215.7982 266.7748,-256.6696 303.8045,-245.4806 382.2884,-215.7982 388.7561,-213.3521 394.9376,-209.4808 400.4914,-205.1666\"/>\n",
       "<polygon fill=\"#000000\" stroke=\"#000000\" points=\"402.8025,-207.7956 408.1397,-198.6433 398.26,-202.4697 402.8025,-207.7956\"/>\n",
       "<text text-anchor=\"middle\" x=\"292.2884\" y=\"-245.5982\" font-family=\"Times,serif\" font-size=\"14.00\" fill=\"#000000\">f </text>\n",
       "</g>\n",
       "<!-- I1_I2_B&#45;&gt;F3 -->\n",
       "<g id=\"edge6\" class=\"edge\">\n",
       "<title>I1_I2_B&#45;&gt;F3</title>\n",
       "<path fill=\"none\" stroke=\"#000000\" d=\"M165.2193,-151.0422C181.0203,-163.2104 201.0552,-176.1527 221.4925,-182.7982 278.55,-201.351 349.4414,-193.9845 390.7432,-186.9121\"/>\n",
       "<polygon fill=\"#000000\" stroke=\"#000000\" points=\"391.6098,-190.3123 400.8277,-185.0892 390.3646,-183.4239 391.6098,-190.3123\"/>\n",
       "<text text-anchor=\"middle\" x=\"292.2884\" y=\"-197.5982\" font-family=\"Times,serif\" font-size=\"14.00\" fill=\"#000000\">c </text>\n",
       "</g>\n",
       "<!-- F4 -->\n",
       "<g id=\"node6\" class=\"node\">\n",
       "<title>F4</title>\n",
       "<ellipse fill=\"none\" stroke=\"#000000\" cx=\"425.0865\" cy=\"-24.7982\" rx=\"20.6302\" ry=\"20.6302\"/>\n",
       "<ellipse fill=\"none\" stroke=\"#000000\" cx=\"425.0865\" cy=\"-24.7982\" rx=\"24.5979\" ry=\"24.5979\"/>\n",
       "<text text-anchor=\"middle\" x=\"425.0865\" y=\"-21.0982\" font-family=\"Times,serif\" font-size=\"14.00\" fill=\"#000000\">F4</text>\n",
       "</g>\n",
       "<!-- I1_I2_B&#45;&gt;F4 -->\n",
       "<g id=\"edge7\" class=\"edge\">\n",
       "<title>I1_I2_B&#45;&gt;F4</title>\n",
       "<path fill=\"none\" stroke=\"#000000\" d=\"M164.089,-93.6615C173.145,-85.9654 183.3514,-78.0672 193.4925,-71.7982 255.1352,-33.6916 341.9734,-25.7954 389.8888,-24.5618\"/>\n",
       "<polygon fill=\"#000000\" stroke=\"#000000\" points=\"390.1267,-28.0583 400.0648,-24.3861 390.0058,-21.0594 390.1267,-28.0583\"/>\n",
       "<text text-anchor=\"middle\" x=\"292.2884\" y=\"-40.5982\" font-family=\"Times,serif\" font-size=\"14.00\" fill=\"#000000\">d </text>\n",
       "</g>\n",
       "<!-- _I2&#45;&gt;B -->\n",
       "<g id=\"edge9\" class=\"edge\">\n",
       "<title>_I2&#45;&gt;B</title>\n",
       "<path fill=\"none\" stroke=\"#000000\" d=\"M263.4918,-136.0933C273.9007,-127.7111 287.0124,-116.8945 298.2884,-106.7982 303.6115,-102.0319 309.2166,-96.7296 314.3773,-91.7231\"/>\n",
       "<polygon fill=\"#000000\" stroke=\"#000000\" points=\"316.851,-94.1995 321.5359,-84.6967 311.9475,-89.2038 316.851,-94.1995\"/>\n",
       "<text text-anchor=\"middle\" x=\"292.2884\" y=\"-119.5982\" font-family=\"Times,serif\" font-size=\"14.00\" fill=\"#000000\">b </text>\n",
       "</g>\n",
       "<!-- _I2&#45;&gt;F3 -->\n",
       "<g id=\"edge8\" class=\"edge\">\n",
       "<title>_I2&#45;&gt;F3</title>\n",
       "<path fill=\"none\" stroke=\"#000000\" d=\"M268.079,-154.53C299.1378,-159.5285 354.4989,-168.4381 390.4947,-174.2311\"/>\n",
       "<polygon fill=\"#000000\" stroke=\"#000000\" points=\"390.1172,-177.7153 400.5463,-175.8488 391.2295,-170.8042 390.1172,-177.7153\"/>\n",
       "<text text-anchor=\"middle\" x=\"334.2884\" y=\"-170.5982\" font-family=\"Times,serif\" font-size=\"14.00\" fill=\"#000000\">c </text>\n",
       "</g>\n",
       "<!-- B&#45;&gt;B -->\n",
       "<g id=\"edge10\" class=\"edge\">\n",
       "<title>B&#45;&gt;B</title>\n",
       "<path fill=\"none\" stroke=\"#000000\" d=\"M327.2571,-88.4622C325.6946,-98.4232 328.0384,-107.7982 334.2884,-107.7982 338.2923,-107.7982 340.693,-103.9507 341.4907,-98.5664\"/>\n",
       "<polygon fill=\"#000000\" stroke=\"#000000\" points=\"344.9885,-98.4015 341.3196,-88.4622 337.9895,-98.5201 344.9885,-98.4015\"/>\n",
       "<text text-anchor=\"middle\" x=\"334.2884\" y=\"-111.5982\" font-family=\"Times,serif\" font-size=\"14.00\" fill=\"#000000\">s </text>\n",
       "</g>\n",
       "<!-- B&#45;&gt;F3 -->\n",
       "<g id=\"edge11\" class=\"edge\">\n",
       "<title>B&#45;&gt;F3</title>\n",
       "<path fill=\"none\" stroke=\"#000000\" d=\"M346.1586,-85.9173C360.3953,-102.8511 384.5709,-131.6068 402.4236,-152.8417\"/>\n",
       "<polygon fill=\"#000000\" stroke=\"#000000\" points=\"399.8081,-155.1696 408.9223,-160.5716 405.1661,-150.665 399.8081,-155.1696\"/>\n",
       "<text text-anchor=\"middle\" x=\"376.2884\" y=\"-129.5982\" font-family=\"Times,serif\" font-size=\"14.00\" fill=\"#000000\">f </text>\n",
       "</g>\n",
       "<!-- B&#45;&gt;F4 -->\n",
       "<g id=\"edge12\" class=\"edge\">\n",
       "<title>B&#45;&gt;F4</title>\n",
       "<path fill=\"none\" stroke=\"#000000\" d=\"M350.5212,-63.3955C362.4885,-57.2009 379.1447,-48.5791 393.6799,-41.0552\"/>\n",
       "<polygon fill=\"#000000\" stroke=\"#000000\" points=\"395.583,-44.0113 402.8548,-36.306 392.3651,-37.7947 395.583,-44.0113\"/>\n",
       "<text text-anchor=\"middle\" x=\"376.2884\" y=\"-55.5982\" font-family=\"Times,serif\" font-size=\"14.00\" fill=\"#000000\">d </text>\n",
       "</g>\n",
       "</g>\n",
       "</svg>\n"
      ],
      "text/plain": [
       "<graphviz.dot.Digraph at 0x7fde62071d30>"
      ]
     },
     "execution_count": 34,
     "metadata": {
      "tags": []
     },
     "output_type": "execute_result"
    }
   ],
   "source": [
    "dotObj_dfa(tdfa1)"
   ]
  },
  {
   "cell_type": "code",
   "execution_count": null,
   "metadata": {
    "colab": {
     "base_uri": "https://localhost:8080/",
     "height": 447
    },
    "id": "dWbXpki11Fam",
    "outputId": "b10429dd-22a8-47df-f236-8c2e0dacbd0f"
   },
   "outputs": [
    {
     "data": {
      "image/svg+xml": [
       "<?xml version=\"1.0\" encoding=\"UTF-8\" standalone=\"no\"?>\n",
       "<!DOCTYPE svg PUBLIC \"-//W3C//DTD SVG 1.1//EN\"\n",
       " \"http://www.w3.org/Graphics/SVG/1.1/DTD/svg11.dtd\">\n",
       "<!-- Generated by graphviz version 2.40.1 (20161225.0304)\n",
       " -->\n",
       "<!-- Title: %3 Pages: 1 -->\n",
       "<svg width=\"606pt\" height=\"320pt\"\n",
       " viewBox=\"0.00 0.00 605.88 319.72\" xmlns=\"http://www.w3.org/2000/svg\" xmlns:xlink=\"http://www.w3.org/1999/xlink\">\n",
       "<g id=\"graph0\" class=\"graph\" transform=\"scale(1 1) rotate(0) translate(4 315.7176)\">\n",
       "<title>%3</title>\n",
       "<polygon fill=\"#ffffff\" stroke=\"transparent\" points=\"-4,4 -4,-315.7176 601.8847,-315.7176 601.8847,4 -4,4\"/>\n",
       "<!-- EMPTY -->\n",
       "<g id=\"node1\" class=\"node\">\n",
       "<title>EMPTY</title>\n",
       "</g>\n",
       "<!-- I1_I2_B -->\n",
       "<g id=\"node3\" class=\"node\">\n",
       "<title>I1_I2_B</title>\n",
       "<ellipse fill=\"none\" stroke=\"#000000\" cx=\"133.2463\" cy=\"-147.2529\" rx=\"42.4939\" ry=\"42.4939\"/>\n",
       "<text text-anchor=\"middle\" x=\"133.2463\" y=\"-143.5529\" font-family=\"Times,serif\" font-size=\"14.00\" fill=\"#000000\">I1_I2_B</text>\n",
       "</g>\n",
       "<!-- EMPTY&#45;&gt;I1_I2_B -->\n",
       "<g id=\"edge1\" class=\"edge\">\n",
       "<title>EMPTY&#45;&gt;I1_I2_B</title>\n",
       "<path fill=\"none\" stroke=\"#000000\" d=\"M54.0853,-147.2529C62.3026,-147.2529 71.6242,-147.2529 80.9135,-147.2529\"/>\n",
       "<polygon fill=\"#000000\" stroke=\"#000000\" points=\"80.927,-150.753 90.927,-147.2529 80.9269,-143.753 80.927,-150.753\"/>\n",
       "</g>\n",
       "<!-- BH -->\n",
       "<g id=\"node2\" class=\"node\">\n",
       "<title>BH</title>\n",
       "<ellipse fill=\"none\" stroke=\"#000000\" cx=\"552.8847\" cy=\"-125.2529\" rx=\"24.0958\" ry=\"24.0958\"/>\n",
       "<text text-anchor=\"middle\" x=\"552.8847\" y=\"-121.5529\" font-family=\"Times,serif\" font-size=\"14.00\" fill=\"#000000\">BH</text>\n",
       "</g>\n",
       "<!-- BH&#45;&gt;BH -->\n",
       "<g id=\"edge15\" class=\"edge\">\n",
       "<title>BH&#45;&gt;BH</title>\n",
       "<path fill=\"none\" stroke=\"#000000\" d=\"M540.3012,-146.0219C538.1628,-157.1567 542.3573,-167.3008 552.8847,-167.3008 559.9577,-167.3008 564.172,-162.7216 565.5276,-156.3393\"/>\n",
       "<polygon fill=\"#000000\" stroke=\"#000000\" points=\"569.0258,-156.0015 565.4681,-146.0219 562.0259,-156.0419 569.0258,-156.0015\"/>\n",
       "<text text-anchor=\"middle\" x=\"552.8847\" y=\"-246.1008\" font-family=\"Times,serif\" font-size=\"14.00\" fill=\"#000000\">c </text>\n",
       "<text text-anchor=\"middle\" x=\"552.8847\" y=\"-231.1008\" font-family=\"Times,serif\" font-size=\"14.00\" fill=\"#000000\"> a </text>\n",
       "<text text-anchor=\"middle\" x=\"552.8847\" y=\"-216.1008\" font-family=\"Times,serif\" font-size=\"14.00\" fill=\"#000000\"> d </text>\n",
       "<text text-anchor=\"middle\" x=\"552.8847\" y=\"-201.1008\" font-family=\"Times,serif\" font-size=\"14.00\" fill=\"#000000\"> s </text>\n",
       "<text text-anchor=\"middle\" x=\"552.8847\" y=\"-186.1008\" font-family=\"Times,serif\" font-size=\"14.00\" fill=\"#000000\"> b </text>\n",
       "<text text-anchor=\"middle\" x=\"552.8847\" y=\"-171.1008\" font-family=\"Times,serif\" font-size=\"14.00\" fill=\"#000000\"> f </text>\n",
       "</g>\n",
       "<!-- _I2 -->\n",
       "<g id=\"node4\" class=\"node\">\n",
       "<title>_I2</title>\n",
       "<ellipse fill=\"none\" stroke=\"#000000\" cx=\"244.8904\" cy=\"-191.2529\" rx=\"23.2963\" ry=\"23.2963\"/>\n",
       "<text text-anchor=\"middle\" x=\"244.8904\" y=\"-187.5529\" font-family=\"Times,serif\" font-size=\"14.00\" fill=\"#000000\">_I2</text>\n",
       "</g>\n",
       "<!-- I1_I2_B&#45;&gt;_I2 -->\n",
       "<g id=\"edge3\" class=\"edge\">\n",
       "<title>I1_I2_B&#45;&gt;_I2</title>\n",
       "<path fill=\"none\" stroke=\"#000000\" d=\"M172.6078,-162.7657C185.9828,-168.0369 200.7423,-173.8537 213.4183,-178.8494\"/>\n",
       "<polygon fill=\"#000000\" stroke=\"#000000\" points=\"212.4844,-182.2433 223.0713,-182.6538 215.051,-175.7309 212.4844,-182.2433\"/>\n",
       "<text text-anchor=\"middle\" x=\"198.4925\" y=\"-178.0529\" font-family=\"Times,serif\" font-size=\"14.00\" fill=\"#000000\">a </text>\n",
       "</g>\n",
       "<!-- B -->\n",
       "<g id=\"node5\" class=\"node\">\n",
       "<title>B</title>\n",
       "<ellipse fill=\"none\" stroke=\"#000000\" cx=\"336.2884\" cy=\"-108.2529\" rx=\"18\" ry=\"18\"/>\n",
       "<text text-anchor=\"middle\" x=\"336.2884\" y=\"-104.5529\" font-family=\"Times,serif\" font-size=\"14.00\" fill=\"#000000\">B</text>\n",
       "</g>\n",
       "<!-- I1_I2_B&#45;&gt;B -->\n",
       "<g id=\"edge2\" class=\"edge\">\n",
       "<title>I1_I2_B&#45;&gt;B</title>\n",
       "<path fill=\"none\" stroke=\"#000000\" d=\"M174.9593,-138.5637C189.654,-135.5507 206.2946,-132.1927 221.4925,-129.2529 251.1624,-123.5138 285.2284,-117.3334 308.4956,-113.1743\"/>\n",
       "<polygon fill=\"#000000\" stroke=\"#000000\" points=\"309.1407,-116.6146 318.3716,-111.4145 307.9126,-109.7232 309.1407,-116.6146\"/>\n",
       "<text text-anchor=\"middle\" x=\"244.8904\" y=\"-148.0529\" font-family=\"Times,serif\" font-size=\"14.00\" fill=\"#000000\">b </text>\n",
       "<text text-anchor=\"middle\" x=\"244.8904\" y=\"-133.0529\" font-family=\"Times,serif\" font-size=\"14.00\" fill=\"#000000\"> s </text>\n",
       "</g>\n",
       "<!-- F3 -->\n",
       "<g id=\"node6\" class=\"node\">\n",
       "<title>F3</title>\n",
       "<ellipse fill=\"none\" stroke=\"#000000\" cx=\"431.0865\" cy=\"-195.2529\" rx=\"20.6302\" ry=\"20.6302\"/>\n",
       "<ellipse fill=\"none\" stroke=\"#000000\" cx=\"431.0865\" cy=\"-195.2529\" rx=\"24.5979\" ry=\"24.5979\"/>\n",
       "<text text-anchor=\"middle\" x=\"431.0865\" y=\"-191.5529\" font-family=\"Times,serif\" font-size=\"14.00\" fill=\"#000000\">F3</text>\n",
       "</g>\n",
       "<!-- I1_I2_B&#45;&gt;F3 -->\n",
       "<g id=\"edge4\" class=\"edge\">\n",
       "<title>I1_I2_B&#45;&gt;F3</title>\n",
       "<path fill=\"none\" stroke=\"#000000\" d=\"M162.9265,-177.7394C204.9535,-218.2564 286.3137,-287.2926 372.2884,-309.2529 379.1783,-311.0128 382.4428,-313.3023 388.2884,-309.2529 401.8718,-299.8433 414.8251,-259.415 422.8526,-229.3604\"/>\n",
       "<polygon fill=\"#000000\" stroke=\"#000000\" points=\"426.2547,-230.1841 425.3799,-219.6254 419.4793,-228.4251 426.2547,-230.1841\"/>\n",
       "<text text-anchor=\"middle\" x=\"293.2884\" y=\"-298.0529\" font-family=\"Times,serif\" font-size=\"14.00\" fill=\"#000000\">f </text>\n",
       "<text text-anchor=\"middle\" x=\"293.2884\" y=\"-283.0529\" font-family=\"Times,serif\" font-size=\"14.00\" fill=\"#000000\"> c </text>\n",
       "</g>\n",
       "<!-- F4 -->\n",
       "<g id=\"node7\" class=\"node\">\n",
       "<title>F4</title>\n",
       "<ellipse fill=\"none\" stroke=\"#000000\" cx=\"431.0865\" cy=\"-44.2529\" rx=\"20.6302\" ry=\"20.6302\"/>\n",
       "<ellipse fill=\"none\" stroke=\"#000000\" cx=\"431.0865\" cy=\"-44.2529\" rx=\"24.5979\" ry=\"24.5979\"/>\n",
       "<text text-anchor=\"middle\" x=\"431.0865\" y=\"-40.5529\" font-family=\"Times,serif\" font-size=\"14.00\" fill=\"#000000\">F4</text>\n",
       "</g>\n",
       "<!-- I1_I2_B&#45;&gt;F4 -->\n",
       "<g id=\"edge5\" class=\"edge\">\n",
       "<title>I1_I2_B&#45;&gt;F4</title>\n",
       "<path fill=\"none\" stroke=\"#000000\" d=\"M173.2091,-132.6652C210.6164,-119.0899 268.109,-98.4285 318.2884,-81.2529 344.836,-72.1661 375.0501,-62.2793 397.5221,-55.0137\"/>\n",
       "<polygon fill=\"#000000\" stroke=\"#000000\" points=\"398.8186,-58.2731 407.2612,-51.8721 396.6696,-51.6111 398.8186,-58.2731\"/>\n",
       "<text text-anchor=\"middle\" x=\"293.2884\" y=\"-95.0529\" font-family=\"Times,serif\" font-size=\"14.00\" fill=\"#000000\">d </text>\n",
       "</g>\n",
       "<!-- _I2&#45;&gt;BH -->\n",
       "<g id=\"edge14\" class=\"edge\">\n",
       "<title>_I2&#45;&gt;BH</title>\n",
       "<path fill=\"none\" stroke=\"#000000\" d=\"M265.1806,-203.2705C309.234,-227.6456 415.6388,-277.0953 489.8847,-234.2529 517.7951,-218.1476 534.4529,-184.4416 543.5621,-158.7488\"/>\n",
       "<polygon fill=\"#000000\" stroke=\"#000000\" points=\"546.9692,-159.5941 546.7992,-149.0006 540.3259,-157.3879 546.9692,-159.5941\"/>\n",
       "<text text-anchor=\"middle\" x=\"380.2884\" y=\"-296.0529\" font-family=\"Times,serif\" font-size=\"14.00\" fill=\"#000000\">f </text>\n",
       "<text text-anchor=\"middle\" x=\"380.2884\" y=\"-281.0529\" font-family=\"Times,serif\" font-size=\"14.00\" fill=\"#000000\"> a </text>\n",
       "<text text-anchor=\"middle\" x=\"380.2884\" y=\"-266.0529\" font-family=\"Times,serif\" font-size=\"14.00\" fill=\"#000000\"> d </text>\n",
       "<text text-anchor=\"middle\" x=\"380.2884\" y=\"-251.0529\" font-family=\"Times,serif\" font-size=\"14.00\" fill=\"#000000\"> s </text>\n",
       "</g>\n",
       "<!-- _I2&#45;&gt;B -->\n",
       "<g id=\"edge7\" class=\"edge\">\n",
       "<title>_I2&#45;&gt;B</title>\n",
       "<path fill=\"none\" stroke=\"#000000\" d=\"M262.5129,-175.2497C277.5318,-161.6107 299.1565,-141.9729 315.1132,-127.4824\"/>\n",
       "<polygon fill=\"#000000\" stroke=\"#000000\" points=\"317.8259,-129.7468 322.8759,-120.433 313.1199,-124.5647 317.8259,-129.7468\"/>\n",
       "<text text-anchor=\"middle\" x=\"293.2884\" y=\"-155.0529\" font-family=\"Times,serif\" font-size=\"14.00\" fill=\"#000000\">b </text>\n",
       "</g>\n",
       "<!-- _I2&#45;&gt;F3 -->\n",
       "<g id=\"edge6\" class=\"edge\">\n",
       "<title>_I2&#45;&gt;F3</title>\n",
       "<path fill=\"none\" stroke=\"#000000\" d=\"M268.4723,-191.7595C300.6248,-192.4502 358.4784,-193.6931 395.8057,-194.495\"/>\n",
       "<polygon fill=\"#000000\" stroke=\"#000000\" points=\"396.1423,-198.0029 406.2152,-194.7186 396.2927,-191.0045 396.1423,-198.0029\"/>\n",
       "<text text-anchor=\"middle\" x=\"336.2884\" y=\"-197.0529\" font-family=\"Times,serif\" font-size=\"14.00\" fill=\"#000000\">c </text>\n",
       "</g>\n",
       "<!-- B&#45;&gt;BH -->\n",
       "<g id=\"edge13\" class=\"edge\">\n",
       "<title>B&#45;&gt;BH</title>\n",
       "<path fill=\"none\" stroke=\"#000000\" d=\"M354.5345,-109.3271C377.9972,-110.7419 419.9981,-113.3883 455.8847,-116.2529 476.6983,-117.9143 499.9962,-120.0664 518.5416,-121.8495\"/>\n",
       "<polygon fill=\"#000000\" stroke=\"#000000\" points=\"518.2915,-125.3416 528.5827,-122.8234 518.9673,-118.3743 518.2915,-125.3416\"/>\n",
       "<text text-anchor=\"middle\" x=\"431.0865\" y=\"-150.0529\" font-family=\"Times,serif\" font-size=\"14.00\" fill=\"#000000\">b </text>\n",
       "<text text-anchor=\"middle\" x=\"431.0865\" y=\"-135.0529\" font-family=\"Times,serif\" font-size=\"14.00\" fill=\"#000000\"> a </text>\n",
       "<text text-anchor=\"middle\" x=\"431.0865\" y=\"-120.0529\" font-family=\"Times,serif\" font-size=\"14.00\" fill=\"#000000\"> c </text>\n",
       "</g>\n",
       "<!-- B&#45;&gt;B -->\n",
       "<g id=\"edge8\" class=\"edge\">\n",
       "<title>B&#45;&gt;B</title>\n",
       "<path fill=\"none\" stroke=\"#000000\" d=\"M328.9055,-124.917C327.2649,-134.8779 329.7259,-144.2529 336.2884,-144.2529 340.4925,-144.2529 343.0133,-140.4054 343.8508,-135.0212\"/>\n",
       "<polygon fill=\"#000000\" stroke=\"#000000\" points=\"347.3485,-134.8531 343.6712,-124.917 340.3496,-134.9776 347.3485,-134.8531\"/>\n",
       "<text text-anchor=\"middle\" x=\"336.2884\" y=\"-148.0529\" font-family=\"Times,serif\" font-size=\"14.00\" fill=\"#000000\">s </text>\n",
       "</g>\n",
       "<!-- B&#45;&gt;F3 -->\n",
       "<g id=\"edge9\" class=\"edge\">\n",
       "<title>B&#45;&gt;F3</title>\n",
       "<path fill=\"none\" stroke=\"#000000\" d=\"M349.8706,-120.7179C364.1664,-133.8377 387.0257,-154.8166 404.8556,-171.1798\"/>\n",
       "<polygon fill=\"#000000\" stroke=\"#000000\" points=\"402.9109,-174.1456 412.6451,-178.3285 407.644,-168.9882 402.9109,-174.1456\"/>\n",
       "<text text-anchor=\"middle\" x=\"380.2884\" y=\"-158.0529\" font-family=\"Times,serif\" font-size=\"14.00\" fill=\"#000000\">f </text>\n",
       "</g>\n",
       "<!-- B&#45;&gt;F4 -->\n",
       "<g id=\"edge10\" class=\"edge\">\n",
       "<title>B&#45;&gt;F4</title>\n",
       "<path fill=\"none\" stroke=\"#000000\" d=\"M349.8695,-95.997C356.4333,-90.3216 364.5503,-83.6555 372.2884,-78.2529 381.0625,-72.127 391.0047,-66.0716 400.1843,-60.8066\"/>\n",
       "<polygon fill=\"#000000\" stroke=\"#000000\" points=\"402.0347,-63.7817 409.0382,-55.8318 398.6057,-57.679 402.0347,-63.7817\"/>\n",
       "<text text-anchor=\"middle\" x=\"380.2884\" y=\"-82.0529\" font-family=\"Times,serif\" font-size=\"14.00\" fill=\"#000000\">d </text>\n",
       "</g>\n",
       "<!-- F3&#45;&gt;BH -->\n",
       "<g id=\"edge12\" class=\"edge\">\n",
       "<title>F3&#45;&gt;BH</title>\n",
       "<path fill=\"none\" stroke=\"#000000\" d=\"M444.1337,-174.0624C451.6126,-163.6062 461.8946,-151.6755 473.8847,-144.2529 487.2037,-136.0076 503.8326,-131.3404 518.3937,-128.6986\"/>\n",
       "<polygon fill=\"#000000\" stroke=\"#000000\" points=\"519.2145,-132.1129 528.5541,-127.1108 518.1336,-125.1969 519.2145,-132.1129\"/>\n",
       "<text text-anchor=\"middle\" x=\"481.8847\" y=\"-223.0529\" font-family=\"Times,serif\" font-size=\"14.00\" fill=\"#000000\">c </text>\n",
       "<text text-anchor=\"middle\" x=\"481.8847\" y=\"-208.0529\" font-family=\"Times,serif\" font-size=\"14.00\" fill=\"#000000\"> a </text>\n",
       "<text text-anchor=\"middle\" x=\"481.8847\" y=\"-193.0529\" font-family=\"Times,serif\" font-size=\"14.00\" fill=\"#000000\"> d </text>\n",
       "<text text-anchor=\"middle\" x=\"481.8847\" y=\"-178.0529\" font-family=\"Times,serif\" font-size=\"14.00\" fill=\"#000000\"> s </text>\n",
       "<text text-anchor=\"middle\" x=\"481.8847\" y=\"-163.0529\" font-family=\"Times,serif\" font-size=\"14.00\" fill=\"#000000\"> b </text>\n",
       "<text text-anchor=\"middle\" x=\"481.8847\" y=\"-148.0529\" font-family=\"Times,serif\" font-size=\"14.00\" fill=\"#000000\"> f </text>\n",
       "</g>\n",
       "<!-- F4&#45;&gt;BH -->\n",
       "<g id=\"edge11\" class=\"edge\">\n",
       "<title>F4&#45;&gt;BH</title>\n",
       "<path fill=\"none\" stroke=\"#000000\" d=\"M445.0158,-23.6974C456.7279,-9.0791 474.0482,6.3925 489.8847,-3.2529 521.2998,-22.3869 537.7325,-62.7795 545.8307,-91.8513\"/>\n",
       "<polygon fill=\"#000000\" stroke=\"#000000\" points=\"542.4624,-92.8061 548.3584,-101.6088 549.2387,-91.0506 542.4624,-92.8061\"/>\n",
       "<text text-anchor=\"middle\" x=\"481.8847\" y=\"-82.0529\" font-family=\"Times,serif\" font-size=\"14.00\" fill=\"#000000\">c </text>\n",
       "<text text-anchor=\"middle\" x=\"481.8847\" y=\"-67.0529\" font-family=\"Times,serif\" font-size=\"14.00\" fill=\"#000000\"> a </text>\n",
       "<text text-anchor=\"middle\" x=\"481.8847\" y=\"-52.0529\" font-family=\"Times,serif\" font-size=\"14.00\" fill=\"#000000\"> d </text>\n",
       "<text text-anchor=\"middle\" x=\"481.8847\" y=\"-37.0529\" font-family=\"Times,serif\" font-size=\"14.00\" fill=\"#000000\"> s </text>\n",
       "<text text-anchor=\"middle\" x=\"481.8847\" y=\"-22.0529\" font-family=\"Times,serif\" font-size=\"14.00\" fill=\"#000000\"> b </text>\n",
       "<text text-anchor=\"middle\" x=\"481.8847\" y=\"-7.0529\" font-family=\"Times,serif\" font-size=\"14.00\" fill=\"#000000\"> f </text>\n",
       "</g>\n",
       "</g>\n",
       "</svg>\n"
      ],
      "text/plain": [
       "<graphviz.dot.Digraph at 0x7fde620762e8>"
      ]
     },
     "execution_count": 36,
     "metadata": {
      "tags": []
     },
     "output_type": "execute_result"
    }
   ],
   "source": [
    "dotObj_dfa_w_bh(tdfa1, FuseEdges=True)"
   ]
  },
  {
   "cell_type": "markdown",
   "metadata": {
    "id": "285Y2wis1Fam"
   },
   "source": [
    "### Was it a good idea to not always show black-holes?\n",
    "\n",
    "* In what circumstances might you still need to apply the _w_bh view option?\n",
    "An open-ended answer - anything you may think up can be a valuable piece of feedback.\n",
    "\n",
    "Answer:\n",
    "\n",
    "* Drawing the black hole can matter when multiple black hole states exist in a DFA system or a system modeled as a DFA.\n",
    "* It's helpful to not draw the black holes when doing so would cause unnecessary clutter in the drawing. \n"
   ]
  },
  {
   "cell_type": "code",
   "execution_count": null,
   "metadata": {
    "colab": {
     "base_uri": "https://localhost:8080/",
     "height": 202
    },
    "id": "_IhY0us7r4-f",
    "outputId": "6234c39c-930e-4b7a-e8b8-8f704a023af6"
   },
   "outputs": [
    {
     "data": {
      "image/svg+xml": [
       "<?xml version=\"1.0\" encoding=\"UTF-8\" standalone=\"no\"?>\n",
       "<!DOCTYPE svg PUBLIC \"-//W3C//DTD SVG 1.1//EN\"\n",
       " \"http://www.w3.org/Graphics/SVG/1.1/DTD/svg11.dtd\">\n",
       "<!-- Generated by graphviz version 2.40.1 (20161225.0304)\n",
       " -->\n",
       "<!-- Title: %3 Pages: 1 -->\n",
       "<svg width=\"402pt\" height=\"136pt\"\n",
       " viewBox=\"0.00 0.00 401.99 135.60\" xmlns=\"http://www.w3.org/2000/svg\" xmlns:xlink=\"http://www.w3.org/1999/xlink\">\n",
       "<g id=\"graph0\" class=\"graph\" transform=\"scale(1 1) rotate(0) translate(4 131.5963)\">\n",
       "<title>%3</title>\n",
       "<polygon fill=\"#ffffff\" stroke=\"transparent\" points=\"-4,4 -4,-131.5963 397.9896,-131.5963 397.9896,4 -4,4\"/>\n",
       "<!-- EMPTY -->\n",
       "<g id=\"node1\" class=\"node\">\n",
       "<title>EMPTY</title>\n",
       "</g>\n",
       "<!-- I2 -->\n",
       "<g id=\"node2\" class=\"node\">\n",
       "<title>I2</title>\n",
       "<ellipse fill=\"none\" stroke=\"#000000\" cx=\"193.545\" cy=\"-81.7982\" rx=\"18.6979\" ry=\"18.6979\"/>\n",
       "<text text-anchor=\"middle\" x=\"193.545\" y=\"-78.0982\" font-family=\"Times,serif\" font-size=\"14.00\" fill=\"#000000\">I2</text>\n",
       "</g>\n",
       "<!-- EMPTY&#45;&gt;I2 -->\n",
       "<g id=\"edge1\" class=\"edge\">\n",
       "<title>EMPTY&#45;&gt;I2</title>\n",
       "<path fill=\"none\" stroke=\"#000000\" d=\"M54.129,-66.7302C84.4711,-70.0096 133.4281,-75.3008 164.5205,-78.6612\"/>\n",
       "<polygon fill=\"#000000\" stroke=\"#000000\" points=\"164.3952,-82.168 174.7135,-79.7629 165.1475,-75.2085 164.3952,-82.168\"/>\n",
       "</g>\n",
       "<!-- I1 -->\n",
       "<g id=\"node3\" class=\"node\">\n",
       "<title>I1</title>\n",
       "<ellipse fill=\"none\" stroke=\"#000000\" cx=\"109.8483\" cy=\"-40.7982\" rx=\"18.6979\" ry=\"18.6979\"/>\n",
       "<text text-anchor=\"middle\" x=\"109.8483\" y=\"-37.0982\" font-family=\"Times,serif\" font-size=\"14.00\" fill=\"#000000\">I1</text>\n",
       "</g>\n",
       "<!-- EMPTY&#45;&gt;I1 -->\n",
       "<g id=\"edge2\" class=\"edge\">\n",
       "<title>EMPTY&#45;&gt;I1</title>\n",
       "<path fill=\"none\" stroke=\"#000000\" d=\"M54.1276,-56.2671C62.9466,-53.8188 72.7508,-51.097 81.6463,-48.6275\"/>\n",
       "<polygon fill=\"#000000\" stroke=\"#000000\" points=\"82.8586,-51.9234 91.5579,-45.8759 80.9861,-45.1785 82.8586,-51.9234\"/>\n",
       "</g>\n",
       "<!-- B -->\n",
       "<g id=\"node4\" class=\"node\">\n",
       "<title>B</title>\n",
       "<ellipse fill=\"none\" stroke=\"#000000\" cx=\"278.3933\" cy=\"-24.7982\" rx=\"18\" ry=\"18\"/>\n",
       "<text text-anchor=\"middle\" x=\"278.3933\" y=\"-21.0982\" font-family=\"Times,serif\" font-size=\"14.00\" fill=\"#000000\">B</text>\n",
       "</g>\n",
       "<!-- I2&#45;&gt;B -->\n",
       "<g id=\"edge6\" class=\"edge\">\n",
       "<title>I2&#45;&gt;B</title>\n",
       "<path fill=\"none\" stroke=\"#000000\" d=\"M209.5043,-71.0769C222.3051,-62.4775 240.4581,-50.2825 254.9162,-40.5698\"/>\n",
       "<polygon fill=\"#000000\" stroke=\"#000000\" points=\"257.0109,-43.379 263.36,-34.8973 253.1074,-37.5685 257.0109,-43.379\"/>\n",
       "<text text-anchor=\"middle\" x=\"236.3933\" y=\"-60.5982\" font-family=\"Times,serif\" font-size=\"14.00\" fill=\"#000000\">b </text>\n",
       "</g>\n",
       "<!-- F3 -->\n",
       "<g id=\"node5\" class=\"node\">\n",
       "<title>F3</title>\n",
       "<ellipse fill=\"none\" stroke=\"#000000\" cx=\"369.1915\" cy=\"-102.7982\" rx=\"20.6302\" ry=\"20.6302\"/>\n",
       "<ellipse fill=\"none\" stroke=\"#000000\" cx=\"369.1915\" cy=\"-102.7982\" rx=\"24.5979\" ry=\"24.5979\"/>\n",
       "<text text-anchor=\"middle\" x=\"369.1915\" y=\"-99.0982\" font-family=\"Times,serif\" font-size=\"14.00\" fill=\"#000000\">F3</text>\n",
       "</g>\n",
       "<!-- I2&#45;&gt;F3 -->\n",
       "<g id=\"edge5\" class=\"edge\">\n",
       "<title>I2&#45;&gt;F3</title>\n",
       "<path fill=\"none\" stroke=\"#000000\" d=\"M212.3422,-84.0455C241.3398,-87.5124 297.4593,-94.222 334.1115,-98.6041\"/>\n",
       "<polygon fill=\"#000000\" stroke=\"#000000\" points=\"334.0069,-102.1164 344.3517,-99.8284 334.8379,-95.1659 334.0069,-102.1164\"/>\n",
       "<text text-anchor=\"middle\" x=\"278.3933\" y=\"-97.5982\" font-family=\"Times,serif\" font-size=\"14.00\" fill=\"#000000\">c </text>\n",
       "</g>\n",
       "<!-- I1&#45;&gt;I2 -->\n",
       "<g id=\"edge4\" class=\"edge\">\n",
       "<title>I1&#45;&gt;I2</title>\n",
       "<path fill=\"none\" stroke=\"#000000\" d=\"M127.9903,-46.8522C136.8226,-50.0288 147.495,-54.2115 156.6967,-58.7982 160.8326,-60.8598 165.1,-63.2524 169.1988,-65.6993\"/>\n",
       "<polygon fill=\"#000000\" stroke=\"#000000\" points=\"167.4451,-68.7302 177.7862,-71.0355 171.1397,-62.7846 167.4451,-68.7302\"/>\n",
       "<text text-anchor=\"middle\" x=\"151.6967\" y=\"-62.5982\" font-family=\"Times,serif\" font-size=\"14.00\" fill=\"#000000\">a </text>\n",
       "</g>\n",
       "<!-- I1&#45;&gt;B -->\n",
       "<g id=\"edge3\" class=\"edge\">\n",
       "<title>I1&#45;&gt;B</title>\n",
       "<path fill=\"none\" stroke=\"#000000\" d=\"M128.855,-38.9939C158.3749,-36.1915 215.4247,-30.7758 249.8904,-27.5039\"/>\n",
       "<polygon fill=\"#000000\" stroke=\"#000000\" points=\"250.599,-30.9525 260.2235,-26.523 249.9374,-23.9838 250.599,-30.9525\"/>\n",
       "<text text-anchor=\"middle\" x=\"193.545\" y=\"-38.5982\" font-family=\"Times,serif\" font-size=\"14.00\" fill=\"#000000\">&#39;&#39; </text>\n",
       "</g>\n",
       "<!-- B&#45;&gt;B -->\n",
       "<g id=\"edge7\" class=\"edge\">\n",
       "<title>B&#45;&gt;B</title>\n",
       "<path fill=\"none\" stroke=\"#000000\" d=\"M271.3621,-41.4622C269.7996,-51.4232 272.1433,-60.7982 278.3933,-60.7982 282.3972,-60.7982 284.798,-56.9507 285.5956,-51.5664\"/>\n",
       "<polygon fill=\"#000000\" stroke=\"#000000\" points=\"289.0935,-51.4015 285.4246,-41.4622 282.0945,-51.5201 289.0935,-51.4015\"/>\n",
       "<text text-anchor=\"middle\" x=\"278.3933\" y=\"-64.5982\" font-family=\"Times,serif\" font-size=\"14.00\" fill=\"#000000\">s </text>\n",
       "</g>\n",
       "<!-- B&#45;&gt;F3 -->\n",
       "<g id=\"edge9\" class=\"edge\">\n",
       "<title>B&#45;&gt;F3</title>\n",
       "<path fill=\"none\" stroke=\"#000000\" d=\"M292.1836,-36.6447C305.4854,-48.0715 325.9742,-65.6724 342.4747,-79.8471\"/>\n",
       "<polygon fill=\"#000000\" stroke=\"#000000\" points=\"340.3394,-82.627 350.2056,-86.4884 344.9008,-77.3172 340.3394,-82.627\"/>\n",
       "<text text-anchor=\"middle\" x=\"320.3933\" y=\"-67.5982\" font-family=\"Times,serif\" font-size=\"14.00\" fill=\"#000000\">f </text>\n",
       "</g>\n",
       "<!-- F4 -->\n",
       "<g id=\"node6\" class=\"node\">\n",
       "<title>F4</title>\n",
       "<ellipse fill=\"none\" stroke=\"#000000\" cx=\"369.1915\" cy=\"-24.7982\" rx=\"20.6302\" ry=\"20.6302\"/>\n",
       "<ellipse fill=\"none\" stroke=\"#000000\" cx=\"369.1915\" cy=\"-24.7982\" rx=\"24.5979\" ry=\"24.5979\"/>\n",
       "<text text-anchor=\"middle\" x=\"369.1915\" y=\"-21.0982\" font-family=\"Times,serif\" font-size=\"14.00\" fill=\"#000000\">F4</text>\n",
       "</g>\n",
       "<!-- B&#45;&gt;F4 -->\n",
       "<g id=\"edge8\" class=\"edge\">\n",
       "<title>B&#45;&gt;F4</title>\n",
       "<path fill=\"none\" stroke=\"#000000\" d=\"M296.7677,-24.7982C307.4554,-24.7982 321.2849,-24.7982 333.9906,-24.7982\"/>\n",
       "<polygon fill=\"#000000\" stroke=\"#000000\" points=\"334.3055,-28.2983 344.3054,-24.7982 334.3054,-21.2983 334.3055,-28.2983\"/>\n",
       "<text text-anchor=\"middle\" x=\"320.3933\" y=\"-28.5982\" font-family=\"Times,serif\" font-size=\"14.00\" fill=\"#000000\">d </text>\n",
       "</g>\n",
       "</g>\n",
       "</svg>\n"
      ],
      "text/plain": [
       "<graphviz.dot.Digraph at 0x7fd64203d208>"
      ]
     },
     "execution_count": 36,
     "metadata": {
      "tags": []
     },
     "output_type": "execute_result"
    }
   ],
   "source": [
    "dotObj_nfa(nfa1)"
   ]
  },
  {
   "cell_type": "markdown",
   "metadata": {
    "id": "b6bWV4AZ1Fan"
   },
   "source": [
    "## 2.2: Obtain an RE by looking at nfa1\n",
    "\n",
    "* Follow all paths\n",
    "\n",
    "* Summarize the paths in your head, using the Star operator suitably\n",
    "\n",
    "\n"
   ]
  },
  {
   "cell_type": "code",
   "execution_count": null,
   "metadata": {
    "id": "W2GdlsN01Fan"
   },
   "outputs": [],
   "source": [
    "RE1_hand = \"(a (((b (s*) (d + f)) + c)) + '' (s*) (f + d) + (b (s*) (d + f)) + c)\""
   ]
  },
  {
   "cell_type": "code",
   "execution_count": null,
   "metadata": {
    "colab": {
     "base_uri": "https://localhost:8080/",
     "height": 167
    },
    "id": "KKG7DDgYtkIe",
    "outputId": "6dc6ccc0-b0ac-4c51-ffe1-a0426168787b"
   },
   "outputs": [
    {
     "data": {
      "image/svg+xml": [
       "<?xml version=\"1.0\" encoding=\"UTF-8\" standalone=\"no\"?>\n",
       "<!DOCTYPE svg PUBLIC \"-//W3C//DTD SVG 1.1//EN\"\n",
       " \"http://www.w3.org/Graphics/SVG/1.1/DTD/svg11.dtd\">\n",
       "<!-- Generated by graphviz version 2.40.1 (20161225.0304)\n",
       " -->\n",
       "<!-- Title: %3 Pages: 1 -->\n",
       "<svg width=\"414pt\" height=\"110pt\"\n",
       " viewBox=\"0.00 0.00 413.89 109.65\" xmlns=\"http://www.w3.org/2000/svg\" xmlns:xlink=\"http://www.w3.org/1999/xlink\">\n",
       "<g id=\"graph0\" class=\"graph\" transform=\"scale(1 1) rotate(0) translate(4 105.6465)\">\n",
       "<title>%3</title>\n",
       "<polygon fill=\"#ffffff\" stroke=\"transparent\" points=\"-4,4 -4,-105.6465 409.8893,-105.6465 409.8893,4 -4,4\"/>\n",
       "<!-- EMPTY -->\n",
       "<g id=\"node1\" class=\"node\">\n",
       "<title>EMPTY</title>\n",
       "</g>\n",
       "<!-- I3 -->\n",
       "<g id=\"node2\" class=\"node\">\n",
       "<title>I3</title>\n",
       "<ellipse fill=\"none\" stroke=\"#000000\" cx=\"109.8483\" cy=\"-74.8483\" rx=\"18.6979\" ry=\"18.6979\"/>\n",
       "<text text-anchor=\"middle\" x=\"109.8483\" y=\"-71.1483\" font-family=\"Times,serif\" font-size=\"14.00\" fill=\"#000000\">I3</text>\n",
       "</g>\n",
       "<!-- EMPTY&#45;&gt;I3 -->\n",
       "<g id=\"edge1\" class=\"edge\">\n",
       "<title>EMPTY&#45;&gt;I3</title>\n",
       "<path fill=\"none\" stroke=\"#000000\" d=\"M54.1276,-55.344C63.111,-58.4885 73.1168,-61.9909 82.143,-65.1504\"/>\n",
       "<polygon fill=\"#000000\" stroke=\"#000000\" points=\"81.216,-68.5341 91.8108,-68.5345 83.5287,-61.9272 81.216,-68.5341\"/>\n",
       "</g>\n",
       "<!-- I4 -->\n",
       "<g id=\"node3\" class=\"node\">\n",
       "<title>I4</title>\n",
       "<ellipse fill=\"none\" stroke=\"#000000\" cx=\"109.8483\" cy=\"-18.8483\" rx=\"18.6979\" ry=\"18.6979\"/>\n",
       "<text text-anchor=\"middle\" x=\"109.8483\" y=\"-15.1483\" font-family=\"Times,serif\" font-size=\"14.00\" fill=\"#000000\">I4</text>\n",
       "</g>\n",
       "<!-- EMPTY&#45;&gt;I4 -->\n",
       "<g id=\"edge2\" class=\"edge\">\n",
       "<title>EMPTY&#45;&gt;I4</title>\n",
       "<path fill=\"none\" stroke=\"#000000\" d=\"M54.1276,-37.0075C63.111,-34.0799 73.1168,-30.819 82.143,-27.8774\"/>\n",
       "<polygon fill=\"#000000\" stroke=\"#000000\" points=\"83.3875,-31.1531 91.8108,-24.7267 81.2185,-24.4976 83.3875,-31.1531\"/>\n",
       "</g>\n",
       "<!-- B -->\n",
       "<g id=\"node4\" class=\"node\">\n",
       "<title>B</title>\n",
       "<ellipse fill=\"none\" stroke=\"#000000\" cx=\"194.6967\" cy=\"-18.8483\" rx=\"18\" ry=\"18\"/>\n",
       "<text text-anchor=\"middle\" x=\"194.6967\" y=\"-15.1483\" font-family=\"Times,serif\" font-size=\"14.00\" fill=\"#000000\">B</text>\n",
       "</g>\n",
       "<!-- I3&#45;&gt;B -->\n",
       "<g id=\"edge3\" class=\"edge\">\n",
       "<title>I3&#45;&gt;B</title>\n",
       "<path fill=\"none\" stroke=\"#000000\" d=\"M125.8076,-64.3152C138.6084,-55.8666 156.7615,-43.8856 171.2196,-34.3432\"/>\n",
       "<polygon fill=\"#000000\" stroke=\"#000000\" points=\"173.2452,-37.1999 179.6634,-28.7703 169.3893,-31.3576 173.2452,-37.1999\"/>\n",
       "<text text-anchor=\"middle\" x=\"152.6967\" y=\"-54.6483\" font-family=\"Times,serif\" font-size=\"14.00\" fill=\"#000000\">f </text>\n",
       "</g>\n",
       "<!-- F2 -->\n",
       "<g id=\"node6\" class=\"node\">\n",
       "<title>F2</title>\n",
       "<ellipse fill=\"none\" stroke=\"#000000\" cx=\"285.4948\" cy=\"-76.8483\" rx=\"20.6302\" ry=\"20.6302\"/>\n",
       "<ellipse fill=\"none\" stroke=\"#000000\" cx=\"285.4948\" cy=\"-76.8483\" rx=\"24.5979\" ry=\"24.5979\"/>\n",
       "<text text-anchor=\"middle\" x=\"285.4948\" y=\"-73.1483\" font-family=\"Times,serif\" font-size=\"14.00\" fill=\"#000000\">F2</text>\n",
       "</g>\n",
       "<!-- I3&#45;&gt;F2 -->\n",
       "<g id=\"edge4\" class=\"edge\">\n",
       "<title>I3&#45;&gt;F2</title>\n",
       "<path fill=\"none\" stroke=\"#000000\" d=\"M128.8522,-76.2886C142.2235,-77.2277 160.5432,-78.3655 176.6967,-78.8483 201.2509,-79.5823 228.9309,-79.0547 250.2263,-78.3577\"/>\n",
       "<polygon fill=\"#000000\" stroke=\"#000000\" points=\"250.558,-81.8482 260.4274,-77.9952 250.3093,-74.8526 250.558,-81.8482\"/>\n",
       "<text text-anchor=\"middle\" x=\"194.6967\" y=\"-82.6483\" font-family=\"Times,serif\" font-size=\"14.00\" fill=\"#000000\">c </text>\n",
       "</g>\n",
       "<!-- I4&#45;&gt;B -->\n",
       "<g id=\"edge5\" class=\"edge\">\n",
       "<title>I4&#45;&gt;B</title>\n",
       "<path fill=\"none\" stroke=\"#000000\" d=\"M129.1017,-18.8483C140.1442,-18.8483 154.2078,-18.8483 166.4787,-18.8483\"/>\n",
       "<polygon fill=\"#000000\" stroke=\"#000000\" points=\"166.6798,-22.3484 176.6798,-18.8483 166.6798,-15.3484 166.6798,-22.3484\"/>\n",
       "<text text-anchor=\"middle\" x=\"152.6967\" y=\"-22.6483\" font-family=\"Times,serif\" font-size=\"14.00\" fill=\"#000000\">d </text>\n",
       "</g>\n",
       "<!-- B&#45;&gt;B -->\n",
       "<g id=\"edge8\" class=\"edge\">\n",
       "<title>B&#45;&gt;B</title>\n",
       "<path fill=\"none\" stroke=\"#000000\" d=\"M187.3138,-35.5124C185.6732,-45.4733 188.1342,-54.8483 194.6967,-54.8483 198.9008,-54.8483 201.4216,-51.0008 202.2591,-45.6166\"/>\n",
       "<polygon fill=\"#000000\" stroke=\"#000000\" points=\"205.7568,-45.4486 202.0795,-35.5124 198.7579,-45.5731 205.7568,-45.4486\"/>\n",
       "<text text-anchor=\"middle\" x=\"194.6967\" y=\"-58.6483\" font-family=\"Times,serif\" font-size=\"14.00\" fill=\"#000000\">s </text>\n",
       "</g>\n",
       "<!-- F1 -->\n",
       "<g id=\"node5\" class=\"node\">\n",
       "<title>F1</title>\n",
       "<ellipse fill=\"none\" stroke=\"#000000\" cx=\"381.0911\" cy=\"-34.8483\" rx=\"20.6302\" ry=\"20.6302\"/>\n",
       "<ellipse fill=\"none\" stroke=\"#000000\" cx=\"381.0911\" cy=\"-34.8483\" rx=\"24.5979\" ry=\"24.5979\"/>\n",
       "<text text-anchor=\"middle\" x=\"381.0911\" y=\"-31.1483\" font-family=\"Times,serif\" font-size=\"14.00\" fill=\"#000000\">F1</text>\n",
       "</g>\n",
       "<!-- B&#45;&gt;F1 -->\n",
       "<g id=\"edge7\" class=\"edge\">\n",
       "<title>B&#45;&gt;F1</title>\n",
       "<path fill=\"none\" stroke=\"#000000\" d=\"M212.7268,-20.1352C235.4779,-21.7858 275.8045,-24.8011 310.293,-27.8483 321.9735,-28.8804 334.7274,-30.1096 346.1521,-31.2479\"/>\n",
       "<polygon fill=\"#000000\" stroke=\"#000000\" points=\"345.9014,-34.7403 356.2017,-32.2595 346.6025,-27.7755 345.9014,-34.7403\"/>\n",
       "<text text-anchor=\"middle\" x=\"285.4948\" y=\"-31.6483\" font-family=\"Times,serif\" font-size=\"14.00\" fill=\"#000000\">&#39;&#39; </text>\n",
       "</g>\n",
       "<!-- B&#45;&gt;F2 -->\n",
       "<g id=\"edge6\" class=\"edge\">\n",
       "<title>B&#45;&gt;F2</title>\n",
       "<path fill=\"none\" stroke=\"#000000\" d=\"M210.0993,-28.6872C222.6187,-36.6843 240.6465,-48.2001 255.9346,-57.9658\"/>\n",
       "<polygon fill=\"#000000\" stroke=\"#000000\" points=\"254.2455,-61.04 264.557,-63.4737 258.0138,-55.1408 254.2455,-61.04\"/>\n",
       "<text text-anchor=\"middle\" x=\"236.6967\" y=\"-51.6483\" font-family=\"Times,serif\" font-size=\"14.00\" fill=\"#000000\">b </text>\n",
       "</g>\n",
       "<!-- F2&#45;&gt;F1 -->\n",
       "<g id=\"edge9\" class=\"edge\">\n",
       "<title>F2&#45;&gt;F1</title>\n",
       "<path fill=\"none\" stroke=\"#000000\" d=\"M308.636,-66.6813C320.7306,-61.3676 335.7255,-54.7796 348.9309,-48.9779\"/>\n",
       "<polygon fill=\"#000000\" stroke=\"#000000\" points=\"350.4155,-52.1485 358.163,-44.9217 347.5998,-45.7398 350.4155,-52.1485\"/>\n",
       "<text text-anchor=\"middle\" x=\"333.293\" y=\"-60.6483\" font-family=\"Times,serif\" font-size=\"14.00\" fill=\"#000000\">a </text>\n",
       "</g>\n",
       "</g>\n",
       "</svg>\n"
      ],
      "text/plain": [
       "<graphviz.dot.Digraph at 0x7fd642111f98>"
      ]
     },
     "execution_count": 38,
     "metadata": {
      "tags": []
     },
     "output_type": "execute_result"
    }
   ],
   "source": [
    "dotObj_nfa(rnfa1)"
   ]
  },
  {
   "cell_type": "markdown",
   "metadata": {
    "id": "kFsWMB9l1Fan"
   },
   "source": [
    "## 2.3: Reverse RE1 by hand to obtain Rev_RE1\n",
    "\n",
    "Once you have an RE, you can \"visually reverse it\" for simple REs"
   ]
  },
  {
   "cell_type": "code",
   "execution_count": null,
   "metadata": {
    "id": "OTCTyqlv1Fao"
   },
   "outputs": [],
   "source": [
    "Rev_RE1_hand = \"(f (((s*) (( b + (b a) ) + '')) )) + (c + c a) + (d ((s*) (b + (b a) + ''))\""
   ]
  },
  {
   "cell_type": "markdown",
   "metadata": {
    "id": "Fqhsan3o1Fao"
   },
   "source": [
    "## 2.4: Understand del_gnfa_states via help"
   ]
  },
  {
   "cell_type": "code",
   "execution_count": null,
   "metadata": {
    "id": "St7Zo8AY1Fao"
   },
   "outputs": [],
   "source": [
    "# help of del_gnfa_states run below\n"
   ]
  },
  {
   "cell_type": "markdown",
   "metadata": {
    "id": "2KFNXlqV1Fao"
   },
   "source": [
    "### Document what you learned from the function help of del_gnfa_states and summarize below\n",
    "\n",
    "\n",
    "*\n",
    "\n",
    "*\n",
    "\n",
    "*"
   ]
  },
  {
   "cell_type": "markdown",
   "metadata": {
    "id": "5tn3lrpW1Fap"
   },
   "source": [
    "# Problem 3: Converting to GNFA and Attempting Two Elimination Orders\n",
    "\n",
    "Work on rnfa1 to obtain Rev_RE1 and Rev_RE2 "
   ]
  },
  {
   "cell_type": "markdown",
   "metadata": {
    "id": "eOmufZDa1Fap"
   },
   "source": [
    "## 3.1: Obtain grnfa1 below via a suitable command"
   ]
  },
  {
   "cell_type": "code",
   "execution_count": null,
   "metadata": {
    "id": "9jf13qhs1Faq"
   },
   "outputs": [],
   "source": [
    "grnfa1 = mk_gnfa(rnfa1)"
   ]
  },
  {
   "cell_type": "code",
   "execution_count": null,
   "metadata": {
    "colab": {
     "base_uri": "https://localhost:8080/",
     "height": 230
    },
    "id": "iF-KnQi01Faq",
    "outputId": "ae59909c-ac6f-413e-fed9-f221297d1ee0"
   },
   "outputs": [
    {
     "data": {
      "image/svg+xml": [
       "<?xml version=\"1.0\" encoding=\"UTF-8\" standalone=\"no\"?>\n",
       "<!DOCTYPE svg PUBLIC \"-//W3C//DTD SVG 1.1//EN\"\n",
       " \"http://www.w3.org/Graphics/SVG/1.1/DTD/svg11.dtd\">\n",
       "<!-- Generated by graphviz version 2.40.1 (20161225.0304)\n",
       " -->\n",
       "<!-- Title: %3 Pages: 1 -->\n",
       "<svg width=\"641pt\" height=\"142pt\"\n",
       " viewBox=\"0.00 0.00 641.48 141.70\" xmlns=\"http://www.w3.org/2000/svg\" xmlns:xlink=\"http://www.w3.org/1999/xlink\">\n",
       "<g id=\"graph0\" class=\"graph\" transform=\"scale(1 1) rotate(0) translate(4 137.6967)\">\n",
       "<title>%3</title>\n",
       "<polygon fill=\"#ffffff\" stroke=\"transparent\" points=\"-4,4 -4,-137.6967 637.4764,-137.6967 637.4764,4 -4,4\"/>\n",
       "<!-- EMPTY -->\n",
       "<g id=\"node1\" class=\"node\">\n",
       "<title>EMPTY</title>\n",
       "</g>\n",
       "<!-- Real_I -->\n",
       "<g id=\"node4\" class=\"node\">\n",
       "<title>Real_I</title>\n",
       "<ellipse fill=\"none\" stroke=\"#000000\" cx=\"126.0969\" cy=\"-68.6967\" rx=\"35.194\" ry=\"35.194\"/>\n",
       "<text text-anchor=\"middle\" x=\"126.0969\" y=\"-64.9967\" font-family=\"Times,serif\" font-size=\"14.00\" fill=\"#000000\">Real_I</text>\n",
       "</g>\n",
       "<!-- EMPTY&#45;&gt;Real_I -->\n",
       "<g id=\"edge1\" class=\"edge\">\n",
       "<title>EMPTY&#45;&gt;Real_I</title>\n",
       "<path fill=\"none\" stroke=\"#000000\" d=\"M54.0787,-68.6967C62.3227,-68.6967 71.6196,-68.6967 80.7269,-68.6967\"/>\n",
       "<polygon fill=\"#000000\" stroke=\"#000000\" points=\"80.8626,-72.1968 90.8626,-68.6967 80.8625,-65.1968 80.8626,-72.1968\"/>\n",
       "</g>\n",
       "<!-- F1 -->\n",
       "<g id=\"node2\" class=\"node\">\n",
       "<title>F1</title>\n",
       "<ellipse fill=\"none\" stroke=\"#000000\" cx=\"484.2849\" cy=\"-79.6967\" rx=\"20.5982\" ry=\"20.5982\"/>\n",
       "<text text-anchor=\"middle\" x=\"484.2849\" y=\"-75.9967\" font-family=\"Times,serif\" font-size=\"14.00\" fill=\"#000000\">F1</text>\n",
       "</g>\n",
       "<!-- Real_F -->\n",
       "<g id=\"node8\" class=\"node\">\n",
       "<title>Real_F</title>\n",
       "<ellipse fill=\"none\" stroke=\"#000000\" cx=\"591.7797\" cy=\"-41.6967\" rx=\"37.8753\" ry=\"37.8753\"/>\n",
       "<ellipse fill=\"none\" stroke=\"#000000\" cx=\"591.7797\" cy=\"-41.6967\" rx=\"41.8942\" ry=\"41.8942\"/>\n",
       "<text text-anchor=\"middle\" x=\"591.7797\" y=\"-37.9967\" font-family=\"Times,serif\" font-size=\"14.00\" fill=\"#000000\">Real_F</text>\n",
       "</g>\n",
       "<!-- F1&#45;&gt;Real_F -->\n",
       "<g id=\"edge11\" class=\"edge\">\n",
       "<title>F1&#45;&gt;Real_F</title>\n",
       "<path fill=\"none\" stroke=\"#000000\" d=\"M504.0011,-72.7269C514.8287,-68.8993 528.7865,-63.9651 542.3721,-59.1625\"/>\n",
       "<polygon fill=\"#000000\" stroke=\"#000000\" points=\"543.8869,-62.3393 552.1486,-55.7065 541.5538,-55.7396 543.8869,-62.3393\"/>\n",
       "<text text-anchor=\"middle\" x=\"527.583\" y=\"-69.4967\" font-family=\"Times,serif\" font-size=\"14.00\" fill=\"#000000\">&#39;&#39; </text>\n",
       "</g>\n",
       "<!-- B -->\n",
       "<g id=\"node3\" class=\"node\">\n",
       "<title>B</title>\n",
       "<ellipse fill=\"none\" stroke=\"#000000\" cx=\"309.8904\" cy=\"-82.6967\" rx=\"18\" ry=\"18\"/>\n",
       "<text text-anchor=\"middle\" x=\"309.8904\" y=\"-78.9967\" font-family=\"Times,serif\" font-size=\"14.00\" fill=\"#000000\">B</text>\n",
       "</g>\n",
       "<!-- B&#45;&gt;F1 -->\n",
       "<g id=\"edge6\" class=\"edge\">\n",
       "<title>B&#45;&gt;F1</title>\n",
       "<path fill=\"none\" stroke=\"#000000\" d=\"M327.8968,-82.3869C357.5205,-81.8773 416.8797,-80.8562 453.3416,-80.229\"/>\n",
       "<polygon fill=\"#000000\" stroke=\"#000000\" points=\"453.4811,-83.7272 463.4194,-80.0556 453.3606,-76.7282 453.4811,-83.7272\"/>\n",
       "<text text-anchor=\"middle\" x=\"396.6886\" y=\"-84.4967\" font-family=\"Times,serif\" font-size=\"14.00\" fill=\"#000000\">&#39;&#39; </text>\n",
       "</g>\n",
       "<!-- B&#45;&gt;B -->\n",
       "<g id=\"edge7\" class=\"edge\">\n",
       "<title>B&#45;&gt;B</title>\n",
       "<path fill=\"none\" stroke=\"#000000\" d=\"M302.5076,-99.3607C300.867,-109.3217 303.3279,-118.6967 309.8904,-118.6967 314.0945,-118.6967 316.6153,-114.8492 317.4529,-109.4649\"/>\n",
       "<polygon fill=\"#000000\" stroke=\"#000000\" points=\"320.9505,-109.2969 317.2732,-99.3607 313.9517,-109.4214 320.9505,-109.2969\"/>\n",
       "<text text-anchor=\"middle\" x=\"309.8904\" y=\"-122.4967\" font-family=\"Times,serif\" font-size=\"14.00\" fill=\"#000000\">s </text>\n",
       "</g>\n",
       "<!-- F2 -->\n",
       "<g id=\"node7\" class=\"node\">\n",
       "<title>F2</title>\n",
       "<ellipse fill=\"none\" stroke=\"#000000\" cx=\"396.6886\" cy=\"-28.6967\" rx=\"20.5982\" ry=\"20.5982\"/>\n",
       "<text text-anchor=\"middle\" x=\"396.6886\" y=\"-24.9967\" font-family=\"Times,serif\" font-size=\"14.00\" fill=\"#000000\">F2</text>\n",
       "</g>\n",
       "<!-- B&#45;&gt;F2 -->\n",
       "<g id=\"edge5\" class=\"edge\">\n",
       "<title>B&#45;&gt;F2</title>\n",
       "<path fill=\"none\" stroke=\"#000000\" d=\"M325.2625,-72.7774C331.6276,-68.6959 339.0964,-63.9394 345.8904,-59.6967 353.7007,-54.8193 362.2297,-49.5807 370.0304,-44.8234\"/>\n",
       "<polygon fill=\"#000000\" stroke=\"#000000\" points=\"372.0411,-47.6971 378.7664,-39.5105 368.4037,-41.7163 372.0411,-47.6971\"/>\n",
       "<text text-anchor=\"middle\" x=\"351.8904\" y=\"-63.4967\" font-family=\"Times,serif\" font-size=\"14.00\" fill=\"#000000\">b </text>\n",
       "</g>\n",
       "<!-- I4 -->\n",
       "<g id=\"node5\" class=\"node\">\n",
       "<title>I4</title>\n",
       "<ellipse fill=\"none\" stroke=\"#000000\" cx=\"225.0421\" cy=\"-96.6967\" rx=\"18.6979\" ry=\"18.6979\"/>\n",
       "<text text-anchor=\"middle\" x=\"225.0421\" y=\"-92.9967\" font-family=\"Times,serif\" font-size=\"14.00\" fill=\"#000000\">I4</text>\n",
       "</g>\n",
       "<!-- Real_I&#45;&gt;I4 -->\n",
       "<g id=\"edge10\" class=\"edge\">\n",
       "<title>Real_I&#45;&gt;I4</title>\n",
       "<path fill=\"none\" stroke=\"#000000\" d=\"M159.8715,-78.2544C171.873,-81.6506 185.2495,-85.436 196.7456,-88.6892\"/>\n",
       "<polygon fill=\"#000000\" stroke=\"#000000\" points=\"196.106,-92.1456 206.6812,-91.5008 198.0121,-85.4101 196.106,-92.1456\"/>\n",
       "<text text-anchor=\"middle\" x=\"183.6938\" y=\"-89.4967\" font-family=\"Times,serif\" font-size=\"14.00\" fill=\"#000000\">&#39;&#39; </text>\n",
       "</g>\n",
       "<!-- I3 -->\n",
       "<g id=\"node6\" class=\"node\">\n",
       "<title>I3</title>\n",
       "<ellipse fill=\"none\" stroke=\"#000000\" cx=\"225.0421\" cy=\"-40.6967\" rx=\"18.6979\" ry=\"18.6979\"/>\n",
       "<text text-anchor=\"middle\" x=\"225.0421\" y=\"-36.9967\" font-family=\"Times,serif\" font-size=\"14.00\" fill=\"#000000\">I3</text>\n",
       "</g>\n",
       "<!-- Real_I&#45;&gt;I3 -->\n",
       "<g id=\"edge9\" class=\"edge\">\n",
       "<title>Real_I&#45;&gt;I3</title>\n",
       "<path fill=\"none\" stroke=\"#000000\" d=\"M159.8715,-59.139C171.873,-55.7427 185.2495,-51.9574 196.7456,-48.7041\"/>\n",
       "<polygon fill=\"#000000\" stroke=\"#000000\" points=\"198.0121,-51.9833 206.6812,-45.8925 196.106,-45.2477 198.0121,-51.9833\"/>\n",
       "<text text-anchor=\"middle\" x=\"183.6938\" y=\"-57.4967\" font-family=\"Times,serif\" font-size=\"14.00\" fill=\"#000000\">&#39;&#39; </text>\n",
       "</g>\n",
       "<!-- I4&#45;&gt;B -->\n",
       "<g id=\"edge4\" class=\"edge\">\n",
       "<title>I4&#45;&gt;B</title>\n",
       "<path fill=\"none\" stroke=\"#000000\" d=\"M243.8727,-93.5896C255.0866,-91.7393 269.5252,-89.3569 282.0385,-87.2922\"/>\n",
       "<polygon fill=\"#000000\" stroke=\"#000000\" points=\"282.687,-90.7326 291.9838,-85.6513 281.5474,-83.826 282.687,-90.7326\"/>\n",
       "<text text-anchor=\"middle\" x=\"267.8904\" y=\"-93.4967\" font-family=\"Times,serif\" font-size=\"14.00\" fill=\"#000000\">d </text>\n",
       "</g>\n",
       "<!-- I3&#45;&gt;B -->\n",
       "<g id=\"edge2\" class=\"edge\">\n",
       "<title>I3&#45;&gt;B</title>\n",
       "<path fill=\"none\" stroke=\"#000000\" d=\"M242.2124,-49.196C254.2919,-55.1753 270.666,-63.2805 284.2825,-70.0207\"/>\n",
       "<polygon fill=\"#000000\" stroke=\"#000000\" points=\"283.0944,-73.3379 293.6093,-74.6375 286.1998,-67.0644 283.0944,-73.3379\"/>\n",
       "<text text-anchor=\"middle\" x=\"267.8904\" y=\"-68.4967\" font-family=\"Times,serif\" font-size=\"14.00\" fill=\"#000000\">f </text>\n",
       "</g>\n",
       "<!-- I3&#45;&gt;F2 -->\n",
       "<g id=\"edge3\" class=\"edge\">\n",
       "<title>I3&#45;&gt;F2</title>\n",
       "<path fill=\"none\" stroke=\"#000000\" d=\"M244.0671,-39.3666C273.4142,-37.3149 330.0323,-33.3567 365.4498,-30.8806\"/>\n",
       "<polygon fill=\"#000000\" stroke=\"#000000\" points=\"365.9756,-34.3525 375.7071,-30.1635 365.4873,-27.3695 365.9756,-34.3525\"/>\n",
       "<text text-anchor=\"middle\" x=\"309.8904\" y=\"-40.4967\" font-family=\"Times,serif\" font-size=\"14.00\" fill=\"#000000\">c </text>\n",
       "</g>\n",
       "<!-- F2&#45;&gt;F1 -->\n",
       "<g id=\"edge8\" class=\"edge\">\n",
       "<title>F2&#45;&gt;F1</title>\n",
       "<path fill=\"none\" stroke=\"#000000\" d=\"M414.8386,-39.2639C427.0535,-46.3756 443.3777,-55.8798 457.1302,-63.8867\"/>\n",
       "<polygon fill=\"#000000\" stroke=\"#000000\" points=\"455.7551,-67.1361 466.1581,-69.143 459.2772,-61.0867 455.7551,-67.1361\"/>\n",
       "<text text-anchor=\"middle\" x=\"440.4867\" y=\"-60.4967\" font-family=\"Times,serif\" font-size=\"14.00\" fill=\"#000000\">a </text>\n",
       "</g>\n",
       "<!-- F2&#45;&gt;Real_F -->\n",
       "<g id=\"edge12\" class=\"edge\">\n",
       "<title>F2&#45;&gt;Real_F</title>\n",
       "<path fill=\"none\" stroke=\"#000000\" d=\"M417.4781,-29.6912C439.3056,-30.7719 474.6209,-32.6241 505.083,-34.6967 516.2716,-35.4579 528.2648,-36.3666 539.6542,-37.2731\"/>\n",
       "<polygon fill=\"#000000\" stroke=\"#000000\" points=\"539.6544,-40.7844 549.9036,-38.1007 540.2178,-33.8071 539.6544,-40.7844\"/>\n",
       "<text text-anchor=\"middle\" x=\"484.2849\" y=\"-38.4967\" font-family=\"Times,serif\" font-size=\"14.00\" fill=\"#000000\">&#39;&#39; </text>\n",
       "</g>\n",
       "</g>\n",
       "</svg>\n"
      ],
      "text/plain": [
       "<graphviz.dot.Digraph at 0x7fd64201b320>"
      ]
     },
     "execution_count": 27,
     "metadata": {
      "tags": []
     },
     "output_type": "execute_result"
    }
   ],
   "source": [
    "dotObj_gnfa(grnfa1)"
   ]
  },
  {
   "cell_type": "markdown",
   "metadata": {
    "id": "VFtjQsTs1Faq"
   },
   "source": [
    "## 3.2: Apply the elimination order by supplying the second argument \n",
    "['B', 'F2', 'F1', 'I3', 'I4']\n",
    "\n",
    "as you learned in the help"
   ]
  },
  {
   "cell_type": "code",
   "execution_count": null,
   "metadata": {
    "colab": {
     "base_uri": "https://localhost:8080/"
    },
    "id": "s9Egk4NGqg5J",
    "outputId": "75cbf55e-dab6-4c28-aab6-c12ec18994d8"
   },
   "outputs": [
    {
     "name": "stdout",
     "output_type": "stream",
     "text": [
      "Help on function del_gnfa_states in module jove.Def_NFA2RE:\n",
      "\n",
      "del_gnfa_states(Gin, DelList=[])\n",
      "    Given a GNFA Gin with no unreachable states, \n",
      "    delete all states but f\n",
      "    or Real_I and Real_F.\n",
      "    If DelList is given, follow the state deletion\n",
      "    order mentioned therein; else choose order internally.\n",
      "    \n",
      "    Return a triple (Gfinal, dotObj_List, final_re_str), where\n",
      "      Gfinal       : the final GNFA\n",
      "      dotObj_List  : a list of Dot objects recording the process of\n",
      "                     deleting states and forming intermediate REs\n",
      "      final_re_str : the final RE as a string (ready to be fed to  \n",
      "                     re2nfa for converting back to an NFA)\n",
      "\n"
     ]
    }
   ],
   "source": [
    "help(del_gnfa_states)"
   ]
  },
  {
   "cell_type": "code",
   "execution_count": null,
   "metadata": {
    "colab": {
     "base_uri": "https://localhost:8080/"
    },
    "id": "4XkJaoDL1Far",
    "outputId": "e0980e91-bf9d-46af-a012-c024c9812704"
   },
   "outputs": [
    {
     "name": "stdout",
     "output_type": "stream",
     "text": [
      "**** Eliminating state B ****\n",
      "**** Eliminating state F2 ****\n",
      "**** Eliminating state F1 ****\n",
      "**** Eliminating state I3 ****\n",
      "**** Eliminating state I4 ****\n"
     ]
    }
   ],
   "source": [
    "(Gfinal, DO, Rev_RE1) = del_gnfa_states(grnfa1, DelList=['B','F2','F1','I3','I4'])"
   ]
  },
  {
   "cell_type": "code",
   "execution_count": null,
   "metadata": {
    "colab": {
     "base_uri": "https://localhost:8080/",
     "height": 88
    },
    "id": "zvc3WnQb1Far",
    "outputId": "86e99b84-6f74-452a-eff4-f8d9d7ec53c1"
   },
   "outputs": [
    {
     "data": {
      "application/vnd.google.colaboratory.intrinsic+json": {
       "type": "string"
      },
      "text/plain": [
       "'((((((((d ((s)* b)) a) + (d (s)*)) + (d (s)*)) + (d ((s)* b))) + (d ((s)* b))) + ((((((((f ((s)* b)) + c) + c) a) + (f (s)*)) + (f (s)*)) + (((f ((s)* b)) + c) + c)) + (((f ((s)* b)) + c) + c))) + ((((((((f ((s)* b)) + c) + c) a) + (f (s)*)) + (f (s)*)) + (((f ((s)* b)) + c) + c)) + (((f ((s)* b)) + c) + c)))'"
      ]
     },
     "execution_count": 31,
     "metadata": {
      "tags": []
     },
     "output_type": "execute_result"
    }
   ],
   "source": [
    "Rev_RE1"
   ]
  },
  {
   "cell_type": "code",
   "execution_count": null,
   "metadata": {
    "colab": {
     "base_uri": "https://localhost:8080/",
     "height": 225
    },
    "id": "D0dEbHik1Far",
    "outputId": "89d6189a-38f8-4c9e-eb33-ad60baa0532f"
   },
   "outputs": [
    {
     "name": "stderr",
     "output_type": "stream",
     "text": [
      "Generating LALR tables\n"
     ]
    },
    {
     "data": {
      "image/svg+xml": [
       "<?xml version=\"1.0\" encoding=\"UTF-8\" standalone=\"no\"?>\n",
       "<!DOCTYPE svg PUBLIC \"-//W3C//DTD SVG 1.1//EN\"\n",
       " \"http://www.w3.org/Graphics/SVG/1.1/DTD/svg11.dtd\">\n",
       "<!-- Generated by graphviz version 2.40.1 (20161225.0304)\n",
       " -->\n",
       "<!-- Title: %3 Pages: 1 -->\n",
       "<svg width=\"452pt\" height=\"140pt\"\n",
       " viewBox=\"0.00 0.00 452.18 139.80\" xmlns=\"http://www.w3.org/2000/svg\" xmlns:xlink=\"http://www.w3.org/1999/xlink\">\n",
       "<g id=\"graph0\" class=\"graph\" transform=\"scale(1 1) rotate(0) translate(4 135.7958)\">\n",
       "<title>%3</title>\n",
       "<polygon fill=\"#ffffff\" stroke=\"transparent\" points=\"-4,4 -4,-135.7958 448.1834,-135.7958 448.1834,4 -4,4\"/>\n",
       "<!-- EMPTY -->\n",
       "<g id=\"node1\" class=\"node\">\n",
       "<title>EMPTY</title>\n",
       "</g>\n",
       "<!-- St1 -->\n",
       "<g id=\"node2\" class=\"node\">\n",
       "<title>St1</title>\n",
       "<ellipse fill=\"none\" stroke=\"#000000\" cx=\"114.3979\" cy=\"-44.3979\" rx=\"23.2963\" ry=\"23.2963\"/>\n",
       "<text text-anchor=\"middle\" x=\"114.3979\" y=\"-40.6979\" font-family=\"Times,serif\" font-size=\"14.00\" fill=\"#000000\">St1</text>\n",
       "</g>\n",
       "<!-- EMPTY&#45;&gt;St1 -->\n",
       "<g id=\"edge1\" class=\"edge\">\n",
       "<title>EMPTY&#45;&gt;St1</title>\n",
       "<path fill=\"none\" stroke=\"#000000\" d=\"M54.1742,-44.3979C62.5103,-44.3979 71.7873,-44.3979 80.5137,-44.3979\"/>\n",
       "<polygon fill=\"#000000\" stroke=\"#000000\" points=\"80.7846,-47.898 90.7846,-44.3979 80.7845,-40.898 80.7846,-47.898\"/>\n",
       "</g>\n",
       "<!-- St5 -->\n",
       "<g id=\"node3\" class=\"node\">\n",
       "<title>St5</title>\n",
       "<ellipse fill=\"none\" stroke=\"#000000\" cx=\"213.1938\" cy=\"-71.3979\" rx=\"23.3111\" ry=\"23.3111\"/>\n",
       "<ellipse fill=\"none\" stroke=\"#000000\" cx=\"213.1938\" cy=\"-71.3979\" rx=\"27.2962\" ry=\"27.2962\"/>\n",
       "<text text-anchor=\"middle\" x=\"213.1938\" y=\"-67.6979\" font-family=\"Times,serif\" font-size=\"14.00\" fill=\"#000000\">St5</text>\n",
       "</g>\n",
       "<!-- St1&#45;&gt;St5 -->\n",
       "<g id=\"edge2\" class=\"edge\">\n",
       "<title>St1&#45;&gt;St5</title>\n",
       "<path fill=\"none\" stroke=\"#000000\" d=\"M136.0621,-53.6126C142.3489,-56.0557 149.2776,-58.5301 155.7958,-60.3979 162.1967,-62.2321 169.0877,-63.8488 175.797,-65.2389\"/>\n",
       "<polygon fill=\"#000000\" stroke=\"#000000\" points=\"175.6105,-68.7679 186.0939,-67.2357 176.9431,-61.8959 175.6105,-68.7679\"/>\n",
       "<text text-anchor=\"middle\" x=\"161.7958\" y=\"-66.1979\" font-family=\"Times,serif\" font-size=\"14.00\" fill=\"#000000\">d </text>\n",
       "</g>\n",
       "<!-- St1&#45;&gt;St5 -->\n",
       "<g id=\"edge3\" class=\"edge\">\n",
       "<title>St1&#45;&gt;St5</title>\n",
       "<path fill=\"none\" stroke=\"#000000\" d=\"M137.4104,-39.6847C146.9842,-38.5962 158.1034,-38.4847 167.7958,-41.3979 173.1111,-42.9955 178.3777,-45.4398 183.338,-48.2581\"/>\n",
       "<polygon fill=\"#000000\" stroke=\"#000000\" points=\"181.5522,-51.2696 191.8802,-53.6327 185.2801,-45.3448 181.5522,-51.2696\"/>\n",
       "<text text-anchor=\"middle\" x=\"161.7958\" y=\"-45.1979\" font-family=\"Times,serif\" font-size=\"14.00\" fill=\"#000000\">f </text>\n",
       "</g>\n",
       "<!-- St4 -->\n",
       "<g id=\"node5\" class=\"node\">\n",
       "<title>St4</title>\n",
       "<ellipse fill=\"none\" stroke=\"#000000\" cx=\"315.9896\" cy=\"-27.3979\" rx=\"23.3111\" ry=\"23.3111\"/>\n",
       "<ellipse fill=\"none\" stroke=\"#000000\" cx=\"315.9896\" cy=\"-27.3979\" rx=\"27.2962\" ry=\"27.2962\"/>\n",
       "<text text-anchor=\"middle\" x=\"315.9896\" y=\"-23.6979\" font-family=\"Times,serif\" font-size=\"14.00\" fill=\"#000000\">St4</text>\n",
       "</g>\n",
       "<!-- St1&#45;&gt;St4 -->\n",
       "<g id=\"edge4\" class=\"edge\">\n",
       "<title>St1&#45;&gt;St4</title>\n",
       "<path fill=\"none\" stroke=\"#000000\" d=\"M136.119,-35.0451C150.0308,-29.5738 168.6315,-23.2056 185.7958,-20.3979 216.8172,-15.3236 252.4932,-17.8142 278.646,-21.1556\"/>\n",
       "<polygon fill=\"#000000\" stroke=\"#000000\" points=\"278.4918,-24.6674 288.8764,-22.5676 279.4489,-17.7332 278.4918,-24.6674\"/>\n",
       "<text text-anchor=\"middle\" x=\"213.1938\" y=\"-24.1979\" font-family=\"Times,serif\" font-size=\"14.00\" fill=\"#000000\">c </text>\n",
       "</g>\n",
       "<!-- St5&#45;&gt;St5 -->\n",
       "<g id=\"edge5\" class=\"edge\">\n",
       "<title>St5&#45;&gt;St5</title>\n",
       "<path fill=\"none\" stroke=\"#000000\" d=\"M203.876,-97.523C203.3496,-108.0011 206.4555,-116.7958 213.1938,-116.7958 217.5105,-116.7958 220.3365,-113.1865 221.6717,-107.8374\"/>\n",
       "<polygon fill=\"#000000\" stroke=\"#000000\" points=\"225.1884,-107.7741 222.5116,-97.523 218.2115,-107.206 225.1884,-107.7741\"/>\n",
       "<text text-anchor=\"middle\" x=\"213.1938\" y=\"-120.5958\" font-family=\"Times,serif\" font-size=\"14.00\" fill=\"#000000\">s </text>\n",
       "</g>\n",
       "<!-- St5&#45;&gt;St4 -->\n",
       "<g id=\"edge6\" class=\"edge\">\n",
       "<title>St5&#45;&gt;St4</title>\n",
       "<path fill=\"none\" stroke=\"#000000\" d=\"M238.604,-60.5215C251.4536,-55.0214 267.244,-48.2626 281.2029,-42.2878\"/>\n",
       "<polygon fill=\"#000000\" stroke=\"#000000\" points=\"282.6995,-45.4544 290.5155,-38.3017 279.9449,-39.0191 282.6995,-45.4544\"/>\n",
       "<text text-anchor=\"middle\" x=\"264.5917\" y=\"-54.1979\" font-family=\"Times,serif\" font-size=\"14.00\" fill=\"#000000\">b </text>\n",
       "</g>\n",
       "<!-- St9 -->\n",
       "<g id=\"node4\" class=\"node\">\n",
       "<title>St9</title>\n",
       "<ellipse fill=\"none\" stroke=\"#000000\" cx=\"416.7855\" cy=\"-27.3979\" rx=\"23.3111\" ry=\"23.3111\"/>\n",
       "<ellipse fill=\"none\" stroke=\"#000000\" cx=\"416.7855\" cy=\"-27.3979\" rx=\"27.2962\" ry=\"27.2962\"/>\n",
       "<text text-anchor=\"middle\" x=\"416.7855\" y=\"-23.6979\" font-family=\"Times,serif\" font-size=\"14.00\" fill=\"#000000\">St9</text>\n",
       "</g>\n",
       "<!-- St4&#45;&gt;St9 -->\n",
       "<g id=\"edge7\" class=\"edge\">\n",
       "<title>St4&#45;&gt;St9</title>\n",
       "<path fill=\"none\" stroke=\"#000000\" d=\"M343.5325,-27.3979C354.5327,-27.3979 367.3758,-27.3979 379.2089,-27.3979\"/>\n",
       "<polygon fill=\"#000000\" stroke=\"#000000\" points=\"379.2759,-30.898 389.2759,-27.3979 379.2758,-23.898 379.2759,-30.898\"/>\n",
       "<text text-anchor=\"middle\" x=\"366.3875\" y=\"-31.1979\" font-family=\"Times,serif\" font-size=\"14.00\" fill=\"#000000\">a </text>\n",
       "</g>\n",
       "</g>\n",
       "</svg>\n"
      ],
      "text/plain": [
       "<graphviz.dot.Digraph at 0x7fd64202d2b0>"
      ]
     },
     "execution_count": 32,
     "metadata": {
      "tags": []
     },
     "output_type": "execute_result"
    }
   ],
   "source": [
    "dotObj_dfa(min_dfa(nfa2dfa(re2nfa(Rev_RE1))))"
   ]
  },
  {
   "cell_type": "markdown",
   "metadata": {
    "id": "iQEHDBcy1Far"
   },
   "source": [
    "## 3.3: Apply the elimination order by supplying the second argument \n",
    " ['I3', 'I4', 'F1', 'B', 'F2' ]\n",
    "\n",
    "as you learned in the help"
   ]
  },
  {
   "cell_type": "code",
   "execution_count": null,
   "metadata": {
    "colab": {
     "base_uri": "https://localhost:8080/"
    },
    "id": "7jT5zXsArXcU",
    "outputId": "f9ad6c92-4d19-4491-82b4-e6074208a47e"
   },
   "outputs": [
    {
     "name": "stdout",
     "output_type": "stream",
     "text": [
      "**** Eliminating state I3 ****\n",
      "**** Eliminating state I4 ****\n",
      "**** Eliminating state F1 ****\n",
      "**** Eliminating state B ****\n",
      "**** Eliminating state F2 ****\n"
     ]
    }
   ],
   "source": [
    "(Gfinal, DO, Rev_RE2) = del_gnfa_states(grnfa1, DelList=['I3', 'I4', 'F1', 'B', 'F2'])"
   ]
  },
  {
   "cell_type": "code",
   "execution_count": null,
   "metadata": {
    "colab": {
     "base_uri": "https://localhost:8080/",
     "height": 53
    },
    "id": "DhaGWHLzrknP",
    "outputId": "e7dda3ab-7ea6-487c-bab2-cc5209159305"
   },
   "outputs": [
    {
     "data": {
      "application/vnd.google.colaboratory.intrinsic+json": {
       "type": "string"
      },
      "text/plain": [
       "'((((((((d + f) + f) ((s)* b)) + c) + c) ((a + \"\") + \"\")) + (((d + f) + f) (s)*)) + (((d + f) + f) (s)*))'"
      ]
     },
     "execution_count": 34,
     "metadata": {
      "tags": []
     },
     "output_type": "execute_result"
    }
   ],
   "source": [
    "Rev_RE2"
   ]
  },
  {
   "cell_type": "code",
   "execution_count": null,
   "metadata": {
    "colab": {
     "base_uri": "https://localhost:8080/",
     "height": 199
    },
    "id": "6xCTlN4aroNm",
    "outputId": "9158eb8f-e498-49a8-f261-b4d0a4074475"
   },
   "outputs": [
    {
     "name": "stderr",
     "output_type": "stream",
     "text": [
      "Generating LALR tables\n"
     ]
    },
    {
     "data": {
      "image/svg+xml": [
       "<?xml version=\"1.0\" encoding=\"UTF-8\" standalone=\"no\"?>\n",
       "<!DOCTYPE svg PUBLIC \"-//W3C//DTD SVG 1.1//EN\"\n",
       " \"http://www.w3.org/Graphics/SVG/1.1/DTD/svg11.dtd\">\n",
       "<!-- Generated by graphviz version 2.40.1 (20161225.0304)\n",
       " -->\n",
       "<!-- Title: %3 Pages: 1 -->\n",
       "<svg width=\"452pt\" height=\"121pt\"\n",
       " viewBox=\"0.00 0.00 452.18 121.40\" xmlns=\"http://www.w3.org/2000/svg\" xmlns:xlink=\"http://www.w3.org/1999/xlink\">\n",
       "<g id=\"graph0\" class=\"graph\" transform=\"scale(1 1) rotate(0) translate(4 117.3979)\">\n",
       "<title>%3</title>\n",
       "<polygon fill=\"#ffffff\" stroke=\"transparent\" points=\"-4,4 -4,-117.3979 448.1834,-117.3979 448.1834,4 -4,4\"/>\n",
       "<!-- EMPTY -->\n",
       "<g id=\"node1\" class=\"node\">\n",
       "<title>EMPTY</title>\n",
       "</g>\n",
       "<!-- St1 -->\n",
       "<g id=\"node2\" class=\"node\">\n",
       "<title>St1</title>\n",
       "<ellipse fill=\"none\" stroke=\"#000000\" cx=\"114.3979\" cy=\"-65.3979\" rx=\"23.2963\" ry=\"23.2963\"/>\n",
       "<text text-anchor=\"middle\" x=\"114.3979\" y=\"-61.6979\" font-family=\"Times,serif\" font-size=\"14.00\" fill=\"#000000\">St1</text>\n",
       "</g>\n",
       "<!-- EMPTY&#45;&gt;St1 -->\n",
       "<g id=\"edge1\" class=\"edge\">\n",
       "<title>EMPTY&#45;&gt;St1</title>\n",
       "<path fill=\"none\" stroke=\"#000000\" d=\"M54.1742,-65.3979C62.5103,-65.3979 71.7873,-65.3979 80.5137,-65.3979\"/>\n",
       "<polygon fill=\"#000000\" stroke=\"#000000\" points=\"80.7846,-68.898 90.7846,-65.3979 80.7845,-61.898 80.7846,-68.898\"/>\n",
       "</g>\n",
       "<!-- St5 -->\n",
       "<g id=\"node3\" class=\"node\">\n",
       "<title>St5</title>\n",
       "<ellipse fill=\"none\" stroke=\"#000000\" cx=\"315.9896\" cy=\"-75.3979\" rx=\"23.3111\" ry=\"23.3111\"/>\n",
       "<ellipse fill=\"none\" stroke=\"#000000\" cx=\"315.9896\" cy=\"-75.3979\" rx=\"27.2962\" ry=\"27.2962\"/>\n",
       "<text text-anchor=\"middle\" x=\"315.9896\" y=\"-71.6979\" font-family=\"Times,serif\" font-size=\"14.00\" fill=\"#000000\">St5</text>\n",
       "</g>\n",
       "<!-- St1&#45;&gt;St5 -->\n",
       "<g id=\"edge3\" class=\"edge\">\n",
       "<title>St1&#45;&gt;St5</title>\n",
       "<path fill=\"none\" stroke=\"#000000\" d=\"M134.8931,-76.9828C148.7759,-84.1447 167.8017,-92.6601 185.7958,-96.3979 217.4594,-102.9753 253.8175,-95.9012 280.0501,-88.238\"/>\n",
       "<polygon fill=\"#000000\" stroke=\"#000000\" points=\"281.4061,-91.4823 289.9268,-85.1856 279.3392,-84.7944 281.4061,-91.4823\"/>\n",
       "<text text-anchor=\"middle\" x=\"213.1938\" y=\"-102.1979\" font-family=\"Times,serif\" font-size=\"14.00\" fill=\"#000000\">c </text>\n",
       "</g>\n",
       "<!-- St3 -->\n",
       "<g id=\"node5\" class=\"node\">\n",
       "<title>St3</title>\n",
       "<ellipse fill=\"none\" stroke=\"#000000\" cx=\"213.1938\" cy=\"-27.3979\" rx=\"23.3111\" ry=\"23.3111\"/>\n",
       "<ellipse fill=\"none\" stroke=\"#000000\" cx=\"213.1938\" cy=\"-27.3979\" rx=\"27.2962\" ry=\"27.2962\"/>\n",
       "<text text-anchor=\"middle\" x=\"213.1938\" y=\"-23.6979\" font-family=\"Times,serif\" font-size=\"14.00\" fill=\"#000000\">St3</text>\n",
       "</g>\n",
       "<!-- St1&#45;&gt;St3 -->\n",
       "<g id=\"edge2\" class=\"edge\">\n",
       "<title>St1&#45;&gt;St3</title>\n",
       "<path fill=\"none\" stroke=\"#000000\" d=\"M136.3239,-56.9645C148.492,-52.2843 163.921,-46.3498 177.7577,-41.0278\"/>\n",
       "<polygon fill=\"#000000\" stroke=\"#000000\" points=\"179.4052,-44.1441 187.4822,-37.2874 176.8923,-37.6107 179.4052,-44.1441\"/>\n",
       "<text text-anchor=\"middle\" x=\"161.7958\" y=\"-52.1979\" font-family=\"Times,serif\" font-size=\"14.00\" fill=\"#000000\">f </text>\n",
       "</g>\n",
       "<!-- St1&#45;&gt;St3 -->\n",
       "<g id=\"edge4\" class=\"edge\">\n",
       "<title>St1&#45;&gt;St3</title>\n",
       "<path fill=\"none\" stroke=\"#000000\" d=\"M128.3556,-46.4915C135.54,-38.3624 145.0476,-29.7423 155.7958,-25.3979 161.9838,-22.8968 168.86,-21.8404 175.6415,-21.6442\"/>\n",
       "<polygon fill=\"#000000\" stroke=\"#000000\" points=\"176.0066,-25.1567 186.1076,-21.9598 176.2177,-18.1599 176.0066,-25.1567\"/>\n",
       "<text text-anchor=\"middle\" x=\"161.7958\" y=\"-29.1979\" font-family=\"Times,serif\" font-size=\"14.00\" fill=\"#000000\">d </text>\n",
       "</g>\n",
       "<!-- St7 -->\n",
       "<g id=\"node4\" class=\"node\">\n",
       "<title>St7</title>\n",
       "<ellipse fill=\"none\" stroke=\"#000000\" cx=\"416.7855\" cy=\"-75.3979\" rx=\"23.3111\" ry=\"23.3111\"/>\n",
       "<ellipse fill=\"none\" stroke=\"#000000\" cx=\"416.7855\" cy=\"-75.3979\" rx=\"27.2962\" ry=\"27.2962\"/>\n",
       "<text text-anchor=\"middle\" x=\"416.7855\" y=\"-71.6979\" font-family=\"Times,serif\" font-size=\"14.00\" fill=\"#000000\">St7</text>\n",
       "</g>\n",
       "<!-- St5&#45;&gt;St7 -->\n",
       "<g id=\"edge7\" class=\"edge\">\n",
       "<title>St5&#45;&gt;St7</title>\n",
       "<path fill=\"none\" stroke=\"#000000\" d=\"M343.5325,-75.3979C354.5327,-75.3979 367.3758,-75.3979 379.2089,-75.3979\"/>\n",
       "<polygon fill=\"#000000\" stroke=\"#000000\" points=\"379.2759,-78.898 389.2759,-75.3979 379.2758,-71.898 379.2759,-78.898\"/>\n",
       "<text text-anchor=\"middle\" x=\"366.3875\" y=\"-79.1979\" font-family=\"Times,serif\" font-size=\"14.00\" fill=\"#000000\">a </text>\n",
       "</g>\n",
       "<!-- St3&#45;&gt;St5 -->\n",
       "<g id=\"edge6\" class=\"edge\">\n",
       "<title>St3&#45;&gt;St5</title>\n",
       "<path fill=\"none\" stroke=\"#000000\" d=\"M238.0778,-39.0174C251.2382,-45.1626 267.5924,-52.7991 281.9143,-59.4866\"/>\n",
       "<polygon fill=\"#000000\" stroke=\"#000000\" points=\"280.4368,-62.6594 290.9785,-63.7191 283.3984,-56.3168 280.4368,-62.6594\"/>\n",
       "<text text-anchor=\"middle\" x=\"264.5917\" y=\"-56.1979\" font-family=\"Times,serif\" font-size=\"14.00\" fill=\"#000000\">b </text>\n",
       "</g>\n",
       "<!-- St3&#45;&gt;St3 -->\n",
       "<g id=\"edge5\" class=\"edge\">\n",
       "<title>St3&#45;&gt;St3</title>\n",
       "<path fill=\"none\" stroke=\"#000000\" d=\"M203.876,-53.523C203.3496,-64.0011 206.4555,-72.7958 213.1938,-72.7958 217.5105,-72.7958 220.3365,-69.1865 221.6717,-63.8374\"/>\n",
       "<polygon fill=\"#000000\" stroke=\"#000000\" points=\"225.1884,-63.7741 222.5116,-53.523 218.2115,-63.206 225.1884,-63.7741\"/>\n",
       "<text text-anchor=\"middle\" x=\"213.1938\" y=\"-76.5958\" font-family=\"Times,serif\" font-size=\"14.00\" fill=\"#000000\">s </text>\n",
       "</g>\n",
       "</g>\n",
       "</svg>\n"
      ],
      "text/plain": [
       "<graphviz.dot.Digraph at 0x7fd64201beb8>"
      ]
     },
     "execution_count": 35,
     "metadata": {
      "tags": []
     },
     "output_type": "execute_result"
    }
   ],
   "source": [
    "dotObj_dfa(min_dfa(nfa2dfa(re2nfa(Rev_RE2))))"
   ]
  },
  {
   "cell_type": "markdown",
   "metadata": {
    "id": "RdLm-Pc-1Fas"
   },
   "source": [
    "## Examine DO[0] through DO[Last_Legal_Item] (find out how long DO is)\n",
    "\n",
    "DO[0] is the initial GNFA machine, DO[1] is the next one, and so on. You will see each step getting\n",
    "rid of one state.\n",
    "\n",
    "### Summarize your observation of the state elimination and which REs were introduced as a result. Use one bullet per question answered below.\n",
    "\n",
    "*\n",
    "\n",
    "*\n",
    "\n",
    "*\n",
    "\n",
    "*\n",
    "\n",
    "*\n",
    "\n",
    "*\n",
    "\n",
    "*"
   ]
  },
  {
   "cell_type": "code",
   "execution_count": null,
   "metadata": {
    "id": "AaJuAMRJ1Fas",
    "scrolled": true
   },
   "outputs": [],
   "source": [
    "(Gfinal, DO, Rev_RE2) = del_gnfa_states(grnfa1, ...args...)"
   ]
  },
  {
   "cell_type": "code",
   "execution_count": null,
   "metadata": {
    "id": "_1zdEmFo1Fas"
   },
   "outputs": [],
   "source": [
    "Rev_RE2"
   ]
  },
  {
   "cell_type": "markdown",
   "metadata": {
    "id": "xbzVZEQY1Fat"
   },
   "source": [
    "## Examine DO[0] through DO[Last_Legal_Item] (find out how long DO is)\n",
    "\n",
    "### Summarize your observation of the state elimination and which REs were introduced as a result\n",
    "\n",
    "*\n",
    "\n",
    "*\n",
    "\n",
    "*\n",
    "\n",
    "*\n",
    "\n",
    "*\n",
    "\n",
    "*\n",
    "\n",
    "*"
   ]
  },
  {
   "cell_type": "markdown",
   "metadata": {
    "id": "1QaSXKIu1Fat"
   },
   "source": [
    "## 3.4: Check for isomorphism as requested between Rev_RE1 and Rev_RE2\n",
    "\n",
    "Apply a Jove call that is compact (and will be given in class) that checks that Rev_RE1 and Rev_RE2 are equivalent. It has to involve iso_dfa and min_dfa and other calls."
   ]
  },
  {
   "cell_type": "code",
   "execution_count": null,
   "metadata": {
    "id": "ft9RVqT71Fat"
   },
   "outputs": [],
   "source": [
    "iso_dfa( ... )"
   ]
  },
  {
   "cell_type": "markdown",
   "metadata": {
    "id": "7YPYmZWU1Fau"
   },
   "source": [
    ""
   ]
  },
  {
   "cell_type": "code",
   "execution_count": null,
   "metadata": {
    "id": "y8DyxZvA1Fau"
   },
   "outputs": [],
   "source": [
    "# Just look at it again for comparison\n",
    "\n",
    "...Rev_RE1_hand..."
   ]
  },
  {
   "cell_type": "markdown",
   "metadata": {
    "id": "SrFKBgbl1Fau"
   },
   "source": [
    "## 3.5: Check for isomorphism as requested between Rev_RE1 and Rev_RE1_hand\n",
    "\n",
    "Same methods as above."
   ]
  },
  {
   "cell_type": "code",
   "execution_count": null,
   "metadata": {
    "id": "ITE6hltC1Fau"
   },
   "outputs": [],
   "source": [
    "iso_dfa( ... )"
   ]
  },
  {
   "cell_type": "markdown",
   "metadata": {
    "id": "gAGEONPJ1Fav"
   },
   "source": [
    "# Problem 4: Chasing down the RE2NFA components\n",
    "\n",
    "Find out where the s* components are and explain the set of all strings that precede s* in Rev_RE2 and the NFA of Rev_RE2\n",
    "\n",
    "Find out where the ending \"a\" is, and find out the set of all the symbols that precede a\n",
    "\n",
    "Let's first look at the NFA and then see where the RE \"parts\" are in it."
   ]
  },
  {
   "cell_type": "code",
   "execution_count": null,
   "metadata": {
    "id": "reKK6EvN1Fav",
    "scrolled": true
   },
   "outputs": [],
   "source": [
    "dotObj_nfa(re2nfa(Rev_RE2))"
   ]
  },
  {
   "cell_type": "markdown",
   "metadata": {
    "id": "rViHZD9k1Fav"
   },
   "source": [
    "\n",
    "This is an exercise in explaining how Rev_RE2 got translated to an NFA. You are to pick these cases and find an example of each, and explain below. What you pick does not matter.\n",
    "\n",
    "* Find a case where a Star is used, and explain the construction, pointing to the states involved. Use up to 6 bullets below. More or less based on how you explain (clarity not length emphasized).\n",
    "  - ...\n",
    "  - ...\n",
    "  - ...\n",
    "  - ...\n",
    "  - ...\n",
    "  - ...\n",
    "\n",
    "* Find a case where the Star follows something (I.e. a concatenation of the form \"X\" followed by \"Star\" is used). Show how that concatenation construction is accomplished in the same manner (up to 6 bullets roughly) as above. More or less based on how you explain.\n",
    "  - ...\n",
    "  - ...\n",
    "  - ...\n",
    "  - ...\n",
    "  - ...\n",
    "  - ...\n",
    "  \n",
    "* Find a case where something follows Star (I.e. a concatenation of the form \"Star\" followed by \"X\"). Explain how the concatenation is accomplished.\n",
    "  - ...\n",
    "  - ...\n",
    "  - ...\n",
    "  - ...\n",
    "  - ...\n",
    "  - ..."
   ]
  },
  {
   "cell_type": "markdown",
   "metadata": {
    "id": "fmY0Ky9A1Faw"
   },
   "source": [
    "## Repeat finding out the aforesaid paths in your own Rev_RE1_hand"
   ]
  },
  {
   "cell_type": "markdown",
   "metadata": {
    "id": "cmAoBNG81Faw"
   },
   "source": [
    "\n",
    "This is an exercise in explaining how Rev_RE1_hand got translated to an NFA. You are to pick these cases and find an example of each, and explain below. What you pick does not matter.\n",
    "\n",
    "* Find a case where a Star is used, and explain the construction, pointing to the states involved. Use up to 6 bullets below. More or less based on how you explain (clarity not length emphasized).\n",
    "  - ...\n",
    "  - ...\n",
    "  - ...\n",
    "  - ...\n",
    "  - ...\n",
    "  - ...\n",
    "\n",
    "* Find a case where the Star follows something (I.e. a concatenation of the form \"X\" followed by \"Star\" is used). If such a case does not arise in your RE, skip this part. Show how that concatenation construction is accomplished in the same manner (up to 6 bullets roughly) as above. More or less based on how you explain. \n",
    "  - ...\n",
    "  - ...\n",
    "  - ...\n",
    "  - ...\n",
    "  - ...\n",
    "  - ...\n",
    "  \n",
    "* Find a case where something follows Star (I.e. a concatenation of the form \"Star\" followed by \"X\"). If such a case does not arise in your RE, skip this part. Explain how the concatenation is accomplished.\n",
    "  - ...\n",
    "  - ...\n",
    "  - ...\n",
    "  - ...\n",
    "  - ...\n",
    "  - ..."
   ]
  },
  {
   "cell_type": "markdown",
   "metadata": {
    "id": "V9nRzOHS1Fax"
   },
   "source": [
    "# END\n"
   ]
  }
 ],
 "metadata": {
  "colab": {
   "collapsed_sections": [],
   "name": "05_1_NFA_and_RE_Problems.ipynb",
   "provenance": []
  },
  "kernelspec": {
   "display_name": "Python 3",
   "language": "python",
   "name": "python3"
  },
  "language_info": {
   "codemirror_mode": {
    "name": "ipython",
    "version": 3
   },
   "file_extension": ".py",
   "mimetype": "text/x-python",
   "name": "python",
   "nbconvert_exporter": "python",
   "pygments_lexer": "ipython3",
   "version": "3.9.0"
  },
  "toc": {
   "colors": {
    "hover_highlight": "#DAA520",
    "running_highlight": "#FF0000",
    "selected_highlight": "#FFD700"
   },
   "moveMenuLeft": true,
   "nav_menu": {
    "height": "121px",
    "width": "252px"
   },
   "navigate_menu": true,
   "number_sections": true,
   "sideBar": true,
   "threshold": 4,
   "toc_cell": false,
   "toc_section_display": "block",
   "toc_window_display": false,
   "widenNotebook": false
  }
 },
 "nbformat": 4,
 "nbformat_minor": 0
}
