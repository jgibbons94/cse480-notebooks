{
  "nbformat": 4,
  "nbformat_minor": 0,
  "metadata": {
    "colab": {
      "name": "11_2_Ponder_and_Prove_NP_Completeness.ipynb",
      "provenance": [],
      "include_colab_link": true
    },
    "kernelspec": {
      "name": "python3",
      "display_name": "Python 3"
    }
  },
  "cells": [
    {
      "cell_type": "markdown",
      "metadata": {
        "id": "view-in-github",
        "colab_type": "text"
      },
      "source": [
        "<a href=\"https://colab.research.google.com/github/jgibbons94/cse480-notebooks/blob/master/11_2_Ponder_and_Prove_NP_Completeness.ipynb\" target=\"_parent\"><img src=\"https://colab.research.google.com/assets/colab-badge.svg\" alt=\"Open In Colab\"/></a>"
      ]
    },
    {
      "cell_type": "markdown",
      "metadata": {
        "id": "G0Ig-dqAHa5l"
      },
      "source": [
        "# Ponder and Prove NP-Completeness\n",
        "## Due: Saturday, 20 March 2021, 11:59 pm"
      ]
    },
    {
      "cell_type": "markdown",
      "metadata": {
        "id": "pJcTE6K0vBEN"
      },
      "source": [
        "<font color=red>\n",
        "Good work, Jesse. Please see my comments on your answer to 16.7.2.9 and your answer to the non-book exercise.\n",
        "</font>"
      ]
    },
    {
      "cell_type": "markdown",
      "metadata": {
        "id": "-ZTHg3i2Hg4j"
      },
      "source": [
        "## Watch and Learn"
      ]
    },
    {
      "cell_type": "markdown",
      "metadata": {
        "id": "eA7uftrYb4Ln"
      },
      "source": [
        "Watch each of the following videos:\n",
        "\n",
        "* [P vs. NP - The Biggest Unsolved Problem in Computer Science](https://www.youtube.com/watch?v=EHp4FPyajKQ)\n",
        "* [What is complexity theory? (P vs. NP explained visually)](https://www.youtube.com/watch?v=u2DLlNQiPB4)\n",
        "* [P vs. NP and the Computational Complexity Zoo](https://www.youtube.com/watch?v=YX40hbAHx3s&t=3s)\n",
        "\n",
        "For each video, state two things that interested you (theoretical or practical). Just a couple of sentences that summarize each point of interest."
      ]
    },
    {
      "cell_type": "markdown",
      "metadata": {
        "id": "FZs8fGjCAI2j"
      },
      "source": [
        "### P vs. NP - The Biggest Unsolved Problem in Computer Science\n",
        "\n",
        "All P problems are NP problems. It is unknown if any NP complete problems are also P problems.\n",
        "\n",
        "NP complete problems are the \"hardest\" NP problems that have not yet been shown to be P problems. If NP Complete problems are shown to be P problems, then there are easier problems that are not NP Complete and can be shown to be P."
      ]
    },
    {
      "cell_type": "markdown",
      "metadata": {
        "id": "By66ouGMDnAQ"
      },
      "source": [
        "### What is complexity theory? (P vs. NP explained visually)\n",
        "NP Complete problems tend to be hard to solve but easy to check. They are hard to solve because there are exponential possible solutions to check to find a solution.\n",
        "\n",
        "NP means nondeterministic polynomial. They can be solved in polynomial time on a nondeterministic computer that can check all possible solutions simultaneously."
      ]
    },
    {
      "cell_type": "markdown",
      "metadata": {
        "id": "Nl5QykKdDzbn"
      },
      "source": [
        "### P vs. NP and the Computational Complexity Zoo\n",
        "There are many classes of problems based on how much time it takes to solve them. Some problems are difficult to check.\n",
        "\n",
        "If an np-complete problem can be solved in polynomial time, all other np-complete problems can too. This is because they are all structurally similar."
      ]
    },
    {
      "cell_type": "markdown",
      "metadata": {
        "id": "EsRshRnZhRFa"
      },
      "source": [
        "## Exercises"
      ]
    },
    {
      "cell_type": "markdown",
      "metadata": {
        "id": "F3724sGjhTPo"
      },
      "source": [
        "Do the following Chapter 16 Exercises:"
      ]
    },
    {
      "cell_type": "markdown",
      "metadata": {
        "id": "XZ7ygErThWjn"
      },
      "source": [
        "### 16.7.2.1"
      ]
    },
    {
      "cell_type": "markdown",
      "metadata": {
        "id": "psJ_6GxWhtsK"
      },
      "source": [
        "Unsat says it is not satisfyable. I think it contains too many contradictions."
      ]
    },
    {
      "cell_type": "markdown",
      "metadata": {
        "id": "0IRR9xZ7hums"
      },
      "source": [
        "### 16.7.2.2"
      ]
    },
    {
      "cell_type": "markdown",
      "metadata": {
        "id": "MjW37Ew9hvi_"
      },
      "source": [
        "Begin with a structure including a list containing only the \"root\" node, and the root node's color in the queue. While the queue is not empty, do the following for the next structure in the queue:\n",
        "1. Assert that the color in the structure is the color of the node. On failure, return false.\n",
        "2. For every child node not in the list of the current structure, push the a structure including a list containing that node after the list in the current structure, and opposite of the current color.\n",
        "\n",
        "When the queue is empty, return True.\n",
        "\n",
        "It follows by construction of the above algorithm that checking the 2-color condition can be done with a breadth-first search."
      ]
    },
    {
      "cell_type": "markdown",
      "metadata": {
        "id": "IdS-nwwRhv5W"
      },
      "source": [
        "### 16.7.2.8"
      ]
    },
    {
      "cell_type": "markdown",
      "metadata": {
        "id": "o8MUWcafhwnM"
      },
      "source": [
        "In a 5-clique, every node is connected to every other node, so there are $5! = 5 * 4 * 3 * 2 * 1 = 120$ different hamiltonian cycles if we draw distinctions at where they start and 4!=24 hamiltonian cycles if we draw an equivalence at the order of nodes that can be visited in a directed cycle. For an n-clique there are n! Hamiltonian cycles."
      ]
    },
    {
      "cell_type": "markdown",
      "metadata": {
        "id": "Sdyg1GB3hxKu"
      },
      "source": [
        "### 16.7.2.9"
      ]
    },
    {
      "cell_type": "markdown",
      "metadata": {
        "id": "NuRLP4a_hx82"
      },
      "source": [
        "We already have a proof in the book that proving some graph $\\phi$ is a k-clique is NPC. This problem shows that graph G is an n/2-clique or graph G is an n/2 + 1 -clique or ... or graph G is an n - 1-clique or graph G is an n-clique. This ia a $k^{n/2} + k^{n/2 + 1} + ... + k^{n-1} + k^n \\rightarrow O(k^n)$ algorithm.\n",
        "\n",
        "In other words, this maps to the k-clique algorithm where $k=n/2$."
      ]
    },
    {
      "cell_type": "markdown",
      "metadata": {
        "id": "l1nWj5pGt91n"
      },
      "source": [
        "<font color=red>\n",
        "Remember the *complete form* of an NP-Completeness proof?\n",
        "</font>\n",
        "\n",
        "There are 6 steps:\n",
        "\n",
        "1. Describe the problem as a language.\n",
        "2. Show that the language is in NP.\n",
        "3. Select a known NP-complete problem XYZ.\n",
        "4. Construct a transformation f from XYZ to the new (unknown) language.\n",
        "5. Prove both directions of the transformation (if and only if).\n",
        "6. Prove that f is a polynomial time transformation (reduction).\n",
        "\n",
        "Step 1:\n",
        "\n",
        "Describe the language HALF-CLIQUE as\n",
        "\n",
        "$\\{\\langle G \\rangle : G$ is an undirected graph having a complete subgraph with at least $m/2$ nodes, where $m$ is the number of nodes in $G\\}$.\n",
        "\n",
        "Step 2:\n",
        "\n",
        "We need to show HALF-CLIQUE $\\in$ NP. The certificate is simply the clique.\n",
        "\n",
        "Step 3:\n",
        "\n",
        "Choose CLIQUE as the known NP-complete language/problem.\n",
        "\n",
        "Steps 4-6:\n",
        "\n",
        "A polynomial time mapping reduction from CLIQUE to HALF-CLIQUE goes like this:\n",
        "\n",
        "The input to the reduction is a pair $\\langle G, k\\rangle$ and the reduction produces the graph $\\langle H\\rangle$ as output where $H$ depends on $k$ versus $m$:\n",
        "\n",
        "1. If $k = m/2$ then $H = G$.\n",
        "2. If $k < m/2$, then $H$ is the graph obtained from $G$ by adding $j = m - 2k$ nodes, each one connected to every one of the original nodes and to each other. Thus $H$ has $m + j = 2m - 2k$ nodes, and so $G$ has a $k$-clique iff $H$ has a clique of size $k + j = m - k$ and so $\\langle G, k\\rangle \\in$ CLIQUE iff $\\langle H\\rangle \\in$ HALF-CLIQUE.\n",
        "3. If $k > m/2$, then $H$ is the graph obtained by adding $j = 2k - m$ nodes to $G$ without adding any additional links. Thus $H$ has $m + j = 2k$ nodes, and so $G$ has a $k$-clique iff $H$ has a clique of size $k$. Therefore $\\langle G, k\\rangle \\in$ CLIQUE iff $\\langle H\\rangle \\in$ HALF-CLIQUE.\n",
        "\n",
        "Compare [this poster's comments](https://cs.stackexchange.com/questions/1176/half-clique-np-complete-problem).\n"
      ]
    },
    {
      "cell_type": "markdown",
      "metadata": {
        "id": "npHvn-zchyV8"
      },
      "source": [
        "### 16.7.2.10"
      ]
    },
    {
      "cell_type": "code",
      "metadata": {
        "id": "Wrn2uvivvNNo",
        "colab": {
          "base_uri": "https://localhost:8080/"
        },
        "outputId": "0702a865-f55b-4d61-87f5-d6dbb17fb674"
      },
      "source": [
        "!pip install pycosat"
      ],
      "execution_count": null,
      "outputs": [
        {
          "output_type": "stream",
          "text": [
            "Collecting pycosat\n",
            "\u001b[?25l  Downloading https://files.pythonhosted.org/packages/c0/fd/e38d68774c0a345b0090d608a90f1fbf423970d812f7ec7aef9ac024e648/pycosat-0.6.3.zip (66kB)\n",
            "\r\u001b[K     |█████                           | 10kB 10.6MB/s eta 0:00:01\r\u001b[K     |█████████▉                      | 20kB 15.1MB/s eta 0:00:01\r\u001b[K     |██████████████▊                 | 30kB 19.2MB/s eta 0:00:01\r\u001b[K     |███████████████████▋            | 40kB 12.9MB/s eta 0:00:01\r\u001b[K     |████████████████████████▌       | 51kB 9.9MB/s eta 0:00:01\r\u001b[K     |█████████████████████████████▍  | 61kB 10.7MB/s eta 0:00:01\r\u001b[K     |████████████████████████████████| 71kB 4.3MB/s \n",
            "\u001b[?25hBuilding wheels for collected packages: pycosat\n",
            "  Building wheel for pycosat (setup.py) ... \u001b[?25l\u001b[?25hdone\n",
            "  Created wheel for pycosat: filename=pycosat-0.6.3-cp37-cp37m-linux_x86_64.whl size=143812 sha256=8b9821dc1cfac98c95dd310df454e7ae2ceba75ffe254ec590827261ff768199\n",
            "  Stored in directory: /root/.cache/pip/wheels/c4/67/ff/5570304e45814eccef48a3c69c3af25d0456ed3a34eddbbe38\n",
            "Successfully built pycosat\n",
            "Installing collected packages: pycosat\n",
            "Successfully installed pycosat-0.6.3\n"
          ],
          "name": "stdout"
        }
      ]
    },
    {
      "cell_type": "code",
      "metadata": {
        "id": "FLh607HmulPI",
        "colab": {
          "base_uri": "https://localhost:8080/"
        },
        "outputId": "52d71bf7-37d3-4ae6-ddfd-18df7eab8eaa"
      },
      "source": [
        "%%python\n",
        "# Author: Nicholas Pilkington, 2015\n",
        "# License: MIT\n",
        "# Blog Post: https://nickp.svbtle.com/sudoku-satsolver\n",
        "\n",
        "import pycosat\n",
        "\n",
        "N = 9\n",
        "M = 3\n",
        "\n",
        "def exactly_one(variables):\n",
        "    cnf = [ variables ]\n",
        "    n = len(variables)\n",
        "\n",
        "    for i in range(n):\n",
        "        for j in range(i+1, n):\n",
        "            v1 = variables[i]\n",
        "            v2 = variables[j]\n",
        "            cnf.append([-v1, -v2])\n",
        "\n",
        "    return cnf\n",
        "\n",
        "def transform(i, j, k):\n",
        "    return i*N*N + j*N + k + 1\n",
        "\n",
        "def inverse_transform(v):\n",
        "    v, k = divmod(v-1, N)\n",
        "    v, j = divmod(v, N)\n",
        "    v, i = divmod(v, N)\n",
        "    return i, j, k\n",
        "\n",
        "if __name__ == '__main__':\n",
        "    cnf = []\n",
        "\n",
        "    # Cell, row and column constraints\n",
        "    for i in range(N):\n",
        "        for s in range(N):\n",
        "            cnf = cnf + exactly_one([ transform(i, j, s) for j in range(N) ])\n",
        "            cnf = cnf + exactly_one([ transform(j, i, s) for j in range(N) ])\n",
        "\n",
        "        for j in range(N):\n",
        "            cnf = cnf + exactly_one([ transform(i, j, k) for k in range(N) ])\n",
        "\n",
        "    # Sub-matrix constraints\n",
        "    for k in range(N):\n",
        "        for x in range(M):\n",
        "            for y in range(M):\n",
        "                v = [ transform(y*M + i, x*M + j, k) for i in range(M) for j in range(M)]\n",
        "                cnf = cnf + exactly_one(v)\n",
        "\n",
        "    # See contribution from @GregoryMorse below\n",
        "    cnf = { frozenset(x) for x in cnf }\n",
        "    cnf = list(cnf)\n",
        "\n",
        "    # A 16-constraint Sudoku\n",
        "    constraints = [\n",
        "        (0, 3, 7),\n",
        "        (1, 0, 1),\n",
        "        (2, 3, 4),\n",
        "        (2, 4, 3),\n",
        "        (2, 6, 2),\n",
        "        (3, 8, 6),\n",
        "        (4, 3, 5),\n",
        "        (4, 5, 9),\n",
        "        (5, 6, 4),\n",
        "        (5, 7, 1),\n",
        "        (5, 8, 8),\n",
        "        (6, 4, 8),\n",
        "        (6, 5, 1),\n",
        "        (7, 2, 2),\n",
        "        (7, 7, 5),\n",
        "        (8, 1, 4),\n",
        "        (8, 6, 3),\n",
        "\n",
        "    ]\n",
        "\n",
        "    cnf = cnf + [[transform(z[0], z[1], z[2])-1] for z in constraints]\n",
        "\n",
        "    for solution in pycosat.itersolve(cnf):\n",
        "        X = [ inverse_transform(v) for v in solution if v > 0]\n",
        "        for i, cell in enumerate(sorted(X, key=lambda h: h[0] * N*N + h[1] * N)):\n",
        "            print(cell[2]+1, end=\" \")\n",
        "            if (i+1) % N == 0: print(\"\")"
      ],
      "execution_count": null,
      "outputs": [
        {
          "output_type": "stream",
          "text": [
            "2 6 4 7 1 5 8 3 9 \n",
            "1 3 7 8 9 2 6 4 5 \n",
            "5 9 8 4 3 6 2 7 1 \n",
            "4 2 3 1 7 8 5 9 6 \n",
            "8 1 6 5 4 9 7 2 3 \n",
            "7 5 9 6 2 3 4 1 8 \n",
            "3 7 5 2 8 1 9 6 4 \n",
            "9 8 2 3 6 4 1 5 7 \n",
            "6 4 1 9 5 7 3 8 2 \n"
          ],
          "name": "stdout"
        }
      ]
    },
    {
      "cell_type": "code",
      "metadata": {
        "id": "RtDQioOGwr4M",
        "colab": {
          "base_uri": "https://localhost:8080/"
        },
        "outputId": "8c4823a8-5f3d-4e09-e766-f4760116f28b"
      },
      "source": [
        "\n",
        "%%python\n",
        "# Author: Nicholas Pilkington, 2015\n",
        "# License: MIT\n",
        "# Blog Post: https://nickp.svbtle.com/sudoku-satsolver\n",
        "\n",
        "import pycosat\n",
        "\n",
        "N = 9\n",
        "M = 3\n",
        "\n",
        "def exactly_one(variables):\n",
        "    cnf = [ variables ]\n",
        "    n = len(variables)\n",
        "\n",
        "    for i in range(n):\n",
        "        for j in range(i+1, n):\n",
        "            v1 = variables[i]\n",
        "            v2 = variables[j]\n",
        "            cnf.append([-v1, -v2])\n",
        "\n",
        "    return cnf\n",
        "\n",
        "def transform(i, j, k):\n",
        "    return i*N*N + j*N + k + 1\n",
        "\n",
        "def inverse_transform(v):\n",
        "    v, k = divmod(v-1, N)\n",
        "    v, j = divmod(v, N)\n",
        "    v, i = divmod(v, N)\n",
        "    return i, j, k\n",
        "\n",
        "if __name__ == '__main__':\n",
        "    cnf = []\n",
        "\n",
        "    # Cell, row and column constraints\n",
        "    for i in range(N):\n",
        "        for s in range(N):\n",
        "            cnf = cnf + exactly_one([ transform(i, j, s) for j in range(N) ])\n",
        "            cnf = cnf + exactly_one([ transform(j, i, s) for j in range(N) ])\n",
        "\n",
        "        for j in range(N):\n",
        "            cnf = cnf + exactly_one([ transform(i, j, k) for k in range(N) ])\n",
        "\n",
        "    # Sub-matrix constraints\n",
        "    for k in range(N):\n",
        "        for x in range(M):\n",
        "            for y in range(M):\n",
        "                v = [ transform(y*M + i, x*M + j, k) for i in range(M) for j in range(M)]\n",
        "                cnf = cnf + exactly_one(v)\n",
        "\n",
        "    # See contribution from @GregoryMorse below\n",
        "    cnf = { frozenset(x) for x in cnf }\n",
        "    cnf = list(cnf)\n",
        "\n",
        "    # A 16-constraint Sudoku\n",
        "    constraints = [\n",
        "        (0, 0, 2),\n",
        "        (1, 0, 1),\n",
        "        (2, 3, 4),\n",
        "        (2, 4, 3),\n",
        "        (2, 6, 2),\n",
        "        (3, 8, 6),\n",
        "        (4, 3, 5),\n",
        "        (4, 5, 9),\n",
        "        (5, 6, 4),\n",
        "        (5, 7, 1),\n",
        "        (5, 8, 8),\n",
        "        (6, 4, 8),\n",
        "        (6, 5, 1),\n",
        "        (7, 2, 2),\n",
        "        (7, 7, 5),\n",
        "        (8, 1, 4),\n",
        "        (8, 6, 3),\n",
        "\n",
        "    ]\n",
        "\n",
        "    cnf = cnf + [[transform(z[0], z[1], z[2])-1] for z in constraints]\n",
        "\n",
        "    for solution in pycosat.itersolve(cnf):\n",
        "        X = [ inverse_transform(v) for v in solution if v > 0]\n",
        "        for i, cell in enumerate(sorted(X, key=lambda h: h[0] * N*N + h[1] * N)):\n",
        "            print(cell[2]+1, end=\" \")\n",
        "            if (i+1) % N == 0: print(\"\")"
      ],
      "execution_count": null,
      "outputs": [
        {
          "output_type": "stream",
          "text": [
            "IOPub data rate exceeded.\n",
            "The notebook server will temporarily stop sending output\n",
            "to the client in order to avoid crashing it.\n",
            "To change this limit, set the config variable\n",
            "`--NotebookApp.iopub_data_rate_limit`.\n",
            "\n",
            "Current values:\n",
            "NotebookApp.iopub_data_rate_limit=1000000.0 (bytes/sec)\n",
            "NotebookApp.rate_limit_window=3.0 (secs)\n",
            "\n"
          ],
          "name": "stderr"
        }
      ]
    },
    {
      "cell_type": "markdown",
      "metadata": {
        "id": "0FEjXwMpiZF-"
      },
      "source": [
        "\n",
        "### 16.7.2.12"
      ]
    },
    {
      "cell_type": "markdown",
      "metadata": {
        "id": "O20MU_ZjyB_0"
      },
      "source": [
        "Consider:\n",
        "$$\\Phi = (x + y + y) \\cdot{} (x + !y + !y) \\cdot{} (!x + y + y) \\cdot (!x + !y + !y)$$\n",
        "\n",
        "For any assignment, we have one clause whose literals are all true and one clause whose literals are all false. If we leave out any one clause, that is not the case, as $\\Phi$ becomes satisfiable.\n",
        "\n",
        "I'm fairly certain there isn't anything left in the proof for me to add. We have proven that if there is one clause whose literals are all false and one whose literals are all true, the 3-CNF is not satisfiable because false and true will always be false. We have also shown that if we remove one of the two clauses so there is no such pair, the equation becomes satisfiable. Therefore, the equation is unsatisfiable iff for any variable assignment there is one clause with all literals true and another clause with all literals false."
      ]
    },
    {
      "cell_type": "markdown",
      "metadata": {
        "id": "Ua6BlQDSicB_"
      },
      "source": [
        "## Explore a Powerful Tool"
      ]
    },
    {
      "cell_type": "markdown",
      "metadata": {
        "id": "CzhO3COaikyu"
      },
      "source": [
        "Do the following NON-book exercise:"
      ]
    },
    {
      "cell_type": "markdown",
      "metadata": {
        "id": "PhRWte2iiw4I"
      },
      "source": [
        "SAT, while being NP-Complete, is a \"workhorse of a tool.\" This exercise asks you to get a taste of running the CryptoMinisat tool on a non-trivial SAT formula. Click on https://msoos.github.io/cryptominisat_web/ to access this tool. When it comes up, it has a prefilled formula. There is a Play button that you can click, whereupon it solves the SAT instance.\n",
        "\n",
        "This exercise asks you to replace this SAT instance with something bigger: specifically, the Pigeonhole problem (hole6.cnf) from: https://people.sc.fsu.edu/~jburkardt/data/cnf/cnf.html\n",
        "\n",
        "Just click the above link, get the hole6.cnf file, and plunk the CNF into the buffer.\n",
        "\n",
        "Hit Play and report on the execution time (you can just look at your phone's clock). If under 2 seconds, say \"negligible\" for your answer!\n",
        "\n",
        "How much time would such a problem take through brute-force enumeration of $2^n$ combinations on a computer that takes a microsecond per variable combination (the $n$ is the number of variables used in the Pigeonhole problem)? HINT: Here is how you read the contents of a CNF file:\n",
        "\n",
        "```\n",
        "c File:  hole6.cnf <--- these are comment lines - starts wth a \"C\"\n",
        "c...\n",
        "c\n",
        "p cnf 42 133\n",
        "-1     -7\n",
        "-1     -13\n",
        "...\n",
        "0 0\n",
        "<--- CRUCIAL !! Tells you there are 42 variables and 133 clauses\n",
        "<--- This line says (!x1 + !x7). The \"0\" is just end-of-a-clause marker!\n",
        "<--- This line says (!x1 + !x13)\n",
        " 12     11     10     9      8      7    0 <--- This clause reads\n",
        "                                          (x12 + x11 + x10 + x9 + x8 + x7)\n",
        "```\n",
        "\n",
        "Okay, now you have all the info you need to calculate the time it takes to enumerate $2^n$ combinations!!\n",
        "\n"
      ]
    },
    {
      "cell_type": "markdown",
      "metadata": {
        "id": "MVUe4b9dkd5n"
      },
      "source": [
        "Your (two-part) answer goes here.\n",
        "\n",
        "1. CryptoMinisat runtime: neglegible\n",
        "2. $2^n$ runtime estimation: 50 days\n",
        "\n",
        "$2^42 * 133$ calculations\n",
        "= about $2^50$ calculations.\n",
        "Where $2^10 = 1024$\n",
        "And $1024^5 \\approx 1000^5$ (I know it's larger, but not by decimal figures.)\n",
        "And the computer does about $2*1000^3$ calculations per second (closer to 3GHz actually)\n",
        "And 1 hour  $\\approx 3 * 1000^1$ seconds (3600 seconds in 1 hour)\n",
        "And 50 days is $12 * 10^2 \\approx 1000$ hours. (12 * 2 * 5 * 10 hours)\n",
        "Is it sloppy? Yes. Is it accurate? I probably won't find out any time soon.\n"
      ]
    },
    {
      "cell_type": "markdown",
      "metadata": {
        "id": "_zEvH99EukJV"
      },
      "source": [
        "<font color=red>\n",
        "The question just asked how long it would take to enumerate $2^{42}$ combinations. $2^{42}$ microseconds is roughly $4$ million seconds, or about a month.\n",
        "</font>\n"
      ]
    },
    {
      "cell_type": "markdown",
      "metadata": {
        "id": "8Q8t6FsUkxwS"
      },
      "source": [
        "##  Read and Learn"
      ]
    },
    {
      "cell_type": "markdown",
      "metadata": {
        "id": "K5LVir0Yk0Ed"
      },
      "source": [
        "List six facts that you found interesting about Boolean SAT in these articles:\n",
        "\n",
        "https://cacm.acm.org/magazines/2009/8/34498-boolean-satisfiability-from-theoretical-hardness-to-practical-success/fulltext\n",
        "\n",
        "and\n",
        "\n",
        "https://en.wikipedia.org/wiki/Boolean_satisfiability_problem\n",
        "\n",
        "Anything that interested you is fine – theoretical or practical. Please write 1-2 sentences per point that interested you."
      ]
    },
    {
      "cell_type": "markdown",
      "metadata": {
        "id": "6j3A7t_5lMIF"
      },
      "source": [
        "The term overconstrained refers to a problem with no solution. Such solutions have constraints that contradict each other.\n",
        "\n",
        "Problems with nonboolean variables can be expressed with simple logic. These solutions look very clever and usually involve describing the equality or inequality of variables.\n",
        "\n",
        "When asking about \"eventually\" is s useful to limit the time to a specific number of steps. That way, there is a definite answer that does not depend on a program finishing. Jove does this to avoid the halting problem.\n",
        "\n",
        "SAT was the first known NP-complete problem. All other NP-complete problems can therefore be traced to the SAT problem at the root.\n",
        "\n",
        "NP-completeness only concerns the worst-case of an algorithm. There are known ways of solving NP-complete problems that are usually more efficient.\n",
        "\n",
        "Subsets of SAT are in P, but the entire SAT set is considered NP-complete. If the entire set can be partitioned into P and NP-hard or NP-complete, then it might be easier to organize a solution to the P VS NP problem."
      ]
    }
  ]
}