{
  "nbformat": 4,
  "nbformat_minor": 0,
  "metadata": {
    "colab": {
      "name": "14_1_My_Final_Grade_Claim_for_W21.ipynb",
      "provenance": [],
      "authorship_tag": "ABX9TyN4WSM+uTazK/5hDke+FK5i",
      "include_colab_link": true
    },
    "kernelspec": {
      "name": "python3",
      "display_name": "Python 3"
    },
    "language_info": {
      "name": "python"
    }
  },
  "cells": [
    {
      "cell_type": "markdown",
      "metadata": {
        "id": "view-in-github",
        "colab_type": "text"
      },
      "source": [
        "<a href=\"https://colab.research.google.com/github/jgibbons94/cse480-notebooks/blob/master/14_1_My_Final_Grade_Claim_for_W21.ipynb\" target=\"_parent\"><img src=\"https://colab.research.google.com/assets/colab-badge.svg\" alt=\"Open In Colab\"/></a>"
      ]
    },
    {
      "cell_type": "markdown",
      "metadata": {
        "id": "0CoD7cbwUP36"
      },
      "source": [
        ""
      ]
    },
    {
      "cell_type": "markdown",
      "metadata": {
        "id": "zBvv0y1xVB3S"
      },
      "source": [
        "[Evidence 1 - Exercise 15.2.3.4](https://colab.research.google.com/github/jgibbons94/cse480-notebooks/blob/master/10_2_Ponder_and_Prove_the_Post_Correspondence_Problem.ipynb#scrollTo=REUDobAFUJve)"
      ]
    },
    {
      "cell_type": "markdown",
      "metadata": {
        "id": "mAFHn_-CVBtS"
      },
      "source": [
        "[Evidence 2 - Ponder and Prove 12_1](https://colab.research.google.com/github/jgibbons94/cse480-notebooks/blob/master/12_1_Ponder_and_Prove_Binary_Decision_Diagrams.ipynb#scrollTo=4NApzKhgHFbw)"
      ]
    },
    {
      "cell_type": "markdown",
      "metadata": {
        "id": "6LwDkiAzVcxT"
      },
      "source": [
        "##Evidence of A"
      ]
    },
    {
      "cell_type": "markdown",
      "metadata": {
        "id": "7IDftG6TVNc9"
      },
      "source": [
        "Evidence of most of the following can be found on the group chat.\n",
        "*   I attempted to host a help lab on March 2 and invited all students in the DM2, Clojure, and Computational Theory chats. Unfortunately, nobody showed up.\n",
        "*   On March 5, I pondered the size of the largest alphabet and found a contradiction. \n",
        "*   On March 10, I asked a question comparing the Petersen Graph with PCP.\n",
        "*   On March 12, I looked up a video to try to understand an assignment.\n",
        "*   On During the first three weeks of March, I tried to learn about quantum computing. This led me to ask questions about computational theory from a quantum computing perspective. I even looked up videos about how quantum computing worked. I don't quite understand how it is useful, but at least I understand how it works and its limitations a little better.\n",
        "*   On March 19, I asked if some solutions to NP-Complete problems are not brute force. I wanted to find examples where an NP-Complete pattern is solved in exponential time but not with a brute force algorithm.\n",
        "*   On March 20, I met with someone to discuss my senior project. In preparation, I put together a description modeling how the project would work.\n",
        "*   On March 23, I tried to convince a DM2 student to reconsider their decision to drop the class with just two weeks remaining.\n",
        "*   On March 23, I helped Bro. Neff with a git-related problem.\n",
        "*   Throughout the week of March 22, I prepared for my senior project by looking up concepts in game theory. I found out a lot of the games studied in game theory are relevant to computational theory. \n",
        "*   On March 26, I found videos about UNIX that mentioned the application of computational theory in its design.\n",
        "*   On March 27, I asked about the complexity class of training a neural network and generated a discussion on that topic.\n",
        "*   On March 29, I looked up videos explaining lambda calculus.\n",
        "*   On March 29, I looked up if there is a book about computational theory and lambda calculus by an author with a particularly interesting way of explaining mathematics. I did not find any such book, but I found an interesting book about complex analysis.\n",
        "*   On April 1, I helped a DM2 student with a git-related problem.\n",
        "*   On April 2, I asked questions about Monads. I found several videos that try to explain them, including one that pointed me in the direction of category theory. This led me to ask someone I know with a master's degree in mathematics about category theory and how it is related to monads and monoids.\n",
        "\n"
      ]
    },
    {
      "cell_type": "code",
      "metadata": {
        "id": "jMnS7QrXXU5k"
      },
      "source": [
        ""
      ],
      "execution_count": null,
      "outputs": []
    }
  ]
}